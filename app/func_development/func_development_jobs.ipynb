{
 "cells": [
  {
   "cell_type": "code",
   "execution_count": 1,
   "metadata": {},
   "outputs": [],
   "source": [
    "import pandas as pd\n",
    "import _processing_functions"
   ]
  },
  {
   "cell_type": "code",
   "execution_count": 2,
   "metadata": {},
   "outputs": [
    {
     "data": {
      "text/html": [
       "<div>\n",
       "<style scoped>\n",
       "    .dataframe tbody tr th:only-of-type {\n",
       "        vertical-align: middle;\n",
       "    }\n",
       "\n",
       "    .dataframe tbody tr th {\n",
       "        vertical-align: top;\n",
       "    }\n",
       "\n",
       "    .dataframe thead th {\n",
       "        text-align: right;\n",
       "    }\n",
       "</style>\n",
       "<table border=\"1\" class=\"dataframe\">\n",
       "  <thead>\n",
       "    <tr style=\"text-align: right;\">\n",
       "      <th></th>\n",
       "      <th>P_ID</th>\n",
       "      <th>run_number</th>\n",
       "      <th>time_type</th>\n",
       "      <th>event_type</th>\n",
       "      <th>timestamp</th>\n",
       "      <th>timestamp_dt</th>\n",
       "      <th>day</th>\n",
       "      <th>hour</th>\n",
       "      <th>weekday</th>\n",
       "      <th>month</th>\n",
       "      <th>qtr</th>\n",
       "      <th>callsign_group</th>\n",
       "      <th>vehicle_type</th>\n",
       "      <th>ampds_card</th>\n",
       "      <th>age</th>\n",
       "      <th>sex</th>\n",
       "      <th>hems_result</th>\n",
       "      <th>outcome</th>\n",
       "      <th>callsign</th>\n",
       "    </tr>\n",
       "  </thead>\n",
       "  <tbody>\n",
       "    <tr>\n",
       "      <th>0</th>\n",
       "      <td>1</td>\n",
       "      <td>1</td>\n",
       "      <td>71</td>\n",
       "      <td>resource_preferred_resource_group</td>\n",
       "      <td>0.0</td>\n",
       "      <td>2025-02-17 08:00:00</td>\n",
       "      <td>Mon</td>\n",
       "      <td>8</td>\n",
       "      <td>weekday</td>\n",
       "      <td>2</td>\n",
       "      <td>1</td>\n",
       "      <td>NaN</td>\n",
       "      <td>NaN</td>\n",
       "      <td>31</td>\n",
       "      <td>55.0</td>\n",
       "      <td>Male</td>\n",
       "      <td>NaN</td>\n",
       "      <td>NaN</td>\n",
       "      <td>NaN</td>\n",
       "    </tr>\n",
       "    <tr>\n",
       "      <th>1</th>\n",
       "      <td>1</td>\n",
       "      <td>1</td>\n",
       "      <td>helicopter</td>\n",
       "      <td>resource_preferred_vehicle_type</td>\n",
       "      <td>0.0</td>\n",
       "      <td>2025-02-17 08:00:00</td>\n",
       "      <td>Mon</td>\n",
       "      <td>8</td>\n",
       "      <td>weekday</td>\n",
       "      <td>2</td>\n",
       "      <td>1</td>\n",
       "      <td>NaN</td>\n",
       "      <td>NaN</td>\n",
       "      <td>31</td>\n",
       "      <td>55.0</td>\n",
       "      <td>Male</td>\n",
       "      <td>NaN</td>\n",
       "      <td>NaN</td>\n",
       "      <td>NaN</td>\n",
       "    </tr>\n",
       "    <tr>\n",
       "      <th>2</th>\n",
       "      <td>1</td>\n",
       "      <td>1</td>\n",
       "      <td>Preferred resource not and available but other...</td>\n",
       "      <td>resource_preferred_outcome</td>\n",
       "      <td>0.0</td>\n",
       "      <td>2025-02-17 08:00:00</td>\n",
       "      <td>Mon</td>\n",
       "      <td>8</td>\n",
       "      <td>weekday</td>\n",
       "      <td>2</td>\n",
       "      <td>1</td>\n",
       "      <td>71.0</td>\n",
       "      <td>car</td>\n",
       "      <td>31</td>\n",
       "      <td>55.0</td>\n",
       "      <td>Male</td>\n",
       "      <td>NaN</td>\n",
       "      <td>NaN</td>\n",
       "      <td>C71</td>\n",
       "    </tr>\n",
       "    <tr>\n",
       "      <th>3</th>\n",
       "      <td>1</td>\n",
       "      <td>1</td>\n",
       "      <td>CC71</td>\n",
       "      <td>resource_use</td>\n",
       "      <td>0.0</td>\n",
       "      <td>2025-02-17 08:00:00</td>\n",
       "      <td>Mon</td>\n",
       "      <td>8</td>\n",
       "      <td>weekday</td>\n",
       "      <td>2</td>\n",
       "      <td>1</td>\n",
       "      <td>71.0</td>\n",
       "      <td>car</td>\n",
       "      <td>31</td>\n",
       "      <td>55.0</td>\n",
       "      <td>Male</td>\n",
       "      <td>NaN</td>\n",
       "      <td>NaN</td>\n",
       "      <td>C71</td>\n",
       "    </tr>\n",
       "    <tr>\n",
       "      <th>4</th>\n",
       "      <td>1</td>\n",
       "      <td>1</td>\n",
       "      <td>arrival</td>\n",
       "      <td>arrival_departure</td>\n",
       "      <td>0.0</td>\n",
       "      <td>2025-02-17 08:00:00</td>\n",
       "      <td>Mon</td>\n",
       "      <td>8</td>\n",
       "      <td>weekday</td>\n",
       "      <td>2</td>\n",
       "      <td>1</td>\n",
       "      <td>71.0</td>\n",
       "      <td>car</td>\n",
       "      <td>31</td>\n",
       "      <td>55.0</td>\n",
       "      <td>Male</td>\n",
       "      <td>NaN</td>\n",
       "      <td>NaN</td>\n",
       "      <td>C71</td>\n",
       "    </tr>\n",
       "    <tr>\n",
       "      <th>...</th>\n",
       "      <td>...</td>\n",
       "      <td>...</td>\n",
       "      <td>...</td>\n",
       "      <td>...</td>\n",
       "      <td>...</td>\n",
       "      <td>...</td>\n",
       "      <td>...</td>\n",
       "      <td>...</td>\n",
       "      <td>...</td>\n",
       "      <td>...</td>\n",
       "      <td>...</td>\n",
       "      <td>...</td>\n",
       "      <td>...</td>\n",
       "      <td>...</td>\n",
       "      <td>...</td>\n",
       "      <td>...</td>\n",
       "      <td>...</td>\n",
       "      <td>...</td>\n",
       "      <td>...</td>\n",
       "    </tr>\n",
       "    <tr>\n",
       "      <th>415656</th>\n",
       "      <td>1725</td>\n",
       "      <td>9</td>\n",
       "      <td>HEMS call start</td>\n",
       "      <td>queue</td>\n",
       "      <td>525540.0</td>\n",
       "      <td>2026-02-17 07:00:00</td>\n",
       "      <td>Tue</td>\n",
       "      <td>7</td>\n",
       "      <td>weekday</td>\n",
       "      <td>2</td>\n",
       "      <td>1</td>\n",
       "      <td>70.0</td>\n",
       "      <td>helicopter</td>\n",
       "      <td>17</td>\n",
       "      <td>65.0</td>\n",
       "      <td>Male</td>\n",
       "      <td>Patient Conveyed</td>\n",
       "      <td>Airlifted</td>\n",
       "      <td>H70</td>\n",
       "    </tr>\n",
       "    <tr>\n",
       "      <th>415657</th>\n",
       "      <td>1725</td>\n",
       "      <td>9</td>\n",
       "      <td>HEMS allocated to call</td>\n",
       "      <td>queue</td>\n",
       "      <td>525565.0</td>\n",
       "      <td>2026-02-17 07:25:00</td>\n",
       "      <td>Tue</td>\n",
       "      <td>7</td>\n",
       "      <td>weekday</td>\n",
       "      <td>2</td>\n",
       "      <td>1</td>\n",
       "      <td>70.0</td>\n",
       "      <td>helicopter</td>\n",
       "      <td>17</td>\n",
       "      <td>65.0</td>\n",
       "      <td>Male</td>\n",
       "      <td>Patient Conveyed</td>\n",
       "      <td>Airlifted</td>\n",
       "      <td>H70</td>\n",
       "    </tr>\n",
       "    <tr>\n",
       "      <th>415658</th>\n",
       "      <td>1725</td>\n",
       "      <td>9</td>\n",
       "      <td>HEMS mobile</td>\n",
       "      <td>queue</td>\n",
       "      <td>525568.0</td>\n",
       "      <td>2026-02-17 07:28:00</td>\n",
       "      <td>Tue</td>\n",
       "      <td>7</td>\n",
       "      <td>weekday</td>\n",
       "      <td>2</td>\n",
       "      <td>1</td>\n",
       "      <td>70.0</td>\n",
       "      <td>helicopter</td>\n",
       "      <td>17</td>\n",
       "      <td>65.0</td>\n",
       "      <td>Male</td>\n",
       "      <td>Patient Conveyed</td>\n",
       "      <td>Airlifted</td>\n",
       "      <td>H70</td>\n",
       "    </tr>\n",
       "    <tr>\n",
       "      <th>415659</th>\n",
       "      <td>1725</td>\n",
       "      <td>9</td>\n",
       "      <td>HEMS on scene</td>\n",
       "      <td>queue</td>\n",
       "      <td>525580.0</td>\n",
       "      <td>2026-02-17 07:40:00</td>\n",
       "      <td>Tue</td>\n",
       "      <td>7</td>\n",
       "      <td>weekday</td>\n",
       "      <td>2</td>\n",
       "      <td>1</td>\n",
       "      <td>70.0</td>\n",
       "      <td>helicopter</td>\n",
       "      <td>17</td>\n",
       "      <td>65.0</td>\n",
       "      <td>Male</td>\n",
       "      <td>Patient Conveyed</td>\n",
       "      <td>Airlifted</td>\n",
       "      <td>H70</td>\n",
       "    </tr>\n",
       "    <tr>\n",
       "      <th>415660</th>\n",
       "      <td>1725</td>\n",
       "      <td>9</td>\n",
       "      <td>HEMS leaving scene</td>\n",
       "      <td>queue</td>\n",
       "      <td>525587.0</td>\n",
       "      <td>2026-02-17 07:47:00</td>\n",
       "      <td>Tue</td>\n",
       "      <td>7</td>\n",
       "      <td>weekday</td>\n",
       "      <td>2</td>\n",
       "      <td>1</td>\n",
       "      <td>70.0</td>\n",
       "      <td>helicopter</td>\n",
       "      <td>17</td>\n",
       "      <td>65.0</td>\n",
       "      <td>Male</td>\n",
       "      <td>Patient Conveyed</td>\n",
       "      <td>Airlifted</td>\n",
       "      <td>H70</td>\n",
       "    </tr>\n",
       "  </tbody>\n",
       "</table>\n",
       "<p>415661 rows × 19 columns</p>\n",
       "</div>"
      ],
      "text/plain": [
       "        P_ID  run_number                                          time_type  \\\n",
       "0          1           1                                                 71   \n",
       "1          1           1                                         helicopter   \n",
       "2          1           1  Preferred resource not and available but other...   \n",
       "3          1           1                                               CC71   \n",
       "4          1           1                                            arrival   \n",
       "...      ...         ...                                                ...   \n",
       "415656  1725           9                                    HEMS call start   \n",
       "415657  1725           9                             HEMS allocated to call   \n",
       "415658  1725           9                                        HEMS mobile   \n",
       "415659  1725           9                                      HEMS on scene   \n",
       "415660  1725           9                                 HEMS leaving scene   \n",
       "\n",
       "                               event_type  timestamp         timestamp_dt  \\\n",
       "0       resource_preferred_resource_group        0.0  2025-02-17 08:00:00   \n",
       "1         resource_preferred_vehicle_type        0.0  2025-02-17 08:00:00   \n",
       "2              resource_preferred_outcome        0.0  2025-02-17 08:00:00   \n",
       "3                            resource_use        0.0  2025-02-17 08:00:00   \n",
       "4                       arrival_departure        0.0  2025-02-17 08:00:00   \n",
       "...                                   ...        ...                  ...   \n",
       "415656                              queue   525540.0  2026-02-17 07:00:00   \n",
       "415657                              queue   525565.0  2026-02-17 07:25:00   \n",
       "415658                              queue   525568.0  2026-02-17 07:28:00   \n",
       "415659                              queue   525580.0  2026-02-17 07:40:00   \n",
       "415660                              queue   525587.0  2026-02-17 07:47:00   \n",
       "\n",
       "        day  hour  weekday  month  qtr  callsign_group vehicle_type  \\\n",
       "0       Mon     8  weekday      2    1             NaN          NaN   \n",
       "1       Mon     8  weekday      2    1             NaN          NaN   \n",
       "2       Mon     8  weekday      2    1            71.0          car   \n",
       "3       Mon     8  weekday      2    1            71.0          car   \n",
       "4       Mon     8  weekday      2    1            71.0          car   \n",
       "...     ...   ...      ...    ...  ...             ...          ...   \n",
       "415656  Tue     7  weekday      2    1            70.0   helicopter   \n",
       "415657  Tue     7  weekday      2    1            70.0   helicopter   \n",
       "415658  Tue     7  weekday      2    1            70.0   helicopter   \n",
       "415659  Tue     7  weekday      2    1            70.0   helicopter   \n",
       "415660  Tue     7  weekday      2    1            70.0   helicopter   \n",
       "\n",
       "        ampds_card   age   sex       hems_result    outcome callsign  \n",
       "0               31  55.0  Male               NaN        NaN      NaN  \n",
       "1               31  55.0  Male               NaN        NaN      NaN  \n",
       "2               31  55.0  Male               NaN        NaN      C71  \n",
       "3               31  55.0  Male               NaN        NaN      C71  \n",
       "4               31  55.0  Male               NaN        NaN      C71  \n",
       "...            ...   ...   ...               ...        ...      ...  \n",
       "415656          17  65.0  Male  Patient Conveyed  Airlifted      H70  \n",
       "415657          17  65.0  Male  Patient Conveyed  Airlifted      H70  \n",
       "415658          17  65.0  Male  Patient Conveyed  Airlifted      H70  \n",
       "415659          17  65.0  Male  Patient Conveyed  Airlifted      H70  \n",
       "415660          17  65.0  Male  Patient Conveyed  Airlifted      H70  \n",
       "\n",
       "[415661 rows x 19 columns]"
      ]
     },
     "execution_count": 2,
     "metadata": {},
     "output_type": "execute_result"
    }
   ],
   "source": [
    "path=\"../data/run_results.csv\"\n",
    "params_path=\"../data/run_params_used.csv\"\n",
    "\n",
    "df = pd.read_csv(path)\n",
    "params_df = pd.read_csv(params_path)\n",
    "n_runs = len(df[\"run_number\"].unique())\n",
    "\n",
    "# Add callsign column if not already present in the dataframe passed to the function\n",
    "if 'callsign' not in df.columns:\n",
    "    df = _processing_functions.make_callsign_column(df)\n",
    "\n",
    "df"
   ]
  },
  {
   "cell_type": "code",
   "execution_count": 3,
   "metadata": {},
   "outputs": [],
   "source": [
    "# let's make the decision to limit all calculations to jobs that started after the warm-up period had elapsed"
   ]
  },
  {
   "cell_type": "code",
   "execution_count": null,
   "metadata": {},
   "outputs": [],
   "source": []
  },
  {
   "cell_type": "code",
   "execution_count": 4,
   "metadata": {},
   "outputs": [
    {
     "data": {
      "text/html": [
       "<div>\n",
       "<style scoped>\n",
       "    .dataframe tbody tr th:only-of-type {\n",
       "        vertical-align: middle;\n",
       "    }\n",
       "\n",
       "    .dataframe tbody tr th {\n",
       "        vertical-align: top;\n",
       "    }\n",
       "\n",
       "    .dataframe thead th {\n",
       "        text-align: right;\n",
       "    }\n",
       "</style>\n",
       "<table border=\"1\" class=\"dataframe\">\n",
       "  <thead>\n",
       "    <tr style=\"text-align: right;\">\n",
       "      <th></th>\n",
       "      <th>P_ID</th>\n",
       "      <th>run_number</th>\n",
       "      <th>timestamp</th>\n",
       "      <th>timestamp_dt</th>\n",
       "      <th>day</th>\n",
       "      <th>hour</th>\n",
       "      <th>weekday</th>\n",
       "      <th>month</th>\n",
       "      <th>qtr</th>\n",
       "      <th>callsign_group</th>\n",
       "      <th>vehicle_type</th>\n",
       "      <th>ampds_card</th>\n",
       "      <th>age</th>\n",
       "      <th>sex</th>\n",
       "      <th>hems_result</th>\n",
       "      <th>outcome</th>\n",
       "      <th>callsign</th>\n",
       "    </tr>\n",
       "  </thead>\n",
       "  <tbody>\n",
       "    <tr>\n",
       "      <th>4</th>\n",
       "      <td>1</td>\n",
       "      <td>1</td>\n",
       "      <td>0.0</td>\n",
       "      <td>2025-02-17 08:00:00</td>\n",
       "      <td>Mon</td>\n",
       "      <td>8</td>\n",
       "      <td>weekday</td>\n",
       "      <td>2</td>\n",
       "      <td>1</td>\n",
       "      <td>71.0</td>\n",
       "      <td>car</td>\n",
       "      <td>31</td>\n",
       "      <td>55.0</td>\n",
       "      <td>Male</td>\n",
       "      <td>Patient Treated (not conveyed)</td>\n",
       "      <td>Deceased</td>\n",
       "      <td>C71</td>\n",
       "    </tr>\n",
       "    <tr>\n",
       "      <th>10</th>\n",
       "      <td>2</td>\n",
       "      <td>1</td>\n",
       "      <td>180.0</td>\n",
       "      <td>2025-02-17 11:00:00</td>\n",
       "      <td>Mon</td>\n",
       "      <td>11</td>\n",
       "      <td>weekday</td>\n",
       "      <td>2</td>\n",
       "      <td>1</td>\n",
       "      <td>71.0</td>\n",
       "      <td>car</td>\n",
       "      <td>29</td>\n",
       "      <td>71.0</td>\n",
       "      <td>Female</td>\n",
       "      <td>Stand Down En Route</td>\n",
       "      <td>Unknown</td>\n",
       "      <td>C71</td>\n",
       "    </tr>\n",
       "    <tr>\n",
       "      <th>22</th>\n",
       "      <td>3</td>\n",
       "      <td>1</td>\n",
       "      <td>1440.0</td>\n",
       "      <td>2025-02-18 08:00:00</td>\n",
       "      <td>Tue</td>\n",
       "      <td>8</td>\n",
       "      <td>weekday</td>\n",
       "      <td>2</td>\n",
       "      <td>1</td>\n",
       "      <td>70.0</td>\n",
       "      <td>car</td>\n",
       "      <td>29</td>\n",
       "      <td>13.0</td>\n",
       "      <td>Male</td>\n",
       "      <td>Stand Down En Route</td>\n",
       "      <td>Unknown</td>\n",
       "      <td>C70</td>\n",
       "    </tr>\n",
       "    <tr>\n",
       "      <th>34</th>\n",
       "      <td>4</td>\n",
       "      <td>1</td>\n",
       "      <td>2100.0</td>\n",
       "      <td>2025-02-18 19:00:00</td>\n",
       "      <td>Tue</td>\n",
       "      <td>19</td>\n",
       "      <td>weekday</td>\n",
       "      <td>2</td>\n",
       "      <td>1</td>\n",
       "      <td>70.0</td>\n",
       "      <td>car</td>\n",
       "      <td>9</td>\n",
       "      <td>73.0</td>\n",
       "      <td>Female</td>\n",
       "      <td>Stand Down En Route</td>\n",
       "      <td>Unknown</td>\n",
       "      <td>C70</td>\n",
       "    </tr>\n",
       "    <tr>\n",
       "      <th>46</th>\n",
       "      <td>5</td>\n",
       "      <td>1</td>\n",
       "      <td>2880.0</td>\n",
       "      <td>2025-02-19 08:00:00</td>\n",
       "      <td>Wed</td>\n",
       "      <td>8</td>\n",
       "      <td>weekday</td>\n",
       "      <td>2</td>\n",
       "      <td>1</td>\n",
       "      <td>70.0</td>\n",
       "      <td>car</td>\n",
       "      <td>9</td>\n",
       "      <td>51.0</td>\n",
       "      <td>Male</td>\n",
       "      <td>Patient Treated (not conveyed)</td>\n",
       "      <td>Conveyed by land without DAA</td>\n",
       "      <td>C70</td>\n",
       "    </tr>\n",
       "    <tr>\n",
       "      <th>...</th>\n",
       "      <td>...</td>\n",
       "      <td>...</td>\n",
       "      <td>...</td>\n",
       "      <td>...</td>\n",
       "      <td>...</td>\n",
       "      <td>...</td>\n",
       "      <td>...</td>\n",
       "      <td>...</td>\n",
       "      <td>...</td>\n",
       "      <td>...</td>\n",
       "      <td>...</td>\n",
       "      <td>...</td>\n",
       "      <td>...</td>\n",
       "      <td>...</td>\n",
       "      <td>...</td>\n",
       "      <td>...</td>\n",
       "      <td>...</td>\n",
       "    </tr>\n",
       "    <tr>\n",
       "      <th>415600</th>\n",
       "      <td>1721</td>\n",
       "      <td>9</td>\n",
       "      <td>524340.1</td>\n",
       "      <td>2026-02-16 11:00:06</td>\n",
       "      <td>Mon</td>\n",
       "      <td>11</td>\n",
       "      <td>weekday</td>\n",
       "      <td>2</td>\n",
       "      <td>1</td>\n",
       "      <td>NaN</td>\n",
       "      <td>NaN</td>\n",
       "      <td>30</td>\n",
       "      <td>63.0</td>\n",
       "      <td>Male</td>\n",
       "      <td>NaN</td>\n",
       "      <td>NaN</td>\n",
       "      <td>NaN</td>\n",
       "    </tr>\n",
       "    <tr>\n",
       "      <th>415616</th>\n",
       "      <td>1722</td>\n",
       "      <td>9</td>\n",
       "      <td>524880.0</td>\n",
       "      <td>2026-02-16 20:00:00</td>\n",
       "      <td>Mon</td>\n",
       "      <td>20</td>\n",
       "      <td>weekday</td>\n",
       "      <td>2</td>\n",
       "      <td>1</td>\n",
       "      <td>70.0</td>\n",
       "      <td>helicopter</td>\n",
       "      <td>30</td>\n",
       "      <td>17.0</td>\n",
       "      <td>Male</td>\n",
       "      <td>Stand Down En Route</td>\n",
       "      <td>Unknown</td>\n",
       "      <td>H70</td>\n",
       "    </tr>\n",
       "    <tr>\n",
       "      <th>415628</th>\n",
       "      <td>1723</td>\n",
       "      <td>9</td>\n",
       "      <td>525000.0</td>\n",
       "      <td>2026-02-16 22:00:00</td>\n",
       "      <td>Mon</td>\n",
       "      <td>22</td>\n",
       "      <td>weekday</td>\n",
       "      <td>2</td>\n",
       "      <td>1</td>\n",
       "      <td>70.0</td>\n",
       "      <td>helicopter</td>\n",
       "      <td>27</td>\n",
       "      <td>39.0</td>\n",
       "      <td>Male</td>\n",
       "      <td>Patient Treated (not conveyed)</td>\n",
       "      <td>Deceased</td>\n",
       "      <td>H70</td>\n",
       "    </tr>\n",
       "    <tr>\n",
       "      <th>415641</th>\n",
       "      <td>1724</td>\n",
       "      <td>9</td>\n",
       "      <td>525180.0</td>\n",
       "      <td>2026-02-17 01:00:00</td>\n",
       "      <td>Tue</td>\n",
       "      <td>1</td>\n",
       "      <td>weekday</td>\n",
       "      <td>2</td>\n",
       "      <td>1</td>\n",
       "      <td>70.0</td>\n",
       "      <td>helicopter</td>\n",
       "      <td>30</td>\n",
       "      <td>89.0</td>\n",
       "      <td>Male</td>\n",
       "      <td>Patient Conveyed</td>\n",
       "      <td>Airlifted</td>\n",
       "      <td>H70</td>\n",
       "    </tr>\n",
       "    <tr>\n",
       "      <th>415655</th>\n",
       "      <td>1725</td>\n",
       "      <td>9</td>\n",
       "      <td>525540.0</td>\n",
       "      <td>2026-02-17 07:00:00</td>\n",
       "      <td>Tue</td>\n",
       "      <td>7</td>\n",
       "      <td>weekday</td>\n",
       "      <td>2</td>\n",
       "      <td>1</td>\n",
       "      <td>70.0</td>\n",
       "      <td>helicopter</td>\n",
       "      <td>17</td>\n",
       "      <td>65.0</td>\n",
       "      <td>Male</td>\n",
       "      <td>Patient Conveyed</td>\n",
       "      <td>Airlifted</td>\n",
       "      <td>H70</td>\n",
       "    </tr>\n",
       "  </tbody>\n",
       "</table>\n",
       "<p>33712 rows × 17 columns</p>\n",
       "</div>"
      ],
      "text/plain": [
       "        P_ID  run_number  timestamp         timestamp_dt  day  hour  weekday  \\\n",
       "4          1           1        0.0  2025-02-17 08:00:00  Mon     8  weekday   \n",
       "10         2           1      180.0  2025-02-17 11:00:00  Mon    11  weekday   \n",
       "22         3           1     1440.0  2025-02-18 08:00:00  Tue     8  weekday   \n",
       "34         4           1     2100.0  2025-02-18 19:00:00  Tue    19  weekday   \n",
       "46         5           1     2880.0  2025-02-19 08:00:00  Wed     8  weekday   \n",
       "...      ...         ...        ...                  ...  ...   ...      ...   \n",
       "415600  1721           9   524340.1  2026-02-16 11:00:06  Mon    11  weekday   \n",
       "415616  1722           9   524880.0  2026-02-16 20:00:00  Mon    20  weekday   \n",
       "415628  1723           9   525000.0  2026-02-16 22:00:00  Mon    22  weekday   \n",
       "415641  1724           9   525180.0  2026-02-17 01:00:00  Tue     1  weekday   \n",
       "415655  1725           9   525540.0  2026-02-17 07:00:00  Tue     7  weekday   \n",
       "\n",
       "        month  qtr  callsign_group vehicle_type  ampds_card   age     sex  \\\n",
       "4           2    1            71.0          car          31  55.0    Male   \n",
       "10          2    1            71.0          car          29  71.0  Female   \n",
       "22          2    1            70.0          car          29  13.0    Male   \n",
       "34          2    1            70.0          car           9  73.0  Female   \n",
       "46          2    1            70.0          car           9  51.0    Male   \n",
       "...       ...  ...             ...          ...         ...   ...     ...   \n",
       "415600      2    1             NaN          NaN          30  63.0    Male   \n",
       "415616      2    1            70.0   helicopter          30  17.0    Male   \n",
       "415628      2    1            70.0   helicopter          27  39.0    Male   \n",
       "415641      2    1            70.0   helicopter          30  89.0    Male   \n",
       "415655      2    1            70.0   helicopter          17  65.0    Male   \n",
       "\n",
       "                           hems_result                       outcome callsign  \n",
       "4       Patient Treated (not conveyed)                      Deceased      C71  \n",
       "10                 Stand Down En Route                       Unknown      C71  \n",
       "22                 Stand Down En Route                       Unknown      C70  \n",
       "34                 Stand Down En Route                       Unknown      C70  \n",
       "46      Patient Treated (not conveyed)  Conveyed by land without DAA      C70  \n",
       "...                                ...                           ...      ...  \n",
       "415600                             NaN                           NaN      NaN  \n",
       "415616             Stand Down En Route                       Unknown      H70  \n",
       "415628  Patient Treated (not conveyed)                      Deceased      H70  \n",
       "415641                Patient Conveyed                     Airlifted      H70  \n",
       "415655                Patient Conveyed                     Airlifted      H70  \n",
       "\n",
       "[33712 rows x 17 columns]"
      ]
     },
     "execution_count": 4,
     "metadata": {},
     "output_type": "execute_result"
    }
   ],
   "source": [
    "df[\"hems_result\"] = df.groupby(['P_ID', 'run_number']).hems_result.bfill()\n",
    "df[\"outcome\"] = df.groupby(['P_ID', 'run_number']).outcome.bfill()\n",
    "\n",
    "\n",
    "call_df = df[df[\"time_type\"] == \"arrival\"].drop(columns=['time_type', \"event_type\"])\n",
    "call_df"
   ]
  },
  {
   "cell_type": "markdown",
   "metadata": {},
   "source": [
    "## Explore total arrivals per run"
   ]
  },
  {
   "cell_type": "code",
   "execution_count": 5,
   "metadata": {},
   "outputs": [
    {
     "data": {
      "text/html": [
       "<div>\n",
       "<style scoped>\n",
       "    .dataframe tbody tr th:only-of-type {\n",
       "        vertical-align: middle;\n",
       "    }\n",
       "\n",
       "    .dataframe tbody tr th {\n",
       "        vertical-align: top;\n",
       "    }\n",
       "\n",
       "    .dataframe thead th {\n",
       "        text-align: right;\n",
       "    }\n",
       "</style>\n",
       "<table border=\"1\" class=\"dataframe\">\n",
       "  <thead>\n",
       "    <tr style=\"text-align: right;\">\n",
       "      <th></th>\n",
       "      <th>run_number</th>\n",
       "      <th>P_ID</th>\n",
       "    </tr>\n",
       "  </thead>\n",
       "  <tbody>\n",
       "    <tr>\n",
       "      <th>0</th>\n",
       "      <td>1</td>\n",
       "      <td>1696</td>\n",
       "    </tr>\n",
       "    <tr>\n",
       "      <th>1</th>\n",
       "      <td>2</td>\n",
       "      <td>1636</td>\n",
       "    </tr>\n",
       "    <tr>\n",
       "      <th>2</th>\n",
       "      <td>3</td>\n",
       "      <td>1659</td>\n",
       "    </tr>\n",
       "    <tr>\n",
       "      <th>3</th>\n",
       "      <td>4</td>\n",
       "      <td>1690</td>\n",
       "    </tr>\n",
       "    <tr>\n",
       "      <th>4</th>\n",
       "      <td>5</td>\n",
       "      <td>1663</td>\n",
       "    </tr>\n",
       "    <tr>\n",
       "      <th>5</th>\n",
       "      <td>6</td>\n",
       "      <td>1650</td>\n",
       "    </tr>\n",
       "    <tr>\n",
       "      <th>6</th>\n",
       "      <td>7</td>\n",
       "      <td>1748</td>\n",
       "    </tr>\n",
       "    <tr>\n",
       "      <th>7</th>\n",
       "      <td>8</td>\n",
       "      <td>1699</td>\n",
       "    </tr>\n",
       "    <tr>\n",
       "      <th>8</th>\n",
       "      <td>9</td>\n",
       "      <td>1725</td>\n",
       "    </tr>\n",
       "    <tr>\n",
       "      <th>9</th>\n",
       "      <td>10</td>\n",
       "      <td>1741</td>\n",
       "    </tr>\n",
       "    <tr>\n",
       "      <th>10</th>\n",
       "      <td>11</td>\n",
       "      <td>1691</td>\n",
       "    </tr>\n",
       "    <tr>\n",
       "      <th>11</th>\n",
       "      <td>12</td>\n",
       "      <td>1615</td>\n",
       "    </tr>\n",
       "    <tr>\n",
       "      <th>12</th>\n",
       "      <td>13</td>\n",
       "      <td>1675</td>\n",
       "    </tr>\n",
       "    <tr>\n",
       "      <th>13</th>\n",
       "      <td>14</td>\n",
       "      <td>1687</td>\n",
       "    </tr>\n",
       "    <tr>\n",
       "      <th>14</th>\n",
       "      <td>15</td>\n",
       "      <td>1706</td>\n",
       "    </tr>\n",
       "    <tr>\n",
       "      <th>15</th>\n",
       "      <td>16</td>\n",
       "      <td>1622</td>\n",
       "    </tr>\n",
       "    <tr>\n",
       "      <th>16</th>\n",
       "      <td>17</td>\n",
       "      <td>1704</td>\n",
       "    </tr>\n",
       "    <tr>\n",
       "      <th>17</th>\n",
       "      <td>18</td>\n",
       "      <td>1669</td>\n",
       "    </tr>\n",
       "    <tr>\n",
       "      <th>18</th>\n",
       "      <td>19</td>\n",
       "      <td>1726</td>\n",
       "    </tr>\n",
       "    <tr>\n",
       "      <th>19</th>\n",
       "      <td>20</td>\n",
       "      <td>1710</td>\n",
       "    </tr>\n",
       "  </tbody>\n",
       "</table>\n",
       "</div>"
      ],
      "text/plain": [
       "    run_number  P_ID\n",
       "0            1  1696\n",
       "1            2  1636\n",
       "2            3  1659\n",
       "3            4  1690\n",
       "4            5  1663\n",
       "5            6  1650\n",
       "6            7  1748\n",
       "7            8  1699\n",
       "8            9  1725\n",
       "9           10  1741\n",
       "10          11  1691\n",
       "11          12  1615\n",
       "12          13  1675\n",
       "13          14  1687\n",
       "14          15  1706\n",
       "15          16  1622\n",
       "16          17  1704\n",
       "17          18  1669\n",
       "18          19  1726\n",
       "19          20  1710"
      ]
     },
     "execution_count": 5,
     "metadata": {},
     "output_type": "execute_result"
    }
   ],
   "source": [
    "call_df.groupby('run_number')[['P_ID']].count().reset_index()"
   ]
  },
  {
   "cell_type": "markdown",
   "metadata": {},
   "source": [
    "## Explore average arrivals per run"
   ]
  },
  {
   "cell_type": "code",
   "execution_count": 6,
   "metadata": {},
   "outputs": [
    {
     "data": {
      "text/plain": [
       "1685.6"
      ]
     },
     "execution_count": 6,
     "metadata": {},
     "output_type": "execute_result"
    }
   ],
   "source": [
    "call_df.groupby('run_number')[['P_ID']].count().reset_index().mean()['P_ID'].round(2)"
   ]
  },
  {
   "cell_type": "markdown",
   "metadata": {},
   "source": [
    "# Explore calls per hour"
   ]
  },
  {
   "cell_type": "code",
   "execution_count": 7,
   "metadata": {},
   "outputs": [
    {
     "data": {
      "text/html": [
       "<div>\n",
       "<style scoped>\n",
       "    .dataframe tbody tr th:only-of-type {\n",
       "        vertical-align: middle;\n",
       "    }\n",
       "\n",
       "    .dataframe tbody tr th {\n",
       "        vertical-align: top;\n",
       "    }\n",
       "\n",
       "    .dataframe thead th {\n",
       "        text-align: right;\n",
       "    }\n",
       "</style>\n",
       "<table border=\"1\" class=\"dataframe\">\n",
       "  <thead>\n",
       "    <tr style=\"text-align: right;\">\n",
       "      <th></th>\n",
       "      <th>hour</th>\n",
       "      <th>run_number</th>\n",
       "      <th>count</th>\n",
       "    </tr>\n",
       "  </thead>\n",
       "  <tbody>\n",
       "    <tr>\n",
       "      <th>0</th>\n",
       "      <td>0</td>\n",
       "      <td>1</td>\n",
       "      <td>33</td>\n",
       "    </tr>\n",
       "    <tr>\n",
       "      <th>1</th>\n",
       "      <td>0</td>\n",
       "      <td>2</td>\n",
       "      <td>22</td>\n",
       "    </tr>\n",
       "    <tr>\n",
       "      <th>2</th>\n",
       "      <td>0</td>\n",
       "      <td>3</td>\n",
       "      <td>36</td>\n",
       "    </tr>\n",
       "    <tr>\n",
       "      <th>3</th>\n",
       "      <td>0</td>\n",
       "      <td>4</td>\n",
       "      <td>32</td>\n",
       "    </tr>\n",
       "    <tr>\n",
       "      <th>4</th>\n",
       "      <td>0</td>\n",
       "      <td>5</td>\n",
       "      <td>24</td>\n",
       "    </tr>\n",
       "    <tr>\n",
       "      <th>...</th>\n",
       "      <td>...</td>\n",
       "      <td>...</td>\n",
       "      <td>...</td>\n",
       "    </tr>\n",
       "    <tr>\n",
       "      <th>438</th>\n",
       "      <td>23</td>\n",
       "      <td>16</td>\n",
       "      <td>44</td>\n",
       "    </tr>\n",
       "    <tr>\n",
       "      <th>439</th>\n",
       "      <td>23</td>\n",
       "      <td>17</td>\n",
       "      <td>43</td>\n",
       "    </tr>\n",
       "    <tr>\n",
       "      <th>440</th>\n",
       "      <td>23</td>\n",
       "      <td>18</td>\n",
       "      <td>48</td>\n",
       "    </tr>\n",
       "    <tr>\n",
       "      <th>441</th>\n",
       "      <td>23</td>\n",
       "      <td>19</td>\n",
       "      <td>27</td>\n",
       "    </tr>\n",
       "    <tr>\n",
       "      <th>442</th>\n",
       "      <td>23</td>\n",
       "      <td>20</td>\n",
       "      <td>41</td>\n",
       "    </tr>\n",
       "  </tbody>\n",
       "</table>\n",
       "<p>443 rows × 3 columns</p>\n",
       "</div>"
      ],
      "text/plain": [
       "     hour  run_number  count\n",
       "0       0           1     33\n",
       "1       0           2     22\n",
       "2       0           3     36\n",
       "3       0           4     32\n",
       "4       0           5     24\n",
       "..    ...         ...    ...\n",
       "438    23          16     44\n",
       "439    23          17     43\n",
       "440    23          18     48\n",
       "441    23          19     27\n",
       "442    23          20     41\n",
       "\n",
       "[443 rows x 3 columns]"
      ]
     },
     "execution_count": 7,
     "metadata": {},
     "output_type": "execute_result"
    }
   ],
   "source": [
    "hourly_calls_per_run = call_df.groupby(['hour', 'run_number'])[['P_ID']].count().reset_index().rename(columns={\"P_ID\": \"count\"})\n",
    "hourly_calls_per_run"
   ]
  },
  {
   "cell_type": "code",
   "execution_count": 8,
   "metadata": {},
   "outputs": [],
   "source": [
    "import plotly.express as px"
   ]
  },
  {
   "cell_type": "code",
   "execution_count": 9,
   "metadata": {},
   "outputs": [
    {
     "data": {
      "application/vnd.plotly.v1+json": {
       "config": {
        "plotlyServerURL": "https://plot.ly"
       },
       "data": [
        {
         "alignmentgroup": "True",
         "hovertemplate": "hour=%{x}<br>count=%{y}<extra></extra>",
         "legendgroup": "",
         "marker": {
          "color": "#636efa"
         },
         "name": "",
         "notched": false,
         "offsetgroup": "",
         "orientation": "v",
         "showlegend": false,
         "type": "box",
         "x": [
          0,
          0,
          0,
          0,
          0,
          0,
          0,
          0,
          0,
          0,
          0,
          0,
          0,
          0,
          0,
          0,
          0,
          0,
          0,
          0,
          1,
          1,
          1,
          1,
          1,
          1,
          1,
          1,
          1,
          1,
          1,
          1,
          1,
          1,
          1,
          1,
          1,
          1,
          1,
          1,
          2,
          2,
          2,
          2,
          2,
          2,
          2,
          2,
          3,
          3,
          3,
          3,
          4,
          4,
          4,
          4,
          4,
          4,
          4,
          4,
          4,
          4,
          4,
          5,
          5,
          5,
          5,
          5,
          5,
          5,
          5,
          5,
          5,
          5,
          5,
          5,
          5,
          5,
          5,
          5,
          5,
          5,
          5,
          6,
          6,
          6,
          6,
          6,
          6,
          6,
          6,
          6,
          6,
          6,
          6,
          6,
          6,
          6,
          6,
          6,
          6,
          6,
          6,
          7,
          7,
          7,
          7,
          7,
          7,
          7,
          7,
          7,
          7,
          7,
          7,
          7,
          7,
          7,
          7,
          7,
          7,
          7,
          7,
          8,
          8,
          8,
          8,
          8,
          8,
          8,
          8,
          8,
          8,
          8,
          8,
          8,
          8,
          8,
          8,
          8,
          8,
          8,
          8,
          9,
          9,
          9,
          9,
          9,
          9,
          9,
          9,
          9,
          9,
          9,
          9,
          9,
          9,
          9,
          9,
          9,
          9,
          9,
          9,
          10,
          10,
          10,
          10,
          10,
          10,
          10,
          10,
          10,
          10,
          10,
          10,
          10,
          10,
          10,
          10,
          10,
          10,
          10,
          10,
          11,
          11,
          11,
          11,
          11,
          11,
          11,
          11,
          11,
          11,
          11,
          11,
          11,
          11,
          11,
          11,
          11,
          11,
          11,
          11,
          12,
          12,
          12,
          12,
          12,
          12,
          12,
          12,
          12,
          12,
          12,
          12,
          12,
          12,
          12,
          12,
          12,
          12,
          12,
          12,
          13,
          13,
          13,
          13,
          13,
          13,
          13,
          13,
          13,
          13,
          13,
          13,
          13,
          13,
          13,
          13,
          13,
          13,
          13,
          13,
          14,
          14,
          14,
          14,
          14,
          14,
          14,
          14,
          14,
          14,
          14,
          14,
          14,
          14,
          14,
          14,
          14,
          14,
          14,
          14,
          15,
          15,
          15,
          15,
          15,
          15,
          15,
          15,
          15,
          15,
          15,
          15,
          15,
          15,
          15,
          15,
          15,
          15,
          15,
          15,
          16,
          16,
          16,
          16,
          16,
          16,
          16,
          16,
          16,
          16,
          16,
          16,
          16,
          16,
          16,
          16,
          16,
          16,
          16,
          16,
          17,
          17,
          17,
          17,
          17,
          17,
          17,
          17,
          17,
          17,
          17,
          17,
          17,
          17,
          17,
          17,
          17,
          17,
          17,
          17,
          18,
          18,
          18,
          18,
          18,
          18,
          18,
          18,
          18,
          18,
          18,
          18,
          18,
          18,
          18,
          18,
          18,
          18,
          18,
          18,
          19,
          19,
          19,
          19,
          19,
          19,
          19,
          19,
          19,
          19,
          19,
          19,
          19,
          19,
          19,
          19,
          19,
          19,
          19,
          19,
          20,
          20,
          20,
          20,
          20,
          20,
          20,
          20,
          20,
          20,
          20,
          20,
          20,
          20,
          20,
          20,
          20,
          20,
          20,
          20,
          21,
          21,
          21,
          21,
          21,
          21,
          21,
          21,
          21,
          21,
          21,
          21,
          21,
          21,
          21,
          21,
          21,
          21,
          21,
          21,
          22,
          22,
          22,
          22,
          22,
          22,
          22,
          22,
          22,
          22,
          22,
          22,
          22,
          22,
          22,
          22,
          22,
          22,
          22,
          22,
          23,
          23,
          23,
          23,
          23,
          23,
          23,
          23,
          23,
          23,
          23,
          23,
          23,
          23,
          23,
          23,
          23,
          23,
          23,
          23
         ],
         "x0": " ",
         "xaxis": "x",
         "y": [
          33,
          22,
          36,
          32,
          24,
          30,
          22,
          29,
          26,
          32,
          33,
          22,
          25,
          36,
          27,
          31,
          30,
          30,
          22,
          31,
          6,
          12,
          10,
          18,
          13,
          10,
          7,
          16,
          14,
          10,
          9,
          12,
          11,
          12,
          11,
          15,
          12,
          16,
          18,
          20,
          1,
          1,
          1,
          1,
          1,
          1,
          2,
          1,
          1,
          1,
          1,
          1,
          4,
          1,
          1,
          2,
          2,
          1,
          1,
          1,
          1,
          1,
          1,
          7,
          7,
          2,
          6,
          7,
          6,
          4,
          6,
          5,
          4,
          8,
          4,
          4,
          4,
          2,
          7,
          2,
          4,
          1,
          5,
          9,
          10,
          9,
          15,
          7,
          4,
          12,
          11,
          16,
          9,
          10,
          6,
          14,
          10,
          7,
          9,
          8,
          4,
          8,
          19,
          46,
          45,
          53,
          56,
          51,
          35,
          51,
          44,
          50,
          49,
          51,
          34,
          31,
          50,
          41,
          47,
          46,
          42,
          45,
          52,
          92,
          68,
          80,
          67,
          90,
          70,
          70,
          81,
          76,
          92,
          94,
          63,
          81,
          75,
          77,
          78,
          73,
          66,
          89,
          80,
          118,
          119,
          122,
          84,
          113,
          111,
          108,
          106,
          105,
          117,
          101,
          118,
          118,
          112,
          123,
          99,
          98,
          130,
          112,
          99,
          135,
          149,
          126,
          148,
          119,
          133,
          162,
          166,
          139,
          150,
          145,
          127,
          128,
          165,
          139,
          151,
          141,
          175,
          151,
          159,
          146,
          153,
          159,
          151,
          160,
          148,
          153,
          146,
          164,
          150,
          161,
          150,
          144,
          155,
          174,
          157,
          167,
          153,
          158,
          148,
          128,
          128,
          157,
          136,
          158,
          145,
          154,
          168,
          169,
          163,
          150,
          156,
          159,
          144,
          155,
          148,
          160,
          153,
          152,
          141,
          106,
          123,
          129,
          119,
          122,
          128,
          133,
          115,
          133,
          142,
          144,
          135,
          116,
          144,
          142,
          125,
          131,
          103,
          136,
          128,
          126,
          119,
          116,
          155,
          111,
          103,
          115,
          139,
          126,
          123,
          145,
          125,
          133,
          99,
          141,
          97,
          136,
          126,
          132,
          136,
          147,
          140,
          125,
          140,
          141,
          135,
          159,
          140,
          139,
          143,
          144,
          122,
          139,
          123,
          123,
          126,
          123,
          136,
          163,
          131,
          119,
          103,
          108,
          119,
          107,
          124,
          134,
          93,
          107,
          96,
          98,
          101,
          94,
          121,
          105,
          121,
          114,
          100,
          112,
          103,
          98,
          85,
          87,
          100,
          83,
          91,
          78,
          72,
          113,
          91,
          93,
          85,
          102,
          86,
          92,
          95,
          107,
          78,
          99,
          85,
          74,
          78,
          74,
          75,
          79,
          80,
          84,
          83,
          74,
          83,
          64,
          70,
          78,
          64,
          61,
          67,
          73,
          82,
          72,
          75,
          73,
          70,
          63,
          74,
          74,
          78,
          76,
          79,
          64,
          73,
          69,
          68,
          96,
          81,
          81,
          67,
          85,
          79,
          72,
          77,
          76,
          64,
          59,
          62,
          72,
          57,
          84,
          62,
          62,
          64,
          60,
          63,
          73,
          71,
          55,
          59,
          62,
          50,
          73,
          77,
          49,
          49,
          49,
          47,
          49,
          57,
          43,
          49,
          56,
          66,
          32,
          53,
          44,
          38,
          45,
          40,
          42,
          48,
          44,
          57,
          48,
          42,
          54,
          43,
          43,
          51,
          52,
          44,
          48,
          40,
          41,
          57,
          41,
          49,
          58,
          38,
          49,
          46,
          39,
          44,
          60,
          46,
          39,
          42,
          38,
          52,
          45,
          48,
          39,
          44,
          37,
          43,
          44,
          45,
          45,
          44,
          43,
          48,
          27,
          41
         ],
         "y0": " ",
         "yaxis": "y"
        }
       ],
       "layout": {
        "boxmode": "group",
        "legend": {
         "tracegroupgap": 0
        },
        "margin": {
         "t": 60
        },
        "template": {
         "data": {
          "bar": [
           {
            "error_x": {
             "color": "#2a3f5f"
            },
            "error_y": {
             "color": "#2a3f5f"
            },
            "marker": {
             "line": {
              "color": "#E5ECF6",
              "width": 0.5
             },
             "pattern": {
              "fillmode": "overlay",
              "size": 10,
              "solidity": 0.2
             }
            },
            "type": "bar"
           }
          ],
          "barpolar": [
           {
            "marker": {
             "line": {
              "color": "#E5ECF6",
              "width": 0.5
             },
             "pattern": {
              "fillmode": "overlay",
              "size": 10,
              "solidity": 0.2
             }
            },
            "type": "barpolar"
           }
          ],
          "carpet": [
           {
            "aaxis": {
             "endlinecolor": "#2a3f5f",
             "gridcolor": "white",
             "linecolor": "white",
             "minorgridcolor": "white",
             "startlinecolor": "#2a3f5f"
            },
            "baxis": {
             "endlinecolor": "#2a3f5f",
             "gridcolor": "white",
             "linecolor": "white",
             "minorgridcolor": "white",
             "startlinecolor": "#2a3f5f"
            },
            "type": "carpet"
           }
          ],
          "choropleth": [
           {
            "colorbar": {
             "outlinewidth": 0,
             "ticks": ""
            },
            "type": "choropleth"
           }
          ],
          "contour": [
           {
            "colorbar": {
             "outlinewidth": 0,
             "ticks": ""
            },
            "colorscale": [
             [
              0,
              "#0d0887"
             ],
             [
              0.1111111111111111,
              "#46039f"
             ],
             [
              0.2222222222222222,
              "#7201a8"
             ],
             [
              0.3333333333333333,
              "#9c179e"
             ],
             [
              0.4444444444444444,
              "#bd3786"
             ],
             [
              0.5555555555555556,
              "#d8576b"
             ],
             [
              0.6666666666666666,
              "#ed7953"
             ],
             [
              0.7777777777777778,
              "#fb9f3a"
             ],
             [
              0.8888888888888888,
              "#fdca26"
             ],
             [
              1,
              "#f0f921"
             ]
            ],
            "type": "contour"
           }
          ],
          "contourcarpet": [
           {
            "colorbar": {
             "outlinewidth": 0,
             "ticks": ""
            },
            "type": "contourcarpet"
           }
          ],
          "heatmap": [
           {
            "colorbar": {
             "outlinewidth": 0,
             "ticks": ""
            },
            "colorscale": [
             [
              0,
              "#0d0887"
             ],
             [
              0.1111111111111111,
              "#46039f"
             ],
             [
              0.2222222222222222,
              "#7201a8"
             ],
             [
              0.3333333333333333,
              "#9c179e"
             ],
             [
              0.4444444444444444,
              "#bd3786"
             ],
             [
              0.5555555555555556,
              "#d8576b"
             ],
             [
              0.6666666666666666,
              "#ed7953"
             ],
             [
              0.7777777777777778,
              "#fb9f3a"
             ],
             [
              0.8888888888888888,
              "#fdca26"
             ],
             [
              1,
              "#f0f921"
             ]
            ],
            "type": "heatmap"
           }
          ],
          "heatmapgl": [
           {
            "colorbar": {
             "outlinewidth": 0,
             "ticks": ""
            },
            "colorscale": [
             [
              0,
              "#0d0887"
             ],
             [
              0.1111111111111111,
              "#46039f"
             ],
             [
              0.2222222222222222,
              "#7201a8"
             ],
             [
              0.3333333333333333,
              "#9c179e"
             ],
             [
              0.4444444444444444,
              "#bd3786"
             ],
             [
              0.5555555555555556,
              "#d8576b"
             ],
             [
              0.6666666666666666,
              "#ed7953"
             ],
             [
              0.7777777777777778,
              "#fb9f3a"
             ],
             [
              0.8888888888888888,
              "#fdca26"
             ],
             [
              1,
              "#f0f921"
             ]
            ],
            "type": "heatmapgl"
           }
          ],
          "histogram": [
           {
            "marker": {
             "pattern": {
              "fillmode": "overlay",
              "size": 10,
              "solidity": 0.2
             }
            },
            "type": "histogram"
           }
          ],
          "histogram2d": [
           {
            "colorbar": {
             "outlinewidth": 0,
             "ticks": ""
            },
            "colorscale": [
             [
              0,
              "#0d0887"
             ],
             [
              0.1111111111111111,
              "#46039f"
             ],
             [
              0.2222222222222222,
              "#7201a8"
             ],
             [
              0.3333333333333333,
              "#9c179e"
             ],
             [
              0.4444444444444444,
              "#bd3786"
             ],
             [
              0.5555555555555556,
              "#d8576b"
             ],
             [
              0.6666666666666666,
              "#ed7953"
             ],
             [
              0.7777777777777778,
              "#fb9f3a"
             ],
             [
              0.8888888888888888,
              "#fdca26"
             ],
             [
              1,
              "#f0f921"
             ]
            ],
            "type": "histogram2d"
           }
          ],
          "histogram2dcontour": [
           {
            "colorbar": {
             "outlinewidth": 0,
             "ticks": ""
            },
            "colorscale": [
             [
              0,
              "#0d0887"
             ],
             [
              0.1111111111111111,
              "#46039f"
             ],
             [
              0.2222222222222222,
              "#7201a8"
             ],
             [
              0.3333333333333333,
              "#9c179e"
             ],
             [
              0.4444444444444444,
              "#bd3786"
             ],
             [
              0.5555555555555556,
              "#d8576b"
             ],
             [
              0.6666666666666666,
              "#ed7953"
             ],
             [
              0.7777777777777778,
              "#fb9f3a"
             ],
             [
              0.8888888888888888,
              "#fdca26"
             ],
             [
              1,
              "#f0f921"
             ]
            ],
            "type": "histogram2dcontour"
           }
          ],
          "mesh3d": [
           {
            "colorbar": {
             "outlinewidth": 0,
             "ticks": ""
            },
            "type": "mesh3d"
           }
          ],
          "parcoords": [
           {
            "line": {
             "colorbar": {
              "outlinewidth": 0,
              "ticks": ""
             }
            },
            "type": "parcoords"
           }
          ],
          "pie": [
           {
            "automargin": true,
            "type": "pie"
           }
          ],
          "scatter": [
           {
            "fillpattern": {
             "fillmode": "overlay",
             "size": 10,
             "solidity": 0.2
            },
            "type": "scatter"
           }
          ],
          "scatter3d": [
           {
            "line": {
             "colorbar": {
              "outlinewidth": 0,
              "ticks": ""
             }
            },
            "marker": {
             "colorbar": {
              "outlinewidth": 0,
              "ticks": ""
             }
            },
            "type": "scatter3d"
           }
          ],
          "scattercarpet": [
           {
            "marker": {
             "colorbar": {
              "outlinewidth": 0,
              "ticks": ""
             }
            },
            "type": "scattercarpet"
           }
          ],
          "scattergeo": [
           {
            "marker": {
             "colorbar": {
              "outlinewidth": 0,
              "ticks": ""
             }
            },
            "type": "scattergeo"
           }
          ],
          "scattergl": [
           {
            "marker": {
             "colorbar": {
              "outlinewidth": 0,
              "ticks": ""
             }
            },
            "type": "scattergl"
           }
          ],
          "scattermapbox": [
           {
            "marker": {
             "colorbar": {
              "outlinewidth": 0,
              "ticks": ""
             }
            },
            "type": "scattermapbox"
           }
          ],
          "scatterpolar": [
           {
            "marker": {
             "colorbar": {
              "outlinewidth": 0,
              "ticks": ""
             }
            },
            "type": "scatterpolar"
           }
          ],
          "scatterpolargl": [
           {
            "marker": {
             "colorbar": {
              "outlinewidth": 0,
              "ticks": ""
             }
            },
            "type": "scatterpolargl"
           }
          ],
          "scatterternary": [
           {
            "marker": {
             "colorbar": {
              "outlinewidth": 0,
              "ticks": ""
             }
            },
            "type": "scatterternary"
           }
          ],
          "surface": [
           {
            "colorbar": {
             "outlinewidth": 0,
             "ticks": ""
            },
            "colorscale": [
             [
              0,
              "#0d0887"
             ],
             [
              0.1111111111111111,
              "#46039f"
             ],
             [
              0.2222222222222222,
              "#7201a8"
             ],
             [
              0.3333333333333333,
              "#9c179e"
             ],
             [
              0.4444444444444444,
              "#bd3786"
             ],
             [
              0.5555555555555556,
              "#d8576b"
             ],
             [
              0.6666666666666666,
              "#ed7953"
             ],
             [
              0.7777777777777778,
              "#fb9f3a"
             ],
             [
              0.8888888888888888,
              "#fdca26"
             ],
             [
              1,
              "#f0f921"
             ]
            ],
            "type": "surface"
           }
          ],
          "table": [
           {
            "cells": {
             "fill": {
              "color": "#EBF0F8"
             },
             "line": {
              "color": "white"
             }
            },
            "header": {
             "fill": {
              "color": "#C8D4E3"
             },
             "line": {
              "color": "white"
             }
            },
            "type": "table"
           }
          ]
         },
         "layout": {
          "annotationdefaults": {
           "arrowcolor": "#2a3f5f",
           "arrowhead": 0,
           "arrowwidth": 1
          },
          "autotypenumbers": "strict",
          "coloraxis": {
           "colorbar": {
            "outlinewidth": 0,
            "ticks": ""
           }
          },
          "colorscale": {
           "diverging": [
            [
             0,
             "#8e0152"
            ],
            [
             0.1,
             "#c51b7d"
            ],
            [
             0.2,
             "#de77ae"
            ],
            [
             0.3,
             "#f1b6da"
            ],
            [
             0.4,
             "#fde0ef"
            ],
            [
             0.5,
             "#f7f7f7"
            ],
            [
             0.6,
             "#e6f5d0"
            ],
            [
             0.7,
             "#b8e186"
            ],
            [
             0.8,
             "#7fbc41"
            ],
            [
             0.9,
             "#4d9221"
            ],
            [
             1,
             "#276419"
            ]
           ],
           "sequential": [
            [
             0,
             "#0d0887"
            ],
            [
             0.1111111111111111,
             "#46039f"
            ],
            [
             0.2222222222222222,
             "#7201a8"
            ],
            [
             0.3333333333333333,
             "#9c179e"
            ],
            [
             0.4444444444444444,
             "#bd3786"
            ],
            [
             0.5555555555555556,
             "#d8576b"
            ],
            [
             0.6666666666666666,
             "#ed7953"
            ],
            [
             0.7777777777777778,
             "#fb9f3a"
            ],
            [
             0.8888888888888888,
             "#fdca26"
            ],
            [
             1,
             "#f0f921"
            ]
           ],
           "sequentialminus": [
            [
             0,
             "#0d0887"
            ],
            [
             0.1111111111111111,
             "#46039f"
            ],
            [
             0.2222222222222222,
             "#7201a8"
            ],
            [
             0.3333333333333333,
             "#9c179e"
            ],
            [
             0.4444444444444444,
             "#bd3786"
            ],
            [
             0.5555555555555556,
             "#d8576b"
            ],
            [
             0.6666666666666666,
             "#ed7953"
            ],
            [
             0.7777777777777778,
             "#fb9f3a"
            ],
            [
             0.8888888888888888,
             "#fdca26"
            ],
            [
             1,
             "#f0f921"
            ]
           ]
          },
          "colorway": [
           "#636efa",
           "#EF553B",
           "#00cc96",
           "#ab63fa",
           "#FFA15A",
           "#19d3f3",
           "#FF6692",
           "#B6E880",
           "#FF97FF",
           "#FECB52"
          ],
          "font": {
           "color": "#2a3f5f"
          },
          "geo": {
           "bgcolor": "white",
           "lakecolor": "white",
           "landcolor": "#E5ECF6",
           "showlakes": true,
           "showland": true,
           "subunitcolor": "white"
          },
          "hoverlabel": {
           "align": "left"
          },
          "hovermode": "closest",
          "mapbox": {
           "style": "light"
          },
          "paper_bgcolor": "white",
          "plot_bgcolor": "#E5ECF6",
          "polar": {
           "angularaxis": {
            "gridcolor": "white",
            "linecolor": "white",
            "ticks": ""
           },
           "bgcolor": "#E5ECF6",
           "radialaxis": {
            "gridcolor": "white",
            "linecolor": "white",
            "ticks": ""
           }
          },
          "scene": {
           "xaxis": {
            "backgroundcolor": "#E5ECF6",
            "gridcolor": "white",
            "gridwidth": 2,
            "linecolor": "white",
            "showbackground": true,
            "ticks": "",
            "zerolinecolor": "white"
           },
           "yaxis": {
            "backgroundcolor": "#E5ECF6",
            "gridcolor": "white",
            "gridwidth": 2,
            "linecolor": "white",
            "showbackground": true,
            "ticks": "",
            "zerolinecolor": "white"
           },
           "zaxis": {
            "backgroundcolor": "#E5ECF6",
            "gridcolor": "white",
            "gridwidth": 2,
            "linecolor": "white",
            "showbackground": true,
            "ticks": "",
            "zerolinecolor": "white"
           }
          },
          "shapedefaults": {
           "line": {
            "color": "#2a3f5f"
           }
          },
          "ternary": {
           "aaxis": {
            "gridcolor": "white",
            "linecolor": "white",
            "ticks": ""
           },
           "baxis": {
            "gridcolor": "white",
            "linecolor": "white",
            "ticks": ""
           },
           "bgcolor": "#E5ECF6",
           "caxis": {
            "gridcolor": "white",
            "linecolor": "white",
            "ticks": ""
           }
          },
          "title": {
           "x": 0.05
          },
          "xaxis": {
           "automargin": true,
           "gridcolor": "white",
           "linecolor": "white",
           "ticks": "",
           "title": {
            "standoff": 15
           },
           "zerolinecolor": "white",
           "zerolinewidth": 2
          },
          "yaxis": {
           "automargin": true,
           "gridcolor": "white",
           "linecolor": "white",
           "ticks": "",
           "title": {
            "standoff": 15
           },
           "zerolinecolor": "white",
           "zerolinewidth": 2
          }
         }
        },
        "xaxis": {
         "anchor": "y",
         "domain": [
          0,
          1
         ],
         "dtick": 1,
         "title": {
          "text": "hour"
         }
        },
        "yaxis": {
         "anchor": "x",
         "domain": [
          0,
          1
         ],
         "title": {
          "text": "count"
         }
        }
       }
      }
     },
     "metadata": {},
     "output_type": "display_data"
    }
   ],
   "source": [
    "px.box(hourly_calls_per_run, x=\"hour\", y=\"count\").update_xaxes(dtick=1)"
   ]
  },
  {
   "cell_type": "code",
   "execution_count": 10,
   "metadata": {},
   "outputs": [
    {
     "data": {
      "application/vnd.plotly.v1+json": {
       "config": {
        "plotlyServerURL": "https://plot.ly"
       },
       "data": [
        {
         "alignmentgroup": "True",
         "error_y": {
          "array": [
           4.625728961045235,
           3.6906710272766046,
           0.3535533905932738,
           0,
           0.9341987329938275,
           1.9967078166980659,
           3.842627938492642,
           6.64494267529034,
           9.447361090746313,
           10.839863079345024,
           15.09060355948275,
           7.727428931716996,
           11.51475026582038,
           11.80588613228254,
           15.33923418111732,
           11.505033223493278,
           11.203735279384562,
           10.228957862234472,
           6.708203932499362,
           7.6672577956700545,
           8.478300475175931,
           7.61767335663725,
           5.869412236331676,
           6.460405722960683
          ]
         },
         "hovertemplate": "hour=%{x}<br>Average Count=%{y}<extra></extra>",
         "legendgroup": "",
         "marker": {
          "color": "#636efa",
          "pattern": {
           "shape": ""
          }
         },
         "name": "",
         "offsetgroup": "",
         "orientation": "v",
         "showlegend": false,
         "textposition": "auto",
         "type": "bar",
         "x": [
          0,
          1,
          2,
          3,
          4,
          5,
          6,
          7,
          8,
          9,
          10,
          11,
          12,
          13,
          14,
          15,
          16,
          17,
          18,
          19,
          20,
          21,
          22,
          23
         ],
         "xaxis": "x",
         "y": [
          28.65,
          12.6,
          1.125,
          1,
          1.4545454545454546,
          4.75,
          9.85,
          45.95,
          78.1,
          110.65,
          145.4,
          154.85,
          151.2,
          127.7,
          125.15,
          136.95,
          108.95,
          91,
          74.5,
          74.95,
          65.25,
          47.85,
          46.35,
          43.5
         ],
         "yaxis": "y"
        }
       ],
       "layout": {
        "barmode": "relative",
        "legend": {
         "tracegroupgap": 0
        },
        "template": {
         "data": {
          "bar": [
           {
            "error_x": {
             "color": "#2a3f5f"
            },
            "error_y": {
             "color": "#2a3f5f"
            },
            "marker": {
             "line": {
              "color": "#E5ECF6",
              "width": 0.5
             },
             "pattern": {
              "fillmode": "overlay",
              "size": 10,
              "solidity": 0.2
             }
            },
            "type": "bar"
           }
          ],
          "barpolar": [
           {
            "marker": {
             "line": {
              "color": "#E5ECF6",
              "width": 0.5
             },
             "pattern": {
              "fillmode": "overlay",
              "size": 10,
              "solidity": 0.2
             }
            },
            "type": "barpolar"
           }
          ],
          "carpet": [
           {
            "aaxis": {
             "endlinecolor": "#2a3f5f",
             "gridcolor": "white",
             "linecolor": "white",
             "minorgridcolor": "white",
             "startlinecolor": "#2a3f5f"
            },
            "baxis": {
             "endlinecolor": "#2a3f5f",
             "gridcolor": "white",
             "linecolor": "white",
             "minorgridcolor": "white",
             "startlinecolor": "#2a3f5f"
            },
            "type": "carpet"
           }
          ],
          "choropleth": [
           {
            "colorbar": {
             "outlinewidth": 0,
             "ticks": ""
            },
            "type": "choropleth"
           }
          ],
          "contour": [
           {
            "colorbar": {
             "outlinewidth": 0,
             "ticks": ""
            },
            "colorscale": [
             [
              0,
              "#0d0887"
             ],
             [
              0.1111111111111111,
              "#46039f"
             ],
             [
              0.2222222222222222,
              "#7201a8"
             ],
             [
              0.3333333333333333,
              "#9c179e"
             ],
             [
              0.4444444444444444,
              "#bd3786"
             ],
             [
              0.5555555555555556,
              "#d8576b"
             ],
             [
              0.6666666666666666,
              "#ed7953"
             ],
             [
              0.7777777777777778,
              "#fb9f3a"
             ],
             [
              0.8888888888888888,
              "#fdca26"
             ],
             [
              1,
              "#f0f921"
             ]
            ],
            "type": "contour"
           }
          ],
          "contourcarpet": [
           {
            "colorbar": {
             "outlinewidth": 0,
             "ticks": ""
            },
            "type": "contourcarpet"
           }
          ],
          "heatmap": [
           {
            "colorbar": {
             "outlinewidth": 0,
             "ticks": ""
            },
            "colorscale": [
             [
              0,
              "#0d0887"
             ],
             [
              0.1111111111111111,
              "#46039f"
             ],
             [
              0.2222222222222222,
              "#7201a8"
             ],
             [
              0.3333333333333333,
              "#9c179e"
             ],
             [
              0.4444444444444444,
              "#bd3786"
             ],
             [
              0.5555555555555556,
              "#d8576b"
             ],
             [
              0.6666666666666666,
              "#ed7953"
             ],
             [
              0.7777777777777778,
              "#fb9f3a"
             ],
             [
              0.8888888888888888,
              "#fdca26"
             ],
             [
              1,
              "#f0f921"
             ]
            ],
            "type": "heatmap"
           }
          ],
          "heatmapgl": [
           {
            "colorbar": {
             "outlinewidth": 0,
             "ticks": ""
            },
            "colorscale": [
             [
              0,
              "#0d0887"
             ],
             [
              0.1111111111111111,
              "#46039f"
             ],
             [
              0.2222222222222222,
              "#7201a8"
             ],
             [
              0.3333333333333333,
              "#9c179e"
             ],
             [
              0.4444444444444444,
              "#bd3786"
             ],
             [
              0.5555555555555556,
              "#d8576b"
             ],
             [
              0.6666666666666666,
              "#ed7953"
             ],
             [
              0.7777777777777778,
              "#fb9f3a"
             ],
             [
              0.8888888888888888,
              "#fdca26"
             ],
             [
              1,
              "#f0f921"
             ]
            ],
            "type": "heatmapgl"
           }
          ],
          "histogram": [
           {
            "marker": {
             "pattern": {
              "fillmode": "overlay",
              "size": 10,
              "solidity": 0.2
             }
            },
            "type": "histogram"
           }
          ],
          "histogram2d": [
           {
            "colorbar": {
             "outlinewidth": 0,
             "ticks": ""
            },
            "colorscale": [
             [
              0,
              "#0d0887"
             ],
             [
              0.1111111111111111,
              "#46039f"
             ],
             [
              0.2222222222222222,
              "#7201a8"
             ],
             [
              0.3333333333333333,
              "#9c179e"
             ],
             [
              0.4444444444444444,
              "#bd3786"
             ],
             [
              0.5555555555555556,
              "#d8576b"
             ],
             [
              0.6666666666666666,
              "#ed7953"
             ],
             [
              0.7777777777777778,
              "#fb9f3a"
             ],
             [
              0.8888888888888888,
              "#fdca26"
             ],
             [
              1,
              "#f0f921"
             ]
            ],
            "type": "histogram2d"
           }
          ],
          "histogram2dcontour": [
           {
            "colorbar": {
             "outlinewidth": 0,
             "ticks": ""
            },
            "colorscale": [
             [
              0,
              "#0d0887"
             ],
             [
              0.1111111111111111,
              "#46039f"
             ],
             [
              0.2222222222222222,
              "#7201a8"
             ],
             [
              0.3333333333333333,
              "#9c179e"
             ],
             [
              0.4444444444444444,
              "#bd3786"
             ],
             [
              0.5555555555555556,
              "#d8576b"
             ],
             [
              0.6666666666666666,
              "#ed7953"
             ],
             [
              0.7777777777777778,
              "#fb9f3a"
             ],
             [
              0.8888888888888888,
              "#fdca26"
             ],
             [
              1,
              "#f0f921"
             ]
            ],
            "type": "histogram2dcontour"
           }
          ],
          "mesh3d": [
           {
            "colorbar": {
             "outlinewidth": 0,
             "ticks": ""
            },
            "type": "mesh3d"
           }
          ],
          "parcoords": [
           {
            "line": {
             "colorbar": {
              "outlinewidth": 0,
              "ticks": ""
             }
            },
            "type": "parcoords"
           }
          ],
          "pie": [
           {
            "automargin": true,
            "type": "pie"
           }
          ],
          "scatter": [
           {
            "fillpattern": {
             "fillmode": "overlay",
             "size": 10,
             "solidity": 0.2
            },
            "type": "scatter"
           }
          ],
          "scatter3d": [
           {
            "line": {
             "colorbar": {
              "outlinewidth": 0,
              "ticks": ""
             }
            },
            "marker": {
             "colorbar": {
              "outlinewidth": 0,
              "ticks": ""
             }
            },
            "type": "scatter3d"
           }
          ],
          "scattercarpet": [
           {
            "marker": {
             "colorbar": {
              "outlinewidth": 0,
              "ticks": ""
             }
            },
            "type": "scattercarpet"
           }
          ],
          "scattergeo": [
           {
            "marker": {
             "colorbar": {
              "outlinewidth": 0,
              "ticks": ""
             }
            },
            "type": "scattergeo"
           }
          ],
          "scattergl": [
           {
            "marker": {
             "colorbar": {
              "outlinewidth": 0,
              "ticks": ""
             }
            },
            "type": "scattergl"
           }
          ],
          "scattermapbox": [
           {
            "marker": {
             "colorbar": {
              "outlinewidth": 0,
              "ticks": ""
             }
            },
            "type": "scattermapbox"
           }
          ],
          "scatterpolar": [
           {
            "marker": {
             "colorbar": {
              "outlinewidth": 0,
              "ticks": ""
             }
            },
            "type": "scatterpolar"
           }
          ],
          "scatterpolargl": [
           {
            "marker": {
             "colorbar": {
              "outlinewidth": 0,
              "ticks": ""
             }
            },
            "type": "scatterpolargl"
           }
          ],
          "scatterternary": [
           {
            "marker": {
             "colorbar": {
              "outlinewidth": 0,
              "ticks": ""
             }
            },
            "type": "scatterternary"
           }
          ],
          "surface": [
           {
            "colorbar": {
             "outlinewidth": 0,
             "ticks": ""
            },
            "colorscale": [
             [
              0,
              "#0d0887"
             ],
             [
              0.1111111111111111,
              "#46039f"
             ],
             [
              0.2222222222222222,
              "#7201a8"
             ],
             [
              0.3333333333333333,
              "#9c179e"
             ],
             [
              0.4444444444444444,
              "#bd3786"
             ],
             [
              0.5555555555555556,
              "#d8576b"
             ],
             [
              0.6666666666666666,
              "#ed7953"
             ],
             [
              0.7777777777777778,
              "#fb9f3a"
             ],
             [
              0.8888888888888888,
              "#fdca26"
             ],
             [
              1,
              "#f0f921"
             ]
            ],
            "type": "surface"
           }
          ],
          "table": [
           {
            "cells": {
             "fill": {
              "color": "#EBF0F8"
             },
             "line": {
              "color": "white"
             }
            },
            "header": {
             "fill": {
              "color": "#C8D4E3"
             },
             "line": {
              "color": "white"
             }
            },
            "type": "table"
           }
          ]
         },
         "layout": {
          "annotationdefaults": {
           "arrowcolor": "#2a3f5f",
           "arrowhead": 0,
           "arrowwidth": 1
          },
          "autotypenumbers": "strict",
          "coloraxis": {
           "colorbar": {
            "outlinewidth": 0,
            "ticks": ""
           }
          },
          "colorscale": {
           "diverging": [
            [
             0,
             "#8e0152"
            ],
            [
             0.1,
             "#c51b7d"
            ],
            [
             0.2,
             "#de77ae"
            ],
            [
             0.3,
             "#f1b6da"
            ],
            [
             0.4,
             "#fde0ef"
            ],
            [
             0.5,
             "#f7f7f7"
            ],
            [
             0.6,
             "#e6f5d0"
            ],
            [
             0.7,
             "#b8e186"
            ],
            [
             0.8,
             "#7fbc41"
            ],
            [
             0.9,
             "#4d9221"
            ],
            [
             1,
             "#276419"
            ]
           ],
           "sequential": [
            [
             0,
             "#0d0887"
            ],
            [
             0.1111111111111111,
             "#46039f"
            ],
            [
             0.2222222222222222,
             "#7201a8"
            ],
            [
             0.3333333333333333,
             "#9c179e"
            ],
            [
             0.4444444444444444,
             "#bd3786"
            ],
            [
             0.5555555555555556,
             "#d8576b"
            ],
            [
             0.6666666666666666,
             "#ed7953"
            ],
            [
             0.7777777777777778,
             "#fb9f3a"
            ],
            [
             0.8888888888888888,
             "#fdca26"
            ],
            [
             1,
             "#f0f921"
            ]
           ],
           "sequentialminus": [
            [
             0,
             "#0d0887"
            ],
            [
             0.1111111111111111,
             "#46039f"
            ],
            [
             0.2222222222222222,
             "#7201a8"
            ],
            [
             0.3333333333333333,
             "#9c179e"
            ],
            [
             0.4444444444444444,
             "#bd3786"
            ],
            [
             0.5555555555555556,
             "#d8576b"
            ],
            [
             0.6666666666666666,
             "#ed7953"
            ],
            [
             0.7777777777777778,
             "#fb9f3a"
            ],
            [
             0.8888888888888888,
             "#fdca26"
            ],
            [
             1,
             "#f0f921"
            ]
           ]
          },
          "colorway": [
           "#636efa",
           "#EF553B",
           "#00cc96",
           "#ab63fa",
           "#FFA15A",
           "#19d3f3",
           "#FF6692",
           "#B6E880",
           "#FF97FF",
           "#FECB52"
          ],
          "font": {
           "color": "#2a3f5f"
          },
          "geo": {
           "bgcolor": "white",
           "lakecolor": "white",
           "landcolor": "#E5ECF6",
           "showlakes": true,
           "showland": true,
           "subunitcolor": "white"
          },
          "hoverlabel": {
           "align": "left"
          },
          "hovermode": "closest",
          "mapbox": {
           "style": "light"
          },
          "paper_bgcolor": "white",
          "plot_bgcolor": "#E5ECF6",
          "polar": {
           "angularaxis": {
            "gridcolor": "white",
            "linecolor": "white",
            "ticks": ""
           },
           "bgcolor": "#E5ECF6",
           "radialaxis": {
            "gridcolor": "white",
            "linecolor": "white",
            "ticks": ""
           }
          },
          "scene": {
           "xaxis": {
            "backgroundcolor": "#E5ECF6",
            "gridcolor": "white",
            "gridwidth": 2,
            "linecolor": "white",
            "showbackground": true,
            "ticks": "",
            "zerolinecolor": "white"
           },
           "yaxis": {
            "backgroundcolor": "#E5ECF6",
            "gridcolor": "white",
            "gridwidth": 2,
            "linecolor": "white",
            "showbackground": true,
            "ticks": "",
            "zerolinecolor": "white"
           },
           "zaxis": {
            "backgroundcolor": "#E5ECF6",
            "gridcolor": "white",
            "gridwidth": 2,
            "linecolor": "white",
            "showbackground": true,
            "ticks": "",
            "zerolinecolor": "white"
           }
          },
          "shapedefaults": {
           "line": {
            "color": "#2a3f5f"
           }
          },
          "ternary": {
           "aaxis": {
            "gridcolor": "white",
            "linecolor": "white",
            "ticks": ""
           },
           "baxis": {
            "gridcolor": "white",
            "linecolor": "white",
            "ticks": ""
           },
           "bgcolor": "#E5ECF6",
           "caxis": {
            "gridcolor": "white",
            "linecolor": "white",
            "ticks": ""
           }
          },
          "title": {
           "x": 0.05
          },
          "xaxis": {
           "automargin": true,
           "gridcolor": "white",
           "linecolor": "white",
           "ticks": "",
           "title": {
            "standoff": 15
           },
           "zerolinecolor": "white",
           "zerolinewidth": 2
          },
          "yaxis": {
           "automargin": true,
           "gridcolor": "white",
           "linecolor": "white",
           "ticks": "",
           "title": {
            "standoff": 15
           },
           "zerolinecolor": "white",
           "zerolinewidth": 2
          }
         }
        },
        "title": {
         "text": "Total Calls per Run - By Hour"
        },
        "xaxis": {
         "anchor": "y",
         "domain": [
          0,
          1
         ],
         "dtick": 1,
         "title": {
          "text": "hour"
         }
        },
        "yaxis": {
         "anchor": "x",
         "domain": [
          0,
          1
         ],
         "title": {
          "text": "Average Count"
         }
        }
       }
      }
     },
     "metadata": {},
     "output_type": "display_data"
    }
   ],
   "source": [
    "aggregated_data = hourly_calls_per_run.groupby(\"hour\").agg(\n",
    "    mean_count=(\"count\", \"mean\"),\n",
    "    std_count=(\"count\", \"std\")\n",
    ").reset_index()\n",
    "\n",
    "px.bar(\n",
    "    aggregated_data,\n",
    "    x=\"hour\",\n",
    "    y=\"mean_count\",\n",
    "    error_y=\"std_count\",\n",
    "    labels={\"mean_count\": \"Average Count\"},\n",
    "    title=\"Total Calls per Run - By Hour\"\n",
    ").update_xaxes(dtick=1)"
   ]
  },
  {
   "cell_type": "code",
   "execution_count": 11,
   "metadata": {},
   "outputs": [
    {
     "data": {
      "application/vnd.plotly.v1+json": {
       "config": {
        "plotlyServerURL": "https://plot.ly"
       },
       "data": [
        {
         "alignmentgroup": "True",
         "error_y": {
          "array": [
           0.012673230030260918,
           0.010111427471990697,
           0.0009686394262829419,
           0,
           0.0025594485835447327,
           0.005470432374515249,
           0.01052774777669217,
           0.018205322398055727,
           0.02588318107053784,
           0.029698255011904175,
           0.04134411934104863,
           0.02117103816908766,
           0.03154726100224762,
           0.03234489351310285,
           0.04202529912634882,
           0.031520638968474735,
           0.0306951651489988,
           0.02802454208831362,
           0.01837864091095716,
           0.021006185741561795,
           0.02322822047993406,
           0.02087033796338973,
           0.01608058146940185,
           0.017699741706741597
          ]
         },
         "hovertemplate": "hour=%{x}<br>Average Count=%{y}<extra></extra>",
         "legendgroup": "",
         "marker": {
          "color": "#636efa",
          "pattern": {
           "shape": ""
          }
         },
         "name": "",
         "offsetgroup": "",
         "orientation": "v",
         "showlegend": false,
         "textposition": "auto",
         "type": "bar",
         "x": [
          0,
          1,
          2,
          3,
          4,
          5,
          6,
          7,
          8,
          9,
          10,
          11,
          12,
          13,
          14,
          15,
          16,
          17,
          18,
          19,
          20,
          21,
          22,
          23
         ],
         "xaxis": "x",
         "y": [
          0.0784931506849315,
          0.034520547945205475,
          0.0030821917808219177,
          0.0027397260273972603,
          0.00398505603985056,
          0.013013698630136987,
          0.026986301369863012,
          0.12589041095890413,
          0.21397260273972601,
          0.3031506849315069,
          0.39835616438356164,
          0.42424657534246574,
          0.41424657534246573,
          0.34986301369863015,
          0.34287671232876715,
          0.3752054794520548,
          0.29849315068493154,
          0.2493150684931507,
          0.20410958904109588,
          0.20534246575342466,
          0.17876712328767122,
          0.1310958904109589,
          0.12698630136986302,
          0.11917808219178082
         ],
         "yaxis": "y"
        }
       ],
       "layout": {
        "barmode": "relative",
        "legend": {
         "tracegroupgap": 0
        },
        "template": {
         "data": {
          "bar": [
           {
            "error_x": {
             "color": "#2a3f5f"
            },
            "error_y": {
             "color": "#2a3f5f"
            },
            "marker": {
             "line": {
              "color": "#E5ECF6",
              "width": 0.5
             },
             "pattern": {
              "fillmode": "overlay",
              "size": 10,
              "solidity": 0.2
             }
            },
            "type": "bar"
           }
          ],
          "barpolar": [
           {
            "marker": {
             "line": {
              "color": "#E5ECF6",
              "width": 0.5
             },
             "pattern": {
              "fillmode": "overlay",
              "size": 10,
              "solidity": 0.2
             }
            },
            "type": "barpolar"
           }
          ],
          "carpet": [
           {
            "aaxis": {
             "endlinecolor": "#2a3f5f",
             "gridcolor": "white",
             "linecolor": "white",
             "minorgridcolor": "white",
             "startlinecolor": "#2a3f5f"
            },
            "baxis": {
             "endlinecolor": "#2a3f5f",
             "gridcolor": "white",
             "linecolor": "white",
             "minorgridcolor": "white",
             "startlinecolor": "#2a3f5f"
            },
            "type": "carpet"
           }
          ],
          "choropleth": [
           {
            "colorbar": {
             "outlinewidth": 0,
             "ticks": ""
            },
            "type": "choropleth"
           }
          ],
          "contour": [
           {
            "colorbar": {
             "outlinewidth": 0,
             "ticks": ""
            },
            "colorscale": [
             [
              0,
              "#0d0887"
             ],
             [
              0.1111111111111111,
              "#46039f"
             ],
             [
              0.2222222222222222,
              "#7201a8"
             ],
             [
              0.3333333333333333,
              "#9c179e"
             ],
             [
              0.4444444444444444,
              "#bd3786"
             ],
             [
              0.5555555555555556,
              "#d8576b"
             ],
             [
              0.6666666666666666,
              "#ed7953"
             ],
             [
              0.7777777777777778,
              "#fb9f3a"
             ],
             [
              0.8888888888888888,
              "#fdca26"
             ],
             [
              1,
              "#f0f921"
             ]
            ],
            "type": "contour"
           }
          ],
          "contourcarpet": [
           {
            "colorbar": {
             "outlinewidth": 0,
             "ticks": ""
            },
            "type": "contourcarpet"
           }
          ],
          "heatmap": [
           {
            "colorbar": {
             "outlinewidth": 0,
             "ticks": ""
            },
            "colorscale": [
             [
              0,
              "#0d0887"
             ],
             [
              0.1111111111111111,
              "#46039f"
             ],
             [
              0.2222222222222222,
              "#7201a8"
             ],
             [
              0.3333333333333333,
              "#9c179e"
             ],
             [
              0.4444444444444444,
              "#bd3786"
             ],
             [
              0.5555555555555556,
              "#d8576b"
             ],
             [
              0.6666666666666666,
              "#ed7953"
             ],
             [
              0.7777777777777778,
              "#fb9f3a"
             ],
             [
              0.8888888888888888,
              "#fdca26"
             ],
             [
              1,
              "#f0f921"
             ]
            ],
            "type": "heatmap"
           }
          ],
          "heatmapgl": [
           {
            "colorbar": {
             "outlinewidth": 0,
             "ticks": ""
            },
            "colorscale": [
             [
              0,
              "#0d0887"
             ],
             [
              0.1111111111111111,
              "#46039f"
             ],
             [
              0.2222222222222222,
              "#7201a8"
             ],
             [
              0.3333333333333333,
              "#9c179e"
             ],
             [
              0.4444444444444444,
              "#bd3786"
             ],
             [
              0.5555555555555556,
              "#d8576b"
             ],
             [
              0.6666666666666666,
              "#ed7953"
             ],
             [
              0.7777777777777778,
              "#fb9f3a"
             ],
             [
              0.8888888888888888,
              "#fdca26"
             ],
             [
              1,
              "#f0f921"
             ]
            ],
            "type": "heatmapgl"
           }
          ],
          "histogram": [
           {
            "marker": {
             "pattern": {
              "fillmode": "overlay",
              "size": 10,
              "solidity": 0.2
             }
            },
            "type": "histogram"
           }
          ],
          "histogram2d": [
           {
            "colorbar": {
             "outlinewidth": 0,
             "ticks": ""
            },
            "colorscale": [
             [
              0,
              "#0d0887"
             ],
             [
              0.1111111111111111,
              "#46039f"
             ],
             [
              0.2222222222222222,
              "#7201a8"
             ],
             [
              0.3333333333333333,
              "#9c179e"
             ],
             [
              0.4444444444444444,
              "#bd3786"
             ],
             [
              0.5555555555555556,
              "#d8576b"
             ],
             [
              0.6666666666666666,
              "#ed7953"
             ],
             [
              0.7777777777777778,
              "#fb9f3a"
             ],
             [
              0.8888888888888888,
              "#fdca26"
             ],
             [
              1,
              "#f0f921"
             ]
            ],
            "type": "histogram2d"
           }
          ],
          "histogram2dcontour": [
           {
            "colorbar": {
             "outlinewidth": 0,
             "ticks": ""
            },
            "colorscale": [
             [
              0,
              "#0d0887"
             ],
             [
              0.1111111111111111,
              "#46039f"
             ],
             [
              0.2222222222222222,
              "#7201a8"
             ],
             [
              0.3333333333333333,
              "#9c179e"
             ],
             [
              0.4444444444444444,
              "#bd3786"
             ],
             [
              0.5555555555555556,
              "#d8576b"
             ],
             [
              0.6666666666666666,
              "#ed7953"
             ],
             [
              0.7777777777777778,
              "#fb9f3a"
             ],
             [
              0.8888888888888888,
              "#fdca26"
             ],
             [
              1,
              "#f0f921"
             ]
            ],
            "type": "histogram2dcontour"
           }
          ],
          "mesh3d": [
           {
            "colorbar": {
             "outlinewidth": 0,
             "ticks": ""
            },
            "type": "mesh3d"
           }
          ],
          "parcoords": [
           {
            "line": {
             "colorbar": {
              "outlinewidth": 0,
              "ticks": ""
             }
            },
            "type": "parcoords"
           }
          ],
          "pie": [
           {
            "automargin": true,
            "type": "pie"
           }
          ],
          "scatter": [
           {
            "fillpattern": {
             "fillmode": "overlay",
             "size": 10,
             "solidity": 0.2
            },
            "type": "scatter"
           }
          ],
          "scatter3d": [
           {
            "line": {
             "colorbar": {
              "outlinewidth": 0,
              "ticks": ""
             }
            },
            "marker": {
             "colorbar": {
              "outlinewidth": 0,
              "ticks": ""
             }
            },
            "type": "scatter3d"
           }
          ],
          "scattercarpet": [
           {
            "marker": {
             "colorbar": {
              "outlinewidth": 0,
              "ticks": ""
             }
            },
            "type": "scattercarpet"
           }
          ],
          "scattergeo": [
           {
            "marker": {
             "colorbar": {
              "outlinewidth": 0,
              "ticks": ""
             }
            },
            "type": "scattergeo"
           }
          ],
          "scattergl": [
           {
            "marker": {
             "colorbar": {
              "outlinewidth": 0,
              "ticks": ""
             }
            },
            "type": "scattergl"
           }
          ],
          "scattermapbox": [
           {
            "marker": {
             "colorbar": {
              "outlinewidth": 0,
              "ticks": ""
             }
            },
            "type": "scattermapbox"
           }
          ],
          "scatterpolar": [
           {
            "marker": {
             "colorbar": {
              "outlinewidth": 0,
              "ticks": ""
             }
            },
            "type": "scatterpolar"
           }
          ],
          "scatterpolargl": [
           {
            "marker": {
             "colorbar": {
              "outlinewidth": 0,
              "ticks": ""
             }
            },
            "type": "scatterpolargl"
           }
          ],
          "scatterternary": [
           {
            "marker": {
             "colorbar": {
              "outlinewidth": 0,
              "ticks": ""
             }
            },
            "type": "scatterternary"
           }
          ],
          "surface": [
           {
            "colorbar": {
             "outlinewidth": 0,
             "ticks": ""
            },
            "colorscale": [
             [
              0,
              "#0d0887"
             ],
             [
              0.1111111111111111,
              "#46039f"
             ],
             [
              0.2222222222222222,
              "#7201a8"
             ],
             [
              0.3333333333333333,
              "#9c179e"
             ],
             [
              0.4444444444444444,
              "#bd3786"
             ],
             [
              0.5555555555555556,
              "#d8576b"
             ],
             [
              0.6666666666666666,
              "#ed7953"
             ],
             [
              0.7777777777777778,
              "#fb9f3a"
             ],
             [
              0.8888888888888888,
              "#fdca26"
             ],
             [
              1,
              "#f0f921"
             ]
            ],
            "type": "surface"
           }
          ],
          "table": [
           {
            "cells": {
             "fill": {
              "color": "#EBF0F8"
             },
             "line": {
              "color": "white"
             }
            },
            "header": {
             "fill": {
              "color": "#C8D4E3"
             },
             "line": {
              "color": "white"
             }
            },
            "type": "table"
           }
          ]
         },
         "layout": {
          "annotationdefaults": {
           "arrowcolor": "#2a3f5f",
           "arrowhead": 0,
           "arrowwidth": 1
          },
          "autotypenumbers": "strict",
          "coloraxis": {
           "colorbar": {
            "outlinewidth": 0,
            "ticks": ""
           }
          },
          "colorscale": {
           "diverging": [
            [
             0,
             "#8e0152"
            ],
            [
             0.1,
             "#c51b7d"
            ],
            [
             0.2,
             "#de77ae"
            ],
            [
             0.3,
             "#f1b6da"
            ],
            [
             0.4,
             "#fde0ef"
            ],
            [
             0.5,
             "#f7f7f7"
            ],
            [
             0.6,
             "#e6f5d0"
            ],
            [
             0.7,
             "#b8e186"
            ],
            [
             0.8,
             "#7fbc41"
            ],
            [
             0.9,
             "#4d9221"
            ],
            [
             1,
             "#276419"
            ]
           ],
           "sequential": [
            [
             0,
             "#0d0887"
            ],
            [
             0.1111111111111111,
             "#46039f"
            ],
            [
             0.2222222222222222,
             "#7201a8"
            ],
            [
             0.3333333333333333,
             "#9c179e"
            ],
            [
             0.4444444444444444,
             "#bd3786"
            ],
            [
             0.5555555555555556,
             "#d8576b"
            ],
            [
             0.6666666666666666,
             "#ed7953"
            ],
            [
             0.7777777777777778,
             "#fb9f3a"
            ],
            [
             0.8888888888888888,
             "#fdca26"
            ],
            [
             1,
             "#f0f921"
            ]
           ],
           "sequentialminus": [
            [
             0,
             "#0d0887"
            ],
            [
             0.1111111111111111,
             "#46039f"
            ],
            [
             0.2222222222222222,
             "#7201a8"
            ],
            [
             0.3333333333333333,
             "#9c179e"
            ],
            [
             0.4444444444444444,
             "#bd3786"
            ],
            [
             0.5555555555555556,
             "#d8576b"
            ],
            [
             0.6666666666666666,
             "#ed7953"
            ],
            [
             0.7777777777777778,
             "#fb9f3a"
            ],
            [
             0.8888888888888888,
             "#fdca26"
            ],
            [
             1,
             "#f0f921"
            ]
           ]
          },
          "colorway": [
           "#636efa",
           "#EF553B",
           "#00cc96",
           "#ab63fa",
           "#FFA15A",
           "#19d3f3",
           "#FF6692",
           "#B6E880",
           "#FF97FF",
           "#FECB52"
          ],
          "font": {
           "color": "#2a3f5f"
          },
          "geo": {
           "bgcolor": "white",
           "lakecolor": "white",
           "landcolor": "#E5ECF6",
           "showlakes": true,
           "showland": true,
           "subunitcolor": "white"
          },
          "hoverlabel": {
           "align": "left"
          },
          "hovermode": "closest",
          "mapbox": {
           "style": "light"
          },
          "paper_bgcolor": "white",
          "plot_bgcolor": "#E5ECF6",
          "polar": {
           "angularaxis": {
            "gridcolor": "white",
            "linecolor": "white",
            "ticks": ""
           },
           "bgcolor": "#E5ECF6",
           "radialaxis": {
            "gridcolor": "white",
            "linecolor": "white",
            "ticks": ""
           }
          },
          "scene": {
           "xaxis": {
            "backgroundcolor": "#E5ECF6",
            "gridcolor": "white",
            "gridwidth": 2,
            "linecolor": "white",
            "showbackground": true,
            "ticks": "",
            "zerolinecolor": "white"
           },
           "yaxis": {
            "backgroundcolor": "#E5ECF6",
            "gridcolor": "white",
            "gridwidth": 2,
            "linecolor": "white",
            "showbackground": true,
            "ticks": "",
            "zerolinecolor": "white"
           },
           "zaxis": {
            "backgroundcolor": "#E5ECF6",
            "gridcolor": "white",
            "gridwidth": 2,
            "linecolor": "white",
            "showbackground": true,
            "ticks": "",
            "zerolinecolor": "white"
           }
          },
          "shapedefaults": {
           "line": {
            "color": "#2a3f5f"
           }
          },
          "ternary": {
           "aaxis": {
            "gridcolor": "white",
            "linecolor": "white",
            "ticks": ""
           },
           "baxis": {
            "gridcolor": "white",
            "linecolor": "white",
            "ticks": ""
           },
           "bgcolor": "#E5ECF6",
           "caxis": {
            "gridcolor": "white",
            "linecolor": "white",
            "ticks": ""
           }
          },
          "title": {
           "x": 0.05
          },
          "xaxis": {
           "automargin": true,
           "gridcolor": "white",
           "linecolor": "white",
           "ticks": "",
           "title": {
            "standoff": 15
           },
           "zerolinecolor": "white",
           "zerolinewidth": 2
          },
          "yaxis": {
           "automargin": true,
           "gridcolor": "white",
           "linecolor": "white",
           "ticks": "",
           "title": {
            "standoff": 15
           },
           "zerolinecolor": "white",
           "zerolinewidth": 2
          }
         }
        },
        "title": {
         "text": "Total Calls per Run - By Hour"
        },
        "xaxis": {
         "anchor": "y",
         "domain": [
          0,
          1
         ],
         "dtick": 1,
         "title": {
          "text": "hour"
         }
        },
        "yaxis": {
         "anchor": "x",
         "domain": [
          0,
          1
         ],
         "title": {
          "text": "Average Count"
         }
        }
       }
      }
     },
     "metadata": {},
     "output_type": "display_data"
    }
   ],
   "source": [
    "aggregated_data = hourly_calls_per_run.groupby(\"hour\").agg(\n",
    "    mean_count=(\"count\", \"mean\"),\n",
    "    std_count=(\"count\", \"std\")\n",
    ").reset_index()\n",
    "\n",
    "aggregated_data['mean_count'] = aggregated_data['mean_count'] / (float(_processing_functions.get_param(\"sim_duration\", params_df))/60/24)\n",
    "aggregated_data['std_count'] = aggregated_data['std_count'] / (float(_processing_functions.get_param(\"sim_duration\", params_df))/60/24)\n",
    "\n",
    "px.bar(\n",
    "    aggregated_data,\n",
    "    x=\"hour\",\n",
    "    y=\"mean_count\",\n",
    "    error_y=\"std_count\",\n",
    "    labels={\"mean_count\": \"Average Count\"},\n",
    "    title=\"Total Calls per Run - By Hour\"\n",
    ").update_xaxes(dtick=1)"
   ]
  },
  {
   "cell_type": "code",
   "execution_count": 12,
   "metadata": {},
   "outputs": [
    {
     "data": {
      "text/plain": [
       "365.0"
      ]
     },
     "execution_count": 12,
     "metadata": {},
     "output_type": "execute_result"
    }
   ],
   "source": [
    "float(_processing_functions.get_param(\"sim_duration\", params_df))/60/24"
   ]
  },
  {
   "cell_type": "code",
   "execution_count": 13,
   "metadata": {},
   "outputs": [
    {
     "data": {
      "application/vnd.plotly.v1+json": {
       "config": {
        "plotlyServerURL": "https://plot.ly"
       },
       "data": [
        {
         "alignmentgroup": "True",
         "hovertemplate": "hour=%{x}<br>average_per_day=%{y}<extra></extra>",
         "legendgroup": "",
         "marker": {
          "color": "#636efa"
         },
         "name": "",
         "notched": false,
         "offsetgroup": "",
         "orientation": "v",
         "showlegend": false,
         "type": "box",
         "x": [
          0,
          0,
          0,
          0,
          0,
          0,
          0,
          0,
          0,
          0,
          0,
          0,
          0,
          0,
          0,
          0,
          0,
          0,
          0,
          0,
          1,
          1,
          1,
          1,
          1,
          1,
          1,
          1,
          1,
          1,
          1,
          1,
          1,
          1,
          1,
          1,
          1,
          1,
          1,
          1,
          2,
          2,
          2,
          2,
          2,
          2,
          2,
          2,
          3,
          3,
          3,
          3,
          4,
          4,
          4,
          4,
          4,
          4,
          4,
          4,
          4,
          4,
          4,
          5,
          5,
          5,
          5,
          5,
          5,
          5,
          5,
          5,
          5,
          5,
          5,
          5,
          5,
          5,
          5,
          5,
          5,
          5,
          5,
          6,
          6,
          6,
          6,
          6,
          6,
          6,
          6,
          6,
          6,
          6,
          6,
          6,
          6,
          6,
          6,
          6,
          6,
          6,
          6,
          7,
          7,
          7,
          7,
          7,
          7,
          7,
          7,
          7,
          7,
          7,
          7,
          7,
          7,
          7,
          7,
          7,
          7,
          7,
          7,
          8,
          8,
          8,
          8,
          8,
          8,
          8,
          8,
          8,
          8,
          8,
          8,
          8,
          8,
          8,
          8,
          8,
          8,
          8,
          8,
          9,
          9,
          9,
          9,
          9,
          9,
          9,
          9,
          9,
          9,
          9,
          9,
          9,
          9,
          9,
          9,
          9,
          9,
          9,
          9,
          10,
          10,
          10,
          10,
          10,
          10,
          10,
          10,
          10,
          10,
          10,
          10,
          10,
          10,
          10,
          10,
          10,
          10,
          10,
          10,
          11,
          11,
          11,
          11,
          11,
          11,
          11,
          11,
          11,
          11,
          11,
          11,
          11,
          11,
          11,
          11,
          11,
          11,
          11,
          11,
          12,
          12,
          12,
          12,
          12,
          12,
          12,
          12,
          12,
          12,
          12,
          12,
          12,
          12,
          12,
          12,
          12,
          12,
          12,
          12,
          13,
          13,
          13,
          13,
          13,
          13,
          13,
          13,
          13,
          13,
          13,
          13,
          13,
          13,
          13,
          13,
          13,
          13,
          13,
          13,
          14,
          14,
          14,
          14,
          14,
          14,
          14,
          14,
          14,
          14,
          14,
          14,
          14,
          14,
          14,
          14,
          14,
          14,
          14,
          14,
          15,
          15,
          15,
          15,
          15,
          15,
          15,
          15,
          15,
          15,
          15,
          15,
          15,
          15,
          15,
          15,
          15,
          15,
          15,
          15,
          16,
          16,
          16,
          16,
          16,
          16,
          16,
          16,
          16,
          16,
          16,
          16,
          16,
          16,
          16,
          16,
          16,
          16,
          16,
          16,
          17,
          17,
          17,
          17,
          17,
          17,
          17,
          17,
          17,
          17,
          17,
          17,
          17,
          17,
          17,
          17,
          17,
          17,
          17,
          17,
          18,
          18,
          18,
          18,
          18,
          18,
          18,
          18,
          18,
          18,
          18,
          18,
          18,
          18,
          18,
          18,
          18,
          18,
          18,
          18,
          19,
          19,
          19,
          19,
          19,
          19,
          19,
          19,
          19,
          19,
          19,
          19,
          19,
          19,
          19,
          19,
          19,
          19,
          19,
          19,
          20,
          20,
          20,
          20,
          20,
          20,
          20,
          20,
          20,
          20,
          20,
          20,
          20,
          20,
          20,
          20,
          20,
          20,
          20,
          20,
          21,
          21,
          21,
          21,
          21,
          21,
          21,
          21,
          21,
          21,
          21,
          21,
          21,
          21,
          21,
          21,
          21,
          21,
          21,
          21,
          22,
          22,
          22,
          22,
          22,
          22,
          22,
          22,
          22,
          22,
          22,
          22,
          22,
          22,
          22,
          22,
          22,
          22,
          22,
          22,
          23,
          23,
          23,
          23,
          23,
          23,
          23,
          23,
          23,
          23,
          23,
          23,
          23,
          23,
          23,
          23,
          23,
          23,
          23,
          23
         ],
         "x0": " ",
         "xaxis": "x",
         "y": [
          0.09041095890410959,
          0.06027397260273973,
          0.09863013698630137,
          0.08767123287671233,
          0.06575342465753424,
          0.0821917808219178,
          0.06027397260273973,
          0.07945205479452055,
          0.07123287671232877,
          0.08767123287671233,
          0.09041095890410959,
          0.06027397260273973,
          0.0684931506849315,
          0.09863013698630137,
          0.07397260273972603,
          0.08493150684931507,
          0.0821917808219178,
          0.0821917808219178,
          0.06027397260273973,
          0.08493150684931507,
          0.01643835616438356,
          0.03287671232876712,
          0.0273972602739726,
          0.049315068493150684,
          0.03561643835616438,
          0.0273972602739726,
          0.019178082191780823,
          0.043835616438356165,
          0.038356164383561646,
          0.0273972602739726,
          0.024657534246575342,
          0.03287671232876712,
          0.030136986301369864,
          0.03287671232876712,
          0.030136986301369864,
          0.0410958904109589,
          0.03287671232876712,
          0.043835616438356165,
          0.049315068493150684,
          0.0547945205479452,
          0.0027397260273972603,
          0.0027397260273972603,
          0.0027397260273972603,
          0.0027397260273972603,
          0.0027397260273972603,
          0.0027397260273972603,
          0.005479452054794521,
          0.0027397260273972603,
          0.0027397260273972603,
          0.0027397260273972603,
          0.0027397260273972603,
          0.0027397260273972603,
          0.010958904109589041,
          0.0027397260273972603,
          0.0027397260273972603,
          0.005479452054794521,
          0.005479452054794521,
          0.0027397260273972603,
          0.0027397260273972603,
          0.0027397260273972603,
          0.0027397260273972603,
          0.0027397260273972603,
          0.0027397260273972603,
          0.019178082191780823,
          0.019178082191780823,
          0.005479452054794521,
          0.01643835616438356,
          0.019178082191780823,
          0.01643835616438356,
          0.010958904109589041,
          0.01643835616438356,
          0.0136986301369863,
          0.010958904109589041,
          0.021917808219178082,
          0.010958904109589041,
          0.010958904109589041,
          0.010958904109589041,
          0.005479452054794521,
          0.019178082191780823,
          0.005479452054794521,
          0.010958904109589041,
          0.0027397260273972603,
          0.0136986301369863,
          0.024657534246575342,
          0.0273972602739726,
          0.024657534246575342,
          0.0410958904109589,
          0.019178082191780823,
          0.010958904109589041,
          0.03287671232876712,
          0.030136986301369864,
          0.043835616438356165,
          0.024657534246575342,
          0.0273972602739726,
          0.01643835616438356,
          0.038356164383561646,
          0.0273972602739726,
          0.019178082191780823,
          0.024657534246575342,
          0.021917808219178082,
          0.010958904109589041,
          0.021917808219178082,
          0.052054794520547946,
          0.12602739726027398,
          0.1232876712328767,
          0.14520547945205478,
          0.15342465753424658,
          0.13972602739726028,
          0.0958904109589041,
          0.13972602739726028,
          0.12054794520547946,
          0.136986301369863,
          0.13424657534246576,
          0.13972602739726028,
          0.09315068493150686,
          0.08493150684931507,
          0.136986301369863,
          0.11232876712328767,
          0.12876712328767123,
          0.12602739726027398,
          0.11506849315068493,
          0.1232876712328767,
          0.14246575342465753,
          0.25205479452054796,
          0.1863013698630137,
          0.2191780821917808,
          0.18356164383561643,
          0.2465753424657534,
          0.1917808219178082,
          0.1917808219178082,
          0.2219178082191781,
          0.20821917808219179,
          0.25205479452054796,
          0.25753424657534246,
          0.1726027397260274,
          0.2219178082191781,
          0.2054794520547945,
          0.21095890410958903,
          0.2136986301369863,
          0.2,
          0.18082191780821918,
          0.24383561643835616,
          0.2191780821917808,
          0.3232876712328767,
          0.32602739726027397,
          0.33424657534246577,
          0.23013698630136986,
          0.3095890410958904,
          0.3041095890410959,
          0.2958904109589041,
          0.29041095890410956,
          0.2876712328767123,
          0.32054794520547947,
          0.27671232876712326,
          0.3232876712328767,
          0.3232876712328767,
          0.30684931506849317,
          0.336986301369863,
          0.27123287671232876,
          0.2684931506849315,
          0.3561643835616438,
          0.30684931506849317,
          0.27123287671232876,
          0.3698630136986301,
          0.40821917808219177,
          0.3452054794520548,
          0.4054794520547945,
          0.32602739726027397,
          0.3643835616438356,
          0.4438356164383562,
          0.4547945205479452,
          0.38082191780821917,
          0.410958904109589,
          0.3972602739726027,
          0.34794520547945207,
          0.3506849315068493,
          0.4520547945205479,
          0.38082191780821917,
          0.4136986301369863,
          0.3863013698630137,
          0.4794520547945205,
          0.4136986301369863,
          0.43561643835616437,
          0.4,
          0.4191780821917808,
          0.43561643835616437,
          0.4136986301369863,
          0.4383561643835616,
          0.4054794520547945,
          0.4191780821917808,
          0.4,
          0.44931506849315067,
          0.410958904109589,
          0.4410958904109589,
          0.410958904109589,
          0.39452054794520547,
          0.4246575342465753,
          0.4767123287671233,
          0.4301369863013699,
          0.4575342465753425,
          0.4191780821917808,
          0.4328767123287671,
          0.4054794520547945,
          0.3506849315068493,
          0.3506849315068493,
          0.4301369863013699,
          0.3726027397260274,
          0.4328767123287671,
          0.3972602739726027,
          0.42191780821917807,
          0.4602739726027397,
          0.46301369863013697,
          0.4465753424657534,
          0.410958904109589,
          0.4273972602739726,
          0.43561643835616437,
          0.39452054794520547,
          0.4246575342465753,
          0.4054794520547945,
          0.4383561643835616,
          0.4191780821917808,
          0.41643835616438357,
          0.3863013698630137,
          0.29041095890410956,
          0.336986301369863,
          0.35342465753424657,
          0.32602739726027397,
          0.33424657534246577,
          0.3506849315068493,
          0.3643835616438356,
          0.3150684931506849,
          0.3643835616438356,
          0.38904109589041097,
          0.39452054794520547,
          0.3698630136986301,
          0.3178082191780822,
          0.39452054794520547,
          0.38904109589041097,
          0.3424657534246575,
          0.3589041095890411,
          0.2821917808219178,
          0.3726027397260274,
          0.3506849315068493,
          0.3452054794520548,
          0.32602739726027397,
          0.3178082191780822,
          0.4246575342465753,
          0.3041095890410959,
          0.2821917808219178,
          0.3150684931506849,
          0.38082191780821917,
          0.3452054794520548,
          0.336986301369863,
          0.3972602739726027,
          0.3424657534246575,
          0.3643835616438356,
          0.27123287671232876,
          0.3863013698630137,
          0.26575342465753427,
          0.3726027397260274,
          0.3452054794520548,
          0.36164383561643837,
          0.3726027397260274,
          0.40273972602739727,
          0.3835616438356164,
          0.3424657534246575,
          0.3835616438356164,
          0.3863013698630137,
          0.3698630136986301,
          0.43561643835616437,
          0.3835616438356164,
          0.38082191780821917,
          0.3917808219178082,
          0.39452054794520547,
          0.33424657534246577,
          0.38082191780821917,
          0.336986301369863,
          0.336986301369863,
          0.3452054794520548,
          0.336986301369863,
          0.3726027397260274,
          0.4465753424657534,
          0.3589041095890411,
          0.32602739726027397,
          0.2821917808219178,
          0.2958904109589041,
          0.32602739726027397,
          0.29315068493150687,
          0.33972602739726027,
          0.36712328767123287,
          0.2547945205479452,
          0.29315068493150687,
          0.26301369863013696,
          0.2684931506849315,
          0.27671232876712326,
          0.25753424657534246,
          0.3315068493150685,
          0.2876712328767123,
          0.3315068493150685,
          0.31232876712328766,
          0.273972602739726,
          0.30684931506849317,
          0.2821917808219178,
          0.2684931506849315,
          0.2328767123287671,
          0.23835616438356164,
          0.273972602739726,
          0.2273972602739726,
          0.2493150684931507,
          0.2136986301369863,
          0.19726027397260273,
          0.3095890410958904,
          0.2493150684931507,
          0.2547945205479452,
          0.2328767123287671,
          0.27945205479452057,
          0.2356164383561644,
          0.25205479452054796,
          0.2602739726027397,
          0.29315068493150687,
          0.2136986301369863,
          0.27123287671232876,
          0.2328767123287671,
          0.20273972602739726,
          0.2136986301369863,
          0.20273972602739726,
          0.2054794520547945,
          0.21643835616438356,
          0.2191780821917808,
          0.23013698630136986,
          0.2273972602739726,
          0.20273972602739726,
          0.2273972602739726,
          0.17534246575342466,
          0.1917808219178082,
          0.2136986301369863,
          0.17534246575342466,
          0.16712328767123288,
          0.18356164383561643,
          0.2,
          0.22465753424657534,
          0.19726027397260273,
          0.2054794520547945,
          0.2,
          0.1917808219178082,
          0.1726027397260274,
          0.20273972602739726,
          0.20273972602739726,
          0.2136986301369863,
          0.20821917808219179,
          0.21643835616438356,
          0.17534246575342466,
          0.2,
          0.18904109589041096,
          0.1863013698630137,
          0.26301369863013696,
          0.2219178082191781,
          0.2219178082191781,
          0.18356164383561643,
          0.2328767123287671,
          0.21643835616438356,
          0.19726027397260273,
          0.21095890410958903,
          0.20821917808219179,
          0.17534246575342466,
          0.16164383561643836,
          0.16986301369863013,
          0.19726027397260273,
          0.15616438356164383,
          0.23013698630136986,
          0.16986301369863013,
          0.16986301369863013,
          0.17534246575342466,
          0.1643835616438356,
          0.1726027397260274,
          0.2,
          0.19452054794520549,
          0.1506849315068493,
          0.16164383561643836,
          0.16986301369863013,
          0.136986301369863,
          0.2,
          0.21095890410958903,
          0.13424657534246576,
          0.13424657534246576,
          0.13424657534246576,
          0.12876712328767123,
          0.13424657534246576,
          0.15616438356164383,
          0.1178082191780822,
          0.13424657534246576,
          0.15342465753424658,
          0.18082191780821918,
          0.08767123287671233,
          0.14520547945205478,
          0.12054794520547946,
          0.10410958904109589,
          0.1232876712328767,
          0.1095890410958904,
          0.11506849315068493,
          0.13150684931506848,
          0.12054794520547946,
          0.15616438356164383,
          0.13150684931506848,
          0.11506849315068493,
          0.14794520547945206,
          0.1178082191780822,
          0.1178082191780822,
          0.13972602739726028,
          0.14246575342465753,
          0.12054794520547946,
          0.13150684931506848,
          0.1095890410958904,
          0.11232876712328767,
          0.15616438356164383,
          0.11232876712328767,
          0.13424657534246576,
          0.1589041095890411,
          0.10410958904109589,
          0.13424657534246576,
          0.12602739726027398,
          0.10684931506849316,
          0.12054794520547946,
          0.1643835616438356,
          0.12602739726027398,
          0.10684931506849316,
          0.11506849315068493,
          0.10410958904109589,
          0.14246575342465753,
          0.1232876712328767,
          0.13150684931506848,
          0.10684931506849316,
          0.12054794520547946,
          0.10136986301369863,
          0.1178082191780822,
          0.12054794520547946,
          0.1232876712328767,
          0.1232876712328767,
          0.12054794520547946,
          0.1178082191780822,
          0.13150684931506848,
          0.07397260273972603,
          0.11232876712328767
         ],
         "y0": " ",
         "yaxis": "y"
        }
       ],
       "layout": {
        "boxmode": "group",
        "legend": {
         "tracegroupgap": 0
        },
        "margin": {
         "t": 60
        },
        "template": {
         "data": {
          "bar": [
           {
            "error_x": {
             "color": "#2a3f5f"
            },
            "error_y": {
             "color": "#2a3f5f"
            },
            "marker": {
             "line": {
              "color": "#E5ECF6",
              "width": 0.5
             },
             "pattern": {
              "fillmode": "overlay",
              "size": 10,
              "solidity": 0.2
             }
            },
            "type": "bar"
           }
          ],
          "barpolar": [
           {
            "marker": {
             "line": {
              "color": "#E5ECF6",
              "width": 0.5
             },
             "pattern": {
              "fillmode": "overlay",
              "size": 10,
              "solidity": 0.2
             }
            },
            "type": "barpolar"
           }
          ],
          "carpet": [
           {
            "aaxis": {
             "endlinecolor": "#2a3f5f",
             "gridcolor": "white",
             "linecolor": "white",
             "minorgridcolor": "white",
             "startlinecolor": "#2a3f5f"
            },
            "baxis": {
             "endlinecolor": "#2a3f5f",
             "gridcolor": "white",
             "linecolor": "white",
             "minorgridcolor": "white",
             "startlinecolor": "#2a3f5f"
            },
            "type": "carpet"
           }
          ],
          "choropleth": [
           {
            "colorbar": {
             "outlinewidth": 0,
             "ticks": ""
            },
            "type": "choropleth"
           }
          ],
          "contour": [
           {
            "colorbar": {
             "outlinewidth": 0,
             "ticks": ""
            },
            "colorscale": [
             [
              0,
              "#0d0887"
             ],
             [
              0.1111111111111111,
              "#46039f"
             ],
             [
              0.2222222222222222,
              "#7201a8"
             ],
             [
              0.3333333333333333,
              "#9c179e"
             ],
             [
              0.4444444444444444,
              "#bd3786"
             ],
             [
              0.5555555555555556,
              "#d8576b"
             ],
             [
              0.6666666666666666,
              "#ed7953"
             ],
             [
              0.7777777777777778,
              "#fb9f3a"
             ],
             [
              0.8888888888888888,
              "#fdca26"
             ],
             [
              1,
              "#f0f921"
             ]
            ],
            "type": "contour"
           }
          ],
          "contourcarpet": [
           {
            "colorbar": {
             "outlinewidth": 0,
             "ticks": ""
            },
            "type": "contourcarpet"
           }
          ],
          "heatmap": [
           {
            "colorbar": {
             "outlinewidth": 0,
             "ticks": ""
            },
            "colorscale": [
             [
              0,
              "#0d0887"
             ],
             [
              0.1111111111111111,
              "#46039f"
             ],
             [
              0.2222222222222222,
              "#7201a8"
             ],
             [
              0.3333333333333333,
              "#9c179e"
             ],
             [
              0.4444444444444444,
              "#bd3786"
             ],
             [
              0.5555555555555556,
              "#d8576b"
             ],
             [
              0.6666666666666666,
              "#ed7953"
             ],
             [
              0.7777777777777778,
              "#fb9f3a"
             ],
             [
              0.8888888888888888,
              "#fdca26"
             ],
             [
              1,
              "#f0f921"
             ]
            ],
            "type": "heatmap"
           }
          ],
          "heatmapgl": [
           {
            "colorbar": {
             "outlinewidth": 0,
             "ticks": ""
            },
            "colorscale": [
             [
              0,
              "#0d0887"
             ],
             [
              0.1111111111111111,
              "#46039f"
             ],
             [
              0.2222222222222222,
              "#7201a8"
             ],
             [
              0.3333333333333333,
              "#9c179e"
             ],
             [
              0.4444444444444444,
              "#bd3786"
             ],
             [
              0.5555555555555556,
              "#d8576b"
             ],
             [
              0.6666666666666666,
              "#ed7953"
             ],
             [
              0.7777777777777778,
              "#fb9f3a"
             ],
             [
              0.8888888888888888,
              "#fdca26"
             ],
             [
              1,
              "#f0f921"
             ]
            ],
            "type": "heatmapgl"
           }
          ],
          "histogram": [
           {
            "marker": {
             "pattern": {
              "fillmode": "overlay",
              "size": 10,
              "solidity": 0.2
             }
            },
            "type": "histogram"
           }
          ],
          "histogram2d": [
           {
            "colorbar": {
             "outlinewidth": 0,
             "ticks": ""
            },
            "colorscale": [
             [
              0,
              "#0d0887"
             ],
             [
              0.1111111111111111,
              "#46039f"
             ],
             [
              0.2222222222222222,
              "#7201a8"
             ],
             [
              0.3333333333333333,
              "#9c179e"
             ],
             [
              0.4444444444444444,
              "#bd3786"
             ],
             [
              0.5555555555555556,
              "#d8576b"
             ],
             [
              0.6666666666666666,
              "#ed7953"
             ],
             [
              0.7777777777777778,
              "#fb9f3a"
             ],
             [
              0.8888888888888888,
              "#fdca26"
             ],
             [
              1,
              "#f0f921"
             ]
            ],
            "type": "histogram2d"
           }
          ],
          "histogram2dcontour": [
           {
            "colorbar": {
             "outlinewidth": 0,
             "ticks": ""
            },
            "colorscale": [
             [
              0,
              "#0d0887"
             ],
             [
              0.1111111111111111,
              "#46039f"
             ],
             [
              0.2222222222222222,
              "#7201a8"
             ],
             [
              0.3333333333333333,
              "#9c179e"
             ],
             [
              0.4444444444444444,
              "#bd3786"
             ],
             [
              0.5555555555555556,
              "#d8576b"
             ],
             [
              0.6666666666666666,
              "#ed7953"
             ],
             [
              0.7777777777777778,
              "#fb9f3a"
             ],
             [
              0.8888888888888888,
              "#fdca26"
             ],
             [
              1,
              "#f0f921"
             ]
            ],
            "type": "histogram2dcontour"
           }
          ],
          "mesh3d": [
           {
            "colorbar": {
             "outlinewidth": 0,
             "ticks": ""
            },
            "type": "mesh3d"
           }
          ],
          "parcoords": [
           {
            "line": {
             "colorbar": {
              "outlinewidth": 0,
              "ticks": ""
             }
            },
            "type": "parcoords"
           }
          ],
          "pie": [
           {
            "automargin": true,
            "type": "pie"
           }
          ],
          "scatter": [
           {
            "fillpattern": {
             "fillmode": "overlay",
             "size": 10,
             "solidity": 0.2
            },
            "type": "scatter"
           }
          ],
          "scatter3d": [
           {
            "line": {
             "colorbar": {
              "outlinewidth": 0,
              "ticks": ""
             }
            },
            "marker": {
             "colorbar": {
              "outlinewidth": 0,
              "ticks": ""
             }
            },
            "type": "scatter3d"
           }
          ],
          "scattercarpet": [
           {
            "marker": {
             "colorbar": {
              "outlinewidth": 0,
              "ticks": ""
             }
            },
            "type": "scattercarpet"
           }
          ],
          "scattergeo": [
           {
            "marker": {
             "colorbar": {
              "outlinewidth": 0,
              "ticks": ""
             }
            },
            "type": "scattergeo"
           }
          ],
          "scattergl": [
           {
            "marker": {
             "colorbar": {
              "outlinewidth": 0,
              "ticks": ""
             }
            },
            "type": "scattergl"
           }
          ],
          "scattermapbox": [
           {
            "marker": {
             "colorbar": {
              "outlinewidth": 0,
              "ticks": ""
             }
            },
            "type": "scattermapbox"
           }
          ],
          "scatterpolar": [
           {
            "marker": {
             "colorbar": {
              "outlinewidth": 0,
              "ticks": ""
             }
            },
            "type": "scatterpolar"
           }
          ],
          "scatterpolargl": [
           {
            "marker": {
             "colorbar": {
              "outlinewidth": 0,
              "ticks": ""
             }
            },
            "type": "scatterpolargl"
           }
          ],
          "scatterternary": [
           {
            "marker": {
             "colorbar": {
              "outlinewidth": 0,
              "ticks": ""
             }
            },
            "type": "scatterternary"
           }
          ],
          "surface": [
           {
            "colorbar": {
             "outlinewidth": 0,
             "ticks": ""
            },
            "colorscale": [
             [
              0,
              "#0d0887"
             ],
             [
              0.1111111111111111,
              "#46039f"
             ],
             [
              0.2222222222222222,
              "#7201a8"
             ],
             [
              0.3333333333333333,
              "#9c179e"
             ],
             [
              0.4444444444444444,
              "#bd3786"
             ],
             [
              0.5555555555555556,
              "#d8576b"
             ],
             [
              0.6666666666666666,
              "#ed7953"
             ],
             [
              0.7777777777777778,
              "#fb9f3a"
             ],
             [
              0.8888888888888888,
              "#fdca26"
             ],
             [
              1,
              "#f0f921"
             ]
            ],
            "type": "surface"
           }
          ],
          "table": [
           {
            "cells": {
             "fill": {
              "color": "#EBF0F8"
             },
             "line": {
              "color": "white"
             }
            },
            "header": {
             "fill": {
              "color": "#C8D4E3"
             },
             "line": {
              "color": "white"
             }
            },
            "type": "table"
           }
          ]
         },
         "layout": {
          "annotationdefaults": {
           "arrowcolor": "#2a3f5f",
           "arrowhead": 0,
           "arrowwidth": 1
          },
          "autotypenumbers": "strict",
          "coloraxis": {
           "colorbar": {
            "outlinewidth": 0,
            "ticks": ""
           }
          },
          "colorscale": {
           "diverging": [
            [
             0,
             "#8e0152"
            ],
            [
             0.1,
             "#c51b7d"
            ],
            [
             0.2,
             "#de77ae"
            ],
            [
             0.3,
             "#f1b6da"
            ],
            [
             0.4,
             "#fde0ef"
            ],
            [
             0.5,
             "#f7f7f7"
            ],
            [
             0.6,
             "#e6f5d0"
            ],
            [
             0.7,
             "#b8e186"
            ],
            [
             0.8,
             "#7fbc41"
            ],
            [
             0.9,
             "#4d9221"
            ],
            [
             1,
             "#276419"
            ]
           ],
           "sequential": [
            [
             0,
             "#0d0887"
            ],
            [
             0.1111111111111111,
             "#46039f"
            ],
            [
             0.2222222222222222,
             "#7201a8"
            ],
            [
             0.3333333333333333,
             "#9c179e"
            ],
            [
             0.4444444444444444,
             "#bd3786"
            ],
            [
             0.5555555555555556,
             "#d8576b"
            ],
            [
             0.6666666666666666,
             "#ed7953"
            ],
            [
             0.7777777777777778,
             "#fb9f3a"
            ],
            [
             0.8888888888888888,
             "#fdca26"
            ],
            [
             1,
             "#f0f921"
            ]
           ],
           "sequentialminus": [
            [
             0,
             "#0d0887"
            ],
            [
             0.1111111111111111,
             "#46039f"
            ],
            [
             0.2222222222222222,
             "#7201a8"
            ],
            [
             0.3333333333333333,
             "#9c179e"
            ],
            [
             0.4444444444444444,
             "#bd3786"
            ],
            [
             0.5555555555555556,
             "#d8576b"
            ],
            [
             0.6666666666666666,
             "#ed7953"
            ],
            [
             0.7777777777777778,
             "#fb9f3a"
            ],
            [
             0.8888888888888888,
             "#fdca26"
            ],
            [
             1,
             "#f0f921"
            ]
           ]
          },
          "colorway": [
           "#636efa",
           "#EF553B",
           "#00cc96",
           "#ab63fa",
           "#FFA15A",
           "#19d3f3",
           "#FF6692",
           "#B6E880",
           "#FF97FF",
           "#FECB52"
          ],
          "font": {
           "color": "#2a3f5f"
          },
          "geo": {
           "bgcolor": "white",
           "lakecolor": "white",
           "landcolor": "#E5ECF6",
           "showlakes": true,
           "showland": true,
           "subunitcolor": "white"
          },
          "hoverlabel": {
           "align": "left"
          },
          "hovermode": "closest",
          "mapbox": {
           "style": "light"
          },
          "paper_bgcolor": "white",
          "plot_bgcolor": "#E5ECF6",
          "polar": {
           "angularaxis": {
            "gridcolor": "white",
            "linecolor": "white",
            "ticks": ""
           },
           "bgcolor": "#E5ECF6",
           "radialaxis": {
            "gridcolor": "white",
            "linecolor": "white",
            "ticks": ""
           }
          },
          "scene": {
           "xaxis": {
            "backgroundcolor": "#E5ECF6",
            "gridcolor": "white",
            "gridwidth": 2,
            "linecolor": "white",
            "showbackground": true,
            "ticks": "",
            "zerolinecolor": "white"
           },
           "yaxis": {
            "backgroundcolor": "#E5ECF6",
            "gridcolor": "white",
            "gridwidth": 2,
            "linecolor": "white",
            "showbackground": true,
            "ticks": "",
            "zerolinecolor": "white"
           },
           "zaxis": {
            "backgroundcolor": "#E5ECF6",
            "gridcolor": "white",
            "gridwidth": 2,
            "linecolor": "white",
            "showbackground": true,
            "ticks": "",
            "zerolinecolor": "white"
           }
          },
          "shapedefaults": {
           "line": {
            "color": "#2a3f5f"
           }
          },
          "ternary": {
           "aaxis": {
            "gridcolor": "white",
            "linecolor": "white",
            "ticks": ""
           },
           "baxis": {
            "gridcolor": "white",
            "linecolor": "white",
            "ticks": ""
           },
           "bgcolor": "#E5ECF6",
           "caxis": {
            "gridcolor": "white",
            "linecolor": "white",
            "ticks": ""
           }
          },
          "title": {
           "x": 0.05
          },
          "xaxis": {
           "automargin": true,
           "gridcolor": "white",
           "linecolor": "white",
           "ticks": "",
           "title": {
            "standoff": 15
           },
           "zerolinecolor": "white",
           "zerolinewidth": 2
          },
          "yaxis": {
           "automargin": true,
           "gridcolor": "white",
           "linecolor": "white",
           "ticks": "",
           "title": {
            "standoff": 15
           },
           "zerolinecolor": "white",
           "zerolinewidth": 2
          }
         }
        },
        "xaxis": {
         "anchor": "y",
         "domain": [
          0,
          1
         ],
         "dtick": 1,
         "title": {
          "text": "hour"
         }
        },
        "yaxis": {
         "anchor": "x",
         "domain": [
          0,
          1
         ],
         "title": {
          "text": "average_per_day"
         }
        }
       }
      }
     },
     "metadata": {},
     "output_type": "display_data"
    }
   ],
   "source": [
    "hourly_calls_per_run['average_per_day'] = hourly_calls_per_run['count'] / (float(_processing_functions.get_param(\"sim_duration\", params_df))/60/24)\n",
    "px.box(hourly_calls_per_run, x=\"hour\", y=\"average_per_day\").update_xaxes(dtick=1)"
   ]
  },
  {
   "cell_type": "markdown",
   "metadata": {},
   "source": [
    "## Explore resource preferred outcome col"
   ]
  },
  {
   "cell_type": "code",
   "execution_count": 14,
   "metadata": {},
   "outputs": [
    {
     "data": {
      "text/html": [
       "<div>\n",
       "<style scoped>\n",
       "    .dataframe tbody tr th:only-of-type {\n",
       "        vertical-align: middle;\n",
       "    }\n",
       "\n",
       "    .dataframe tbody tr th {\n",
       "        vertical-align: top;\n",
       "    }\n",
       "\n",
       "    .dataframe thead th {\n",
       "        text-align: right;\n",
       "    }\n",
       "</style>\n",
       "<table border=\"1\" class=\"dataframe\">\n",
       "  <thead>\n",
       "    <tr style=\"text-align: right;\">\n",
       "      <th></th>\n",
       "      <th></th>\n",
       "      <th>time_type</th>\n",
       "    </tr>\n",
       "    <tr>\n",
       "      <th>run_number</th>\n",
       "      <th>time_type</th>\n",
       "      <th></th>\n",
       "    </tr>\n",
       "  </thead>\n",
       "  <tbody>\n",
       "    <tr>\n",
       "      <th rowspan=\"3\" valign=\"top\">1</th>\n",
       "      <th>No resource in group available</th>\n",
       "      <td>20</td>\n",
       "    </tr>\n",
       "    <tr>\n",
       "      <th>Preferred resource available and allocated</th>\n",
       "      <td>987</td>\n",
       "    </tr>\n",
       "    <tr>\n",
       "      <th>Preferred resource not and available but other resource in same group allocated</th>\n",
       "      <td>689</td>\n",
       "    </tr>\n",
       "    <tr>\n",
       "      <th rowspan=\"3\" valign=\"top\">2</th>\n",
       "      <th>No resource in group available</th>\n",
       "      <td>20</td>\n",
       "    </tr>\n",
       "    <tr>\n",
       "      <th>Preferred resource available and allocated</th>\n",
       "      <td>857</td>\n",
       "    </tr>\n",
       "    <tr>\n",
       "      <th>Preferred resource not and available but other resource in same group allocated</th>\n",
       "      <td>759</td>\n",
       "    </tr>\n",
       "    <tr>\n",
       "      <th rowspan=\"3\" valign=\"top\">3</th>\n",
       "      <th>No resource in group available</th>\n",
       "      <td>15</td>\n",
       "    </tr>\n",
       "    <tr>\n",
       "      <th>Preferred resource available and allocated</th>\n",
       "      <td>857</td>\n",
       "    </tr>\n",
       "    <tr>\n",
       "      <th>Preferred resource not and available but other resource in same group allocated</th>\n",
       "      <td>787</td>\n",
       "    </tr>\n",
       "    <tr>\n",
       "      <th rowspan=\"3\" valign=\"top\">4</th>\n",
       "      <th>No resource in group available</th>\n",
       "      <td>32</td>\n",
       "    </tr>\n",
       "    <tr>\n",
       "      <th>Preferred resource available and allocated</th>\n",
       "      <td>931</td>\n",
       "    </tr>\n",
       "    <tr>\n",
       "      <th>Preferred resource not and available but other resource in same group allocated</th>\n",
       "      <td>727</td>\n",
       "    </tr>\n",
       "    <tr>\n",
       "      <th rowspan=\"3\" valign=\"top\">5</th>\n",
       "      <th>No resource in group available</th>\n",
       "      <td>19</td>\n",
       "    </tr>\n",
       "    <tr>\n",
       "      <th>Preferred resource available and allocated</th>\n",
       "      <td>893</td>\n",
       "    </tr>\n",
       "    <tr>\n",
       "      <th>Preferred resource not and available but other resource in same group allocated</th>\n",
       "      <td>751</td>\n",
       "    </tr>\n",
       "    <tr>\n",
       "      <th rowspan=\"3\" valign=\"top\">6</th>\n",
       "      <th>No resource in group available</th>\n",
       "      <td>38</td>\n",
       "    </tr>\n",
       "    <tr>\n",
       "      <th>Preferred resource available and allocated</th>\n",
       "      <td>885</td>\n",
       "    </tr>\n",
       "    <tr>\n",
       "      <th>Preferred resource not and available but other resource in same group allocated</th>\n",
       "      <td>727</td>\n",
       "    </tr>\n",
       "    <tr>\n",
       "      <th rowspan=\"3\" valign=\"top\">7</th>\n",
       "      <th>No resource in group available</th>\n",
       "      <td>26</td>\n",
       "    </tr>\n",
       "    <tr>\n",
       "      <th>Preferred resource available and allocated</th>\n",
       "      <td>1000</td>\n",
       "    </tr>\n",
       "    <tr>\n",
       "      <th>Preferred resource not and available but other resource in same group allocated</th>\n",
       "      <td>722</td>\n",
       "    </tr>\n",
       "    <tr>\n",
       "      <th rowspan=\"3\" valign=\"top\">8</th>\n",
       "      <th>No resource in group available</th>\n",
       "      <td>18</td>\n",
       "    </tr>\n",
       "    <tr>\n",
       "      <th>Preferred resource available and allocated</th>\n",
       "      <td>913</td>\n",
       "    </tr>\n",
       "    <tr>\n",
       "      <th>Preferred resource not and available but other resource in same group allocated</th>\n",
       "      <td>768</td>\n",
       "    </tr>\n",
       "    <tr>\n",
       "      <th rowspan=\"3\" valign=\"top\">9</th>\n",
       "      <th>No resource in group available</th>\n",
       "      <td>31</td>\n",
       "    </tr>\n",
       "    <tr>\n",
       "      <th>Preferred resource available and allocated</th>\n",
       "      <td>976</td>\n",
       "    </tr>\n",
       "    <tr>\n",
       "      <th>Preferred resource not and available but other resource in same group allocated</th>\n",
       "      <td>718</td>\n",
       "    </tr>\n",
       "    <tr>\n",
       "      <th rowspan=\"3\" valign=\"top\">10</th>\n",
       "      <th>No resource in group available</th>\n",
       "      <td>39</td>\n",
       "    </tr>\n",
       "    <tr>\n",
       "      <th>Preferred resource available and allocated</th>\n",
       "      <td>1013</td>\n",
       "    </tr>\n",
       "    <tr>\n",
       "      <th>Preferred resource not and available but other resource in same group allocated</th>\n",
       "      <td>689</td>\n",
       "    </tr>\n",
       "    <tr>\n",
       "      <th rowspan=\"3\" valign=\"top\">11</th>\n",
       "      <th>No resource in group available</th>\n",
       "      <td>24</td>\n",
       "    </tr>\n",
       "    <tr>\n",
       "      <th>Preferred resource available and allocated</th>\n",
       "      <td>985</td>\n",
       "    </tr>\n",
       "    <tr>\n",
       "      <th>Preferred resource not and available but other resource in same group allocated</th>\n",
       "      <td>682</td>\n",
       "    </tr>\n",
       "    <tr>\n",
       "      <th rowspan=\"3\" valign=\"top\">12</th>\n",
       "      <th>No resource in group available</th>\n",
       "      <td>25</td>\n",
       "    </tr>\n",
       "    <tr>\n",
       "      <th>Preferred resource available and allocated</th>\n",
       "      <td>873</td>\n",
       "    </tr>\n",
       "    <tr>\n",
       "      <th>Preferred resource not and available but other resource in same group allocated</th>\n",
       "      <td>717</td>\n",
       "    </tr>\n",
       "    <tr>\n",
       "      <th rowspan=\"3\" valign=\"top\">13</th>\n",
       "      <th>No resource in group available</th>\n",
       "      <td>21</td>\n",
       "    </tr>\n",
       "    <tr>\n",
       "      <th>Preferred resource available and allocated</th>\n",
       "      <td>922</td>\n",
       "    </tr>\n",
       "    <tr>\n",
       "      <th>Preferred resource not and available but other resource in same group allocated</th>\n",
       "      <td>732</td>\n",
       "    </tr>\n",
       "    <tr>\n",
       "      <th rowspan=\"3\" valign=\"top\">14</th>\n",
       "      <th>No resource in group available</th>\n",
       "      <td>14</td>\n",
       "    </tr>\n",
       "    <tr>\n",
       "      <th>Preferred resource available and allocated</th>\n",
       "      <td>996</td>\n",
       "    </tr>\n",
       "    <tr>\n",
       "      <th>Preferred resource not and available but other resource in same group allocated</th>\n",
       "      <td>677</td>\n",
       "    </tr>\n",
       "    <tr>\n",
       "      <th rowspan=\"3\" valign=\"top\">15</th>\n",
       "      <th>No resource in group available</th>\n",
       "      <td>24</td>\n",
       "    </tr>\n",
       "    <tr>\n",
       "      <th>Preferred resource available and allocated</th>\n",
       "      <td>889</td>\n",
       "    </tr>\n",
       "    <tr>\n",
       "      <th>Preferred resource not and available but other resource in same group allocated</th>\n",
       "      <td>793</td>\n",
       "    </tr>\n",
       "    <tr>\n",
       "      <th rowspan=\"3\" valign=\"top\">16</th>\n",
       "      <th>No resource in group available</th>\n",
       "      <td>23</td>\n",
       "    </tr>\n",
       "    <tr>\n",
       "      <th>Preferred resource available and allocated</th>\n",
       "      <td>877</td>\n",
       "    </tr>\n",
       "    <tr>\n",
       "      <th>Preferred resource not and available but other resource in same group allocated</th>\n",
       "      <td>722</td>\n",
       "    </tr>\n",
       "    <tr>\n",
       "      <th rowspan=\"3\" valign=\"top\">17</th>\n",
       "      <th>No resource in group available</th>\n",
       "      <td>20</td>\n",
       "    </tr>\n",
       "    <tr>\n",
       "      <th>Preferred resource available and allocated</th>\n",
       "      <td>914</td>\n",
       "    </tr>\n",
       "    <tr>\n",
       "      <th>Preferred resource not and available but other resource in same group allocated</th>\n",
       "      <td>770</td>\n",
       "    </tr>\n",
       "    <tr>\n",
       "      <th rowspan=\"3\" valign=\"top\">18</th>\n",
       "      <th>No resource in group available</th>\n",
       "      <td>17</td>\n",
       "    </tr>\n",
       "    <tr>\n",
       "      <th>Preferred resource available and allocated</th>\n",
       "      <td>974</td>\n",
       "    </tr>\n",
       "    <tr>\n",
       "      <th>Preferred resource not and available but other resource in same group allocated</th>\n",
       "      <td>678</td>\n",
       "    </tr>\n",
       "    <tr>\n",
       "      <th rowspan=\"3\" valign=\"top\">19</th>\n",
       "      <th>No resource in group available</th>\n",
       "      <td>38</td>\n",
       "    </tr>\n",
       "    <tr>\n",
       "      <th>Preferred resource available and allocated</th>\n",
       "      <td>951</td>\n",
       "    </tr>\n",
       "    <tr>\n",
       "      <th>Preferred resource not and available but other resource in same group allocated</th>\n",
       "      <td>737</td>\n",
       "    </tr>\n",
       "    <tr>\n",
       "      <th rowspan=\"3\" valign=\"top\">20</th>\n",
       "      <th>No resource in group available</th>\n",
       "      <td>23</td>\n",
       "    </tr>\n",
       "    <tr>\n",
       "      <th>Preferred resource available and allocated</th>\n",
       "      <td>960</td>\n",
       "    </tr>\n",
       "    <tr>\n",
       "      <th>Preferred resource not and available but other resource in same group allocated</th>\n",
       "      <td>727</td>\n",
       "    </tr>\n",
       "  </tbody>\n",
       "</table>\n",
       "</div>"
      ],
      "text/plain": [
       "                                                               time_type\n",
       "run_number time_type                                                    \n",
       "1          No resource in group available                             20\n",
       "           Preferred resource available and allocated                987\n",
       "           Preferred resource not and available but other ...        689\n",
       "2          No resource in group available                             20\n",
       "           Preferred resource available and allocated                857\n",
       "           Preferred resource not and available but other ...        759\n",
       "3          No resource in group available                             15\n",
       "           Preferred resource available and allocated                857\n",
       "           Preferred resource not and available but other ...        787\n",
       "4          No resource in group available                             32\n",
       "           Preferred resource available and allocated                931\n",
       "           Preferred resource not and available but other ...        727\n",
       "5          No resource in group available                             19\n",
       "           Preferred resource available and allocated                893\n",
       "           Preferred resource not and available but other ...        751\n",
       "6          No resource in group available                             38\n",
       "           Preferred resource available and allocated                885\n",
       "           Preferred resource not and available but other ...        727\n",
       "7          No resource in group available                             26\n",
       "           Preferred resource available and allocated               1000\n",
       "           Preferred resource not and available but other ...        722\n",
       "8          No resource in group available                             18\n",
       "           Preferred resource available and allocated                913\n",
       "           Preferred resource not and available but other ...        768\n",
       "9          No resource in group available                             31\n",
       "           Preferred resource available and allocated                976\n",
       "           Preferred resource not and available but other ...        718\n",
       "10         No resource in group available                             39\n",
       "           Preferred resource available and allocated               1013\n",
       "           Preferred resource not and available but other ...        689\n",
       "11         No resource in group available                             24\n",
       "           Preferred resource available and allocated                985\n",
       "           Preferred resource not and available but other ...        682\n",
       "12         No resource in group available                             25\n",
       "           Preferred resource available and allocated                873\n",
       "           Preferred resource not and available but other ...        717\n",
       "13         No resource in group available                             21\n",
       "           Preferred resource available and allocated                922\n",
       "           Preferred resource not and available but other ...        732\n",
       "14         No resource in group available                             14\n",
       "           Preferred resource available and allocated                996\n",
       "           Preferred resource not and available but other ...        677\n",
       "15         No resource in group available                             24\n",
       "           Preferred resource available and allocated                889\n",
       "           Preferred resource not and available but other ...        793\n",
       "16         No resource in group available                             23\n",
       "           Preferred resource available and allocated                877\n",
       "           Preferred resource not and available but other ...        722\n",
       "17         No resource in group available                             20\n",
       "           Preferred resource available and allocated                914\n",
       "           Preferred resource not and available but other ...        770\n",
       "18         No resource in group available                             17\n",
       "           Preferred resource available and allocated                974\n",
       "           Preferred resource not and available but other ...        678\n",
       "19         No resource in group available                             38\n",
       "           Preferred resource available and allocated                951\n",
       "           Preferred resource not and available but other ...        737\n",
       "20         No resource in group available                             23\n",
       "           Preferred resource available and allocated                960\n",
       "           Preferred resource not and available but other ...        727"
      ]
     },
     "execution_count": 14,
     "metadata": {},
     "output_type": "execute_result"
    }
   ],
   "source": [
    "df[df['event_type']==\"resource_preferred_outcome\"].groupby([\"run_number\",'time_type'])[['time_type']].count()"
   ]
  },
  {
   "cell_type": "code",
   "execution_count": 15,
   "metadata": {},
   "outputs": [
    {
     "data": {
      "text/html": [
       "<div>\n",
       "<style scoped>\n",
       "    .dataframe tbody tr th:only-of-type {\n",
       "        vertical-align: middle;\n",
       "    }\n",
       "\n",
       "    .dataframe tbody tr th {\n",
       "        vertical-align: top;\n",
       "    }\n",
       "\n",
       "    .dataframe thead th {\n",
       "        text-align: right;\n",
       "    }\n",
       "</style>\n",
       "<table border=\"1\" class=\"dataframe\">\n",
       "  <thead>\n",
       "    <tr style=\"text-align: right;\">\n",
       "      <th></th>\n",
       "      <th>Resource Allocation Attempt Outcome</th>\n",
       "      <th>Count</th>\n",
       "    </tr>\n",
       "  </thead>\n",
       "  <tbody>\n",
       "    <tr>\n",
       "      <th>0</th>\n",
       "      <td>No resource in group available</td>\n",
       "      <td>24</td>\n",
       "    </tr>\n",
       "    <tr>\n",
       "      <th>1</th>\n",
       "      <td>Preferred resource available and allocated</td>\n",
       "      <td>933</td>\n",
       "    </tr>\n",
       "    <tr>\n",
       "      <th>2</th>\n",
       "      <td>Preferred resource not and available but other...</td>\n",
       "      <td>729</td>\n",
       "    </tr>\n",
       "  </tbody>\n",
       "</table>\n",
       "</div>"
      ],
      "text/plain": [
       "                 Resource Allocation Attempt Outcome  Count\n",
       "0                     No resource in group available     24\n",
       "1         Preferred resource available and allocated    933\n",
       "2  Preferred resource not and available but other...    729"
      ]
     },
     "execution_count": 15,
     "metadata": {},
     "output_type": "execute_result"
    }
   ],
   "source": [
    "(df[df['event_type']==\"resource_preferred_outcome\"].groupby(['time_type'])[['time_type']].count()/n_runs).round(0).astype('int').rename(columns={'time_type': 'Count'}).reset_index().rename(columns={'time_type': 'Resource Allocation Attempt Outcome'})"
   ]
  },
  {
   "cell_type": "code",
   "execution_count": 16,
   "metadata": {},
   "outputs": [
    {
     "data": {
      "text/html": [
       "<div>\n",
       "<style scoped>\n",
       "    .dataframe tbody tr th:only-of-type {\n",
       "        vertical-align: middle;\n",
       "    }\n",
       "\n",
       "    .dataframe tbody tr th {\n",
       "        vertical-align: top;\n",
       "    }\n",
       "\n",
       "    .dataframe thead th {\n",
       "        text-align: right;\n",
       "    }\n",
       "</style>\n",
       "<table border=\"1\" class=\"dataframe\">\n",
       "  <thead>\n",
       "    <tr style=\"text-align: right;\">\n",
       "      <th></th>\n",
       "      <th>Resource Allocation Attempt Outcome</th>\n",
       "      <th>Run</th>\n",
       "      <th>Count</th>\n",
       "    </tr>\n",
       "  </thead>\n",
       "  <tbody>\n",
       "    <tr>\n",
       "      <th>0</th>\n",
       "      <td>No resource in group available</td>\n",
       "      <td>1</td>\n",
       "      <td>1</td>\n",
       "    </tr>\n",
       "    <tr>\n",
       "      <th>1</th>\n",
       "      <td>No resource in group available</td>\n",
       "      <td>2</td>\n",
       "      <td>1</td>\n",
       "    </tr>\n",
       "    <tr>\n",
       "      <th>2</th>\n",
       "      <td>No resource in group available</td>\n",
       "      <td>3</td>\n",
       "      <td>1</td>\n",
       "    </tr>\n",
       "    <tr>\n",
       "      <th>3</th>\n",
       "      <td>No resource in group available</td>\n",
       "      <td>4</td>\n",
       "      <td>2</td>\n",
       "    </tr>\n",
       "    <tr>\n",
       "      <th>4</th>\n",
       "      <td>No resource in group available</td>\n",
       "      <td>5</td>\n",
       "      <td>1</td>\n",
       "    </tr>\n",
       "    <tr>\n",
       "      <th>5</th>\n",
       "      <td>No resource in group available</td>\n",
       "      <td>6</td>\n",
       "      <td>2</td>\n",
       "    </tr>\n",
       "    <tr>\n",
       "      <th>6</th>\n",
       "      <td>No resource in group available</td>\n",
       "      <td>7</td>\n",
       "      <td>1</td>\n",
       "    </tr>\n",
       "    <tr>\n",
       "      <th>7</th>\n",
       "      <td>No resource in group available</td>\n",
       "      <td>8</td>\n",
       "      <td>1</td>\n",
       "    </tr>\n",
       "    <tr>\n",
       "      <th>8</th>\n",
       "      <td>No resource in group available</td>\n",
       "      <td>9</td>\n",
       "      <td>2</td>\n",
       "    </tr>\n",
       "    <tr>\n",
       "      <th>9</th>\n",
       "      <td>No resource in group available</td>\n",
       "      <td>10</td>\n",
       "      <td>2</td>\n",
       "    </tr>\n",
       "    <tr>\n",
       "      <th>10</th>\n",
       "      <td>No resource in group available</td>\n",
       "      <td>11</td>\n",
       "      <td>1</td>\n",
       "    </tr>\n",
       "    <tr>\n",
       "      <th>11</th>\n",
       "      <td>No resource in group available</td>\n",
       "      <td>12</td>\n",
       "      <td>1</td>\n",
       "    </tr>\n",
       "    <tr>\n",
       "      <th>12</th>\n",
       "      <td>No resource in group available</td>\n",
       "      <td>13</td>\n",
       "      <td>1</td>\n",
       "    </tr>\n",
       "    <tr>\n",
       "      <th>13</th>\n",
       "      <td>No resource in group available</td>\n",
       "      <td>14</td>\n",
       "      <td>1</td>\n",
       "    </tr>\n",
       "    <tr>\n",
       "      <th>14</th>\n",
       "      <td>No resource in group available</td>\n",
       "      <td>15</td>\n",
       "      <td>1</td>\n",
       "    </tr>\n",
       "    <tr>\n",
       "      <th>15</th>\n",
       "      <td>No resource in group available</td>\n",
       "      <td>16</td>\n",
       "      <td>1</td>\n",
       "    </tr>\n",
       "    <tr>\n",
       "      <th>16</th>\n",
       "      <td>No resource in group available</td>\n",
       "      <td>17</td>\n",
       "      <td>1</td>\n",
       "    </tr>\n",
       "    <tr>\n",
       "      <th>17</th>\n",
       "      <td>No resource in group available</td>\n",
       "      <td>18</td>\n",
       "      <td>1</td>\n",
       "    </tr>\n",
       "    <tr>\n",
       "      <th>18</th>\n",
       "      <td>No resource in group available</td>\n",
       "      <td>19</td>\n",
       "      <td>2</td>\n",
       "    </tr>\n",
       "    <tr>\n",
       "      <th>19</th>\n",
       "      <td>No resource in group available</td>\n",
       "      <td>20</td>\n",
       "      <td>1</td>\n",
       "    </tr>\n",
       "    <tr>\n",
       "      <th>20</th>\n",
       "      <td>Preferred resource available and allocated</td>\n",
       "      <td>1</td>\n",
       "      <td>49</td>\n",
       "    </tr>\n",
       "    <tr>\n",
       "      <th>21</th>\n",
       "      <td>Preferred resource available and allocated</td>\n",
       "      <td>2</td>\n",
       "      <td>43</td>\n",
       "    </tr>\n",
       "    <tr>\n",
       "      <th>22</th>\n",
       "      <td>Preferred resource available and allocated</td>\n",
       "      <td>3</td>\n",
       "      <td>43</td>\n",
       "    </tr>\n",
       "    <tr>\n",
       "      <th>23</th>\n",
       "      <td>Preferred resource available and allocated</td>\n",
       "      <td>4</td>\n",
       "      <td>47</td>\n",
       "    </tr>\n",
       "    <tr>\n",
       "      <th>24</th>\n",
       "      <td>Preferred resource available and allocated</td>\n",
       "      <td>5</td>\n",
       "      <td>45</td>\n",
       "    </tr>\n",
       "    <tr>\n",
       "      <th>25</th>\n",
       "      <td>Preferred resource available and allocated</td>\n",
       "      <td>6</td>\n",
       "      <td>44</td>\n",
       "    </tr>\n",
       "    <tr>\n",
       "      <th>26</th>\n",
       "      <td>Preferred resource available and allocated</td>\n",
       "      <td>7</td>\n",
       "      <td>50</td>\n",
       "    </tr>\n",
       "    <tr>\n",
       "      <th>27</th>\n",
       "      <td>Preferred resource available and allocated</td>\n",
       "      <td>8</td>\n",
       "      <td>46</td>\n",
       "    </tr>\n",
       "    <tr>\n",
       "      <th>28</th>\n",
       "      <td>Preferred resource available and allocated</td>\n",
       "      <td>9</td>\n",
       "      <td>49</td>\n",
       "    </tr>\n",
       "    <tr>\n",
       "      <th>29</th>\n",
       "      <td>Preferred resource available and allocated</td>\n",
       "      <td>10</td>\n",
       "      <td>51</td>\n",
       "    </tr>\n",
       "    <tr>\n",
       "      <th>30</th>\n",
       "      <td>Preferred resource available and allocated</td>\n",
       "      <td>11</td>\n",
       "      <td>49</td>\n",
       "    </tr>\n",
       "    <tr>\n",
       "      <th>31</th>\n",
       "      <td>Preferred resource available and allocated</td>\n",
       "      <td>12</td>\n",
       "      <td>44</td>\n",
       "    </tr>\n",
       "    <tr>\n",
       "      <th>32</th>\n",
       "      <td>Preferred resource available and allocated</td>\n",
       "      <td>13</td>\n",
       "      <td>46</td>\n",
       "    </tr>\n",
       "    <tr>\n",
       "      <th>33</th>\n",
       "      <td>Preferred resource available and allocated</td>\n",
       "      <td>14</td>\n",
       "      <td>50</td>\n",
       "    </tr>\n",
       "    <tr>\n",
       "      <th>34</th>\n",
       "      <td>Preferred resource available and allocated</td>\n",
       "      <td>15</td>\n",
       "      <td>44</td>\n",
       "    </tr>\n",
       "    <tr>\n",
       "      <th>35</th>\n",
       "      <td>Preferred resource available and allocated</td>\n",
       "      <td>16</td>\n",
       "      <td>44</td>\n",
       "    </tr>\n",
       "    <tr>\n",
       "      <th>36</th>\n",
       "      <td>Preferred resource available and allocated</td>\n",
       "      <td>17</td>\n",
       "      <td>46</td>\n",
       "    </tr>\n",
       "    <tr>\n",
       "      <th>37</th>\n",
       "      <td>Preferred resource available and allocated</td>\n",
       "      <td>18</td>\n",
       "      <td>49</td>\n",
       "    </tr>\n",
       "    <tr>\n",
       "      <th>38</th>\n",
       "      <td>Preferred resource available and allocated</td>\n",
       "      <td>19</td>\n",
       "      <td>48</td>\n",
       "    </tr>\n",
       "    <tr>\n",
       "      <th>39</th>\n",
       "      <td>Preferred resource available and allocated</td>\n",
       "      <td>20</td>\n",
       "      <td>48</td>\n",
       "    </tr>\n",
       "    <tr>\n",
       "      <th>40</th>\n",
       "      <td>Preferred resource not and available but other...</td>\n",
       "      <td>1</td>\n",
       "      <td>34</td>\n",
       "    </tr>\n",
       "    <tr>\n",
       "      <th>41</th>\n",
       "      <td>Preferred resource not and available but other...</td>\n",
       "      <td>2</td>\n",
       "      <td>38</td>\n",
       "    </tr>\n",
       "    <tr>\n",
       "      <th>42</th>\n",
       "      <td>Preferred resource not and available but other...</td>\n",
       "      <td>3</td>\n",
       "      <td>39</td>\n",
       "    </tr>\n",
       "    <tr>\n",
       "      <th>43</th>\n",
       "      <td>Preferred resource not and available but other...</td>\n",
       "      <td>4</td>\n",
       "      <td>36</td>\n",
       "    </tr>\n",
       "    <tr>\n",
       "      <th>44</th>\n",
       "      <td>Preferred resource not and available but other...</td>\n",
       "      <td>5</td>\n",
       "      <td>38</td>\n",
       "    </tr>\n",
       "    <tr>\n",
       "      <th>45</th>\n",
       "      <td>Preferred resource not and available but other...</td>\n",
       "      <td>6</td>\n",
       "      <td>36</td>\n",
       "    </tr>\n",
       "    <tr>\n",
       "      <th>46</th>\n",
       "      <td>Preferred resource not and available but other...</td>\n",
       "      <td>7</td>\n",
       "      <td>36</td>\n",
       "    </tr>\n",
       "    <tr>\n",
       "      <th>47</th>\n",
       "      <td>Preferred resource not and available but other...</td>\n",
       "      <td>8</td>\n",
       "      <td>38</td>\n",
       "    </tr>\n",
       "    <tr>\n",
       "      <th>48</th>\n",
       "      <td>Preferred resource not and available but other...</td>\n",
       "      <td>9</td>\n",
       "      <td>36</td>\n",
       "    </tr>\n",
       "    <tr>\n",
       "      <th>49</th>\n",
       "      <td>Preferred resource not and available but other...</td>\n",
       "      <td>10</td>\n",
       "      <td>34</td>\n",
       "    </tr>\n",
       "    <tr>\n",
       "      <th>50</th>\n",
       "      <td>Preferred resource not and available but other...</td>\n",
       "      <td>11</td>\n",
       "      <td>34</td>\n",
       "    </tr>\n",
       "    <tr>\n",
       "      <th>51</th>\n",
       "      <td>Preferred resource not and available but other...</td>\n",
       "      <td>12</td>\n",
       "      <td>36</td>\n",
       "    </tr>\n",
       "    <tr>\n",
       "      <th>52</th>\n",
       "      <td>Preferred resource not and available but other...</td>\n",
       "      <td>13</td>\n",
       "      <td>37</td>\n",
       "    </tr>\n",
       "    <tr>\n",
       "      <th>53</th>\n",
       "      <td>Preferred resource not and available but other...</td>\n",
       "      <td>14</td>\n",
       "      <td>34</td>\n",
       "    </tr>\n",
       "    <tr>\n",
       "      <th>54</th>\n",
       "      <td>Preferred resource not and available but other...</td>\n",
       "      <td>15</td>\n",
       "      <td>40</td>\n",
       "    </tr>\n",
       "    <tr>\n",
       "      <th>55</th>\n",
       "      <td>Preferred resource not and available but other...</td>\n",
       "      <td>16</td>\n",
       "      <td>36</td>\n",
       "    </tr>\n",
       "    <tr>\n",
       "      <th>56</th>\n",
       "      <td>Preferred resource not and available but other...</td>\n",
       "      <td>17</td>\n",
       "      <td>38</td>\n",
       "    </tr>\n",
       "    <tr>\n",
       "      <th>57</th>\n",
       "      <td>Preferred resource not and available but other...</td>\n",
       "      <td>18</td>\n",
       "      <td>34</td>\n",
       "    </tr>\n",
       "    <tr>\n",
       "      <th>58</th>\n",
       "      <td>Preferred resource not and available but other...</td>\n",
       "      <td>19</td>\n",
       "      <td>37</td>\n",
       "    </tr>\n",
       "    <tr>\n",
       "      <th>59</th>\n",
       "      <td>Preferred resource not and available but other...</td>\n",
       "      <td>20</td>\n",
       "      <td>36</td>\n",
       "    </tr>\n",
       "  </tbody>\n",
       "</table>\n",
       "</div>"
      ],
      "text/plain": [
       "                  Resource Allocation Attempt Outcome  Run  Count\n",
       "0                      No resource in group available    1      1\n",
       "1                      No resource in group available    2      1\n",
       "2                      No resource in group available    3      1\n",
       "3                      No resource in group available    4      2\n",
       "4                      No resource in group available    5      1\n",
       "5                      No resource in group available    6      2\n",
       "6                      No resource in group available    7      1\n",
       "7                      No resource in group available    8      1\n",
       "8                      No resource in group available    9      2\n",
       "9                      No resource in group available   10      2\n",
       "10                     No resource in group available   11      1\n",
       "11                     No resource in group available   12      1\n",
       "12                     No resource in group available   13      1\n",
       "13                     No resource in group available   14      1\n",
       "14                     No resource in group available   15      1\n",
       "15                     No resource in group available   16      1\n",
       "16                     No resource in group available   17      1\n",
       "17                     No resource in group available   18      1\n",
       "18                     No resource in group available   19      2\n",
       "19                     No resource in group available   20      1\n",
       "20         Preferred resource available and allocated    1     49\n",
       "21         Preferred resource available and allocated    2     43\n",
       "22         Preferred resource available and allocated    3     43\n",
       "23         Preferred resource available and allocated    4     47\n",
       "24         Preferred resource available and allocated    5     45\n",
       "25         Preferred resource available and allocated    6     44\n",
       "26         Preferred resource available and allocated    7     50\n",
       "27         Preferred resource available and allocated    8     46\n",
       "28         Preferred resource available and allocated    9     49\n",
       "29         Preferred resource available and allocated   10     51\n",
       "30         Preferred resource available and allocated   11     49\n",
       "31         Preferred resource available and allocated   12     44\n",
       "32         Preferred resource available and allocated   13     46\n",
       "33         Preferred resource available and allocated   14     50\n",
       "34         Preferred resource available and allocated   15     44\n",
       "35         Preferred resource available and allocated   16     44\n",
       "36         Preferred resource available and allocated   17     46\n",
       "37         Preferred resource available and allocated   18     49\n",
       "38         Preferred resource available and allocated   19     48\n",
       "39         Preferred resource available and allocated   20     48\n",
       "40  Preferred resource not and available but other...    1     34\n",
       "41  Preferred resource not and available but other...    2     38\n",
       "42  Preferred resource not and available but other...    3     39\n",
       "43  Preferred resource not and available but other...    4     36\n",
       "44  Preferred resource not and available but other...    5     38\n",
       "45  Preferred resource not and available but other...    6     36\n",
       "46  Preferred resource not and available but other...    7     36\n",
       "47  Preferred resource not and available but other...    8     38\n",
       "48  Preferred resource not and available but other...    9     36\n",
       "49  Preferred resource not and available but other...   10     34\n",
       "50  Preferred resource not and available but other...   11     34\n",
       "51  Preferred resource not and available but other...   12     36\n",
       "52  Preferred resource not and available but other...   13     37\n",
       "53  Preferred resource not and available but other...   14     34\n",
       "54  Preferred resource not and available but other...   15     40\n",
       "55  Preferred resource not and available but other...   16     36\n",
       "56  Preferred resource not and available but other...   17     38\n",
       "57  Preferred resource not and available but other...   18     34\n",
       "58  Preferred resource not and available but other...   19     37\n",
       "59  Preferred resource not and available but other...   20     36"
      ]
     },
     "execution_count": 16,
     "metadata": {},
     "output_type": "execute_result"
    }
   ],
   "source": [
    "(df[df['event_type']==\"resource_preferred_outcome\"].groupby(['time_type', 'run_number'])[['time_type']].count()/n_runs).round(0).astype('int').rename(columns={'time_type': 'Count'}).reset_index().rename(columns={'time_type': 'Resource Allocation Attempt Outcome', 'run_number': \"Run\"})"
   ]
  },
  {
   "cell_type": "code",
   "execution_count": 17,
   "metadata": {},
   "outputs": [
    {
     "name": "stderr",
     "output_type": "stream",
     "text": [
      "2025-02-19 09:21:29.139 WARNING streamlit.runtime.caching.cache_data_api: No runtime found, using MemoryCacheStorageManager\n",
      "2025-02-19 09:21:29.140 WARNING streamlit.runtime.caching.cache_data_api: No runtime found, using MemoryCacheStorageManager\n"
     ]
    },
    {
     "data": {
      "application/vnd.plotly.v1+json": {
       "config": {
        "plotlyServerURL": "https://plot.ly"
       },
       "data": [
        {
         "alignmentgroup": "True",
         "error_y": {
          "array": [
           4.625728961045235,
           3.6906710272766046,
           0.3535533905932738,
           0,
           0.9341987329938275,
           1.9967078166980659,
           3.842627938492642,
           6.64494267529034,
           9.447361090746313,
           10.839863079345024,
           15.09060355948275,
           7.727428931716996,
           11.51475026582038,
           11.80588613228254,
           15.33923418111732,
           11.505033223493278,
           11.203735279384562,
           10.228957862234472,
           6.708203932499362,
           7.6672577956700545,
           8.478300475175931,
           7.61767335663725,
           5.869412236331676,
           6.460405722960683
          ],
          "color": "#1F1F1F"
         },
         "hovertemplate": "Hour=%{x}<br>Total Calls Per Hour Across Simulation<br>Averaged Across Simulation Runs=%{y}<extra></extra>",
         "legendgroup": "",
         "marker": {
          "color": "#00B0B9",
          "pattern": {
           "shape": ""
          }
         },
         "name": "",
         "offsetgroup": "",
         "orientation": "v",
         "showlegend": false,
         "textposition": "auto",
         "type": "bar",
         "x": [
          0,
          1,
          2,
          3,
          4,
          5,
          6,
          7,
          8,
          9,
          10,
          11,
          12,
          13,
          14,
          15,
          16,
          17,
          18,
          19,
          20,
          21,
          22,
          23
         ],
         "xaxis": "x",
         "y": [
          28.65,
          12.6,
          1.125,
          1,
          1.4545454545454546,
          4.75,
          9.85,
          45.95,
          78.1,
          110.65,
          145.4,
          154.85,
          151.2,
          127.7,
          125.15,
          136.95,
          108.95,
          91,
          74.5,
          74.95,
          65.25,
          47.85,
          46.35,
          43.5
         ],
         "yaxis": "y"
        }
       ],
       "layout": {
        "barmode": "relative",
        "legend": {
         "tracegroupgap": 0
        },
        "template": {
         "data": {
          "candlestick": [
           {
            "decreasing": {
             "line": {
              "color": "#000033"
             }
            },
            "increasing": {
             "line": {
              "color": "#000032"
             }
            },
            "type": "candlestick"
           }
          ],
          "contour": [
           {
            "colorscale": [
             [
              0,
              "#000011"
             ],
             [
              0.1111111111111111,
              "#000012"
             ],
             [
              0.2222222222222222,
              "#000013"
             ],
             [
              0.3333333333333333,
              "#000014"
             ],
             [
              0.4444444444444444,
              "#000015"
             ],
             [
              0.5555555555555556,
              "#000016"
             ],
             [
              0.6666666666666666,
              "#000017"
             ],
             [
              0.7777777777777778,
              "#000018"
             ],
             [
              0.8888888888888888,
              "#000019"
             ],
             [
              1,
              "#000020"
             ]
            ],
            "type": "contour"
           }
          ],
          "contourcarpet": [
           {
            "colorscale": [
             [
              0,
              "#000011"
             ],
             [
              0.1111111111111111,
              "#000012"
             ],
             [
              0.2222222222222222,
              "#000013"
             ],
             [
              0.3333333333333333,
              "#000014"
             ],
             [
              0.4444444444444444,
              "#000015"
             ],
             [
              0.5555555555555556,
              "#000016"
             ],
             [
              0.6666666666666666,
              "#000017"
             ],
             [
              0.7777777777777778,
              "#000018"
             ],
             [
              0.8888888888888888,
              "#000019"
             ],
             [
              1,
              "#000020"
             ]
            ],
            "type": "contourcarpet"
           }
          ],
          "heatmap": [
           {
            "colorscale": [
             [
              0,
              "#000011"
             ],
             [
              0.1111111111111111,
              "#000012"
             ],
             [
              0.2222222222222222,
              "#000013"
             ],
             [
              0.3333333333333333,
              "#000014"
             ],
             [
              0.4444444444444444,
              "#000015"
             ],
             [
              0.5555555555555556,
              "#000016"
             ],
             [
              0.6666666666666666,
              "#000017"
             ],
             [
              0.7777777777777778,
              "#000018"
             ],
             [
              0.8888888888888888,
              "#000019"
             ],
             [
              1,
              "#000020"
             ]
            ],
            "type": "heatmap"
           }
          ],
          "histogram2d": [
           {
            "colorscale": [
             [
              0,
              "#000011"
             ],
             [
              0.1111111111111111,
              "#000012"
             ],
             [
              0.2222222222222222,
              "#000013"
             ],
             [
              0.3333333333333333,
              "#000014"
             ],
             [
              0.4444444444444444,
              "#000015"
             ],
             [
              0.5555555555555556,
              "#000016"
             ],
             [
              0.6666666666666666,
              "#000017"
             ],
             [
              0.7777777777777778,
              "#000018"
             ],
             [
              0.8888888888888888,
              "#000019"
             ],
             [
              1,
              "#000020"
             ]
            ],
            "type": "histogram2d"
           }
          ],
          "icicle": [
           {
            "textfont": {
             "color": "white"
            },
            "type": "icicle"
           }
          ],
          "sankey": [
           {
            "textfont": {
             "color": "#000036"
            },
            "type": "sankey"
           }
          ],
          "scatter": [
           {
            "marker": {
             "line": {
              "width": 0
             }
            },
            "type": "scatter"
           }
          ],
          "table": [
           {
            "cells": {
             "fill": {
              "color": "#000038"
             },
             "font": {
              "color": "#000037"
             },
             "line": {
              "color": "#000039"
             }
            },
            "header": {
             "fill": {
              "color": "#000040"
             },
             "font": {
              "color": "#000036"
             },
             "line": {
              "color": "#000039"
             }
            },
            "type": "table"
           }
          ],
          "waterfall": [
           {
            "connector": {
             "line": {
              "color": "#000036",
              "width": 2
             }
            },
            "decreasing": {
             "marker": {
              "color": "#000033"
             }
            },
            "increasing": {
             "marker": {
              "color": "#000032"
             }
            },
            "totals": {
             "marker": {
              "color": "#000034"
             }
            },
            "type": "waterfall"
           }
          ]
         },
         "layout": {
          "coloraxis": {
           "colorscale": [
            [
             0,
             "#000011"
            ],
            [
             0.1111111111111111,
             "#000012"
            ],
            [
             0.2222222222222222,
             "#000013"
            ],
            [
             0.3333333333333333,
             "#000014"
            ],
            [
             0.4444444444444444,
             "#000015"
            ],
            [
             0.5555555555555556,
             "#000016"
            ],
            [
             0.6666666666666666,
             "#000017"
            ],
            [
             0.7777777777777778,
             "#000018"
            ],
            [
             0.8888888888888888,
             "#000019"
            ],
            [
             1,
             "#000020"
            ]
           ]
          },
          "colorscale": {
           "diverging": [
            [
             0,
             "#000021"
            ],
            [
             0.1,
             "#000022"
            ],
            [
             0.2,
             "#000023"
            ],
            [
             0.3,
             "#000024"
            ],
            [
             0.4,
             "#000025"
            ],
            [
             0.5,
             "#000026"
            ],
            [
             0.6,
             "#000027"
            ],
            [
             0.7,
             "#000028"
            ],
            [
             0.8,
             "#000029"
            ],
            [
             0.9,
             "#000030"
            ],
            [
             1,
             "#000031"
            ]
           ],
           "sequential": [
            [
             0,
             "#000011"
            ],
            [
             0.1111111111111111,
             "#000012"
            ],
            [
             0.2222222222222222,
             "#000013"
            ],
            [
             0.3333333333333333,
             "#000014"
            ],
            [
             0.4444444444444444,
             "#000015"
            ],
            [
             0.5555555555555556,
             "#000016"
            ],
            [
             0.6666666666666666,
             "#000017"
            ],
            [
             0.7777777777777778,
             "#000018"
            ],
            [
             0.8888888888888888,
             "#000019"
            ],
            [
             1,
             "#000020"
            ]
           ],
           "sequentialminus": [
            [
             0,
             "#000011"
            ],
            [
             0.1111111111111111,
             "#000012"
            ],
            [
             0.2222222222222222,
             "#000013"
            ],
            [
             0.3333333333333333,
             "#000014"
            ],
            [
             0.4444444444444444,
             "#000015"
            ],
            [
             0.5555555555555556,
             "#000016"
            ],
            [
             0.6666666666666666,
             "#000017"
            ],
            [
             0.7777777777777778,
             "#000018"
            ],
            [
             0.8888888888888888,
             "#000019"
            ],
            [
             1,
             "#000020"
            ]
           ]
          },
          "colorway": [
           "#000001",
           "#000002",
           "#000003",
           "#000004",
           "#000005",
           "#000006",
           "#000007",
           "#000008",
           "#000009",
           "#000010"
          ]
         }
        },
        "title": {
         "text": "Calls Per Hour"
        },
        "xaxis": {
         "anchor": "y",
         "domain": [
          0,
          1
         ],
         "dtick": 1,
         "title": {
          "text": "Hour"
         }
        },
        "yaxis": {
         "anchor": "x",
         "domain": [
          0,
          1
         ],
         "title": {
          "text": "Total Calls Per Hour Across Simulation<br>Averaged Across Simulation Runs"
         }
        }
       }
      }
     },
     "metadata": {},
     "output_type": "display_data"
    }
   ],
   "source": [
    "import _job_count_calculation\n",
    "\n",
    "_job_count_calculation.plot_hourly_call_counts(call_df, params_df)"
   ]
  },
  {
   "cell_type": "code",
   "execution_count": 18,
   "metadata": {},
   "outputs": [
    {
     "data": {
      "text/html": [
       "\n",
       "<style>\n",
       "@import url('https://fonts.googleapis.com/css2?family=Poppins:wght@400;700&display=swap');\n",
       "body, .plotly-title, .plotly-axis-label, .plotly-tick-label {\n",
       "    font-family: 'Poppins', sans-serif !important;\n",
       "}\n",
       "</style>\n"
      ],
      "text/plain": [
       "<IPython.core.display.HTML object>"
      ]
     },
     "execution_count": 18,
     "metadata": {},
     "output_type": "execute_result"
    }
   ],
   "source": [
    "from IPython.core.display import HTML\n",
    "google_font_url = \"https://fonts.googleapis.com/css2?family=Poppins:wght@400;700&display=swap\"\n",
    "# Inject the CSS into the Jupyter Notebook\n",
    "HTML(f\"\"\"\n",
    "<style>\n",
    "@import url('{google_font_url}');\n",
    "body, .plotly-title, .plotly-axis-label, .plotly-tick-label {{\n",
    "    font-family: 'Poppins', sans-serif !important;\n",
    "}}\n",
    "</style>\n",
    "\"\"\")"
   ]
  },
  {
   "cell_type": "code",
   "execution_count": 19,
   "metadata": {},
   "outputs": [
    {
     "data": {
      "application/vnd.plotly.v1+json": {
       "config": {
        "plotlyServerURL": "https://plot.ly"
       },
       "data": [
        {
         "alignmentgroup": "True",
         "error_y": {
          "array": [
           0.012673230030260918,
           0.010111427471990697,
           0.0009686394262829419,
           0,
           0.0025594485835447327,
           0.005470432374515249,
           0.01052774777669217,
           0.018205322398055727,
           0.02588318107053784,
           0.029698255011904175,
           0.04134411934104863,
           0.02117103816908766,
           0.03154726100224762,
           0.03234489351310285,
           0.04202529912634882,
           0.031520638968474735,
           0.0306951651489988,
           0.02802454208831362,
           0.01837864091095716,
           0.021006185741561795,
           0.02322822047993406,
           0.02087033796338973,
           0.01608058146940185,
           0.017699741706741597
          ],
          "color": "#1F1F1F"
         },
         "hovertemplate": "Hour=%{x}<br>Average Daily Calls Across Simulation<br>Averaged Across Simulation Runs=%{y}<extra></extra>",
         "legendgroup": "",
         "marker": {
          "color": "#00B0B9",
          "pattern": {
           "shape": ""
          }
         },
         "name": "",
         "offsetgroup": "",
         "orientation": "v",
         "showlegend": false,
         "textposition": "auto",
         "type": "bar",
         "x": [
          0,
          1,
          2,
          3,
          4,
          5,
          6,
          7,
          8,
          9,
          10,
          11,
          12,
          13,
          14,
          15,
          16,
          17,
          18,
          19,
          20,
          21,
          22,
          23
         ],
         "xaxis": "x",
         "y": [
          0.0784931506849315,
          0.034520547945205475,
          0.0030821917808219177,
          0.0027397260273972603,
          0.00398505603985056,
          0.013013698630136987,
          0.026986301369863012,
          0.12589041095890413,
          0.21397260273972601,
          0.3031506849315069,
          0.39835616438356164,
          0.42424657534246574,
          0.41424657534246573,
          0.34986301369863015,
          0.34287671232876715,
          0.3752054794520548,
          0.29849315068493154,
          0.2493150684931507,
          0.20410958904109588,
          0.20534246575342466,
          0.17876712328767122,
          0.1310958904109589,
          0.12698630136986302,
          0.11917808219178082
         ],
         "yaxis": "y"
        }
       ],
       "layout": {
        "barmode": "relative",
        "legend": {
         "tracegroupgap": 0
        },
        "template": {
         "data": {
          "candlestick": [
           {
            "decreasing": {
             "line": {
              "color": "#000033"
             }
            },
            "increasing": {
             "line": {
              "color": "#000032"
             }
            },
            "type": "candlestick"
           }
          ],
          "contour": [
           {
            "colorscale": [
             [
              0,
              "#000011"
             ],
             [
              0.1111111111111111,
              "#000012"
             ],
             [
              0.2222222222222222,
              "#000013"
             ],
             [
              0.3333333333333333,
              "#000014"
             ],
             [
              0.4444444444444444,
              "#000015"
             ],
             [
              0.5555555555555556,
              "#000016"
             ],
             [
              0.6666666666666666,
              "#000017"
             ],
             [
              0.7777777777777778,
              "#000018"
             ],
             [
              0.8888888888888888,
              "#000019"
             ],
             [
              1,
              "#000020"
             ]
            ],
            "type": "contour"
           }
          ],
          "contourcarpet": [
           {
            "colorscale": [
             [
              0,
              "#000011"
             ],
             [
              0.1111111111111111,
              "#000012"
             ],
             [
              0.2222222222222222,
              "#000013"
             ],
             [
              0.3333333333333333,
              "#000014"
             ],
             [
              0.4444444444444444,
              "#000015"
             ],
             [
              0.5555555555555556,
              "#000016"
             ],
             [
              0.6666666666666666,
              "#000017"
             ],
             [
              0.7777777777777778,
              "#000018"
             ],
             [
              0.8888888888888888,
              "#000019"
             ],
             [
              1,
              "#000020"
             ]
            ],
            "type": "contourcarpet"
           }
          ],
          "heatmap": [
           {
            "colorscale": [
             [
              0,
              "#000011"
             ],
             [
              0.1111111111111111,
              "#000012"
             ],
             [
              0.2222222222222222,
              "#000013"
             ],
             [
              0.3333333333333333,
              "#000014"
             ],
             [
              0.4444444444444444,
              "#000015"
             ],
             [
              0.5555555555555556,
              "#000016"
             ],
             [
              0.6666666666666666,
              "#000017"
             ],
             [
              0.7777777777777778,
              "#000018"
             ],
             [
              0.8888888888888888,
              "#000019"
             ],
             [
              1,
              "#000020"
             ]
            ],
            "type": "heatmap"
           }
          ],
          "histogram2d": [
           {
            "colorscale": [
             [
              0,
              "#000011"
             ],
             [
              0.1111111111111111,
              "#000012"
             ],
             [
              0.2222222222222222,
              "#000013"
             ],
             [
              0.3333333333333333,
              "#000014"
             ],
             [
              0.4444444444444444,
              "#000015"
             ],
             [
              0.5555555555555556,
              "#000016"
             ],
             [
              0.6666666666666666,
              "#000017"
             ],
             [
              0.7777777777777778,
              "#000018"
             ],
             [
              0.8888888888888888,
              "#000019"
             ],
             [
              1,
              "#000020"
             ]
            ],
            "type": "histogram2d"
           }
          ],
          "icicle": [
           {
            "textfont": {
             "color": "white"
            },
            "type": "icicle"
           }
          ],
          "sankey": [
           {
            "textfont": {
             "color": "#000036"
            },
            "type": "sankey"
           }
          ],
          "scatter": [
           {
            "marker": {
             "line": {
              "width": 0
             }
            },
            "type": "scatter"
           }
          ],
          "table": [
           {
            "cells": {
             "fill": {
              "color": "#000038"
             },
             "font": {
              "color": "#000037"
             },
             "line": {
              "color": "#000039"
             }
            },
            "header": {
             "fill": {
              "color": "#000040"
             },
             "font": {
              "color": "#000036"
             },
             "line": {
              "color": "#000039"
             }
            },
            "type": "table"
           }
          ],
          "waterfall": [
           {
            "connector": {
             "line": {
              "color": "#000036",
              "width": 2
             }
            },
            "decreasing": {
             "marker": {
              "color": "#000033"
             }
            },
            "increasing": {
             "marker": {
              "color": "#000032"
             }
            },
            "totals": {
             "marker": {
              "color": "#000034"
             }
            },
            "type": "waterfall"
           }
          ]
         },
         "layout": {
          "coloraxis": {
           "colorscale": [
            [
             0,
             "#000011"
            ],
            [
             0.1111111111111111,
             "#000012"
            ],
            [
             0.2222222222222222,
             "#000013"
            ],
            [
             0.3333333333333333,
             "#000014"
            ],
            [
             0.4444444444444444,
             "#000015"
            ],
            [
             0.5555555555555556,
             "#000016"
            ],
            [
             0.6666666666666666,
             "#000017"
            ],
            [
             0.7777777777777778,
             "#000018"
            ],
            [
             0.8888888888888888,
             "#000019"
            ],
            [
             1,
             "#000020"
            ]
           ]
          },
          "colorscale": {
           "diverging": [
            [
             0,
             "#000021"
            ],
            [
             0.1,
             "#000022"
            ],
            [
             0.2,
             "#000023"
            ],
            [
             0.3,
             "#000024"
            ],
            [
             0.4,
             "#000025"
            ],
            [
             0.5,
             "#000026"
            ],
            [
             0.6,
             "#000027"
            ],
            [
             0.7,
             "#000028"
            ],
            [
             0.8,
             "#000029"
            ],
            [
             0.9,
             "#000030"
            ],
            [
             1,
             "#000031"
            ]
           ],
           "sequential": [
            [
             0,
             "#000011"
            ],
            [
             0.1111111111111111,
             "#000012"
            ],
            [
             0.2222222222222222,
             "#000013"
            ],
            [
             0.3333333333333333,
             "#000014"
            ],
            [
             0.4444444444444444,
             "#000015"
            ],
            [
             0.5555555555555556,
             "#000016"
            ],
            [
             0.6666666666666666,
             "#000017"
            ],
            [
             0.7777777777777778,
             "#000018"
            ],
            [
             0.8888888888888888,
             "#000019"
            ],
            [
             1,
             "#000020"
            ]
           ],
           "sequentialminus": [
            [
             0,
             "#000011"
            ],
            [
             0.1111111111111111,
             "#000012"
            ],
            [
             0.2222222222222222,
             "#000013"
            ],
            [
             0.3333333333333333,
             "#000014"
            ],
            [
             0.4444444444444444,
             "#000015"
            ],
            [
             0.5555555555555556,
             "#000016"
            ],
            [
             0.6666666666666666,
             "#000017"
            ],
            [
             0.7777777777777778,
             "#000018"
            ],
            [
             0.8888888888888888,
             "#000019"
            ],
            [
             1,
             "#000020"
            ]
           ]
          },
          "colorway": [
           "#000001",
           "#000002",
           "#000003",
           "#000004",
           "#000005",
           "#000006",
           "#000007",
           "#000008",
           "#000009",
           "#000010"
          ]
         }
        },
        "title": {
         "text": "Calls Per Hour"
        },
        "xaxis": {
         "anchor": "y",
         "domain": [
          0,
          1
         ],
         "dtick": 1,
         "title": {
          "text": "Hour"
         }
        },
        "yaxis": {
         "anchor": "x",
         "domain": [
          0,
          1
         ],
         "title": {
          "text": "Average Daily Calls Across Simulation<br>Averaged Across Simulation Runs"
         }
        }
       }
      }
     },
     "metadata": {},
     "output_type": "display_data"
    }
   ],
   "source": [
    "_job_count_calculation.plot_hourly_call_counts(call_df, params_df, average_per_hour=True)"
   ]
  },
  {
   "cell_type": "code",
   "execution_count": 20,
   "metadata": {},
   "outputs": [
    {
     "data": {
      "application/vnd.plotly.v1+json": {
       "config": {
        "plotlyServerURL": "https://plot.ly"
       },
       "data": [
        {
         "alignmentgroup": "True",
         "error_y": {
          "array": [
           0.012673230030260918,
           0.010111427471990697,
           0.0009686394262829419,
           0,
           0.0025594485835447327,
           0.005470432374515249,
           0.01052774777669217,
           0.018205322398055727,
           0.02588318107053784,
           0.029698255011904175,
           0.04134411934104863,
           0.02117103816908766,
           0.03154726100224762,
           0.03234489351310285,
           0.04202529912634882,
           0.031520638968474735,
           0.0306951651489988,
           0.02802454208831362,
           0.01837864091095716,
           0.021006185741561795,
           0.02322822047993406,
           0.02087033796338973,
           0.01608058146940185,
           0.017699741706741597
          ],
          "color": "#D50032"
         },
         "hovertemplate": "Hour=%{x}<br>Average Daily Calls Across Simulation<br>Averaged Across Simulation Runs=%{y}<extra></extra>",
         "legendgroup": "",
         "marker": {
          "color": "#00B0B9",
          "pattern": {
           "shape": ""
          }
         },
         "name": "",
         "offsetgroup": "",
         "orientation": "v",
         "showlegend": false,
         "textposition": "auto",
         "type": "bar",
         "x": [
          0,
          1,
          2,
          3,
          4,
          5,
          6,
          7,
          8,
          9,
          10,
          11,
          12,
          13,
          14,
          15,
          16,
          17,
          18,
          19,
          20,
          21,
          22,
          23
         ],
         "xaxis": "x",
         "y": [
          0.0784931506849315,
          0.034520547945205475,
          0.0030821917808219177,
          0.0027397260273972603,
          0.00398505603985056,
          0.013013698630136987,
          0.026986301369863012,
          0.12589041095890413,
          0.21397260273972601,
          0.3031506849315069,
          0.39835616438356164,
          0.42424657534246574,
          0.41424657534246573,
          0.34986301369863015,
          0.34287671232876715,
          0.3752054794520548,
          0.29849315068493154,
          0.2493150684931507,
          0.20410958904109588,
          0.20534246575342466,
          0.17876712328767122,
          0.1310958904109589,
          0.12698630136986302,
          0.11917808219178082
         ],
         "yaxis": "y"
        }
       ],
       "layout": {
        "barmode": "relative",
        "legend": {
         "tracegroupgap": 0
        },
        "template": {
         "data": {
          "candlestick": [
           {
            "decreasing": {
             "line": {
              "color": "#000033"
             }
            },
            "increasing": {
             "line": {
              "color": "#000032"
             }
            },
            "type": "candlestick"
           }
          ],
          "contour": [
           {
            "colorscale": [
             [
              0,
              "#000011"
             ],
             [
              0.1111111111111111,
              "#000012"
             ],
             [
              0.2222222222222222,
              "#000013"
             ],
             [
              0.3333333333333333,
              "#000014"
             ],
             [
              0.4444444444444444,
              "#000015"
             ],
             [
              0.5555555555555556,
              "#000016"
             ],
             [
              0.6666666666666666,
              "#000017"
             ],
             [
              0.7777777777777778,
              "#000018"
             ],
             [
              0.8888888888888888,
              "#000019"
             ],
             [
              1,
              "#000020"
             ]
            ],
            "type": "contour"
           }
          ],
          "contourcarpet": [
           {
            "colorscale": [
             [
              0,
              "#000011"
             ],
             [
              0.1111111111111111,
              "#000012"
             ],
             [
              0.2222222222222222,
              "#000013"
             ],
             [
              0.3333333333333333,
              "#000014"
             ],
             [
              0.4444444444444444,
              "#000015"
             ],
             [
              0.5555555555555556,
              "#000016"
             ],
             [
              0.6666666666666666,
              "#000017"
             ],
             [
              0.7777777777777778,
              "#000018"
             ],
             [
              0.8888888888888888,
              "#000019"
             ],
             [
              1,
              "#000020"
             ]
            ],
            "type": "contourcarpet"
           }
          ],
          "heatmap": [
           {
            "colorscale": [
             [
              0,
              "#000011"
             ],
             [
              0.1111111111111111,
              "#000012"
             ],
             [
              0.2222222222222222,
              "#000013"
             ],
             [
              0.3333333333333333,
              "#000014"
             ],
             [
              0.4444444444444444,
              "#000015"
             ],
             [
              0.5555555555555556,
              "#000016"
             ],
             [
              0.6666666666666666,
              "#000017"
             ],
             [
              0.7777777777777778,
              "#000018"
             ],
             [
              0.8888888888888888,
              "#000019"
             ],
             [
              1,
              "#000020"
             ]
            ],
            "type": "heatmap"
           }
          ],
          "histogram2d": [
           {
            "colorscale": [
             [
              0,
              "#000011"
             ],
             [
              0.1111111111111111,
              "#000012"
             ],
             [
              0.2222222222222222,
              "#000013"
             ],
             [
              0.3333333333333333,
              "#000014"
             ],
             [
              0.4444444444444444,
              "#000015"
             ],
             [
              0.5555555555555556,
              "#000016"
             ],
             [
              0.6666666666666666,
              "#000017"
             ],
             [
              0.7777777777777778,
              "#000018"
             ],
             [
              0.8888888888888888,
              "#000019"
             ],
             [
              1,
              "#000020"
             ]
            ],
            "type": "histogram2d"
           }
          ],
          "icicle": [
           {
            "textfont": {
             "color": "white"
            },
            "type": "icicle"
           }
          ],
          "sankey": [
           {
            "textfont": {
             "color": "#000036"
            },
            "type": "sankey"
           }
          ],
          "scatter": [
           {
            "marker": {
             "line": {
              "width": 0
             }
            },
            "type": "scatter"
           }
          ],
          "table": [
           {
            "cells": {
             "fill": {
              "color": "#000038"
             },
             "font": {
              "color": "#000037"
             },
             "line": {
              "color": "#000039"
             }
            },
            "header": {
             "fill": {
              "color": "#000040"
             },
             "font": {
              "color": "#000036"
             },
             "line": {
              "color": "#000039"
             }
            },
            "type": "table"
           }
          ],
          "waterfall": [
           {
            "connector": {
             "line": {
              "color": "#000036",
              "width": 2
             }
            },
            "decreasing": {
             "marker": {
              "color": "#000033"
             }
            },
            "increasing": {
             "marker": {
              "color": "#000032"
             }
            },
            "totals": {
             "marker": {
              "color": "#000034"
             }
            },
            "type": "waterfall"
           }
          ]
         },
         "layout": {
          "coloraxis": {
           "colorscale": [
            [
             0,
             "#000011"
            ],
            [
             0.1111111111111111,
             "#000012"
            ],
            [
             0.2222222222222222,
             "#000013"
            ],
            [
             0.3333333333333333,
             "#000014"
            ],
            [
             0.4444444444444444,
             "#000015"
            ],
            [
             0.5555555555555556,
             "#000016"
            ],
            [
             0.6666666666666666,
             "#000017"
            ],
            [
             0.7777777777777778,
             "#000018"
            ],
            [
             0.8888888888888888,
             "#000019"
            ],
            [
             1,
             "#000020"
            ]
           ]
          },
          "colorscale": {
           "diverging": [
            [
             0,
             "#000021"
            ],
            [
             0.1,
             "#000022"
            ],
            [
             0.2,
             "#000023"
            ],
            [
             0.3,
             "#000024"
            ],
            [
             0.4,
             "#000025"
            ],
            [
             0.5,
             "#000026"
            ],
            [
             0.6,
             "#000027"
            ],
            [
             0.7,
             "#000028"
            ],
            [
             0.8,
             "#000029"
            ],
            [
             0.9,
             "#000030"
            ],
            [
             1,
             "#000031"
            ]
           ],
           "sequential": [
            [
             0,
             "#000011"
            ],
            [
             0.1111111111111111,
             "#000012"
            ],
            [
             0.2222222222222222,
             "#000013"
            ],
            [
             0.3333333333333333,
             "#000014"
            ],
            [
             0.4444444444444444,
             "#000015"
            ],
            [
             0.5555555555555556,
             "#000016"
            ],
            [
             0.6666666666666666,
             "#000017"
            ],
            [
             0.7777777777777778,
             "#000018"
            ],
            [
             0.8888888888888888,
             "#000019"
            ],
            [
             1,
             "#000020"
            ]
           ],
           "sequentialminus": [
            [
             0,
             "#000011"
            ],
            [
             0.1111111111111111,
             "#000012"
            ],
            [
             0.2222222222222222,
             "#000013"
            ],
            [
             0.3333333333333333,
             "#000014"
            ],
            [
             0.4444444444444444,
             "#000015"
            ],
            [
             0.5555555555555556,
             "#000016"
            ],
            [
             0.6666666666666666,
             "#000017"
            ],
            [
             0.7777777777777778,
             "#000018"
            ],
            [
             0.8888888888888888,
             "#000019"
            ],
            [
             1,
             "#000020"
            ]
           ]
          },
          "colorway": [
           "#000001",
           "#000002",
           "#000003",
           "#000004",
           "#000005",
           "#000006",
           "#000007",
           "#000008",
           "#000009",
           "#000010"
          ]
         }
        },
        "title": {
         "text": "Calls Per Hour"
        },
        "xaxis": {
         "anchor": "y",
         "domain": [
          0,
          1
         ],
         "dtick": 1,
         "title": {
          "text": "Hour"
         }
        },
        "yaxis": {
         "anchor": "x",
         "domain": [
          0,
          1
         ],
         "title": {
          "text": "Average Daily Calls Across Simulation<br>Averaged Across Simulation Runs"
         }
        }
       }
      }
     },
     "metadata": {},
     "output_type": "display_data"
    }
   ],
   "source": [
    "_job_count_calculation.plot_hourly_call_counts(call_df, params_df, average_per_hour=True,\n",
    "                                               error_bar_colour=\"red\")"
   ]
  },
  {
   "cell_type": "code",
   "execution_count": 21,
   "metadata": {},
   "outputs": [
    {
     "data": {
      "application/vnd.plotly.v1+json": {
       "config": {
        "plotlyServerURL": "https://plot.ly"
       },
       "data": [
        {
         "alignmentgroup": "True",
         "error_y": {
          "array": [
           0.012673230030260918,
           0.010111427471990697,
           0.0009686394262829419,
           0,
           0.0025594485835447327,
           0.005470432374515249,
           0.01052774777669217,
           0.018205322398055727,
           0.02588318107053784,
           0.029698255011904175,
           0.04134411934104863,
           0.02117103816908766,
           0.03154726100224762,
           0.03234489351310285,
           0.04202529912634882,
           0.031520638968474735,
           0.0306951651489988,
           0.02802454208831362,
           0.01837864091095716,
           0.021006185741561795,
           0.02322822047993406,
           0.02087033796338973,
           0.01608058146940185,
           0.017699741706741597
          ],
          "color": "#1F1F1F"
         },
         "hovertemplate": "Hour=%{x}<br>Average Daily Calls Across Simulation<br>Averaged Across Simulation Runs=%{y}<extra></extra>",
         "legendgroup": "",
         "marker": {
          "color": "#00B0B9",
          "pattern": {
           "shape": ""
          }
         },
         "name": "",
         "offsetgroup": "",
         "orientation": "v",
         "showlegend": false,
         "textposition": "auto",
         "type": "bar",
         "x": [
          0,
          1,
          2,
          3,
          4,
          5,
          6,
          7,
          8,
          9,
          10,
          11,
          12,
          13,
          14,
          15,
          16,
          17,
          18,
          19,
          20,
          21,
          22,
          23
         ],
         "xaxis": "x",
         "y": [
          0.0784931506849315,
          0.034520547945205475,
          0.0030821917808219177,
          0.0027397260273972603,
          0.00398505603985056,
          0.013013698630136987,
          0.026986301369863012,
          0.12589041095890413,
          0.21397260273972601,
          0.3031506849315069,
          0.39835616438356164,
          0.42424657534246574,
          0.41424657534246573,
          0.34986301369863015,
          0.34287671232876715,
          0.3752054794520548,
          0.29849315068493154,
          0.2493150684931507,
          0.20410958904109588,
          0.20534246575342466,
          0.17876712328767122,
          0.1310958904109589,
          0.12698630136986302,
          0.11917808219178082
         ],
         "yaxis": "y"
        }
       ],
       "layout": {
        "barmode": "relative",
        "font": {
         "color": "black",
         "family": "Poppins",
         "size": 18
        },
        "legend": {
         "tracegroupgap": 0
        },
        "template": {
         "data": {
          "candlestick": [
           {
            "decreasing": {
             "line": {
              "color": "#000033"
             }
            },
            "increasing": {
             "line": {
              "color": "#000032"
             }
            },
            "type": "candlestick"
           }
          ],
          "contour": [
           {
            "colorscale": [
             [
              0,
              "#000011"
             ],
             [
              0.1111111111111111,
              "#000012"
             ],
             [
              0.2222222222222222,
              "#000013"
             ],
             [
              0.3333333333333333,
              "#000014"
             ],
             [
              0.4444444444444444,
              "#000015"
             ],
             [
              0.5555555555555556,
              "#000016"
             ],
             [
              0.6666666666666666,
              "#000017"
             ],
             [
              0.7777777777777778,
              "#000018"
             ],
             [
              0.8888888888888888,
              "#000019"
             ],
             [
              1,
              "#000020"
             ]
            ],
            "type": "contour"
           }
          ],
          "contourcarpet": [
           {
            "colorscale": [
             [
              0,
              "#000011"
             ],
             [
              0.1111111111111111,
              "#000012"
             ],
             [
              0.2222222222222222,
              "#000013"
             ],
             [
              0.3333333333333333,
              "#000014"
             ],
             [
              0.4444444444444444,
              "#000015"
             ],
             [
              0.5555555555555556,
              "#000016"
             ],
             [
              0.6666666666666666,
              "#000017"
             ],
             [
              0.7777777777777778,
              "#000018"
             ],
             [
              0.8888888888888888,
              "#000019"
             ],
             [
              1,
              "#000020"
             ]
            ],
            "type": "contourcarpet"
           }
          ],
          "heatmap": [
           {
            "colorscale": [
             [
              0,
              "#000011"
             ],
             [
              0.1111111111111111,
              "#000012"
             ],
             [
              0.2222222222222222,
              "#000013"
             ],
             [
              0.3333333333333333,
              "#000014"
             ],
             [
              0.4444444444444444,
              "#000015"
             ],
             [
              0.5555555555555556,
              "#000016"
             ],
             [
              0.6666666666666666,
              "#000017"
             ],
             [
              0.7777777777777778,
              "#000018"
             ],
             [
              0.8888888888888888,
              "#000019"
             ],
             [
              1,
              "#000020"
             ]
            ],
            "type": "heatmap"
           }
          ],
          "histogram2d": [
           {
            "colorscale": [
             [
              0,
              "#000011"
             ],
             [
              0.1111111111111111,
              "#000012"
             ],
             [
              0.2222222222222222,
              "#000013"
             ],
             [
              0.3333333333333333,
              "#000014"
             ],
             [
              0.4444444444444444,
              "#000015"
             ],
             [
              0.5555555555555556,
              "#000016"
             ],
             [
              0.6666666666666666,
              "#000017"
             ],
             [
              0.7777777777777778,
              "#000018"
             ],
             [
              0.8888888888888888,
              "#000019"
             ],
             [
              1,
              "#000020"
             ]
            ],
            "type": "histogram2d"
           }
          ],
          "icicle": [
           {
            "textfont": {
             "color": "white"
            },
            "type": "icicle"
           }
          ],
          "sankey": [
           {
            "textfont": {
             "color": "#000036"
            },
            "type": "sankey"
           }
          ],
          "scatter": [
           {
            "marker": {
             "line": {
              "width": 0
             }
            },
            "type": "scatter"
           }
          ],
          "table": [
           {
            "cells": {
             "fill": {
              "color": "#000038"
             },
             "font": {
              "color": "#000037"
             },
             "line": {
              "color": "#000039"
             }
            },
            "header": {
             "fill": {
              "color": "#000040"
             },
             "font": {
              "color": "#000036"
             },
             "line": {
              "color": "#000039"
             }
            },
            "type": "table"
           }
          ],
          "waterfall": [
           {
            "connector": {
             "line": {
              "color": "#000036",
              "width": 2
             }
            },
            "decreasing": {
             "marker": {
              "color": "#000033"
             }
            },
            "increasing": {
             "marker": {
              "color": "#000032"
             }
            },
            "totals": {
             "marker": {
              "color": "#000034"
             }
            },
            "type": "waterfall"
           }
          ]
         },
         "layout": {
          "coloraxis": {
           "colorscale": [
            [
             0,
             "#000011"
            ],
            [
             0.1111111111111111,
             "#000012"
            ],
            [
             0.2222222222222222,
             "#000013"
            ],
            [
             0.3333333333333333,
             "#000014"
            ],
            [
             0.4444444444444444,
             "#000015"
            ],
            [
             0.5555555555555556,
             "#000016"
            ],
            [
             0.6666666666666666,
             "#000017"
            ],
            [
             0.7777777777777778,
             "#000018"
            ],
            [
             0.8888888888888888,
             "#000019"
            ],
            [
             1,
             "#000020"
            ]
           ]
          },
          "colorscale": {
           "diverging": [
            [
             0,
             "#000021"
            ],
            [
             0.1,
             "#000022"
            ],
            [
             0.2,
             "#000023"
            ],
            [
             0.3,
             "#000024"
            ],
            [
             0.4,
             "#000025"
            ],
            [
             0.5,
             "#000026"
            ],
            [
             0.6,
             "#000027"
            ],
            [
             0.7,
             "#000028"
            ],
            [
             0.8,
             "#000029"
            ],
            [
             0.9,
             "#000030"
            ],
            [
             1,
             "#000031"
            ]
           ],
           "sequential": [
            [
             0,
             "#000011"
            ],
            [
             0.1111111111111111,
             "#000012"
            ],
            [
             0.2222222222222222,
             "#000013"
            ],
            [
             0.3333333333333333,
             "#000014"
            ],
            [
             0.4444444444444444,
             "#000015"
            ],
            [
             0.5555555555555556,
             "#000016"
            ],
            [
             0.6666666666666666,
             "#000017"
            ],
            [
             0.7777777777777778,
             "#000018"
            ],
            [
             0.8888888888888888,
             "#000019"
            ],
            [
             1,
             "#000020"
            ]
           ],
           "sequentialminus": [
            [
             0,
             "#000011"
            ],
            [
             0.1111111111111111,
             "#000012"
            ],
            [
             0.2222222222222222,
             "#000013"
            ],
            [
             0.3333333333333333,
             "#000014"
            ],
            [
             0.4444444444444444,
             "#000015"
            ],
            [
             0.5555555555555556,
             "#000016"
            ],
            [
             0.6666666666666666,
             "#000017"
            ],
            [
             0.7777777777777778,
             "#000018"
            ],
            [
             0.8888888888888888,
             "#000019"
            ],
            [
             1,
             "#000020"
            ]
           ]
          },
          "colorway": [
           "#000001",
           "#000002",
           "#000003",
           "#000004",
           "#000005",
           "#000006",
           "#000007",
           "#000008",
           "#000009",
           "#000010"
          ]
         }
        },
        "title": {
         "text": "Calls Per Hour"
        },
        "xaxis": {
         "anchor": "y",
         "domain": [
          0,
          1
         ],
         "dtick": 1,
         "title": {
          "text": "Hour"
         }
        },
        "yaxis": {
         "anchor": "x",
         "domain": [
          0,
          1
         ],
         "title": {
          "text": "Average Daily Calls Across Simulation<br>Averaged Across Simulation Runs"
         }
        }
       }
      }
     },
     "metadata": {},
     "output_type": "display_data"
    }
   ],
   "source": [
    "_job_count_calculation.plot_hourly_call_counts(call_df, params_df, average_per_hour=True, use_poppins=True)"
   ]
  },
  {
   "cell_type": "code",
   "execution_count": 22,
   "metadata": {},
   "outputs": [
    {
     "data": {
      "application/vnd.plotly.v1+json": {
       "config": {
        "plotlyServerURL": "https://plot.ly"
       },
       "data": [
        {
         "alignmentgroup": "True",
         "hovertemplate": "Hour=%{x}<br>Total Calls Per Hour Across Simulation<br>Averaged Across Simulation Runs=%{y}<extra></extra>",
         "legendgroup": "",
         "marker": {
          "color": "#00B0B9"
         },
         "name": "",
         "notched": false,
         "offsetgroup": "",
         "orientation": "v",
         "showlegend": false,
         "type": "box",
         "x": [
          0,
          0,
          0,
          0,
          0,
          0,
          0,
          0,
          0,
          0,
          0,
          0,
          0,
          0,
          0,
          0,
          0,
          0,
          0,
          0,
          1,
          1,
          1,
          1,
          1,
          1,
          1,
          1,
          1,
          1,
          1,
          1,
          1,
          1,
          1,
          1,
          1,
          1,
          1,
          1,
          2,
          2,
          2,
          2,
          2,
          2,
          2,
          2,
          3,
          3,
          3,
          3,
          4,
          4,
          4,
          4,
          4,
          4,
          4,
          4,
          4,
          4,
          4,
          5,
          5,
          5,
          5,
          5,
          5,
          5,
          5,
          5,
          5,
          5,
          5,
          5,
          5,
          5,
          5,
          5,
          5,
          5,
          5,
          6,
          6,
          6,
          6,
          6,
          6,
          6,
          6,
          6,
          6,
          6,
          6,
          6,
          6,
          6,
          6,
          6,
          6,
          6,
          6,
          7,
          7,
          7,
          7,
          7,
          7,
          7,
          7,
          7,
          7,
          7,
          7,
          7,
          7,
          7,
          7,
          7,
          7,
          7,
          7,
          8,
          8,
          8,
          8,
          8,
          8,
          8,
          8,
          8,
          8,
          8,
          8,
          8,
          8,
          8,
          8,
          8,
          8,
          8,
          8,
          9,
          9,
          9,
          9,
          9,
          9,
          9,
          9,
          9,
          9,
          9,
          9,
          9,
          9,
          9,
          9,
          9,
          9,
          9,
          9,
          10,
          10,
          10,
          10,
          10,
          10,
          10,
          10,
          10,
          10,
          10,
          10,
          10,
          10,
          10,
          10,
          10,
          10,
          10,
          10,
          11,
          11,
          11,
          11,
          11,
          11,
          11,
          11,
          11,
          11,
          11,
          11,
          11,
          11,
          11,
          11,
          11,
          11,
          11,
          11,
          12,
          12,
          12,
          12,
          12,
          12,
          12,
          12,
          12,
          12,
          12,
          12,
          12,
          12,
          12,
          12,
          12,
          12,
          12,
          12,
          13,
          13,
          13,
          13,
          13,
          13,
          13,
          13,
          13,
          13,
          13,
          13,
          13,
          13,
          13,
          13,
          13,
          13,
          13,
          13,
          14,
          14,
          14,
          14,
          14,
          14,
          14,
          14,
          14,
          14,
          14,
          14,
          14,
          14,
          14,
          14,
          14,
          14,
          14,
          14,
          15,
          15,
          15,
          15,
          15,
          15,
          15,
          15,
          15,
          15,
          15,
          15,
          15,
          15,
          15,
          15,
          15,
          15,
          15,
          15,
          16,
          16,
          16,
          16,
          16,
          16,
          16,
          16,
          16,
          16,
          16,
          16,
          16,
          16,
          16,
          16,
          16,
          16,
          16,
          16,
          17,
          17,
          17,
          17,
          17,
          17,
          17,
          17,
          17,
          17,
          17,
          17,
          17,
          17,
          17,
          17,
          17,
          17,
          17,
          17,
          18,
          18,
          18,
          18,
          18,
          18,
          18,
          18,
          18,
          18,
          18,
          18,
          18,
          18,
          18,
          18,
          18,
          18,
          18,
          18,
          19,
          19,
          19,
          19,
          19,
          19,
          19,
          19,
          19,
          19,
          19,
          19,
          19,
          19,
          19,
          19,
          19,
          19,
          19,
          19,
          20,
          20,
          20,
          20,
          20,
          20,
          20,
          20,
          20,
          20,
          20,
          20,
          20,
          20,
          20,
          20,
          20,
          20,
          20,
          20,
          21,
          21,
          21,
          21,
          21,
          21,
          21,
          21,
          21,
          21,
          21,
          21,
          21,
          21,
          21,
          21,
          21,
          21,
          21,
          21,
          22,
          22,
          22,
          22,
          22,
          22,
          22,
          22,
          22,
          22,
          22,
          22,
          22,
          22,
          22,
          22,
          22,
          22,
          22,
          22,
          23,
          23,
          23,
          23,
          23,
          23,
          23,
          23,
          23,
          23,
          23,
          23,
          23,
          23,
          23,
          23,
          23,
          23,
          23,
          23
         ],
         "x0": " ",
         "xaxis": "x",
         "y": [
          33,
          22,
          36,
          32,
          24,
          30,
          22,
          29,
          26,
          32,
          33,
          22,
          25,
          36,
          27,
          31,
          30,
          30,
          22,
          31,
          6,
          12,
          10,
          18,
          13,
          10,
          7,
          16,
          14,
          10,
          9,
          12,
          11,
          12,
          11,
          15,
          12,
          16,
          18,
          20,
          1,
          1,
          1,
          1,
          1,
          1,
          2,
          1,
          1,
          1,
          1,
          1,
          4,
          1,
          1,
          2,
          2,
          1,
          1,
          1,
          1,
          1,
          1,
          7,
          7,
          2,
          6,
          7,
          6,
          4,
          6,
          5,
          4,
          8,
          4,
          4,
          4,
          2,
          7,
          2,
          4,
          1,
          5,
          9,
          10,
          9,
          15,
          7,
          4,
          12,
          11,
          16,
          9,
          10,
          6,
          14,
          10,
          7,
          9,
          8,
          4,
          8,
          19,
          46,
          45,
          53,
          56,
          51,
          35,
          51,
          44,
          50,
          49,
          51,
          34,
          31,
          50,
          41,
          47,
          46,
          42,
          45,
          52,
          92,
          68,
          80,
          67,
          90,
          70,
          70,
          81,
          76,
          92,
          94,
          63,
          81,
          75,
          77,
          78,
          73,
          66,
          89,
          80,
          118,
          119,
          122,
          84,
          113,
          111,
          108,
          106,
          105,
          117,
          101,
          118,
          118,
          112,
          123,
          99,
          98,
          130,
          112,
          99,
          135,
          149,
          126,
          148,
          119,
          133,
          162,
          166,
          139,
          150,
          145,
          127,
          128,
          165,
          139,
          151,
          141,
          175,
          151,
          159,
          146,
          153,
          159,
          151,
          160,
          148,
          153,
          146,
          164,
          150,
          161,
          150,
          144,
          155,
          174,
          157,
          167,
          153,
          158,
          148,
          128,
          128,
          157,
          136,
          158,
          145,
          154,
          168,
          169,
          163,
          150,
          156,
          159,
          144,
          155,
          148,
          160,
          153,
          152,
          141,
          106,
          123,
          129,
          119,
          122,
          128,
          133,
          115,
          133,
          142,
          144,
          135,
          116,
          144,
          142,
          125,
          131,
          103,
          136,
          128,
          126,
          119,
          116,
          155,
          111,
          103,
          115,
          139,
          126,
          123,
          145,
          125,
          133,
          99,
          141,
          97,
          136,
          126,
          132,
          136,
          147,
          140,
          125,
          140,
          141,
          135,
          159,
          140,
          139,
          143,
          144,
          122,
          139,
          123,
          123,
          126,
          123,
          136,
          163,
          131,
          119,
          103,
          108,
          119,
          107,
          124,
          134,
          93,
          107,
          96,
          98,
          101,
          94,
          121,
          105,
          121,
          114,
          100,
          112,
          103,
          98,
          85,
          87,
          100,
          83,
          91,
          78,
          72,
          113,
          91,
          93,
          85,
          102,
          86,
          92,
          95,
          107,
          78,
          99,
          85,
          74,
          78,
          74,
          75,
          79,
          80,
          84,
          83,
          74,
          83,
          64,
          70,
          78,
          64,
          61,
          67,
          73,
          82,
          72,
          75,
          73,
          70,
          63,
          74,
          74,
          78,
          76,
          79,
          64,
          73,
          69,
          68,
          96,
          81,
          81,
          67,
          85,
          79,
          72,
          77,
          76,
          64,
          59,
          62,
          72,
          57,
          84,
          62,
          62,
          64,
          60,
          63,
          73,
          71,
          55,
          59,
          62,
          50,
          73,
          77,
          49,
          49,
          49,
          47,
          49,
          57,
          43,
          49,
          56,
          66,
          32,
          53,
          44,
          38,
          45,
          40,
          42,
          48,
          44,
          57,
          48,
          42,
          54,
          43,
          43,
          51,
          52,
          44,
          48,
          40,
          41,
          57,
          41,
          49,
          58,
          38,
          49,
          46,
          39,
          44,
          60,
          46,
          39,
          42,
          38,
          52,
          45,
          48,
          39,
          44,
          37,
          43,
          44,
          45,
          45,
          44,
          43,
          48,
          27,
          41
         ],
         "y0": " ",
         "yaxis": "y"
        }
       ],
       "layout": {
        "boxmode": "group",
        "legend": {
         "tracegroupgap": 0
        },
        "template": {
         "data": {
          "candlestick": [
           {
            "decreasing": {
             "line": {
              "color": "#000033"
             }
            },
            "increasing": {
             "line": {
              "color": "#000032"
             }
            },
            "type": "candlestick"
           }
          ],
          "contour": [
           {
            "colorscale": [
             [
              0,
              "#000011"
             ],
             [
              0.1111111111111111,
              "#000012"
             ],
             [
              0.2222222222222222,
              "#000013"
             ],
             [
              0.3333333333333333,
              "#000014"
             ],
             [
              0.4444444444444444,
              "#000015"
             ],
             [
              0.5555555555555556,
              "#000016"
             ],
             [
              0.6666666666666666,
              "#000017"
             ],
             [
              0.7777777777777778,
              "#000018"
             ],
             [
              0.8888888888888888,
              "#000019"
             ],
             [
              1,
              "#000020"
             ]
            ],
            "type": "contour"
           }
          ],
          "contourcarpet": [
           {
            "colorscale": [
             [
              0,
              "#000011"
             ],
             [
              0.1111111111111111,
              "#000012"
             ],
             [
              0.2222222222222222,
              "#000013"
             ],
             [
              0.3333333333333333,
              "#000014"
             ],
             [
              0.4444444444444444,
              "#000015"
             ],
             [
              0.5555555555555556,
              "#000016"
             ],
             [
              0.6666666666666666,
              "#000017"
             ],
             [
              0.7777777777777778,
              "#000018"
             ],
             [
              0.8888888888888888,
              "#000019"
             ],
             [
              1,
              "#000020"
             ]
            ],
            "type": "contourcarpet"
           }
          ],
          "heatmap": [
           {
            "colorscale": [
             [
              0,
              "#000011"
             ],
             [
              0.1111111111111111,
              "#000012"
             ],
             [
              0.2222222222222222,
              "#000013"
             ],
             [
              0.3333333333333333,
              "#000014"
             ],
             [
              0.4444444444444444,
              "#000015"
             ],
             [
              0.5555555555555556,
              "#000016"
             ],
             [
              0.6666666666666666,
              "#000017"
             ],
             [
              0.7777777777777778,
              "#000018"
             ],
             [
              0.8888888888888888,
              "#000019"
             ],
             [
              1,
              "#000020"
             ]
            ],
            "type": "heatmap"
           }
          ],
          "histogram2d": [
           {
            "colorscale": [
             [
              0,
              "#000011"
             ],
             [
              0.1111111111111111,
              "#000012"
             ],
             [
              0.2222222222222222,
              "#000013"
             ],
             [
              0.3333333333333333,
              "#000014"
             ],
             [
              0.4444444444444444,
              "#000015"
             ],
             [
              0.5555555555555556,
              "#000016"
             ],
             [
              0.6666666666666666,
              "#000017"
             ],
             [
              0.7777777777777778,
              "#000018"
             ],
             [
              0.8888888888888888,
              "#000019"
             ],
             [
              1,
              "#000020"
             ]
            ],
            "type": "histogram2d"
           }
          ],
          "icicle": [
           {
            "textfont": {
             "color": "white"
            },
            "type": "icicle"
           }
          ],
          "sankey": [
           {
            "textfont": {
             "color": "#000036"
            },
            "type": "sankey"
           }
          ],
          "scatter": [
           {
            "marker": {
             "line": {
              "width": 0
             }
            },
            "type": "scatter"
           }
          ],
          "table": [
           {
            "cells": {
             "fill": {
              "color": "#000038"
             },
             "font": {
              "color": "#000037"
             },
             "line": {
              "color": "#000039"
             }
            },
            "header": {
             "fill": {
              "color": "#000040"
             },
             "font": {
              "color": "#000036"
             },
             "line": {
              "color": "#000039"
             }
            },
            "type": "table"
           }
          ],
          "waterfall": [
           {
            "connector": {
             "line": {
              "color": "#000036",
              "width": 2
             }
            },
            "decreasing": {
             "marker": {
              "color": "#000033"
             }
            },
            "increasing": {
             "marker": {
              "color": "#000032"
             }
            },
            "totals": {
             "marker": {
              "color": "#000034"
             }
            },
            "type": "waterfall"
           }
          ]
         },
         "layout": {
          "coloraxis": {
           "colorscale": [
            [
             0,
             "#000011"
            ],
            [
             0.1111111111111111,
             "#000012"
            ],
            [
             0.2222222222222222,
             "#000013"
            ],
            [
             0.3333333333333333,
             "#000014"
            ],
            [
             0.4444444444444444,
             "#000015"
            ],
            [
             0.5555555555555556,
             "#000016"
            ],
            [
             0.6666666666666666,
             "#000017"
            ],
            [
             0.7777777777777778,
             "#000018"
            ],
            [
             0.8888888888888888,
             "#000019"
            ],
            [
             1,
             "#000020"
            ]
           ]
          },
          "colorscale": {
           "diverging": [
            [
             0,
             "#000021"
            ],
            [
             0.1,
             "#000022"
            ],
            [
             0.2,
             "#000023"
            ],
            [
             0.3,
             "#000024"
            ],
            [
             0.4,
             "#000025"
            ],
            [
             0.5,
             "#000026"
            ],
            [
             0.6,
             "#000027"
            ],
            [
             0.7,
             "#000028"
            ],
            [
             0.8,
             "#000029"
            ],
            [
             0.9,
             "#000030"
            ],
            [
             1,
             "#000031"
            ]
           ],
           "sequential": [
            [
             0,
             "#000011"
            ],
            [
             0.1111111111111111,
             "#000012"
            ],
            [
             0.2222222222222222,
             "#000013"
            ],
            [
             0.3333333333333333,
             "#000014"
            ],
            [
             0.4444444444444444,
             "#000015"
            ],
            [
             0.5555555555555556,
             "#000016"
            ],
            [
             0.6666666666666666,
             "#000017"
            ],
            [
             0.7777777777777778,
             "#000018"
            ],
            [
             0.8888888888888888,
             "#000019"
            ],
            [
             1,
             "#000020"
            ]
           ],
           "sequentialminus": [
            [
             0,
             "#000011"
            ],
            [
             0.1111111111111111,
             "#000012"
            ],
            [
             0.2222222222222222,
             "#000013"
            ],
            [
             0.3333333333333333,
             "#000014"
            ],
            [
             0.4444444444444444,
             "#000015"
            ],
            [
             0.5555555555555556,
             "#000016"
            ],
            [
             0.6666666666666666,
             "#000017"
            ],
            [
             0.7777777777777778,
             "#000018"
            ],
            [
             0.8888888888888888,
             "#000019"
            ],
            [
             1,
             "#000020"
            ]
           ]
          },
          "colorway": [
           "#000001",
           "#000002",
           "#000003",
           "#000004",
           "#000005",
           "#000006",
           "#000007",
           "#000008",
           "#000009",
           "#000010"
          ]
         }
        },
        "title": {
         "text": "Calls Per Hour"
        },
        "xaxis": {
         "anchor": "y",
         "domain": [
          0,
          1
         ],
         "dtick": 1,
         "title": {
          "text": "Hour"
         }
        },
        "yaxis": {
         "anchor": "x",
         "domain": [
          0,
          1
         ],
         "title": {
          "text": "Total Calls Per Hour Across Simulation<br>Averaged Across Simulation Runs"
         }
        }
       }
      }
     },
     "metadata": {},
     "output_type": "display_data"
    }
   ],
   "source": [
    "_job_count_calculation.plot_hourly_call_counts(call_df, params_df, average_per_hour=False, box_plot=True)"
   ]
  },
  {
   "cell_type": "code",
   "execution_count": 23,
   "metadata": {},
   "outputs": [
    {
     "data": {
      "application/vnd.plotly.v1+json": {
       "config": {
        "plotlyServerURL": "https://plot.ly"
       },
       "data": [
        {
         "alignmentgroup": "True",
         "hovertemplate": "Hour=%{x}<br>Total Calls Per Hour Across Simulation<br>Averaged Across Simulation Runs=%{y}<extra></extra>",
         "legendgroup": "",
         "marker": {
          "color": "#00B0B9"
         },
         "name": "",
         "notched": false,
         "offsetgroup": "",
         "orientation": "v",
         "showlegend": false,
         "type": "box",
         "x": [
          0,
          0,
          0,
          0,
          0,
          0,
          0,
          0,
          0,
          0,
          0,
          0,
          0,
          0,
          0,
          0,
          0,
          0,
          0,
          0,
          1,
          1,
          1,
          1,
          1,
          1,
          1,
          1,
          1,
          1,
          1,
          1,
          1,
          1,
          1,
          1,
          1,
          1,
          1,
          1,
          2,
          2,
          2,
          2,
          2,
          2,
          2,
          2,
          3,
          3,
          3,
          3,
          4,
          4,
          4,
          4,
          4,
          4,
          4,
          4,
          4,
          4,
          4,
          5,
          5,
          5,
          5,
          5,
          5,
          5,
          5,
          5,
          5,
          5,
          5,
          5,
          5,
          5,
          5,
          5,
          5,
          5,
          5,
          6,
          6,
          6,
          6,
          6,
          6,
          6,
          6,
          6,
          6,
          6,
          6,
          6,
          6,
          6,
          6,
          6,
          6,
          6,
          6,
          7,
          7,
          7,
          7,
          7,
          7,
          7,
          7,
          7,
          7,
          7,
          7,
          7,
          7,
          7,
          7,
          7,
          7,
          7,
          7,
          8,
          8,
          8,
          8,
          8,
          8,
          8,
          8,
          8,
          8,
          8,
          8,
          8,
          8,
          8,
          8,
          8,
          8,
          8,
          8,
          9,
          9,
          9,
          9,
          9,
          9,
          9,
          9,
          9,
          9,
          9,
          9,
          9,
          9,
          9,
          9,
          9,
          9,
          9,
          9,
          10,
          10,
          10,
          10,
          10,
          10,
          10,
          10,
          10,
          10,
          10,
          10,
          10,
          10,
          10,
          10,
          10,
          10,
          10,
          10,
          11,
          11,
          11,
          11,
          11,
          11,
          11,
          11,
          11,
          11,
          11,
          11,
          11,
          11,
          11,
          11,
          11,
          11,
          11,
          11,
          12,
          12,
          12,
          12,
          12,
          12,
          12,
          12,
          12,
          12,
          12,
          12,
          12,
          12,
          12,
          12,
          12,
          12,
          12,
          12,
          13,
          13,
          13,
          13,
          13,
          13,
          13,
          13,
          13,
          13,
          13,
          13,
          13,
          13,
          13,
          13,
          13,
          13,
          13,
          13,
          14,
          14,
          14,
          14,
          14,
          14,
          14,
          14,
          14,
          14,
          14,
          14,
          14,
          14,
          14,
          14,
          14,
          14,
          14,
          14,
          15,
          15,
          15,
          15,
          15,
          15,
          15,
          15,
          15,
          15,
          15,
          15,
          15,
          15,
          15,
          15,
          15,
          15,
          15,
          15,
          16,
          16,
          16,
          16,
          16,
          16,
          16,
          16,
          16,
          16,
          16,
          16,
          16,
          16,
          16,
          16,
          16,
          16,
          16,
          16,
          17,
          17,
          17,
          17,
          17,
          17,
          17,
          17,
          17,
          17,
          17,
          17,
          17,
          17,
          17,
          17,
          17,
          17,
          17,
          17,
          18,
          18,
          18,
          18,
          18,
          18,
          18,
          18,
          18,
          18,
          18,
          18,
          18,
          18,
          18,
          18,
          18,
          18,
          18,
          18,
          19,
          19,
          19,
          19,
          19,
          19,
          19,
          19,
          19,
          19,
          19,
          19,
          19,
          19,
          19,
          19,
          19,
          19,
          19,
          19,
          20,
          20,
          20,
          20,
          20,
          20,
          20,
          20,
          20,
          20,
          20,
          20,
          20,
          20,
          20,
          20,
          20,
          20,
          20,
          20,
          21,
          21,
          21,
          21,
          21,
          21,
          21,
          21,
          21,
          21,
          21,
          21,
          21,
          21,
          21,
          21,
          21,
          21,
          21,
          21,
          22,
          22,
          22,
          22,
          22,
          22,
          22,
          22,
          22,
          22,
          22,
          22,
          22,
          22,
          22,
          22,
          22,
          22,
          22,
          22,
          23,
          23,
          23,
          23,
          23,
          23,
          23,
          23,
          23,
          23,
          23,
          23,
          23,
          23,
          23,
          23,
          23,
          23,
          23,
          23
         ],
         "x0": " ",
         "xaxis": "x",
         "y": [
          33,
          22,
          36,
          32,
          24,
          30,
          22,
          29,
          26,
          32,
          33,
          22,
          25,
          36,
          27,
          31,
          30,
          30,
          22,
          31,
          6,
          12,
          10,
          18,
          13,
          10,
          7,
          16,
          14,
          10,
          9,
          12,
          11,
          12,
          11,
          15,
          12,
          16,
          18,
          20,
          1,
          1,
          1,
          1,
          1,
          1,
          2,
          1,
          1,
          1,
          1,
          1,
          4,
          1,
          1,
          2,
          2,
          1,
          1,
          1,
          1,
          1,
          1,
          7,
          7,
          2,
          6,
          7,
          6,
          4,
          6,
          5,
          4,
          8,
          4,
          4,
          4,
          2,
          7,
          2,
          4,
          1,
          5,
          9,
          10,
          9,
          15,
          7,
          4,
          12,
          11,
          16,
          9,
          10,
          6,
          14,
          10,
          7,
          9,
          8,
          4,
          8,
          19,
          46,
          45,
          53,
          56,
          51,
          35,
          51,
          44,
          50,
          49,
          51,
          34,
          31,
          50,
          41,
          47,
          46,
          42,
          45,
          52,
          92,
          68,
          80,
          67,
          90,
          70,
          70,
          81,
          76,
          92,
          94,
          63,
          81,
          75,
          77,
          78,
          73,
          66,
          89,
          80,
          118,
          119,
          122,
          84,
          113,
          111,
          108,
          106,
          105,
          117,
          101,
          118,
          118,
          112,
          123,
          99,
          98,
          130,
          112,
          99,
          135,
          149,
          126,
          148,
          119,
          133,
          162,
          166,
          139,
          150,
          145,
          127,
          128,
          165,
          139,
          151,
          141,
          175,
          151,
          159,
          146,
          153,
          159,
          151,
          160,
          148,
          153,
          146,
          164,
          150,
          161,
          150,
          144,
          155,
          174,
          157,
          167,
          153,
          158,
          148,
          128,
          128,
          157,
          136,
          158,
          145,
          154,
          168,
          169,
          163,
          150,
          156,
          159,
          144,
          155,
          148,
          160,
          153,
          152,
          141,
          106,
          123,
          129,
          119,
          122,
          128,
          133,
          115,
          133,
          142,
          144,
          135,
          116,
          144,
          142,
          125,
          131,
          103,
          136,
          128,
          126,
          119,
          116,
          155,
          111,
          103,
          115,
          139,
          126,
          123,
          145,
          125,
          133,
          99,
          141,
          97,
          136,
          126,
          132,
          136,
          147,
          140,
          125,
          140,
          141,
          135,
          159,
          140,
          139,
          143,
          144,
          122,
          139,
          123,
          123,
          126,
          123,
          136,
          163,
          131,
          119,
          103,
          108,
          119,
          107,
          124,
          134,
          93,
          107,
          96,
          98,
          101,
          94,
          121,
          105,
          121,
          114,
          100,
          112,
          103,
          98,
          85,
          87,
          100,
          83,
          91,
          78,
          72,
          113,
          91,
          93,
          85,
          102,
          86,
          92,
          95,
          107,
          78,
          99,
          85,
          74,
          78,
          74,
          75,
          79,
          80,
          84,
          83,
          74,
          83,
          64,
          70,
          78,
          64,
          61,
          67,
          73,
          82,
          72,
          75,
          73,
          70,
          63,
          74,
          74,
          78,
          76,
          79,
          64,
          73,
          69,
          68,
          96,
          81,
          81,
          67,
          85,
          79,
          72,
          77,
          76,
          64,
          59,
          62,
          72,
          57,
          84,
          62,
          62,
          64,
          60,
          63,
          73,
          71,
          55,
          59,
          62,
          50,
          73,
          77,
          49,
          49,
          49,
          47,
          49,
          57,
          43,
          49,
          56,
          66,
          32,
          53,
          44,
          38,
          45,
          40,
          42,
          48,
          44,
          57,
          48,
          42,
          54,
          43,
          43,
          51,
          52,
          44,
          48,
          40,
          41,
          57,
          41,
          49,
          58,
          38,
          49,
          46,
          39,
          44,
          60,
          46,
          39,
          42,
          38,
          52,
          45,
          48,
          39,
          44,
          37,
          43,
          44,
          45,
          45,
          44,
          43,
          48,
          27,
          41
         ],
         "y0": " ",
         "yaxis": "y"
        }
       ],
       "layout": {
        "boxmode": "group",
        "font": {
         "color": "black",
         "family": "Poppins",
         "size": 18
        },
        "legend": {
         "tracegroupgap": 0
        },
        "template": {
         "data": {
          "candlestick": [
           {
            "decreasing": {
             "line": {
              "color": "#000033"
             }
            },
            "increasing": {
             "line": {
              "color": "#000032"
             }
            },
            "type": "candlestick"
           }
          ],
          "contour": [
           {
            "colorscale": [
             [
              0,
              "#000011"
             ],
             [
              0.1111111111111111,
              "#000012"
             ],
             [
              0.2222222222222222,
              "#000013"
             ],
             [
              0.3333333333333333,
              "#000014"
             ],
             [
              0.4444444444444444,
              "#000015"
             ],
             [
              0.5555555555555556,
              "#000016"
             ],
             [
              0.6666666666666666,
              "#000017"
             ],
             [
              0.7777777777777778,
              "#000018"
             ],
             [
              0.8888888888888888,
              "#000019"
             ],
             [
              1,
              "#000020"
             ]
            ],
            "type": "contour"
           }
          ],
          "contourcarpet": [
           {
            "colorscale": [
             [
              0,
              "#000011"
             ],
             [
              0.1111111111111111,
              "#000012"
             ],
             [
              0.2222222222222222,
              "#000013"
             ],
             [
              0.3333333333333333,
              "#000014"
             ],
             [
              0.4444444444444444,
              "#000015"
             ],
             [
              0.5555555555555556,
              "#000016"
             ],
             [
              0.6666666666666666,
              "#000017"
             ],
             [
              0.7777777777777778,
              "#000018"
             ],
             [
              0.8888888888888888,
              "#000019"
             ],
             [
              1,
              "#000020"
             ]
            ],
            "type": "contourcarpet"
           }
          ],
          "heatmap": [
           {
            "colorscale": [
             [
              0,
              "#000011"
             ],
             [
              0.1111111111111111,
              "#000012"
             ],
             [
              0.2222222222222222,
              "#000013"
             ],
             [
              0.3333333333333333,
              "#000014"
             ],
             [
              0.4444444444444444,
              "#000015"
             ],
             [
              0.5555555555555556,
              "#000016"
             ],
             [
              0.6666666666666666,
              "#000017"
             ],
             [
              0.7777777777777778,
              "#000018"
             ],
             [
              0.8888888888888888,
              "#000019"
             ],
             [
              1,
              "#000020"
             ]
            ],
            "type": "heatmap"
           }
          ],
          "histogram2d": [
           {
            "colorscale": [
             [
              0,
              "#000011"
             ],
             [
              0.1111111111111111,
              "#000012"
             ],
             [
              0.2222222222222222,
              "#000013"
             ],
             [
              0.3333333333333333,
              "#000014"
             ],
             [
              0.4444444444444444,
              "#000015"
             ],
             [
              0.5555555555555556,
              "#000016"
             ],
             [
              0.6666666666666666,
              "#000017"
             ],
             [
              0.7777777777777778,
              "#000018"
             ],
             [
              0.8888888888888888,
              "#000019"
             ],
             [
              1,
              "#000020"
             ]
            ],
            "type": "histogram2d"
           }
          ],
          "icicle": [
           {
            "textfont": {
             "color": "white"
            },
            "type": "icicle"
           }
          ],
          "sankey": [
           {
            "textfont": {
             "color": "#000036"
            },
            "type": "sankey"
           }
          ],
          "scatter": [
           {
            "marker": {
             "line": {
              "width": 0
             }
            },
            "type": "scatter"
           }
          ],
          "table": [
           {
            "cells": {
             "fill": {
              "color": "#000038"
             },
             "font": {
              "color": "#000037"
             },
             "line": {
              "color": "#000039"
             }
            },
            "header": {
             "fill": {
              "color": "#000040"
             },
             "font": {
              "color": "#000036"
             },
             "line": {
              "color": "#000039"
             }
            },
            "type": "table"
           }
          ],
          "waterfall": [
           {
            "connector": {
             "line": {
              "color": "#000036",
              "width": 2
             }
            },
            "decreasing": {
             "marker": {
              "color": "#000033"
             }
            },
            "increasing": {
             "marker": {
              "color": "#000032"
             }
            },
            "totals": {
             "marker": {
              "color": "#000034"
             }
            },
            "type": "waterfall"
           }
          ]
         },
         "layout": {
          "coloraxis": {
           "colorscale": [
            [
             0,
             "#000011"
            ],
            [
             0.1111111111111111,
             "#000012"
            ],
            [
             0.2222222222222222,
             "#000013"
            ],
            [
             0.3333333333333333,
             "#000014"
            ],
            [
             0.4444444444444444,
             "#000015"
            ],
            [
             0.5555555555555556,
             "#000016"
            ],
            [
             0.6666666666666666,
             "#000017"
            ],
            [
             0.7777777777777778,
             "#000018"
            ],
            [
             0.8888888888888888,
             "#000019"
            ],
            [
             1,
             "#000020"
            ]
           ]
          },
          "colorscale": {
           "diverging": [
            [
             0,
             "#000021"
            ],
            [
             0.1,
             "#000022"
            ],
            [
             0.2,
             "#000023"
            ],
            [
             0.3,
             "#000024"
            ],
            [
             0.4,
             "#000025"
            ],
            [
             0.5,
             "#000026"
            ],
            [
             0.6,
             "#000027"
            ],
            [
             0.7,
             "#000028"
            ],
            [
             0.8,
             "#000029"
            ],
            [
             0.9,
             "#000030"
            ],
            [
             1,
             "#000031"
            ]
           ],
           "sequential": [
            [
             0,
             "#000011"
            ],
            [
             0.1111111111111111,
             "#000012"
            ],
            [
             0.2222222222222222,
             "#000013"
            ],
            [
             0.3333333333333333,
             "#000014"
            ],
            [
             0.4444444444444444,
             "#000015"
            ],
            [
             0.5555555555555556,
             "#000016"
            ],
            [
             0.6666666666666666,
             "#000017"
            ],
            [
             0.7777777777777778,
             "#000018"
            ],
            [
             0.8888888888888888,
             "#000019"
            ],
            [
             1,
             "#000020"
            ]
           ],
           "sequentialminus": [
            [
             0,
             "#000011"
            ],
            [
             0.1111111111111111,
             "#000012"
            ],
            [
             0.2222222222222222,
             "#000013"
            ],
            [
             0.3333333333333333,
             "#000014"
            ],
            [
             0.4444444444444444,
             "#000015"
            ],
            [
             0.5555555555555556,
             "#000016"
            ],
            [
             0.6666666666666666,
             "#000017"
            ],
            [
             0.7777777777777778,
             "#000018"
            ],
            [
             0.8888888888888888,
             "#000019"
            ],
            [
             1,
             "#000020"
            ]
           ]
          },
          "colorway": [
           "#000001",
           "#000002",
           "#000003",
           "#000004",
           "#000005",
           "#000006",
           "#000007",
           "#000008",
           "#000009",
           "#000010"
          ]
         }
        },
        "title": {
         "text": "Calls Per Hour"
        },
        "xaxis": {
         "anchor": "y",
         "domain": [
          0,
          1
         ],
         "dtick": 1,
         "title": {
          "text": "Hour"
         }
        },
        "yaxis": {
         "anchor": "x",
         "domain": [
          0,
          1
         ],
         "title": {
          "text": "Total Calls Per Hour Across Simulation<br>Averaged Across Simulation Runs"
         }
        }
       }
      }
     },
     "metadata": {},
     "output_type": "display_data"
    }
   ],
   "source": [
    "_job_count_calculation.plot_hourly_call_counts(call_df, params_df, average_per_hour=False, box_plot=True, use_poppins=True)"
   ]
  },
  {
   "cell_type": "code",
   "execution_count": 24,
   "metadata": {},
   "outputs": [
    {
     "data": {
      "application/vnd.plotly.v1+json": {
       "config": {
        "plotlyServerURL": "https://plot.ly"
       },
       "data": [
        {
         "alignmentgroup": "True",
         "hovertemplate": "Hour=%{x}<br>Average Daily Calls Per Hour Across Simulation<br>Averaged Across Simulation Runs=%{y}<extra></extra>",
         "legendgroup": "",
         "marker": {
          "color": "#00B0B9"
         },
         "name": "",
         "notched": false,
         "offsetgroup": "",
         "orientation": "v",
         "showlegend": false,
         "type": "box",
         "x": [
          0,
          0,
          0,
          0,
          0,
          0,
          0,
          0,
          0,
          0,
          0,
          0,
          0,
          0,
          0,
          0,
          0,
          0,
          0,
          0,
          1,
          1,
          1,
          1,
          1,
          1,
          1,
          1,
          1,
          1,
          1,
          1,
          1,
          1,
          1,
          1,
          1,
          1,
          1,
          1,
          2,
          2,
          2,
          2,
          2,
          2,
          2,
          2,
          3,
          3,
          3,
          3,
          4,
          4,
          4,
          4,
          4,
          4,
          4,
          4,
          4,
          4,
          4,
          5,
          5,
          5,
          5,
          5,
          5,
          5,
          5,
          5,
          5,
          5,
          5,
          5,
          5,
          5,
          5,
          5,
          5,
          5,
          5,
          6,
          6,
          6,
          6,
          6,
          6,
          6,
          6,
          6,
          6,
          6,
          6,
          6,
          6,
          6,
          6,
          6,
          6,
          6,
          6,
          7,
          7,
          7,
          7,
          7,
          7,
          7,
          7,
          7,
          7,
          7,
          7,
          7,
          7,
          7,
          7,
          7,
          7,
          7,
          7,
          8,
          8,
          8,
          8,
          8,
          8,
          8,
          8,
          8,
          8,
          8,
          8,
          8,
          8,
          8,
          8,
          8,
          8,
          8,
          8,
          9,
          9,
          9,
          9,
          9,
          9,
          9,
          9,
          9,
          9,
          9,
          9,
          9,
          9,
          9,
          9,
          9,
          9,
          9,
          9,
          10,
          10,
          10,
          10,
          10,
          10,
          10,
          10,
          10,
          10,
          10,
          10,
          10,
          10,
          10,
          10,
          10,
          10,
          10,
          10,
          11,
          11,
          11,
          11,
          11,
          11,
          11,
          11,
          11,
          11,
          11,
          11,
          11,
          11,
          11,
          11,
          11,
          11,
          11,
          11,
          12,
          12,
          12,
          12,
          12,
          12,
          12,
          12,
          12,
          12,
          12,
          12,
          12,
          12,
          12,
          12,
          12,
          12,
          12,
          12,
          13,
          13,
          13,
          13,
          13,
          13,
          13,
          13,
          13,
          13,
          13,
          13,
          13,
          13,
          13,
          13,
          13,
          13,
          13,
          13,
          14,
          14,
          14,
          14,
          14,
          14,
          14,
          14,
          14,
          14,
          14,
          14,
          14,
          14,
          14,
          14,
          14,
          14,
          14,
          14,
          15,
          15,
          15,
          15,
          15,
          15,
          15,
          15,
          15,
          15,
          15,
          15,
          15,
          15,
          15,
          15,
          15,
          15,
          15,
          15,
          16,
          16,
          16,
          16,
          16,
          16,
          16,
          16,
          16,
          16,
          16,
          16,
          16,
          16,
          16,
          16,
          16,
          16,
          16,
          16,
          17,
          17,
          17,
          17,
          17,
          17,
          17,
          17,
          17,
          17,
          17,
          17,
          17,
          17,
          17,
          17,
          17,
          17,
          17,
          17,
          18,
          18,
          18,
          18,
          18,
          18,
          18,
          18,
          18,
          18,
          18,
          18,
          18,
          18,
          18,
          18,
          18,
          18,
          18,
          18,
          19,
          19,
          19,
          19,
          19,
          19,
          19,
          19,
          19,
          19,
          19,
          19,
          19,
          19,
          19,
          19,
          19,
          19,
          19,
          19,
          20,
          20,
          20,
          20,
          20,
          20,
          20,
          20,
          20,
          20,
          20,
          20,
          20,
          20,
          20,
          20,
          20,
          20,
          20,
          20,
          21,
          21,
          21,
          21,
          21,
          21,
          21,
          21,
          21,
          21,
          21,
          21,
          21,
          21,
          21,
          21,
          21,
          21,
          21,
          21,
          22,
          22,
          22,
          22,
          22,
          22,
          22,
          22,
          22,
          22,
          22,
          22,
          22,
          22,
          22,
          22,
          22,
          22,
          22,
          22,
          23,
          23,
          23,
          23,
          23,
          23,
          23,
          23,
          23,
          23,
          23,
          23,
          23,
          23,
          23,
          23,
          23,
          23,
          23,
          23
         ],
         "x0": " ",
         "xaxis": "x",
         "y": [
          0.09041095890410959,
          0.06027397260273973,
          0.09863013698630137,
          0.08767123287671233,
          0.06575342465753424,
          0.0821917808219178,
          0.06027397260273973,
          0.07945205479452055,
          0.07123287671232877,
          0.08767123287671233,
          0.09041095890410959,
          0.06027397260273973,
          0.0684931506849315,
          0.09863013698630137,
          0.07397260273972603,
          0.08493150684931507,
          0.0821917808219178,
          0.0821917808219178,
          0.06027397260273973,
          0.08493150684931507,
          0.01643835616438356,
          0.03287671232876712,
          0.0273972602739726,
          0.049315068493150684,
          0.03561643835616438,
          0.0273972602739726,
          0.019178082191780823,
          0.043835616438356165,
          0.038356164383561646,
          0.0273972602739726,
          0.024657534246575342,
          0.03287671232876712,
          0.030136986301369864,
          0.03287671232876712,
          0.030136986301369864,
          0.0410958904109589,
          0.03287671232876712,
          0.043835616438356165,
          0.049315068493150684,
          0.0547945205479452,
          0.0027397260273972603,
          0.0027397260273972603,
          0.0027397260273972603,
          0.0027397260273972603,
          0.0027397260273972603,
          0.0027397260273972603,
          0.005479452054794521,
          0.0027397260273972603,
          0.0027397260273972603,
          0.0027397260273972603,
          0.0027397260273972603,
          0.0027397260273972603,
          0.010958904109589041,
          0.0027397260273972603,
          0.0027397260273972603,
          0.005479452054794521,
          0.005479452054794521,
          0.0027397260273972603,
          0.0027397260273972603,
          0.0027397260273972603,
          0.0027397260273972603,
          0.0027397260273972603,
          0.0027397260273972603,
          0.019178082191780823,
          0.019178082191780823,
          0.005479452054794521,
          0.01643835616438356,
          0.019178082191780823,
          0.01643835616438356,
          0.010958904109589041,
          0.01643835616438356,
          0.0136986301369863,
          0.010958904109589041,
          0.021917808219178082,
          0.010958904109589041,
          0.010958904109589041,
          0.010958904109589041,
          0.005479452054794521,
          0.019178082191780823,
          0.005479452054794521,
          0.010958904109589041,
          0.0027397260273972603,
          0.0136986301369863,
          0.024657534246575342,
          0.0273972602739726,
          0.024657534246575342,
          0.0410958904109589,
          0.019178082191780823,
          0.010958904109589041,
          0.03287671232876712,
          0.030136986301369864,
          0.043835616438356165,
          0.024657534246575342,
          0.0273972602739726,
          0.01643835616438356,
          0.038356164383561646,
          0.0273972602739726,
          0.019178082191780823,
          0.024657534246575342,
          0.021917808219178082,
          0.010958904109589041,
          0.021917808219178082,
          0.052054794520547946,
          0.12602739726027398,
          0.1232876712328767,
          0.14520547945205478,
          0.15342465753424658,
          0.13972602739726028,
          0.0958904109589041,
          0.13972602739726028,
          0.12054794520547946,
          0.136986301369863,
          0.13424657534246576,
          0.13972602739726028,
          0.09315068493150686,
          0.08493150684931507,
          0.136986301369863,
          0.11232876712328767,
          0.12876712328767123,
          0.12602739726027398,
          0.11506849315068493,
          0.1232876712328767,
          0.14246575342465753,
          0.25205479452054796,
          0.1863013698630137,
          0.2191780821917808,
          0.18356164383561643,
          0.2465753424657534,
          0.1917808219178082,
          0.1917808219178082,
          0.2219178082191781,
          0.20821917808219179,
          0.25205479452054796,
          0.25753424657534246,
          0.1726027397260274,
          0.2219178082191781,
          0.2054794520547945,
          0.21095890410958903,
          0.2136986301369863,
          0.2,
          0.18082191780821918,
          0.24383561643835616,
          0.2191780821917808,
          0.3232876712328767,
          0.32602739726027397,
          0.33424657534246577,
          0.23013698630136986,
          0.3095890410958904,
          0.3041095890410959,
          0.2958904109589041,
          0.29041095890410956,
          0.2876712328767123,
          0.32054794520547947,
          0.27671232876712326,
          0.3232876712328767,
          0.3232876712328767,
          0.30684931506849317,
          0.336986301369863,
          0.27123287671232876,
          0.2684931506849315,
          0.3561643835616438,
          0.30684931506849317,
          0.27123287671232876,
          0.3698630136986301,
          0.40821917808219177,
          0.3452054794520548,
          0.4054794520547945,
          0.32602739726027397,
          0.3643835616438356,
          0.4438356164383562,
          0.4547945205479452,
          0.38082191780821917,
          0.410958904109589,
          0.3972602739726027,
          0.34794520547945207,
          0.3506849315068493,
          0.4520547945205479,
          0.38082191780821917,
          0.4136986301369863,
          0.3863013698630137,
          0.4794520547945205,
          0.4136986301369863,
          0.43561643835616437,
          0.4,
          0.4191780821917808,
          0.43561643835616437,
          0.4136986301369863,
          0.4383561643835616,
          0.4054794520547945,
          0.4191780821917808,
          0.4,
          0.44931506849315067,
          0.410958904109589,
          0.4410958904109589,
          0.410958904109589,
          0.39452054794520547,
          0.4246575342465753,
          0.4767123287671233,
          0.4301369863013699,
          0.4575342465753425,
          0.4191780821917808,
          0.4328767123287671,
          0.4054794520547945,
          0.3506849315068493,
          0.3506849315068493,
          0.4301369863013699,
          0.3726027397260274,
          0.4328767123287671,
          0.3972602739726027,
          0.42191780821917807,
          0.4602739726027397,
          0.46301369863013697,
          0.4465753424657534,
          0.410958904109589,
          0.4273972602739726,
          0.43561643835616437,
          0.39452054794520547,
          0.4246575342465753,
          0.4054794520547945,
          0.4383561643835616,
          0.4191780821917808,
          0.41643835616438357,
          0.3863013698630137,
          0.29041095890410956,
          0.336986301369863,
          0.35342465753424657,
          0.32602739726027397,
          0.33424657534246577,
          0.3506849315068493,
          0.3643835616438356,
          0.3150684931506849,
          0.3643835616438356,
          0.38904109589041097,
          0.39452054794520547,
          0.3698630136986301,
          0.3178082191780822,
          0.39452054794520547,
          0.38904109589041097,
          0.3424657534246575,
          0.3589041095890411,
          0.2821917808219178,
          0.3726027397260274,
          0.3506849315068493,
          0.3452054794520548,
          0.32602739726027397,
          0.3178082191780822,
          0.4246575342465753,
          0.3041095890410959,
          0.2821917808219178,
          0.3150684931506849,
          0.38082191780821917,
          0.3452054794520548,
          0.336986301369863,
          0.3972602739726027,
          0.3424657534246575,
          0.3643835616438356,
          0.27123287671232876,
          0.3863013698630137,
          0.26575342465753427,
          0.3726027397260274,
          0.3452054794520548,
          0.36164383561643837,
          0.3726027397260274,
          0.40273972602739727,
          0.3835616438356164,
          0.3424657534246575,
          0.3835616438356164,
          0.3863013698630137,
          0.3698630136986301,
          0.43561643835616437,
          0.3835616438356164,
          0.38082191780821917,
          0.3917808219178082,
          0.39452054794520547,
          0.33424657534246577,
          0.38082191780821917,
          0.336986301369863,
          0.336986301369863,
          0.3452054794520548,
          0.336986301369863,
          0.3726027397260274,
          0.4465753424657534,
          0.3589041095890411,
          0.32602739726027397,
          0.2821917808219178,
          0.2958904109589041,
          0.32602739726027397,
          0.29315068493150687,
          0.33972602739726027,
          0.36712328767123287,
          0.2547945205479452,
          0.29315068493150687,
          0.26301369863013696,
          0.2684931506849315,
          0.27671232876712326,
          0.25753424657534246,
          0.3315068493150685,
          0.2876712328767123,
          0.3315068493150685,
          0.31232876712328766,
          0.273972602739726,
          0.30684931506849317,
          0.2821917808219178,
          0.2684931506849315,
          0.2328767123287671,
          0.23835616438356164,
          0.273972602739726,
          0.2273972602739726,
          0.2493150684931507,
          0.2136986301369863,
          0.19726027397260273,
          0.3095890410958904,
          0.2493150684931507,
          0.2547945205479452,
          0.2328767123287671,
          0.27945205479452057,
          0.2356164383561644,
          0.25205479452054796,
          0.2602739726027397,
          0.29315068493150687,
          0.2136986301369863,
          0.27123287671232876,
          0.2328767123287671,
          0.20273972602739726,
          0.2136986301369863,
          0.20273972602739726,
          0.2054794520547945,
          0.21643835616438356,
          0.2191780821917808,
          0.23013698630136986,
          0.2273972602739726,
          0.20273972602739726,
          0.2273972602739726,
          0.17534246575342466,
          0.1917808219178082,
          0.2136986301369863,
          0.17534246575342466,
          0.16712328767123288,
          0.18356164383561643,
          0.2,
          0.22465753424657534,
          0.19726027397260273,
          0.2054794520547945,
          0.2,
          0.1917808219178082,
          0.1726027397260274,
          0.20273972602739726,
          0.20273972602739726,
          0.2136986301369863,
          0.20821917808219179,
          0.21643835616438356,
          0.17534246575342466,
          0.2,
          0.18904109589041096,
          0.1863013698630137,
          0.26301369863013696,
          0.2219178082191781,
          0.2219178082191781,
          0.18356164383561643,
          0.2328767123287671,
          0.21643835616438356,
          0.19726027397260273,
          0.21095890410958903,
          0.20821917808219179,
          0.17534246575342466,
          0.16164383561643836,
          0.16986301369863013,
          0.19726027397260273,
          0.15616438356164383,
          0.23013698630136986,
          0.16986301369863013,
          0.16986301369863013,
          0.17534246575342466,
          0.1643835616438356,
          0.1726027397260274,
          0.2,
          0.19452054794520549,
          0.1506849315068493,
          0.16164383561643836,
          0.16986301369863013,
          0.136986301369863,
          0.2,
          0.21095890410958903,
          0.13424657534246576,
          0.13424657534246576,
          0.13424657534246576,
          0.12876712328767123,
          0.13424657534246576,
          0.15616438356164383,
          0.1178082191780822,
          0.13424657534246576,
          0.15342465753424658,
          0.18082191780821918,
          0.08767123287671233,
          0.14520547945205478,
          0.12054794520547946,
          0.10410958904109589,
          0.1232876712328767,
          0.1095890410958904,
          0.11506849315068493,
          0.13150684931506848,
          0.12054794520547946,
          0.15616438356164383,
          0.13150684931506848,
          0.11506849315068493,
          0.14794520547945206,
          0.1178082191780822,
          0.1178082191780822,
          0.13972602739726028,
          0.14246575342465753,
          0.12054794520547946,
          0.13150684931506848,
          0.1095890410958904,
          0.11232876712328767,
          0.15616438356164383,
          0.11232876712328767,
          0.13424657534246576,
          0.1589041095890411,
          0.10410958904109589,
          0.13424657534246576,
          0.12602739726027398,
          0.10684931506849316,
          0.12054794520547946,
          0.1643835616438356,
          0.12602739726027398,
          0.10684931506849316,
          0.11506849315068493,
          0.10410958904109589,
          0.14246575342465753,
          0.1232876712328767,
          0.13150684931506848,
          0.10684931506849316,
          0.12054794520547946,
          0.10136986301369863,
          0.1178082191780822,
          0.12054794520547946,
          0.1232876712328767,
          0.1232876712328767,
          0.12054794520547946,
          0.1178082191780822,
          0.13150684931506848,
          0.07397260273972603,
          0.11232876712328767
         ],
         "y0": " ",
         "yaxis": "y"
        }
       ],
       "layout": {
        "boxmode": "group",
        "legend": {
         "tracegroupgap": 0
        },
        "template": {
         "data": {
          "candlestick": [
           {
            "decreasing": {
             "line": {
              "color": "#000033"
             }
            },
            "increasing": {
             "line": {
              "color": "#000032"
             }
            },
            "type": "candlestick"
           }
          ],
          "contour": [
           {
            "colorscale": [
             [
              0,
              "#000011"
             ],
             [
              0.1111111111111111,
              "#000012"
             ],
             [
              0.2222222222222222,
              "#000013"
             ],
             [
              0.3333333333333333,
              "#000014"
             ],
             [
              0.4444444444444444,
              "#000015"
             ],
             [
              0.5555555555555556,
              "#000016"
             ],
             [
              0.6666666666666666,
              "#000017"
             ],
             [
              0.7777777777777778,
              "#000018"
             ],
             [
              0.8888888888888888,
              "#000019"
             ],
             [
              1,
              "#000020"
             ]
            ],
            "type": "contour"
           }
          ],
          "contourcarpet": [
           {
            "colorscale": [
             [
              0,
              "#000011"
             ],
             [
              0.1111111111111111,
              "#000012"
             ],
             [
              0.2222222222222222,
              "#000013"
             ],
             [
              0.3333333333333333,
              "#000014"
             ],
             [
              0.4444444444444444,
              "#000015"
             ],
             [
              0.5555555555555556,
              "#000016"
             ],
             [
              0.6666666666666666,
              "#000017"
             ],
             [
              0.7777777777777778,
              "#000018"
             ],
             [
              0.8888888888888888,
              "#000019"
             ],
             [
              1,
              "#000020"
             ]
            ],
            "type": "contourcarpet"
           }
          ],
          "heatmap": [
           {
            "colorscale": [
             [
              0,
              "#000011"
             ],
             [
              0.1111111111111111,
              "#000012"
             ],
             [
              0.2222222222222222,
              "#000013"
             ],
             [
              0.3333333333333333,
              "#000014"
             ],
             [
              0.4444444444444444,
              "#000015"
             ],
             [
              0.5555555555555556,
              "#000016"
             ],
             [
              0.6666666666666666,
              "#000017"
             ],
             [
              0.7777777777777778,
              "#000018"
             ],
             [
              0.8888888888888888,
              "#000019"
             ],
             [
              1,
              "#000020"
             ]
            ],
            "type": "heatmap"
           }
          ],
          "histogram2d": [
           {
            "colorscale": [
             [
              0,
              "#000011"
             ],
             [
              0.1111111111111111,
              "#000012"
             ],
             [
              0.2222222222222222,
              "#000013"
             ],
             [
              0.3333333333333333,
              "#000014"
             ],
             [
              0.4444444444444444,
              "#000015"
             ],
             [
              0.5555555555555556,
              "#000016"
             ],
             [
              0.6666666666666666,
              "#000017"
             ],
             [
              0.7777777777777778,
              "#000018"
             ],
             [
              0.8888888888888888,
              "#000019"
             ],
             [
              1,
              "#000020"
             ]
            ],
            "type": "histogram2d"
           }
          ],
          "icicle": [
           {
            "textfont": {
             "color": "white"
            },
            "type": "icicle"
           }
          ],
          "sankey": [
           {
            "textfont": {
             "color": "#000036"
            },
            "type": "sankey"
           }
          ],
          "scatter": [
           {
            "marker": {
             "line": {
              "width": 0
             }
            },
            "type": "scatter"
           }
          ],
          "table": [
           {
            "cells": {
             "fill": {
              "color": "#000038"
             },
             "font": {
              "color": "#000037"
             },
             "line": {
              "color": "#000039"
             }
            },
            "header": {
             "fill": {
              "color": "#000040"
             },
             "font": {
              "color": "#000036"
             },
             "line": {
              "color": "#000039"
             }
            },
            "type": "table"
           }
          ],
          "waterfall": [
           {
            "connector": {
             "line": {
              "color": "#000036",
              "width": 2
             }
            },
            "decreasing": {
             "marker": {
              "color": "#000033"
             }
            },
            "increasing": {
             "marker": {
              "color": "#000032"
             }
            },
            "totals": {
             "marker": {
              "color": "#000034"
             }
            },
            "type": "waterfall"
           }
          ]
         },
         "layout": {
          "coloraxis": {
           "colorscale": [
            [
             0,
             "#000011"
            ],
            [
             0.1111111111111111,
             "#000012"
            ],
            [
             0.2222222222222222,
             "#000013"
            ],
            [
             0.3333333333333333,
             "#000014"
            ],
            [
             0.4444444444444444,
             "#000015"
            ],
            [
             0.5555555555555556,
             "#000016"
            ],
            [
             0.6666666666666666,
             "#000017"
            ],
            [
             0.7777777777777778,
             "#000018"
            ],
            [
             0.8888888888888888,
             "#000019"
            ],
            [
             1,
             "#000020"
            ]
           ]
          },
          "colorscale": {
           "diverging": [
            [
             0,
             "#000021"
            ],
            [
             0.1,
             "#000022"
            ],
            [
             0.2,
             "#000023"
            ],
            [
             0.3,
             "#000024"
            ],
            [
             0.4,
             "#000025"
            ],
            [
             0.5,
             "#000026"
            ],
            [
             0.6,
             "#000027"
            ],
            [
             0.7,
             "#000028"
            ],
            [
             0.8,
             "#000029"
            ],
            [
             0.9,
             "#000030"
            ],
            [
             1,
             "#000031"
            ]
           ],
           "sequential": [
            [
             0,
             "#000011"
            ],
            [
             0.1111111111111111,
             "#000012"
            ],
            [
             0.2222222222222222,
             "#000013"
            ],
            [
             0.3333333333333333,
             "#000014"
            ],
            [
             0.4444444444444444,
             "#000015"
            ],
            [
             0.5555555555555556,
             "#000016"
            ],
            [
             0.6666666666666666,
             "#000017"
            ],
            [
             0.7777777777777778,
             "#000018"
            ],
            [
             0.8888888888888888,
             "#000019"
            ],
            [
             1,
             "#000020"
            ]
           ],
           "sequentialminus": [
            [
             0,
             "#000011"
            ],
            [
             0.1111111111111111,
             "#000012"
            ],
            [
             0.2222222222222222,
             "#000013"
            ],
            [
             0.3333333333333333,
             "#000014"
            ],
            [
             0.4444444444444444,
             "#000015"
            ],
            [
             0.5555555555555556,
             "#000016"
            ],
            [
             0.6666666666666666,
             "#000017"
            ],
            [
             0.7777777777777778,
             "#000018"
            ],
            [
             0.8888888888888888,
             "#000019"
            ],
            [
             1,
             "#000020"
            ]
           ]
          },
          "colorway": [
           "#000001",
           "#000002",
           "#000003",
           "#000004",
           "#000005",
           "#000006",
           "#000007",
           "#000008",
           "#000009",
           "#000010"
          ]
         }
        },
        "title": {
         "text": "Calls Per Hour"
        },
        "xaxis": {
         "anchor": "y",
         "domain": [
          0,
          1
         ],
         "dtick": 1,
         "title": {
          "text": "Hour"
         }
        },
        "yaxis": {
         "anchor": "x",
         "domain": [
          0,
          1
         ],
         "title": {
          "text": "Average Daily Calls Per Hour Across Simulation<br>Averaged Across Simulation Runs"
         }
        }
       }
      }
     },
     "metadata": {},
     "output_type": "display_data"
    }
   ],
   "source": [
    "_job_count_calculation.plot_hourly_call_counts(call_df, params_df, box_plot=True, average_per_hour=True)"
   ]
  },
  {
   "cell_type": "code",
   "execution_count": 25,
   "metadata": {},
   "outputs": [],
   "source": [
    "import _vehicle_calculation"
   ]
  },
  {
   "cell_type": "code",
   "execution_count": 26,
   "metadata": {},
   "outputs": [
    {
     "data": {
      "text/html": [
       "<div>\n",
       "<style scoped>\n",
       "    .dataframe tbody tr th:only-of-type {\n",
       "        vertical-align: middle;\n",
       "    }\n",
       "\n",
       "    .dataframe tbody tr th {\n",
       "        vertical-align: top;\n",
       "    }\n",
       "\n",
       "    .dataframe thead th {\n",
       "        text-align: right;\n",
       "    }\n",
       "</style>\n",
       "<table border=\"1\" class=\"dataframe\">\n",
       "  <thead>\n",
       "    <tr style=\"text-align: right;\">\n",
       "      <th></th>\n",
       "      <th>Resource Allocation Attempt Outcome</th>\n",
       "      <th>Count</th>\n",
       "    </tr>\n",
       "  </thead>\n",
       "  <tbody>\n",
       "    <tr>\n",
       "      <th>0</th>\n",
       "      <td>No resource in group available</td>\n",
       "      <td>24</td>\n",
       "    </tr>\n",
       "    <tr>\n",
       "      <th>1</th>\n",
       "      <td>Preferred resource available and allocated</td>\n",
       "      <td>933</td>\n",
       "    </tr>\n",
       "    <tr>\n",
       "      <th>2</th>\n",
       "      <td>Preferred resource not and available but other...</td>\n",
       "      <td>729</td>\n",
       "    </tr>\n",
       "  </tbody>\n",
       "</table>\n",
       "</div>"
      ],
      "text/plain": [
       "                 Resource Allocation Attempt Outcome  Count\n",
       "0                     No resource in group available     24\n",
       "1         Preferred resource available and allocated    933\n",
       "2  Preferred resource not and available but other...    729"
      ]
     },
     "execution_count": 26,
     "metadata": {},
     "output_type": "execute_result"
    }
   ],
   "source": [
    "run_results = pd.read_csv(\"../data/run_results.csv\")\n",
    "df = _vehicle_calculation.resource_allocation_outcomes(run_results)\n",
    "df"
   ]
  },
  {
   "cell_type": "code",
   "execution_count": 27,
   "metadata": {},
   "outputs": [
    {
     "data": {
      "text/plain": [
       "24"
      ]
     },
     "execution_count": 27,
     "metadata": {},
     "output_type": "execute_result"
    }
   ],
   "source": [
    "df[df[\"Resource Allocation Attempt Outcome\"] ==\"No resource in group available\"]['Count'].values[0]"
   ]
  },
  {
   "cell_type": "code",
   "execution_count": 28,
   "metadata": {},
   "outputs": [
    {
     "data": {
      "text/plain": [
       "1686"
      ]
     },
     "execution_count": 28,
     "metadata": {},
     "output_type": "execute_result"
    }
   ],
   "source": [
    "df['Count'].sum()"
   ]
  },
  {
   "cell_type": "code",
   "execution_count": 29,
   "metadata": {},
   "outputs": [
    {
     "data": {
      "text/plain": [
       "1.4344262295081966"
      ]
     },
     "execution_count": 29,
     "metadata": {},
     "output_type": "execute_result"
    }
   ],
   "source": [
    "(7/488)*100"
   ]
  },
  {
   "cell_type": "code",
   "execution_count": 30,
   "metadata": {},
   "outputs": [
    {
     "data": {
      "text/html": [
       "<div>\n",
       "<style scoped>\n",
       "    .dataframe tbody tr th:only-of-type {\n",
       "        vertical-align: middle;\n",
       "    }\n",
       "\n",
       "    .dataframe tbody tr th {\n",
       "        vertical-align: top;\n",
       "    }\n",
       "\n",
       "    .dataframe thead th {\n",
       "        text-align: right;\n",
       "    }\n",
       "</style>\n",
       "<table border=\"1\" class=\"dataframe\">\n",
       "  <thead>\n",
       "    <tr style=\"text-align: right;\">\n",
       "      <th></th>\n",
       "      <th>P_ID</th>\n",
       "      <th>run_number</th>\n",
       "      <th>timestamp</th>\n",
       "      <th>timestamp_dt</th>\n",
       "      <th>day</th>\n",
       "      <th>hour</th>\n",
       "      <th>weekday</th>\n",
       "      <th>month</th>\n",
       "      <th>qtr</th>\n",
       "      <th>callsign_group</th>\n",
       "      <th>vehicle_type</th>\n",
       "      <th>ampds_card</th>\n",
       "      <th>age</th>\n",
       "      <th>sex</th>\n",
       "      <th>hems_result</th>\n",
       "      <th>outcome</th>\n",
       "      <th>callsign</th>\n",
       "    </tr>\n",
       "  </thead>\n",
       "  <tbody>\n",
       "    <tr>\n",
       "      <th>4</th>\n",
       "      <td>1</td>\n",
       "      <td>1</td>\n",
       "      <td>0.0</td>\n",
       "      <td>2025-02-17 08:00:00</td>\n",
       "      <td>Mon</td>\n",
       "      <td>8</td>\n",
       "      <td>weekday</td>\n",
       "      <td>2</td>\n",
       "      <td>1</td>\n",
       "      <td>71.0</td>\n",
       "      <td>car</td>\n",
       "      <td>31</td>\n",
       "      <td>55.0</td>\n",
       "      <td>Male</td>\n",
       "      <td>Patient Treated (not conveyed)</td>\n",
       "      <td>Deceased</td>\n",
       "      <td>C71</td>\n",
       "    </tr>\n",
       "    <tr>\n",
       "      <th>10</th>\n",
       "      <td>2</td>\n",
       "      <td>1</td>\n",
       "      <td>180.0</td>\n",
       "      <td>2025-02-17 11:00:00</td>\n",
       "      <td>Mon</td>\n",
       "      <td>11</td>\n",
       "      <td>weekday</td>\n",
       "      <td>2</td>\n",
       "      <td>1</td>\n",
       "      <td>71.0</td>\n",
       "      <td>car</td>\n",
       "      <td>29</td>\n",
       "      <td>71.0</td>\n",
       "      <td>Female</td>\n",
       "      <td>Stand Down En Route</td>\n",
       "      <td>Unknown</td>\n",
       "      <td>C71</td>\n",
       "    </tr>\n",
       "    <tr>\n",
       "      <th>22</th>\n",
       "      <td>3</td>\n",
       "      <td>1</td>\n",
       "      <td>1440.0</td>\n",
       "      <td>2025-02-18 08:00:00</td>\n",
       "      <td>Tue</td>\n",
       "      <td>8</td>\n",
       "      <td>weekday</td>\n",
       "      <td>2</td>\n",
       "      <td>1</td>\n",
       "      <td>70.0</td>\n",
       "      <td>car</td>\n",
       "      <td>29</td>\n",
       "      <td>13.0</td>\n",
       "      <td>Male</td>\n",
       "      <td>Stand Down En Route</td>\n",
       "      <td>Unknown</td>\n",
       "      <td>C70</td>\n",
       "    </tr>\n",
       "    <tr>\n",
       "      <th>34</th>\n",
       "      <td>4</td>\n",
       "      <td>1</td>\n",
       "      <td>2100.0</td>\n",
       "      <td>2025-02-18 19:00:00</td>\n",
       "      <td>Tue</td>\n",
       "      <td>19</td>\n",
       "      <td>weekday</td>\n",
       "      <td>2</td>\n",
       "      <td>1</td>\n",
       "      <td>70.0</td>\n",
       "      <td>car</td>\n",
       "      <td>9</td>\n",
       "      <td>73.0</td>\n",
       "      <td>Female</td>\n",
       "      <td>Stand Down En Route</td>\n",
       "      <td>Unknown</td>\n",
       "      <td>C70</td>\n",
       "    </tr>\n",
       "    <tr>\n",
       "      <th>46</th>\n",
       "      <td>5</td>\n",
       "      <td>1</td>\n",
       "      <td>2880.0</td>\n",
       "      <td>2025-02-19 08:00:00</td>\n",
       "      <td>Wed</td>\n",
       "      <td>8</td>\n",
       "      <td>weekday</td>\n",
       "      <td>2</td>\n",
       "      <td>1</td>\n",
       "      <td>70.0</td>\n",
       "      <td>car</td>\n",
       "      <td>9</td>\n",
       "      <td>51.0</td>\n",
       "      <td>Male</td>\n",
       "      <td>Patient Treated (not conveyed)</td>\n",
       "      <td>Conveyed by land without DAA</td>\n",
       "      <td>C70</td>\n",
       "    </tr>\n",
       "    <tr>\n",
       "      <th>...</th>\n",
       "      <td>...</td>\n",
       "      <td>...</td>\n",
       "      <td>...</td>\n",
       "      <td>...</td>\n",
       "      <td>...</td>\n",
       "      <td>...</td>\n",
       "      <td>...</td>\n",
       "      <td>...</td>\n",
       "      <td>...</td>\n",
       "      <td>...</td>\n",
       "      <td>...</td>\n",
       "      <td>...</td>\n",
       "      <td>...</td>\n",
       "      <td>...</td>\n",
       "      <td>...</td>\n",
       "      <td>...</td>\n",
       "      <td>...</td>\n",
       "    </tr>\n",
       "    <tr>\n",
       "      <th>415600</th>\n",
       "      <td>1721</td>\n",
       "      <td>9</td>\n",
       "      <td>524340.1</td>\n",
       "      <td>2026-02-16 11:00:06</td>\n",
       "      <td>Mon</td>\n",
       "      <td>11</td>\n",
       "      <td>weekday</td>\n",
       "      <td>2</td>\n",
       "      <td>1</td>\n",
       "      <td>NaN</td>\n",
       "      <td>NaN</td>\n",
       "      <td>30</td>\n",
       "      <td>63.0</td>\n",
       "      <td>Male</td>\n",
       "      <td>NaN</td>\n",
       "      <td>NaN</td>\n",
       "      <td>NaN</td>\n",
       "    </tr>\n",
       "    <tr>\n",
       "      <th>415616</th>\n",
       "      <td>1722</td>\n",
       "      <td>9</td>\n",
       "      <td>524880.0</td>\n",
       "      <td>2026-02-16 20:00:00</td>\n",
       "      <td>Mon</td>\n",
       "      <td>20</td>\n",
       "      <td>weekday</td>\n",
       "      <td>2</td>\n",
       "      <td>1</td>\n",
       "      <td>70.0</td>\n",
       "      <td>helicopter</td>\n",
       "      <td>30</td>\n",
       "      <td>17.0</td>\n",
       "      <td>Male</td>\n",
       "      <td>Stand Down En Route</td>\n",
       "      <td>Unknown</td>\n",
       "      <td>H70</td>\n",
       "    </tr>\n",
       "    <tr>\n",
       "      <th>415628</th>\n",
       "      <td>1723</td>\n",
       "      <td>9</td>\n",
       "      <td>525000.0</td>\n",
       "      <td>2026-02-16 22:00:00</td>\n",
       "      <td>Mon</td>\n",
       "      <td>22</td>\n",
       "      <td>weekday</td>\n",
       "      <td>2</td>\n",
       "      <td>1</td>\n",
       "      <td>70.0</td>\n",
       "      <td>helicopter</td>\n",
       "      <td>27</td>\n",
       "      <td>39.0</td>\n",
       "      <td>Male</td>\n",
       "      <td>Patient Treated (not conveyed)</td>\n",
       "      <td>Deceased</td>\n",
       "      <td>H70</td>\n",
       "    </tr>\n",
       "    <tr>\n",
       "      <th>415641</th>\n",
       "      <td>1724</td>\n",
       "      <td>9</td>\n",
       "      <td>525180.0</td>\n",
       "      <td>2026-02-17 01:00:00</td>\n",
       "      <td>Tue</td>\n",
       "      <td>1</td>\n",
       "      <td>weekday</td>\n",
       "      <td>2</td>\n",
       "      <td>1</td>\n",
       "      <td>70.0</td>\n",
       "      <td>helicopter</td>\n",
       "      <td>30</td>\n",
       "      <td>89.0</td>\n",
       "      <td>Male</td>\n",
       "      <td>Patient Conveyed</td>\n",
       "      <td>Airlifted</td>\n",
       "      <td>H70</td>\n",
       "    </tr>\n",
       "    <tr>\n",
       "      <th>415655</th>\n",
       "      <td>1725</td>\n",
       "      <td>9</td>\n",
       "      <td>525540.0</td>\n",
       "      <td>2026-02-17 07:00:00</td>\n",
       "      <td>Tue</td>\n",
       "      <td>7</td>\n",
       "      <td>weekday</td>\n",
       "      <td>2</td>\n",
       "      <td>1</td>\n",
       "      <td>70.0</td>\n",
       "      <td>helicopter</td>\n",
       "      <td>17</td>\n",
       "      <td>65.0</td>\n",
       "      <td>Male</td>\n",
       "      <td>Patient Conveyed</td>\n",
       "      <td>Airlifted</td>\n",
       "      <td>H70</td>\n",
       "    </tr>\n",
       "  </tbody>\n",
       "</table>\n",
       "<p>33712 rows × 17 columns</p>\n",
       "</div>"
      ],
      "text/plain": [
       "        P_ID  run_number  timestamp         timestamp_dt  day  hour  weekday  \\\n",
       "4          1           1        0.0  2025-02-17 08:00:00  Mon     8  weekday   \n",
       "10         2           1      180.0  2025-02-17 11:00:00  Mon    11  weekday   \n",
       "22         3           1     1440.0  2025-02-18 08:00:00  Tue     8  weekday   \n",
       "34         4           1     2100.0  2025-02-18 19:00:00  Tue    19  weekday   \n",
       "46         5           1     2880.0  2025-02-19 08:00:00  Wed     8  weekday   \n",
       "...      ...         ...        ...                  ...  ...   ...      ...   \n",
       "415600  1721           9   524340.1  2026-02-16 11:00:06  Mon    11  weekday   \n",
       "415616  1722           9   524880.0  2026-02-16 20:00:00  Mon    20  weekday   \n",
       "415628  1723           9   525000.0  2026-02-16 22:00:00  Mon    22  weekday   \n",
       "415641  1724           9   525180.0  2026-02-17 01:00:00  Tue     1  weekday   \n",
       "415655  1725           9   525540.0  2026-02-17 07:00:00  Tue     7  weekday   \n",
       "\n",
       "        month  qtr  callsign_group vehicle_type  ampds_card   age     sex  \\\n",
       "4           2    1            71.0          car          31  55.0    Male   \n",
       "10          2    1            71.0          car          29  71.0  Female   \n",
       "22          2    1            70.0          car          29  13.0    Male   \n",
       "34          2    1            70.0          car           9  73.0  Female   \n",
       "46          2    1            70.0          car           9  51.0    Male   \n",
       "...       ...  ...             ...          ...         ...   ...     ...   \n",
       "415600      2    1             NaN          NaN          30  63.0    Male   \n",
       "415616      2    1            70.0   helicopter          30  17.0    Male   \n",
       "415628      2    1            70.0   helicopter          27  39.0    Male   \n",
       "415641      2    1            70.0   helicopter          30  89.0    Male   \n",
       "415655      2    1            70.0   helicopter          17  65.0    Male   \n",
       "\n",
       "                           hems_result                       outcome callsign  \n",
       "4       Patient Treated (not conveyed)                      Deceased      C71  \n",
       "10                 Stand Down En Route                       Unknown      C71  \n",
       "22                 Stand Down En Route                       Unknown      C70  \n",
       "34                 Stand Down En Route                       Unknown      C70  \n",
       "46      Patient Treated (not conveyed)  Conveyed by land without DAA      C70  \n",
       "...                                ...                           ...      ...  \n",
       "415600                             NaN                           NaN      NaN  \n",
       "415616             Stand Down En Route                       Unknown      H70  \n",
       "415628  Patient Treated (not conveyed)                      Deceased      H70  \n",
       "415641                Patient Conveyed                     Airlifted      H70  \n",
       "415655                Patient Conveyed                     Airlifted      H70  \n",
       "\n",
       "[33712 rows x 17 columns]"
      ]
     },
     "execution_count": 30,
     "metadata": {},
     "output_type": "execute_result"
    }
   ],
   "source": [
    "call_df"
   ]
  },
  {
   "cell_type": "code",
   "execution_count": 31,
   "metadata": {},
   "outputs": [
    {
     "data": {
      "text/html": [
       "<div>\n",
       "<style scoped>\n",
       "    .dataframe tbody tr th:only-of-type {\n",
       "        vertical-align: middle;\n",
       "    }\n",
       "\n",
       "    .dataframe tbody tr th {\n",
       "        vertical-align: top;\n",
       "    }\n",
       "\n",
       "    .dataframe thead th {\n",
       "        text-align: right;\n",
       "    }\n",
       "</style>\n",
       "<table border=\"1\" class=\"dataframe\">\n",
       "  <thead>\n",
       "    <tr style=\"text-align: right;\">\n",
       "      <th></th>\n",
       "      <th></th>\n",
       "      <th>P_ID</th>\n",
       "    </tr>\n",
       "    <tr>\n",
       "      <th>run_number</th>\n",
       "      <th>month_start</th>\n",
       "      <th></th>\n",
       "    </tr>\n",
       "  </thead>\n",
       "  <tbody>\n",
       "    <tr>\n",
       "      <th rowspan=\"5\" valign=\"top\">1</th>\n",
       "      <th>2025-02-01</th>\n",
       "      <td>68</td>\n",
       "    </tr>\n",
       "    <tr>\n",
       "      <th>2025-03-01</th>\n",
       "      <td>128</td>\n",
       "    </tr>\n",
       "    <tr>\n",
       "      <th>2025-04-01</th>\n",
       "      <td>166</td>\n",
       "    </tr>\n",
       "    <tr>\n",
       "      <th>2025-05-01</th>\n",
       "      <td>148</td>\n",
       "    </tr>\n",
       "    <tr>\n",
       "      <th>2025-06-01</th>\n",
       "      <td>162</td>\n",
       "    </tr>\n",
       "    <tr>\n",
       "      <th>...</th>\n",
       "      <th>...</th>\n",
       "      <td>...</td>\n",
       "    </tr>\n",
       "    <tr>\n",
       "      <th rowspan=\"5\" valign=\"top\">20</th>\n",
       "      <th>2025-10-01</th>\n",
       "      <td>121</td>\n",
       "    </tr>\n",
       "    <tr>\n",
       "      <th>2025-11-01</th>\n",
       "      <td>108</td>\n",
       "    </tr>\n",
       "    <tr>\n",
       "      <th>2025-12-01</th>\n",
       "      <td>129</td>\n",
       "    </tr>\n",
       "    <tr>\n",
       "      <th>2026-01-01</th>\n",
       "      <td>144</td>\n",
       "    </tr>\n",
       "    <tr>\n",
       "      <th>2026-02-01</th>\n",
       "      <td>79</td>\n",
       "    </tr>\n",
       "  </tbody>\n",
       "</table>\n",
       "<p>260 rows × 1 columns</p>\n",
       "</div>"
      ],
      "text/plain": [
       "                        P_ID\n",
       "run_number month_start      \n",
       "1          2025-02-01     68\n",
       "           2025-03-01    128\n",
       "           2025-04-01    166\n",
       "           2025-05-01    148\n",
       "           2025-06-01    162\n",
       "...                      ...\n",
       "20         2025-10-01    121\n",
       "           2025-11-01    108\n",
       "           2025-12-01    129\n",
       "           2026-01-01    144\n",
       "           2026-02-01     79\n",
       "\n",
       "[260 rows x 1 columns]"
      ]
     },
     "execution_count": 31,
     "metadata": {},
     "output_type": "execute_result"
    }
   ],
   "source": [
    "call_df['timestamp_dt'] = pd.to_datetime(call_df['timestamp_dt'])\n",
    "call_df['month_start'] = call_df['timestamp_dt'].dt.to_period('M').dt.to_timestamp()\n",
    "\n",
    "call_df.groupby(['run_number', 'month_start'])[['P_ID']].count()"
   ]
  },
  {
   "cell_type": "code",
   "execution_count": 32,
   "metadata": {},
   "outputs": [
    {
     "data": {
      "application/vnd.plotly.v1+json": {
       "config": {
        "plotlyServerURL": "https://plot.ly"
       },
       "data": [
        {
         "hovertemplate": "run_number=1<br>month_start=%{x}<br>P_ID=%{y}<extra></extra>",
         "legendgroup": "1",
         "line": {
          "color": "#000001",
          "dash": "solid"
         },
         "marker": {
          "symbol": "circle"
         },
         "mode": "lines",
         "name": "1",
         "orientation": "v",
         "showlegend": true,
         "type": "scatter",
         "x": [
          "2025-02-01T00:00:00",
          "2025-03-01T00:00:00",
          "2025-04-01T00:00:00",
          "2025-05-01T00:00:00",
          "2025-06-01T00:00:00",
          "2025-07-01T00:00:00",
          "2025-08-01T00:00:00",
          "2025-09-01T00:00:00",
          "2025-10-01T00:00:00",
          "2025-11-01T00:00:00",
          "2025-12-01T00:00:00",
          "2026-01-01T00:00:00",
          "2026-02-01T00:00:00"
         ],
         "xaxis": "x",
         "y": [
          68,
          128,
          166,
          148,
          162,
          165,
          145,
          144,
          128,
          106,
          118,
          149,
          69
         ],
         "yaxis": "y"
        },
        {
         "hovertemplate": "run_number=2<br>month_start=%{x}<br>P_ID=%{y}<extra></extra>",
         "legendgroup": "2",
         "line": {
          "color": "#000002",
          "dash": "solid"
         },
         "marker": {
          "symbol": "circle"
         },
         "mode": "lines",
         "name": "2",
         "orientation": "v",
         "showlegend": true,
         "type": "scatter",
         "x": [
          "2025-02-01T00:00:00",
          "2025-03-01T00:00:00",
          "2025-04-01T00:00:00",
          "2025-05-01T00:00:00",
          "2025-06-01T00:00:00",
          "2025-07-01T00:00:00",
          "2025-08-01T00:00:00",
          "2025-09-01T00:00:00",
          "2025-10-01T00:00:00",
          "2025-11-01T00:00:00",
          "2025-12-01T00:00:00",
          "2026-01-01T00:00:00",
          "2026-02-01T00:00:00"
         ],
         "xaxis": "x",
         "y": [
          49,
          147,
          158,
          142,
          164,
          144,
          148,
          133,
          111,
          125,
          110,
          125,
          80
         ],
         "yaxis": "y"
        },
        {
         "hovertemplate": "run_number=3<br>month_start=%{x}<br>P_ID=%{y}<extra></extra>",
         "legendgroup": "3",
         "line": {
          "color": "#000003",
          "dash": "solid"
         },
         "marker": {
          "symbol": "circle"
         },
         "mode": "lines",
         "name": "3",
         "orientation": "v",
         "showlegend": true,
         "type": "scatter",
         "x": [
          "2025-02-01T00:00:00",
          "2025-03-01T00:00:00",
          "2025-04-01T00:00:00",
          "2025-05-01T00:00:00",
          "2025-06-01T00:00:00",
          "2025-07-01T00:00:00",
          "2025-08-01T00:00:00",
          "2025-09-01T00:00:00",
          "2025-10-01T00:00:00",
          "2025-11-01T00:00:00",
          "2025-12-01T00:00:00",
          "2026-01-01T00:00:00",
          "2026-02-01T00:00:00"
         ],
         "xaxis": "x",
         "y": [
          47,
          136,
          158,
          147,
          159,
          136,
          115,
          157,
          132,
          120,
          129,
          146,
          77
         ],
         "yaxis": "y"
        },
        {
         "hovertemplate": "run_number=4<br>month_start=%{x}<br>P_ID=%{y}<extra></extra>",
         "legendgroup": "4",
         "line": {
          "color": "#000004",
          "dash": "solid"
         },
         "marker": {
          "symbol": "circle"
         },
         "mode": "lines",
         "name": "4",
         "orientation": "v",
         "showlegend": true,
         "type": "scatter",
         "x": [
          "2025-02-01T00:00:00",
          "2025-03-01T00:00:00",
          "2025-04-01T00:00:00",
          "2025-05-01T00:00:00",
          "2025-06-01T00:00:00",
          "2025-07-01T00:00:00",
          "2025-08-01T00:00:00",
          "2025-09-01T00:00:00",
          "2025-10-01T00:00:00",
          "2025-11-01T00:00:00",
          "2025-12-01T00:00:00",
          "2026-01-01T00:00:00",
          "2026-02-01T00:00:00"
         ],
         "xaxis": "x",
         "y": [
          56,
          143,
          174,
          148,
          134,
          156,
          166,
          160,
          102,
          115,
          126,
          136,
          74
         ],
         "yaxis": "y"
        },
        {
         "hovertemplate": "run_number=5<br>month_start=%{x}<br>P_ID=%{y}<extra></extra>",
         "legendgroup": "5",
         "line": {
          "color": "#000005",
          "dash": "solid"
         },
         "marker": {
          "symbol": "circle"
         },
         "mode": "lines",
         "name": "5",
         "orientation": "v",
         "showlegend": true,
         "type": "scatter",
         "x": [
          "2025-02-01T00:00:00",
          "2025-03-01T00:00:00",
          "2025-04-01T00:00:00",
          "2025-05-01T00:00:00",
          "2025-06-01T00:00:00",
          "2025-07-01T00:00:00",
          "2025-08-01T00:00:00",
          "2025-09-01T00:00:00",
          "2025-10-01T00:00:00",
          "2025-11-01T00:00:00",
          "2025-12-01T00:00:00",
          "2026-01-01T00:00:00",
          "2026-02-01T00:00:00"
         ],
         "xaxis": "x",
         "y": [
          57,
          114,
          151,
          153,
          146,
          129,
          152,
          150,
          129,
          110,
          137,
          148,
          87
         ],
         "yaxis": "y"
        },
        {
         "hovertemplate": "run_number=6<br>month_start=%{x}<br>P_ID=%{y}<extra></extra>",
         "legendgroup": "6",
         "line": {
          "color": "#000006",
          "dash": "solid"
         },
         "marker": {
          "symbol": "circle"
         },
         "mode": "lines",
         "name": "6",
         "orientation": "v",
         "showlegend": true,
         "type": "scatter",
         "x": [
          "2025-02-01T00:00:00",
          "2025-03-01T00:00:00",
          "2025-04-01T00:00:00",
          "2025-05-01T00:00:00",
          "2025-06-01T00:00:00",
          "2025-07-01T00:00:00",
          "2025-08-01T00:00:00",
          "2025-09-01T00:00:00",
          "2025-10-01T00:00:00",
          "2025-11-01T00:00:00",
          "2025-12-01T00:00:00",
          "2026-01-01T00:00:00",
          "2026-02-01T00:00:00"
         ],
         "xaxis": "x",
         "y": [
          56,
          145,
          128,
          147,
          144,
          151,
          151,
          127,
          121,
          135,
          132,
          152,
          61
         ],
         "yaxis": "y"
        },
        {
         "hovertemplate": "run_number=7<br>month_start=%{x}<br>P_ID=%{y}<extra></extra>",
         "legendgroup": "7",
         "line": {
          "color": "#000007",
          "dash": "solid"
         },
         "marker": {
          "symbol": "circle"
         },
         "mode": "lines",
         "name": "7",
         "orientation": "v",
         "showlegend": true,
         "type": "scatter",
         "x": [
          "2025-02-01T00:00:00",
          "2025-03-01T00:00:00",
          "2025-04-01T00:00:00",
          "2025-05-01T00:00:00",
          "2025-06-01T00:00:00",
          "2025-07-01T00:00:00",
          "2025-08-01T00:00:00",
          "2025-09-01T00:00:00",
          "2025-10-01T00:00:00",
          "2025-11-01T00:00:00",
          "2025-12-01T00:00:00",
          "2026-01-01T00:00:00",
          "2026-02-01T00:00:00"
         ],
         "xaxis": "x",
         "y": [
          69,
          133,
          169,
          164,
          165,
          146,
          171,
          149,
          123,
          122,
          122,
          152,
          63
         ],
         "yaxis": "y"
        },
        {
         "hovertemplate": "run_number=8<br>month_start=%{x}<br>P_ID=%{y}<extra></extra>",
         "legendgroup": "8",
         "line": {
          "color": "#000008",
          "dash": "solid"
         },
         "marker": {
          "symbol": "circle"
         },
         "mode": "lines",
         "name": "8",
         "orientation": "v",
         "showlegend": true,
         "type": "scatter",
         "x": [
          "2025-02-01T00:00:00",
          "2025-03-01T00:00:00",
          "2025-04-01T00:00:00",
          "2025-05-01T00:00:00",
          "2025-06-01T00:00:00",
          "2025-07-01T00:00:00",
          "2025-08-01T00:00:00",
          "2025-09-01T00:00:00",
          "2025-10-01T00:00:00",
          "2025-11-01T00:00:00",
          "2025-12-01T00:00:00",
          "2026-01-01T00:00:00",
          "2026-02-01T00:00:00"
         ],
         "xaxis": "x",
         "y": [
          53,
          128,
          159,
          149,
          163,
          146,
          134,
          157,
          129,
          117,
          122,
          164,
          78
         ],
         "yaxis": "y"
        },
        {
         "hovertemplate": "run_number=9<br>month_start=%{x}<br>P_ID=%{y}<extra></extra>",
         "legendgroup": "9",
         "line": {
          "color": "#000009",
          "dash": "solid"
         },
         "marker": {
          "symbol": "circle"
         },
         "mode": "lines",
         "name": "9",
         "orientation": "v",
         "showlegend": true,
         "type": "scatter",
         "x": [
          "2025-02-01T00:00:00",
          "2025-03-01T00:00:00",
          "2025-04-01T00:00:00",
          "2025-05-01T00:00:00",
          "2025-06-01T00:00:00",
          "2025-07-01T00:00:00",
          "2025-08-01T00:00:00",
          "2025-09-01T00:00:00",
          "2025-10-01T00:00:00",
          "2025-11-01T00:00:00",
          "2025-12-01T00:00:00",
          "2026-01-01T00:00:00",
          "2026-02-01T00:00:00"
         ],
         "xaxis": "x",
         "y": [
          57,
          146,
          150,
          177,
          171,
          131,
          159,
          139,
          135,
          121,
          131,
          140,
          68
         ],
         "yaxis": "y"
        },
        {
         "hovertemplate": "run_number=10<br>month_start=%{x}<br>P_ID=%{y}<extra></extra>",
         "legendgroup": "10",
         "line": {
          "color": "#000010",
          "dash": "solid"
         },
         "marker": {
          "symbol": "circle"
         },
         "mode": "lines",
         "name": "10",
         "orientation": "v",
         "showlegend": true,
         "type": "scatter",
         "x": [
          "2025-02-01T00:00:00",
          "2025-03-01T00:00:00",
          "2025-04-01T00:00:00",
          "2025-05-01T00:00:00",
          "2025-06-01T00:00:00",
          "2025-07-01T00:00:00",
          "2025-08-01T00:00:00",
          "2025-09-01T00:00:00",
          "2025-10-01T00:00:00",
          "2025-11-01T00:00:00",
          "2025-12-01T00:00:00",
          "2026-01-01T00:00:00",
          "2026-02-01T00:00:00"
         ],
         "xaxis": "x",
         "y": [
          61,
          153,
          151,
          164,
          165,
          147,
          164,
          152,
          128,
          118,
          118,
          145,
          75
         ],
         "yaxis": "y"
        },
        {
         "hovertemplate": "run_number=11<br>month_start=%{x}<br>P_ID=%{y}<extra></extra>",
         "legendgroup": "11",
         "line": {
          "color": "#000001",
          "dash": "solid"
         },
         "marker": {
          "symbol": "circle"
         },
         "mode": "lines",
         "name": "11",
         "orientation": "v",
         "showlegend": true,
         "type": "scatter",
         "x": [
          "2025-02-01T00:00:00",
          "2025-03-01T00:00:00",
          "2025-04-01T00:00:00",
          "2025-05-01T00:00:00",
          "2025-06-01T00:00:00",
          "2025-07-01T00:00:00",
          "2025-08-01T00:00:00",
          "2025-09-01T00:00:00",
          "2025-10-01T00:00:00",
          "2025-11-01T00:00:00",
          "2025-12-01T00:00:00",
          "2026-01-01T00:00:00",
          "2026-02-01T00:00:00"
         ],
         "xaxis": "x",
         "y": [
          57,
          140,
          144,
          157,
          163,
          173,
          123,
          156,
          122,
          123,
          120,
          140,
          73
         ],
         "yaxis": "y"
        },
        {
         "hovertemplate": "run_number=12<br>month_start=%{x}<br>P_ID=%{y}<extra></extra>",
         "legendgroup": "12",
         "line": {
          "color": "#000002",
          "dash": "solid"
         },
         "marker": {
          "symbol": "circle"
         },
         "mode": "lines",
         "name": "12",
         "orientation": "v",
         "showlegend": true,
         "type": "scatter",
         "x": [
          "2025-02-01T00:00:00",
          "2025-03-01T00:00:00",
          "2025-04-01T00:00:00",
          "2025-05-01T00:00:00",
          "2025-06-01T00:00:00",
          "2025-07-01T00:00:00",
          "2025-08-01T00:00:00",
          "2025-09-01T00:00:00",
          "2025-10-01T00:00:00",
          "2025-11-01T00:00:00",
          "2025-12-01T00:00:00",
          "2026-01-01T00:00:00",
          "2026-02-01T00:00:00"
         ],
         "xaxis": "x",
         "y": [
          60,
          144,
          135,
          138,
          144,
          135,
          151,
          178,
          123,
          112,
          105,
          116,
          74
         ],
         "yaxis": "y"
        },
        {
         "hovertemplate": "run_number=13<br>month_start=%{x}<br>P_ID=%{y}<extra></extra>",
         "legendgroup": "13",
         "line": {
          "color": "#000003",
          "dash": "solid"
         },
         "marker": {
          "symbol": "circle"
         },
         "mode": "lines",
         "name": "13",
         "orientation": "v",
         "showlegend": true,
         "type": "scatter",
         "x": [
          "2025-02-01T00:00:00",
          "2025-03-01T00:00:00",
          "2025-04-01T00:00:00",
          "2025-05-01T00:00:00",
          "2025-06-01T00:00:00",
          "2025-07-01T00:00:00",
          "2025-08-01T00:00:00",
          "2025-09-01T00:00:00",
          "2025-10-01T00:00:00",
          "2025-11-01T00:00:00",
          "2025-12-01T00:00:00",
          "2026-01-01T00:00:00",
          "2026-02-01T00:00:00"
         ],
         "xaxis": "x",
         "y": [
          39,
          134,
          169,
          147,
          139,
          181,
          142,
          132,
          108,
          133,
          112,
          160,
          79
         ],
         "yaxis": "y"
        },
        {
         "hovertemplate": "run_number=14<br>month_start=%{x}<br>P_ID=%{y}<extra></extra>",
         "legendgroup": "14",
         "line": {
          "color": "#000004",
          "dash": "solid"
         },
         "marker": {
          "symbol": "circle"
         },
         "mode": "lines",
         "name": "14",
         "orientation": "v",
         "showlegend": true,
         "type": "scatter",
         "x": [
          "2025-02-01T00:00:00",
          "2025-03-01T00:00:00",
          "2025-04-01T00:00:00",
          "2025-05-01T00:00:00",
          "2025-06-01T00:00:00",
          "2025-07-01T00:00:00",
          "2025-08-01T00:00:00",
          "2025-09-01T00:00:00",
          "2025-10-01T00:00:00",
          "2025-11-01T00:00:00",
          "2025-12-01T00:00:00",
          "2026-01-01T00:00:00",
          "2026-02-01T00:00:00"
         ],
         "xaxis": "x",
         "y": [
          52,
          116,
          141,
          146,
          161,
          149,
          175,
          151,
          135,
          115,
          133,
          143,
          70
         ],
         "yaxis": "y"
        },
        {
         "hovertemplate": "run_number=15<br>month_start=%{x}<br>P_ID=%{y}<extra></extra>",
         "legendgroup": "15",
         "line": {
          "color": "#000005",
          "dash": "solid"
         },
         "marker": {
          "symbol": "circle"
         },
         "mode": "lines",
         "name": "15",
         "orientation": "v",
         "showlegend": true,
         "type": "scatter",
         "x": [
          "2025-02-01T00:00:00",
          "2025-03-01T00:00:00",
          "2025-04-01T00:00:00",
          "2025-05-01T00:00:00",
          "2025-06-01T00:00:00",
          "2025-07-01T00:00:00",
          "2025-08-01T00:00:00",
          "2025-09-01T00:00:00",
          "2025-10-01T00:00:00",
          "2025-11-01T00:00:00",
          "2025-12-01T00:00:00",
          "2026-01-01T00:00:00",
          "2026-02-01T00:00:00"
         ],
         "xaxis": "x",
         "y": [
          55,
          137,
          165,
          179,
          171,
          156,
          173,
          137,
          106,
          118,
          117,
          121,
          71
         ],
         "yaxis": "y"
        },
        {
         "hovertemplate": "run_number=16<br>month_start=%{x}<br>P_ID=%{y}<extra></extra>",
         "legendgroup": "16",
         "line": {
          "color": "#000006",
          "dash": "solid"
         },
         "marker": {
          "symbol": "circle"
         },
         "mode": "lines",
         "name": "16",
         "orientation": "v",
         "showlegend": true,
         "type": "scatter",
         "x": [
          "2025-02-01T00:00:00",
          "2025-03-01T00:00:00",
          "2025-04-01T00:00:00",
          "2025-05-01T00:00:00",
          "2025-06-01T00:00:00",
          "2025-07-01T00:00:00",
          "2025-08-01T00:00:00",
          "2025-09-01T00:00:00",
          "2025-10-01T00:00:00",
          "2025-11-01T00:00:00",
          "2025-12-01T00:00:00",
          "2026-01-01T00:00:00",
          "2026-02-01T00:00:00"
         ],
         "xaxis": "x",
         "y": [
          54,
          129,
          156,
          148,
          150,
          147,
          155,
          134,
          101,
          112,
          119,
          136,
          81
         ],
         "yaxis": "y"
        },
        {
         "hovertemplate": "run_number=17<br>month_start=%{x}<br>P_ID=%{y}<extra></extra>",
         "legendgroup": "17",
         "line": {
          "color": "#000007",
          "dash": "solid"
         },
         "marker": {
          "symbol": "circle"
         },
         "mode": "lines",
         "name": "17",
         "orientation": "v",
         "showlegend": true,
         "type": "scatter",
         "x": [
          "2025-02-01T00:00:00",
          "2025-03-01T00:00:00",
          "2025-04-01T00:00:00",
          "2025-05-01T00:00:00",
          "2025-06-01T00:00:00",
          "2025-07-01T00:00:00",
          "2025-08-01T00:00:00",
          "2025-09-01T00:00:00",
          "2025-10-01T00:00:00",
          "2025-11-01T00:00:00",
          "2025-12-01T00:00:00",
          "2026-01-01T00:00:00",
          "2026-02-01T00:00:00"
         ],
         "xaxis": "x",
         "y": [
          54,
          159,
          185,
          148,
          150,
          150,
          121,
          147,
          128,
          116,
          136,
          143,
          67
         ],
         "yaxis": "y"
        },
        {
         "hovertemplate": "run_number=18<br>month_start=%{x}<br>P_ID=%{y}<extra></extra>",
         "legendgroup": "18",
         "line": {
          "color": "#000008",
          "dash": "solid"
         },
         "marker": {
          "symbol": "circle"
         },
         "mode": "lines",
         "name": "18",
         "orientation": "v",
         "showlegend": true,
         "type": "scatter",
         "x": [
          "2025-02-01T00:00:00",
          "2025-03-01T00:00:00",
          "2025-04-01T00:00:00",
          "2025-05-01T00:00:00",
          "2025-06-01T00:00:00",
          "2025-07-01T00:00:00",
          "2025-08-01T00:00:00",
          "2025-09-01T00:00:00",
          "2025-10-01T00:00:00",
          "2025-11-01T00:00:00",
          "2025-12-01T00:00:00",
          "2026-01-01T00:00:00",
          "2026-02-01T00:00:00"
         ],
         "xaxis": "x",
         "y": [
          63,
          120,
          140,
          157,
          152,
          149,
          150,
          173,
          109,
          123,
          131,
          123,
          79
         ],
         "yaxis": "y"
        },
        {
         "hovertemplate": "run_number=19<br>month_start=%{x}<br>P_ID=%{y}<extra></extra>",
         "legendgroup": "19",
         "line": {
          "color": "#000009",
          "dash": "solid"
         },
         "marker": {
          "symbol": "circle"
         },
         "mode": "lines",
         "name": "19",
         "orientation": "v",
         "showlegend": true,
         "type": "scatter",
         "x": [
          "2025-02-01T00:00:00",
          "2025-03-01T00:00:00",
          "2025-04-01T00:00:00",
          "2025-05-01T00:00:00",
          "2025-06-01T00:00:00",
          "2025-07-01T00:00:00",
          "2025-08-01T00:00:00",
          "2025-09-01T00:00:00",
          "2025-10-01T00:00:00",
          "2025-11-01T00:00:00",
          "2025-12-01T00:00:00",
          "2026-01-01T00:00:00",
          "2026-02-01T00:00:00"
         ],
         "xaxis": "x",
         "y": [
          57,
          139,
          154,
          166,
          129,
          144,
          162,
          170,
          141,
          115,
          150,
          128,
          71
         ],
         "yaxis": "y"
        },
        {
         "hovertemplate": "run_number=20<br>month_start=%{x}<br>P_ID=%{y}<extra></extra>",
         "legendgroup": "20",
         "line": {
          "color": "#000010",
          "dash": "solid"
         },
         "marker": {
          "symbol": "circle"
         },
         "mode": "lines",
         "name": "20",
         "orientation": "v",
         "showlegend": true,
         "type": "scatter",
         "x": [
          "2025-02-01T00:00:00",
          "2025-03-01T00:00:00",
          "2025-04-01T00:00:00",
          "2025-05-01T00:00:00",
          "2025-06-01T00:00:00",
          "2025-07-01T00:00:00",
          "2025-08-01T00:00:00",
          "2025-09-01T00:00:00",
          "2025-10-01T00:00:00",
          "2025-11-01T00:00:00",
          "2025-12-01T00:00:00",
          "2026-01-01T00:00:00",
          "2026-02-01T00:00:00"
         ],
         "xaxis": "x",
         "y": [
          50,
          146,
          149,
          162,
          152,
          155,
          148,
          167,
          121,
          108,
          129,
          144,
          79
         ],
         "yaxis": "y"
        }
       ],
       "layout": {
        "legend": {
         "title": {
          "text": "run_number"
         },
         "tracegroupgap": 0
        },
        "margin": {
         "t": 60
        },
        "template": {
         "data": {
          "candlestick": [
           {
            "decreasing": {
             "line": {
              "color": "#000033"
             }
            },
            "increasing": {
             "line": {
              "color": "#000032"
             }
            },
            "type": "candlestick"
           }
          ],
          "contour": [
           {
            "colorscale": [
             [
              0,
              "#000011"
             ],
             [
              0.1111111111111111,
              "#000012"
             ],
             [
              0.2222222222222222,
              "#000013"
             ],
             [
              0.3333333333333333,
              "#000014"
             ],
             [
              0.4444444444444444,
              "#000015"
             ],
             [
              0.5555555555555556,
              "#000016"
             ],
             [
              0.6666666666666666,
              "#000017"
             ],
             [
              0.7777777777777778,
              "#000018"
             ],
             [
              0.8888888888888888,
              "#000019"
             ],
             [
              1,
              "#000020"
             ]
            ],
            "type": "contour"
           }
          ],
          "contourcarpet": [
           {
            "colorscale": [
             [
              0,
              "#000011"
             ],
             [
              0.1111111111111111,
              "#000012"
             ],
             [
              0.2222222222222222,
              "#000013"
             ],
             [
              0.3333333333333333,
              "#000014"
             ],
             [
              0.4444444444444444,
              "#000015"
             ],
             [
              0.5555555555555556,
              "#000016"
             ],
             [
              0.6666666666666666,
              "#000017"
             ],
             [
              0.7777777777777778,
              "#000018"
             ],
             [
              0.8888888888888888,
              "#000019"
             ],
             [
              1,
              "#000020"
             ]
            ],
            "type": "contourcarpet"
           }
          ],
          "heatmap": [
           {
            "colorscale": [
             [
              0,
              "#000011"
             ],
             [
              0.1111111111111111,
              "#000012"
             ],
             [
              0.2222222222222222,
              "#000013"
             ],
             [
              0.3333333333333333,
              "#000014"
             ],
             [
              0.4444444444444444,
              "#000015"
             ],
             [
              0.5555555555555556,
              "#000016"
             ],
             [
              0.6666666666666666,
              "#000017"
             ],
             [
              0.7777777777777778,
              "#000018"
             ],
             [
              0.8888888888888888,
              "#000019"
             ],
             [
              1,
              "#000020"
             ]
            ],
            "type": "heatmap"
           }
          ],
          "histogram2d": [
           {
            "colorscale": [
             [
              0,
              "#000011"
             ],
             [
              0.1111111111111111,
              "#000012"
             ],
             [
              0.2222222222222222,
              "#000013"
             ],
             [
              0.3333333333333333,
              "#000014"
             ],
             [
              0.4444444444444444,
              "#000015"
             ],
             [
              0.5555555555555556,
              "#000016"
             ],
             [
              0.6666666666666666,
              "#000017"
             ],
             [
              0.7777777777777778,
              "#000018"
             ],
             [
              0.8888888888888888,
              "#000019"
             ],
             [
              1,
              "#000020"
             ]
            ],
            "type": "histogram2d"
           }
          ],
          "icicle": [
           {
            "textfont": {
             "color": "white"
            },
            "type": "icicle"
           }
          ],
          "sankey": [
           {
            "textfont": {
             "color": "#000036"
            },
            "type": "sankey"
           }
          ],
          "scatter": [
           {
            "marker": {
             "line": {
              "width": 0
             }
            },
            "type": "scatter"
           }
          ],
          "table": [
           {
            "cells": {
             "fill": {
              "color": "#000038"
             },
             "font": {
              "color": "#000037"
             },
             "line": {
              "color": "#000039"
             }
            },
            "header": {
             "fill": {
              "color": "#000040"
             },
             "font": {
              "color": "#000036"
             },
             "line": {
              "color": "#000039"
             }
            },
            "type": "table"
           }
          ],
          "waterfall": [
           {
            "connector": {
             "line": {
              "color": "#000036",
              "width": 2
             }
            },
            "decreasing": {
             "marker": {
              "color": "#000033"
             }
            },
            "increasing": {
             "marker": {
              "color": "#000032"
             }
            },
            "totals": {
             "marker": {
              "color": "#000034"
             }
            },
            "type": "waterfall"
           }
          ]
         },
         "layout": {
          "coloraxis": {
           "colorscale": [
            [
             0,
             "#000011"
            ],
            [
             0.1111111111111111,
             "#000012"
            ],
            [
             0.2222222222222222,
             "#000013"
            ],
            [
             0.3333333333333333,
             "#000014"
            ],
            [
             0.4444444444444444,
             "#000015"
            ],
            [
             0.5555555555555556,
             "#000016"
            ],
            [
             0.6666666666666666,
             "#000017"
            ],
            [
             0.7777777777777778,
             "#000018"
            ],
            [
             0.8888888888888888,
             "#000019"
            ],
            [
             1,
             "#000020"
            ]
           ]
          },
          "colorscale": {
           "diverging": [
            [
             0,
             "#000021"
            ],
            [
             0.1,
             "#000022"
            ],
            [
             0.2,
             "#000023"
            ],
            [
             0.3,
             "#000024"
            ],
            [
             0.4,
             "#000025"
            ],
            [
             0.5,
             "#000026"
            ],
            [
             0.6,
             "#000027"
            ],
            [
             0.7,
             "#000028"
            ],
            [
             0.8,
             "#000029"
            ],
            [
             0.9,
             "#000030"
            ],
            [
             1,
             "#000031"
            ]
           ],
           "sequential": [
            [
             0,
             "#000011"
            ],
            [
             0.1111111111111111,
             "#000012"
            ],
            [
             0.2222222222222222,
             "#000013"
            ],
            [
             0.3333333333333333,
             "#000014"
            ],
            [
             0.4444444444444444,
             "#000015"
            ],
            [
             0.5555555555555556,
             "#000016"
            ],
            [
             0.6666666666666666,
             "#000017"
            ],
            [
             0.7777777777777778,
             "#000018"
            ],
            [
             0.8888888888888888,
             "#000019"
            ],
            [
             1,
             "#000020"
            ]
           ],
           "sequentialminus": [
            [
             0,
             "#000011"
            ],
            [
             0.1111111111111111,
             "#000012"
            ],
            [
             0.2222222222222222,
             "#000013"
            ],
            [
             0.3333333333333333,
             "#000014"
            ],
            [
             0.4444444444444444,
             "#000015"
            ],
            [
             0.5555555555555556,
             "#000016"
            ],
            [
             0.6666666666666666,
             "#000017"
            ],
            [
             0.7777777777777778,
             "#000018"
            ],
            [
             0.8888888888888888,
             "#000019"
            ],
            [
             1,
             "#000020"
            ]
           ]
          },
          "colorway": [
           "#000001",
           "#000002",
           "#000003",
           "#000004",
           "#000005",
           "#000006",
           "#000007",
           "#000008",
           "#000009",
           "#000010"
          ]
         }
        },
        "xaxis": {
         "anchor": "y",
         "domain": [
          0,
          1
         ],
         "title": {
          "text": "month_start"
         }
        },
        "yaxis": {
         "anchor": "x",
         "domain": [
          0,
          1
         ],
         "title": {
          "text": "P_ID"
         }
        }
       }
      }
     },
     "metadata": {},
     "output_type": "display_data"
    }
   ],
   "source": [
    "px.line(\n",
    "    call_df.groupby(['run_number', 'month_start'])[['P_ID']].count().reset_index(),\n",
    "    x=\"month_start\", y=\"P_ID\", color=\"run_number\")"
   ]
  },
  {
   "cell_type": "code",
   "execution_count": 33,
   "metadata": {},
   "outputs": [],
   "source": [
    "from _app_utils import DAA_COLORSCHEME"
   ]
  },
  {
   "cell_type": "code",
   "execution_count": 34,
   "metadata": {},
   "outputs": [
    {
     "data": {
      "application/vnd.plotly.v1+json": {
       "config": {
        "plotlyServerURL": "https://plot.ly"
       },
       "data": [
        {
         "hovertemplate": "Month=%{x}<br>Average Calls Per Month=%{y}<extra></extra>",
         "legendgroup": "",
         "line": {
          "color": "#000001",
          "dash": "solid"
         },
         "marker": {
          "symbol": "circle"
         },
         "mode": "lines+markers",
         "name": "",
         "orientation": "v",
         "showlegend": false,
         "type": "scatter",
         "x": [
          "2025-03-01T00:00:00",
          "2025-04-01T00:00:00",
          "2025-05-01T00:00:00",
          "2025-06-01T00:00:00",
          "2025-07-01T00:00:00",
          "2025-08-01T00:00:00",
          "2025-09-01T00:00:00",
          "2025-10-01T00:00:00",
          "2025-11-01T00:00:00",
          "2025-12-01T00:00:00",
          "2026-01-01T00:00:00"
         ],
         "xaxis": "x",
         "y": [
          136.85,
          155.1,
          154.35,
          154.2,
          149.5,
          150.25,
          150.65,
          121.6,
          118.2,
          124.85,
          140.55
         ],
         "yaxis": "y"
        },
        {
         "line": {
          "width": 0
         },
         "mode": "lines",
         "showlegend": false,
         "type": "scatter",
         "x": [
          "2025-03-01T00:00:00",
          "2025-04-01T00:00:00",
          "2025-05-01T00:00:00",
          "2025-06-01T00:00:00",
          "2025-07-01T00:00:00",
          "2025-08-01T00:00:00",
          "2025-09-01T00:00:00",
          "2025-10-01T00:00:00",
          "2025-11-01T00:00:00",
          "2025-12-01T00:00:00",
          "2026-01-01T00:00:00"
         ],
         "y": [
          142.04983584761146,
          161.19427472477673,
          159.23300104012836,
          159.49486472169522,
          155.14760032878428,
          157.6725402801552,
          156.9824349852253,
          126.71579959279917,
          121.46301971863649,
          129.50403618831066,
          146.1706405141651
         ]
        },
        {
         "fill": "tonexty",
         "fillcolor": "rgba(0, 176, 185, 0.4)",
         "line": {
          "width": 0
         },
         "mode": "lines",
         "name": "95% Range",
         "showlegend": true,
         "type": "scatter",
         "x": [
          "2025-03-01T00:00:00",
          "2025-04-01T00:00:00",
          "2025-05-01T00:00:00",
          "2025-06-01T00:00:00",
          "2025-07-01T00:00:00",
          "2025-08-01T00:00:00",
          "2025-09-01T00:00:00",
          "2025-10-01T00:00:00",
          "2025-11-01T00:00:00",
          "2025-12-01T00:00:00",
          "2026-01-01T00:00:00"
         ],
         "y": [
          131.65016415238853,
          149.00572527522326,
          149.46699895987163,
          148.90513527830475,
          143.85239967121572,
          142.8274597198448,
          144.31756501477471,
          116.48420040720082,
          114.93698028136352,
          120.19596381168932,
          134.92935948583494
         ]
        },
        {
         "line": {
          "color": "gray",
          "dash": "dot",
          "width": 2
         },
         "mode": "lines",
         "name": "Run 1",
         "opacity": 0.6,
         "showlegend": false,
         "type": "scatter",
         "x": [
          "2025-03-01T00:00:00",
          "2025-04-01T00:00:00",
          "2025-05-01T00:00:00",
          "2025-06-01T00:00:00",
          "2025-07-01T00:00:00",
          "2025-08-01T00:00:00",
          "2025-09-01T00:00:00",
          "2025-10-01T00:00:00",
          "2025-11-01T00:00:00",
          "2025-12-01T00:00:00",
          "2026-01-01T00:00:00"
         ],
         "y": [
          128,
          166,
          148,
          162,
          165,
          145,
          144,
          128,
          106,
          118,
          149
         ]
        },
        {
         "line": {
          "color": "gray",
          "dash": "dot",
          "width": 2
         },
         "mode": "lines",
         "name": "Run 2",
         "opacity": 0.6,
         "showlegend": false,
         "type": "scatter",
         "x": [
          "2025-03-01T00:00:00",
          "2025-04-01T00:00:00",
          "2025-05-01T00:00:00",
          "2025-06-01T00:00:00",
          "2025-07-01T00:00:00",
          "2025-08-01T00:00:00",
          "2025-09-01T00:00:00",
          "2025-10-01T00:00:00",
          "2025-11-01T00:00:00",
          "2025-12-01T00:00:00",
          "2026-01-01T00:00:00"
         ],
         "y": [
          147,
          158,
          142,
          164,
          144,
          148,
          133,
          111,
          125,
          110,
          125
         ]
        },
        {
         "line": {
          "color": "gray",
          "dash": "dot",
          "width": 2
         },
         "mode": "lines",
         "name": "Run 3",
         "opacity": 0.6,
         "showlegend": false,
         "type": "scatter",
         "x": [
          "2025-03-01T00:00:00",
          "2025-04-01T00:00:00",
          "2025-05-01T00:00:00",
          "2025-06-01T00:00:00",
          "2025-07-01T00:00:00",
          "2025-08-01T00:00:00",
          "2025-09-01T00:00:00",
          "2025-10-01T00:00:00",
          "2025-11-01T00:00:00",
          "2025-12-01T00:00:00",
          "2026-01-01T00:00:00"
         ],
         "y": [
          136,
          158,
          147,
          159,
          136,
          115,
          157,
          132,
          120,
          129,
          146
         ]
        },
        {
         "line": {
          "color": "gray",
          "dash": "dot",
          "width": 2
         },
         "mode": "lines",
         "name": "Run 4",
         "opacity": 0.6,
         "showlegend": false,
         "type": "scatter",
         "x": [
          "2025-03-01T00:00:00",
          "2025-04-01T00:00:00",
          "2025-05-01T00:00:00",
          "2025-06-01T00:00:00",
          "2025-07-01T00:00:00",
          "2025-08-01T00:00:00",
          "2025-09-01T00:00:00",
          "2025-10-01T00:00:00",
          "2025-11-01T00:00:00",
          "2025-12-01T00:00:00",
          "2026-01-01T00:00:00"
         ],
         "y": [
          143,
          174,
          148,
          134,
          156,
          166,
          160,
          102,
          115,
          126,
          136
         ]
        },
        {
         "line": {
          "color": "gray",
          "dash": "dot",
          "width": 2
         },
         "mode": "lines",
         "name": "Run 5",
         "opacity": 0.6,
         "showlegend": false,
         "type": "scatter",
         "x": [
          "2025-03-01T00:00:00",
          "2025-04-01T00:00:00",
          "2025-05-01T00:00:00",
          "2025-06-01T00:00:00",
          "2025-07-01T00:00:00",
          "2025-08-01T00:00:00",
          "2025-09-01T00:00:00",
          "2025-10-01T00:00:00",
          "2025-11-01T00:00:00",
          "2025-12-01T00:00:00",
          "2026-01-01T00:00:00"
         ],
         "y": [
          114,
          151,
          153,
          146,
          129,
          152,
          150,
          129,
          110,
          137,
          148
         ]
        },
        {
         "line": {
          "color": "gray",
          "dash": "dot",
          "width": 2
         },
         "mode": "lines",
         "name": "Run 6",
         "opacity": 0.6,
         "showlegend": false,
         "type": "scatter",
         "x": [
          "2025-03-01T00:00:00",
          "2025-04-01T00:00:00",
          "2025-05-01T00:00:00",
          "2025-06-01T00:00:00",
          "2025-07-01T00:00:00",
          "2025-08-01T00:00:00",
          "2025-09-01T00:00:00",
          "2025-10-01T00:00:00",
          "2025-11-01T00:00:00",
          "2025-12-01T00:00:00",
          "2026-01-01T00:00:00"
         ],
         "y": [
          145,
          128,
          147,
          144,
          151,
          151,
          127,
          121,
          135,
          132,
          152
         ]
        },
        {
         "line": {
          "color": "gray",
          "dash": "dot",
          "width": 2
         },
         "mode": "lines",
         "name": "Run 7",
         "opacity": 0.6,
         "showlegend": false,
         "type": "scatter",
         "x": [
          "2025-03-01T00:00:00",
          "2025-04-01T00:00:00",
          "2025-05-01T00:00:00",
          "2025-06-01T00:00:00",
          "2025-07-01T00:00:00",
          "2025-08-01T00:00:00",
          "2025-09-01T00:00:00",
          "2025-10-01T00:00:00",
          "2025-11-01T00:00:00",
          "2025-12-01T00:00:00",
          "2026-01-01T00:00:00"
         ],
         "y": [
          133,
          169,
          164,
          165,
          146,
          171,
          149,
          123,
          122,
          122,
          152
         ]
        },
        {
         "line": {
          "color": "gray",
          "dash": "dot",
          "width": 2
         },
         "mode": "lines",
         "name": "Run 8",
         "opacity": 0.6,
         "showlegend": false,
         "type": "scatter",
         "x": [
          "2025-03-01T00:00:00",
          "2025-04-01T00:00:00",
          "2025-05-01T00:00:00",
          "2025-06-01T00:00:00",
          "2025-07-01T00:00:00",
          "2025-08-01T00:00:00",
          "2025-09-01T00:00:00",
          "2025-10-01T00:00:00",
          "2025-11-01T00:00:00",
          "2025-12-01T00:00:00",
          "2026-01-01T00:00:00"
         ],
         "y": [
          128,
          159,
          149,
          163,
          146,
          134,
          157,
          129,
          117,
          122,
          164
         ]
        },
        {
         "line": {
          "color": "gray",
          "dash": "dot",
          "width": 2
         },
         "mode": "lines",
         "name": "Run 9",
         "opacity": 0.6,
         "showlegend": false,
         "type": "scatter",
         "x": [
          "2025-03-01T00:00:00",
          "2025-04-01T00:00:00",
          "2025-05-01T00:00:00",
          "2025-06-01T00:00:00",
          "2025-07-01T00:00:00",
          "2025-08-01T00:00:00",
          "2025-09-01T00:00:00",
          "2025-10-01T00:00:00",
          "2025-11-01T00:00:00",
          "2025-12-01T00:00:00",
          "2026-01-01T00:00:00"
         ],
         "y": [
          146,
          150,
          177,
          171,
          131,
          159,
          139,
          135,
          121,
          131,
          140
         ]
        },
        {
         "line": {
          "color": "gray",
          "dash": "dot",
          "width": 2
         },
         "mode": "lines",
         "name": "Run 10",
         "opacity": 0.6,
         "showlegend": false,
         "type": "scatter",
         "x": [
          "2025-03-01T00:00:00",
          "2025-04-01T00:00:00",
          "2025-05-01T00:00:00",
          "2025-06-01T00:00:00",
          "2025-07-01T00:00:00",
          "2025-08-01T00:00:00",
          "2025-09-01T00:00:00",
          "2025-10-01T00:00:00",
          "2025-11-01T00:00:00",
          "2025-12-01T00:00:00",
          "2026-01-01T00:00:00"
         ],
         "y": [
          153,
          151,
          164,
          165,
          147,
          164,
          152,
          128,
          118,
          118,
          145
         ]
        },
        {
         "line": {
          "color": "gray",
          "dash": "dot",
          "width": 2
         },
         "mode": "lines",
         "name": "Run 11",
         "opacity": 0.6,
         "showlegend": false,
         "type": "scatter",
         "x": [
          "2025-03-01T00:00:00",
          "2025-04-01T00:00:00",
          "2025-05-01T00:00:00",
          "2025-06-01T00:00:00",
          "2025-07-01T00:00:00",
          "2025-08-01T00:00:00",
          "2025-09-01T00:00:00",
          "2025-10-01T00:00:00",
          "2025-11-01T00:00:00",
          "2025-12-01T00:00:00",
          "2026-01-01T00:00:00"
         ],
         "y": [
          140,
          144,
          157,
          163,
          173,
          123,
          156,
          122,
          123,
          120,
          140
         ]
        },
        {
         "line": {
          "color": "gray",
          "dash": "dot",
          "width": 2
         },
         "mode": "lines",
         "name": "Run 12",
         "opacity": 0.6,
         "showlegend": false,
         "type": "scatter",
         "x": [
          "2025-03-01T00:00:00",
          "2025-04-01T00:00:00",
          "2025-05-01T00:00:00",
          "2025-06-01T00:00:00",
          "2025-07-01T00:00:00",
          "2025-08-01T00:00:00",
          "2025-09-01T00:00:00",
          "2025-10-01T00:00:00",
          "2025-11-01T00:00:00",
          "2025-12-01T00:00:00",
          "2026-01-01T00:00:00"
         ],
         "y": [
          144,
          135,
          138,
          144,
          135,
          151,
          178,
          123,
          112,
          105,
          116
         ]
        },
        {
         "line": {
          "color": "gray",
          "dash": "dot",
          "width": 2
         },
         "mode": "lines",
         "name": "Run 13",
         "opacity": 0.6,
         "showlegend": false,
         "type": "scatter",
         "x": [
          "2025-03-01T00:00:00",
          "2025-04-01T00:00:00",
          "2025-05-01T00:00:00",
          "2025-06-01T00:00:00",
          "2025-07-01T00:00:00",
          "2025-08-01T00:00:00",
          "2025-09-01T00:00:00",
          "2025-10-01T00:00:00",
          "2025-11-01T00:00:00",
          "2025-12-01T00:00:00",
          "2026-01-01T00:00:00"
         ],
         "y": [
          134,
          169,
          147,
          139,
          181,
          142,
          132,
          108,
          133,
          112,
          160
         ]
        },
        {
         "line": {
          "color": "gray",
          "dash": "dot",
          "width": 2
         },
         "mode": "lines",
         "name": "Run 14",
         "opacity": 0.6,
         "showlegend": false,
         "type": "scatter",
         "x": [
          "2025-03-01T00:00:00",
          "2025-04-01T00:00:00",
          "2025-05-01T00:00:00",
          "2025-06-01T00:00:00",
          "2025-07-01T00:00:00",
          "2025-08-01T00:00:00",
          "2025-09-01T00:00:00",
          "2025-10-01T00:00:00",
          "2025-11-01T00:00:00",
          "2025-12-01T00:00:00",
          "2026-01-01T00:00:00"
         ],
         "y": [
          116,
          141,
          146,
          161,
          149,
          175,
          151,
          135,
          115,
          133,
          143
         ]
        },
        {
         "line": {
          "color": "gray",
          "dash": "dot",
          "width": 2
         },
         "mode": "lines",
         "name": "Run 15",
         "opacity": 0.6,
         "showlegend": false,
         "type": "scatter",
         "x": [
          "2025-03-01T00:00:00",
          "2025-04-01T00:00:00",
          "2025-05-01T00:00:00",
          "2025-06-01T00:00:00",
          "2025-07-01T00:00:00",
          "2025-08-01T00:00:00",
          "2025-09-01T00:00:00",
          "2025-10-01T00:00:00",
          "2025-11-01T00:00:00",
          "2025-12-01T00:00:00",
          "2026-01-01T00:00:00"
         ],
         "y": [
          137,
          165,
          179,
          171,
          156,
          173,
          137,
          106,
          118,
          117,
          121
         ]
        },
        {
         "line": {
          "color": "gray",
          "dash": "dot",
          "width": 2
         },
         "mode": "lines",
         "name": "Run 16",
         "opacity": 0.6,
         "showlegend": false,
         "type": "scatter",
         "x": [
          "2025-03-01T00:00:00",
          "2025-04-01T00:00:00",
          "2025-05-01T00:00:00",
          "2025-06-01T00:00:00",
          "2025-07-01T00:00:00",
          "2025-08-01T00:00:00",
          "2025-09-01T00:00:00",
          "2025-10-01T00:00:00",
          "2025-11-01T00:00:00",
          "2025-12-01T00:00:00",
          "2026-01-01T00:00:00"
         ],
         "y": [
          129,
          156,
          148,
          150,
          147,
          155,
          134,
          101,
          112,
          119,
          136
         ]
        },
        {
         "line": {
          "color": "gray",
          "dash": "dot",
          "width": 2
         },
         "mode": "lines",
         "name": "Run 17",
         "opacity": 0.6,
         "showlegend": false,
         "type": "scatter",
         "x": [
          "2025-03-01T00:00:00",
          "2025-04-01T00:00:00",
          "2025-05-01T00:00:00",
          "2025-06-01T00:00:00",
          "2025-07-01T00:00:00",
          "2025-08-01T00:00:00",
          "2025-09-01T00:00:00",
          "2025-10-01T00:00:00",
          "2025-11-01T00:00:00",
          "2025-12-01T00:00:00",
          "2026-01-01T00:00:00"
         ],
         "y": [
          159,
          185,
          148,
          150,
          150,
          121,
          147,
          128,
          116,
          136,
          143
         ]
        },
        {
         "line": {
          "color": "gray",
          "dash": "dot",
          "width": 2
         },
         "mode": "lines",
         "name": "Run 18",
         "opacity": 0.6,
         "showlegend": false,
         "type": "scatter",
         "x": [
          "2025-03-01T00:00:00",
          "2025-04-01T00:00:00",
          "2025-05-01T00:00:00",
          "2025-06-01T00:00:00",
          "2025-07-01T00:00:00",
          "2025-08-01T00:00:00",
          "2025-09-01T00:00:00",
          "2025-10-01T00:00:00",
          "2025-11-01T00:00:00",
          "2025-12-01T00:00:00",
          "2026-01-01T00:00:00"
         ],
         "y": [
          120,
          140,
          157,
          152,
          149,
          150,
          173,
          109,
          123,
          131,
          123
         ]
        },
        {
         "line": {
          "color": "gray",
          "dash": "dot",
          "width": 2
         },
         "mode": "lines",
         "name": "Run 19",
         "opacity": 0.6,
         "showlegend": false,
         "type": "scatter",
         "x": [
          "2025-03-01T00:00:00",
          "2025-04-01T00:00:00",
          "2025-05-01T00:00:00",
          "2025-06-01T00:00:00",
          "2025-07-01T00:00:00",
          "2025-08-01T00:00:00",
          "2025-09-01T00:00:00",
          "2025-10-01T00:00:00",
          "2025-11-01T00:00:00",
          "2025-12-01T00:00:00",
          "2026-01-01T00:00:00"
         ],
         "y": [
          139,
          154,
          166,
          129,
          144,
          162,
          170,
          141,
          115,
          150,
          128
         ]
        },
        {
         "line": {
          "color": "gray",
          "dash": "dot",
          "width": 2
         },
         "mode": "lines",
         "name": "Run 20",
         "opacity": 0.6,
         "showlegend": false,
         "type": "scatter",
         "x": [
          "2025-03-01T00:00:00",
          "2025-04-01T00:00:00",
          "2025-05-01T00:00:00",
          "2025-06-01T00:00:00",
          "2025-07-01T00:00:00",
          "2025-08-01T00:00:00",
          "2025-09-01T00:00:00",
          "2025-10-01T00:00:00",
          "2025-11-01T00:00:00",
          "2025-12-01T00:00:00",
          "2026-01-01T00:00:00"
         ],
         "y": [
          146,
          149,
          162,
          152,
          155,
          148,
          167,
          121,
          108,
          129,
          144
         ]
        }
       ],
       "layout": {
        "legend": {
         "tracegroupgap": 0
        },
        "template": {
         "data": {
          "candlestick": [
           {
            "decreasing": {
             "line": {
              "color": "#000033"
             }
            },
            "increasing": {
             "line": {
              "color": "#000032"
             }
            },
            "type": "candlestick"
           }
          ],
          "contour": [
           {
            "colorscale": [
             [
              0,
              "#000011"
             ],
             [
              0.1111111111111111,
              "#000012"
             ],
             [
              0.2222222222222222,
              "#000013"
             ],
             [
              0.3333333333333333,
              "#000014"
             ],
             [
              0.4444444444444444,
              "#000015"
             ],
             [
              0.5555555555555556,
              "#000016"
             ],
             [
              0.6666666666666666,
              "#000017"
             ],
             [
              0.7777777777777778,
              "#000018"
             ],
             [
              0.8888888888888888,
              "#000019"
             ],
             [
              1,
              "#000020"
             ]
            ],
            "type": "contour"
           }
          ],
          "contourcarpet": [
           {
            "colorscale": [
             [
              0,
              "#000011"
             ],
             [
              0.1111111111111111,
              "#000012"
             ],
             [
              0.2222222222222222,
              "#000013"
             ],
             [
              0.3333333333333333,
              "#000014"
             ],
             [
              0.4444444444444444,
              "#000015"
             ],
             [
              0.5555555555555556,
              "#000016"
             ],
             [
              0.6666666666666666,
              "#000017"
             ],
             [
              0.7777777777777778,
              "#000018"
             ],
             [
              0.8888888888888888,
              "#000019"
             ],
             [
              1,
              "#000020"
             ]
            ],
            "type": "contourcarpet"
           }
          ],
          "heatmap": [
           {
            "colorscale": [
             [
              0,
              "#000011"
             ],
             [
              0.1111111111111111,
              "#000012"
             ],
             [
              0.2222222222222222,
              "#000013"
             ],
             [
              0.3333333333333333,
              "#000014"
             ],
             [
              0.4444444444444444,
              "#000015"
             ],
             [
              0.5555555555555556,
              "#000016"
             ],
             [
              0.6666666666666666,
              "#000017"
             ],
             [
              0.7777777777777778,
              "#000018"
             ],
             [
              0.8888888888888888,
              "#000019"
             ],
             [
              1,
              "#000020"
             ]
            ],
            "type": "heatmap"
           }
          ],
          "histogram2d": [
           {
            "colorscale": [
             [
              0,
              "#000011"
             ],
             [
              0.1111111111111111,
              "#000012"
             ],
             [
              0.2222222222222222,
              "#000013"
             ],
             [
              0.3333333333333333,
              "#000014"
             ],
             [
              0.4444444444444444,
              "#000015"
             ],
             [
              0.5555555555555556,
              "#000016"
             ],
             [
              0.6666666666666666,
              "#000017"
             ],
             [
              0.7777777777777778,
              "#000018"
             ],
             [
              0.8888888888888888,
              "#000019"
             ],
             [
              1,
              "#000020"
             ]
            ],
            "type": "histogram2d"
           }
          ],
          "icicle": [
           {
            "textfont": {
             "color": "white"
            },
            "type": "icicle"
           }
          ],
          "sankey": [
           {
            "textfont": {
             "color": "#000036"
            },
            "type": "sankey"
           }
          ],
          "scatter": [
           {
            "marker": {
             "line": {
              "width": 0
             }
            },
            "type": "scatter"
           }
          ],
          "table": [
           {
            "cells": {
             "fill": {
              "color": "#000038"
             },
             "font": {
              "color": "#000037"
             },
             "line": {
              "color": "#000039"
             }
            },
            "header": {
             "fill": {
              "color": "#000040"
             },
             "font": {
              "color": "#000036"
             },
             "line": {
              "color": "#000039"
             }
            },
            "type": "table"
           }
          ],
          "waterfall": [
           {
            "connector": {
             "line": {
              "color": "#000036",
              "width": 2
             }
            },
            "decreasing": {
             "marker": {
              "color": "#000033"
             }
            },
            "increasing": {
             "marker": {
              "color": "#000032"
             }
            },
            "totals": {
             "marker": {
              "color": "#000034"
             }
            },
            "type": "waterfall"
           }
          ]
         },
         "layout": {
          "coloraxis": {
           "colorscale": [
            [
             0,
             "#000011"
            ],
            [
             0.1111111111111111,
             "#000012"
            ],
            [
             0.2222222222222222,
             "#000013"
            ],
            [
             0.3333333333333333,
             "#000014"
            ],
            [
             0.4444444444444444,
             "#000015"
            ],
            [
             0.5555555555555556,
             "#000016"
            ],
            [
             0.6666666666666666,
             "#000017"
            ],
            [
             0.7777777777777778,
             "#000018"
            ],
            [
             0.8888888888888888,
             "#000019"
            ],
            [
             1,
             "#000020"
            ]
           ]
          },
          "colorscale": {
           "diverging": [
            [
             0,
             "#000021"
            ],
            [
             0.1,
             "#000022"
            ],
            [
             0.2,
             "#000023"
            ],
            [
             0.3,
             "#000024"
            ],
            [
             0.4,
             "#000025"
            ],
            [
             0.5,
             "#000026"
            ],
            [
             0.6,
             "#000027"
            ],
            [
             0.7,
             "#000028"
            ],
            [
             0.8,
             "#000029"
            ],
            [
             0.9,
             "#000030"
            ],
            [
             1,
             "#000031"
            ]
           ],
           "sequential": [
            [
             0,
             "#000011"
            ],
            [
             0.1111111111111111,
             "#000012"
            ],
            [
             0.2222222222222222,
             "#000013"
            ],
            [
             0.3333333333333333,
             "#000014"
            ],
            [
             0.4444444444444444,
             "#000015"
            ],
            [
             0.5555555555555556,
             "#000016"
            ],
            [
             0.6666666666666666,
             "#000017"
            ],
            [
             0.7777777777777778,
             "#000018"
            ],
            [
             0.8888888888888888,
             "#000019"
            ],
            [
             1,
             "#000020"
            ]
           ],
           "sequentialminus": [
            [
             0,
             "#000011"
            ],
            [
             0.1111111111111111,
             "#000012"
            ],
            [
             0.2222222222222222,
             "#000013"
            ],
            [
             0.3333333333333333,
             "#000014"
            ],
            [
             0.4444444444444444,
             "#000015"
            ],
            [
             0.5555555555555556,
             "#000016"
            ],
            [
             0.6666666666666666,
             "#000017"
            ],
            [
             0.7777777777777778,
             "#000018"
            ],
            [
             0.8888888888888888,
             "#000019"
            ],
            [
             1,
             "#000020"
            ]
           ]
          },
          "colorway": [
           "#000001",
           "#000002",
           "#000003",
           "#000004",
           "#000005",
           "#000006",
           "#000007",
           "#000008",
           "#000009",
           "#000010"
          ]
         }
        },
        "title": {
         "text": "Number of Monthly Calls Received in Simulation"
        },
        "xaxis": {
         "anchor": "y",
         "domain": [
          0,
          1
         ],
         "title": {
          "text": "Month"
         }
        },
        "yaxis": {
         "anchor": "x",
         "domain": [
          0,
          1
         ],
         "range": [
          0,
          203.50000000000003
         ],
         "title": {
          "text": "Average Calls Per Month"
         }
        }
       }
      }
     },
     "metadata": {},
     "output_type": "display_data"
    }
   ],
   "source": [
    "import plotly.graph_objects as go\n",
    "import numpy as np\n",
    "\n",
    "call_counts_monthly = call_df.groupby(['run_number', 'month_start'])[['P_ID']].count().reset_index()\n",
    "\n",
    "# Identify first and last month in the dataset\n",
    "first_month = call_counts_monthly[\"month_start\"].min()\n",
    "last_month = call_counts_monthly[\"month_start\"].max()\n",
    "\n",
    "# Filter out the first and last month\n",
    "call_counts_monthly = call_counts_monthly[(call_counts_monthly[\"month_start\"] != first_month) & (call_counts_monthly[\"month_start\"] != last_month)]\n",
    "\n",
    "# Compute statistics\n",
    "summary = call_counts_monthly.groupby(\"month_start\")[\"P_ID\"].agg([\"mean\", \"std\", \"count\"]).reset_index()\n",
    "summary[\"ci95_hi\"] = summary[\"mean\"] + 1.96 * (summary[\"std\"] / np.sqrt(summary[\"count\"]))\n",
    "summary[\"ci95_lo\"] = summary[\"mean\"] - 1.96 * (summary[\"std\"] / np.sqrt(summary[\"count\"]))\n",
    "\n",
    "# Create the plot\n",
    "fig = px.line(summary, x=\"month_start\", y=\"mean\",\n",
    "              markers=True,\n",
    "              labels={\"mean\": \"Average Calls Per Month\",\n",
    "                      \"month_start\": \"Month\"},\n",
    "              title=\"Number of Monthly Calls Received in Simulation\")\n",
    "\n",
    "# Add confidence interval as a shaded region\n",
    "fig.add_traces([\n",
    "    go.Scatter(\n",
    "        x=summary[\"month_start\"], y=summary[\"ci95_hi\"], mode=\"lines\", line=dict(width=0),\n",
    "        showlegend=False\n",
    "    ),\n",
    "    go.Scatter(\n",
    "        x=summary[\"month_start\"], y=summary[\"ci95_lo\"], mode=\"lines\", fill=\"tonexty\",\n",
    "        line=dict(width=0), fillcolor=\"rgba(0, 176, 185, 0.4)\",\n",
    "        # fillcolor=DAA_COLORSCHEME['verylightblue'],\n",
    "        # opacity=0.1,\n",
    "        showlegend=True, name=\"95% Range\"\n",
    "    )\n",
    "])\n",
    "\n",
    "for run in call_counts_monthly[\"run_number\"].unique():\n",
    "    run_data = call_counts_monthly[call_counts_monthly[\"run_number\"] == run]\n",
    "    fig.add_trace(\n",
    "        go.Scatter(\n",
    "            x=run_data[\"month_start\"], y=run_data[\"P_ID\"],\n",
    "            mode=\"lines\", line=dict(color=\"gray\", width=2, dash='dot'),\n",
    "            opacity=0.6, name=f\"Run {run}\", showlegend=False,\n",
    "        )\n",
    "    )\n",
    "\n",
    "fig = fig.update_yaxes({'range': (0, call_counts_monthly[\"P_ID\"].max()*1.1)})\n",
    "\n",
    "\n",
    "# Show the plot\n",
    "fig.show()"
   ]
  },
  {
   "cell_type": "code",
   "execution_count": 35,
   "metadata": {},
   "outputs": [
    {
     "data": {
      "text/plain": [
       "'#00B0B9'"
      ]
     },
     "execution_count": 35,
     "metadata": {},
     "output_type": "execute_result"
    }
   ],
   "source": [
    "DAA_COLORSCHEME['teal']"
   ]
  },
  {
   "cell_type": "code",
   "execution_count": 36,
   "metadata": {},
   "outputs": [
    {
     "data": {
      "application/vnd.plotly.v1+json": {
       "config": {
        "plotlyServerURL": "https://plot.ly"
       },
       "data": [
        {
         "hovertemplate": "Month=%{x}<br>Average Calls Per Month=%{y}<extra></extra>",
         "legendgroup": "",
         "line": {
          "color": "#000001",
          "dash": "solid"
         },
         "marker": {
          "symbol": "circle"
         },
         "mode": "lines+markers",
         "name": "",
         "orientation": "v",
         "showlegend": false,
         "type": "scatter",
         "x": [
          "2025-03-01T00:00:00",
          "2025-04-01T00:00:00",
          "2025-05-01T00:00:00",
          "2025-06-01T00:00:00",
          "2025-07-01T00:00:00",
          "2025-08-01T00:00:00",
          "2025-09-01T00:00:00",
          "2025-10-01T00:00:00",
          "2025-11-01T00:00:00",
          "2025-12-01T00:00:00",
          "2026-01-01T00:00:00"
         ],
         "xaxis": "x",
         "y": [
          136.85,
          155.1,
          154.35,
          154.2,
          149.5,
          150.25,
          150.65,
          121.6,
          118.2,
          124.85,
          140.55
         ],
         "yaxis": "y"
        },
        {
         "line": {
          "width": 0
         },
         "mode": "lines",
         "showlegend": false,
         "type": "scatter",
         "x": [
          "2025-03-01T00:00:00",
          "2025-04-01T00:00:00",
          "2025-05-01T00:00:00",
          "2025-06-01T00:00:00",
          "2025-07-01T00:00:00",
          "2025-08-01T00:00:00",
          "2025-09-01T00:00:00",
          "2025-10-01T00:00:00",
          "2025-11-01T00:00:00",
          "2025-12-01T00:00:00",
          "2026-01-01T00:00:00"
         ],
         "y": [
          142.04983584761146,
          161.19427472477673,
          159.23300104012836,
          159.49486472169522,
          155.14760032878428,
          157.6725402801552,
          156.9824349852253,
          126.71579959279917,
          121.46301971863649,
          129.50403618831066,
          146.1706405141651
         ]
        },
        {
         "fill": "tonexty",
         "fillcolor": "rgba(0, 176, 185, 0.4)",
         "line": {
          "width": 0
         },
         "mode": "lines",
         "name": "95% Range",
         "showlegend": true,
         "type": "scatter",
         "x": [
          "2025-03-01T00:00:00",
          "2025-04-01T00:00:00",
          "2025-05-01T00:00:00",
          "2025-06-01T00:00:00",
          "2025-07-01T00:00:00",
          "2025-08-01T00:00:00",
          "2025-09-01T00:00:00",
          "2025-10-01T00:00:00",
          "2025-11-01T00:00:00",
          "2025-12-01T00:00:00",
          "2026-01-01T00:00:00"
         ],
         "y": [
          131.65016415238853,
          149.00572527522326,
          149.46699895987163,
          148.90513527830475,
          143.85239967121572,
          142.8274597198448,
          144.31756501477471,
          116.48420040720082,
          114.93698028136352,
          120.19596381168932,
          134.92935948583494
         ]
        },
        {
         "line": {
          "color": "gray",
          "dash": "dot",
          "width": 2
         },
         "mode": "lines",
         "name": "Run 1",
         "opacity": 0.6,
         "showlegend": false,
         "type": "scatter",
         "x": [
          "2025-03-01T00:00:00",
          "2025-04-01T00:00:00",
          "2025-05-01T00:00:00",
          "2025-06-01T00:00:00",
          "2025-07-01T00:00:00",
          "2025-08-01T00:00:00",
          "2025-09-01T00:00:00",
          "2025-10-01T00:00:00",
          "2025-11-01T00:00:00",
          "2025-12-01T00:00:00",
          "2026-01-01T00:00:00"
         ],
         "y": [
          128,
          166,
          148,
          162,
          165,
          145,
          144,
          128,
          106,
          118,
          149
         ]
        },
        {
         "line": {
          "color": "gray",
          "dash": "dot",
          "width": 2
         },
         "mode": "lines",
         "name": "Run 2",
         "opacity": 0.6,
         "showlegend": false,
         "type": "scatter",
         "x": [
          "2025-03-01T00:00:00",
          "2025-04-01T00:00:00",
          "2025-05-01T00:00:00",
          "2025-06-01T00:00:00",
          "2025-07-01T00:00:00",
          "2025-08-01T00:00:00",
          "2025-09-01T00:00:00",
          "2025-10-01T00:00:00",
          "2025-11-01T00:00:00",
          "2025-12-01T00:00:00",
          "2026-01-01T00:00:00"
         ],
         "y": [
          147,
          158,
          142,
          164,
          144,
          148,
          133,
          111,
          125,
          110,
          125
         ]
        },
        {
         "line": {
          "color": "gray",
          "dash": "dot",
          "width": 2
         },
         "mode": "lines",
         "name": "Run 3",
         "opacity": 0.6,
         "showlegend": false,
         "type": "scatter",
         "x": [
          "2025-03-01T00:00:00",
          "2025-04-01T00:00:00",
          "2025-05-01T00:00:00",
          "2025-06-01T00:00:00",
          "2025-07-01T00:00:00",
          "2025-08-01T00:00:00",
          "2025-09-01T00:00:00",
          "2025-10-01T00:00:00",
          "2025-11-01T00:00:00",
          "2025-12-01T00:00:00",
          "2026-01-01T00:00:00"
         ],
         "y": [
          136,
          158,
          147,
          159,
          136,
          115,
          157,
          132,
          120,
          129,
          146
         ]
        },
        {
         "line": {
          "color": "gray",
          "dash": "dot",
          "width": 2
         },
         "mode": "lines",
         "name": "Run 4",
         "opacity": 0.6,
         "showlegend": false,
         "type": "scatter",
         "x": [
          "2025-03-01T00:00:00",
          "2025-04-01T00:00:00",
          "2025-05-01T00:00:00",
          "2025-06-01T00:00:00",
          "2025-07-01T00:00:00",
          "2025-08-01T00:00:00",
          "2025-09-01T00:00:00",
          "2025-10-01T00:00:00",
          "2025-11-01T00:00:00",
          "2025-12-01T00:00:00",
          "2026-01-01T00:00:00"
         ],
         "y": [
          143,
          174,
          148,
          134,
          156,
          166,
          160,
          102,
          115,
          126,
          136
         ]
        },
        {
         "line": {
          "color": "gray",
          "dash": "dot",
          "width": 2
         },
         "mode": "lines",
         "name": "Run 5",
         "opacity": 0.6,
         "showlegend": false,
         "type": "scatter",
         "x": [
          "2025-03-01T00:00:00",
          "2025-04-01T00:00:00",
          "2025-05-01T00:00:00",
          "2025-06-01T00:00:00",
          "2025-07-01T00:00:00",
          "2025-08-01T00:00:00",
          "2025-09-01T00:00:00",
          "2025-10-01T00:00:00",
          "2025-11-01T00:00:00",
          "2025-12-01T00:00:00",
          "2026-01-01T00:00:00"
         ],
         "y": [
          114,
          151,
          153,
          146,
          129,
          152,
          150,
          129,
          110,
          137,
          148
         ]
        },
        {
         "line": {
          "color": "gray",
          "dash": "dot",
          "width": 2
         },
         "mode": "lines",
         "name": "Run 6",
         "opacity": 0.6,
         "showlegend": false,
         "type": "scatter",
         "x": [
          "2025-03-01T00:00:00",
          "2025-04-01T00:00:00",
          "2025-05-01T00:00:00",
          "2025-06-01T00:00:00",
          "2025-07-01T00:00:00",
          "2025-08-01T00:00:00",
          "2025-09-01T00:00:00",
          "2025-10-01T00:00:00",
          "2025-11-01T00:00:00",
          "2025-12-01T00:00:00",
          "2026-01-01T00:00:00"
         ],
         "y": [
          145,
          128,
          147,
          144,
          151,
          151,
          127,
          121,
          135,
          132,
          152
         ]
        },
        {
         "line": {
          "color": "gray",
          "dash": "dot",
          "width": 2
         },
         "mode": "lines",
         "name": "Run 7",
         "opacity": 0.6,
         "showlegend": false,
         "type": "scatter",
         "x": [
          "2025-03-01T00:00:00",
          "2025-04-01T00:00:00",
          "2025-05-01T00:00:00",
          "2025-06-01T00:00:00",
          "2025-07-01T00:00:00",
          "2025-08-01T00:00:00",
          "2025-09-01T00:00:00",
          "2025-10-01T00:00:00",
          "2025-11-01T00:00:00",
          "2025-12-01T00:00:00",
          "2026-01-01T00:00:00"
         ],
         "y": [
          133,
          169,
          164,
          165,
          146,
          171,
          149,
          123,
          122,
          122,
          152
         ]
        },
        {
         "line": {
          "color": "gray",
          "dash": "dot",
          "width": 2
         },
         "mode": "lines",
         "name": "Run 8",
         "opacity": 0.6,
         "showlegend": false,
         "type": "scatter",
         "x": [
          "2025-03-01T00:00:00",
          "2025-04-01T00:00:00",
          "2025-05-01T00:00:00",
          "2025-06-01T00:00:00",
          "2025-07-01T00:00:00",
          "2025-08-01T00:00:00",
          "2025-09-01T00:00:00",
          "2025-10-01T00:00:00",
          "2025-11-01T00:00:00",
          "2025-12-01T00:00:00",
          "2026-01-01T00:00:00"
         ],
         "y": [
          128,
          159,
          149,
          163,
          146,
          134,
          157,
          129,
          117,
          122,
          164
         ]
        },
        {
         "line": {
          "color": "gray",
          "dash": "dot",
          "width": 2
         },
         "mode": "lines",
         "name": "Run 9",
         "opacity": 0.6,
         "showlegend": false,
         "type": "scatter",
         "x": [
          "2025-03-01T00:00:00",
          "2025-04-01T00:00:00",
          "2025-05-01T00:00:00",
          "2025-06-01T00:00:00",
          "2025-07-01T00:00:00",
          "2025-08-01T00:00:00",
          "2025-09-01T00:00:00",
          "2025-10-01T00:00:00",
          "2025-11-01T00:00:00",
          "2025-12-01T00:00:00",
          "2026-01-01T00:00:00"
         ],
         "y": [
          146,
          150,
          177,
          171,
          131,
          159,
          139,
          135,
          121,
          131,
          140
         ]
        },
        {
         "line": {
          "color": "gray",
          "dash": "dot",
          "width": 2
         },
         "mode": "lines",
         "name": "Run 10",
         "opacity": 0.6,
         "showlegend": false,
         "type": "scatter",
         "x": [
          "2025-03-01T00:00:00",
          "2025-04-01T00:00:00",
          "2025-05-01T00:00:00",
          "2025-06-01T00:00:00",
          "2025-07-01T00:00:00",
          "2025-08-01T00:00:00",
          "2025-09-01T00:00:00",
          "2025-10-01T00:00:00",
          "2025-11-01T00:00:00",
          "2025-12-01T00:00:00",
          "2026-01-01T00:00:00"
         ],
         "y": [
          153,
          151,
          164,
          165,
          147,
          164,
          152,
          128,
          118,
          118,
          145
         ]
        },
        {
         "line": {
          "color": "gray",
          "dash": "dot",
          "width": 2
         },
         "mode": "lines",
         "name": "Run 11",
         "opacity": 0.6,
         "showlegend": false,
         "type": "scatter",
         "x": [
          "2025-03-01T00:00:00",
          "2025-04-01T00:00:00",
          "2025-05-01T00:00:00",
          "2025-06-01T00:00:00",
          "2025-07-01T00:00:00",
          "2025-08-01T00:00:00",
          "2025-09-01T00:00:00",
          "2025-10-01T00:00:00",
          "2025-11-01T00:00:00",
          "2025-12-01T00:00:00",
          "2026-01-01T00:00:00"
         ],
         "y": [
          140,
          144,
          157,
          163,
          173,
          123,
          156,
          122,
          123,
          120,
          140
         ]
        },
        {
         "line": {
          "color": "gray",
          "dash": "dot",
          "width": 2
         },
         "mode": "lines",
         "name": "Run 12",
         "opacity": 0.6,
         "showlegend": false,
         "type": "scatter",
         "x": [
          "2025-03-01T00:00:00",
          "2025-04-01T00:00:00",
          "2025-05-01T00:00:00",
          "2025-06-01T00:00:00",
          "2025-07-01T00:00:00",
          "2025-08-01T00:00:00",
          "2025-09-01T00:00:00",
          "2025-10-01T00:00:00",
          "2025-11-01T00:00:00",
          "2025-12-01T00:00:00",
          "2026-01-01T00:00:00"
         ],
         "y": [
          144,
          135,
          138,
          144,
          135,
          151,
          178,
          123,
          112,
          105,
          116
         ]
        },
        {
         "line": {
          "color": "gray",
          "dash": "dot",
          "width": 2
         },
         "mode": "lines",
         "name": "Run 13",
         "opacity": 0.6,
         "showlegend": false,
         "type": "scatter",
         "x": [
          "2025-03-01T00:00:00",
          "2025-04-01T00:00:00",
          "2025-05-01T00:00:00",
          "2025-06-01T00:00:00",
          "2025-07-01T00:00:00",
          "2025-08-01T00:00:00",
          "2025-09-01T00:00:00",
          "2025-10-01T00:00:00",
          "2025-11-01T00:00:00",
          "2025-12-01T00:00:00",
          "2026-01-01T00:00:00"
         ],
         "y": [
          134,
          169,
          147,
          139,
          181,
          142,
          132,
          108,
          133,
          112,
          160
         ]
        },
        {
         "line": {
          "color": "gray",
          "dash": "dot",
          "width": 2
         },
         "mode": "lines",
         "name": "Run 14",
         "opacity": 0.6,
         "showlegend": false,
         "type": "scatter",
         "x": [
          "2025-03-01T00:00:00",
          "2025-04-01T00:00:00",
          "2025-05-01T00:00:00",
          "2025-06-01T00:00:00",
          "2025-07-01T00:00:00",
          "2025-08-01T00:00:00",
          "2025-09-01T00:00:00",
          "2025-10-01T00:00:00",
          "2025-11-01T00:00:00",
          "2025-12-01T00:00:00",
          "2026-01-01T00:00:00"
         ],
         "y": [
          116,
          141,
          146,
          161,
          149,
          175,
          151,
          135,
          115,
          133,
          143
         ]
        },
        {
         "line": {
          "color": "gray",
          "dash": "dot",
          "width": 2
         },
         "mode": "lines",
         "name": "Run 15",
         "opacity": 0.6,
         "showlegend": false,
         "type": "scatter",
         "x": [
          "2025-03-01T00:00:00",
          "2025-04-01T00:00:00",
          "2025-05-01T00:00:00",
          "2025-06-01T00:00:00",
          "2025-07-01T00:00:00",
          "2025-08-01T00:00:00",
          "2025-09-01T00:00:00",
          "2025-10-01T00:00:00",
          "2025-11-01T00:00:00",
          "2025-12-01T00:00:00",
          "2026-01-01T00:00:00"
         ],
         "y": [
          137,
          165,
          179,
          171,
          156,
          173,
          137,
          106,
          118,
          117,
          121
         ]
        },
        {
         "line": {
          "color": "gray",
          "dash": "dot",
          "width": 2
         },
         "mode": "lines",
         "name": "Run 16",
         "opacity": 0.6,
         "showlegend": false,
         "type": "scatter",
         "x": [
          "2025-03-01T00:00:00",
          "2025-04-01T00:00:00",
          "2025-05-01T00:00:00",
          "2025-06-01T00:00:00",
          "2025-07-01T00:00:00",
          "2025-08-01T00:00:00",
          "2025-09-01T00:00:00",
          "2025-10-01T00:00:00",
          "2025-11-01T00:00:00",
          "2025-12-01T00:00:00",
          "2026-01-01T00:00:00"
         ],
         "y": [
          129,
          156,
          148,
          150,
          147,
          155,
          134,
          101,
          112,
          119,
          136
         ]
        },
        {
         "line": {
          "color": "gray",
          "dash": "dot",
          "width": 2
         },
         "mode": "lines",
         "name": "Run 17",
         "opacity": 0.6,
         "showlegend": false,
         "type": "scatter",
         "x": [
          "2025-03-01T00:00:00",
          "2025-04-01T00:00:00",
          "2025-05-01T00:00:00",
          "2025-06-01T00:00:00",
          "2025-07-01T00:00:00",
          "2025-08-01T00:00:00",
          "2025-09-01T00:00:00",
          "2025-10-01T00:00:00",
          "2025-11-01T00:00:00",
          "2025-12-01T00:00:00",
          "2026-01-01T00:00:00"
         ],
         "y": [
          159,
          185,
          148,
          150,
          150,
          121,
          147,
          128,
          116,
          136,
          143
         ]
        },
        {
         "line": {
          "color": "gray",
          "dash": "dot",
          "width": 2
         },
         "mode": "lines",
         "name": "Run 18",
         "opacity": 0.6,
         "showlegend": false,
         "type": "scatter",
         "x": [
          "2025-03-01T00:00:00",
          "2025-04-01T00:00:00",
          "2025-05-01T00:00:00",
          "2025-06-01T00:00:00",
          "2025-07-01T00:00:00",
          "2025-08-01T00:00:00",
          "2025-09-01T00:00:00",
          "2025-10-01T00:00:00",
          "2025-11-01T00:00:00",
          "2025-12-01T00:00:00",
          "2026-01-01T00:00:00"
         ],
         "y": [
          120,
          140,
          157,
          152,
          149,
          150,
          173,
          109,
          123,
          131,
          123
         ]
        },
        {
         "line": {
          "color": "gray",
          "dash": "dot",
          "width": 2
         },
         "mode": "lines",
         "name": "Run 19",
         "opacity": 0.6,
         "showlegend": false,
         "type": "scatter",
         "x": [
          "2025-03-01T00:00:00",
          "2025-04-01T00:00:00",
          "2025-05-01T00:00:00",
          "2025-06-01T00:00:00",
          "2025-07-01T00:00:00",
          "2025-08-01T00:00:00",
          "2025-09-01T00:00:00",
          "2025-10-01T00:00:00",
          "2025-11-01T00:00:00",
          "2025-12-01T00:00:00",
          "2026-01-01T00:00:00"
         ],
         "y": [
          139,
          154,
          166,
          129,
          144,
          162,
          170,
          141,
          115,
          150,
          128
         ]
        },
        {
         "line": {
          "color": "gray",
          "dash": "dot",
          "width": 2
         },
         "mode": "lines",
         "name": "Run 20",
         "opacity": 0.6,
         "showlegend": false,
         "type": "scatter",
         "x": [
          "2025-03-01T00:00:00",
          "2025-04-01T00:00:00",
          "2025-05-01T00:00:00",
          "2025-06-01T00:00:00",
          "2025-07-01T00:00:00",
          "2025-08-01T00:00:00",
          "2025-09-01T00:00:00",
          "2025-10-01T00:00:00",
          "2025-11-01T00:00:00",
          "2025-12-01T00:00:00",
          "2026-01-01T00:00:00"
         ],
         "y": [
          146,
          149,
          162,
          152,
          155,
          148,
          167,
          121,
          108,
          129,
          144
         ]
        }
       ],
       "layout": {
        "font": {
         "color": "black",
         "family": "Poppins",
         "size": 18
        },
        "legend": {
         "tracegroupgap": 0
        },
        "template": {
         "data": {
          "candlestick": [
           {
            "decreasing": {
             "line": {
              "color": "#000033"
             }
            },
            "increasing": {
             "line": {
              "color": "#000032"
             }
            },
            "type": "candlestick"
           }
          ],
          "contour": [
           {
            "colorscale": [
             [
              0,
              "#000011"
             ],
             [
              0.1111111111111111,
              "#000012"
             ],
             [
              0.2222222222222222,
              "#000013"
             ],
             [
              0.3333333333333333,
              "#000014"
             ],
             [
              0.4444444444444444,
              "#000015"
             ],
             [
              0.5555555555555556,
              "#000016"
             ],
             [
              0.6666666666666666,
              "#000017"
             ],
             [
              0.7777777777777778,
              "#000018"
             ],
             [
              0.8888888888888888,
              "#000019"
             ],
             [
              1,
              "#000020"
             ]
            ],
            "type": "contour"
           }
          ],
          "contourcarpet": [
           {
            "colorscale": [
             [
              0,
              "#000011"
             ],
             [
              0.1111111111111111,
              "#000012"
             ],
             [
              0.2222222222222222,
              "#000013"
             ],
             [
              0.3333333333333333,
              "#000014"
             ],
             [
              0.4444444444444444,
              "#000015"
             ],
             [
              0.5555555555555556,
              "#000016"
             ],
             [
              0.6666666666666666,
              "#000017"
             ],
             [
              0.7777777777777778,
              "#000018"
             ],
             [
              0.8888888888888888,
              "#000019"
             ],
             [
              1,
              "#000020"
             ]
            ],
            "type": "contourcarpet"
           }
          ],
          "heatmap": [
           {
            "colorscale": [
             [
              0,
              "#000011"
             ],
             [
              0.1111111111111111,
              "#000012"
             ],
             [
              0.2222222222222222,
              "#000013"
             ],
             [
              0.3333333333333333,
              "#000014"
             ],
             [
              0.4444444444444444,
              "#000015"
             ],
             [
              0.5555555555555556,
              "#000016"
             ],
             [
              0.6666666666666666,
              "#000017"
             ],
             [
              0.7777777777777778,
              "#000018"
             ],
             [
              0.8888888888888888,
              "#000019"
             ],
             [
              1,
              "#000020"
             ]
            ],
            "type": "heatmap"
           }
          ],
          "histogram2d": [
           {
            "colorscale": [
             [
              0,
              "#000011"
             ],
             [
              0.1111111111111111,
              "#000012"
             ],
             [
              0.2222222222222222,
              "#000013"
             ],
             [
              0.3333333333333333,
              "#000014"
             ],
             [
              0.4444444444444444,
              "#000015"
             ],
             [
              0.5555555555555556,
              "#000016"
             ],
             [
              0.6666666666666666,
              "#000017"
             ],
             [
              0.7777777777777778,
              "#000018"
             ],
             [
              0.8888888888888888,
              "#000019"
             ],
             [
              1,
              "#000020"
             ]
            ],
            "type": "histogram2d"
           }
          ],
          "icicle": [
           {
            "textfont": {
             "color": "white"
            },
            "type": "icicle"
           }
          ],
          "sankey": [
           {
            "textfont": {
             "color": "#000036"
            },
            "type": "sankey"
           }
          ],
          "scatter": [
           {
            "marker": {
             "line": {
              "width": 0
             }
            },
            "type": "scatter"
           }
          ],
          "table": [
           {
            "cells": {
             "fill": {
              "color": "#000038"
             },
             "font": {
              "color": "#000037"
             },
             "line": {
              "color": "#000039"
             }
            },
            "header": {
             "fill": {
              "color": "#000040"
             },
             "font": {
              "color": "#000036"
             },
             "line": {
              "color": "#000039"
             }
            },
            "type": "table"
           }
          ],
          "waterfall": [
           {
            "connector": {
             "line": {
              "color": "#000036",
              "width": 2
             }
            },
            "decreasing": {
             "marker": {
              "color": "#000033"
             }
            },
            "increasing": {
             "marker": {
              "color": "#000032"
             }
            },
            "totals": {
             "marker": {
              "color": "#000034"
             }
            },
            "type": "waterfall"
           }
          ]
         },
         "layout": {
          "coloraxis": {
           "colorscale": [
            [
             0,
             "#000011"
            ],
            [
             0.1111111111111111,
             "#000012"
            ],
            [
             0.2222222222222222,
             "#000013"
            ],
            [
             0.3333333333333333,
             "#000014"
            ],
            [
             0.4444444444444444,
             "#000015"
            ],
            [
             0.5555555555555556,
             "#000016"
            ],
            [
             0.6666666666666666,
             "#000017"
            ],
            [
             0.7777777777777778,
             "#000018"
            ],
            [
             0.8888888888888888,
             "#000019"
            ],
            [
             1,
             "#000020"
            ]
           ]
          },
          "colorscale": {
           "diverging": [
            [
             0,
             "#000021"
            ],
            [
             0.1,
             "#000022"
            ],
            [
             0.2,
             "#000023"
            ],
            [
             0.3,
             "#000024"
            ],
            [
             0.4,
             "#000025"
            ],
            [
             0.5,
             "#000026"
            ],
            [
             0.6,
             "#000027"
            ],
            [
             0.7,
             "#000028"
            ],
            [
             0.8,
             "#000029"
            ],
            [
             0.9,
             "#000030"
            ],
            [
             1,
             "#000031"
            ]
           ],
           "sequential": [
            [
             0,
             "#000011"
            ],
            [
             0.1111111111111111,
             "#000012"
            ],
            [
             0.2222222222222222,
             "#000013"
            ],
            [
             0.3333333333333333,
             "#000014"
            ],
            [
             0.4444444444444444,
             "#000015"
            ],
            [
             0.5555555555555556,
             "#000016"
            ],
            [
             0.6666666666666666,
             "#000017"
            ],
            [
             0.7777777777777778,
             "#000018"
            ],
            [
             0.8888888888888888,
             "#000019"
            ],
            [
             1,
             "#000020"
            ]
           ],
           "sequentialminus": [
            [
             0,
             "#000011"
            ],
            [
             0.1111111111111111,
             "#000012"
            ],
            [
             0.2222222222222222,
             "#000013"
            ],
            [
             0.3333333333333333,
             "#000014"
            ],
            [
             0.4444444444444444,
             "#000015"
            ],
            [
             0.5555555555555556,
             "#000016"
            ],
            [
             0.6666666666666666,
             "#000017"
            ],
            [
             0.7777777777777778,
             "#000018"
            ],
            [
             0.8888888888888888,
             "#000019"
            ],
            [
             1,
             "#000020"
            ]
           ]
          },
          "colorway": [
           "#000001",
           "#000002",
           "#000003",
           "#000004",
           "#000005",
           "#000006",
           "#000007",
           "#000008",
           "#000009",
           "#000010"
          ]
         }
        },
        "title": {
         "text": "Number of Monthly Calls Received in Simulation"
        },
        "xaxis": {
         "anchor": "y",
         "domain": [
          0,
          1
         ],
         "title": {
          "text": "Month"
         }
        },
        "yaxis": {
         "anchor": "x",
         "domain": [
          0,
          1
         ],
         "range": [
          0,
          203.50000000000003
         ],
         "title": {
          "text": "Average Calls Per Month"
         }
        }
       }
      }
     },
     "metadata": {},
     "output_type": "display_data"
    }
   ],
   "source": [
    "use_poppins = True\n",
    "\n",
    "if use_poppins:\n",
    "    fig.update_layout(font=dict(family=\"Poppins\", size=18, color=\"black\"))\n",
    "else:\n",
    "    fig\n",
    "\n",
    "fig.show()"
   ]
  },
  {
   "cell_type": "code",
   "execution_count": 37,
   "metadata": {},
   "outputs": [
    {
     "data": {
      "text/plain": [
       "['#D50032',\n",
       " '#00205B',\n",
       " '#1D428A',\n",
       " '#00B0B9',\n",
       " '#C0F0F2',\n",
       " '#D5F5F6',\n",
       " '#CCCCCC',\n",
       " '#4D4D4D',\n",
       " '#1F1F1F',\n",
       " '#56E39F',\n",
       " '#264027',\n",
       " '#F8C630',\n",
       " '#FFA400']"
      ]
     },
     "execution_count": 37,
     "metadata": {},
     "output_type": "execute_result"
    }
   ],
   "source": [
    "list(DAA_COLORSCHEME.values())"
   ]
  },
  {
   "cell_type": "code",
   "execution_count": 38,
   "metadata": {},
   "outputs": [
    {
     "data": {
      "text/plain": [
       "'#D5F5F6'"
      ]
     },
     "execution_count": 38,
     "metadata": {},
     "output_type": "execute_result"
    }
   ],
   "source": [
    "list(DAA_COLORSCHEME.values())[5]"
   ]
  },
  {
   "cell_type": "code",
   "execution_count": null,
   "metadata": {},
   "outputs": [
    {
     "data": {
      "text/html": [
       "<div>\n",
       "<style scoped>\n",
       "    .dataframe tbody tr th:only-of-type {\n",
       "        vertical-align: middle;\n",
       "    }\n",
       "\n",
       "    .dataframe tbody tr th {\n",
       "        vertical-align: top;\n",
       "    }\n",
       "\n",
       "    .dataframe thead th {\n",
       "        text-align: right;\n",
       "    }\n",
       "</style>\n",
       "<table border=\"1\" class=\"dataframe\">\n",
       "  <thead>\n",
       "    <tr style=\"text-align: right;\">\n",
       "      <th></th>\n",
       "      <th>Month</th>\n",
       "      <th>Jobs</th>\n",
       "    </tr>\n",
       "  </thead>\n",
       "  <tbody>\n",
       "    <tr>\n",
       "      <th>0</th>\n",
       "      <td>2019-04-01</td>\n",
       "      <td>138</td>\n",
       "    </tr>\n",
       "    <tr>\n",
       "      <th>1</th>\n",
       "      <td>2019-05-01</td>\n",
       "      <td>111</td>\n",
       "    </tr>\n",
       "    <tr>\n",
       "      <th>2</th>\n",
       "      <td>2019-06-01</td>\n",
       "      <td>158</td>\n",
       "    </tr>\n",
       "    <tr>\n",
       "      <th>3</th>\n",
       "      <td>2019-07-01</td>\n",
       "      <td>180</td>\n",
       "    </tr>\n",
       "    <tr>\n",
       "      <th>4</th>\n",
       "      <td>2019-08-01</td>\n",
       "      <td>123</td>\n",
       "    </tr>\n",
       "    <tr>\n",
       "      <th>...</th>\n",
       "      <td>...</td>\n",
       "      <td>...</td>\n",
       "    </tr>\n",
       "    <tr>\n",
       "      <th>65</th>\n",
       "      <td>2024-09-01</td>\n",
       "      <td>162</td>\n",
       "    </tr>\n",
       "    <tr>\n",
       "      <th>66</th>\n",
       "      <td>2024-10-01</td>\n",
       "      <td>215</td>\n",
       "    </tr>\n",
       "    <tr>\n",
       "      <th>67</th>\n",
       "      <td>2024-11-01</td>\n",
       "      <td>182</td>\n",
       "    </tr>\n",
       "    <tr>\n",
       "      <th>68</th>\n",
       "      <td>2024-12-01</td>\n",
       "      <td>174</td>\n",
       "    </tr>\n",
       "    <tr>\n",
       "      <th>69</th>\n",
       "      <td>2025-01-01</td>\n",
       "      <td>193</td>\n",
       "    </tr>\n",
       "  </tbody>\n",
       "</table>\n",
       "<p>70 rows × 2 columns</p>\n",
       "</div>"
      ],
      "text/plain": [
       "        Month  Jobs\n",
       "0  2019-04-01   138\n",
       "1  2019-05-01   111\n",
       "2  2019-06-01   158\n",
       "3  2019-07-01   180\n",
       "4  2019-08-01   123\n",
       "..        ...   ...\n",
       "65 2024-09-01   162\n",
       "66 2024-10-01   215\n",
       "67 2024-11-01   182\n",
       "68 2024-12-01   174\n",
       "69 2025-01-01   193\n",
       "\n",
       "[70 rows x 2 columns]"
      ]
     },
     "execution_count": 39,
     "metadata": {},
     "output_type": "execute_result"
    }
   ],
   "source": [
    "historical_jobs_per_month = pd.read_csv(\"../historical_data/historical_jobs_per_month.csv\", parse_dates=False)\n",
    "historical_jobs_per_month[\"Month\"] = pd.to_datetime(historical_jobs_per_month['Month'])\n",
    "historical_jobs_per_month"
   ]
  },
  {
   "cell_type": "code",
   "execution_count": 40,
   "metadata": {},
   "outputs": [
    {
     "data": {
      "application/vnd.plotly.v1+json": {
       "config": {
        "plotlyServerURL": "https://plot.ly"
       },
       "data": [
        {
         "hovertemplate": "Month=%{x}<br>Jobs=%{y}<extra></extra>",
         "legendgroup": "",
         "line": {
          "color": "#000001",
          "dash": "solid"
         },
         "marker": {
          "symbol": "circle"
         },
         "mode": "lines",
         "name": "",
         "orientation": "v",
         "showlegend": false,
         "type": "scatter",
         "x": [
          "2019-04-01T00:00:00",
          "2019-05-01T00:00:00",
          "2019-06-01T00:00:00",
          "2019-07-01T00:00:00",
          "2019-08-01T00:00:00",
          "2019-09-01T00:00:00",
          "2019-10-01T00:00:00",
          "2019-11-01T00:00:00",
          "2019-12-01T00:00:00",
          "2020-01-01T00:00:00",
          "2020-02-01T00:00:00",
          "2020-03-01T00:00:00",
          "2020-04-01T00:00:00",
          "2020-05-01T00:00:00",
          "2020-06-01T00:00:00",
          "2020-07-01T00:00:00",
          "2020-08-01T00:00:00",
          "2020-09-01T00:00:00",
          "2020-10-01T00:00:00",
          "2020-11-01T00:00:00",
          "2020-12-01T00:00:00",
          "2021-01-01T00:00:00",
          "2021-02-01T00:00:00",
          "2021-03-01T00:00:00",
          "2021-04-01T00:00:00",
          "2021-05-01T00:00:00",
          "2021-06-01T00:00:00",
          "2021-07-01T00:00:00",
          "2021-08-01T00:00:00",
          "2021-09-01T00:00:00",
          "2021-10-01T00:00:00",
          "2021-11-01T00:00:00",
          "2021-12-01T00:00:00",
          "2022-01-01T00:00:00",
          "2022-02-01T00:00:00",
          "2022-03-01T00:00:00",
          "2022-04-01T00:00:00",
          "2022-05-01T00:00:00",
          "2022-06-01T00:00:00",
          "2022-07-01T00:00:00",
          "2022-08-01T00:00:00",
          "2022-09-01T00:00:00",
          "2022-10-01T00:00:00",
          "2022-11-01T00:00:00",
          "2022-12-01T00:00:00",
          "2023-01-01T00:00:00",
          "2023-02-01T00:00:00",
          "2023-03-01T00:00:00",
          "2023-04-01T00:00:00",
          "2023-05-01T00:00:00",
          "2023-06-01T00:00:00",
          "2023-07-01T00:00:00",
          "2023-08-01T00:00:00",
          "2023-09-01T00:00:00",
          "2023-10-01T00:00:00",
          "2023-11-01T00:00:00",
          "2023-12-01T00:00:00",
          "2024-01-01T00:00:00",
          "2024-02-01T00:00:00",
          "2024-03-01T00:00:00",
          "2024-04-01T00:00:00",
          "2024-05-01T00:00:00",
          "2024-06-01T00:00:00",
          "2024-07-01T00:00:00",
          "2024-08-01T00:00:00",
          "2024-09-01T00:00:00",
          "2024-10-01T00:00:00",
          "2024-11-01T00:00:00",
          "2024-12-01T00:00:00",
          "2025-01-01T00:00:00"
         ],
         "xaxis": "x",
         "y": [
          138,
          111,
          158,
          180,
          123,
          130,
          116,
          101,
          101,
          93,
          75,
          83,
          76,
          144,
          167,
          181,
          165,
          166,
          110,
          102,
          145,
          116,
          104,
          154,
          193,
          174,
          199,
          202,
          191,
          143,
          152,
          146,
          117,
          121,
          108,
          143,
          143,
          155,
          173,
          202,
          180,
          144,
          182,
          161,
          174,
          166,
          175,
          177,
          196,
          201,
          198,
          207,
          214,
          226,
          187,
          125,
          154,
          193,
          183,
          224,
          194,
          238,
          243,
          227,
          224,
          162,
          215,
          182,
          174,
          193
         ],
         "yaxis": "y"
        }
       ],
       "layout": {
        "legend": {
         "tracegroupgap": 0
        },
        "margin": {
         "t": 60
        },
        "template": {
         "data": {
          "candlestick": [
           {
            "decreasing": {
             "line": {
              "color": "#000033"
             }
            },
            "increasing": {
             "line": {
              "color": "#000032"
             }
            },
            "type": "candlestick"
           }
          ],
          "contour": [
           {
            "colorscale": [
             [
              0,
              "#000011"
             ],
             [
              0.1111111111111111,
              "#000012"
             ],
             [
              0.2222222222222222,
              "#000013"
             ],
             [
              0.3333333333333333,
              "#000014"
             ],
             [
              0.4444444444444444,
              "#000015"
             ],
             [
              0.5555555555555556,
              "#000016"
             ],
             [
              0.6666666666666666,
              "#000017"
             ],
             [
              0.7777777777777778,
              "#000018"
             ],
             [
              0.8888888888888888,
              "#000019"
             ],
             [
              1,
              "#000020"
             ]
            ],
            "type": "contour"
           }
          ],
          "contourcarpet": [
           {
            "colorscale": [
             [
              0,
              "#000011"
             ],
             [
              0.1111111111111111,
              "#000012"
             ],
             [
              0.2222222222222222,
              "#000013"
             ],
             [
              0.3333333333333333,
              "#000014"
             ],
             [
              0.4444444444444444,
              "#000015"
             ],
             [
              0.5555555555555556,
              "#000016"
             ],
             [
              0.6666666666666666,
              "#000017"
             ],
             [
              0.7777777777777778,
              "#000018"
             ],
             [
              0.8888888888888888,
              "#000019"
             ],
             [
              1,
              "#000020"
             ]
            ],
            "type": "contourcarpet"
           }
          ],
          "heatmap": [
           {
            "colorscale": [
             [
              0,
              "#000011"
             ],
             [
              0.1111111111111111,
              "#000012"
             ],
             [
              0.2222222222222222,
              "#000013"
             ],
             [
              0.3333333333333333,
              "#000014"
             ],
             [
              0.4444444444444444,
              "#000015"
             ],
             [
              0.5555555555555556,
              "#000016"
             ],
             [
              0.6666666666666666,
              "#000017"
             ],
             [
              0.7777777777777778,
              "#000018"
             ],
             [
              0.8888888888888888,
              "#000019"
             ],
             [
              1,
              "#000020"
             ]
            ],
            "type": "heatmap"
           }
          ],
          "histogram2d": [
           {
            "colorscale": [
             [
              0,
              "#000011"
             ],
             [
              0.1111111111111111,
              "#000012"
             ],
             [
              0.2222222222222222,
              "#000013"
             ],
             [
              0.3333333333333333,
              "#000014"
             ],
             [
              0.4444444444444444,
              "#000015"
             ],
             [
              0.5555555555555556,
              "#000016"
             ],
             [
              0.6666666666666666,
              "#000017"
             ],
             [
              0.7777777777777778,
              "#000018"
             ],
             [
              0.8888888888888888,
              "#000019"
             ],
             [
              1,
              "#000020"
             ]
            ],
            "type": "histogram2d"
           }
          ],
          "icicle": [
           {
            "textfont": {
             "color": "white"
            },
            "type": "icicle"
           }
          ],
          "sankey": [
           {
            "textfont": {
             "color": "#000036"
            },
            "type": "sankey"
           }
          ],
          "scatter": [
           {
            "marker": {
             "line": {
              "width": 0
             }
            },
            "type": "scatter"
           }
          ],
          "table": [
           {
            "cells": {
             "fill": {
              "color": "#000038"
             },
             "font": {
              "color": "#000037"
             },
             "line": {
              "color": "#000039"
             }
            },
            "header": {
             "fill": {
              "color": "#000040"
             },
             "font": {
              "color": "#000036"
             },
             "line": {
              "color": "#000039"
             }
            },
            "type": "table"
           }
          ],
          "waterfall": [
           {
            "connector": {
             "line": {
              "color": "#000036",
              "width": 2
             }
            },
            "decreasing": {
             "marker": {
              "color": "#000033"
             }
            },
            "increasing": {
             "marker": {
              "color": "#000032"
             }
            },
            "totals": {
             "marker": {
              "color": "#000034"
             }
            },
            "type": "waterfall"
           }
          ]
         },
         "layout": {
          "coloraxis": {
           "colorscale": [
            [
             0,
             "#000011"
            ],
            [
             0.1111111111111111,
             "#000012"
            ],
            [
             0.2222222222222222,
             "#000013"
            ],
            [
             0.3333333333333333,
             "#000014"
            ],
            [
             0.4444444444444444,
             "#000015"
            ],
            [
             0.5555555555555556,
             "#000016"
            ],
            [
             0.6666666666666666,
             "#000017"
            ],
            [
             0.7777777777777778,
             "#000018"
            ],
            [
             0.8888888888888888,
             "#000019"
            ],
            [
             1,
             "#000020"
            ]
           ]
          },
          "colorscale": {
           "diverging": [
            [
             0,
             "#000021"
            ],
            [
             0.1,
             "#000022"
            ],
            [
             0.2,
             "#000023"
            ],
            [
             0.3,
             "#000024"
            ],
            [
             0.4,
             "#000025"
            ],
            [
             0.5,
             "#000026"
            ],
            [
             0.6,
             "#000027"
            ],
            [
             0.7,
             "#000028"
            ],
            [
             0.8,
             "#000029"
            ],
            [
             0.9,
             "#000030"
            ],
            [
             1,
             "#000031"
            ]
           ],
           "sequential": [
            [
             0,
             "#000011"
            ],
            [
             0.1111111111111111,
             "#000012"
            ],
            [
             0.2222222222222222,
             "#000013"
            ],
            [
             0.3333333333333333,
             "#000014"
            ],
            [
             0.4444444444444444,
             "#000015"
            ],
            [
             0.5555555555555556,
             "#000016"
            ],
            [
             0.6666666666666666,
             "#000017"
            ],
            [
             0.7777777777777778,
             "#000018"
            ],
            [
             0.8888888888888888,
             "#000019"
            ],
            [
             1,
             "#000020"
            ]
           ],
           "sequentialminus": [
            [
             0,
             "#000011"
            ],
            [
             0.1111111111111111,
             "#000012"
            ],
            [
             0.2222222222222222,
             "#000013"
            ],
            [
             0.3333333333333333,
             "#000014"
            ],
            [
             0.4444444444444444,
             "#000015"
            ],
            [
             0.5555555555555556,
             "#000016"
            ],
            [
             0.6666666666666666,
             "#000017"
            ],
            [
             0.7777777777777778,
             "#000018"
            ],
            [
             0.8888888888888888,
             "#000019"
            ],
            [
             1,
             "#000020"
            ]
           ]
          },
          "colorway": [
           "#000001",
           "#000002",
           "#000003",
           "#000004",
           "#000005",
           "#000006",
           "#000007",
           "#000008",
           "#000009",
           "#000010"
          ]
         }
        },
        "xaxis": {
         "anchor": "y",
         "domain": [
          0,
          1
         ],
         "title": {
          "text": "Month"
         }
        },
        "yaxis": {
         "anchor": "x",
         "domain": [
          0,
          1
         ],
         "title": {
          "text": "Jobs"
         }
        }
       }
      }
     },
     "metadata": {},
     "output_type": "display_data"
    }
   ],
   "source": [
    "px.line(historical_jobs_per_month, x=\"Month\", y=\"Jobs\")"
   ]
  },
  {
   "cell_type": "code",
   "execution_count": 41,
   "metadata": {},
   "outputs": [
    {
     "data": {
      "text/html": [
       "<div>\n",
       "<style scoped>\n",
       "    .dataframe tbody tr th:only-of-type {\n",
       "        vertical-align: middle;\n",
       "    }\n",
       "\n",
       "    .dataframe tbody tr th {\n",
       "        vertical-align: top;\n",
       "    }\n",
       "\n",
       "    .dataframe thead th {\n",
       "        text-align: right;\n",
       "    }\n",
       "</style>\n",
       "<table border=\"1\" class=\"dataframe\">\n",
       "  <thead>\n",
       "    <tr style=\"text-align: right;\">\n",
       "      <th></th>\n",
       "      <th>Month</th>\n",
       "      <th>Jobs</th>\n",
       "      <th>Month_Numeric</th>\n",
       "      <th>Year_Numeric</th>\n",
       "    </tr>\n",
       "  </thead>\n",
       "  <tbody>\n",
       "    <tr>\n",
       "      <th>0</th>\n",
       "      <td>2019-04-01</td>\n",
       "      <td>138</td>\n",
       "      <td>4</td>\n",
       "      <td>2019</td>\n",
       "    </tr>\n",
       "    <tr>\n",
       "      <th>1</th>\n",
       "      <td>2019-05-01</td>\n",
       "      <td>111</td>\n",
       "      <td>5</td>\n",
       "      <td>2019</td>\n",
       "    </tr>\n",
       "    <tr>\n",
       "      <th>2</th>\n",
       "      <td>2019-06-01</td>\n",
       "      <td>158</td>\n",
       "      <td>6</td>\n",
       "      <td>2019</td>\n",
       "    </tr>\n",
       "    <tr>\n",
       "      <th>3</th>\n",
       "      <td>2019-07-01</td>\n",
       "      <td>180</td>\n",
       "      <td>7</td>\n",
       "      <td>2019</td>\n",
       "    </tr>\n",
       "    <tr>\n",
       "      <th>4</th>\n",
       "      <td>2019-08-01</td>\n",
       "      <td>123</td>\n",
       "      <td>8</td>\n",
       "      <td>2019</td>\n",
       "    </tr>\n",
       "    <tr>\n",
       "      <th>...</th>\n",
       "      <td>...</td>\n",
       "      <td>...</td>\n",
       "      <td>...</td>\n",
       "      <td>...</td>\n",
       "    </tr>\n",
       "    <tr>\n",
       "      <th>65</th>\n",
       "      <td>2024-09-01</td>\n",
       "      <td>162</td>\n",
       "      <td>9</td>\n",
       "      <td>2024</td>\n",
       "    </tr>\n",
       "    <tr>\n",
       "      <th>66</th>\n",
       "      <td>2024-10-01</td>\n",
       "      <td>215</td>\n",
       "      <td>10</td>\n",
       "      <td>2024</td>\n",
       "    </tr>\n",
       "    <tr>\n",
       "      <th>67</th>\n",
       "      <td>2024-11-01</td>\n",
       "      <td>182</td>\n",
       "      <td>11</td>\n",
       "      <td>2024</td>\n",
       "    </tr>\n",
       "    <tr>\n",
       "      <th>68</th>\n",
       "      <td>2024-12-01</td>\n",
       "      <td>174</td>\n",
       "      <td>12</td>\n",
       "      <td>2024</td>\n",
       "    </tr>\n",
       "    <tr>\n",
       "      <th>69</th>\n",
       "      <td>2025-01-01</td>\n",
       "      <td>193</td>\n",
       "      <td>1</td>\n",
       "      <td>2025</td>\n",
       "    </tr>\n",
       "  </tbody>\n",
       "</table>\n",
       "<p>70 rows × 4 columns</p>\n",
       "</div>"
      ],
      "text/plain": [
       "        Month  Jobs  Month_Numeric  Year_Numeric\n",
       "0  2019-04-01   138              4          2019\n",
       "1  2019-05-01   111              5          2019\n",
       "2  2019-06-01   158              6          2019\n",
       "3  2019-07-01   180              7          2019\n",
       "4  2019-08-01   123              8          2019\n",
       "..        ...   ...            ...           ...\n",
       "65 2024-09-01   162              9          2024\n",
       "66 2024-10-01   215             10          2024\n",
       "67 2024-11-01   182             11          2024\n",
       "68 2024-12-01   174             12          2024\n",
       "69 2025-01-01   193              1          2025\n",
       "\n",
       "[70 rows x 4 columns]"
      ]
     },
     "execution_count": 41,
     "metadata": {},
     "output_type": "execute_result"
    }
   ],
   "source": [
    "historical_jobs_per_month[\"Month_Numeric\"] = historical_jobs_per_month[\"Month\"].apply(lambda x: x.month)\n",
    "historical_jobs_per_month[\"Year_Numeric\"] = historical_jobs_per_month[\"Month\"].apply(lambda x: x.year)\n",
    "historical_jobs_per_month"
   ]
  },
  {
   "cell_type": "code",
   "execution_count": 42,
   "metadata": {},
   "outputs": [],
   "source": [
    "first_month\n",
    "import datetime"
   ]
  },
  {
   "cell_type": "code",
   "execution_count": 43,
   "metadata": {},
   "outputs": [
    {
     "data": {
      "text/html": [
       "<div>\n",
       "<style scoped>\n",
       "    .dataframe tbody tr th:only-of-type {\n",
       "        vertical-align: middle;\n",
       "    }\n",
       "\n",
       "    .dataframe tbody tr th {\n",
       "        vertical-align: top;\n",
       "    }\n",
       "\n",
       "    .dataframe thead th {\n",
       "        text-align: right;\n",
       "    }\n",
       "</style>\n",
       "<table border=\"1\" class=\"dataframe\">\n",
       "  <thead>\n",
       "    <tr style=\"text-align: right;\">\n",
       "      <th></th>\n",
       "      <th>Month</th>\n",
       "      <th>Jobs</th>\n",
       "      <th>Month_Numeric</th>\n",
       "      <th>Year_Numeric</th>\n",
       "      <th>New_Date</th>\n",
       "    </tr>\n",
       "  </thead>\n",
       "  <tbody>\n",
       "    <tr>\n",
       "      <th>0</th>\n",
       "      <td>2019-04-01</td>\n",
       "      <td>138</td>\n",
       "      <td>4</td>\n",
       "      <td>2019</td>\n",
       "      <td>2025-04-01</td>\n",
       "    </tr>\n",
       "    <tr>\n",
       "      <th>1</th>\n",
       "      <td>2019-05-01</td>\n",
       "      <td>111</td>\n",
       "      <td>5</td>\n",
       "      <td>2019</td>\n",
       "      <td>2025-05-01</td>\n",
       "    </tr>\n",
       "    <tr>\n",
       "      <th>2</th>\n",
       "      <td>2019-06-01</td>\n",
       "      <td>158</td>\n",
       "      <td>6</td>\n",
       "      <td>2019</td>\n",
       "      <td>2025-06-01</td>\n",
       "    </tr>\n",
       "    <tr>\n",
       "      <th>3</th>\n",
       "      <td>2019-07-01</td>\n",
       "      <td>180</td>\n",
       "      <td>7</td>\n",
       "      <td>2019</td>\n",
       "      <td>2025-07-01</td>\n",
       "    </tr>\n",
       "    <tr>\n",
       "      <th>4</th>\n",
       "      <td>2019-08-01</td>\n",
       "      <td>123</td>\n",
       "      <td>8</td>\n",
       "      <td>2019</td>\n",
       "      <td>2025-08-01</td>\n",
       "    </tr>\n",
       "    <tr>\n",
       "      <th>...</th>\n",
       "      <td>...</td>\n",
       "      <td>...</td>\n",
       "      <td>...</td>\n",
       "      <td>...</td>\n",
       "      <td>...</td>\n",
       "    </tr>\n",
       "    <tr>\n",
       "      <th>65</th>\n",
       "      <td>2024-09-01</td>\n",
       "      <td>162</td>\n",
       "      <td>9</td>\n",
       "      <td>2024</td>\n",
       "      <td>2025-09-01</td>\n",
       "    </tr>\n",
       "    <tr>\n",
       "      <th>66</th>\n",
       "      <td>2024-10-01</td>\n",
       "      <td>215</td>\n",
       "      <td>10</td>\n",
       "      <td>2024</td>\n",
       "      <td>2025-10-01</td>\n",
       "    </tr>\n",
       "    <tr>\n",
       "      <th>67</th>\n",
       "      <td>2024-11-01</td>\n",
       "      <td>182</td>\n",
       "      <td>11</td>\n",
       "      <td>2024</td>\n",
       "      <td>2025-11-01</td>\n",
       "    </tr>\n",
       "    <tr>\n",
       "      <th>68</th>\n",
       "      <td>2024-12-01</td>\n",
       "      <td>174</td>\n",
       "      <td>12</td>\n",
       "      <td>2024</td>\n",
       "      <td>2025-12-01</td>\n",
       "    </tr>\n",
       "    <tr>\n",
       "      <th>69</th>\n",
       "      <td>2025-01-01</td>\n",
       "      <td>193</td>\n",
       "      <td>1</td>\n",
       "      <td>2025</td>\n",
       "      <td>2025-01-01</td>\n",
       "    </tr>\n",
       "  </tbody>\n",
       "</table>\n",
       "<p>70 rows × 5 columns</p>\n",
       "</div>"
      ],
      "text/plain": [
       "        Month  Jobs  Month_Numeric  Year_Numeric    New_Date\n",
       "0  2019-04-01   138              4          2019  2025-04-01\n",
       "1  2019-05-01   111              5          2019  2025-05-01\n",
       "2  2019-06-01   158              6          2019  2025-06-01\n",
       "3  2019-07-01   180              7          2019  2025-07-01\n",
       "4  2019-08-01   123              8          2019  2025-08-01\n",
       "..        ...   ...            ...           ...         ...\n",
       "65 2024-09-01   162              9          2024  2025-09-01\n",
       "66 2024-10-01   215             10          2024  2025-10-01\n",
       "67 2024-11-01   182             11          2024  2025-11-01\n",
       "68 2024-12-01   174             12          2024  2025-12-01\n",
       "69 2025-01-01   193              1          2025  2025-01-01\n",
       "\n",
       "[70 rows x 5 columns]"
      ]
     },
     "execution_count": 43,
     "metadata": {},
     "output_type": "execute_result"
    }
   ],
   "source": [
    "historical_jobs_per_month[\"New_Date\"] = historical_jobs_per_month[\"Month\"].apply(lambda x: datetime.date(year=first_month.year,day=1,month=x.month))\n",
    "historical_jobs_per_month"
   ]
  },
  {
   "cell_type": "code",
   "execution_count": 44,
   "metadata": {},
   "outputs": [
    {
     "data": {
      "application/vnd.plotly.v1+json": {
       "config": {
        "plotlyServerURL": "https://plot.ly"
       },
       "data": [
        {
         "hovertemplate": "Year_Numeric=2019<br>New_Date=%{x}<br>Jobs=%{y}<extra></extra>",
         "legendgroup": "2019",
         "line": {
          "color": "#D50032",
          "dash": "solid"
         },
         "marker": {
          "symbol": "circle"
         },
         "mode": "lines",
         "name": "2019",
         "orientation": "v",
         "showlegend": true,
         "type": "scatter",
         "x": [
          "2025-04-01",
          "2025-05-01",
          "2025-06-01",
          "2025-07-01",
          "2025-08-01",
          "2025-09-01",
          "2025-10-01",
          "2025-11-01",
          "2025-12-01"
         ],
         "xaxis": "x",
         "y": [
          138,
          111,
          158,
          180,
          123,
          130,
          116,
          101,
          101
         ],
         "yaxis": "y"
        },
        {
         "hovertemplate": "Year_Numeric=2020<br>New_Date=%{x}<br>Jobs=%{y}<extra></extra>",
         "legendgroup": "2020",
         "line": {
          "color": "#1D428A",
          "dash": "solid"
         },
         "marker": {
          "symbol": "circle"
         },
         "mode": "lines",
         "name": "2020",
         "orientation": "v",
         "showlegend": true,
         "type": "scatter",
         "x": [
          "2025-01-01",
          "2025-02-01",
          "2025-03-01",
          "2025-04-01",
          "2025-05-01",
          "2025-06-01",
          "2025-07-01",
          "2025-08-01",
          "2025-09-01",
          "2025-10-01",
          "2025-11-01",
          "2025-12-01"
         ],
         "xaxis": "x",
         "y": [
          93,
          75,
          83,
          76,
          144,
          167,
          181,
          165,
          166,
          110,
          102,
          145
         ],
         "yaxis": "y"
        },
        {
         "hovertemplate": "Year_Numeric=2021<br>New_Date=%{x}<br>Jobs=%{y}<extra></extra>",
         "legendgroup": "2021",
         "line": {
          "color": "#4D4D4D",
          "dash": "solid"
         },
         "marker": {
          "symbol": "circle"
         },
         "mode": "lines",
         "name": "2021",
         "orientation": "v",
         "showlegend": true,
         "type": "scatter",
         "x": [
          "2025-01-01",
          "2025-02-01",
          "2025-03-01",
          "2025-04-01",
          "2025-05-01",
          "2025-06-01",
          "2025-07-01",
          "2025-08-01",
          "2025-09-01",
          "2025-10-01",
          "2025-11-01",
          "2025-12-01"
         ],
         "xaxis": "x",
         "y": [
          116,
          104,
          154,
          193,
          174,
          199,
          202,
          191,
          143,
          152,
          146,
          117
         ],
         "yaxis": "y"
        },
        {
         "hovertemplate": "Year_Numeric=2022<br>New_Date=%{x}<br>Jobs=%{y}<extra></extra>",
         "legendgroup": "2022",
         "line": {
          "color": "#00B0B9",
          "dash": "solid"
         },
         "marker": {
          "symbol": "circle"
         },
         "mode": "lines",
         "name": "2022",
         "orientation": "v",
         "showlegend": true,
         "type": "scatter",
         "x": [
          "2025-01-01",
          "2025-02-01",
          "2025-03-01",
          "2025-04-01",
          "2025-05-01",
          "2025-06-01",
          "2025-07-01",
          "2025-08-01",
          "2025-09-01",
          "2025-10-01",
          "2025-11-01",
          "2025-12-01"
         ],
         "xaxis": "x",
         "y": [
          121,
          108,
          143,
          143,
          155,
          173,
          202,
          180,
          144,
          182,
          161,
          174
         ],
         "yaxis": "y"
        },
        {
         "hovertemplate": "Year_Numeric=2023<br>New_Date=%{x}<br>Jobs=%{y}<extra></extra>",
         "legendgroup": "2023",
         "line": {
          "color": "#264027",
          "dash": "solid"
         },
         "marker": {
          "symbol": "circle"
         },
         "mode": "lines",
         "name": "2023",
         "orientation": "v",
         "showlegend": true,
         "type": "scatter",
         "x": [
          "2025-01-01",
          "2025-02-01",
          "2025-03-01",
          "2025-04-01",
          "2025-05-01",
          "2025-06-01",
          "2025-07-01",
          "2025-08-01",
          "2025-09-01",
          "2025-10-01",
          "2025-11-01",
          "2025-12-01"
         ],
         "xaxis": "x",
         "y": [
          166,
          175,
          177,
          196,
          201,
          198,
          207,
          214,
          226,
          187,
          125,
          154
         ],
         "yaxis": "y"
        },
        {
         "hovertemplate": "Year_Numeric=2024<br>New_Date=%{x}<br>Jobs=%{y}<extra></extra>",
         "legendgroup": "2024",
         "line": {
          "color": "#FFA400",
          "dash": "solid"
         },
         "marker": {
          "symbol": "circle"
         },
         "mode": "lines",
         "name": "2024",
         "orientation": "v",
         "showlegend": true,
         "type": "scatter",
         "x": [
          "2025-01-01",
          "2025-02-01",
          "2025-03-01",
          "2025-04-01",
          "2025-05-01",
          "2025-06-01",
          "2025-07-01",
          "2025-08-01",
          "2025-09-01",
          "2025-10-01",
          "2025-11-01",
          "2025-12-01"
         ],
         "xaxis": "x",
         "y": [
          193,
          183,
          224,
          194,
          238,
          243,
          227,
          224,
          162,
          215,
          182,
          174
         ],
         "yaxis": "y"
        },
        {
         "hovertemplate": "Year_Numeric=2025<br>New_Date=%{x}<br>Jobs=%{y}<extra></extra>",
         "legendgroup": "2025",
         "line": {
          "color": "#D50032",
          "dash": "solid"
         },
         "marker": {
          "symbol": "circle"
         },
         "mode": "lines",
         "name": "2025",
         "orientation": "v",
         "showlegend": true,
         "type": "scatter",
         "x": [
          "2025-01-01"
         ],
         "xaxis": "x",
         "y": [
          193
         ],
         "yaxis": "y"
        }
       ],
       "layout": {
        "legend": {
         "title": {
          "text": "Year_Numeric"
         },
         "tracegroupgap": 0
        },
        "margin": {
         "t": 60
        },
        "template": {
         "data": {
          "candlestick": [
           {
            "decreasing": {
             "line": {
              "color": "#000033"
             }
            },
            "increasing": {
             "line": {
              "color": "#000032"
             }
            },
            "type": "candlestick"
           }
          ],
          "contour": [
           {
            "colorscale": [
             [
              0,
              "#000011"
             ],
             [
              0.1111111111111111,
              "#000012"
             ],
             [
              0.2222222222222222,
              "#000013"
             ],
             [
              0.3333333333333333,
              "#000014"
             ],
             [
              0.4444444444444444,
              "#000015"
             ],
             [
              0.5555555555555556,
              "#000016"
             ],
             [
              0.6666666666666666,
              "#000017"
             ],
             [
              0.7777777777777778,
              "#000018"
             ],
             [
              0.8888888888888888,
              "#000019"
             ],
             [
              1,
              "#000020"
             ]
            ],
            "type": "contour"
           }
          ],
          "contourcarpet": [
           {
            "colorscale": [
             [
              0,
              "#000011"
             ],
             [
              0.1111111111111111,
              "#000012"
             ],
             [
              0.2222222222222222,
              "#000013"
             ],
             [
              0.3333333333333333,
              "#000014"
             ],
             [
              0.4444444444444444,
              "#000015"
             ],
             [
              0.5555555555555556,
              "#000016"
             ],
             [
              0.6666666666666666,
              "#000017"
             ],
             [
              0.7777777777777778,
              "#000018"
             ],
             [
              0.8888888888888888,
              "#000019"
             ],
             [
              1,
              "#000020"
             ]
            ],
            "type": "contourcarpet"
           }
          ],
          "heatmap": [
           {
            "colorscale": [
             [
              0,
              "#000011"
             ],
             [
              0.1111111111111111,
              "#000012"
             ],
             [
              0.2222222222222222,
              "#000013"
             ],
             [
              0.3333333333333333,
              "#000014"
             ],
             [
              0.4444444444444444,
              "#000015"
             ],
             [
              0.5555555555555556,
              "#000016"
             ],
             [
              0.6666666666666666,
              "#000017"
             ],
             [
              0.7777777777777778,
              "#000018"
             ],
             [
              0.8888888888888888,
              "#000019"
             ],
             [
              1,
              "#000020"
             ]
            ],
            "type": "heatmap"
           }
          ],
          "histogram2d": [
           {
            "colorscale": [
             [
              0,
              "#000011"
             ],
             [
              0.1111111111111111,
              "#000012"
             ],
             [
              0.2222222222222222,
              "#000013"
             ],
             [
              0.3333333333333333,
              "#000014"
             ],
             [
              0.4444444444444444,
              "#000015"
             ],
             [
              0.5555555555555556,
              "#000016"
             ],
             [
              0.6666666666666666,
              "#000017"
             ],
             [
              0.7777777777777778,
              "#000018"
             ],
             [
              0.8888888888888888,
              "#000019"
             ],
             [
              1,
              "#000020"
             ]
            ],
            "type": "histogram2d"
           }
          ],
          "icicle": [
           {
            "textfont": {
             "color": "white"
            },
            "type": "icicle"
           }
          ],
          "sankey": [
           {
            "textfont": {
             "color": "#000036"
            },
            "type": "sankey"
           }
          ],
          "scatter": [
           {
            "marker": {
             "line": {
              "width": 0
             }
            },
            "type": "scatter"
           }
          ],
          "table": [
           {
            "cells": {
             "fill": {
              "color": "#000038"
             },
             "font": {
              "color": "#000037"
             },
             "line": {
              "color": "#000039"
             }
            },
            "header": {
             "fill": {
              "color": "#000040"
             },
             "font": {
              "color": "#000036"
             },
             "line": {
              "color": "#000039"
             }
            },
            "type": "table"
           }
          ],
          "waterfall": [
           {
            "connector": {
             "line": {
              "color": "#000036",
              "width": 2
             }
            },
            "decreasing": {
             "marker": {
              "color": "#000033"
             }
            },
            "increasing": {
             "marker": {
              "color": "#000032"
             }
            },
            "totals": {
             "marker": {
              "color": "#000034"
             }
            },
            "type": "waterfall"
           }
          ]
         },
         "layout": {
          "coloraxis": {
           "colorscale": [
            [
             0,
             "#000011"
            ],
            [
             0.1111111111111111,
             "#000012"
            ],
            [
             0.2222222222222222,
             "#000013"
            ],
            [
             0.3333333333333333,
             "#000014"
            ],
            [
             0.4444444444444444,
             "#000015"
            ],
            [
             0.5555555555555556,
             "#000016"
            ],
            [
             0.6666666666666666,
             "#000017"
            ],
            [
             0.7777777777777778,
             "#000018"
            ],
            [
             0.8888888888888888,
             "#000019"
            ],
            [
             1,
             "#000020"
            ]
           ]
          },
          "colorscale": {
           "diverging": [
            [
             0,
             "#000021"
            ],
            [
             0.1,
             "#000022"
            ],
            [
             0.2,
             "#000023"
            ],
            [
             0.3,
             "#000024"
            ],
            [
             0.4,
             "#000025"
            ],
            [
             0.5,
             "#000026"
            ],
            [
             0.6,
             "#000027"
            ],
            [
             0.7,
             "#000028"
            ],
            [
             0.8,
             "#000029"
            ],
            [
             0.9,
             "#000030"
            ],
            [
             1,
             "#000031"
            ]
           ],
           "sequential": [
            [
             0,
             "#000011"
            ],
            [
             0.1111111111111111,
             "#000012"
            ],
            [
             0.2222222222222222,
             "#000013"
            ],
            [
             0.3333333333333333,
             "#000014"
            ],
            [
             0.4444444444444444,
             "#000015"
            ],
            [
             0.5555555555555556,
             "#000016"
            ],
            [
             0.6666666666666666,
             "#000017"
            ],
            [
             0.7777777777777778,
             "#000018"
            ],
            [
             0.8888888888888888,
             "#000019"
            ],
            [
             1,
             "#000020"
            ]
           ],
           "sequentialminus": [
            [
             0,
             "#000011"
            ],
            [
             0.1111111111111111,
             "#000012"
            ],
            [
             0.2222222222222222,
             "#000013"
            ],
            [
             0.3333333333333333,
             "#000014"
            ],
            [
             0.4444444444444444,
             "#000015"
            ],
            [
             0.5555555555555556,
             "#000016"
            ],
            [
             0.6666666666666666,
             "#000017"
            ],
            [
             0.7777777777777778,
             "#000018"
            ],
            [
             0.8888888888888888,
             "#000019"
            ],
            [
             1,
             "#000020"
            ]
           ]
          },
          "colorway": [
           "#000001",
           "#000002",
           "#000003",
           "#000004",
           "#000005",
           "#000006",
           "#000007",
           "#000008",
           "#000009",
           "#000010"
          ]
         }
        },
        "xaxis": {
         "anchor": "y",
         "domain": [
          0,
          1
         ],
         "title": {
          "text": "New_Date"
         }
        },
        "yaxis": {
         "anchor": "x",
         "domain": [
          0,
          1
         ],
         "title": {
          "text": "Jobs"
         }
        }
       }
      }
     },
     "metadata": {},
     "output_type": "display_data"
    }
   ],
   "source": [
    "px.line(historical_jobs_per_month, x=\"New_Date\", y=\"Jobs\", color=\"Year_Numeric\",\n",
    "        color_discrete_sequence=[DAA_COLORSCHEME[\"red\"], DAA_COLORSCHEME[\"blue\"], DAA_COLORSCHEME[\"darkgrey\"],\n",
    "                                 DAA_COLORSCHEME[\"teal\"], DAA_COLORSCHEME[\"darkgreen\"], DAA_COLORSCHEME[\"orange\"]])"
   ]
  },
  {
   "cell_type": "code",
   "execution_count": 45,
   "metadata": {},
   "outputs": [
    {
     "data": {
      "text/html": [
       "<div>\n",
       "<style scoped>\n",
       "    .dataframe tbody tr th:only-of-type {\n",
       "        vertical-align: middle;\n",
       "    }\n",
       "\n",
       "    .dataframe tbody tr th {\n",
       "        vertical-align: top;\n",
       "    }\n",
       "\n",
       "    .dataframe thead th {\n",
       "        text-align: right;\n",
       "    }\n",
       "</style>\n",
       "<table border=\"1\" class=\"dataframe\">\n",
       "  <thead>\n",
       "    <tr style=\"text-align: right;\">\n",
       "      <th></th>\n",
       "      <th>P_ID</th>\n",
       "      <th>run_number</th>\n",
       "      <th>timestamp</th>\n",
       "      <th>timestamp_dt</th>\n",
       "      <th>day</th>\n",
       "      <th>hour</th>\n",
       "      <th>weekday</th>\n",
       "      <th>month</th>\n",
       "      <th>qtr</th>\n",
       "      <th>callsign_group</th>\n",
       "      <th>vehicle_type</th>\n",
       "      <th>ampds_card</th>\n",
       "      <th>age</th>\n",
       "      <th>sex</th>\n",
       "      <th>hems_result</th>\n",
       "      <th>outcome</th>\n",
       "      <th>callsign</th>\n",
       "      <th>month_start</th>\n",
       "    </tr>\n",
       "  </thead>\n",
       "  <tbody>\n",
       "    <tr>\n",
       "      <th>258</th>\n",
       "      <td>22</td>\n",
       "      <td>1</td>\n",
       "      <td>7740.1</td>\n",
       "      <td>2025-02-22 17:00:06</td>\n",
       "      <td>Sat</td>\n",
       "      <td>17</td>\n",
       "      <td>weekend</td>\n",
       "      <td>2</td>\n",
       "      <td>1</td>\n",
       "      <td>NaN</td>\n",
       "      <td>NaN</td>\n",
       "      <td>31</td>\n",
       "      <td>65.0</td>\n",
       "      <td>Female</td>\n",
       "      <td>NaN</td>\n",
       "      <td>NaN</td>\n",
       "      <td>NaN</td>\n",
       "      <td>2025-02-01</td>\n",
       "    </tr>\n",
       "    <tr>\n",
       "      <th>263</th>\n",
       "      <td>23</td>\n",
       "      <td>1</td>\n",
       "      <td>7740.1</td>\n",
       "      <td>2025-02-22 17:00:06</td>\n",
       "      <td>Sat</td>\n",
       "      <td>17</td>\n",
       "      <td>weekend</td>\n",
       "      <td>2</td>\n",
       "      <td>1</td>\n",
       "      <td>NaN</td>\n",
       "      <td>NaN</td>\n",
       "      <td>9</td>\n",
       "      <td>48.0</td>\n",
       "      <td>Male</td>\n",
       "      <td>NaN</td>\n",
       "      <td>NaN</td>\n",
       "      <td>NaN</td>\n",
       "      <td>2025-02-01</td>\n",
       "    </tr>\n",
       "    <tr>\n",
       "      <th>358</th>\n",
       "      <td>31</td>\n",
       "      <td>1</td>\n",
       "      <td>9360.1</td>\n",
       "      <td>2025-02-23 20:00:06</td>\n",
       "      <td>Sun</td>\n",
       "      <td>20</td>\n",
       "      <td>weekend</td>\n",
       "      <td>2</td>\n",
       "      <td>1</td>\n",
       "      <td>NaN</td>\n",
       "      <td>NaN</td>\n",
       "      <td>12</td>\n",
       "      <td>59.0</td>\n",
       "      <td>Female</td>\n",
       "      <td>NaN</td>\n",
       "      <td>NaN</td>\n",
       "      <td>NaN</td>\n",
       "      <td>2025-02-01</td>\n",
       "    </tr>\n",
       "    <tr>\n",
       "      <th>382</th>\n",
       "      <td>33</td>\n",
       "      <td>1</td>\n",
       "      <td>10140.1</td>\n",
       "      <td>2025-02-24 09:00:06</td>\n",
       "      <td>Mon</td>\n",
       "      <td>9</td>\n",
       "      <td>weekday</td>\n",
       "      <td>2</td>\n",
       "      <td>1</td>\n",
       "      <td>NaN</td>\n",
       "      <td>NaN</td>\n",
       "      <td>6</td>\n",
       "      <td>48.0</td>\n",
       "      <td>Male</td>\n",
       "      <td>NaN</td>\n",
       "      <td>NaN</td>\n",
       "      <td>NaN</td>\n",
       "      <td>2025-02-01</td>\n",
       "    </tr>\n",
       "    <tr>\n",
       "      <th>428</th>\n",
       "      <td>37</td>\n",
       "      <td>1</td>\n",
       "      <td>10980.1</td>\n",
       "      <td>2025-02-24 23:00:06</td>\n",
       "      <td>Mon</td>\n",
       "      <td>23</td>\n",
       "      <td>weekday</td>\n",
       "      <td>2</td>\n",
       "      <td>1</td>\n",
       "      <td>NaN</td>\n",
       "      <td>NaN</td>\n",
       "      <td>25</td>\n",
       "      <td>21.0</td>\n",
       "      <td>Female</td>\n",
       "      <td>NaN</td>\n",
       "      <td>NaN</td>\n",
       "      <td>NaN</td>\n",
       "      <td>2025-02-01</td>\n",
       "    </tr>\n",
       "    <tr>\n",
       "      <th>...</th>\n",
       "      <td>...</td>\n",
       "      <td>...</td>\n",
       "      <td>...</td>\n",
       "      <td>...</td>\n",
       "      <td>...</td>\n",
       "      <td>...</td>\n",
       "      <td>...</td>\n",
       "      <td>...</td>\n",
       "      <td>...</td>\n",
       "      <td>...</td>\n",
       "      <td>...</td>\n",
       "      <td>...</td>\n",
       "      <td>...</td>\n",
       "      <td>...</td>\n",
       "      <td>...</td>\n",
       "      <td>...</td>\n",
       "      <td>...</td>\n",
       "      <td>...</td>\n",
       "    </tr>\n",
       "    <tr>\n",
       "      <th>415182</th>\n",
       "      <td>1687</td>\n",
       "      <td>9</td>\n",
       "      <td>511740.1</td>\n",
       "      <td>2026-02-07 17:00:06</td>\n",
       "      <td>Sat</td>\n",
       "      <td>17</td>\n",
       "      <td>weekend</td>\n",
       "      <td>2</td>\n",
       "      <td>1</td>\n",
       "      <td>NaN</td>\n",
       "      <td>NaN</td>\n",
       "      <td>9</td>\n",
       "      <td>56.0</td>\n",
       "      <td>Male</td>\n",
       "      <td>NaN</td>\n",
       "      <td>NaN</td>\n",
       "      <td>NaN</td>\n",
       "      <td>2026-02-01</td>\n",
       "    </tr>\n",
       "    <tr>\n",
       "      <th>415234</th>\n",
       "      <td>1691</td>\n",
       "      <td>9</td>\n",
       "      <td>515400.1</td>\n",
       "      <td>2026-02-10 06:00:06</td>\n",
       "      <td>Tue</td>\n",
       "      <td>6</td>\n",
       "      <td>weekday</td>\n",
       "      <td>2</td>\n",
       "      <td>1</td>\n",
       "      <td>NaN</td>\n",
       "      <td>NaN</td>\n",
       "      <td>17</td>\n",
       "      <td>44.0</td>\n",
       "      <td>Female</td>\n",
       "      <td>NaN</td>\n",
       "      <td>NaN</td>\n",
       "      <td>NaN</td>\n",
       "      <td>2026-02-01</td>\n",
       "    </tr>\n",
       "    <tr>\n",
       "      <th>415415</th>\n",
       "      <td>1706</td>\n",
       "      <td>9</td>\n",
       "      <td>519060.1</td>\n",
       "      <td>2026-02-12 19:00:06</td>\n",
       "      <td>Thu</td>\n",
       "      <td>19</td>\n",
       "      <td>weekday</td>\n",
       "      <td>2</td>\n",
       "      <td>1</td>\n",
       "      <td>NaN</td>\n",
       "      <td>NaN</td>\n",
       "      <td>6</td>\n",
       "      <td>69.0</td>\n",
       "      <td>Male</td>\n",
       "      <td>NaN</td>\n",
       "      <td>NaN</td>\n",
       "      <td>NaN</td>\n",
       "      <td>2026-02-01</td>\n",
       "    </tr>\n",
       "    <tr>\n",
       "      <th>415556</th>\n",
       "      <td>1717</td>\n",
       "      <td>9</td>\n",
       "      <td>523260.1</td>\n",
       "      <td>2026-02-15 17:00:06</td>\n",
       "      <td>Sun</td>\n",
       "      <td>17</td>\n",
       "      <td>weekend</td>\n",
       "      <td>2</td>\n",
       "      <td>1</td>\n",
       "      <td>NaN</td>\n",
       "      <td>NaN</td>\n",
       "      <td>31</td>\n",
       "      <td>46.0</td>\n",
       "      <td>Female</td>\n",
       "      <td>NaN</td>\n",
       "      <td>NaN</td>\n",
       "      <td>NaN</td>\n",
       "      <td>2026-02-01</td>\n",
       "    </tr>\n",
       "    <tr>\n",
       "      <th>415600</th>\n",
       "      <td>1721</td>\n",
       "      <td>9</td>\n",
       "      <td>524340.1</td>\n",
       "      <td>2026-02-16 11:00:06</td>\n",
       "      <td>Mon</td>\n",
       "      <td>11</td>\n",
       "      <td>weekday</td>\n",
       "      <td>2</td>\n",
       "      <td>1</td>\n",
       "      <td>NaN</td>\n",
       "      <td>NaN</td>\n",
       "      <td>30</td>\n",
       "      <td>63.0</td>\n",
       "      <td>Male</td>\n",
       "      <td>NaN</td>\n",
       "      <td>NaN</td>\n",
       "      <td>NaN</td>\n",
       "      <td>2026-02-01</td>\n",
       "    </tr>\n",
       "  </tbody>\n",
       "</table>\n",
       "<p>3812 rows × 18 columns</p>\n",
       "</div>"
      ],
      "text/plain": [
       "        P_ID  run_number  timestamp        timestamp_dt  day  hour  weekday  \\\n",
       "258       22           1     7740.1 2025-02-22 17:00:06  Sat    17  weekend   \n",
       "263       23           1     7740.1 2025-02-22 17:00:06  Sat    17  weekend   \n",
       "358       31           1     9360.1 2025-02-23 20:00:06  Sun    20  weekend   \n",
       "382       33           1    10140.1 2025-02-24 09:00:06  Mon     9  weekday   \n",
       "428       37           1    10980.1 2025-02-24 23:00:06  Mon    23  weekday   \n",
       "...      ...         ...        ...                 ...  ...   ...      ...   \n",
       "415182  1687           9   511740.1 2026-02-07 17:00:06  Sat    17  weekend   \n",
       "415234  1691           9   515400.1 2026-02-10 06:00:06  Tue     6  weekday   \n",
       "415415  1706           9   519060.1 2026-02-12 19:00:06  Thu    19  weekday   \n",
       "415556  1717           9   523260.1 2026-02-15 17:00:06  Sun    17  weekend   \n",
       "415600  1721           9   524340.1 2026-02-16 11:00:06  Mon    11  weekday   \n",
       "\n",
       "        month  qtr  callsign_group vehicle_type  ampds_card   age     sex  \\\n",
       "258         2    1             NaN          NaN          31  65.0  Female   \n",
       "263         2    1             NaN          NaN           9  48.0    Male   \n",
       "358         2    1             NaN          NaN          12  59.0  Female   \n",
       "382         2    1             NaN          NaN           6  48.0    Male   \n",
       "428         2    1             NaN          NaN          25  21.0  Female   \n",
       "...       ...  ...             ...          ...         ...   ...     ...   \n",
       "415182      2    1             NaN          NaN           9  56.0    Male   \n",
       "415234      2    1             NaN          NaN          17  44.0  Female   \n",
       "415415      2    1             NaN          NaN           6  69.0    Male   \n",
       "415556      2    1             NaN          NaN          31  46.0  Female   \n",
       "415600      2    1             NaN          NaN          30  63.0    Male   \n",
       "\n",
       "       hems_result outcome callsign month_start  \n",
       "258            NaN     NaN      NaN  2025-02-01  \n",
       "263            NaN     NaN      NaN  2025-02-01  \n",
       "358            NaN     NaN      NaN  2025-02-01  \n",
       "382            NaN     NaN      NaN  2025-02-01  \n",
       "428            NaN     NaN      NaN  2025-02-01  \n",
       "...            ...     ...      ...         ...  \n",
       "415182         NaN     NaN      NaN  2026-02-01  \n",
       "415234         NaN     NaN      NaN  2026-02-01  \n",
       "415415         NaN     NaN      NaN  2026-02-01  \n",
       "415556         NaN     NaN      NaN  2026-02-01  \n",
       "415600         NaN     NaN      NaN  2026-02-01  \n",
       "\n",
       "[3812 rows x 18 columns]"
      ]
     },
     "execution_count": 45,
     "metadata": {},
     "output_type": "execute_result"
    }
   ],
   "source": [
    "call_df[call_df['callsign'].isna()]"
   ]
  },
  {
   "cell_type": "code",
   "execution_count": 46,
   "metadata": {},
   "outputs": [
    {
     "data": {
      "text/html": [
       "<div>\n",
       "<style scoped>\n",
       "    .dataframe tbody tr th:only-of-type {\n",
       "        vertical-align: middle;\n",
       "    }\n",
       "\n",
       "    .dataframe tbody tr th {\n",
       "        vertical-align: top;\n",
       "    }\n",
       "\n",
       "    .dataframe thead th {\n",
       "        text-align: right;\n",
       "    }\n",
       "</style>\n",
       "<table border=\"1\" class=\"dataframe\">\n",
       "  <thead>\n",
       "    <tr style=\"text-align: right;\">\n",
       "      <th></th>\n",
       "      <th>run_number</th>\n",
       "      <th>P_ID</th>\n",
       "    </tr>\n",
       "  </thead>\n",
       "  <tbody>\n",
       "    <tr>\n",
       "      <th>0</th>\n",
       "      <td>1</td>\n",
       "      <td>175</td>\n",
       "    </tr>\n",
       "    <tr>\n",
       "      <th>1</th>\n",
       "      <td>2</td>\n",
       "      <td>230</td>\n",
       "    </tr>\n",
       "    <tr>\n",
       "      <th>2</th>\n",
       "      <td>3</td>\n",
       "      <td>201</td>\n",
       "    </tr>\n",
       "    <tr>\n",
       "      <th>3</th>\n",
       "      <td>4</td>\n",
       "      <td>210</td>\n",
       "    </tr>\n",
       "    <tr>\n",
       "      <th>4</th>\n",
       "      <td>5</td>\n",
       "      <td>163</td>\n",
       "    </tr>\n",
       "    <tr>\n",
       "      <th>5</th>\n",
       "      <td>6</td>\n",
       "      <td>154</td>\n",
       "    </tr>\n",
       "    <tr>\n",
       "      <th>6</th>\n",
       "      <td>7</td>\n",
       "      <td>184</td>\n",
       "    </tr>\n",
       "    <tr>\n",
       "      <th>7</th>\n",
       "      <td>8</td>\n",
       "      <td>208</td>\n",
       "    </tr>\n",
       "    <tr>\n",
       "      <th>8</th>\n",
       "      <td>9</td>\n",
       "      <td>197</td>\n",
       "    </tr>\n",
       "    <tr>\n",
       "      <th>9</th>\n",
       "      <td>10</td>\n",
       "      <td>234</td>\n",
       "    </tr>\n",
       "    <tr>\n",
       "      <th>10</th>\n",
       "      <td>11</td>\n",
       "      <td>139</td>\n",
       "    </tr>\n",
       "    <tr>\n",
       "      <th>11</th>\n",
       "      <td>12</td>\n",
       "      <td>186</td>\n",
       "    </tr>\n",
       "    <tr>\n",
       "      <th>12</th>\n",
       "      <td>13</td>\n",
       "      <td>179</td>\n",
       "    </tr>\n",
       "    <tr>\n",
       "      <th>13</th>\n",
       "      <td>14</td>\n",
       "      <td>159</td>\n",
       "    </tr>\n",
       "    <tr>\n",
       "      <th>14</th>\n",
       "      <td>15</td>\n",
       "      <td>210</td>\n",
       "    </tr>\n",
       "    <tr>\n",
       "      <th>15</th>\n",
       "      <td>16</td>\n",
       "      <td>162</td>\n",
       "    </tr>\n",
       "    <tr>\n",
       "      <th>16</th>\n",
       "      <td>17</td>\n",
       "      <td>202</td>\n",
       "    </tr>\n",
       "    <tr>\n",
       "      <th>17</th>\n",
       "      <td>18</td>\n",
       "      <td>191</td>\n",
       "    </tr>\n",
       "    <tr>\n",
       "      <th>18</th>\n",
       "      <td>19</td>\n",
       "      <td>244</td>\n",
       "    </tr>\n",
       "    <tr>\n",
       "      <th>19</th>\n",
       "      <td>20</td>\n",
       "      <td>184</td>\n",
       "    </tr>\n",
       "  </tbody>\n",
       "</table>\n",
       "</div>"
      ],
      "text/plain": [
       "    run_number  P_ID\n",
       "0            1   175\n",
       "1            2   230\n",
       "2            3   201\n",
       "3            4   210\n",
       "4            5   163\n",
       "5            6   154\n",
       "6            7   184\n",
       "7            8   208\n",
       "8            9   197\n",
       "9           10   234\n",
       "10          11   139\n",
       "11          12   186\n",
       "12          13   179\n",
       "13          14   159\n",
       "14          15   210\n",
       "15          16   162\n",
       "16          17   202\n",
       "17          18   191\n",
       "18          19   244\n",
       "19          20   184"
      ]
     },
     "execution_count": 46,
     "metadata": {},
     "output_type": "execute_result"
    }
   ],
   "source": [
    "call_df[call_df['callsign'].isna()].groupby('run_number')[['P_ID']].count().reset_index()"
   ]
  },
  {
   "cell_type": "code",
   "execution_count": 47,
   "metadata": {},
   "outputs": [
    {
     "data": {
      "text/plain": [
       "190.6"
      ]
     },
     "execution_count": 47,
     "metadata": {},
     "output_type": "execute_result"
    }
   ],
   "source": [
    "unattended_calls_per_run = call_df[call_df['callsign'].isna()].groupby('run_number')[['P_ID']].count().reset_index()\n",
    "\n",
    "unattended_calls_per_run['P_ID'].mean()"
   ]
  },
  {
   "cell_type": "code",
   "execution_count": 48,
   "metadata": {},
   "outputs": [
    {
     "data": {
      "text/plain": [
       "'190.6 of 1685.6 (11.3%)'"
      ]
     },
     "execution_count": 48,
     "metadata": {},
     "output_type": "execute_result"
    }
   ],
   "source": [
    "_job_count_calculation.display_UNTATTENDED_calls_per_run(call_df)"
   ]
  },
  {
   "cell_type": "code",
   "execution_count": 49,
   "metadata": {},
   "outputs": [
    {
     "data": {
      "text/plain": [
       "'24 of 1686 (1.4%)'"
      ]
     },
     "execution_count": 49,
     "metadata": {},
     "output_type": "execute_result"
    }
   ],
   "source": [
    "_vehicle_calculation.get_perc_unattended_string(run_results)"
   ]
  },
  {
   "cell_type": "code",
   "execution_count": null,
   "metadata": {},
   "outputs": [],
   "source": []
  },
  {
   "cell_type": "code",
   "execution_count": 52,
   "metadata": {},
   "outputs": [],
   "source": [
    "no_callsign = call_df[call_df['callsign'].isna()][['P_ID', 'run_number']]"
   ]
  },
  {
   "cell_type": "code",
   "execution_count": 57,
   "metadata": {},
   "outputs": [
    {
     "data": {
      "text/html": [
       "<div>\n",
       "<style scoped>\n",
       "    .dataframe tbody tr th:only-of-type {\n",
       "        vertical-align: middle;\n",
       "    }\n",
       "\n",
       "    .dataframe tbody tr th {\n",
       "        vertical-align: top;\n",
       "    }\n",
       "\n",
       "    .dataframe thead th {\n",
       "        text-align: right;\n",
       "    }\n",
       "</style>\n",
       "<table border=\"1\" class=\"dataframe\">\n",
       "  <thead>\n",
       "    <tr style=\"text-align: right;\">\n",
       "      <th></th>\n",
       "      <th>P_ID</th>\n",
       "      <th>run_number</th>\n",
       "      <th>time_type</th>\n",
       "      <th>event_type</th>\n",
       "      <th>timestamp</th>\n",
       "      <th>timestamp_dt</th>\n",
       "      <th>day</th>\n",
       "      <th>hour</th>\n",
       "      <th>weekday</th>\n",
       "      <th>month</th>\n",
       "      <th>qtr</th>\n",
       "      <th>callsign_group</th>\n",
       "      <th>vehicle_type</th>\n",
       "      <th>ampds_card</th>\n",
       "      <th>age</th>\n",
       "      <th>sex</th>\n",
       "      <th>hems_result</th>\n",
       "      <th>outcome</th>\n",
       "    </tr>\n",
       "  </thead>\n",
       "  <tbody>\n",
       "    <tr>\n",
       "      <th>0</th>\n",
       "      <td>22</td>\n",
       "      <td>1</td>\n",
       "      <td>71</td>\n",
       "      <td>resource_preferred_resource_group</td>\n",
       "      <td>7740.0</td>\n",
       "      <td>2025-02-22 17:00:00</td>\n",
       "      <td>Sat</td>\n",
       "      <td>17</td>\n",
       "      <td>weekend</td>\n",
       "      <td>2</td>\n",
       "      <td>1</td>\n",
       "      <td>NaN</td>\n",
       "      <td>NaN</td>\n",
       "      <td>31</td>\n",
       "      <td>65.0</td>\n",
       "      <td>Female</td>\n",
       "      <td>NaN</td>\n",
       "      <td>NaN</td>\n",
       "    </tr>\n",
       "    <tr>\n",
       "      <th>1</th>\n",
       "      <td>22</td>\n",
       "      <td>1</td>\n",
       "      <td>helicopter</td>\n",
       "      <td>resource_preferred_vehicle_type</td>\n",
       "      <td>7740.0</td>\n",
       "      <td>2025-02-22 17:00:00</td>\n",
       "      <td>Sat</td>\n",
       "      <td>17</td>\n",
       "      <td>weekend</td>\n",
       "      <td>2</td>\n",
       "      <td>1</td>\n",
       "      <td>NaN</td>\n",
       "      <td>NaN</td>\n",
       "      <td>31</td>\n",
       "      <td>65.0</td>\n",
       "      <td>Female</td>\n",
       "      <td>NaN</td>\n",
       "      <td>NaN</td>\n",
       "    </tr>\n",
       "    <tr>\n",
       "      <th>2</th>\n",
       "      <td>22</td>\n",
       "      <td>1</td>\n",
       "      <td>Preferred resource not and available but other...</td>\n",
       "      <td>resource_preferred_outcome</td>\n",
       "      <td>7740.1</td>\n",
       "      <td>2025-02-22 17:00:06</td>\n",
       "      <td>Sat</td>\n",
       "      <td>17</td>\n",
       "      <td>weekend</td>\n",
       "      <td>2</td>\n",
       "      <td>1</td>\n",
       "      <td>NaN</td>\n",
       "      <td>NaN</td>\n",
       "      <td>31</td>\n",
       "      <td>65.0</td>\n",
       "      <td>Female</td>\n",
       "      <td>NaN</td>\n",
       "      <td>NaN</td>\n",
       "    </tr>\n",
       "    <tr>\n",
       "      <th>3</th>\n",
       "      <td>22</td>\n",
       "      <td>1</td>\n",
       "      <td>arrival</td>\n",
       "      <td>arrival_departure</td>\n",
       "      <td>7740.1</td>\n",
       "      <td>2025-02-22 17:00:06</td>\n",
       "      <td>Sat</td>\n",
       "      <td>17</td>\n",
       "      <td>weekend</td>\n",
       "      <td>2</td>\n",
       "      <td>1</td>\n",
       "      <td>NaN</td>\n",
       "      <td>NaN</td>\n",
       "      <td>31</td>\n",
       "      <td>65.0</td>\n",
       "      <td>Female</td>\n",
       "      <td>NaN</td>\n",
       "      <td>NaN</td>\n",
       "    </tr>\n",
       "    <tr>\n",
       "      <th>4</th>\n",
       "      <td>22</td>\n",
       "      <td>1</td>\n",
       "      <td>No HEMS available</td>\n",
       "      <td>queue</td>\n",
       "      <td>7740.1</td>\n",
       "      <td>2025-02-22 17:00:06</td>\n",
       "      <td>Sat</td>\n",
       "      <td>17</td>\n",
       "      <td>weekend</td>\n",
       "      <td>2</td>\n",
       "      <td>1</td>\n",
       "      <td>NaN</td>\n",
       "      <td>NaN</td>\n",
       "      <td>31</td>\n",
       "      <td>65.0</td>\n",
       "      <td>Female</td>\n",
       "      <td>NaN</td>\n",
       "      <td>NaN</td>\n",
       "    </tr>\n",
       "    <tr>\n",
       "      <th>...</th>\n",
       "      <td>...</td>\n",
       "      <td>...</td>\n",
       "      <td>...</td>\n",
       "      <td>...</td>\n",
       "      <td>...</td>\n",
       "      <td>...</td>\n",
       "      <td>...</td>\n",
       "      <td>...</td>\n",
       "      <td>...</td>\n",
       "      <td>...</td>\n",
       "      <td>...</td>\n",
       "      <td>...</td>\n",
       "      <td>...</td>\n",
       "      <td>...</td>\n",
       "      <td>...</td>\n",
       "      <td>...</td>\n",
       "      <td>...</td>\n",
       "      <td>...</td>\n",
       "    </tr>\n",
       "    <tr>\n",
       "      <th>17460</th>\n",
       "      <td>1705</td>\n",
       "      <td>20</td>\n",
       "      <td>Preferred resource not and available but other...</td>\n",
       "      <td>resource_preferred_outcome</td>\n",
       "      <td>524700.1</td>\n",
       "      <td>2026-02-16 17:00:06</td>\n",
       "      <td>Mon</td>\n",
       "      <td>17</td>\n",
       "      <td>weekday</td>\n",
       "      <td>2</td>\n",
       "      <td>1</td>\n",
       "      <td>NaN</td>\n",
       "      <td>NaN</td>\n",
       "      <td>9</td>\n",
       "      <td>69.0</td>\n",
       "      <td>Male</td>\n",
       "      <td>NaN</td>\n",
       "      <td>NaN</td>\n",
       "    </tr>\n",
       "    <tr>\n",
       "      <th>17461</th>\n",
       "      <td>1705</td>\n",
       "      <td>20</td>\n",
       "      <td>arrival</td>\n",
       "      <td>arrival_departure</td>\n",
       "      <td>524700.1</td>\n",
       "      <td>2026-02-16 17:00:06</td>\n",
       "      <td>Mon</td>\n",
       "      <td>17</td>\n",
       "      <td>weekday</td>\n",
       "      <td>2</td>\n",
       "      <td>1</td>\n",
       "      <td>NaN</td>\n",
       "      <td>NaN</td>\n",
       "      <td>9</td>\n",
       "      <td>69.0</td>\n",
       "      <td>Male</td>\n",
       "      <td>NaN</td>\n",
       "      <td>NaN</td>\n",
       "    </tr>\n",
       "    <tr>\n",
       "      <th>17462</th>\n",
       "      <td>1705</td>\n",
       "      <td>20</td>\n",
       "      <td>No HEMS available</td>\n",
       "      <td>queue</td>\n",
       "      <td>524700.1</td>\n",
       "      <td>2026-02-16 17:00:06</td>\n",
       "      <td>Mon</td>\n",
       "      <td>17</td>\n",
       "      <td>weekday</td>\n",
       "      <td>2</td>\n",
       "      <td>1</td>\n",
       "      <td>NaN</td>\n",
       "      <td>NaN</td>\n",
       "      <td>9</td>\n",
       "      <td>69.0</td>\n",
       "      <td>Male</td>\n",
       "      <td>NaN</td>\n",
       "      <td>NaN</td>\n",
       "    </tr>\n",
       "    <tr>\n",
       "      <th>17463</th>\n",
       "      <td>1705</td>\n",
       "      <td>20</td>\n",
       "      <td>depart</td>\n",
       "      <td>arrival_departure</td>\n",
       "      <td>524700.1</td>\n",
       "      <td>2026-02-16 17:00:06</td>\n",
       "      <td>Mon</td>\n",
       "      <td>17</td>\n",
       "      <td>weekday</td>\n",
       "      <td>2</td>\n",
       "      <td>1</td>\n",
       "      <td>NaN</td>\n",
       "      <td>NaN</td>\n",
       "      <td>9</td>\n",
       "      <td>69.0</td>\n",
       "      <td>Male</td>\n",
       "      <td>NaN</td>\n",
       "      <td>NaN</td>\n",
       "    </tr>\n",
       "    <tr>\n",
       "      <th>17464</th>\n",
       "      <td>1705</td>\n",
       "      <td>20</td>\n",
       "      <td>depart</td>\n",
       "      <td>arrival_departure</td>\n",
       "      <td>524700.1</td>\n",
       "      <td>2026-02-16 17:00:06</td>\n",
       "      <td>Mon</td>\n",
       "      <td>17</td>\n",
       "      <td>weekday</td>\n",
       "      <td>2</td>\n",
       "      <td>1</td>\n",
       "      <td>NaN</td>\n",
       "      <td>NaN</td>\n",
       "      <td>9</td>\n",
       "      <td>69.0</td>\n",
       "      <td>Male</td>\n",
       "      <td>NaN</td>\n",
       "      <td>NaN</td>\n",
       "    </tr>\n",
       "  </tbody>\n",
       "</table>\n",
       "<p>26684 rows × 18 columns</p>\n",
       "</div>"
      ],
      "text/plain": [
       "       P_ID  run_number                                          time_type  \\\n",
       "0        22           1                                                 71   \n",
       "1        22           1                                         helicopter   \n",
       "2        22           1  Preferred resource not and available but other...   \n",
       "3        22           1                                            arrival   \n",
       "4        22           1                                  No HEMS available   \n",
       "...     ...         ...                                                ...   \n",
       "17460  1705          20  Preferred resource not and available but other...   \n",
       "17461  1705          20                                            arrival   \n",
       "17462  1705          20                                  No HEMS available   \n",
       "17463  1705          20                                             depart   \n",
       "17464  1705          20                                             depart   \n",
       "\n",
       "                              event_type  timestamp         timestamp_dt  day  \\\n",
       "0      resource_preferred_resource_group     7740.0  2025-02-22 17:00:00  Sat   \n",
       "1        resource_preferred_vehicle_type     7740.0  2025-02-22 17:00:00  Sat   \n",
       "2             resource_preferred_outcome     7740.1  2025-02-22 17:00:06  Sat   \n",
       "3                      arrival_departure     7740.1  2025-02-22 17:00:06  Sat   \n",
       "4                                  queue     7740.1  2025-02-22 17:00:06  Sat   \n",
       "...                                  ...        ...                  ...  ...   \n",
       "17460         resource_preferred_outcome   524700.1  2026-02-16 17:00:06  Mon   \n",
       "17461                  arrival_departure   524700.1  2026-02-16 17:00:06  Mon   \n",
       "17462                              queue   524700.1  2026-02-16 17:00:06  Mon   \n",
       "17463                  arrival_departure   524700.1  2026-02-16 17:00:06  Mon   \n",
       "17464                  arrival_departure   524700.1  2026-02-16 17:00:06  Mon   \n",
       "\n",
       "       hour  weekday  month  qtr  callsign_group vehicle_type  ampds_card  \\\n",
       "0        17  weekend      2    1             NaN          NaN          31   \n",
       "1        17  weekend      2    1             NaN          NaN          31   \n",
       "2        17  weekend      2    1             NaN          NaN          31   \n",
       "3        17  weekend      2    1             NaN          NaN          31   \n",
       "4        17  weekend      2    1             NaN          NaN          31   \n",
       "...     ...      ...    ...  ...             ...          ...         ...   \n",
       "17460    17  weekday      2    1             NaN          NaN           9   \n",
       "17461    17  weekday      2    1             NaN          NaN           9   \n",
       "17462    17  weekday      2    1             NaN          NaN           9   \n",
       "17463    17  weekday      2    1             NaN          NaN           9   \n",
       "17464    17  weekday      2    1             NaN          NaN           9   \n",
       "\n",
       "        age     sex hems_result outcome  \n",
       "0      65.0  Female         NaN     NaN  \n",
       "1      65.0  Female         NaN     NaN  \n",
       "2      65.0  Female         NaN     NaN  \n",
       "3      65.0  Female         NaN     NaN  \n",
       "4      65.0  Female         NaN     NaN  \n",
       "...     ...     ...         ...     ...  \n",
       "17460  69.0    Male         NaN     NaN  \n",
       "17461  69.0    Male         NaN     NaN  \n",
       "17462  69.0    Male         NaN     NaN  \n",
       "17463  69.0    Male         NaN     NaN  \n",
       "17464  69.0    Male         NaN     NaN  \n",
       "\n",
       "[26684 rows x 18 columns]"
      ]
     },
     "execution_count": 57,
     "metadata": {},
     "output_type": "execute_result"
    }
   ],
   "source": [
    "no_callsign_full = no_callsign.merge(run_results, how=\"inner\").sort_values([\"run_number\", \"P_ID\", \"timestamp\"] )\n"
   ]
  },
  {
   "cell_type": "code",
   "execution_count": 72,
   "metadata": {},
   "outputs": [
    {
     "data": {
      "text/html": [
       "<div>\n",
       "<style scoped>\n",
       "    .dataframe tbody tr th:only-of-type {\n",
       "        vertical-align: middle;\n",
       "    }\n",
       "\n",
       "    .dataframe tbody tr th {\n",
       "        vertical-align: top;\n",
       "    }\n",
       "\n",
       "    .dataframe thead th {\n",
       "        text-align: right;\n",
       "    }\n",
       "</style>\n",
       "<table border=\"1\" class=\"dataframe\">\n",
       "  <thead>\n",
       "    <tr style=\"text-align: right;\">\n",
       "      <th></th>\n",
       "      <th>P_ID</th>\n",
       "      <th>run_number</th>\n",
       "    </tr>\n",
       "  </thead>\n",
       "  <tbody>\n",
       "    <tr>\n",
       "      <th>0</th>\n",
       "      <td>22</td>\n",
       "      <td>1</td>\n",
       "    </tr>\n",
       "    <tr>\n",
       "      <th>7</th>\n",
       "      <td>23</td>\n",
       "      <td>1</td>\n",
       "    </tr>\n",
       "    <tr>\n",
       "      <th>14</th>\n",
       "      <td>31</td>\n",
       "      <td>1</td>\n",
       "    </tr>\n",
       "    <tr>\n",
       "      <th>21</th>\n",
       "      <td>33</td>\n",
       "      <td>1</td>\n",
       "    </tr>\n",
       "    <tr>\n",
       "      <th>28</th>\n",
       "      <td>37</td>\n",
       "      <td>1</td>\n",
       "    </tr>\n",
       "    <tr>\n",
       "      <th>...</th>\n",
       "      <td>...</td>\n",
       "      <td>...</td>\n",
       "    </tr>\n",
       "    <tr>\n",
       "      <th>17430</th>\n",
       "      <td>1623</td>\n",
       "      <td>20</td>\n",
       "    </tr>\n",
       "    <tr>\n",
       "      <th>17437</th>\n",
       "      <td>1646</td>\n",
       "      <td>20</td>\n",
       "    </tr>\n",
       "    <tr>\n",
       "      <th>17444</th>\n",
       "      <td>1680</td>\n",
       "      <td>20</td>\n",
       "    </tr>\n",
       "    <tr>\n",
       "      <th>17451</th>\n",
       "      <td>1688</td>\n",
       "      <td>20</td>\n",
       "    </tr>\n",
       "    <tr>\n",
       "      <th>17458</th>\n",
       "      <td>1705</td>\n",
       "      <td>20</td>\n",
       "    </tr>\n",
       "  </tbody>\n",
       "</table>\n",
       "<p>3812 rows × 2 columns</p>\n",
       "</div>"
      ],
      "text/plain": [
       "       P_ID  run_number\n",
       "0        22           1\n",
       "7        23           1\n",
       "14       31           1\n",
       "21       33           1\n",
       "28       37           1\n",
       "...     ...         ...\n",
       "17430  1623          20\n",
       "17437  1646          20\n",
       "17444  1680          20\n",
       "17451  1688          20\n",
       "17458  1705          20\n",
       "\n",
       "[3812 rows x 2 columns]"
      ]
     },
     "execution_count": 72,
     "metadata": {},
     "output_type": "execute_result"
    }
   ],
   "source": [
    "no_callsign_full[['P_ID', 'run_number']].drop_duplicates()"
   ]
  },
  {
   "cell_type": "code",
   "execution_count": 64,
   "metadata": {},
   "outputs": [
    {
     "data": {
      "text/html": [
       "<div>\n",
       "<style scoped>\n",
       "    .dataframe tbody tr th:only-of-type {\n",
       "        vertical-align: middle;\n",
       "    }\n",
       "\n",
       "    .dataframe tbody tr th {\n",
       "        vertical-align: top;\n",
       "    }\n",
       "\n",
       "    .dataframe thead th {\n",
       "        text-align: right;\n",
       "    }\n",
       "</style>\n",
       "<table border=\"1\" class=\"dataframe\">\n",
       "  <thead>\n",
       "    <tr style=\"text-align: right;\">\n",
       "      <th></th>\n",
       "      <th>P_ID</th>\n",
       "      <th>run_number</th>\n",
       "      <th>time_type</th>\n",
       "      <th>event_type</th>\n",
       "      <th>timestamp</th>\n",
       "      <th>timestamp_dt</th>\n",
       "      <th>day</th>\n",
       "      <th>hour</th>\n",
       "      <th>weekday</th>\n",
       "      <th>month</th>\n",
       "      <th>qtr</th>\n",
       "      <th>callsign_group</th>\n",
       "      <th>vehicle_type</th>\n",
       "      <th>ampds_card</th>\n",
       "      <th>age</th>\n",
       "      <th>sex</th>\n",
       "      <th>hems_result</th>\n",
       "      <th>outcome</th>\n",
       "    </tr>\n",
       "  </thead>\n",
       "  <tbody>\n",
       "    <tr>\n",
       "      <th>0</th>\n",
       "      <td>22</td>\n",
       "      <td>1</td>\n",
       "      <td>71</td>\n",
       "      <td>resource_preferred_resource_group</td>\n",
       "      <td>7740.0</td>\n",
       "      <td>2025-02-22 17:00:00</td>\n",
       "      <td>Sat</td>\n",
       "      <td>17</td>\n",
       "      <td>weekend</td>\n",
       "      <td>2</td>\n",
       "      <td>1</td>\n",
       "      <td>NaN</td>\n",
       "      <td>NaN</td>\n",
       "      <td>31</td>\n",
       "      <td>65.0</td>\n",
       "      <td>Female</td>\n",
       "      <td>NaN</td>\n",
       "      <td>NaN</td>\n",
       "    </tr>\n",
       "    <tr>\n",
       "      <th>1</th>\n",
       "      <td>22</td>\n",
       "      <td>1</td>\n",
       "      <td>helicopter</td>\n",
       "      <td>resource_preferred_vehicle_type</td>\n",
       "      <td>7740.0</td>\n",
       "      <td>2025-02-22 17:00:00</td>\n",
       "      <td>Sat</td>\n",
       "      <td>17</td>\n",
       "      <td>weekend</td>\n",
       "      <td>2</td>\n",
       "      <td>1</td>\n",
       "      <td>NaN</td>\n",
       "      <td>NaN</td>\n",
       "      <td>31</td>\n",
       "      <td>65.0</td>\n",
       "      <td>Female</td>\n",
       "      <td>NaN</td>\n",
       "      <td>NaN</td>\n",
       "    </tr>\n",
       "    <tr>\n",
       "      <th>2</th>\n",
       "      <td>22</td>\n",
       "      <td>1</td>\n",
       "      <td>Preferred resource not and available but other...</td>\n",
       "      <td>resource_preferred_outcome</td>\n",
       "      <td>7740.1</td>\n",
       "      <td>2025-02-22 17:00:06</td>\n",
       "      <td>Sat</td>\n",
       "      <td>17</td>\n",
       "      <td>weekend</td>\n",
       "      <td>2</td>\n",
       "      <td>1</td>\n",
       "      <td>NaN</td>\n",
       "      <td>NaN</td>\n",
       "      <td>31</td>\n",
       "      <td>65.0</td>\n",
       "      <td>Female</td>\n",
       "      <td>NaN</td>\n",
       "      <td>NaN</td>\n",
       "    </tr>\n",
       "    <tr>\n",
       "      <th>3</th>\n",
       "      <td>22</td>\n",
       "      <td>1</td>\n",
       "      <td>arrival</td>\n",
       "      <td>arrival_departure</td>\n",
       "      <td>7740.1</td>\n",
       "      <td>2025-02-22 17:00:06</td>\n",
       "      <td>Sat</td>\n",
       "      <td>17</td>\n",
       "      <td>weekend</td>\n",
       "      <td>2</td>\n",
       "      <td>1</td>\n",
       "      <td>NaN</td>\n",
       "      <td>NaN</td>\n",
       "      <td>31</td>\n",
       "      <td>65.0</td>\n",
       "      <td>Female</td>\n",
       "      <td>NaN</td>\n",
       "      <td>NaN</td>\n",
       "    </tr>\n",
       "    <tr>\n",
       "      <th>4</th>\n",
       "      <td>22</td>\n",
       "      <td>1</td>\n",
       "      <td>No HEMS available</td>\n",
       "      <td>queue</td>\n",
       "      <td>7740.1</td>\n",
       "      <td>2025-02-22 17:00:06</td>\n",
       "      <td>Sat</td>\n",
       "      <td>17</td>\n",
       "      <td>weekend</td>\n",
       "      <td>2</td>\n",
       "      <td>1</td>\n",
       "      <td>NaN</td>\n",
       "      <td>NaN</td>\n",
       "      <td>31</td>\n",
       "      <td>65.0</td>\n",
       "      <td>Female</td>\n",
       "      <td>NaN</td>\n",
       "      <td>NaN</td>\n",
       "    </tr>\n",
       "    <tr>\n",
       "      <th>5</th>\n",
       "      <td>22</td>\n",
       "      <td>1</td>\n",
       "      <td>depart</td>\n",
       "      <td>arrival_departure</td>\n",
       "      <td>7740.1</td>\n",
       "      <td>2025-02-22 17:00:06</td>\n",
       "      <td>Sat</td>\n",
       "      <td>17</td>\n",
       "      <td>weekend</td>\n",
       "      <td>2</td>\n",
       "      <td>1</td>\n",
       "      <td>NaN</td>\n",
       "      <td>NaN</td>\n",
       "      <td>31</td>\n",
       "      <td>65.0</td>\n",
       "      <td>Female</td>\n",
       "      <td>NaN</td>\n",
       "      <td>NaN</td>\n",
       "    </tr>\n",
       "    <tr>\n",
       "      <th>6</th>\n",
       "      <td>22</td>\n",
       "      <td>1</td>\n",
       "      <td>depart</td>\n",
       "      <td>arrival_departure</td>\n",
       "      <td>7740.1</td>\n",
       "      <td>2025-02-22 17:00:06</td>\n",
       "      <td>Sat</td>\n",
       "      <td>17</td>\n",
       "      <td>weekend</td>\n",
       "      <td>2</td>\n",
       "      <td>1</td>\n",
       "      <td>NaN</td>\n",
       "      <td>NaN</td>\n",
       "      <td>31</td>\n",
       "      <td>65.0</td>\n",
       "      <td>Female</td>\n",
       "      <td>NaN</td>\n",
       "      <td>NaN</td>\n",
       "    </tr>\n",
       "  </tbody>\n",
       "</table>\n",
       "</div>"
      ],
      "text/plain": [
       "   P_ID  run_number                                          time_type  \\\n",
       "0    22           1                                                 71   \n",
       "1    22           1                                         helicopter   \n",
       "2    22           1  Preferred resource not and available but other...   \n",
       "3    22           1                                            arrival   \n",
       "4    22           1                                  No HEMS available   \n",
       "5    22           1                                             depart   \n",
       "6    22           1                                             depart   \n",
       "\n",
       "                          event_type  timestamp         timestamp_dt  day  \\\n",
       "0  resource_preferred_resource_group     7740.0  2025-02-22 17:00:00  Sat   \n",
       "1    resource_preferred_vehicle_type     7740.0  2025-02-22 17:00:00  Sat   \n",
       "2         resource_preferred_outcome     7740.1  2025-02-22 17:00:06  Sat   \n",
       "3                  arrival_departure     7740.1  2025-02-22 17:00:06  Sat   \n",
       "4                              queue     7740.1  2025-02-22 17:00:06  Sat   \n",
       "5                  arrival_departure     7740.1  2025-02-22 17:00:06  Sat   \n",
       "6                  arrival_departure     7740.1  2025-02-22 17:00:06  Sat   \n",
       "\n",
       "   hour  weekday  month  qtr  callsign_group vehicle_type  ampds_card   age  \\\n",
       "0    17  weekend      2    1             NaN          NaN          31  65.0   \n",
       "1    17  weekend      2    1             NaN          NaN          31  65.0   \n",
       "2    17  weekend      2    1             NaN          NaN          31  65.0   \n",
       "3    17  weekend      2    1             NaN          NaN          31  65.0   \n",
       "4    17  weekend      2    1             NaN          NaN          31  65.0   \n",
       "5    17  weekend      2    1             NaN          NaN          31  65.0   \n",
       "6    17  weekend      2    1             NaN          NaN          31  65.0   \n",
       "\n",
       "      sex hems_result outcome  \n",
       "0  Female         NaN     NaN  \n",
       "1  Female         NaN     NaN  \n",
       "2  Female         NaN     NaN  \n",
       "3  Female         NaN     NaN  \n",
       "4  Female         NaN     NaN  \n",
       "5  Female         NaN     NaN  \n",
       "6  Female         NaN     NaN  "
      ]
     },
     "execution_count": 64,
     "metadata": {},
     "output_type": "execute_result"
    }
   ],
   "source": [
    "\n",
    "filtered_df = no_callsign_full[(no_callsign_full[\"P_ID\"] == 22) & (no_callsign_full[\"run_number\"] == 1)]\n",
    "filtered_df['time_type'].astype('str')\n",
    "filtered_df"
   ]
  },
  {
   "cell_type": "code",
   "execution_count": 69,
   "metadata": {},
   "outputs": [
    {
     "data": {
      "text/plain": [
       "time_type\n",
       "Preferred resource not and available but other resource in same group allocated    2004\n",
       "Preferred resource available and allocated                                         1745\n",
       "No resource in group available                                                       63\n",
       "Name: count, dtype: int64"
      ]
     },
     "execution_count": 69,
     "metadata": {},
     "output_type": "execute_result"
    }
   ],
   "source": [
    "no_callsign_full[no_callsign_full[\"event_type\"] == \"resource_preferred_outcome\"]['time_type'].value_counts()"
   ]
  },
  {
   "cell_type": "code",
   "execution_count": 73,
   "metadata": {},
   "outputs": [
    {
     "data": {
      "text/html": [
       "<div>\n",
       "<style scoped>\n",
       "    .dataframe tbody tr th:only-of-type {\n",
       "        vertical-align: middle;\n",
       "    }\n",
       "\n",
       "    .dataframe tbody tr th {\n",
       "        vertical-align: top;\n",
       "    }\n",
       "\n",
       "    .dataframe thead th {\n",
       "        text-align: right;\n",
       "    }\n",
       "</style>\n",
       "<table border=\"1\" class=\"dataframe\">\n",
       "  <thead>\n",
       "    <tr style=\"text-align: right;\">\n",
       "      <th></th>\n",
       "      <th>P_ID</th>\n",
       "      <th>run_number</th>\n",
       "      <th>time_type</th>\n",
       "      <th>event_type</th>\n",
       "      <th>timestamp</th>\n",
       "      <th>timestamp_dt</th>\n",
       "      <th>day</th>\n",
       "      <th>hour</th>\n",
       "      <th>weekday</th>\n",
       "      <th>month</th>\n",
       "      <th>qtr</th>\n",
       "      <th>callsign_group</th>\n",
       "      <th>vehicle_type</th>\n",
       "      <th>ampds_card</th>\n",
       "      <th>age</th>\n",
       "      <th>sex</th>\n",
       "      <th>hems_result</th>\n",
       "      <th>outcome</th>\n",
       "    </tr>\n",
       "  </thead>\n",
       "  <tbody>\n",
       "    <tr>\n",
       "      <th>7</th>\n",
       "      <td>23</td>\n",
       "      <td>1</td>\n",
       "      <td>70</td>\n",
       "      <td>resource_preferred_resource_group</td>\n",
       "      <td>7740.0</td>\n",
       "      <td>2025-02-22 17:00:00</td>\n",
       "      <td>Sat</td>\n",
       "      <td>17</td>\n",
       "      <td>weekend</td>\n",
       "      <td>2</td>\n",
       "      <td>1</td>\n",
       "      <td>NaN</td>\n",
       "      <td>NaN</td>\n",
       "      <td>9</td>\n",
       "      <td>48.0</td>\n",
       "      <td>Male</td>\n",
       "      <td>NaN</td>\n",
       "      <td>NaN</td>\n",
       "    </tr>\n",
       "    <tr>\n",
       "      <th>8</th>\n",
       "      <td>23</td>\n",
       "      <td>1</td>\n",
       "      <td>car</td>\n",
       "      <td>resource_preferred_vehicle_type</td>\n",
       "      <td>7740.0</td>\n",
       "      <td>2025-02-22 17:00:00</td>\n",
       "      <td>Sat</td>\n",
       "      <td>17</td>\n",
       "      <td>weekend</td>\n",
       "      <td>2</td>\n",
       "      <td>1</td>\n",
       "      <td>NaN</td>\n",
       "      <td>NaN</td>\n",
       "      <td>9</td>\n",
       "      <td>48.0</td>\n",
       "      <td>Male</td>\n",
       "      <td>NaN</td>\n",
       "      <td>NaN</td>\n",
       "    </tr>\n",
       "    <tr>\n",
       "      <th>9</th>\n",
       "      <td>23</td>\n",
       "      <td>1</td>\n",
       "      <td>Preferred resource available and allocated</td>\n",
       "      <td>resource_preferred_outcome</td>\n",
       "      <td>7740.1</td>\n",
       "      <td>2025-02-22 17:00:06</td>\n",
       "      <td>Sat</td>\n",
       "      <td>17</td>\n",
       "      <td>weekend</td>\n",
       "      <td>2</td>\n",
       "      <td>1</td>\n",
       "      <td>NaN</td>\n",
       "      <td>NaN</td>\n",
       "      <td>9</td>\n",
       "      <td>48.0</td>\n",
       "      <td>Male</td>\n",
       "      <td>NaN</td>\n",
       "      <td>NaN</td>\n",
       "    </tr>\n",
       "    <tr>\n",
       "      <th>10</th>\n",
       "      <td>23</td>\n",
       "      <td>1</td>\n",
       "      <td>arrival</td>\n",
       "      <td>arrival_departure</td>\n",
       "      <td>7740.1</td>\n",
       "      <td>2025-02-22 17:00:06</td>\n",
       "      <td>Sat</td>\n",
       "      <td>17</td>\n",
       "      <td>weekend</td>\n",
       "      <td>2</td>\n",
       "      <td>1</td>\n",
       "      <td>NaN</td>\n",
       "      <td>NaN</td>\n",
       "      <td>9</td>\n",
       "      <td>48.0</td>\n",
       "      <td>Male</td>\n",
       "      <td>NaN</td>\n",
       "      <td>NaN</td>\n",
       "    </tr>\n",
       "    <tr>\n",
       "      <th>11</th>\n",
       "      <td>23</td>\n",
       "      <td>1</td>\n",
       "      <td>No HEMS available</td>\n",
       "      <td>queue</td>\n",
       "      <td>7740.1</td>\n",
       "      <td>2025-02-22 17:00:06</td>\n",
       "      <td>Sat</td>\n",
       "      <td>17</td>\n",
       "      <td>weekend</td>\n",
       "      <td>2</td>\n",
       "      <td>1</td>\n",
       "      <td>NaN</td>\n",
       "      <td>NaN</td>\n",
       "      <td>9</td>\n",
       "      <td>48.0</td>\n",
       "      <td>Male</td>\n",
       "      <td>NaN</td>\n",
       "      <td>NaN</td>\n",
       "    </tr>\n",
       "    <tr>\n",
       "      <th>12</th>\n",
       "      <td>23</td>\n",
       "      <td>1</td>\n",
       "      <td>depart</td>\n",
       "      <td>arrival_departure</td>\n",
       "      <td>7740.1</td>\n",
       "      <td>2025-02-22 17:00:06</td>\n",
       "      <td>Sat</td>\n",
       "      <td>17</td>\n",
       "      <td>weekend</td>\n",
       "      <td>2</td>\n",
       "      <td>1</td>\n",
       "      <td>NaN</td>\n",
       "      <td>NaN</td>\n",
       "      <td>9</td>\n",
       "      <td>48.0</td>\n",
       "      <td>Male</td>\n",
       "      <td>NaN</td>\n",
       "      <td>NaN</td>\n",
       "    </tr>\n",
       "    <tr>\n",
       "      <th>13</th>\n",
       "      <td>23</td>\n",
       "      <td>1</td>\n",
       "      <td>depart</td>\n",
       "      <td>arrival_departure</td>\n",
       "      <td>7740.1</td>\n",
       "      <td>2025-02-22 17:00:06</td>\n",
       "      <td>Sat</td>\n",
       "      <td>17</td>\n",
       "      <td>weekend</td>\n",
       "      <td>2</td>\n",
       "      <td>1</td>\n",
       "      <td>NaN</td>\n",
       "      <td>NaN</td>\n",
       "      <td>9</td>\n",
       "      <td>48.0</td>\n",
       "      <td>Male</td>\n",
       "      <td>NaN</td>\n",
       "      <td>NaN</td>\n",
       "    </tr>\n",
       "  </tbody>\n",
       "</table>\n",
       "</div>"
      ],
      "text/plain": [
       "    P_ID  run_number                                   time_type  \\\n",
       "7     23           1                                          70   \n",
       "8     23           1                                         car   \n",
       "9     23           1  Preferred resource available and allocated   \n",
       "10    23           1                                     arrival   \n",
       "11    23           1                           No HEMS available   \n",
       "12    23           1                                      depart   \n",
       "13    23           1                                      depart   \n",
       "\n",
       "                           event_type  timestamp         timestamp_dt  day  \\\n",
       "7   resource_preferred_resource_group     7740.0  2025-02-22 17:00:00  Sat   \n",
       "8     resource_preferred_vehicle_type     7740.0  2025-02-22 17:00:00  Sat   \n",
       "9          resource_preferred_outcome     7740.1  2025-02-22 17:00:06  Sat   \n",
       "10                  arrival_departure     7740.1  2025-02-22 17:00:06  Sat   \n",
       "11                              queue     7740.1  2025-02-22 17:00:06  Sat   \n",
       "12                  arrival_departure     7740.1  2025-02-22 17:00:06  Sat   \n",
       "13                  arrival_departure     7740.1  2025-02-22 17:00:06  Sat   \n",
       "\n",
       "    hour  weekday  month  qtr  callsign_group vehicle_type  ampds_card   age  \\\n",
       "7     17  weekend      2    1             NaN          NaN           9  48.0   \n",
       "8     17  weekend      2    1             NaN          NaN           9  48.0   \n",
       "9     17  weekend      2    1             NaN          NaN           9  48.0   \n",
       "10    17  weekend      2    1             NaN          NaN           9  48.0   \n",
       "11    17  weekend      2    1             NaN          NaN           9  48.0   \n",
       "12    17  weekend      2    1             NaN          NaN           9  48.0   \n",
       "13    17  weekend      2    1             NaN          NaN           9  48.0   \n",
       "\n",
       "     sex hems_result outcome  \n",
       "7   Male         NaN     NaN  \n",
       "8   Male         NaN     NaN  \n",
       "9   Male         NaN     NaN  \n",
       "10  Male         NaN     NaN  \n",
       "11  Male         NaN     NaN  \n",
       "12  Male         NaN     NaN  \n",
       "13  Male         NaN     NaN  "
      ]
     },
     "execution_count": 73,
     "metadata": {},
     "output_type": "execute_result"
    }
   ],
   "source": [
    "\n",
    "filtered_df = no_callsign_full[(no_callsign_full[\"P_ID\"] == 23) & (no_callsign_full[\"run_number\"] == 1)]\n",
    "filtered_df['time_type'].astype('str')\n",
    "filtered_df"
   ]
  },
  {
   "cell_type": "code",
   "execution_count": 65,
   "metadata": {},
   "outputs": [
    {
     "data": {
      "application/vnd.plotly.v1+json": {
       "config": {
        "plotlyServerURL": "https://plot.ly"
       },
       "data": [
        {
         "hovertemplate": "event_type=resource_preferred_resource_group<br>timestamp_dt=%{x}<br>time_type=%{y}<extra></extra>",
         "legendgroup": "resource_preferred_resource_group",
         "marker": {
          "color": "#000001",
          "symbol": "circle"
         },
         "mode": "markers",
         "name": "resource_preferred_resource_group",
         "orientation": "v",
         "showlegend": true,
         "type": "scatter",
         "x": [
          "2025-02-22 17:00:00"
         ],
         "xaxis": "x",
         "y": [
          "71"
         ],
         "yaxis": "y"
        },
        {
         "hovertemplate": "event_type=resource_preferred_vehicle_type<br>timestamp_dt=%{x}<br>time_type=%{y}<extra></extra>",
         "legendgroup": "resource_preferred_vehicle_type",
         "marker": {
          "color": "#000002",
          "symbol": "circle"
         },
         "mode": "markers",
         "name": "resource_preferred_vehicle_type",
         "orientation": "v",
         "showlegend": true,
         "type": "scatter",
         "x": [
          "2025-02-22 17:00:00"
         ],
         "xaxis": "x",
         "y": [
          "helicopter"
         ],
         "yaxis": "y"
        },
        {
         "hovertemplate": "event_type=resource_preferred_outcome<br>timestamp_dt=%{x}<br>time_type=%{y}<extra></extra>",
         "legendgroup": "resource_preferred_outcome",
         "marker": {
          "color": "#000003",
          "symbol": "circle"
         },
         "mode": "markers",
         "name": "resource_preferred_outcome",
         "orientation": "v",
         "showlegend": true,
         "type": "scatter",
         "x": [
          "2025-02-22 17:00:06"
         ],
         "xaxis": "x",
         "y": [
          "Preferred resource not and available but other resource in same group allocated"
         ],
         "yaxis": "y"
        },
        {
         "hovertemplate": "event_type=arrival_departure<br>timestamp_dt=%{x}<br>time_type=%{y}<extra></extra>",
         "legendgroup": "arrival_departure",
         "marker": {
          "color": "#000004",
          "symbol": "circle"
         },
         "mode": "markers",
         "name": "arrival_departure",
         "orientation": "v",
         "showlegend": true,
         "type": "scatter",
         "x": [
          "2025-02-22 17:00:06",
          "2025-02-22 17:00:06",
          "2025-02-22 17:00:06"
         ],
         "xaxis": "x",
         "y": [
          "arrival",
          "depart",
          "depart"
         ],
         "yaxis": "y"
        },
        {
         "hovertemplate": "event_type=queue<br>timestamp_dt=%{x}<br>time_type=%{y}<extra></extra>",
         "legendgroup": "queue",
         "marker": {
          "color": "#000005",
          "symbol": "circle"
         },
         "mode": "markers",
         "name": "queue",
         "orientation": "v",
         "showlegend": true,
         "type": "scatter",
         "x": [
          "2025-02-22 17:00:06"
         ],
         "xaxis": "x",
         "y": [
          "No HEMS available"
         ],
         "yaxis": "y"
        }
       ],
       "layout": {
        "legend": {
         "title": {
          "text": "event_type"
         },
         "tracegroupgap": 0
        },
        "margin": {
         "t": 60
        },
        "template": {
         "data": {
          "candlestick": [
           {
            "decreasing": {
             "line": {
              "color": "#000033"
             }
            },
            "increasing": {
             "line": {
              "color": "#000032"
             }
            },
            "type": "candlestick"
           }
          ],
          "contour": [
           {
            "colorscale": [
             [
              0,
              "#000011"
             ],
             [
              0.1111111111111111,
              "#000012"
             ],
             [
              0.2222222222222222,
              "#000013"
             ],
             [
              0.3333333333333333,
              "#000014"
             ],
             [
              0.4444444444444444,
              "#000015"
             ],
             [
              0.5555555555555556,
              "#000016"
             ],
             [
              0.6666666666666666,
              "#000017"
             ],
             [
              0.7777777777777778,
              "#000018"
             ],
             [
              0.8888888888888888,
              "#000019"
             ],
             [
              1,
              "#000020"
             ]
            ],
            "type": "contour"
           }
          ],
          "contourcarpet": [
           {
            "colorscale": [
             [
              0,
              "#000011"
             ],
             [
              0.1111111111111111,
              "#000012"
             ],
             [
              0.2222222222222222,
              "#000013"
             ],
             [
              0.3333333333333333,
              "#000014"
             ],
             [
              0.4444444444444444,
              "#000015"
             ],
             [
              0.5555555555555556,
              "#000016"
             ],
             [
              0.6666666666666666,
              "#000017"
             ],
             [
              0.7777777777777778,
              "#000018"
             ],
             [
              0.8888888888888888,
              "#000019"
             ],
             [
              1,
              "#000020"
             ]
            ],
            "type": "contourcarpet"
           }
          ],
          "heatmap": [
           {
            "colorscale": [
             [
              0,
              "#000011"
             ],
             [
              0.1111111111111111,
              "#000012"
             ],
             [
              0.2222222222222222,
              "#000013"
             ],
             [
              0.3333333333333333,
              "#000014"
             ],
             [
              0.4444444444444444,
              "#000015"
             ],
             [
              0.5555555555555556,
              "#000016"
             ],
             [
              0.6666666666666666,
              "#000017"
             ],
             [
              0.7777777777777778,
              "#000018"
             ],
             [
              0.8888888888888888,
              "#000019"
             ],
             [
              1,
              "#000020"
             ]
            ],
            "type": "heatmap"
           }
          ],
          "histogram2d": [
           {
            "colorscale": [
             [
              0,
              "#000011"
             ],
             [
              0.1111111111111111,
              "#000012"
             ],
             [
              0.2222222222222222,
              "#000013"
             ],
             [
              0.3333333333333333,
              "#000014"
             ],
             [
              0.4444444444444444,
              "#000015"
             ],
             [
              0.5555555555555556,
              "#000016"
             ],
             [
              0.6666666666666666,
              "#000017"
             ],
             [
              0.7777777777777778,
              "#000018"
             ],
             [
              0.8888888888888888,
              "#000019"
             ],
             [
              1,
              "#000020"
             ]
            ],
            "type": "histogram2d"
           }
          ],
          "icicle": [
           {
            "textfont": {
             "color": "white"
            },
            "type": "icicle"
           }
          ],
          "sankey": [
           {
            "textfont": {
             "color": "#000036"
            },
            "type": "sankey"
           }
          ],
          "scatter": [
           {
            "marker": {
             "line": {
              "width": 0
             }
            },
            "type": "scatter"
           }
          ],
          "table": [
           {
            "cells": {
             "fill": {
              "color": "#000038"
             },
             "font": {
              "color": "#000037"
             },
             "line": {
              "color": "#000039"
             }
            },
            "header": {
             "fill": {
              "color": "#000040"
             },
             "font": {
              "color": "#000036"
             },
             "line": {
              "color": "#000039"
             }
            },
            "type": "table"
           }
          ],
          "waterfall": [
           {
            "connector": {
             "line": {
              "color": "#000036",
              "width": 2
             }
            },
            "decreasing": {
             "marker": {
              "color": "#000033"
             }
            },
            "increasing": {
             "marker": {
              "color": "#000032"
             }
            },
            "totals": {
             "marker": {
              "color": "#000034"
             }
            },
            "type": "waterfall"
           }
          ]
         },
         "layout": {
          "coloraxis": {
           "colorscale": [
            [
             0,
             "#000011"
            ],
            [
             0.1111111111111111,
             "#000012"
            ],
            [
             0.2222222222222222,
             "#000013"
            ],
            [
             0.3333333333333333,
             "#000014"
            ],
            [
             0.4444444444444444,
             "#000015"
            ],
            [
             0.5555555555555556,
             "#000016"
            ],
            [
             0.6666666666666666,
             "#000017"
            ],
            [
             0.7777777777777778,
             "#000018"
            ],
            [
             0.8888888888888888,
             "#000019"
            ],
            [
             1,
             "#000020"
            ]
           ]
          },
          "colorscale": {
           "diverging": [
            [
             0,
             "#000021"
            ],
            [
             0.1,
             "#000022"
            ],
            [
             0.2,
             "#000023"
            ],
            [
             0.3,
             "#000024"
            ],
            [
             0.4,
             "#000025"
            ],
            [
             0.5,
             "#000026"
            ],
            [
             0.6,
             "#000027"
            ],
            [
             0.7,
             "#000028"
            ],
            [
             0.8,
             "#000029"
            ],
            [
             0.9,
             "#000030"
            ],
            [
             1,
             "#000031"
            ]
           ],
           "sequential": [
            [
             0,
             "#000011"
            ],
            [
             0.1111111111111111,
             "#000012"
            ],
            [
             0.2222222222222222,
             "#000013"
            ],
            [
             0.3333333333333333,
             "#000014"
            ],
            [
             0.4444444444444444,
             "#000015"
            ],
            [
             0.5555555555555556,
             "#000016"
            ],
            [
             0.6666666666666666,
             "#000017"
            ],
            [
             0.7777777777777778,
             "#000018"
            ],
            [
             0.8888888888888888,
             "#000019"
            ],
            [
             1,
             "#000020"
            ]
           ],
           "sequentialminus": [
            [
             0,
             "#000011"
            ],
            [
             0.1111111111111111,
             "#000012"
            ],
            [
             0.2222222222222222,
             "#000013"
            ],
            [
             0.3333333333333333,
             "#000014"
            ],
            [
             0.4444444444444444,
             "#000015"
            ],
            [
             0.5555555555555556,
             "#000016"
            ],
            [
             0.6666666666666666,
             "#000017"
            ],
            [
             0.7777777777777778,
             "#000018"
            ],
            [
             0.8888888888888888,
             "#000019"
            ],
            [
             1,
             "#000020"
            ]
           ]
          },
          "colorway": [
           "#000001",
           "#000002",
           "#000003",
           "#000004",
           "#000005",
           "#000006",
           "#000007",
           "#000008",
           "#000009",
           "#000010"
          ]
         }
        },
        "xaxis": {
         "anchor": "y",
         "domain": [
          0,
          1
         ],
         "title": {
          "text": "timestamp_dt"
         }
        },
        "yaxis": {
         "anchor": "x",
         "domain": [
          0,
          1
         ],
         "title": {
          "text": "time_type"
         }
        }
       }
      }
     },
     "metadata": {},
     "output_type": "display_data"
    }
   ],
   "source": [
    "px.scatter(filtered_df,\n",
    "           x=\"timestamp_dt\", y=\"time_type\", color=\"event_type\")"
   ]
  },
  {
   "cell_type": "code",
   "execution_count": 75,
   "metadata": {},
   "outputs": [
    {
     "data": {
      "text/html": [
       "<div>\n",
       "<style scoped>\n",
       "    .dataframe tbody tr th:only-of-type {\n",
       "        vertical-align: middle;\n",
       "    }\n",
       "\n",
       "    .dataframe tbody tr th {\n",
       "        vertical-align: top;\n",
       "    }\n",
       "\n",
       "    .dataframe thead th {\n",
       "        text-align: right;\n",
       "    }\n",
       "</style>\n",
       "<table border=\"1\" class=\"dataframe\">\n",
       "  <thead>\n",
       "    <tr style=\"text-align: right;\">\n",
       "      <th></th>\n",
       "      <th>run_number</th>\n",
       "      <th>month_start</th>\n",
       "      <th>monthly_calls</th>\n",
       "    </tr>\n",
       "  </thead>\n",
       "  <tbody>\n",
       "    <tr>\n",
       "      <th>1</th>\n",
       "      <td>1</td>\n",
       "      <td>2025-03-01</td>\n",
       "      <td>128</td>\n",
       "    </tr>\n",
       "    <tr>\n",
       "      <th>2</th>\n",
       "      <td>1</td>\n",
       "      <td>2025-04-01</td>\n",
       "      <td>166</td>\n",
       "    </tr>\n",
       "    <tr>\n",
       "      <th>3</th>\n",
       "      <td>1</td>\n",
       "      <td>2025-05-01</td>\n",
       "      <td>148</td>\n",
       "    </tr>\n",
       "    <tr>\n",
       "      <th>4</th>\n",
       "      <td>1</td>\n",
       "      <td>2025-06-01</td>\n",
       "      <td>162</td>\n",
       "    </tr>\n",
       "    <tr>\n",
       "      <th>5</th>\n",
       "      <td>1</td>\n",
       "      <td>2025-07-01</td>\n",
       "      <td>165</td>\n",
       "    </tr>\n",
       "    <tr>\n",
       "      <th>...</th>\n",
       "      <td>...</td>\n",
       "      <td>...</td>\n",
       "      <td>...</td>\n",
       "    </tr>\n",
       "    <tr>\n",
       "      <th>254</th>\n",
       "      <td>20</td>\n",
       "      <td>2025-09-01</td>\n",
       "      <td>167</td>\n",
       "    </tr>\n",
       "    <tr>\n",
       "      <th>255</th>\n",
       "      <td>20</td>\n",
       "      <td>2025-10-01</td>\n",
       "      <td>121</td>\n",
       "    </tr>\n",
       "    <tr>\n",
       "      <th>256</th>\n",
       "      <td>20</td>\n",
       "      <td>2025-11-01</td>\n",
       "      <td>108</td>\n",
       "    </tr>\n",
       "    <tr>\n",
       "      <th>257</th>\n",
       "      <td>20</td>\n",
       "      <td>2025-12-01</td>\n",
       "      <td>129</td>\n",
       "    </tr>\n",
       "    <tr>\n",
       "      <th>258</th>\n",
       "      <td>20</td>\n",
       "      <td>2026-01-01</td>\n",
       "      <td>144</td>\n",
       "    </tr>\n",
       "  </tbody>\n",
       "</table>\n",
       "<p>220 rows × 3 columns</p>\n",
       "</div>"
      ],
      "text/plain": [
       "     run_number month_start  monthly_calls\n",
       "1             1  2025-03-01            128\n",
       "2             1  2025-04-01            166\n",
       "3             1  2025-05-01            148\n",
       "4             1  2025-06-01            162\n",
       "5             1  2025-07-01            165\n",
       "..          ...         ...            ...\n",
       "254          20  2025-09-01            167\n",
       "255          20  2025-10-01            121\n",
       "256          20  2025-11-01            108\n",
       "257          20  2025-12-01            129\n",
       "258          20  2026-01-01            144\n",
       "\n",
       "[220 rows x 3 columns]"
      ]
     },
     "execution_count": 75,
     "metadata": {},
     "output_type": "execute_result"
    }
   ],
   "source": [
    "call_counts_monthly = call_df.groupby(\n",
    "        ['run_number', 'month_start']\n",
    "        )[['P_ID']].count().reset_index().rename(columns={\"P_ID\": \"monthly_calls\"})\n",
    "\n",
    "# Identify first and last month in the dataset\n",
    "first_month = call_counts_monthly[\"month_start\"].min()\n",
    "last_month = call_counts_monthly[\"month_start\"].max()\n",
    "\n",
    "# Filter out the first and last month\n",
    "call_counts_monthly = (\n",
    "    call_counts_monthly[\n",
    "        (call_counts_monthly[\"month_start\"] != first_month) &\n",
    "        (call_counts_monthly[\"month_start\"] != last_month)\n",
    "        ]\n",
    ")\n",
    "\n",
    "call_counts_monthly"
   ]
  },
  {
   "cell_type": "code",
   "execution_count": 79,
   "metadata": {},
   "outputs": [
    {
     "data": {
      "text/html": [
       "<div>\n",
       "<style scoped>\n",
       "    .dataframe tbody tr th:only-of-type {\n",
       "        vertical-align: middle;\n",
       "    }\n",
       "\n",
       "    .dataframe tbody tr th {\n",
       "        vertical-align: top;\n",
       "    }\n",
       "\n",
       "    .dataframe thead th {\n",
       "        text-align: right;\n",
       "    }\n",
       "</style>\n",
       "<table border=\"1\" class=\"dataframe\">\n",
       "  <thead>\n",
       "    <tr style=\"text-align: right;\">\n",
       "      <th></th>\n",
       "      <th>month_start</th>\n",
       "      <th>mean</th>\n",
       "      <th>std</th>\n",
       "      <th>count</th>\n",
       "      <th>max</th>\n",
       "      <th>min</th>\n",
       "      <th>q10</th>\n",
       "      <th>q90</th>\n",
       "      <th>ci95_hi</th>\n",
       "      <th>ci95_lo</th>\n",
       "    </tr>\n",
       "  </thead>\n",
       "  <tbody>\n",
       "    <tr>\n",
       "      <th>0</th>\n",
       "      <td>2025-03-01</td>\n",
       "      <td>136.85</td>\n",
       "      <td>11.864476</td>\n",
       "      <td>20</td>\n",
       "      <td>159</td>\n",
       "      <td>114</td>\n",
       "      <td>119.6</td>\n",
       "      <td>147.6</td>\n",
       "      <td>142.049836</td>\n",
       "      <td>131.650164</td>\n",
       "    </tr>\n",
       "    <tr>\n",
       "      <th>1</th>\n",
       "      <td>2025-04-01</td>\n",
       "      <td>155.10</td>\n",
       "      <td>13.905319</td>\n",
       "      <td>20</td>\n",
       "      <td>185</td>\n",
       "      <td>128</td>\n",
       "      <td>139.5</td>\n",
       "      <td>169.5</td>\n",
       "      <td>161.194275</td>\n",
       "      <td>149.005725</td>\n",
       "    </tr>\n",
       "    <tr>\n",
       "      <th>2</th>\n",
       "      <td>2025-05-01</td>\n",
       "      <td>154.35</td>\n",
       "      <td>11.141553</td>\n",
       "      <td>20</td>\n",
       "      <td>179</td>\n",
       "      <td>138</td>\n",
       "      <td>145.6</td>\n",
       "      <td>167.1</td>\n",
       "      <td>159.233001</td>\n",
       "      <td>149.466999</td>\n",
       "    </tr>\n",
       "    <tr>\n",
       "      <th>3</th>\n",
       "      <td>2025-06-01</td>\n",
       "      <td>154.20</td>\n",
       "      <td>12.081304</td>\n",
       "      <td>20</td>\n",
       "      <td>171</td>\n",
       "      <td>129</td>\n",
       "      <td>138.5</td>\n",
       "      <td>165.6</td>\n",
       "      <td>159.494865</td>\n",
       "      <td>148.905135</td>\n",
       "    </tr>\n",
       "    <tr>\n",
       "      <th>4</th>\n",
       "      <td>2025-07-01</td>\n",
       "      <td>149.50</td>\n",
       "      <td>12.886141</td>\n",
       "      <td>20</td>\n",
       "      <td>181</td>\n",
       "      <td>129</td>\n",
       "      <td>134.6</td>\n",
       "      <td>165.8</td>\n",
       "      <td>155.147600</td>\n",
       "      <td>143.852400</td>\n",
       "    </tr>\n",
       "    <tr>\n",
       "      <th>5</th>\n",
       "      <td>2025-08-01</td>\n",
       "      <td>150.25</td>\n",
       "      <td>16.936025</td>\n",
       "      <td>20</td>\n",
       "      <td>175</td>\n",
       "      <td>115</td>\n",
       "      <td>122.8</td>\n",
       "      <td>171.2</td>\n",
       "      <td>157.672540</td>\n",
       "      <td>142.827460</td>\n",
       "    </tr>\n",
       "    <tr>\n",
       "      <th>6</th>\n",
       "      <td>2025-09-01</td>\n",
       "      <td>150.65</td>\n",
       "      <td>14.448730</td>\n",
       "      <td>20</td>\n",
       "      <td>178</td>\n",
       "      <td>127</td>\n",
       "      <td>132.9</td>\n",
       "      <td>170.3</td>\n",
       "      <td>156.982435</td>\n",
       "      <td>144.317565</td>\n",
       "    </tr>\n",
       "    <tr>\n",
       "      <th>7</th>\n",
       "      <td>2025-10-01</td>\n",
       "      <td>121.60</td>\n",
       "      <td>11.672730</td>\n",
       "      <td>20</td>\n",
       "      <td>141</td>\n",
       "      <td>101</td>\n",
       "      <td>105.6</td>\n",
       "      <td>135.0</td>\n",
       "      <td>126.715800</td>\n",
       "      <td>116.484200</td>\n",
       "    </tr>\n",
       "    <tr>\n",
       "      <th>8</th>\n",
       "      <td>2025-11-01</td>\n",
       "      <td>118.20</td>\n",
       "      <td>7.445239</td>\n",
       "      <td>20</td>\n",
       "      <td>135</td>\n",
       "      <td>106</td>\n",
       "      <td>109.8</td>\n",
       "      <td>125.8</td>\n",
       "      <td>121.463020</td>\n",
       "      <td>114.936980</td>\n",
       "    </tr>\n",
       "    <tr>\n",
       "      <th>9</th>\n",
       "      <td>2025-12-01</td>\n",
       "      <td>124.85</td>\n",
       "      <td>10.619124</td>\n",
       "      <td>20</td>\n",
       "      <td>150</td>\n",
       "      <td>105</td>\n",
       "      <td>111.8</td>\n",
       "      <td>136.1</td>\n",
       "      <td>129.504036</td>\n",
       "      <td>120.195964</td>\n",
       "    </tr>\n",
       "    <tr>\n",
       "      <th>10</th>\n",
       "      <td>2026-01-01</td>\n",
       "      <td>140.55</td>\n",
       "      <td>12.824627</td>\n",
       "      <td>20</td>\n",
       "      <td>164</td>\n",
       "      <td>116</td>\n",
       "      <td>122.8</td>\n",
       "      <td>152.8</td>\n",
       "      <td>146.170641</td>\n",
       "      <td>134.929359</td>\n",
       "    </tr>\n",
       "  </tbody>\n",
       "</table>\n",
       "</div>"
      ],
      "text/plain": [
       "   month_start    mean        std  count  max  min    q10    q90     ci95_hi  \\\n",
       "0   2025-03-01  136.85  11.864476     20  159  114  119.6  147.6  142.049836   \n",
       "1   2025-04-01  155.10  13.905319     20  185  128  139.5  169.5  161.194275   \n",
       "2   2025-05-01  154.35  11.141553     20  179  138  145.6  167.1  159.233001   \n",
       "3   2025-06-01  154.20  12.081304     20  171  129  138.5  165.6  159.494865   \n",
       "4   2025-07-01  149.50  12.886141     20  181  129  134.6  165.8  155.147600   \n",
       "5   2025-08-01  150.25  16.936025     20  175  115  122.8  171.2  157.672540   \n",
       "6   2025-09-01  150.65  14.448730     20  178  127  132.9  170.3  156.982435   \n",
       "7   2025-10-01  121.60  11.672730     20  141  101  105.6  135.0  126.715800   \n",
       "8   2025-11-01  118.20   7.445239     20  135  106  109.8  125.8  121.463020   \n",
       "9   2025-12-01  124.85  10.619124     20  150  105  111.8  136.1  129.504036   \n",
       "10  2026-01-01  140.55  12.824627     20  164  116  122.8  152.8  146.170641   \n",
       "\n",
       "       ci95_lo  \n",
       "0   131.650164  \n",
       "1   149.005725  \n",
       "2   149.466999  \n",
       "3   148.905135  \n",
       "4   143.852400  \n",
       "5   142.827460  \n",
       "6   144.317565  \n",
       "7   116.484200  \n",
       "8   114.936980  \n",
       "9   120.195964  \n",
       "10  134.929359  "
      ]
     },
     "execution_count": 79,
     "metadata": {},
     "output_type": "execute_result"
    }
   ],
   "source": [
    "# 90th Percentile\n",
    "def q90(x):\n",
    "    return x.quantile(0.9)\n",
    "\n",
    "# 90th Percentile\n",
    "def q10(x):\n",
    "    return x.quantile(0.1)\n",
    "\n",
    "summary = (\n",
    "        call_counts_monthly.groupby(\"month_start\")[\"monthly_calls\"]\n",
    "        .agg([\"mean\", \"std\", \"count\", \"max\", \"min\", q10, q90])\n",
    "        .reset_index()\n",
    "        )\n",
    "\n",
    "summary[\"ci95_hi\"] = summary[\"mean\"] + 1.96 * (summary[\"std\"] / np.sqrt(summary[\"count\"]))\n",
    "summary[\"ci95_lo\"] = summary[\"mean\"] - 1.96 * (summary[\"std\"] / np.sqrt(summary[\"count\"]))\n",
    "\n",
    "summary\n"
   ]
  },
  {
   "cell_type": "code",
   "execution_count": null,
   "metadata": {},
   "outputs": [
    {
     "data": {
      "text/html": [
       "<div>\n",
       "<style scoped>\n",
       "    .dataframe tbody tr th:only-of-type {\n",
       "        vertical-align: middle;\n",
       "    }\n",
       "\n",
       "    .dataframe tbody tr th {\n",
       "        vertical-align: top;\n",
       "    }\n",
       "\n",
       "    .dataframe thead th {\n",
       "        text-align: right;\n",
       "    }\n",
       "</style>\n",
       "<table border=\"1\" class=\"dataframe\">\n",
       "  <thead>\n",
       "    <tr style=\"text-align: right;\">\n",
       "      <th></th>\n",
       "      <th>Month</th>\n",
       "      <th>Jobs</th>\n",
       "      <th>Month_Numeric</th>\n",
       "      <th>Year_Numeric</th>\n",
       "    </tr>\n",
       "  </thead>\n",
       "  <tbody>\n",
       "    <tr>\n",
       "      <th>0</th>\n",
       "      <td>2019-04-01</td>\n",
       "      <td>138</td>\n",
       "      <td>4</td>\n",
       "      <td>2019</td>\n",
       "    </tr>\n",
       "    <tr>\n",
       "      <th>1</th>\n",
       "      <td>2019-05-01</td>\n",
       "      <td>111</td>\n",
       "      <td>5</td>\n",
       "      <td>2019</td>\n",
       "    </tr>\n",
       "    <tr>\n",
       "      <th>2</th>\n",
       "      <td>2019-06-01</td>\n",
       "      <td>158</td>\n",
       "      <td>6</td>\n",
       "      <td>2019</td>\n",
       "    </tr>\n",
       "    <tr>\n",
       "      <th>3</th>\n",
       "      <td>2019-07-01</td>\n",
       "      <td>180</td>\n",
       "      <td>7</td>\n",
       "      <td>2019</td>\n",
       "    </tr>\n",
       "    <tr>\n",
       "      <th>4</th>\n",
       "      <td>2019-08-01</td>\n",
       "      <td>123</td>\n",
       "      <td>8</td>\n",
       "      <td>2019</td>\n",
       "    </tr>\n",
       "    <tr>\n",
       "      <th>...</th>\n",
       "      <td>...</td>\n",
       "      <td>...</td>\n",
       "      <td>...</td>\n",
       "      <td>...</td>\n",
       "    </tr>\n",
       "    <tr>\n",
       "      <th>65</th>\n",
       "      <td>2024-09-01</td>\n",
       "      <td>162</td>\n",
       "      <td>9</td>\n",
       "      <td>2024</td>\n",
       "    </tr>\n",
       "    <tr>\n",
       "      <th>66</th>\n",
       "      <td>2024-10-01</td>\n",
       "      <td>215</td>\n",
       "      <td>10</td>\n",
       "      <td>2024</td>\n",
       "    </tr>\n",
       "    <tr>\n",
       "      <th>67</th>\n",
       "      <td>2024-11-01</td>\n",
       "      <td>182</td>\n",
       "      <td>11</td>\n",
       "      <td>2024</td>\n",
       "    </tr>\n",
       "    <tr>\n",
       "      <th>68</th>\n",
       "      <td>2024-12-01</td>\n",
       "      <td>174</td>\n",
       "      <td>12</td>\n",
       "      <td>2024</td>\n",
       "    </tr>\n",
       "    <tr>\n",
       "      <th>69</th>\n",
       "      <td>2025-01-01</td>\n",
       "      <td>193</td>\n",
       "      <td>1</td>\n",
       "      <td>2025</td>\n",
       "    </tr>\n",
       "  </tbody>\n",
       "</table>\n",
       "<p>70 rows × 4 columns</p>\n",
       "</div>"
      ],
      "text/plain": [
       "        Month  Jobs  Month_Numeric  Year_Numeric\n",
       "0  2019-04-01   138              4          2019\n",
       "1  2019-05-01   111              5          2019\n",
       "2  2019-06-01   158              6          2019\n",
       "3  2019-07-01   180              7          2019\n",
       "4  2019-08-01   123              8          2019\n",
       "..        ...   ...            ...           ...\n",
       "65 2024-09-01   162              9          2024\n",
       "66 2024-10-01   215             10          2024\n",
       "67 2024-11-01   182             11          2024\n",
       "68 2024-12-01   174             12          2024\n",
       "69 2025-01-01   193              1          2025\n",
       "\n",
       "[70 rows x 4 columns]"
      ]
     },
     "execution_count": 80,
     "metadata": {},
     "output_type": "execute_result"
    }
   ],
   "source": [
    "historical_jobs_per_month = pd.read_csv(\"../historical_data/historical_jobs_per_month.csv\", parse_dates=False)\n",
    "# Convert to datetime\n",
    "# (using 'parse_dates=True' in read_csv isn't reliably doing that, so make it explicit here)\n",
    "historical_jobs_per_month[\"Month\"] = pd.to_datetime(historical_jobs_per_month['Month'])\n",
    "\n",
    "historical_jobs_per_month[\"Month_Numeric\"] = (\n",
    "    historical_jobs_per_month[\"Month\"].apply(lambda x: x.month)\n",
    "    )\n",
    "\n",
    "historical_jobs_per_month[\"Year_Numeric\"] = (\n",
    "    historical_jobs_per_month[\"Month\"]\n",
    "    .apply(lambda x: x.year)\n",
    "    )\n",
    "\n",
    "historical_jobs_per_month"
   ]
  },
  {
   "cell_type": "code",
   "execution_count": 87,
   "metadata": {},
   "outputs": [
    {
     "data": {
      "text/html": [
       "<div>\n",
       "<style scoped>\n",
       "    .dataframe tbody tr th:only-of-type {\n",
       "        vertical-align: middle;\n",
       "    }\n",
       "\n",
       "    .dataframe tbody tr th {\n",
       "        vertical-align: top;\n",
       "    }\n",
       "\n",
       "    .dataframe thead th {\n",
       "        text-align: right;\n",
       "    }\n",
       "</style>\n",
       "<table border=\"1\" class=\"dataframe\">\n",
       "  <thead>\n",
       "    <tr style=\"text-align: right;\">\n",
       "      <th></th>\n",
       "      <th>Month_Numeric</th>\n",
       "      <th>historic_max</th>\n",
       "      <th>historic_min</th>\n",
       "    </tr>\n",
       "  </thead>\n",
       "  <tbody>\n",
       "    <tr>\n",
       "      <th>0</th>\n",
       "      <td>1</td>\n",
       "      <td>193</td>\n",
       "      <td>93</td>\n",
       "    </tr>\n",
       "    <tr>\n",
       "      <th>1</th>\n",
       "      <td>2</td>\n",
       "      <td>183</td>\n",
       "      <td>75</td>\n",
       "    </tr>\n",
       "    <tr>\n",
       "      <th>2</th>\n",
       "      <td>3</td>\n",
       "      <td>224</td>\n",
       "      <td>83</td>\n",
       "    </tr>\n",
       "    <tr>\n",
       "      <th>3</th>\n",
       "      <td>4</td>\n",
       "      <td>196</td>\n",
       "      <td>76</td>\n",
       "    </tr>\n",
       "    <tr>\n",
       "      <th>4</th>\n",
       "      <td>5</td>\n",
       "      <td>238</td>\n",
       "      <td>111</td>\n",
       "    </tr>\n",
       "    <tr>\n",
       "      <th>5</th>\n",
       "      <td>6</td>\n",
       "      <td>243</td>\n",
       "      <td>158</td>\n",
       "    </tr>\n",
       "    <tr>\n",
       "      <th>6</th>\n",
       "      <td>7</td>\n",
       "      <td>227</td>\n",
       "      <td>180</td>\n",
       "    </tr>\n",
       "    <tr>\n",
       "      <th>7</th>\n",
       "      <td>8</td>\n",
       "      <td>224</td>\n",
       "      <td>123</td>\n",
       "    </tr>\n",
       "    <tr>\n",
       "      <th>8</th>\n",
       "      <td>9</td>\n",
       "      <td>226</td>\n",
       "      <td>130</td>\n",
       "    </tr>\n",
       "    <tr>\n",
       "      <th>9</th>\n",
       "      <td>10</td>\n",
       "      <td>215</td>\n",
       "      <td>110</td>\n",
       "    </tr>\n",
       "    <tr>\n",
       "      <th>10</th>\n",
       "      <td>11</td>\n",
       "      <td>182</td>\n",
       "      <td>101</td>\n",
       "    </tr>\n",
       "    <tr>\n",
       "      <th>11</th>\n",
       "      <td>12</td>\n",
       "      <td>174</td>\n",
       "      <td>101</td>\n",
       "    </tr>\n",
       "  </tbody>\n",
       "</table>\n",
       "</div>"
      ],
      "text/plain": [
       "    Month_Numeric  historic_max  historic_min\n",
       "0               1           193            93\n",
       "1               2           183            75\n",
       "2               3           224            83\n",
       "3               4           196            76\n",
       "4               5           238           111\n",
       "5               6           243           158\n",
       "6               7           227           180\n",
       "7               8           224           123\n",
       "8               9           226           130\n",
       "9              10           215           110\n",
       "10             11           182           101\n",
       "11             12           174           101"
      ]
     },
     "execution_count": 87,
     "metadata": {},
     "output_type": "execute_result"
    }
   ],
   "source": [
    "historical_jobs_per_month[\"Year_Numeric\"] = (\n",
    "            historical_jobs_per_month[\"Month\"]\n",
    "            .apply(lambda x: x.year)\n",
    "            )\n",
    "\n",
    "historical_summary = (\n",
    "    historical_jobs_per_month\n",
    "    .groupby('Month_Numeric')['Jobs']\n",
    "    .agg([\"max\",\"min\"])\n",
    "    .reset_index()\n",
    "    .rename(columns={\"max\": \"historic_max\", \"min\": \"historic_min\"})\n",
    "    )\n",
    "\n",
    "\n",
    "historical_summary"
   ]
  },
  {
   "cell_type": "code",
   "execution_count": 82,
   "metadata": {},
   "outputs": [
    {
     "data": {
      "text/html": [
       "<div>\n",
       "<style scoped>\n",
       "    .dataframe tbody tr th:only-of-type {\n",
       "        vertical-align: middle;\n",
       "    }\n",
       "\n",
       "    .dataframe tbody tr th {\n",
       "        vertical-align: top;\n",
       "    }\n",
       "\n",
       "    .dataframe thead tr th {\n",
       "        text-align: left;\n",
       "    }\n",
       "</style>\n",
       "<table border=\"1\" class=\"dataframe\">\n",
       "  <thead>\n",
       "    <tr>\n",
       "      <th></th>\n",
       "      <th>Month_Numeric</th>\n",
       "      <th colspan=\"2\" halign=\"left\">Jobs</th>\n",
       "    </tr>\n",
       "    <tr>\n",
       "      <th></th>\n",
       "      <th></th>\n",
       "      <th>max</th>\n",
       "      <th>min</th>\n",
       "    </tr>\n",
       "  </thead>\n",
       "  <tbody>\n",
       "    <tr>\n",
       "      <th>0</th>\n",
       "      <td>1</td>\n",
       "      <td>193</td>\n",
       "      <td>93</td>\n",
       "    </tr>\n",
       "    <tr>\n",
       "      <th>1</th>\n",
       "      <td>2</td>\n",
       "      <td>183</td>\n",
       "      <td>75</td>\n",
       "    </tr>\n",
       "    <tr>\n",
       "      <th>2</th>\n",
       "      <td>3</td>\n",
       "      <td>224</td>\n",
       "      <td>83</td>\n",
       "    </tr>\n",
       "    <tr>\n",
       "      <th>3</th>\n",
       "      <td>4</td>\n",
       "      <td>196</td>\n",
       "      <td>76</td>\n",
       "    </tr>\n",
       "    <tr>\n",
       "      <th>4</th>\n",
       "      <td>5</td>\n",
       "      <td>238</td>\n",
       "      <td>111</td>\n",
       "    </tr>\n",
       "    <tr>\n",
       "      <th>5</th>\n",
       "      <td>6</td>\n",
       "      <td>243</td>\n",
       "      <td>158</td>\n",
       "    </tr>\n",
       "    <tr>\n",
       "      <th>6</th>\n",
       "      <td>7</td>\n",
       "      <td>227</td>\n",
       "      <td>180</td>\n",
       "    </tr>\n",
       "    <tr>\n",
       "      <th>7</th>\n",
       "      <td>8</td>\n",
       "      <td>224</td>\n",
       "      <td>123</td>\n",
       "    </tr>\n",
       "    <tr>\n",
       "      <th>8</th>\n",
       "      <td>9</td>\n",
       "      <td>226</td>\n",
       "      <td>130</td>\n",
       "    </tr>\n",
       "    <tr>\n",
       "      <th>9</th>\n",
       "      <td>10</td>\n",
       "      <td>215</td>\n",
       "      <td>110</td>\n",
       "    </tr>\n",
       "    <tr>\n",
       "      <th>10</th>\n",
       "      <td>11</td>\n",
       "      <td>182</td>\n",
       "      <td>101</td>\n",
       "    </tr>\n",
       "    <tr>\n",
       "      <th>11</th>\n",
       "      <td>12</td>\n",
       "      <td>174</td>\n",
       "      <td>101</td>\n",
       "    </tr>\n",
       "  </tbody>\n",
       "</table>\n",
       "</div>"
      ],
      "text/plain": [
       "   Month_Numeric Jobs     \n",
       "                  max  min\n",
       "0              1  193   93\n",
       "1              2  183   75\n",
       "2              3  224   83\n",
       "3              4  196   76\n",
       "4              5  238  111\n",
       "5              6  243  158\n",
       "6              7  227  180\n",
       "7              8  224  123\n",
       "8              9  226  130\n",
       "9             10  215  110\n",
       "10            11  182  101\n",
       "11            12  174  101"
      ]
     },
     "execution_count": 82,
     "metadata": {},
     "output_type": "execute_result"
    }
   ],
   "source": [
    "# historical_jobs_per_month.groupby('Month_Numeric')[['Jobs']].agg([\"max\",\"min\"]).reset_index()"
   ]
  },
  {
   "cell_type": "code",
   "execution_count": 84,
   "metadata": {},
   "outputs": [
    {
     "data": {
      "text/html": [
       "<div>\n",
       "<style scoped>\n",
       "    .dataframe tbody tr th:only-of-type {\n",
       "        vertical-align: middle;\n",
       "    }\n",
       "\n",
       "    .dataframe tbody tr th {\n",
       "        vertical-align: top;\n",
       "    }\n",
       "\n",
       "    .dataframe thead th {\n",
       "        text-align: right;\n",
       "    }\n",
       "</style>\n",
       "<table border=\"1\" class=\"dataframe\">\n",
       "  <thead>\n",
       "    <tr style=\"text-align: right;\">\n",
       "      <th></th>\n",
       "      <th>run_number</th>\n",
       "      <th>month_start</th>\n",
       "      <th>monthly_calls</th>\n",
       "    </tr>\n",
       "  </thead>\n",
       "  <tbody>\n",
       "    <tr>\n",
       "      <th>1</th>\n",
       "      <td>1</td>\n",
       "      <td>2025-03-01</td>\n",
       "      <td>128</td>\n",
       "    </tr>\n",
       "    <tr>\n",
       "      <th>2</th>\n",
       "      <td>1</td>\n",
       "      <td>2025-04-01</td>\n",
       "      <td>166</td>\n",
       "    </tr>\n",
       "    <tr>\n",
       "      <th>3</th>\n",
       "      <td>1</td>\n",
       "      <td>2025-05-01</td>\n",
       "      <td>148</td>\n",
       "    </tr>\n",
       "    <tr>\n",
       "      <th>4</th>\n",
       "      <td>1</td>\n",
       "      <td>2025-06-01</td>\n",
       "      <td>162</td>\n",
       "    </tr>\n",
       "    <tr>\n",
       "      <th>5</th>\n",
       "      <td>1</td>\n",
       "      <td>2025-07-01</td>\n",
       "      <td>165</td>\n",
       "    </tr>\n",
       "    <tr>\n",
       "      <th>...</th>\n",
       "      <td>...</td>\n",
       "      <td>...</td>\n",
       "      <td>...</td>\n",
       "    </tr>\n",
       "    <tr>\n",
       "      <th>254</th>\n",
       "      <td>20</td>\n",
       "      <td>2025-09-01</td>\n",
       "      <td>167</td>\n",
       "    </tr>\n",
       "    <tr>\n",
       "      <th>255</th>\n",
       "      <td>20</td>\n",
       "      <td>2025-10-01</td>\n",
       "      <td>121</td>\n",
       "    </tr>\n",
       "    <tr>\n",
       "      <th>256</th>\n",
       "      <td>20</td>\n",
       "      <td>2025-11-01</td>\n",
       "      <td>108</td>\n",
       "    </tr>\n",
       "    <tr>\n",
       "      <th>257</th>\n",
       "      <td>20</td>\n",
       "      <td>2025-12-01</td>\n",
       "      <td>129</td>\n",
       "    </tr>\n",
       "    <tr>\n",
       "      <th>258</th>\n",
       "      <td>20</td>\n",
       "      <td>2026-01-01</td>\n",
       "      <td>144</td>\n",
       "    </tr>\n",
       "  </tbody>\n",
       "</table>\n",
       "<p>220 rows × 3 columns</p>\n",
       "</div>"
      ],
      "text/plain": [
       "     run_number month_start  monthly_calls\n",
       "1             1  2025-03-01            128\n",
       "2             1  2025-04-01            166\n",
       "3             1  2025-05-01            148\n",
       "4             1  2025-06-01            162\n",
       "5             1  2025-07-01            165\n",
       "..          ...         ...            ...\n",
       "254          20  2025-09-01            167\n",
       "255          20  2025-10-01            121\n",
       "256          20  2025-11-01            108\n",
       "257          20  2025-12-01            129\n",
       "258          20  2026-01-01            144\n",
       "\n",
       "[220 rows x 3 columns]"
      ]
     },
     "execution_count": 84,
     "metadata": {},
     "output_type": "execute_result"
    }
   ],
   "source": [
    "call_df['timestamp_dt'] = pd.to_datetime(call_df['timestamp_dt'])\n",
    "call_df['month_start'] = call_df['timestamp_dt'].dt.to_period('M').dt.to_timestamp()\n",
    "\n",
    "call_counts_monthly = call_df.groupby(\n",
    "    ['run_number', 'month_start']\n",
    "    )[['P_ID']].count().reset_index().rename(columns={\"P_ID\": \"monthly_calls\"})\n",
    "\n",
    "# Identify first and last month in the dataset\n",
    "first_month = call_counts_monthly[\"month_start\"].min()\n",
    "last_month = call_counts_monthly[\"month_start\"].max()\n",
    "\n",
    "# Filter out the first and last month\n",
    "call_counts_monthly = (\n",
    "    call_counts_monthly[\n",
    "        (call_counts_monthly[\"month_start\"] != first_month) &\n",
    "        (call_counts_monthly[\"month_start\"] != last_month)\n",
    "        ]\n",
    ")\n",
    "\n",
    "call_counts_monthly"
   ]
  },
  {
   "cell_type": "code",
   "execution_count": 110,
   "metadata": {},
   "outputs": [
    {
     "data": {
      "text/html": [
       "<div>\n",
       "<style scoped>\n",
       "    .dataframe tbody tr th:only-of-type {\n",
       "        vertical-align: middle;\n",
       "    }\n",
       "\n",
       "    .dataframe tbody tr th {\n",
       "        vertical-align: top;\n",
       "    }\n",
       "\n",
       "    .dataframe thead th {\n",
       "        text-align: right;\n",
       "    }\n",
       "</style>\n",
       "<table border=\"1\" class=\"dataframe\">\n",
       "  <thead>\n",
       "    <tr style=\"text-align: right;\">\n",
       "      <th></th>\n",
       "      <th>month</th>\n",
       "      <th>month_numeric</th>\n",
       "      <th>year_numeric</th>\n",
       "      <th>variable</th>\n",
       "      <th>value</th>\n",
       "      <th>hour</th>\n",
       "    </tr>\n",
       "  </thead>\n",
       "  <tbody>\n",
       "    <tr>\n",
       "      <th>0</th>\n",
       "      <td>2023-01-01</td>\n",
       "      <td>1</td>\n",
       "      <td>2023</td>\n",
       "      <td>0 to 1</td>\n",
       "      <td>3.0</td>\n",
       "      <td>0</td>\n",
       "    </tr>\n",
       "    <tr>\n",
       "      <th>1</th>\n",
       "      <td>2023-02-01</td>\n",
       "      <td>2</td>\n",
       "      <td>2023</td>\n",
       "      <td>0 to 1</td>\n",
       "      <td>4.0</td>\n",
       "      <td>0</td>\n",
       "    </tr>\n",
       "    <tr>\n",
       "      <th>2</th>\n",
       "      <td>2023-03-01</td>\n",
       "      <td>3</td>\n",
       "      <td>2023</td>\n",
       "      <td>0 to 1</td>\n",
       "      <td>2.0</td>\n",
       "      <td>0</td>\n",
       "    </tr>\n",
       "    <tr>\n",
       "      <th>3</th>\n",
       "      <td>2023-04-01</td>\n",
       "      <td>4</td>\n",
       "      <td>2023</td>\n",
       "      <td>0 to 1</td>\n",
       "      <td>5.0</td>\n",
       "      <td>0</td>\n",
       "    </tr>\n",
       "    <tr>\n",
       "      <th>4</th>\n",
       "      <td>2023-05-01</td>\n",
       "      <td>5</td>\n",
       "      <td>2023</td>\n",
       "      <td>0 to 1</td>\n",
       "      <td>2.0</td>\n",
       "      <td>0</td>\n",
       "    </tr>\n",
       "    <tr>\n",
       "      <th>...</th>\n",
       "      <td>...</td>\n",
       "      <td>...</td>\n",
       "      <td>...</td>\n",
       "      <td>...</td>\n",
       "      <td>...</td>\n",
       "      <td>...</td>\n",
       "    </tr>\n",
       "    <tr>\n",
       "      <th>561</th>\n",
       "      <td>2023-10-01</td>\n",
       "      <td>10</td>\n",
       "      <td>2023</td>\n",
       "      <td>23 to 24</td>\n",
       "      <td>2.0</td>\n",
       "      <td>23</td>\n",
       "    </tr>\n",
       "    <tr>\n",
       "      <th>562</th>\n",
       "      <td>2023-11-01</td>\n",
       "      <td>11</td>\n",
       "      <td>2023</td>\n",
       "      <td>23 to 24</td>\n",
       "      <td>5.0</td>\n",
       "      <td>23</td>\n",
       "    </tr>\n",
       "    <tr>\n",
       "      <th>563</th>\n",
       "      <td>2023-12-01</td>\n",
       "      <td>12</td>\n",
       "      <td>2023</td>\n",
       "      <td>23 to 24</td>\n",
       "      <td>6.0</td>\n",
       "      <td>23</td>\n",
       "    </tr>\n",
       "    <tr>\n",
       "      <th>564</th>\n",
       "      <td>2024-01-01</td>\n",
       "      <td>1</td>\n",
       "      <td>2024</td>\n",
       "      <td>23 to 24</td>\n",
       "      <td>4.0</td>\n",
       "      <td>23</td>\n",
       "    </tr>\n",
       "    <tr>\n",
       "      <th>565</th>\n",
       "      <td>2024-02-01</td>\n",
       "      <td>2</td>\n",
       "      <td>2024</td>\n",
       "      <td>23 to 24</td>\n",
       "      <td>8.0</td>\n",
       "      <td>23</td>\n",
       "    </tr>\n",
       "  </tbody>\n",
       "</table>\n",
       "<p>336 rows × 6 columns</p>\n",
       "</div>"
      ],
      "text/plain": [
       "         month  month_numeric  year_numeric  variable  value  hour\n",
       "0   2023-01-01              1          2023    0 to 1    3.0     0\n",
       "1   2023-02-01              2          2023    0 to 1    4.0     0\n",
       "2   2023-03-01              3          2023    0 to 1    2.0     0\n",
       "3   2023-04-01              4          2023    0 to 1    5.0     0\n",
       "4   2023-05-01              5          2023    0 to 1    2.0     0\n",
       "..         ...            ...           ...       ...    ...   ...\n",
       "561 2023-10-01             10          2023  23 to 24    2.0    23\n",
       "562 2023-11-01             11          2023  23 to 24    5.0    23\n",
       "563 2023-12-01             12          2023  23 to 24    6.0    23\n",
       "564 2024-01-01              1          2024  23 to 24    4.0    23\n",
       "565 2024-02-01              2          2024  23 to 24    8.0    23\n",
       "\n",
       "[336 rows x 6 columns]"
      ]
     },
     "execution_count": 110,
     "metadata": {},
     "output_type": "execute_result"
    }
   ],
   "source": [
    "jobs_per_hour_historic = pd.read_csv(\"../actual_data/jobs_by_hour.csv\")\n",
    "jobs_per_hour_historic['month'] = pd.to_datetime(jobs_per_hour_historic['month'],dayfirst=True)\n",
    "\n",
    "jobs_per_hour_historic['year_numeric'] = jobs_per_hour_historic['month'].apply(lambda x: x.year)\n",
    "jobs_per_hour_historic['month_numeric'] = jobs_per_hour_historic['month'].apply(lambda x: x.month)\n",
    "jobs_per_hour_historic_long = jobs_per_hour_historic.melt(id_vars=['month','month_numeric', 'year_numeric'])\n",
    "jobs_per_hour_historic_long[\"hour\"] = jobs_per_hour_historic_long['variable'].str.extract(r\"(\\d+)\\s\")\n",
    "jobs_per_hour_historic_long[\"hour\"] = jobs_per_hour_historic_long[\"hour\"].astype('int')\n",
    "jobs_per_hour_historic_long = jobs_per_hour_historic_long[~jobs_per_hour_historic_long['value'].isna()]\n",
    "jobs_per_hour_historic_long"
   ]
  },
  {
   "cell_type": "code",
   "execution_count": 120,
   "metadata": {},
   "outputs": [
    {
     "data": {
      "text/html": [
       "<div>\n",
       "<style scoped>\n",
       "    .dataframe tbody tr th:only-of-type {\n",
       "        vertical-align: middle;\n",
       "    }\n",
       "\n",
       "    .dataframe tbody tr th {\n",
       "        vertical-align: top;\n",
       "    }\n",
       "\n",
       "    .dataframe thead th {\n",
       "        text-align: right;\n",
       "    }\n",
       "</style>\n",
       "<table border=\"1\" class=\"dataframe\">\n",
       "  <thead>\n",
       "    <tr style=\"text-align: right;\">\n",
       "      <th></th>\n",
       "      <th>hour</th>\n",
       "      <th>min</th>\n",
       "      <th>max</th>\n",
       "      <th>q10</th>\n",
       "      <th>q90</th>\n",
       "    </tr>\n",
       "  </thead>\n",
       "  <tbody>\n",
       "    <tr>\n",
       "      <th>0</th>\n",
       "      <td>0</td>\n",
       "      <td>1.0</td>\n",
       "      <td>8.0</td>\n",
       "      <td>2.0</td>\n",
       "      <td>7.0</td>\n",
       "    </tr>\n",
       "    <tr>\n",
       "      <th>1</th>\n",
       "      <td>1</td>\n",
       "      <td>0.0</td>\n",
       "      <td>5.0</td>\n",
       "      <td>0.0</td>\n",
       "      <td>4.0</td>\n",
       "    </tr>\n",
       "    <tr>\n",
       "      <th>2</th>\n",
       "      <td>2</td>\n",
       "      <td>0.0</td>\n",
       "      <td>1.0</td>\n",
       "      <td>0.0</td>\n",
       "      <td>1.0</td>\n",
       "    </tr>\n",
       "    <tr>\n",
       "      <th>3</th>\n",
       "      <td>3</td>\n",
       "      <td>0.0</td>\n",
       "      <td>1.0</td>\n",
       "      <td>0.0</td>\n",
       "      <td>0.0</td>\n",
       "    </tr>\n",
       "    <tr>\n",
       "      <th>4</th>\n",
       "      <td>4</td>\n",
       "      <td>0.0</td>\n",
       "      <td>6.0</td>\n",
       "      <td>0.0</td>\n",
       "      <td>1.7</td>\n",
       "    </tr>\n",
       "    <tr>\n",
       "      <th>5</th>\n",
       "      <td>5</td>\n",
       "      <td>0.0</td>\n",
       "      <td>7.0</td>\n",
       "      <td>0.0</td>\n",
       "      <td>1.7</td>\n",
       "    </tr>\n",
       "    <tr>\n",
       "      <th>6</th>\n",
       "      <td>6</td>\n",
       "      <td>0.0</td>\n",
       "      <td>16.0</td>\n",
       "      <td>0.0</td>\n",
       "      <td>3.7</td>\n",
       "    </tr>\n",
       "    <tr>\n",
       "      <th>7</th>\n",
       "      <td>7</td>\n",
       "      <td>2.0</td>\n",
       "      <td>14.0</td>\n",
       "      <td>2.3</td>\n",
       "      <td>6.4</td>\n",
       "    </tr>\n",
       "    <tr>\n",
       "      <th>8</th>\n",
       "      <td>8</td>\n",
       "      <td>4.0</td>\n",
       "      <td>15.0</td>\n",
       "      <td>5.0</td>\n",
       "      <td>14.0</td>\n",
       "    </tr>\n",
       "    <tr>\n",
       "      <th>9</th>\n",
       "      <td>9</td>\n",
       "      <td>7.0</td>\n",
       "      <td>17.0</td>\n",
       "      <td>9.3</td>\n",
       "      <td>15.7</td>\n",
       "    </tr>\n",
       "    <tr>\n",
       "      <th>10</th>\n",
       "      <td>10</td>\n",
       "      <td>9.0</td>\n",
       "      <td>21.0</td>\n",
       "      <td>10.3</td>\n",
       "      <td>19.7</td>\n",
       "    </tr>\n",
       "    <tr>\n",
       "      <th>11</th>\n",
       "      <td>11</td>\n",
       "      <td>11.0</td>\n",
       "      <td>23.0</td>\n",
       "      <td>11.3</td>\n",
       "      <td>21.7</td>\n",
       "    </tr>\n",
       "    <tr>\n",
       "      <th>12</th>\n",
       "      <td>12</td>\n",
       "      <td>7.0</td>\n",
       "      <td>25.0</td>\n",
       "      <td>10.3</td>\n",
       "      <td>22.4</td>\n",
       "    </tr>\n",
       "    <tr>\n",
       "      <th>13</th>\n",
       "      <td>13</td>\n",
       "      <td>10.0</td>\n",
       "      <td>22.0</td>\n",
       "      <td>10.3</td>\n",
       "      <td>19.7</td>\n",
       "    </tr>\n",
       "    <tr>\n",
       "      <th>14</th>\n",
       "      <td>14</td>\n",
       "      <td>7.0</td>\n",
       "      <td>25.0</td>\n",
       "      <td>7.6</td>\n",
       "      <td>20.7</td>\n",
       "    </tr>\n",
       "    <tr>\n",
       "      <th>15</th>\n",
       "      <td>15</td>\n",
       "      <td>6.0</td>\n",
       "      <td>24.0</td>\n",
       "      <td>6.0</td>\n",
       "      <td>23.4</td>\n",
       "    </tr>\n",
       "    <tr>\n",
       "      <th>16</th>\n",
       "      <td>16</td>\n",
       "      <td>4.0</td>\n",
       "      <td>21.0</td>\n",
       "      <td>6.0</td>\n",
       "      <td>16.0</td>\n",
       "    </tr>\n",
       "    <tr>\n",
       "      <th>17</th>\n",
       "      <td>17</td>\n",
       "      <td>5.0</td>\n",
       "      <td>22.0</td>\n",
       "      <td>5.6</td>\n",
       "      <td>20.4</td>\n",
       "    </tr>\n",
       "    <tr>\n",
       "      <th>18</th>\n",
       "      <td>18</td>\n",
       "      <td>3.0</td>\n",
       "      <td>13.0</td>\n",
       "      <td>3.3</td>\n",
       "      <td>12.4</td>\n",
       "    </tr>\n",
       "    <tr>\n",
       "      <th>19</th>\n",
       "      <td>19</td>\n",
       "      <td>4.0</td>\n",
       "      <td>17.0</td>\n",
       "      <td>5.0</td>\n",
       "      <td>13.7</td>\n",
       "    </tr>\n",
       "    <tr>\n",
       "      <th>20</th>\n",
       "      <td>20</td>\n",
       "      <td>4.0</td>\n",
       "      <td>12.0</td>\n",
       "      <td>4.0</td>\n",
       "      <td>10.7</td>\n",
       "    </tr>\n",
       "    <tr>\n",
       "      <th>21</th>\n",
       "      <td>21</td>\n",
       "      <td>1.0</td>\n",
       "      <td>8.0</td>\n",
       "      <td>3.0</td>\n",
       "      <td>7.4</td>\n",
       "    </tr>\n",
       "    <tr>\n",
       "      <th>22</th>\n",
       "      <td>22</td>\n",
       "      <td>3.0</td>\n",
       "      <td>9.0</td>\n",
       "      <td>3.0</td>\n",
       "      <td>8.0</td>\n",
       "    </tr>\n",
       "    <tr>\n",
       "      <th>23</th>\n",
       "      <td>23</td>\n",
       "      <td>1.0</td>\n",
       "      <td>8.0</td>\n",
       "      <td>2.6</td>\n",
       "      <td>7.4</td>\n",
       "    </tr>\n",
       "  </tbody>\n",
       "</table>\n",
       "</div>"
      ],
      "text/plain": [
       "    hour   min   max   q10   q90\n",
       "0      0   1.0   8.0   2.0   7.0\n",
       "1      1   0.0   5.0   0.0   4.0\n",
       "2      2   0.0   1.0   0.0   1.0\n",
       "3      3   0.0   1.0   0.0   0.0\n",
       "4      4   0.0   6.0   0.0   1.7\n",
       "5      5   0.0   7.0   0.0   1.7\n",
       "6      6   0.0  16.0   0.0   3.7\n",
       "7      7   2.0  14.0   2.3   6.4\n",
       "8      8   4.0  15.0   5.0  14.0\n",
       "9      9   7.0  17.0   9.3  15.7\n",
       "10    10   9.0  21.0  10.3  19.7\n",
       "11    11  11.0  23.0  11.3  21.7\n",
       "12    12   7.0  25.0  10.3  22.4\n",
       "13    13  10.0  22.0  10.3  19.7\n",
       "14    14   7.0  25.0   7.6  20.7\n",
       "15    15   6.0  24.0   6.0  23.4\n",
       "16    16   4.0  21.0   6.0  16.0\n",
       "17    17   5.0  22.0   5.6  20.4\n",
       "18    18   3.0  13.0   3.3  12.4\n",
       "19    19   4.0  17.0   5.0  13.7\n",
       "20    20   4.0  12.0   4.0  10.7\n",
       "21    21   1.0   8.0   3.0   7.4\n",
       "22    22   3.0   9.0   3.0   8.0\n",
       "23    23   1.0   8.0   2.6   7.4"
      ]
     },
     "execution_count": 120,
     "metadata": {},
     "output_type": "execute_result"
    }
   ],
   "source": [
    "historical_data = jobs_per_hour_historic_long.groupby(['hour'])['value'].agg(['min','max', q10, q90]).reset_index()\n",
    "historical_data"
   ]
  },
  {
   "cell_type": "code",
   "execution_count": 103,
   "metadata": {},
   "outputs": [
    {
     "data": {
      "text/html": [
       "<div>\n",
       "<style scoped>\n",
       "    .dataframe tbody tr th:only-of-type {\n",
       "        vertical-align: middle;\n",
       "    }\n",
       "\n",
       "    .dataframe tbody tr th {\n",
       "        vertical-align: top;\n",
       "    }\n",
       "\n",
       "    .dataframe thead th {\n",
       "        text-align: right;\n",
       "    }\n",
       "</style>\n",
       "<table border=\"1\" class=\"dataframe\">\n",
       "  <thead>\n",
       "    <tr style=\"text-align: right;\">\n",
       "      <th></th>\n",
       "      <th>hour</th>\n",
       "      <th>run_number</th>\n",
       "      <th>count</th>\n",
       "    </tr>\n",
       "  </thead>\n",
       "  <tbody>\n",
       "    <tr>\n",
       "      <th>0</th>\n",
       "      <td>0</td>\n",
       "      <td>1</td>\n",
       "      <td>33</td>\n",
       "    </tr>\n",
       "    <tr>\n",
       "      <th>1</th>\n",
       "      <td>0</td>\n",
       "      <td>2</td>\n",
       "      <td>22</td>\n",
       "    </tr>\n",
       "    <tr>\n",
       "      <th>2</th>\n",
       "      <td>0</td>\n",
       "      <td>3</td>\n",
       "      <td>36</td>\n",
       "    </tr>\n",
       "    <tr>\n",
       "      <th>3</th>\n",
       "      <td>0</td>\n",
       "      <td>4</td>\n",
       "      <td>32</td>\n",
       "    </tr>\n",
       "    <tr>\n",
       "      <th>4</th>\n",
       "      <td>0</td>\n",
       "      <td>5</td>\n",
       "      <td>24</td>\n",
       "    </tr>\n",
       "    <tr>\n",
       "      <th>...</th>\n",
       "      <td>...</td>\n",
       "      <td>...</td>\n",
       "      <td>...</td>\n",
       "    </tr>\n",
       "    <tr>\n",
       "      <th>438</th>\n",
       "      <td>23</td>\n",
       "      <td>16</td>\n",
       "      <td>44</td>\n",
       "    </tr>\n",
       "    <tr>\n",
       "      <th>439</th>\n",
       "      <td>23</td>\n",
       "      <td>17</td>\n",
       "      <td>43</td>\n",
       "    </tr>\n",
       "    <tr>\n",
       "      <th>440</th>\n",
       "      <td>23</td>\n",
       "      <td>18</td>\n",
       "      <td>48</td>\n",
       "    </tr>\n",
       "    <tr>\n",
       "      <th>441</th>\n",
       "      <td>23</td>\n",
       "      <td>19</td>\n",
       "      <td>27</td>\n",
       "    </tr>\n",
       "    <tr>\n",
       "      <th>442</th>\n",
       "      <td>23</td>\n",
       "      <td>20</td>\n",
       "      <td>41</td>\n",
       "    </tr>\n",
       "  </tbody>\n",
       "</table>\n",
       "<p>443 rows × 3 columns</p>\n",
       "</div>"
      ],
      "text/plain": [
       "     hour  run_number  count\n",
       "0       0           1     33\n",
       "1       0           2     22\n",
       "2       0           3     36\n",
       "3       0           4     32\n",
       "4       0           5     24\n",
       "..    ...         ...    ...\n",
       "438    23          16     44\n",
       "439    23          17     43\n",
       "440    23          18     48\n",
       "441    23          19     27\n",
       "442    23          20     41\n",
       "\n",
       "[443 rows x 3 columns]"
      ]
     },
     "execution_count": 103,
     "metadata": {},
     "output_type": "execute_result"
    }
   ],
   "source": [
    "hourly_calls_per_run = call_df.groupby(['hour', 'run_number'])[['P_ID']].count().reset_index().rename(columns={\"P_ID\": \"count\"})\n",
    "hourly_calls_per_run"
   ]
  },
  {
   "cell_type": "code",
   "execution_count": 117,
   "metadata": {},
   "outputs": [
    {
     "data": {
      "application/vnd.plotly.v1+json": {
       "config": {
        "plotlyServerURL": "https://plot.ly"
       },
       "data": [
        {
         "alignmentgroup": "True",
         "hovertemplate": "Hour=%{x}<br>Total Calls Per Hour Across Simulation<br>Averaged Across Simulation Runs=%{y}<extra></extra>",
         "legendgroup": "",
         "marker": {
          "color": "#000001",
          "pattern": {
           "shape": ""
          }
         },
         "name": "",
         "offsetgroup": "",
         "orientation": "v",
         "showlegend": false,
         "textposition": "auto",
         "type": "bar",
         "x": [
          0,
          1,
          2,
          3,
          4,
          5,
          6,
          7,
          8,
          9,
          10,
          11,
          12,
          13,
          14,
          15,
          16,
          17,
          18,
          19,
          20,
          21,
          22,
          23
         ],
         "xaxis": "x",
         "y": [
          28.65,
          12.6,
          1.125,
          1,
          1.4545454545454546,
          4.75,
          9.85,
          45.95,
          78.1,
          110.65,
          145.4,
          154.85,
          151.2,
          127.7,
          125.15,
          136.95,
          108.95,
          91,
          74.5,
          74.95,
          65.25,
          47.85,
          46.35,
          43.5
         ],
         "yaxis": "y"
        }
       ],
       "layout": {
        "barmode": "relative",
        "legend": {
         "tracegroupgap": 0
        },
        "margin": {
         "t": 60
        },
        "template": {
         "data": {
          "candlestick": [
           {
            "decreasing": {
             "line": {
              "color": "#000033"
             }
            },
            "increasing": {
             "line": {
              "color": "#000032"
             }
            },
            "type": "candlestick"
           }
          ],
          "contour": [
           {
            "colorscale": [
             [
              0,
              "#000011"
             ],
             [
              0.1111111111111111,
              "#000012"
             ],
             [
              0.2222222222222222,
              "#000013"
             ],
             [
              0.3333333333333333,
              "#000014"
             ],
             [
              0.4444444444444444,
              "#000015"
             ],
             [
              0.5555555555555556,
              "#000016"
             ],
             [
              0.6666666666666666,
              "#000017"
             ],
             [
              0.7777777777777778,
              "#000018"
             ],
             [
              0.8888888888888888,
              "#000019"
             ],
             [
              1,
              "#000020"
             ]
            ],
            "type": "contour"
           }
          ],
          "contourcarpet": [
           {
            "colorscale": [
             [
              0,
              "#000011"
             ],
             [
              0.1111111111111111,
              "#000012"
             ],
             [
              0.2222222222222222,
              "#000013"
             ],
             [
              0.3333333333333333,
              "#000014"
             ],
             [
              0.4444444444444444,
              "#000015"
             ],
             [
              0.5555555555555556,
              "#000016"
             ],
             [
              0.6666666666666666,
              "#000017"
             ],
             [
              0.7777777777777778,
              "#000018"
             ],
             [
              0.8888888888888888,
              "#000019"
             ],
             [
              1,
              "#000020"
             ]
            ],
            "type": "contourcarpet"
           }
          ],
          "heatmap": [
           {
            "colorscale": [
             [
              0,
              "#000011"
             ],
             [
              0.1111111111111111,
              "#000012"
             ],
             [
              0.2222222222222222,
              "#000013"
             ],
             [
              0.3333333333333333,
              "#000014"
             ],
             [
              0.4444444444444444,
              "#000015"
             ],
             [
              0.5555555555555556,
              "#000016"
             ],
             [
              0.6666666666666666,
              "#000017"
             ],
             [
              0.7777777777777778,
              "#000018"
             ],
             [
              0.8888888888888888,
              "#000019"
             ],
             [
              1,
              "#000020"
             ]
            ],
            "type": "heatmap"
           }
          ],
          "histogram2d": [
           {
            "colorscale": [
             [
              0,
              "#000011"
             ],
             [
              0.1111111111111111,
              "#000012"
             ],
             [
              0.2222222222222222,
              "#000013"
             ],
             [
              0.3333333333333333,
              "#000014"
             ],
             [
              0.4444444444444444,
              "#000015"
             ],
             [
              0.5555555555555556,
              "#000016"
             ],
             [
              0.6666666666666666,
              "#000017"
             ],
             [
              0.7777777777777778,
              "#000018"
             ],
             [
              0.8888888888888888,
              "#000019"
             ],
             [
              1,
              "#000020"
             ]
            ],
            "type": "histogram2d"
           }
          ],
          "icicle": [
           {
            "textfont": {
             "color": "white"
            },
            "type": "icicle"
           }
          ],
          "sankey": [
           {
            "textfont": {
             "color": "#000036"
            },
            "type": "sankey"
           }
          ],
          "scatter": [
           {
            "marker": {
             "line": {
              "width": 0
             }
            },
            "type": "scatter"
           }
          ],
          "table": [
           {
            "cells": {
             "fill": {
              "color": "#000038"
             },
             "font": {
              "color": "#000037"
             },
             "line": {
              "color": "#000039"
             }
            },
            "header": {
             "fill": {
              "color": "#000040"
             },
             "font": {
              "color": "#000036"
             },
             "line": {
              "color": "#000039"
             }
            },
            "type": "table"
           }
          ],
          "waterfall": [
           {
            "connector": {
             "line": {
              "color": "#000036",
              "width": 2
             }
            },
            "decreasing": {
             "marker": {
              "color": "#000033"
             }
            },
            "increasing": {
             "marker": {
              "color": "#000032"
             }
            },
            "totals": {
             "marker": {
              "color": "#000034"
             }
            },
            "type": "waterfall"
           }
          ]
         },
         "layout": {
          "coloraxis": {
           "colorscale": [
            [
             0,
             "#000011"
            ],
            [
             0.1111111111111111,
             "#000012"
            ],
            [
             0.2222222222222222,
             "#000013"
            ],
            [
             0.3333333333333333,
             "#000014"
            ],
            [
             0.4444444444444444,
             "#000015"
            ],
            [
             0.5555555555555556,
             "#000016"
            ],
            [
             0.6666666666666666,
             "#000017"
            ],
            [
             0.7777777777777778,
             "#000018"
            ],
            [
             0.8888888888888888,
             "#000019"
            ],
            [
             1,
             "#000020"
            ]
           ]
          },
          "colorscale": {
           "diverging": [
            [
             0,
             "#000021"
            ],
            [
             0.1,
             "#000022"
            ],
            [
             0.2,
             "#000023"
            ],
            [
             0.3,
             "#000024"
            ],
            [
             0.4,
             "#000025"
            ],
            [
             0.5,
             "#000026"
            ],
            [
             0.6,
             "#000027"
            ],
            [
             0.7,
             "#000028"
            ],
            [
             0.8,
             "#000029"
            ],
            [
             0.9,
             "#000030"
            ],
            [
             1,
             "#000031"
            ]
           ],
           "sequential": [
            [
             0,
             "#000011"
            ],
            [
             0.1111111111111111,
             "#000012"
            ],
            [
             0.2222222222222222,
             "#000013"
            ],
            [
             0.3333333333333333,
             "#000014"
            ],
            [
             0.4444444444444444,
             "#000015"
            ],
            [
             0.5555555555555556,
             "#000016"
            ],
            [
             0.6666666666666666,
             "#000017"
            ],
            [
             0.7777777777777778,
             "#000018"
            ],
            [
             0.8888888888888888,
             "#000019"
            ],
            [
             1,
             "#000020"
            ]
           ],
           "sequentialminus": [
            [
             0,
             "#000011"
            ],
            [
             0.1111111111111111,
             "#000012"
            ],
            [
             0.2222222222222222,
             "#000013"
            ],
            [
             0.3333333333333333,
             "#000014"
            ],
            [
             0.4444444444444444,
             "#000015"
            ],
            [
             0.5555555555555556,
             "#000016"
            ],
            [
             0.6666666666666666,
             "#000017"
            ],
            [
             0.7777777777777778,
             "#000018"
            ],
            [
             0.8888888888888888,
             "#000019"
            ],
            [
             1,
             "#000020"
            ]
           ]
          },
          "colorway": [
           "#000001",
           "#000002",
           "#000003",
           "#000004",
           "#000005",
           "#000006",
           "#000007",
           "#000008",
           "#000009",
           "#000010"
          ]
         }
        },
        "xaxis": {
         "anchor": "y",
         "domain": [
          0,
          1
         ],
         "dtick": 1,
         "title": {
          "text": "Hour"
         }
        },
        "yaxis": {
         "anchor": "x",
         "domain": [
          0,
          1
         ],
         "title": {
          "text": "Total Calls Per Hour Across Simulation<br>Averaged Across Simulation Runs"
         }
        }
       }
      }
     },
     "metadata": {},
     "output_type": "display_data"
    }
   ],
   "source": [
    "aggregated_data = hourly_calls_per_run.groupby(\"hour\").agg(\n",
    "            mean_count=(\"count\", \"mean\"),\n",
    "            std_count=(\"count\", \"std\")\n",
    "        ).reset_index()\n",
    "\n",
    "fig = px.bar(\n",
    "                aggregated_data,\n",
    "                x=\"hour\",\n",
    "                y=\"mean_count\",\n",
    "\n",
    "                labels={\"mean_count\": \"Total Calls Per Hour Across Simulation<br>Averaged Across Simulation Runs\",\n",
    "                        \"hour\": \"Hour\"},\n",
    "\n",
    "            ).update_xaxes(dtick=1)\n",
    "\n",
    "fig"
   ]
  },
  {
   "cell_type": "code",
   "execution_count": 121,
   "metadata": {},
   "outputs": [
    {
     "data": {
      "text/html": [
       "<div>\n",
       "<style scoped>\n",
       "    .dataframe tbody tr th:only-of-type {\n",
       "        vertical-align: middle;\n",
       "    }\n",
       "\n",
       "    .dataframe tbody tr th {\n",
       "        vertical-align: top;\n",
       "    }\n",
       "\n",
       "    .dataframe thead th {\n",
       "        text-align: right;\n",
       "    }\n",
       "</style>\n",
       "<table border=\"1\" class=\"dataframe\">\n",
       "  <thead>\n",
       "    <tr style=\"text-align: right;\">\n",
       "      <th></th>\n",
       "      <th>hour</th>\n",
       "      <th>min</th>\n",
       "      <th>max</th>\n",
       "      <th>q10</th>\n",
       "      <th>q90</th>\n",
       "    </tr>\n",
       "  </thead>\n",
       "  <tbody>\n",
       "    <tr>\n",
       "      <th>0</th>\n",
       "      <td>0</td>\n",
       "      <td>1.0</td>\n",
       "      <td>8.0</td>\n",
       "      <td>2.0</td>\n",
       "      <td>7.0</td>\n",
       "    </tr>\n",
       "    <tr>\n",
       "      <th>1</th>\n",
       "      <td>1</td>\n",
       "      <td>0.0</td>\n",
       "      <td>5.0</td>\n",
       "      <td>0.0</td>\n",
       "      <td>4.0</td>\n",
       "    </tr>\n",
       "    <tr>\n",
       "      <th>2</th>\n",
       "      <td>2</td>\n",
       "      <td>0.0</td>\n",
       "      <td>1.0</td>\n",
       "      <td>0.0</td>\n",
       "      <td>1.0</td>\n",
       "    </tr>\n",
       "    <tr>\n",
       "      <th>3</th>\n",
       "      <td>3</td>\n",
       "      <td>0.0</td>\n",
       "      <td>1.0</td>\n",
       "      <td>0.0</td>\n",
       "      <td>0.0</td>\n",
       "    </tr>\n",
       "    <tr>\n",
       "      <th>4</th>\n",
       "      <td>4</td>\n",
       "      <td>0.0</td>\n",
       "      <td>6.0</td>\n",
       "      <td>0.0</td>\n",
       "      <td>1.7</td>\n",
       "    </tr>\n",
       "    <tr>\n",
       "      <th>5</th>\n",
       "      <td>5</td>\n",
       "      <td>0.0</td>\n",
       "      <td>7.0</td>\n",
       "      <td>0.0</td>\n",
       "      <td>1.7</td>\n",
       "    </tr>\n",
       "    <tr>\n",
       "      <th>6</th>\n",
       "      <td>6</td>\n",
       "      <td>0.0</td>\n",
       "      <td>16.0</td>\n",
       "      <td>0.0</td>\n",
       "      <td>3.7</td>\n",
       "    </tr>\n",
       "    <tr>\n",
       "      <th>7</th>\n",
       "      <td>7</td>\n",
       "      <td>2.0</td>\n",
       "      <td>14.0</td>\n",
       "      <td>2.3</td>\n",
       "      <td>6.4</td>\n",
       "    </tr>\n",
       "    <tr>\n",
       "      <th>8</th>\n",
       "      <td>8</td>\n",
       "      <td>4.0</td>\n",
       "      <td>15.0</td>\n",
       "      <td>5.0</td>\n",
       "      <td>14.0</td>\n",
       "    </tr>\n",
       "    <tr>\n",
       "      <th>9</th>\n",
       "      <td>9</td>\n",
       "      <td>7.0</td>\n",
       "      <td>17.0</td>\n",
       "      <td>9.3</td>\n",
       "      <td>15.7</td>\n",
       "    </tr>\n",
       "    <tr>\n",
       "      <th>10</th>\n",
       "      <td>10</td>\n",
       "      <td>9.0</td>\n",
       "      <td>21.0</td>\n",
       "      <td>10.3</td>\n",
       "      <td>19.7</td>\n",
       "    </tr>\n",
       "    <tr>\n",
       "      <th>11</th>\n",
       "      <td>11</td>\n",
       "      <td>11.0</td>\n",
       "      <td>23.0</td>\n",
       "      <td>11.3</td>\n",
       "      <td>21.7</td>\n",
       "    </tr>\n",
       "    <tr>\n",
       "      <th>12</th>\n",
       "      <td>12</td>\n",
       "      <td>7.0</td>\n",
       "      <td>25.0</td>\n",
       "      <td>10.3</td>\n",
       "      <td>22.4</td>\n",
       "    </tr>\n",
       "    <tr>\n",
       "      <th>13</th>\n",
       "      <td>13</td>\n",
       "      <td>10.0</td>\n",
       "      <td>22.0</td>\n",
       "      <td>10.3</td>\n",
       "      <td>19.7</td>\n",
       "    </tr>\n",
       "    <tr>\n",
       "      <th>14</th>\n",
       "      <td>14</td>\n",
       "      <td>7.0</td>\n",
       "      <td>25.0</td>\n",
       "      <td>7.6</td>\n",
       "      <td>20.7</td>\n",
       "    </tr>\n",
       "    <tr>\n",
       "      <th>15</th>\n",
       "      <td>15</td>\n",
       "      <td>6.0</td>\n",
       "      <td>24.0</td>\n",
       "      <td>6.0</td>\n",
       "      <td>23.4</td>\n",
       "    </tr>\n",
       "    <tr>\n",
       "      <th>16</th>\n",
       "      <td>16</td>\n",
       "      <td>4.0</td>\n",
       "      <td>21.0</td>\n",
       "      <td>6.0</td>\n",
       "      <td>16.0</td>\n",
       "    </tr>\n",
       "    <tr>\n",
       "      <th>17</th>\n",
       "      <td>17</td>\n",
       "      <td>5.0</td>\n",
       "      <td>22.0</td>\n",
       "      <td>5.6</td>\n",
       "      <td>20.4</td>\n",
       "    </tr>\n",
       "    <tr>\n",
       "      <th>18</th>\n",
       "      <td>18</td>\n",
       "      <td>3.0</td>\n",
       "      <td>13.0</td>\n",
       "      <td>3.3</td>\n",
       "      <td>12.4</td>\n",
       "    </tr>\n",
       "    <tr>\n",
       "      <th>19</th>\n",
       "      <td>19</td>\n",
       "      <td>4.0</td>\n",
       "      <td>17.0</td>\n",
       "      <td>5.0</td>\n",
       "      <td>13.7</td>\n",
       "    </tr>\n",
       "    <tr>\n",
       "      <th>20</th>\n",
       "      <td>20</td>\n",
       "      <td>4.0</td>\n",
       "      <td>12.0</td>\n",
       "      <td>4.0</td>\n",
       "      <td>10.7</td>\n",
       "    </tr>\n",
       "    <tr>\n",
       "      <th>21</th>\n",
       "      <td>21</td>\n",
       "      <td>1.0</td>\n",
       "      <td>8.0</td>\n",
       "      <td>3.0</td>\n",
       "      <td>7.4</td>\n",
       "    </tr>\n",
       "    <tr>\n",
       "      <th>22</th>\n",
       "      <td>22</td>\n",
       "      <td>3.0</td>\n",
       "      <td>9.0</td>\n",
       "      <td>3.0</td>\n",
       "      <td>8.0</td>\n",
       "    </tr>\n",
       "    <tr>\n",
       "      <th>23</th>\n",
       "      <td>23</td>\n",
       "      <td>1.0</td>\n",
       "      <td>8.0</td>\n",
       "      <td>2.6</td>\n",
       "      <td>7.4</td>\n",
       "    </tr>\n",
       "  </tbody>\n",
       "</table>\n",
       "</div>"
      ],
      "text/plain": [
       "    hour   min   max   q10   q90\n",
       "0      0   1.0   8.0   2.0   7.0\n",
       "1      1   0.0   5.0   0.0   4.0\n",
       "2      2   0.0   1.0   0.0   1.0\n",
       "3      3   0.0   1.0   0.0   0.0\n",
       "4      4   0.0   6.0   0.0   1.7\n",
       "5      5   0.0   7.0   0.0   1.7\n",
       "6      6   0.0  16.0   0.0   3.7\n",
       "7      7   2.0  14.0   2.3   6.4\n",
       "8      8   4.0  15.0   5.0  14.0\n",
       "9      9   7.0  17.0   9.3  15.7\n",
       "10    10   9.0  21.0  10.3  19.7\n",
       "11    11  11.0  23.0  11.3  21.7\n",
       "12    12   7.0  25.0  10.3  22.4\n",
       "13    13  10.0  22.0  10.3  19.7\n",
       "14    14   7.0  25.0   7.6  20.7\n",
       "15    15   6.0  24.0   6.0  23.4\n",
       "16    16   4.0  21.0   6.0  16.0\n",
       "17    17   5.0  22.0   5.6  20.4\n",
       "18    18   3.0  13.0   3.3  12.4\n",
       "19    19   4.0  17.0   5.0  13.7\n",
       "20    20   4.0  12.0   4.0  10.7\n",
       "21    21   1.0   8.0   3.0   7.4\n",
       "22    22   3.0   9.0   3.0   8.0\n",
       "23    23   1.0   8.0   2.6   7.4"
      ]
     },
     "execution_count": 121,
     "metadata": {},
     "output_type": "execute_result"
    }
   ],
   "source": [
    "historical_data"
   ]
  },
  {
   "cell_type": "code",
   "execution_count": 122,
   "metadata": {},
   "outputs": [
    {
     "data": {
      "application/vnd.plotly.v1+json": {
       "config": {
        "plotlyServerURL": "https://plot.ly"
       },
       "data": [
        {
         "alignmentgroup": "True",
         "hovertemplate": "Hour=%{x}<br>Total Calls Per Hour Across Simulation<br>Averaged Across Simulation Runs=%{y}<extra></extra>",
         "legendgroup": "",
         "marker": {
          "color": "#000001",
          "pattern": {
           "shape": ""
          }
         },
         "name": "",
         "offsetgroup": "",
         "orientation": "v",
         "showlegend": false,
         "textposition": "auto",
         "type": "bar",
         "x": [
          0,
          1,
          2,
          3,
          4,
          5,
          6,
          7,
          8,
          9,
          10,
          11,
          12,
          13,
          14,
          15,
          16,
          17,
          18,
          19,
          20,
          21,
          22,
          23
         ],
         "xaxis": "x",
         "y": [
          28.65,
          12.6,
          1.125,
          1,
          1.4545454545454546,
          4.75,
          9.85,
          45.95,
          78.1,
          110.65,
          145.4,
          154.85,
          151.2,
          127.7,
          125.15,
          136.95,
          108.95,
          91,
          74.5,
          74.95,
          65.25,
          47.85,
          46.35,
          43.5
         ],
         "yaxis": "y"
        },
        {
         "base": [
          1,
          0,
          0,
          0,
          0,
          0,
          0,
          2,
          4,
          7,
          9,
          11,
          7,
          10,
          7,
          6,
          4,
          5,
          3,
          4,
          4,
          1,
          3,
          1
         ],
         "hoverinfo": "skip",
         "marker": {
          "color": "rgba(100, 100, 255, 0.3)"
         },
         "name": "Historical Range",
         "showlegend": true,
         "type": "bar",
         "x": [
          0,
          1,
          2,
          3,
          4,
          5,
          6,
          7,
          8,
          9,
          10,
          11,
          12,
          13,
          14,
          15,
          16,
          17,
          18,
          19,
          20,
          21,
          22,
          23
         ],
         "y": [
          7,
          5,
          1,
          1,
          6,
          7,
          16,
          12,
          11,
          10,
          12,
          12,
          18,
          12,
          18,
          18,
          17,
          17,
          10,
          13,
          8,
          7,
          6,
          7
         ]
        }
       ],
       "layout": {
        "barmode": "relative",
        "legend": {
         "tracegroupgap": 0
        },
        "margin": {
         "t": 60
        },
        "template": {
         "data": {
          "candlestick": [
           {
            "decreasing": {
             "line": {
              "color": "#000033"
             }
            },
            "increasing": {
             "line": {
              "color": "#000032"
             }
            },
            "type": "candlestick"
           }
          ],
          "contour": [
           {
            "colorscale": [
             [
              0,
              "#000011"
             ],
             [
              0.1111111111111111,
              "#000012"
             ],
             [
              0.2222222222222222,
              "#000013"
             ],
             [
              0.3333333333333333,
              "#000014"
             ],
             [
              0.4444444444444444,
              "#000015"
             ],
             [
              0.5555555555555556,
              "#000016"
             ],
             [
              0.6666666666666666,
              "#000017"
             ],
             [
              0.7777777777777778,
              "#000018"
             ],
             [
              0.8888888888888888,
              "#000019"
             ],
             [
              1,
              "#000020"
             ]
            ],
            "type": "contour"
           }
          ],
          "contourcarpet": [
           {
            "colorscale": [
             [
              0,
              "#000011"
             ],
             [
              0.1111111111111111,
              "#000012"
             ],
             [
              0.2222222222222222,
              "#000013"
             ],
             [
              0.3333333333333333,
              "#000014"
             ],
             [
              0.4444444444444444,
              "#000015"
             ],
             [
              0.5555555555555556,
              "#000016"
             ],
             [
              0.6666666666666666,
              "#000017"
             ],
             [
              0.7777777777777778,
              "#000018"
             ],
             [
              0.8888888888888888,
              "#000019"
             ],
             [
              1,
              "#000020"
             ]
            ],
            "type": "contourcarpet"
           }
          ],
          "heatmap": [
           {
            "colorscale": [
             [
              0,
              "#000011"
             ],
             [
              0.1111111111111111,
              "#000012"
             ],
             [
              0.2222222222222222,
              "#000013"
             ],
             [
              0.3333333333333333,
              "#000014"
             ],
             [
              0.4444444444444444,
              "#000015"
             ],
             [
              0.5555555555555556,
              "#000016"
             ],
             [
              0.6666666666666666,
              "#000017"
             ],
             [
              0.7777777777777778,
              "#000018"
             ],
             [
              0.8888888888888888,
              "#000019"
             ],
             [
              1,
              "#000020"
             ]
            ],
            "type": "heatmap"
           }
          ],
          "histogram2d": [
           {
            "colorscale": [
             [
              0,
              "#000011"
             ],
             [
              0.1111111111111111,
              "#000012"
             ],
             [
              0.2222222222222222,
              "#000013"
             ],
             [
              0.3333333333333333,
              "#000014"
             ],
             [
              0.4444444444444444,
              "#000015"
             ],
             [
              0.5555555555555556,
              "#000016"
             ],
             [
              0.6666666666666666,
              "#000017"
             ],
             [
              0.7777777777777778,
              "#000018"
             ],
             [
              0.8888888888888888,
              "#000019"
             ],
             [
              1,
              "#000020"
             ]
            ],
            "type": "histogram2d"
           }
          ],
          "icicle": [
           {
            "textfont": {
             "color": "white"
            },
            "type": "icicle"
           }
          ],
          "sankey": [
           {
            "textfont": {
             "color": "#000036"
            },
            "type": "sankey"
           }
          ],
          "scatter": [
           {
            "marker": {
             "line": {
              "width": 0
             }
            },
            "type": "scatter"
           }
          ],
          "table": [
           {
            "cells": {
             "fill": {
              "color": "#000038"
             },
             "font": {
              "color": "#000037"
             },
             "line": {
              "color": "#000039"
             }
            },
            "header": {
             "fill": {
              "color": "#000040"
             },
             "font": {
              "color": "#000036"
             },
             "line": {
              "color": "#000039"
             }
            },
            "type": "table"
           }
          ],
          "waterfall": [
           {
            "connector": {
             "line": {
              "color": "#000036",
              "width": 2
             }
            },
            "decreasing": {
             "marker": {
              "color": "#000033"
             }
            },
            "increasing": {
             "marker": {
              "color": "#000032"
             }
            },
            "totals": {
             "marker": {
              "color": "#000034"
             }
            },
            "type": "waterfall"
           }
          ]
         },
         "layout": {
          "coloraxis": {
           "colorscale": [
            [
             0,
             "#000011"
            ],
            [
             0.1111111111111111,
             "#000012"
            ],
            [
             0.2222222222222222,
             "#000013"
            ],
            [
             0.3333333333333333,
             "#000014"
            ],
            [
             0.4444444444444444,
             "#000015"
            ],
            [
             0.5555555555555556,
             "#000016"
            ],
            [
             0.6666666666666666,
             "#000017"
            ],
            [
             0.7777777777777778,
             "#000018"
            ],
            [
             0.8888888888888888,
             "#000019"
            ],
            [
             1,
             "#000020"
            ]
           ]
          },
          "colorscale": {
           "diverging": [
            [
             0,
             "#000021"
            ],
            [
             0.1,
             "#000022"
            ],
            [
             0.2,
             "#000023"
            ],
            [
             0.3,
             "#000024"
            ],
            [
             0.4,
             "#000025"
            ],
            [
             0.5,
             "#000026"
            ],
            [
             0.6,
             "#000027"
            ],
            [
             0.7,
             "#000028"
            ],
            [
             0.8,
             "#000029"
            ],
            [
             0.9,
             "#000030"
            ],
            [
             1,
             "#000031"
            ]
           ],
           "sequential": [
            [
             0,
             "#000011"
            ],
            [
             0.1111111111111111,
             "#000012"
            ],
            [
             0.2222222222222222,
             "#000013"
            ],
            [
             0.3333333333333333,
             "#000014"
            ],
            [
             0.4444444444444444,
             "#000015"
            ],
            [
             0.5555555555555556,
             "#000016"
            ],
            [
             0.6666666666666666,
             "#000017"
            ],
            [
             0.7777777777777778,
             "#000018"
            ],
            [
             0.8888888888888888,
             "#000019"
            ],
            [
             1,
             "#000020"
            ]
           ],
           "sequentialminus": [
            [
             0,
             "#000011"
            ],
            [
             0.1111111111111111,
             "#000012"
            ],
            [
             0.2222222222222222,
             "#000013"
            ],
            [
             0.3333333333333333,
             "#000014"
            ],
            [
             0.4444444444444444,
             "#000015"
            ],
            [
             0.5555555555555556,
             "#000016"
            ],
            [
             0.6666666666666666,
             "#000017"
            ],
            [
             0.7777777777777778,
             "#000018"
            ],
            [
             0.8888888888888888,
             "#000019"
            ],
            [
             1,
             "#000020"
            ]
           ]
          },
          "colorway": [
           "#000001",
           "#000002",
           "#000003",
           "#000004",
           "#000005",
           "#000006",
           "#000007",
           "#000008",
           "#000009",
           "#000010"
          ]
         }
        },
        "xaxis": {
         "anchor": "y",
         "domain": [
          0,
          1
         ],
         "dtick": 1,
         "title": {
          "text": "Hour"
         }
        },
        "yaxis": {
         "anchor": "x",
         "domain": [
          0,
          1
         ],
         "title": {
          "text": "Total Calls Per Hour Across Simulation<br>Averaged Across Simulation Runs"
         }
        }
       }
      }
     },
     "metadata": {},
     "output_type": "display_data"
    }
   ],
   "source": [
    "fig.add_trace(go.Bar(\n",
    "    x=historical_data[\"hour\"],\n",
    "    y=historical_data[\"max\"] - historical_data[\"min\"],  # The range\n",
    "    base=historical_data[\"min\"],  # Starts from the minimum\n",
    "    name=\"Historical Range\",\n",
    "    marker_color=\"rgba(100, 100, 255, 0.3)\",  # Light blue with transparency\n",
    "    hoverinfo=\"skip\",  # Hide hover info for clarity\n",
    "    showlegend=True\n",
    "))"
   ]
  }
 ],
 "metadata": {
  "kernelspec": {
   "display_name": ".venv",
   "language": "python",
   "name": "python3"
  },
  "language_info": {
   "codemirror_mode": {
    "name": "ipython",
    "version": 3
   },
   "file_extension": ".py",
   "mimetype": "text/x-python",
   "name": "python",
   "nbconvert_exporter": "python",
   "pygments_lexer": "ipython3",
   "version": "3.11.9"
  }
 },
 "nbformat": 4,
 "nbformat_minor": 2
}
