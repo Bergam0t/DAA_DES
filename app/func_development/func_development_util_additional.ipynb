{
 "cells": [
  {
   "cell_type": "code",
   "execution_count": 245,
   "metadata": {},
   "outputs": [
    {
     "data": {
      "text/html": [
       "<div>\n",
       "<style scoped>\n",
       "    .dataframe tbody tr th:only-of-type {\n",
       "        vertical-align: middle;\n",
       "    }\n",
       "\n",
       "    .dataframe tbody tr th {\n",
       "        vertical-align: top;\n",
       "    }\n",
       "\n",
       "    .dataframe thead th {\n",
       "        text-align: right;\n",
       "    }\n",
       "</style>\n",
       "<table border=\"1\" class=\"dataframe\">\n",
       "  <thead>\n",
       "    <tr style=\"text-align: right;\">\n",
       "      <th></th>\n",
       "      <th>month</th>\n",
       "      <th>n_CC70</th>\n",
       "      <th>n_CC71</th>\n",
       "      <th>n_CC72</th>\n",
       "      <th>n_H70</th>\n",
       "      <th>n_H71</th>\n",
       "      <th>total_time_CC70</th>\n",
       "      <th>total_time_CC71</th>\n",
       "      <th>total_time_CC72</th>\n",
       "      <th>total_time_H70</th>\n",
       "      <th>total_time_H71</th>\n",
       "    </tr>\n",
       "  </thead>\n",
       "  <tbody>\n",
       "    <tr>\n",
       "      <th>0</th>\n",
       "      <td>2022-08-01</td>\n",
       "      <td>28.0</td>\n",
       "      <td>9.0</td>\n",
       "      <td>20.0</td>\n",
       "      <td>85.0</td>\n",
       "      <td>32.0</td>\n",
       "      <td>2580.0</td>\n",
       "      <td>740.0</td>\n",
       "      <td>1767.0</td>\n",
       "      <td>7715.0</td>\n",
       "      <td>3205.0</td>\n",
       "    </tr>\n",
       "    <tr>\n",
       "      <th>1</th>\n",
       "      <td>2022-09-01</td>\n",
       "      <td>22.0</td>\n",
       "      <td>1.0</td>\n",
       "      <td>8.0</td>\n",
       "      <td>73.0</td>\n",
       "      <td>35.0</td>\n",
       "      <td>1599.0</td>\n",
       "      <td>113.0</td>\n",
       "      <td>653.0</td>\n",
       "      <td>6704.0</td>\n",
       "      <td>3356.0</td>\n",
       "    </tr>\n",
       "    <tr>\n",
       "      <th>2</th>\n",
       "      <td>2022-10-01</td>\n",
       "      <td>31.0</td>\n",
       "      <td>6.0</td>\n",
       "      <td>37.0</td>\n",
       "      <td>65.0</td>\n",
       "      <td>38.0</td>\n",
       "      <td>2700.0</td>\n",
       "      <td>531.0</td>\n",
       "      <td>2741.0</td>\n",
       "      <td>5804.0</td>\n",
       "      <td>3779.0</td>\n",
       "    </tr>\n",
       "    <tr>\n",
       "      <th>3</th>\n",
       "      <td>2022-11-01</td>\n",
       "      <td>38.0</td>\n",
       "      <td>5.0</td>\n",
       "      <td>21.0</td>\n",
       "      <td>60.0</td>\n",
       "      <td>31.0</td>\n",
       "      <td>2843.0</td>\n",
       "      <td>414.0</td>\n",
       "      <td>1676.0</td>\n",
       "      <td>4970.0</td>\n",
       "      <td>2910.0</td>\n",
       "    </tr>\n",
       "    <tr>\n",
       "      <th>4</th>\n",
       "      <td>2022-12-01</td>\n",
       "      <td>41.0</td>\n",
       "      <td>4.0</td>\n",
       "      <td>24.0</td>\n",
       "      <td>67.0</td>\n",
       "      <td>28.0</td>\n",
       "      <td>4009.0</td>\n",
       "      <td>763.0</td>\n",
       "      <td>1691.0</td>\n",
       "      <td>7024.0</td>\n",
       "      <td>3138.0</td>\n",
       "    </tr>\n",
       "    <tr>\n",
       "      <th>5</th>\n",
       "      <td>2023-01-01</td>\n",
       "      <td>27.0</td>\n",
       "      <td>4.0</td>\n",
       "      <td>27.0</td>\n",
       "      <td>68.0</td>\n",
       "      <td>29.0</td>\n",
       "      <td>2781.0</td>\n",
       "      <td>345.0</td>\n",
       "      <td>1838.0</td>\n",
       "      <td>6321.0</td>\n",
       "      <td>2726.0</td>\n",
       "    </tr>\n",
       "    <tr>\n",
       "      <th>6</th>\n",
       "      <td>2023-02-01</td>\n",
       "      <td>32.0</td>\n",
       "      <td>12.0</td>\n",
       "      <td>44.0</td>\n",
       "      <td>66.0</td>\n",
       "      <td>13.0</td>\n",
       "      <td>2095.0</td>\n",
       "      <td>1025.0</td>\n",
       "      <td>3111.0</td>\n",
       "      <td>5769.0</td>\n",
       "      <td>1082.0</td>\n",
       "    </tr>\n",
       "    <tr>\n",
       "      <th>7</th>\n",
       "      <td>2023-03-01</td>\n",
       "      <td>50.0</td>\n",
       "      <td>20.0</td>\n",
       "      <td>28.0</td>\n",
       "      <td>65.0</td>\n",
       "      <td>NaN</td>\n",
       "      <td>4360.0</td>\n",
       "      <td>1590.0</td>\n",
       "      <td>2574.0</td>\n",
       "      <td>5573.0</td>\n",
       "      <td>NaN</td>\n",
       "    </tr>\n",
       "    <tr>\n",
       "      <th>8</th>\n",
       "      <td>2023-04-01</td>\n",
       "      <td>24.0</td>\n",
       "      <td>16.0</td>\n",
       "      <td>38.0</td>\n",
       "      <td>89.0</td>\n",
       "      <td>15.0</td>\n",
       "      <td>1856.0</td>\n",
       "      <td>1149.0</td>\n",
       "      <td>2755.0</td>\n",
       "      <td>7454.0</td>\n",
       "      <td>1302.0</td>\n",
       "    </tr>\n",
       "    <tr>\n",
       "      <th>9</th>\n",
       "      <td>2023-05-01</td>\n",
       "      <td>15.0</td>\n",
       "      <td>16.0</td>\n",
       "      <td>35.0</td>\n",
       "      <td>103.0</td>\n",
       "      <td>19.0</td>\n",
       "      <td>1357.0</td>\n",
       "      <td>1307.0</td>\n",
       "      <td>3141.0</td>\n",
       "      <td>9117.0</td>\n",
       "      <td>2110.0</td>\n",
       "    </tr>\n",
       "    <tr>\n",
       "      <th>10</th>\n",
       "      <td>2023-06-01</td>\n",
       "      <td>12.0</td>\n",
       "      <td>1.0</td>\n",
       "      <td>22.0</td>\n",
       "      <td>108.0</td>\n",
       "      <td>47.0</td>\n",
       "      <td>1208.0</td>\n",
       "      <td>42.0</td>\n",
       "      <td>1594.0</td>\n",
       "      <td>9937.0</td>\n",
       "      <td>4412.0</td>\n",
       "    </tr>\n",
       "    <tr>\n",
       "      <th>11</th>\n",
       "      <td>2023-07-01</td>\n",
       "      <td>35.0</td>\n",
       "      <td>5.0</td>\n",
       "      <td>21.0</td>\n",
       "      <td>100.0</td>\n",
       "      <td>42.0</td>\n",
       "      <td>2447.0</td>\n",
       "      <td>178.0</td>\n",
       "      <td>1448.0</td>\n",
       "      <td>7363.0</td>\n",
       "      <td>4106.0</td>\n",
       "    </tr>\n",
       "    <tr>\n",
       "      <th>12</th>\n",
       "      <td>2023-08-01</td>\n",
       "      <td>34.0</td>\n",
       "      <td>10.0</td>\n",
       "      <td>19.0</td>\n",
       "      <td>103.0</td>\n",
       "      <td>44.0</td>\n",
       "      <td>2153.0</td>\n",
       "      <td>754.0</td>\n",
       "      <td>963.0</td>\n",
       "      <td>7464.0</td>\n",
       "      <td>4061.0</td>\n",
       "    </tr>\n",
       "    <tr>\n",
       "      <th>13</th>\n",
       "      <td>2023-09-01</td>\n",
       "      <td>40.0</td>\n",
       "      <td>10.0</td>\n",
       "      <td>27.0</td>\n",
       "      <td>104.0</td>\n",
       "      <td>35.0</td>\n",
       "      <td>5517.0</td>\n",
       "      <td>766.0</td>\n",
       "      <td>1936.0</td>\n",
       "      <td>13874.0</td>\n",
       "      <td>3028.0</td>\n",
       "    </tr>\n",
       "    <tr>\n",
       "      <th>14</th>\n",
       "      <td>2023-10-01</td>\n",
       "      <td>33.0</td>\n",
       "      <td>4.0</td>\n",
       "      <td>13.0</td>\n",
       "      <td>89.0</td>\n",
       "      <td>45.0</td>\n",
       "      <td>2272.0</td>\n",
       "      <td>434.0</td>\n",
       "      <td>881.0</td>\n",
       "      <td>8287.0</td>\n",
       "      <td>5102.0</td>\n",
       "    </tr>\n",
       "    <tr>\n",
       "      <th>15</th>\n",
       "      <td>2023-11-01</td>\n",
       "      <td>29.0</td>\n",
       "      <td>5.0</td>\n",
       "      <td>14.0</td>\n",
       "      <td>62.0</td>\n",
       "      <td>11.0</td>\n",
       "      <td>3831.0</td>\n",
       "      <td>305.0</td>\n",
       "      <td>3757.0</td>\n",
       "      <td>8261.0</td>\n",
       "      <td>1259.0</td>\n",
       "    </tr>\n",
       "    <tr>\n",
       "      <th>16</th>\n",
       "      <td>2023-12-01</td>\n",
       "      <td>49.0</td>\n",
       "      <td>19.0</td>\n",
       "      <td>20.0</td>\n",
       "      <td>58.0</td>\n",
       "      <td>4.0</td>\n",
       "      <td>5994.0</td>\n",
       "      <td>2828.0</td>\n",
       "      <td>1744.0</td>\n",
       "      <td>4245.0</td>\n",
       "      <td>398.0</td>\n",
       "    </tr>\n",
       "    <tr>\n",
       "      <th>17</th>\n",
       "      <td>2024-01-01</td>\n",
       "      <td>41.0</td>\n",
       "      <td>5.0</td>\n",
       "      <td>28.0</td>\n",
       "      <td>78.0</td>\n",
       "      <td>35.0</td>\n",
       "      <td>5798.0</td>\n",
       "      <td>1796.0</td>\n",
       "      <td>1710.0</td>\n",
       "      <td>8196.0</td>\n",
       "      <td>3179.0</td>\n",
       "    </tr>\n",
       "    <tr>\n",
       "      <th>18</th>\n",
       "      <td>2024-02-01</td>\n",
       "      <td>61.0</td>\n",
       "      <td>11.0</td>\n",
       "      <td>32.0</td>\n",
       "      <td>52.0</td>\n",
       "      <td>6.0</td>\n",
       "      <td>4347.0</td>\n",
       "      <td>1528.0</td>\n",
       "      <td>3065.0</td>\n",
       "      <td>7135.0</td>\n",
       "      <td>1990.0</td>\n",
       "    </tr>\n",
       "    <tr>\n",
       "      <th>19</th>\n",
       "      <td>2024-03-01</td>\n",
       "      <td>52.0</td>\n",
       "      <td>5.0</td>\n",
       "      <td>40.0</td>\n",
       "      <td>74.0</td>\n",
       "      <td>36.0</td>\n",
       "      <td>3953.0</td>\n",
       "      <td>564.0</td>\n",
       "      <td>3156.0</td>\n",
       "      <td>7421.0</td>\n",
       "      <td>4783.0</td>\n",
       "    </tr>\n",
       "    <tr>\n",
       "      <th>20</th>\n",
       "      <td>2024-04-01</td>\n",
       "      <td>43.0</td>\n",
       "      <td>16.0</td>\n",
       "      <td>29.0</td>\n",
       "      <td>83.0</td>\n",
       "      <td>11.0</td>\n",
       "      <td>2945.0</td>\n",
       "      <td>1133.0</td>\n",
       "      <td>2093.0</td>\n",
       "      <td>9396.0</td>\n",
       "      <td>797.0</td>\n",
       "    </tr>\n",
       "    <tr>\n",
       "      <th>21</th>\n",
       "      <td>2024-05-01</td>\n",
       "      <td>36.0</td>\n",
       "      <td>5.0</td>\n",
       "      <td>33.0</td>\n",
       "      <td>110.0</td>\n",
       "      <td>35.0</td>\n",
       "      <td>3599.0</td>\n",
       "      <td>700.0</td>\n",
       "      <td>3632.0</td>\n",
       "      <td>7733.0</td>\n",
       "      <td>2796.0</td>\n",
       "    </tr>\n",
       "    <tr>\n",
       "      <th>22</th>\n",
       "      <td>2024-06-01</td>\n",
       "      <td>24.0</td>\n",
       "      <td>12.0</td>\n",
       "      <td>46.0</td>\n",
       "      <td>116.0</td>\n",
       "      <td>22.0</td>\n",
       "      <td>4341.0</td>\n",
       "      <td>1039.0</td>\n",
       "      <td>2816.0</td>\n",
       "      <td>11208.0</td>\n",
       "      <td>1795.0</td>\n",
       "    </tr>\n",
       "    <tr>\n",
       "      <th>23</th>\n",
       "      <td>2024-07-01</td>\n",
       "      <td>35.0</td>\n",
       "      <td>3.0</td>\n",
       "      <td>39.0</td>\n",
       "      <td>77.0</td>\n",
       "      <td>29.0</td>\n",
       "      <td>1822.0</td>\n",
       "      <td>284.0</td>\n",
       "      <td>2489.0</td>\n",
       "      <td>8415.0</td>\n",
       "      <td>2635.0</td>\n",
       "    </tr>\n",
       "    <tr>\n",
       "      <th>24</th>\n",
       "      <td>2024-08-01</td>\n",
       "      <td>6.0</td>\n",
       "      <td>NaN</td>\n",
       "      <td>9.0</td>\n",
       "      <td>39.0</td>\n",
       "      <td>23.0</td>\n",
       "      <td>865.0</td>\n",
       "      <td>NaN</td>\n",
       "      <td>1134.0</td>\n",
       "      <td>5648.0</td>\n",
       "      <td>3158.0</td>\n",
       "    </tr>\n",
       "    <tr>\n",
       "      <th>25</th>\n",
       "      <td>2024-09-01</td>\n",
       "      <td>6.0</td>\n",
       "      <td>3.0</td>\n",
       "      <td>3.0</td>\n",
       "      <td>26.0</td>\n",
       "      <td>1.0</td>\n",
       "      <td>873.0</td>\n",
       "      <td>339.0</td>\n",
       "      <td>431.0</td>\n",
       "      <td>3720.0</td>\n",
       "      <td>118.0</td>\n",
       "    </tr>\n",
       "    <tr>\n",
       "      <th>26</th>\n",
       "      <td>2024-10-01</td>\n",
       "      <td>14.0</td>\n",
       "      <td>2.0</td>\n",
       "      <td>9.0</td>\n",
       "      <td>28.0</td>\n",
       "      <td>NaN</td>\n",
       "      <td>1756.0</td>\n",
       "      <td>224.0</td>\n",
       "      <td>1147.0</td>\n",
       "      <td>4138.0</td>\n",
       "      <td>NaN</td>\n",
       "    </tr>\n",
       "    <tr>\n",
       "      <th>27</th>\n",
       "      <td>2024-11-01</td>\n",
       "      <td>14.0</td>\n",
       "      <td>5.0</td>\n",
       "      <td>6.0</td>\n",
       "      <td>15.0</td>\n",
       "      <td>8.0</td>\n",
       "      <td>1591.0</td>\n",
       "      <td>586.0</td>\n",
       "      <td>519.0</td>\n",
       "      <td>2204.0</td>\n",
       "      <td>1089.0</td>\n",
       "    </tr>\n",
       "    <tr>\n",
       "      <th>28</th>\n",
       "      <td>2024-12-01</td>\n",
       "      <td>17.0</td>\n",
       "      <td>2.0</td>\n",
       "      <td>4.0</td>\n",
       "      <td>12.0</td>\n",
       "      <td>7.0</td>\n",
       "      <td>2043.0</td>\n",
       "      <td>117.0</td>\n",
       "      <td>437.0</td>\n",
       "      <td>1500.0</td>\n",
       "      <td>1266.0</td>\n",
       "    </tr>\n",
       "  </tbody>\n",
       "</table>\n",
       "</div>"
      ],
      "text/plain": [
       "         month  n_CC70  n_CC71  n_CC72  n_H70  n_H71  total_time_CC70  \\\n",
       "0   2022-08-01    28.0     9.0    20.0   85.0   32.0           2580.0   \n",
       "1   2022-09-01    22.0     1.0     8.0   73.0   35.0           1599.0   \n",
       "2   2022-10-01    31.0     6.0    37.0   65.0   38.0           2700.0   \n",
       "3   2022-11-01    38.0     5.0    21.0   60.0   31.0           2843.0   \n",
       "4   2022-12-01    41.0     4.0    24.0   67.0   28.0           4009.0   \n",
       "5   2023-01-01    27.0     4.0    27.0   68.0   29.0           2781.0   \n",
       "6   2023-02-01    32.0    12.0    44.0   66.0   13.0           2095.0   \n",
       "7   2023-03-01    50.0    20.0    28.0   65.0    NaN           4360.0   \n",
       "8   2023-04-01    24.0    16.0    38.0   89.0   15.0           1856.0   \n",
       "9   2023-05-01    15.0    16.0    35.0  103.0   19.0           1357.0   \n",
       "10  2023-06-01    12.0     1.0    22.0  108.0   47.0           1208.0   \n",
       "11  2023-07-01    35.0     5.0    21.0  100.0   42.0           2447.0   \n",
       "12  2023-08-01    34.0    10.0    19.0  103.0   44.0           2153.0   \n",
       "13  2023-09-01    40.0    10.0    27.0  104.0   35.0           5517.0   \n",
       "14  2023-10-01    33.0     4.0    13.0   89.0   45.0           2272.0   \n",
       "15  2023-11-01    29.0     5.0    14.0   62.0   11.0           3831.0   \n",
       "16  2023-12-01    49.0    19.0    20.0   58.0    4.0           5994.0   \n",
       "17  2024-01-01    41.0     5.0    28.0   78.0   35.0           5798.0   \n",
       "18  2024-02-01    61.0    11.0    32.0   52.0    6.0           4347.0   \n",
       "19  2024-03-01    52.0     5.0    40.0   74.0   36.0           3953.0   \n",
       "20  2024-04-01    43.0    16.0    29.0   83.0   11.0           2945.0   \n",
       "21  2024-05-01    36.0     5.0    33.0  110.0   35.0           3599.0   \n",
       "22  2024-06-01    24.0    12.0    46.0  116.0   22.0           4341.0   \n",
       "23  2024-07-01    35.0     3.0    39.0   77.0   29.0           1822.0   \n",
       "24  2024-08-01     6.0     NaN     9.0   39.0   23.0            865.0   \n",
       "25  2024-09-01     6.0     3.0     3.0   26.0    1.0            873.0   \n",
       "26  2024-10-01    14.0     2.0     9.0   28.0    NaN           1756.0   \n",
       "27  2024-11-01    14.0     5.0     6.0   15.0    8.0           1591.0   \n",
       "28  2024-12-01    17.0     2.0     4.0   12.0    7.0           2043.0   \n",
       "\n",
       "    total_time_CC71  total_time_CC72  total_time_H70  total_time_H71  \n",
       "0             740.0           1767.0          7715.0          3205.0  \n",
       "1             113.0            653.0          6704.0          3356.0  \n",
       "2             531.0           2741.0          5804.0          3779.0  \n",
       "3             414.0           1676.0          4970.0          2910.0  \n",
       "4             763.0           1691.0          7024.0          3138.0  \n",
       "5             345.0           1838.0          6321.0          2726.0  \n",
       "6            1025.0           3111.0          5769.0          1082.0  \n",
       "7            1590.0           2574.0          5573.0             NaN  \n",
       "8            1149.0           2755.0          7454.0          1302.0  \n",
       "9            1307.0           3141.0          9117.0          2110.0  \n",
       "10             42.0           1594.0          9937.0          4412.0  \n",
       "11            178.0           1448.0          7363.0          4106.0  \n",
       "12            754.0            963.0          7464.0          4061.0  \n",
       "13            766.0           1936.0         13874.0          3028.0  \n",
       "14            434.0            881.0          8287.0          5102.0  \n",
       "15            305.0           3757.0          8261.0          1259.0  \n",
       "16           2828.0           1744.0          4245.0           398.0  \n",
       "17           1796.0           1710.0          8196.0          3179.0  \n",
       "18           1528.0           3065.0          7135.0          1990.0  \n",
       "19            564.0           3156.0          7421.0          4783.0  \n",
       "20           1133.0           2093.0          9396.0           797.0  \n",
       "21            700.0           3632.0          7733.0          2796.0  \n",
       "22           1039.0           2816.0         11208.0          1795.0  \n",
       "23            284.0           2489.0          8415.0          2635.0  \n",
       "24              NaN           1134.0          5648.0          3158.0  \n",
       "25            339.0            431.0          3720.0           118.0  \n",
       "26            224.0           1147.0          4138.0             NaN  \n",
       "27            586.0            519.0          2204.0          1089.0  \n",
       "28            117.0            437.0          1500.0          1266.0  "
      ]
     },
     "execution_count": 245,
     "metadata": {},
     "output_type": "execute_result"
    }
   ],
   "source": [
    "import pandas as pd\n",
    "import plotly.express as px\n",
    "from datetime import datetime, timedelta\n",
    "import re\n",
    "\n",
    "historical_utilisation_df = pd.read_csv(\"../historical_data/historical_monthly_resource_utilisation.csv\")\n",
    "\n",
    "historical_utilisation_df"
   ]
  },
  {
   "cell_type": "code",
   "execution_count": 246,
   "metadata": {},
   "outputs": [],
   "source": [
    "def calculate_theoretical_time(historical_data, rota_data, service_data, long_format_df=True):\n",
    "    \"\"\"\n",
    "    Note that this function has been partially provided by ChatGPT.\n",
    "    \"\"\"\n",
    "\n",
    "    # Convert data into DataFrames\n",
    "    historical_df = pd.DataFrame(historical_data)\n",
    "    rota_df = pd.DataFrame(rota_data)\n",
    "    service_df = pd.DataFrame(service_data)\n",
    "\n",
    "    # Convert date columns to datetime format\n",
    "    historical_df['month'] = pd.to_datetime(historical_df['month'])\n",
    "    service_df['service_start_date'] = pd.to_datetime(service_df['service_start_date'])\n",
    "    service_df['service_end_date'] = pd.to_datetime(service_df['service_end_date'])\n",
    "\n",
    "    # Initialize dictionary to store results\n",
    "    theoretical_availability = {}\n",
    "\n",
    "    # Iterate over each row in the historical dataset\n",
    "    for index, row in historical_df.iterrows():\n",
    "        month_start = row['month']\n",
    "        month_end = month_start + pd.offsets.MonthEnd(0)\n",
    "        days_in_month = (month_end - month_start).days + 1\n",
    "\n",
    "        # Store theoretical available time for each resource\n",
    "        month_data = {}\n",
    "\n",
    "        for _, rota in rota_df.iterrows():\n",
    "            callsign = rota['callsign']\n",
    "\n",
    "            # Determine summer or winter schedule\n",
    "            is_summer = month_start.month in range(3, 11)\n",
    "            start_hour = rota['summer_start'] if is_summer else rota['winter_start']\n",
    "            end_hour = rota['summer_end'] if is_summer else rota['winter_end']\n",
    "\n",
    "            # Handle cases where the shift ends after midnight\n",
    "            if end_hour < start_hour:\n",
    "                daily_available_time = (24 - start_hour) + end_hour\n",
    "            else:\n",
    "                daily_available_time = end_hour - start_hour\n",
    "\n",
    "            total_available_time = daily_available_time * days_in_month * 60  # Convert to minutes\n",
    "\n",
    "            # Adjust for servicing periods\n",
    "            service_downtime = 0\n",
    "            for _, service in service_df[service_df['resource'] == callsign].iterrows():\n",
    "                service_start = max(service['service_start_date'], month_start)\n",
    "                service_end = min(service['service_end_date'], month_end)\n",
    "\n",
    "                if service_start <= service_end:  # Overlapping service period\n",
    "                    service_days = (service_end - service_start).days + 1\n",
    "                    service_downtime += service_days * daily_available_time * 60\n",
    "\n",
    "            # Final available time after accounting for servicing\n",
    "            month_data[callsign] = total_available_time - service_downtime\n",
    "\n",
    "        theoretical_availability[month_start.strftime('%Y-%m-01')] = month_data\n",
    "\n",
    "    theoretical_availability_df = pd.DataFrame(theoretical_availability).T\n",
    "    theoretical_availability_df.index.name = \"month\"\n",
    "    theoretical_availability_df = theoretical_availability_df.reset_index()\n",
    "    # theoretical_availability_df = theoretical_availability_df.add_prefix(\"theoretical_availability_\")\n",
    "\n",
    "    theoretical_availability_df.fillna(0.0)\n",
    "\n",
    "    if long_format_df:\n",
    "        theoretical_availability_df = (\n",
    "            theoretical_availability_df\n",
    "            .melt(id_vars=\"month\")\n",
    "            .rename(columns={\"value\":\"theoretical_availability\", \"variable\": \"callsign\"})\n",
    "            )\n",
    "\n",
    "        theoretical_availability_df['theoretical_availability'] = theoretical_availability_df['theoretical_availability'].astype('float')\n",
    "\n",
    "    return theoretical_availability_df\n"
   ]
  },
  {
   "cell_type": "code",
   "execution_count": 247,
   "metadata": {},
   "outputs": [
    {
     "data": {
      "text/html": [
       "<div>\n",
       "<style scoped>\n",
       "    .dataframe tbody tr th:only-of-type {\n",
       "        vertical-align: middle;\n",
       "    }\n",
       "\n",
       "    .dataframe tbody tr th {\n",
       "        vertical-align: top;\n",
       "    }\n",
       "\n",
       "    .dataframe thead th {\n",
       "        text-align: right;\n",
       "    }\n",
       "</style>\n",
       "<table border=\"1\" class=\"dataframe\">\n",
       "  <thead>\n",
       "    <tr style=\"text-align: right;\">\n",
       "      <th></th>\n",
       "      <th>month</th>\n",
       "      <th>callsign</th>\n",
       "      <th>theoretical_availability</th>\n",
       "    </tr>\n",
       "  </thead>\n",
       "  <tbody>\n",
       "    <tr>\n",
       "      <th>0</th>\n",
       "      <td>2022-08-01</td>\n",
       "      <td>H70</td>\n",
       "      <td>35340.0</td>\n",
       "    </tr>\n",
       "    <tr>\n",
       "      <th>1</th>\n",
       "      <td>2022-09-01</td>\n",
       "      <td>H70</td>\n",
       "      <td>34200.0</td>\n",
       "    </tr>\n",
       "    <tr>\n",
       "      <th>2</th>\n",
       "      <td>2022-10-01</td>\n",
       "      <td>H70</td>\n",
       "      <td>35340.0</td>\n",
       "    </tr>\n",
       "    <tr>\n",
       "      <th>3</th>\n",
       "      <td>2022-11-01</td>\n",
       "      <td>H70</td>\n",
       "      <td>29640.0</td>\n",
       "    </tr>\n",
       "    <tr>\n",
       "      <th>4</th>\n",
       "      <td>2022-12-01</td>\n",
       "      <td>H70</td>\n",
       "      <td>14820.0</td>\n",
       "    </tr>\n",
       "    <tr>\n",
       "      <th>...</th>\n",
       "      <td>...</td>\n",
       "      <td>...</td>\n",
       "      <td>...</td>\n",
       "    </tr>\n",
       "    <tr>\n",
       "      <th>140</th>\n",
       "      <td>2024-08-01</td>\n",
       "      <td>CC72</td>\n",
       "      <td>18600.0</td>\n",
       "    </tr>\n",
       "    <tr>\n",
       "      <th>141</th>\n",
       "      <td>2024-09-01</td>\n",
       "      <td>CC72</td>\n",
       "      <td>18000.0</td>\n",
       "    </tr>\n",
       "    <tr>\n",
       "      <th>142</th>\n",
       "      <td>2024-10-01</td>\n",
       "      <td>CC72</td>\n",
       "      <td>18600.0</td>\n",
       "    </tr>\n",
       "    <tr>\n",
       "      <th>143</th>\n",
       "      <td>2024-11-01</td>\n",
       "      <td>CC72</td>\n",
       "      <td>18000.0</td>\n",
       "    </tr>\n",
       "    <tr>\n",
       "      <th>144</th>\n",
       "      <td>2024-12-01</td>\n",
       "      <td>CC72</td>\n",
       "      <td>18600.0</td>\n",
       "    </tr>\n",
       "  </tbody>\n",
       "</table>\n",
       "<p>145 rows × 3 columns</p>\n",
       "</div>"
      ],
      "text/plain": [
       "          month callsign  theoretical_availability\n",
       "0    2022-08-01      H70                   35340.0\n",
       "1    2022-09-01      H70                   34200.0\n",
       "2    2022-10-01      H70                   35340.0\n",
       "3    2022-11-01      H70                   29640.0\n",
       "4    2022-12-01      H70                   14820.0\n",
       "..          ...      ...                       ...\n",
       "140  2024-08-01     CC72                   18600.0\n",
       "141  2024-09-01     CC72                   18000.0\n",
       "142  2024-10-01     CC72                   18600.0\n",
       "143  2024-11-01     CC72                   18000.0\n",
       "144  2024-12-01     CC72                   18600.0\n",
       "\n",
       "[145 rows x 3 columns]"
      ]
     },
     "execution_count": 247,
     "metadata": {},
     "output_type": "execute_result"
    }
   ],
   "source": [
    "theoretical_availability_df = calculate_theoretical_time(historical_data=historical_utilisation_df,\n",
    "                                    rota_data=pd.read_csv(\"../actual_data/HEMS_ROTA.csv\"),\n",
    "                                    service_data=pd.read_csv(\"../data/service_dates.csv\"),\n",
    "                                    long_format_df= True\n",
    ")\n",
    "\n",
    "theoretical_availability_df"
   ]
  },
  {
   "cell_type": "code",
   "execution_count": 248,
   "metadata": {},
   "outputs": [
    {
     "data": {
      "text/html": [
       "<div>\n",
       "<style scoped>\n",
       "    .dataframe tbody tr th:only-of-type {\n",
       "        vertical-align: middle;\n",
       "    }\n",
       "\n",
       "    .dataframe tbody tr th {\n",
       "        vertical-align: top;\n",
       "    }\n",
       "\n",
       "    .dataframe thead th {\n",
       "        text-align: right;\n",
       "    }\n",
       "</style>\n",
       "<table border=\"1\" class=\"dataframe\">\n",
       "  <thead>\n",
       "    <tr style=\"text-align: right;\">\n",
       "      <th></th>\n",
       "      <th>month</th>\n",
       "      <th>callsign</th>\n",
       "      <th>usage</th>\n",
       "    </tr>\n",
       "  </thead>\n",
       "  <tbody>\n",
       "    <tr>\n",
       "      <th>0</th>\n",
       "      <td>2022-08-01</td>\n",
       "      <td>CC70</td>\n",
       "      <td>2580.0</td>\n",
       "    </tr>\n",
       "    <tr>\n",
       "      <th>1</th>\n",
       "      <td>2022-09-01</td>\n",
       "      <td>CC70</td>\n",
       "      <td>1599.0</td>\n",
       "    </tr>\n",
       "    <tr>\n",
       "      <th>2</th>\n",
       "      <td>2022-10-01</td>\n",
       "      <td>CC70</td>\n",
       "      <td>2700.0</td>\n",
       "    </tr>\n",
       "    <tr>\n",
       "      <th>3</th>\n",
       "      <td>2022-11-01</td>\n",
       "      <td>CC70</td>\n",
       "      <td>2843.0</td>\n",
       "    </tr>\n",
       "    <tr>\n",
       "      <th>4</th>\n",
       "      <td>2022-12-01</td>\n",
       "      <td>CC70</td>\n",
       "      <td>4009.0</td>\n",
       "    </tr>\n",
       "    <tr>\n",
       "      <th>...</th>\n",
       "      <td>...</td>\n",
       "      <td>...</td>\n",
       "      <td>...</td>\n",
       "    </tr>\n",
       "    <tr>\n",
       "      <th>140</th>\n",
       "      <td>2024-08-01</td>\n",
       "      <td>H71</td>\n",
       "      <td>3158.0</td>\n",
       "    </tr>\n",
       "    <tr>\n",
       "      <th>141</th>\n",
       "      <td>2024-09-01</td>\n",
       "      <td>H71</td>\n",
       "      <td>118.0</td>\n",
       "    </tr>\n",
       "    <tr>\n",
       "      <th>142</th>\n",
       "      <td>2024-10-01</td>\n",
       "      <td>H71</td>\n",
       "      <td>0.0</td>\n",
       "    </tr>\n",
       "    <tr>\n",
       "      <th>143</th>\n",
       "      <td>2024-11-01</td>\n",
       "      <td>H71</td>\n",
       "      <td>1089.0</td>\n",
       "    </tr>\n",
       "    <tr>\n",
       "      <th>144</th>\n",
       "      <td>2024-12-01</td>\n",
       "      <td>H71</td>\n",
       "      <td>1266.0</td>\n",
       "    </tr>\n",
       "  </tbody>\n",
       "</table>\n",
       "<p>145 rows × 3 columns</p>\n",
       "</div>"
      ],
      "text/plain": [
       "          month callsign   usage\n",
       "0    2022-08-01     CC70  2580.0\n",
       "1    2022-09-01     CC70  1599.0\n",
       "2    2022-10-01     CC70  2700.0\n",
       "3    2022-11-01     CC70  2843.0\n",
       "4    2022-12-01     CC70  4009.0\n",
       "..          ...      ...     ...\n",
       "140  2024-08-01      H71  3158.0\n",
       "141  2024-09-01      H71   118.0\n",
       "142  2024-10-01      H71     0.0\n",
       "143  2024-11-01      H71  1089.0\n",
       "144  2024-12-01      H71  1266.0\n",
       "\n",
       "[145 rows x 3 columns]"
      ]
     },
     "execution_count": 248,
     "metadata": {},
     "output_type": "execute_result"
    }
   ],
   "source": [
    "historical_utilisation_df_times = historical_utilisation_df.set_index('month').filter(like='total_time').reset_index()\n",
    "historical_utilisation_df_times.columns = [x.replace(\"total_time_\",\"\") for x in historical_utilisation_df_times.columns]\n",
    "historical_utilisation_df_times = historical_utilisation_df_times.melt(id_vars=\"month\").rename(columns={\"value\":\"usage\", \"variable\": \"callsign\"})\n",
    "historical_utilisation_df_times = historical_utilisation_df_times.fillna(0)\n",
    "historical_utilisation_df_times"
   ]
  },
  {
   "cell_type": "code",
   "execution_count": 249,
   "metadata": {},
   "outputs": [
    {
     "data": {
      "text/html": [
       "<div>\n",
       "<style scoped>\n",
       "    .dataframe tbody tr th:only-of-type {\n",
       "        vertical-align: middle;\n",
       "    }\n",
       "\n",
       "    .dataframe tbody tr th {\n",
       "        vertical-align: top;\n",
       "    }\n",
       "\n",
       "    .dataframe thead th {\n",
       "        text-align: right;\n",
       "    }\n",
       "</style>\n",
       "<table border=\"1\" class=\"dataframe\">\n",
       "  <thead>\n",
       "    <tr style=\"text-align: right;\">\n",
       "      <th></th>\n",
       "      <th>month</th>\n",
       "      <th>callsign</th>\n",
       "      <th>usage</th>\n",
       "      <th>theoretical_availability</th>\n",
       "      <th>percentage_utilisation</th>\n",
       "      <th>percentage_utilisation_display</th>\n",
       "    </tr>\n",
       "  </thead>\n",
       "  <tbody>\n",
       "    <tr>\n",
       "      <th>0</th>\n",
       "      <td>2022-08-01</td>\n",
       "      <td>CC70</td>\n",
       "      <td>2580.0</td>\n",
       "      <td>35340.0</td>\n",
       "      <td>0.073005</td>\n",
       "      <td>7.3%</td>\n",
       "    </tr>\n",
       "    <tr>\n",
       "      <th>1</th>\n",
       "      <td>2022-09-01</td>\n",
       "      <td>CC70</td>\n",
       "      <td>1599.0</td>\n",
       "      <td>34200.0</td>\n",
       "      <td>0.046754</td>\n",
       "      <td>4.7%</td>\n",
       "    </tr>\n",
       "    <tr>\n",
       "      <th>2</th>\n",
       "      <td>2022-10-01</td>\n",
       "      <td>CC70</td>\n",
       "      <td>2700.0</td>\n",
       "      <td>35340.0</td>\n",
       "      <td>0.076401</td>\n",
       "      <td>7.6%</td>\n",
       "    </tr>\n",
       "    <tr>\n",
       "      <th>3</th>\n",
       "      <td>2022-11-01</td>\n",
       "      <td>CC70</td>\n",
       "      <td>2843.0</td>\n",
       "      <td>34200.0</td>\n",
       "      <td>0.083129</td>\n",
       "      <td>8.3%</td>\n",
       "    </tr>\n",
       "    <tr>\n",
       "      <th>4</th>\n",
       "      <td>2022-12-01</td>\n",
       "      <td>CC70</td>\n",
       "      <td>4009.0</td>\n",
       "      <td>35340.0</td>\n",
       "      <td>0.113441</td>\n",
       "      <td>11.3%</td>\n",
       "    </tr>\n",
       "    <tr>\n",
       "      <th>...</th>\n",
       "      <td>...</td>\n",
       "      <td>...</td>\n",
       "      <td>...</td>\n",
       "      <td>...</td>\n",
       "      <td>...</td>\n",
       "      <td>...</td>\n",
       "    </tr>\n",
       "    <tr>\n",
       "      <th>140</th>\n",
       "      <td>2024-08-01</td>\n",
       "      <td>H71</td>\n",
       "      <td>3158.0</td>\n",
       "      <td>22320.0</td>\n",
       "      <td>0.141487</td>\n",
       "      <td>14.1%</td>\n",
       "    </tr>\n",
       "    <tr>\n",
       "      <th>141</th>\n",
       "      <td>2024-09-01</td>\n",
       "      <td>H71</td>\n",
       "      <td>118.0</td>\n",
       "      <td>21600.0</td>\n",
       "      <td>0.005463</td>\n",
       "      <td>0.5%</td>\n",
       "    </tr>\n",
       "    <tr>\n",
       "      <th>142</th>\n",
       "      <td>2024-10-01</td>\n",
       "      <td>H71</td>\n",
       "      <td>0.0</td>\n",
       "      <td>22320.0</td>\n",
       "      <td>0.000000</td>\n",
       "      <td>0.0%</td>\n",
       "    </tr>\n",
       "    <tr>\n",
       "      <th>143</th>\n",
       "      <td>2024-11-01</td>\n",
       "      <td>H71</td>\n",
       "      <td>1089.0</td>\n",
       "      <td>4800.0</td>\n",
       "      <td>0.226875</td>\n",
       "      <td>22.7%</td>\n",
       "    </tr>\n",
       "    <tr>\n",
       "      <th>144</th>\n",
       "      <td>2024-12-01</td>\n",
       "      <td>H71</td>\n",
       "      <td>1266.0</td>\n",
       "      <td>18600.0</td>\n",
       "      <td>0.068065</td>\n",
       "      <td>6.8%</td>\n",
       "    </tr>\n",
       "  </tbody>\n",
       "</table>\n",
       "<p>145 rows × 6 columns</p>\n",
       "</div>"
      ],
      "text/plain": [
       "          month callsign   usage  theoretical_availability  \\\n",
       "0    2022-08-01     CC70  2580.0                   35340.0   \n",
       "1    2022-09-01     CC70  1599.0                   34200.0   \n",
       "2    2022-10-01     CC70  2700.0                   35340.0   \n",
       "3    2022-11-01     CC70  2843.0                   34200.0   \n",
       "4    2022-12-01     CC70  4009.0                   35340.0   \n",
       "..          ...      ...     ...                       ...   \n",
       "140  2024-08-01      H71  3158.0                   22320.0   \n",
       "141  2024-09-01      H71   118.0                   21600.0   \n",
       "142  2024-10-01      H71     0.0                   22320.0   \n",
       "143  2024-11-01      H71  1089.0                    4800.0   \n",
       "144  2024-12-01      H71  1266.0                   18600.0   \n",
       "\n",
       "     percentage_utilisation percentage_utilisation_display  \n",
       "0                  0.073005                           7.3%  \n",
       "1                  0.046754                           4.7%  \n",
       "2                  0.076401                           7.6%  \n",
       "3                  0.083129                           8.3%  \n",
       "4                  0.113441                          11.3%  \n",
       "..                      ...                            ...  \n",
       "140                0.141487                          14.1%  \n",
       "141                0.005463                           0.5%  \n",
       "142                0.000000                           0.0%  \n",
       "143                0.226875                          22.7%  \n",
       "144                0.068065                           6.8%  \n",
       "\n",
       "[145 rows x 6 columns]"
      ]
     },
     "execution_count": 249,
     "metadata": {},
     "output_type": "execute_result"
    }
   ],
   "source": [
    "historical_utilisation_df_complete = pd.merge(\n",
    "    left=historical_utilisation_df_times,\n",
    "    right=theoretical_availability_df,\n",
    "    on=[\"callsign\", \"month\"],\n",
    "    how=\"left\"\n",
    ")\n",
    "\n",
    "historical_utilisation_df_complete[\"percentage_utilisation\"] = historical_utilisation_df_complete[\"usage\"] / historical_utilisation_df_complete[\"theoretical_availability\"]\n",
    "\n",
    "historical_utilisation_df_complete[\"percentage_utilisation_display\"] = historical_utilisation_df_complete[\"percentage_utilisation\"].apply(lambda x: f\"{x:.1%}\")\n",
    "historical_utilisation_df_complete"
   ]
  },
  {
   "cell_type": "code",
   "execution_count": 250,
   "metadata": {},
   "outputs": [
    {
     "data": {
      "application/vnd.plotly.v1+json": {
       "config": {
        "plotlyServerURL": "https://plot.ly"
       },
       "data": [
        {
         "alignmentgroup": "True",
         "hovertemplate": "callsign=CC70<br>month=%{x}<br>percentage_utilisation=%{y}<extra></extra>",
         "legendgroup": "",
         "marker": {
          "color": "#636efa",
          "pattern": {
           "shape": ""
          }
         },
         "name": "",
         "offsetgroup": "",
         "orientation": "v",
         "showlegend": false,
         "textposition": "auto",
         "type": "bar",
         "x": [
          "2022-08-01",
          "2022-09-01",
          "2022-10-01",
          "2022-11-01",
          "2022-12-01",
          "2023-01-01",
          "2023-02-01",
          "2023-03-01",
          "2023-04-01",
          "2023-05-01",
          "2023-06-01",
          "2023-07-01",
          "2023-08-01",
          "2023-09-01",
          "2023-10-01",
          "2023-11-01",
          "2023-12-01",
          "2024-01-01",
          "2024-02-01",
          "2024-03-01",
          "2024-04-01",
          "2024-05-01",
          "2024-06-01",
          "2024-07-01",
          "2024-08-01",
          "2024-09-01",
          "2024-10-01",
          "2024-11-01",
          "2024-12-01"
         ],
         "xaxis": "x",
         "y": [
          0.0730050933786078,
          0.04675438596491228,
          0.07640067911714771,
          0.08312865497076023,
          0.11344086021505376,
          0.07869269949066214,
          0.0656328320802005,
          0.12337294850028296,
          0.05426900584795322,
          0.03839841539332201,
          0.03532163742690059,
          0.06924165251839276,
          0.06092246745897001,
          0.16131578947368422,
          0.06428975664968874,
          0.11201754385964913,
          0.1696095076400679,
          0.16406338426711942,
          0.13148820326678765,
          0.11185625353706848,
          0.08611111111111111,
          0.10183927560837577,
          0.1269298245614035,
          0.05155631013016412,
          0.02447651386530843,
          0.025526315789473685,
          0.049688737973967174,
          0.04652046783625731,
          0.05780984719864177
         ],
         "yaxis": "y"
        },
        {
         "alignmentgroup": "True",
         "hovertemplate": "callsign=CC71<br>month=%{x}<br>percentage_utilisation=%{y}<extra></extra>",
         "legendgroup": "",
         "marker": {
          "color": "#636efa",
          "pattern": {
           "shape": ""
          }
         },
         "name": "",
         "offsetgroup": "",
         "orientation": "v",
         "showlegend": false,
         "textposition": "auto",
         "type": "bar",
         "x": [
          "2022-08-01",
          "2022-09-01",
          "2022-10-01",
          "2022-11-01",
          "2022-12-01",
          "2023-01-01",
          "2023-02-01",
          "2023-03-01",
          "2023-04-01",
          "2023-05-01",
          "2023-06-01",
          "2023-07-01",
          "2023-08-01",
          "2023-09-01",
          "2023-10-01",
          "2023-11-01",
          "2023-12-01",
          "2024-01-01",
          "2024-02-01",
          "2024-03-01",
          "2024-04-01",
          "2024-05-01",
          "2024-06-01",
          "2024-07-01",
          "2024-08-01",
          "2024-09-01",
          "2024-10-01",
          "2024-11-01",
          "2024-12-01"
         ],
         "xaxis": "x2",
         "y": [
          0.033154121863799284,
          0.005231481481481481,
          0.02379032258064516,
          0.023,
          0.04102150537634409,
          0.018548387096774192,
          0.06101190476190476,
          0.07123655913978495,
          0.05319444444444445,
          0.0585573476702509,
          0.0019444444444444444,
          0.007974910394265233,
          0.033781362007168456,
          0.03546296296296296,
          0.019444444444444445,
          0.016944444444444446,
          0.15204301075268817,
          0.09655913978494624,
          0.08781609195402298,
          0.025268817204301075,
          0.052453703703703704,
          0.03136200716845878,
          0.048101851851851854,
          0.012724014336917562,
          0,
          0.015694444444444445,
          0.01003584229390681,
          0.03255555555555555,
          0.006290322580645161
         ],
         "yaxis": "y2"
        },
        {
         "alignmentgroup": "True",
         "hovertemplate": "callsign=CC72<br>month=%{x}<br>percentage_utilisation=%{y}<extra></extra>",
         "legendgroup": "",
         "marker": {
          "color": "#636efa",
          "pattern": {
           "shape": ""
          }
         },
         "name": "",
         "offsetgroup": "",
         "orientation": "v",
         "showlegend": false,
         "textposition": "auto",
         "type": "bar",
         "x": [
          "2022-08-01",
          "2022-09-01",
          "2022-10-01",
          "2022-11-01",
          "2022-12-01",
          "2023-01-01",
          "2023-02-01",
          "2023-03-01",
          "2023-04-01",
          "2023-05-01",
          "2023-06-01",
          "2023-07-01",
          "2023-08-01",
          "2023-09-01",
          "2023-10-01",
          "2023-11-01",
          "2023-12-01",
          "2024-01-01",
          "2024-02-01",
          "2024-03-01",
          "2024-04-01",
          "2024-05-01",
          "2024-06-01",
          "2024-07-01",
          "2024-08-01",
          "2024-09-01",
          "2024-10-01",
          "2024-11-01",
          "2024-12-01"
         ],
         "xaxis": "x3",
         "y": [
          0.095,
          0.03627777777777778,
          0.14736559139784947,
          0.09311111111111112,
          0.09091397849462365,
          0.09881720430107527,
          0.18517857142857144,
          0.13838709677419356,
          0.15305555555555556,
          0.1688709677419355,
          0.08855555555555555,
          0.0778494623655914,
          0.051774193548387096,
          0.10755555555555556,
          0.04736559139784946,
          0.20872222222222223,
          0.09376344086021506,
          0.09193548387096774,
          0.17614942528735633,
          0.1696774193548387,
          0.11627777777777777,
          0.1952688172043011,
          0.15644444444444444,
          0.13381720430107527,
          0.06096774193548387,
          0.023944444444444445,
          0.06166666666666667,
          0.028833333333333332,
          0.02349462365591398
         ],
         "yaxis": "y3"
        },
        {
         "alignmentgroup": "True",
         "hovertemplate": "callsign=H70<br>month=%{x}<br>percentage_utilisation=%{y}<extra></extra>",
         "legendgroup": "",
         "marker": {
          "color": "#636efa",
          "pattern": {
           "shape": ""
          }
         },
         "name": "",
         "offsetgroup": "",
         "orientation": "v",
         "showlegend": false,
         "textposition": "auto",
         "type": "bar",
         "x": [
          "2022-08-01",
          "2022-09-01",
          "2022-10-01",
          "2022-11-01",
          "2022-12-01",
          "2023-01-01",
          "2023-02-01",
          "2023-03-01",
          "2023-04-01",
          "2023-05-01",
          "2023-06-01",
          "2023-07-01",
          "2023-08-01",
          "2023-09-01",
          "2023-10-01",
          "2023-11-01",
          "2023-12-01",
          "2024-01-01",
          "2024-02-01",
          "2024-03-01",
          "2024-04-01",
          "2024-05-01",
          "2024-06-01",
          "2024-07-01",
          "2024-08-01",
          "2024-09-01",
          "2024-10-01",
          "2024-11-01",
          "2024-12-01"
         ],
         "xaxis": "x4",
         "y": [
          0.2183078664402943,
          0.1960233918128655,
          0.1642331635540464,
          0.16767881241565452,
          0.4739541160593792,
          0.17886247877758912,
          0.1807330827067669,
          0.1576966610073571,
          0.217953216374269,
          0.25797962648556877,
          0.29055555555555557,
          0.20834748160724392,
          0.21120543293718166,
          0.405672514619883,
          0.23449349179400114,
          0.28985964912280704,
          0.26597744360902253,
          0.23191850594227503,
          0.21581972171808833,
          0.20998868138087154,
          0.27473684210526317,
          0.21881720430107526,
          0.327719298245614,
          0.23811544991511036,
          0.15981890209394453,
          0.10877192982456141,
          0.11709111488398416,
          0.07733333333333334,
          0.09398496240601503
         ],
         "yaxis": "y4"
        },
        {
         "alignmentgroup": "True",
         "hovertemplate": "callsign=H71<br>month=%{x}<br>percentage_utilisation=%{y}<extra></extra>",
         "legendgroup": "",
         "marker": {
          "color": "#636efa",
          "pattern": {
           "shape": ""
          }
         },
         "name": "",
         "offsetgroup": "",
         "orientation": "v",
         "showlegend": false,
         "textposition": "auto",
         "type": "bar",
         "x": [
          "2022-08-01",
          "2022-09-01",
          "2022-10-01",
          "2022-11-01",
          "2022-12-01",
          "2023-01-01",
          "2023-02-01",
          "2023-03-01",
          "2023-04-01",
          "2023-05-01",
          "2023-06-01",
          "2023-07-01",
          "2023-08-01",
          "2023-09-01",
          "2023-10-01",
          "2023-11-01",
          "2023-12-01",
          "2024-01-01",
          "2024-02-01",
          "2024-03-01",
          "2024-04-01",
          "2024-05-01",
          "2024-06-01",
          "2024-07-01",
          "2024-08-01",
          "2024-09-01",
          "2024-10-01",
          "2024-11-01",
          "2024-12-01"
         ],
         "xaxis": "x5",
         "y": [
          0.1435931899641577,
          0.15537037037037038,
          0.1693100358422939,
          0.60625,
          0.16870967741935483,
          0.14655913978494622,
          0.06440476190476191,
          0,
          0.06027777777777778,
          0.09453405017921147,
          0.20425925925925925,
          0.633641975308642,
          0.18194444444444444,
          0.1401851851851852,
          0.22858422939068102,
          0.06994444444444445,
          0.02139784946236559,
          0.17091397849462367,
          0.11436781609195402,
          0.7381172839506173,
          0.036898148148148145,
          0.12526881720430108,
          0.08310185185185186,
          0.11805555555555555,
          0.14148745519713263,
          0.005462962962962963,
          0,
          0.226875,
          0.06806451612903226
         ],
         "yaxis": "y5"
        }
       ],
       "layout": {
        "annotations": [
         {
          "font": {},
          "showarrow": false,
          "text": "callsign=CC70",
          "x": 0.09200000000000001,
          "xanchor": "center",
          "xref": "paper",
          "y": 1,
          "yanchor": "bottom",
          "yref": "paper"
         },
         {
          "font": {},
          "showarrow": false,
          "text": "callsign=CC71",
          "x": 0.29600000000000004,
          "xanchor": "center",
          "xref": "paper",
          "y": 1,
          "yanchor": "bottom",
          "yref": "paper"
         },
         {
          "font": {},
          "showarrow": false,
          "text": "callsign=CC72",
          "x": 0.5,
          "xanchor": "center",
          "xref": "paper",
          "y": 1,
          "yanchor": "bottom",
          "yref": "paper"
         },
         {
          "font": {},
          "showarrow": false,
          "text": "callsign=H70",
          "x": 0.7040000000000002,
          "xanchor": "center",
          "xref": "paper",
          "y": 1,
          "yanchor": "bottom",
          "yref": "paper"
         },
         {
          "font": {},
          "showarrow": false,
          "text": "callsign=H71",
          "x": 0.908,
          "xanchor": "center",
          "xref": "paper",
          "y": 1,
          "yanchor": "bottom",
          "yref": "paper"
         }
        ],
        "barmode": "relative",
        "legend": {
         "tracegroupgap": 0
        },
        "margin": {
         "t": 60
        },
        "template": {
         "data": {
          "bar": [
           {
            "error_x": {
             "color": "#2a3f5f"
            },
            "error_y": {
             "color": "#2a3f5f"
            },
            "marker": {
             "line": {
              "color": "#E5ECF6",
              "width": 0.5
             },
             "pattern": {
              "fillmode": "overlay",
              "size": 10,
              "solidity": 0.2
             }
            },
            "type": "bar"
           }
          ],
          "barpolar": [
           {
            "marker": {
             "line": {
              "color": "#E5ECF6",
              "width": 0.5
             },
             "pattern": {
              "fillmode": "overlay",
              "size": 10,
              "solidity": 0.2
             }
            },
            "type": "barpolar"
           }
          ],
          "carpet": [
           {
            "aaxis": {
             "endlinecolor": "#2a3f5f",
             "gridcolor": "white",
             "linecolor": "white",
             "minorgridcolor": "white",
             "startlinecolor": "#2a3f5f"
            },
            "baxis": {
             "endlinecolor": "#2a3f5f",
             "gridcolor": "white",
             "linecolor": "white",
             "minorgridcolor": "white",
             "startlinecolor": "#2a3f5f"
            },
            "type": "carpet"
           }
          ],
          "choropleth": [
           {
            "colorbar": {
             "outlinewidth": 0,
             "ticks": ""
            },
            "type": "choropleth"
           }
          ],
          "contour": [
           {
            "colorbar": {
             "outlinewidth": 0,
             "ticks": ""
            },
            "colorscale": [
             [
              0,
              "#0d0887"
             ],
             [
              0.1111111111111111,
              "#46039f"
             ],
             [
              0.2222222222222222,
              "#7201a8"
             ],
             [
              0.3333333333333333,
              "#9c179e"
             ],
             [
              0.4444444444444444,
              "#bd3786"
             ],
             [
              0.5555555555555556,
              "#d8576b"
             ],
             [
              0.6666666666666666,
              "#ed7953"
             ],
             [
              0.7777777777777778,
              "#fb9f3a"
             ],
             [
              0.8888888888888888,
              "#fdca26"
             ],
             [
              1,
              "#f0f921"
             ]
            ],
            "type": "contour"
           }
          ],
          "contourcarpet": [
           {
            "colorbar": {
             "outlinewidth": 0,
             "ticks": ""
            },
            "type": "contourcarpet"
           }
          ],
          "heatmap": [
           {
            "colorbar": {
             "outlinewidth": 0,
             "ticks": ""
            },
            "colorscale": [
             [
              0,
              "#0d0887"
             ],
             [
              0.1111111111111111,
              "#46039f"
             ],
             [
              0.2222222222222222,
              "#7201a8"
             ],
             [
              0.3333333333333333,
              "#9c179e"
             ],
             [
              0.4444444444444444,
              "#bd3786"
             ],
             [
              0.5555555555555556,
              "#d8576b"
             ],
             [
              0.6666666666666666,
              "#ed7953"
             ],
             [
              0.7777777777777778,
              "#fb9f3a"
             ],
             [
              0.8888888888888888,
              "#fdca26"
             ],
             [
              1,
              "#f0f921"
             ]
            ],
            "type": "heatmap"
           }
          ],
          "heatmapgl": [
           {
            "colorbar": {
             "outlinewidth": 0,
             "ticks": ""
            },
            "colorscale": [
             [
              0,
              "#0d0887"
             ],
             [
              0.1111111111111111,
              "#46039f"
             ],
             [
              0.2222222222222222,
              "#7201a8"
             ],
             [
              0.3333333333333333,
              "#9c179e"
             ],
             [
              0.4444444444444444,
              "#bd3786"
             ],
             [
              0.5555555555555556,
              "#d8576b"
             ],
             [
              0.6666666666666666,
              "#ed7953"
             ],
             [
              0.7777777777777778,
              "#fb9f3a"
             ],
             [
              0.8888888888888888,
              "#fdca26"
             ],
             [
              1,
              "#f0f921"
             ]
            ],
            "type": "heatmapgl"
           }
          ],
          "histogram": [
           {
            "marker": {
             "pattern": {
              "fillmode": "overlay",
              "size": 10,
              "solidity": 0.2
             }
            },
            "type": "histogram"
           }
          ],
          "histogram2d": [
           {
            "colorbar": {
             "outlinewidth": 0,
             "ticks": ""
            },
            "colorscale": [
             [
              0,
              "#0d0887"
             ],
             [
              0.1111111111111111,
              "#46039f"
             ],
             [
              0.2222222222222222,
              "#7201a8"
             ],
             [
              0.3333333333333333,
              "#9c179e"
             ],
             [
              0.4444444444444444,
              "#bd3786"
             ],
             [
              0.5555555555555556,
              "#d8576b"
             ],
             [
              0.6666666666666666,
              "#ed7953"
             ],
             [
              0.7777777777777778,
              "#fb9f3a"
             ],
             [
              0.8888888888888888,
              "#fdca26"
             ],
             [
              1,
              "#f0f921"
             ]
            ],
            "type": "histogram2d"
           }
          ],
          "histogram2dcontour": [
           {
            "colorbar": {
             "outlinewidth": 0,
             "ticks": ""
            },
            "colorscale": [
             [
              0,
              "#0d0887"
             ],
             [
              0.1111111111111111,
              "#46039f"
             ],
             [
              0.2222222222222222,
              "#7201a8"
             ],
             [
              0.3333333333333333,
              "#9c179e"
             ],
             [
              0.4444444444444444,
              "#bd3786"
             ],
             [
              0.5555555555555556,
              "#d8576b"
             ],
             [
              0.6666666666666666,
              "#ed7953"
             ],
             [
              0.7777777777777778,
              "#fb9f3a"
             ],
             [
              0.8888888888888888,
              "#fdca26"
             ],
             [
              1,
              "#f0f921"
             ]
            ],
            "type": "histogram2dcontour"
           }
          ],
          "mesh3d": [
           {
            "colorbar": {
             "outlinewidth": 0,
             "ticks": ""
            },
            "type": "mesh3d"
           }
          ],
          "parcoords": [
           {
            "line": {
             "colorbar": {
              "outlinewidth": 0,
              "ticks": ""
             }
            },
            "type": "parcoords"
           }
          ],
          "pie": [
           {
            "automargin": true,
            "type": "pie"
           }
          ],
          "scatter": [
           {
            "fillpattern": {
             "fillmode": "overlay",
             "size": 10,
             "solidity": 0.2
            },
            "type": "scatter"
           }
          ],
          "scatter3d": [
           {
            "line": {
             "colorbar": {
              "outlinewidth": 0,
              "ticks": ""
             }
            },
            "marker": {
             "colorbar": {
              "outlinewidth": 0,
              "ticks": ""
             }
            },
            "type": "scatter3d"
           }
          ],
          "scattercarpet": [
           {
            "marker": {
             "colorbar": {
              "outlinewidth": 0,
              "ticks": ""
             }
            },
            "type": "scattercarpet"
           }
          ],
          "scattergeo": [
           {
            "marker": {
             "colorbar": {
              "outlinewidth": 0,
              "ticks": ""
             }
            },
            "type": "scattergeo"
           }
          ],
          "scattergl": [
           {
            "marker": {
             "colorbar": {
              "outlinewidth": 0,
              "ticks": ""
             }
            },
            "type": "scattergl"
           }
          ],
          "scattermapbox": [
           {
            "marker": {
             "colorbar": {
              "outlinewidth": 0,
              "ticks": ""
             }
            },
            "type": "scattermapbox"
           }
          ],
          "scatterpolar": [
           {
            "marker": {
             "colorbar": {
              "outlinewidth": 0,
              "ticks": ""
             }
            },
            "type": "scatterpolar"
           }
          ],
          "scatterpolargl": [
           {
            "marker": {
             "colorbar": {
              "outlinewidth": 0,
              "ticks": ""
             }
            },
            "type": "scatterpolargl"
           }
          ],
          "scatterternary": [
           {
            "marker": {
             "colorbar": {
              "outlinewidth": 0,
              "ticks": ""
             }
            },
            "type": "scatterternary"
           }
          ],
          "surface": [
           {
            "colorbar": {
             "outlinewidth": 0,
             "ticks": ""
            },
            "colorscale": [
             [
              0,
              "#0d0887"
             ],
             [
              0.1111111111111111,
              "#46039f"
             ],
             [
              0.2222222222222222,
              "#7201a8"
             ],
             [
              0.3333333333333333,
              "#9c179e"
             ],
             [
              0.4444444444444444,
              "#bd3786"
             ],
             [
              0.5555555555555556,
              "#d8576b"
             ],
             [
              0.6666666666666666,
              "#ed7953"
             ],
             [
              0.7777777777777778,
              "#fb9f3a"
             ],
             [
              0.8888888888888888,
              "#fdca26"
             ],
             [
              1,
              "#f0f921"
             ]
            ],
            "type": "surface"
           }
          ],
          "table": [
           {
            "cells": {
             "fill": {
              "color": "#EBF0F8"
             },
             "line": {
              "color": "white"
             }
            },
            "header": {
             "fill": {
              "color": "#C8D4E3"
             },
             "line": {
              "color": "white"
             }
            },
            "type": "table"
           }
          ]
         },
         "layout": {
          "annotationdefaults": {
           "arrowcolor": "#2a3f5f",
           "arrowhead": 0,
           "arrowwidth": 1
          },
          "autotypenumbers": "strict",
          "coloraxis": {
           "colorbar": {
            "outlinewidth": 0,
            "ticks": ""
           }
          },
          "colorscale": {
           "diverging": [
            [
             0,
             "#8e0152"
            ],
            [
             0.1,
             "#c51b7d"
            ],
            [
             0.2,
             "#de77ae"
            ],
            [
             0.3,
             "#f1b6da"
            ],
            [
             0.4,
             "#fde0ef"
            ],
            [
             0.5,
             "#f7f7f7"
            ],
            [
             0.6,
             "#e6f5d0"
            ],
            [
             0.7,
             "#b8e186"
            ],
            [
             0.8,
             "#7fbc41"
            ],
            [
             0.9,
             "#4d9221"
            ],
            [
             1,
             "#276419"
            ]
           ],
           "sequential": [
            [
             0,
             "#0d0887"
            ],
            [
             0.1111111111111111,
             "#46039f"
            ],
            [
             0.2222222222222222,
             "#7201a8"
            ],
            [
             0.3333333333333333,
             "#9c179e"
            ],
            [
             0.4444444444444444,
             "#bd3786"
            ],
            [
             0.5555555555555556,
             "#d8576b"
            ],
            [
             0.6666666666666666,
             "#ed7953"
            ],
            [
             0.7777777777777778,
             "#fb9f3a"
            ],
            [
             0.8888888888888888,
             "#fdca26"
            ],
            [
             1,
             "#f0f921"
            ]
           ],
           "sequentialminus": [
            [
             0,
             "#0d0887"
            ],
            [
             0.1111111111111111,
             "#46039f"
            ],
            [
             0.2222222222222222,
             "#7201a8"
            ],
            [
             0.3333333333333333,
             "#9c179e"
            ],
            [
             0.4444444444444444,
             "#bd3786"
            ],
            [
             0.5555555555555556,
             "#d8576b"
            ],
            [
             0.6666666666666666,
             "#ed7953"
            ],
            [
             0.7777777777777778,
             "#fb9f3a"
            ],
            [
             0.8888888888888888,
             "#fdca26"
            ],
            [
             1,
             "#f0f921"
            ]
           ]
          },
          "colorway": [
           "#636efa",
           "#EF553B",
           "#00cc96",
           "#ab63fa",
           "#FFA15A",
           "#19d3f3",
           "#FF6692",
           "#B6E880",
           "#FF97FF",
           "#FECB52"
          ],
          "font": {
           "color": "#2a3f5f"
          },
          "geo": {
           "bgcolor": "white",
           "lakecolor": "white",
           "landcolor": "#E5ECF6",
           "showlakes": true,
           "showland": true,
           "subunitcolor": "white"
          },
          "hoverlabel": {
           "align": "left"
          },
          "hovermode": "closest",
          "mapbox": {
           "style": "light"
          },
          "paper_bgcolor": "white",
          "plot_bgcolor": "#E5ECF6",
          "polar": {
           "angularaxis": {
            "gridcolor": "white",
            "linecolor": "white",
            "ticks": ""
           },
           "bgcolor": "#E5ECF6",
           "radialaxis": {
            "gridcolor": "white",
            "linecolor": "white",
            "ticks": ""
           }
          },
          "scene": {
           "xaxis": {
            "backgroundcolor": "#E5ECF6",
            "gridcolor": "white",
            "gridwidth": 2,
            "linecolor": "white",
            "showbackground": true,
            "ticks": "",
            "zerolinecolor": "white"
           },
           "yaxis": {
            "backgroundcolor": "#E5ECF6",
            "gridcolor": "white",
            "gridwidth": 2,
            "linecolor": "white",
            "showbackground": true,
            "ticks": "",
            "zerolinecolor": "white"
           },
           "zaxis": {
            "backgroundcolor": "#E5ECF6",
            "gridcolor": "white",
            "gridwidth": 2,
            "linecolor": "white",
            "showbackground": true,
            "ticks": "",
            "zerolinecolor": "white"
           }
          },
          "shapedefaults": {
           "line": {
            "color": "#2a3f5f"
           }
          },
          "ternary": {
           "aaxis": {
            "gridcolor": "white",
            "linecolor": "white",
            "ticks": ""
           },
           "baxis": {
            "gridcolor": "white",
            "linecolor": "white",
            "ticks": ""
           },
           "bgcolor": "#E5ECF6",
           "caxis": {
            "gridcolor": "white",
            "linecolor": "white",
            "ticks": ""
           }
          },
          "title": {
           "x": 0.05
          },
          "xaxis": {
           "automargin": true,
           "gridcolor": "white",
           "linecolor": "white",
           "ticks": "",
           "title": {
            "standoff": 15
           },
           "zerolinecolor": "white",
           "zerolinewidth": 2
          },
          "yaxis": {
           "automargin": true,
           "gridcolor": "white",
           "linecolor": "white",
           "ticks": "",
           "title": {
            "standoff": 15
           },
           "zerolinecolor": "white",
           "zerolinewidth": 2
          }
         }
        },
        "xaxis": {
         "anchor": "y",
         "domain": [
          0,
          0.18400000000000002
         ],
         "title": {
          "text": "month"
         }
        },
        "xaxis2": {
         "anchor": "y2",
         "domain": [
          0.20400000000000001,
          0.388
         ],
         "matches": "x",
         "title": {
          "text": "month"
         }
        },
        "xaxis3": {
         "anchor": "y3",
         "domain": [
          0.40800000000000003,
          0.5920000000000001
         ],
         "matches": "x",
         "title": {
          "text": "month"
         }
        },
        "xaxis4": {
         "anchor": "y4",
         "domain": [
          0.6120000000000001,
          0.7960000000000002
         ],
         "matches": "x",
         "title": {
          "text": "month"
         }
        },
        "xaxis5": {
         "anchor": "y5",
         "domain": [
          0.8160000000000001,
          1
         ],
         "matches": "x",
         "title": {
          "text": "month"
         }
        },
        "yaxis": {
         "anchor": "x",
         "domain": [
          0,
          1
         ],
         "title": {
          "text": "percentage_utilisation"
         }
        },
        "yaxis2": {
         "anchor": "x2",
         "domain": [
          0,
          1
         ],
         "matches": "y",
         "showticklabels": false
        },
        "yaxis3": {
         "anchor": "x3",
         "domain": [
          0,
          1
         ],
         "matches": "y",
         "showticklabels": false
        },
        "yaxis4": {
         "anchor": "x4",
         "domain": [
          0,
          1
         ],
         "matches": "y",
         "showticklabels": false
        },
        "yaxis5": {
         "anchor": "x5",
         "domain": [
          0,
          1
         ],
         "matches": "y",
         "showticklabels": false
        }
       }
      }
     },
     "metadata": {},
     "output_type": "display_data"
    }
   ],
   "source": [
    "px.bar(historical_utilisation_df_complete, x=\"month\", y=\"percentage_utilisation\", facet_col=\"callsign\")"
   ]
  },
  {
   "cell_type": "code",
   "execution_count": 251,
   "metadata": {},
   "outputs": [
    {
     "data": {
      "application/vnd.plotly.v1+json": {
       "config": {
        "plotlyServerURL": "https://plot.ly"
       },
       "data": [
        {
         "alignmentgroup": "True",
         "hovertemplate": "percentage_utilisation=%{x}<br>callsign=%{y}<extra></extra>",
         "legendgroup": "",
         "marker": {
          "color": "#636efa"
         },
         "name": "",
         "notched": false,
         "offsetgroup": "",
         "orientation": "h",
         "showlegend": false,
         "type": "box",
         "x": [
          0.0730050933786078,
          0.04675438596491228,
          0.07640067911714771,
          0.08312865497076023,
          0.11344086021505376,
          0.07869269949066214,
          0.0656328320802005,
          0.12337294850028296,
          0.05426900584795322,
          0.03839841539332201,
          0.03532163742690059,
          0.06924165251839276,
          0.06092246745897001,
          0.16131578947368422,
          0.06428975664968874,
          0.11201754385964913,
          0.1696095076400679,
          0.16406338426711942,
          0.13148820326678765,
          0.11185625353706848,
          0.08611111111111111,
          0.10183927560837577,
          0.1269298245614035,
          0.05155631013016412,
          0.02447651386530843,
          0.025526315789473685,
          0.049688737973967174,
          0.04652046783625731,
          0.05780984719864177,
          0.033154121863799284,
          0.005231481481481481,
          0.02379032258064516,
          0.023,
          0.04102150537634409,
          0.018548387096774192,
          0.06101190476190476,
          0.07123655913978495,
          0.05319444444444445,
          0.0585573476702509,
          0.0019444444444444444,
          0.007974910394265233,
          0.033781362007168456,
          0.03546296296296296,
          0.019444444444444445,
          0.016944444444444446,
          0.15204301075268817,
          0.09655913978494624,
          0.08781609195402298,
          0.025268817204301075,
          0.052453703703703704,
          0.03136200716845878,
          0.048101851851851854,
          0.012724014336917562,
          0,
          0.015694444444444445,
          0.01003584229390681,
          0.03255555555555555,
          0.006290322580645161,
          0.095,
          0.03627777777777778,
          0.14736559139784947,
          0.09311111111111112,
          0.09091397849462365,
          0.09881720430107527,
          0.18517857142857144,
          0.13838709677419356,
          0.15305555555555556,
          0.1688709677419355,
          0.08855555555555555,
          0.0778494623655914,
          0.051774193548387096,
          0.10755555555555556,
          0.04736559139784946,
          0.20872222222222223,
          0.09376344086021506,
          0.09193548387096774,
          0.17614942528735633,
          0.1696774193548387,
          0.11627777777777777,
          0.1952688172043011,
          0.15644444444444444,
          0.13381720430107527,
          0.06096774193548387,
          0.023944444444444445,
          0.06166666666666667,
          0.028833333333333332,
          0.02349462365591398,
          0.2183078664402943,
          0.1960233918128655,
          0.1642331635540464,
          0.16767881241565452,
          0.4739541160593792,
          0.17886247877758912,
          0.1807330827067669,
          0.1576966610073571,
          0.217953216374269,
          0.25797962648556877,
          0.29055555555555557,
          0.20834748160724392,
          0.21120543293718166,
          0.405672514619883,
          0.23449349179400114,
          0.28985964912280704,
          0.26597744360902253,
          0.23191850594227503,
          0.21581972171808833,
          0.20998868138087154,
          0.27473684210526317,
          0.21881720430107526,
          0.327719298245614,
          0.23811544991511036,
          0.15981890209394453,
          0.10877192982456141,
          0.11709111488398416,
          0.07733333333333334,
          0.09398496240601503,
          0.1435931899641577,
          0.15537037037037038,
          0.1693100358422939,
          0.60625,
          0.16870967741935483,
          0.14655913978494622,
          0.06440476190476191,
          0,
          0.06027777777777778,
          0.09453405017921147,
          0.20425925925925925,
          0.633641975308642,
          0.18194444444444444,
          0.1401851851851852,
          0.22858422939068102,
          0.06994444444444445,
          0.02139784946236559,
          0.17091397849462367,
          0.11436781609195402,
          0.7381172839506173,
          0.036898148148148145,
          0.12526881720430108,
          0.08310185185185186,
          0.11805555555555555,
          0.14148745519713263,
          0.005462962962962963,
          0,
          0.226875,
          0.06806451612903226
         ],
         "x0": " ",
         "xaxis": "x",
         "y": [
          "CC70",
          "CC70",
          "CC70",
          "CC70",
          "CC70",
          "CC70",
          "CC70",
          "CC70",
          "CC70",
          "CC70",
          "CC70",
          "CC70",
          "CC70",
          "CC70",
          "CC70",
          "CC70",
          "CC70",
          "CC70",
          "CC70",
          "CC70",
          "CC70",
          "CC70",
          "CC70",
          "CC70",
          "CC70",
          "CC70",
          "CC70",
          "CC70",
          "CC70",
          "CC71",
          "CC71",
          "CC71",
          "CC71",
          "CC71",
          "CC71",
          "CC71",
          "CC71",
          "CC71",
          "CC71",
          "CC71",
          "CC71",
          "CC71",
          "CC71",
          "CC71",
          "CC71",
          "CC71",
          "CC71",
          "CC71",
          "CC71",
          "CC71",
          "CC71",
          "CC71",
          "CC71",
          "CC71",
          "CC71",
          "CC71",
          "CC71",
          "CC71",
          "CC72",
          "CC72",
          "CC72",
          "CC72",
          "CC72",
          "CC72",
          "CC72",
          "CC72",
          "CC72",
          "CC72",
          "CC72",
          "CC72",
          "CC72",
          "CC72",
          "CC72",
          "CC72",
          "CC72",
          "CC72",
          "CC72",
          "CC72",
          "CC72",
          "CC72",
          "CC72",
          "CC72",
          "CC72",
          "CC72",
          "CC72",
          "CC72",
          "CC72",
          "H70",
          "H70",
          "H70",
          "H70",
          "H70",
          "H70",
          "H70",
          "H70",
          "H70",
          "H70",
          "H70",
          "H70",
          "H70",
          "H70",
          "H70",
          "H70",
          "H70",
          "H70",
          "H70",
          "H70",
          "H70",
          "H70",
          "H70",
          "H70",
          "H70",
          "H70",
          "H70",
          "H70",
          "H70",
          "H71",
          "H71",
          "H71",
          "H71",
          "H71",
          "H71",
          "H71",
          "H71",
          "H71",
          "H71",
          "H71",
          "H71",
          "H71",
          "H71",
          "H71",
          "H71",
          "H71",
          "H71",
          "H71",
          "H71",
          "H71",
          "H71",
          "H71",
          "H71",
          "H71",
          "H71",
          "H71",
          "H71",
          "H71"
         ],
         "y0": " ",
         "yaxis": "y"
        }
       ],
       "layout": {
        "boxmode": "group",
        "legend": {
         "tracegroupgap": 0
        },
        "margin": {
         "t": 60
        },
        "template": {
         "data": {
          "bar": [
           {
            "error_x": {
             "color": "#2a3f5f"
            },
            "error_y": {
             "color": "#2a3f5f"
            },
            "marker": {
             "line": {
              "color": "#E5ECF6",
              "width": 0.5
             },
             "pattern": {
              "fillmode": "overlay",
              "size": 10,
              "solidity": 0.2
             }
            },
            "type": "bar"
           }
          ],
          "barpolar": [
           {
            "marker": {
             "line": {
              "color": "#E5ECF6",
              "width": 0.5
             },
             "pattern": {
              "fillmode": "overlay",
              "size": 10,
              "solidity": 0.2
             }
            },
            "type": "barpolar"
           }
          ],
          "carpet": [
           {
            "aaxis": {
             "endlinecolor": "#2a3f5f",
             "gridcolor": "white",
             "linecolor": "white",
             "minorgridcolor": "white",
             "startlinecolor": "#2a3f5f"
            },
            "baxis": {
             "endlinecolor": "#2a3f5f",
             "gridcolor": "white",
             "linecolor": "white",
             "minorgridcolor": "white",
             "startlinecolor": "#2a3f5f"
            },
            "type": "carpet"
           }
          ],
          "choropleth": [
           {
            "colorbar": {
             "outlinewidth": 0,
             "ticks": ""
            },
            "type": "choropleth"
           }
          ],
          "contour": [
           {
            "colorbar": {
             "outlinewidth": 0,
             "ticks": ""
            },
            "colorscale": [
             [
              0,
              "#0d0887"
             ],
             [
              0.1111111111111111,
              "#46039f"
             ],
             [
              0.2222222222222222,
              "#7201a8"
             ],
             [
              0.3333333333333333,
              "#9c179e"
             ],
             [
              0.4444444444444444,
              "#bd3786"
             ],
             [
              0.5555555555555556,
              "#d8576b"
             ],
             [
              0.6666666666666666,
              "#ed7953"
             ],
             [
              0.7777777777777778,
              "#fb9f3a"
             ],
             [
              0.8888888888888888,
              "#fdca26"
             ],
             [
              1,
              "#f0f921"
             ]
            ],
            "type": "contour"
           }
          ],
          "contourcarpet": [
           {
            "colorbar": {
             "outlinewidth": 0,
             "ticks": ""
            },
            "type": "contourcarpet"
           }
          ],
          "heatmap": [
           {
            "colorbar": {
             "outlinewidth": 0,
             "ticks": ""
            },
            "colorscale": [
             [
              0,
              "#0d0887"
             ],
             [
              0.1111111111111111,
              "#46039f"
             ],
             [
              0.2222222222222222,
              "#7201a8"
             ],
             [
              0.3333333333333333,
              "#9c179e"
             ],
             [
              0.4444444444444444,
              "#bd3786"
             ],
             [
              0.5555555555555556,
              "#d8576b"
             ],
             [
              0.6666666666666666,
              "#ed7953"
             ],
             [
              0.7777777777777778,
              "#fb9f3a"
             ],
             [
              0.8888888888888888,
              "#fdca26"
             ],
             [
              1,
              "#f0f921"
             ]
            ],
            "type": "heatmap"
           }
          ],
          "heatmapgl": [
           {
            "colorbar": {
             "outlinewidth": 0,
             "ticks": ""
            },
            "colorscale": [
             [
              0,
              "#0d0887"
             ],
             [
              0.1111111111111111,
              "#46039f"
             ],
             [
              0.2222222222222222,
              "#7201a8"
             ],
             [
              0.3333333333333333,
              "#9c179e"
             ],
             [
              0.4444444444444444,
              "#bd3786"
             ],
             [
              0.5555555555555556,
              "#d8576b"
             ],
             [
              0.6666666666666666,
              "#ed7953"
             ],
             [
              0.7777777777777778,
              "#fb9f3a"
             ],
             [
              0.8888888888888888,
              "#fdca26"
             ],
             [
              1,
              "#f0f921"
             ]
            ],
            "type": "heatmapgl"
           }
          ],
          "histogram": [
           {
            "marker": {
             "pattern": {
              "fillmode": "overlay",
              "size": 10,
              "solidity": 0.2
             }
            },
            "type": "histogram"
           }
          ],
          "histogram2d": [
           {
            "colorbar": {
             "outlinewidth": 0,
             "ticks": ""
            },
            "colorscale": [
             [
              0,
              "#0d0887"
             ],
             [
              0.1111111111111111,
              "#46039f"
             ],
             [
              0.2222222222222222,
              "#7201a8"
             ],
             [
              0.3333333333333333,
              "#9c179e"
             ],
             [
              0.4444444444444444,
              "#bd3786"
             ],
             [
              0.5555555555555556,
              "#d8576b"
             ],
             [
              0.6666666666666666,
              "#ed7953"
             ],
             [
              0.7777777777777778,
              "#fb9f3a"
             ],
             [
              0.8888888888888888,
              "#fdca26"
             ],
             [
              1,
              "#f0f921"
             ]
            ],
            "type": "histogram2d"
           }
          ],
          "histogram2dcontour": [
           {
            "colorbar": {
             "outlinewidth": 0,
             "ticks": ""
            },
            "colorscale": [
             [
              0,
              "#0d0887"
             ],
             [
              0.1111111111111111,
              "#46039f"
             ],
             [
              0.2222222222222222,
              "#7201a8"
             ],
             [
              0.3333333333333333,
              "#9c179e"
             ],
             [
              0.4444444444444444,
              "#bd3786"
             ],
             [
              0.5555555555555556,
              "#d8576b"
             ],
             [
              0.6666666666666666,
              "#ed7953"
             ],
             [
              0.7777777777777778,
              "#fb9f3a"
             ],
             [
              0.8888888888888888,
              "#fdca26"
             ],
             [
              1,
              "#f0f921"
             ]
            ],
            "type": "histogram2dcontour"
           }
          ],
          "mesh3d": [
           {
            "colorbar": {
             "outlinewidth": 0,
             "ticks": ""
            },
            "type": "mesh3d"
           }
          ],
          "parcoords": [
           {
            "line": {
             "colorbar": {
              "outlinewidth": 0,
              "ticks": ""
             }
            },
            "type": "parcoords"
           }
          ],
          "pie": [
           {
            "automargin": true,
            "type": "pie"
           }
          ],
          "scatter": [
           {
            "fillpattern": {
             "fillmode": "overlay",
             "size": 10,
             "solidity": 0.2
            },
            "type": "scatter"
           }
          ],
          "scatter3d": [
           {
            "line": {
             "colorbar": {
              "outlinewidth": 0,
              "ticks": ""
             }
            },
            "marker": {
             "colorbar": {
              "outlinewidth": 0,
              "ticks": ""
             }
            },
            "type": "scatter3d"
           }
          ],
          "scattercarpet": [
           {
            "marker": {
             "colorbar": {
              "outlinewidth": 0,
              "ticks": ""
             }
            },
            "type": "scattercarpet"
           }
          ],
          "scattergeo": [
           {
            "marker": {
             "colorbar": {
              "outlinewidth": 0,
              "ticks": ""
             }
            },
            "type": "scattergeo"
           }
          ],
          "scattergl": [
           {
            "marker": {
             "colorbar": {
              "outlinewidth": 0,
              "ticks": ""
             }
            },
            "type": "scattergl"
           }
          ],
          "scattermapbox": [
           {
            "marker": {
             "colorbar": {
              "outlinewidth": 0,
              "ticks": ""
             }
            },
            "type": "scattermapbox"
           }
          ],
          "scatterpolar": [
           {
            "marker": {
             "colorbar": {
              "outlinewidth": 0,
              "ticks": ""
             }
            },
            "type": "scatterpolar"
           }
          ],
          "scatterpolargl": [
           {
            "marker": {
             "colorbar": {
              "outlinewidth": 0,
              "ticks": ""
             }
            },
            "type": "scatterpolargl"
           }
          ],
          "scatterternary": [
           {
            "marker": {
             "colorbar": {
              "outlinewidth": 0,
              "ticks": ""
             }
            },
            "type": "scatterternary"
           }
          ],
          "surface": [
           {
            "colorbar": {
             "outlinewidth": 0,
             "ticks": ""
            },
            "colorscale": [
             [
              0,
              "#0d0887"
             ],
             [
              0.1111111111111111,
              "#46039f"
             ],
             [
              0.2222222222222222,
              "#7201a8"
             ],
             [
              0.3333333333333333,
              "#9c179e"
             ],
             [
              0.4444444444444444,
              "#bd3786"
             ],
             [
              0.5555555555555556,
              "#d8576b"
             ],
             [
              0.6666666666666666,
              "#ed7953"
             ],
             [
              0.7777777777777778,
              "#fb9f3a"
             ],
             [
              0.8888888888888888,
              "#fdca26"
             ],
             [
              1,
              "#f0f921"
             ]
            ],
            "type": "surface"
           }
          ],
          "table": [
           {
            "cells": {
             "fill": {
              "color": "#EBF0F8"
             },
             "line": {
              "color": "white"
             }
            },
            "header": {
             "fill": {
              "color": "#C8D4E3"
             },
             "line": {
              "color": "white"
             }
            },
            "type": "table"
           }
          ]
         },
         "layout": {
          "annotationdefaults": {
           "arrowcolor": "#2a3f5f",
           "arrowhead": 0,
           "arrowwidth": 1
          },
          "autotypenumbers": "strict",
          "coloraxis": {
           "colorbar": {
            "outlinewidth": 0,
            "ticks": ""
           }
          },
          "colorscale": {
           "diverging": [
            [
             0,
             "#8e0152"
            ],
            [
             0.1,
             "#c51b7d"
            ],
            [
             0.2,
             "#de77ae"
            ],
            [
             0.3,
             "#f1b6da"
            ],
            [
             0.4,
             "#fde0ef"
            ],
            [
             0.5,
             "#f7f7f7"
            ],
            [
             0.6,
             "#e6f5d0"
            ],
            [
             0.7,
             "#b8e186"
            ],
            [
             0.8,
             "#7fbc41"
            ],
            [
             0.9,
             "#4d9221"
            ],
            [
             1,
             "#276419"
            ]
           ],
           "sequential": [
            [
             0,
             "#0d0887"
            ],
            [
             0.1111111111111111,
             "#46039f"
            ],
            [
             0.2222222222222222,
             "#7201a8"
            ],
            [
             0.3333333333333333,
             "#9c179e"
            ],
            [
             0.4444444444444444,
             "#bd3786"
            ],
            [
             0.5555555555555556,
             "#d8576b"
            ],
            [
             0.6666666666666666,
             "#ed7953"
            ],
            [
             0.7777777777777778,
             "#fb9f3a"
            ],
            [
             0.8888888888888888,
             "#fdca26"
            ],
            [
             1,
             "#f0f921"
            ]
           ],
           "sequentialminus": [
            [
             0,
             "#0d0887"
            ],
            [
             0.1111111111111111,
             "#46039f"
            ],
            [
             0.2222222222222222,
             "#7201a8"
            ],
            [
             0.3333333333333333,
             "#9c179e"
            ],
            [
             0.4444444444444444,
             "#bd3786"
            ],
            [
             0.5555555555555556,
             "#d8576b"
            ],
            [
             0.6666666666666666,
             "#ed7953"
            ],
            [
             0.7777777777777778,
             "#fb9f3a"
            ],
            [
             0.8888888888888888,
             "#fdca26"
            ],
            [
             1,
             "#f0f921"
            ]
           ]
          },
          "colorway": [
           "#636efa",
           "#EF553B",
           "#00cc96",
           "#ab63fa",
           "#FFA15A",
           "#19d3f3",
           "#FF6692",
           "#B6E880",
           "#FF97FF",
           "#FECB52"
          ],
          "font": {
           "color": "#2a3f5f"
          },
          "geo": {
           "bgcolor": "white",
           "lakecolor": "white",
           "landcolor": "#E5ECF6",
           "showlakes": true,
           "showland": true,
           "subunitcolor": "white"
          },
          "hoverlabel": {
           "align": "left"
          },
          "hovermode": "closest",
          "mapbox": {
           "style": "light"
          },
          "paper_bgcolor": "white",
          "plot_bgcolor": "#E5ECF6",
          "polar": {
           "angularaxis": {
            "gridcolor": "white",
            "linecolor": "white",
            "ticks": ""
           },
           "bgcolor": "#E5ECF6",
           "radialaxis": {
            "gridcolor": "white",
            "linecolor": "white",
            "ticks": ""
           }
          },
          "scene": {
           "xaxis": {
            "backgroundcolor": "#E5ECF6",
            "gridcolor": "white",
            "gridwidth": 2,
            "linecolor": "white",
            "showbackground": true,
            "ticks": "",
            "zerolinecolor": "white"
           },
           "yaxis": {
            "backgroundcolor": "#E5ECF6",
            "gridcolor": "white",
            "gridwidth": 2,
            "linecolor": "white",
            "showbackground": true,
            "ticks": "",
            "zerolinecolor": "white"
           },
           "zaxis": {
            "backgroundcolor": "#E5ECF6",
            "gridcolor": "white",
            "gridwidth": 2,
            "linecolor": "white",
            "showbackground": true,
            "ticks": "",
            "zerolinecolor": "white"
           }
          },
          "shapedefaults": {
           "line": {
            "color": "#2a3f5f"
           }
          },
          "ternary": {
           "aaxis": {
            "gridcolor": "white",
            "linecolor": "white",
            "ticks": ""
           },
           "baxis": {
            "gridcolor": "white",
            "linecolor": "white",
            "ticks": ""
           },
           "bgcolor": "#E5ECF6",
           "caxis": {
            "gridcolor": "white",
            "linecolor": "white",
            "ticks": ""
           }
          },
          "title": {
           "x": 0.05
          },
          "xaxis": {
           "automargin": true,
           "gridcolor": "white",
           "linecolor": "white",
           "ticks": "",
           "title": {
            "standoff": 15
           },
           "zerolinecolor": "white",
           "zerolinewidth": 2
          },
          "yaxis": {
           "automargin": true,
           "gridcolor": "white",
           "linecolor": "white",
           "ticks": "",
           "title": {
            "standoff": 15
           },
           "zerolinecolor": "white",
           "zerolinewidth": 2
          }
         }
        },
        "xaxis": {
         "anchor": "y",
         "domain": [
          0,
          1
         ],
         "title": {
          "text": "percentage_utilisation"
         }
        },
        "yaxis": {
         "anchor": "x",
         "domain": [
          0,
          1
         ],
         "title": {
          "text": "callsign"
         }
        }
       }
      }
     },
     "metadata": {},
     "output_type": "display_data"
    }
   ],
   "source": [
    "px.box(historical_utilisation_df_complete, x=\"percentage_utilisation\", y=\"callsign\")"
   ]
  },
  {
   "cell_type": "code",
   "execution_count": 252,
   "metadata": {},
   "outputs": [
    {
     "data": {
      "text/html": [
       "<div>\n",
       "<style scoped>\n",
       "    .dataframe tbody tr th:only-of-type {\n",
       "        vertical-align: middle;\n",
       "    }\n",
       "\n",
       "    .dataframe tbody tr th {\n",
       "        vertical-align: top;\n",
       "    }\n",
       "\n",
       "    .dataframe thead th {\n",
       "        text-align: right;\n",
       "    }\n",
       "</style>\n",
       "<table border=\"1\" class=\"dataframe\">\n",
       "  <thead>\n",
       "    <tr style=\"text-align: right;\">\n",
       "      <th></th>\n",
       "      <th>min</th>\n",
       "      <th>max</th>\n",
       "      <th>mean</th>\n",
       "      <th>median</th>\n",
       "    </tr>\n",
       "    <tr>\n",
       "      <th>callsign</th>\n",
       "      <th></th>\n",
       "      <th></th>\n",
       "      <th></th>\n",
       "      <th></th>\n",
       "    </tr>\n",
       "  </thead>\n",
       "  <tbody>\n",
       "    <tr>\n",
       "      <th>CC70</th>\n",
       "      <td>2.45</td>\n",
       "      <td>16.96</td>\n",
       "      <td>8.29</td>\n",
       "      <td>7.30</td>\n",
       "    </tr>\n",
       "    <tr>\n",
       "      <th>CC71</th>\n",
       "      <td>0.00</td>\n",
       "      <td>15.20</td>\n",
       "      <td>3.71</td>\n",
       "      <td>3.14</td>\n",
       "    </tr>\n",
       "    <tr>\n",
       "      <th>CC72</th>\n",
       "      <td>2.35</td>\n",
       "      <td>20.87</td>\n",
       "      <td>10.76</td>\n",
       "      <td>9.50</td>\n",
       "    </tr>\n",
       "    <tr>\n",
       "      <th>H70</th>\n",
       "      <td>7.73</td>\n",
       "      <td>47.40</td>\n",
       "      <td>22.05</td>\n",
       "      <td>21.58</td>\n",
       "    </tr>\n",
       "    <tr>\n",
       "      <th>H71</th>\n",
       "      <td>0.00</td>\n",
       "      <td>73.81</td>\n",
       "      <td>16.96</td>\n",
       "      <td>14.02</td>\n",
       "    </tr>\n",
       "  </tbody>\n",
       "</table>\n",
       "</div>"
      ],
      "text/plain": [
       "           min    max   mean  median\n",
       "callsign                            \n",
       "CC70      2.45  16.96   8.29    7.30\n",
       "CC71      0.00  15.20   3.71    3.14\n",
       "CC72      2.35  20.87  10.76    9.50\n",
       "H70       7.73  47.40  22.05   21.58\n",
       "H71       0.00  73.81  16.96   14.02"
      ]
     },
     "execution_count": 252,
     "metadata": {},
     "output_type": "execute_result"
    }
   ],
   "source": [
    "(historical_utilisation_df_complete.groupby('callsign')['percentage_utilisation'].agg(['min', 'max', 'mean', 'median'])*100).round(2)"
   ]
  },
  {
   "cell_type": "code",
   "execution_count": 253,
   "metadata": {},
   "outputs": [],
   "source": [
    "def get_params_df():\n",
    "    return pd.read_csv(\"../data/run_params_used.csv\")\n",
    "params_df = get_params_df()"
   ]
  },
  {
   "cell_type": "code",
   "execution_count": 254,
   "metadata": {},
   "outputs": [],
   "source": [
    "import _processing_functions"
   ]
  },
  {
   "cell_type": "code",
   "execution_count": 255,
   "metadata": {},
   "outputs": [],
   "source": [
    "from _vehicle_calculation import calculate_available_hours"
   ]
  },
  {
   "cell_type": "code",
   "execution_count": 256,
   "metadata": {},
   "outputs": [
    {
     "name": "stderr",
     "output_type": "stream",
     "text": [
      "c:\\DAAT\\DAA_DES\\app\\_vehicle_calculation.py:83: SettingWithCopyWarning:\n",
      "\n",
      "\n",
      "A value is trying to be set on a copy of a slice from a DataFrame\n",
      "\n",
      "See the caveats in the documentation: https://pandas.pydata.org/pandas-docs/stable/user_guide/indexing.html#returning-a-view-versus-a-copy\n",
      "\n",
      "c:\\DAAT\\DAA_DES\\app\\_vehicle_calculation.py:90: SettingWithCopyWarning:\n",
      "\n",
      "\n",
      "A value is trying to be set on a copy of a slice from a DataFrame\n",
      "\n",
      "See the caveats in the documentation: https://pandas.pydata.org/pandas-docs/stable/user_guide/indexing.html#returning-a-view-versus-a-copy\n",
      "\n"
     ]
    },
    {
     "data": {
      "text/html": [
       "<div>\n",
       "<style scoped>\n",
       "    .dataframe tbody tr th:only-of-type {\n",
       "        vertical-align: middle;\n",
       "    }\n",
       "\n",
       "    .dataframe tbody tr th {\n",
       "        vertical-align: top;\n",
       "    }\n",
       "\n",
       "    .dataframe thead th {\n",
       "        text-align: right;\n",
       "    }\n",
       "</style>\n",
       "<table border=\"1\" class=\"dataframe\">\n",
       "  <thead>\n",
       "    <tr style=\"text-align: right;\">\n",
       "      <th></th>\n",
       "      <th>date</th>\n",
       "      <th>is_summer</th>\n",
       "      <th>H70</th>\n",
       "      <th>CC70</th>\n",
       "      <th>H71</th>\n",
       "      <th>CC71</th>\n",
       "      <th>CC72</th>\n",
       "    </tr>\n",
       "  </thead>\n",
       "  <tbody>\n",
       "    <tr>\n",
       "      <th>0</th>\n",
       "      <td>2025-02-28</td>\n",
       "      <td>False</td>\n",
       "      <td>11</td>\n",
       "      <td>11</td>\n",
       "      <td>2</td>\n",
       "      <td>2</td>\n",
       "      <td>2</td>\n",
       "    </tr>\n",
       "    <tr>\n",
       "      <th>1</th>\n",
       "      <td>2025-03-01</td>\n",
       "      <td>False</td>\n",
       "      <td>19</td>\n",
       "      <td>19</td>\n",
       "      <td>10</td>\n",
       "      <td>10</td>\n",
       "      <td>10</td>\n",
       "    </tr>\n",
       "    <tr>\n",
       "      <th>2</th>\n",
       "      <td>2025-03-02</td>\n",
       "      <td>False</td>\n",
       "      <td>19</td>\n",
       "      <td>19</td>\n",
       "      <td>10</td>\n",
       "      <td>10</td>\n",
       "      <td>10</td>\n",
       "    </tr>\n",
       "    <tr>\n",
       "      <th>3</th>\n",
       "      <td>2025-03-03</td>\n",
       "      <td>False</td>\n",
       "      <td>19</td>\n",
       "      <td>19</td>\n",
       "      <td>10</td>\n",
       "      <td>10</td>\n",
       "      <td>10</td>\n",
       "    </tr>\n",
       "    <tr>\n",
       "      <th>4</th>\n",
       "      <td>2025-03-04</td>\n",
       "      <td>False</td>\n",
       "      <td>19</td>\n",
       "      <td>19</td>\n",
       "      <td>10</td>\n",
       "      <td>10</td>\n",
       "      <td>10</td>\n",
       "    </tr>\n",
       "    <tr>\n",
       "      <th>...</th>\n",
       "      <td>...</td>\n",
       "      <td>...</td>\n",
       "      <td>...</td>\n",
       "      <td>...</td>\n",
       "      <td>...</td>\n",
       "      <td>...</td>\n",
       "      <td>...</td>\n",
       "    </tr>\n",
       "    <tr>\n",
       "      <th>361</th>\n",
       "      <td>2026-02-24</td>\n",
       "      <td>False</td>\n",
       "      <td>19</td>\n",
       "      <td>19</td>\n",
       "      <td>10</td>\n",
       "      <td>10</td>\n",
       "      <td>10</td>\n",
       "    </tr>\n",
       "    <tr>\n",
       "      <th>362</th>\n",
       "      <td>2026-02-25</td>\n",
       "      <td>False</td>\n",
       "      <td>19</td>\n",
       "      <td>19</td>\n",
       "      <td>10</td>\n",
       "      <td>10</td>\n",
       "      <td>10</td>\n",
       "    </tr>\n",
       "    <tr>\n",
       "      <th>363</th>\n",
       "      <td>2026-02-26</td>\n",
       "      <td>False</td>\n",
       "      <td>19</td>\n",
       "      <td>19</td>\n",
       "      <td>10</td>\n",
       "      <td>10</td>\n",
       "      <td>10</td>\n",
       "    </tr>\n",
       "    <tr>\n",
       "      <th>364</th>\n",
       "      <td>2026-02-27</td>\n",
       "      <td>False</td>\n",
       "      <td>19</td>\n",
       "      <td>19</td>\n",
       "      <td>10</td>\n",
       "      <td>10</td>\n",
       "      <td>10</td>\n",
       "    </tr>\n",
       "    <tr>\n",
       "      <th>365</th>\n",
       "      <td>2026-02-28</td>\n",
       "      <td>False</td>\n",
       "      <td>8</td>\n",
       "      <td>8</td>\n",
       "      <td>8</td>\n",
       "      <td>8</td>\n",
       "      <td>8</td>\n",
       "    </tr>\n",
       "  </tbody>\n",
       "</table>\n",
       "<p>366 rows × 7 columns</p>\n",
       "</div>"
      ],
      "text/plain": [
       "          date  is_summer  H70  CC70  H71  CC71  CC72\n",
       "0   2025-02-28      False   11    11    2     2     2\n",
       "1   2025-03-01      False   19    19   10    10    10\n",
       "2   2025-03-02      False   19    19   10    10    10\n",
       "3   2025-03-03      False   19    19   10    10    10\n",
       "4   2025-03-04      False   19    19   10    10    10\n",
       "..         ...        ...  ...   ...  ...   ...   ...\n",
       "361 2026-02-24      False   19    19   10    10    10\n",
       "362 2026-02-25      False   19    19   10    10    10\n",
       "363 2026-02-26      False   19    19   10    10    10\n",
       "364 2026-02-27      False   19    19   10    10    10\n",
       "365 2026-02-28      False    8     8    8     8     8\n",
       "\n",
       "[366 rows x 7 columns]"
      ]
     },
     "execution_count": 256,
     "metadata": {},
     "output_type": "execute_result"
    }
   ],
   "source": [
    "daily_available_hours, total_avail_hours, total_avail_minutes = calculate_available_hours(params_df)\n",
    "daily_available_hours"
   ]
  },
  {
   "cell_type": "code",
   "execution_count": 257,
   "metadata": {},
   "outputs": [
    {
     "data": {
      "text/html": [
       "<div>\n",
       "<style scoped>\n",
       "    .dataframe tbody tr th:only-of-type {\n",
       "        vertical-align: middle;\n",
       "    }\n",
       "\n",
       "    .dataframe tbody tr th {\n",
       "        vertical-align: top;\n",
       "    }\n",
       "\n",
       "    .dataframe thead th {\n",
       "        text-align: right;\n",
       "    }\n",
       "</style>\n",
       "<table border=\"1\" class=\"dataframe\">\n",
       "  <thead>\n",
       "    <tr style=\"text-align: right;\">\n",
       "      <th></th>\n",
       "      <th>callsign</th>\n",
       "      <th>total_available_hours_in_sim</th>\n",
       "      <th>callsign_group</th>\n",
       "    </tr>\n",
       "  </thead>\n",
       "  <tbody>\n",
       "    <tr>\n",
       "      <th>0</th>\n",
       "      <td>H70</td>\n",
       "      <td>6935</td>\n",
       "      <td>70</td>\n",
       "    </tr>\n",
       "    <tr>\n",
       "      <th>1</th>\n",
       "      <td>C70</td>\n",
       "      <td>6935</td>\n",
       "      <td>70</td>\n",
       "    </tr>\n",
       "    <tr>\n",
       "      <th>2</th>\n",
       "      <td>H71</td>\n",
       "      <td>4016</td>\n",
       "      <td>71</td>\n",
       "    </tr>\n",
       "    <tr>\n",
       "      <th>3</th>\n",
       "      <td>C71</td>\n",
       "      <td>4016</td>\n",
       "      <td>71</td>\n",
       "    </tr>\n",
       "    <tr>\n",
       "      <th>4</th>\n",
       "      <td>C72</td>\n",
       "      <td>3650</td>\n",
       "      <td>72</td>\n",
       "    </tr>\n",
       "  </tbody>\n",
       "</table>\n",
       "</div>"
      ],
      "text/plain": [
       "  callsign  total_available_hours_in_sim callsign_group\n",
       "0      H70                          6935             70\n",
       "1      C70                          6935             70\n",
       "2      H71                          4016             71\n",
       "3      C71                          4016             71\n",
       "4      C72                          3650             72"
      ]
     },
     "execution_count": 257,
     "metadata": {},
     "output_type": "execute_result"
    }
   ],
   "source": [
    "total_avail_hours"
   ]
  },
  {
   "cell_type": "code",
   "execution_count": 258,
   "metadata": {},
   "outputs": [
    {
     "data": {
      "text/html": [
       "<div>\n",
       "<style scoped>\n",
       "    .dataframe tbody tr th:only-of-type {\n",
       "        vertical-align: middle;\n",
       "    }\n",
       "\n",
       "    .dataframe tbody tr th {\n",
       "        vertical-align: top;\n",
       "    }\n",
       "\n",
       "    .dataframe thead th {\n",
       "        text-align: right;\n",
       "    }\n",
       "</style>\n",
       "<table border=\"1\" class=\"dataframe\">\n",
       "  <thead>\n",
       "    <tr style=\"text-align: right;\">\n",
       "      <th></th>\n",
       "      <th>callsign</th>\n",
       "      <th>total_available_minutes_in_sim</th>\n",
       "      <th>callsign_group</th>\n",
       "    </tr>\n",
       "  </thead>\n",
       "  <tbody>\n",
       "    <tr>\n",
       "      <th>0</th>\n",
       "      <td>H70</td>\n",
       "      <td>416100</td>\n",
       "      <td>70</td>\n",
       "    </tr>\n",
       "    <tr>\n",
       "      <th>1</th>\n",
       "      <td>C70</td>\n",
       "      <td>416100</td>\n",
       "      <td>70</td>\n",
       "    </tr>\n",
       "    <tr>\n",
       "      <th>2</th>\n",
       "      <td>H71</td>\n",
       "      <td>240960</td>\n",
       "      <td>71</td>\n",
       "    </tr>\n",
       "    <tr>\n",
       "      <th>3</th>\n",
       "      <td>C71</td>\n",
       "      <td>240960</td>\n",
       "      <td>71</td>\n",
       "    </tr>\n",
       "    <tr>\n",
       "      <th>4</th>\n",
       "      <td>C72</td>\n",
       "      <td>219000</td>\n",
       "      <td>72</td>\n",
       "    </tr>\n",
       "  </tbody>\n",
       "</table>\n",
       "</div>"
      ],
      "text/plain": [
       "  callsign  total_available_minutes_in_sim callsign_group\n",
       "0      H70                          416100             70\n",
       "1      C70                          416100             70\n",
       "2      H71                          240960             71\n",
       "3      C71                          240960             71\n",
       "4      C72                          219000             72"
      ]
     },
     "execution_count": 258,
     "metadata": {},
     "output_type": "execute_result"
    }
   ],
   "source": [
    "total_avail_minutes"
   ]
  },
  {
   "cell_type": "code",
   "execution_count": 259,
   "metadata": {},
   "outputs": [],
   "source": [
    "import pandas as pd\n",
    "from datetime import datetime, timedelta\n",
    "\n",
    "def calculate_theoretical_time_v2(params_df,\n",
    "rota_data=pd.read_csv(\"../actual_data/HEMS_ROTA.csv\"),\n",
    "service_data=pd.read_csv(\"../data/service_dates.csv\"),\n",
    "output_by_month=False,\n",
    "long_format_df=False\n",
    "):\n",
    "    # Convert data into DataFrames\n",
    "    warm_up_end = _processing_functions.get_param(\"warm_up_end_date\", params_df)\n",
    "    warm_up_end = datetime.strptime(warm_up_end, \"%Y-%m-%d %H:%M:%S\")\n",
    "\n",
    "    sim_end = _processing_functions.get_param(\"sim_end_date\", params_df)\n",
    "    sim_end = datetime.strptime(sim_end, \"%Y-%m-%d %H:%M:%S\")\n",
    "\n",
    "#     hems_rota = pd.read_csv(rota_path)\n",
    "    # service_dates = pd.read_csv(service_data_path)\n",
    "\n",
    "    date_range = pd.date_range(start=warm_up_end.date(),\n",
    "                            end=sim_end.date(),\n",
    "                            freq='D')\n",
    "    daily_df = pd.DataFrame({'date': date_range})\n",
    "\n",
    "#     daily_df = pd.DataFrame(daily_data)\n",
    "    rota_df = pd.DataFrame(rota_data)\n",
    "    service_df = pd.DataFrame(service_data)\n",
    "\n",
    "    # Convert date columns to datetime format\n",
    "    daily_df['date'] = pd.to_datetime(daily_df['date'])\n",
    "    service_df['service_start_date'] = pd.to_datetime(service_df['service_start_date'])\n",
    "    service_df['service_end_date'] = pd.to_datetime(service_df['service_end_date'])\n",
    "\n",
    "    # Initialize dictionary to store results\n",
    "    theoretical_availability = {}\n",
    "\n",
    "    # Iterate over each row in the daily dataset\n",
    "    for index, row in daily_df.iterrows():\n",
    "        current_date = row['date']\n",
    "\n",
    "        # Store theoretical available time for each resource\n",
    "        day_data = {}\n",
    "\n",
    "        for _, rota in rota_df.iterrows():\n",
    "            callsign = rota['callsign']\n",
    "\n",
    "            # Determine summer or winter schedule\n",
    "            is_summer = current_date.month in range(3, 11)\n",
    "            start_hour = rota['summer_start'] if is_summer else rota['winter_start']\n",
    "            end_hour = rota['summer_end'] if is_summer else rota['winter_end']\n",
    "\n",
    "            # Handle cases where the shift ends after midnight\n",
    "            if end_hour < start_hour:\n",
    "                daily_available_time = (24 - start_hour) + end_hour\n",
    "            else:\n",
    "                daily_available_time = end_hour - start_hour\n",
    "\n",
    "            total_available_time = daily_available_time * 60  # Convert to minutes\n",
    "\n",
    "            # Adjust for servicing periods\n",
    "            service_downtime = 0\n",
    "            for _, service in service_df[service_df['resource'] == callsign].iterrows():\n",
    "                if service['service_start_date'] <= current_date <= service['service_end_date']:\n",
    "                    service_downtime = daily_available_time * 60\n",
    "                    break\n",
    "\n",
    "            # Final available time after accounting for servicing\n",
    "            day_data[callsign] = total_available_time - service_downtime\n",
    "\n",
    "        theoretical_availability[current_date.strftime('%Y-%m-%d')] = day_data\n",
    "\n",
    "    theoretical_availability_df = pd.DataFrame(theoretical_availability).T\n",
    "    theoretical_availability_df.index.name = \"month\"\n",
    "    theoretical_availability_df = theoretical_availability_df.reset_index()\n",
    "    # theoretical_availability_df = theoretical_availability_df.add_prefix(\"theoretical_availability_\")\n",
    "\n",
    "    theoretical_availability_df.fillna(0.0)\n",
    "\n",
    "    if long_format_df:\n",
    "        theoretical_availability_df = (\n",
    "            theoretical_availability_df\n",
    "            .melt(id_vars=\"month\")\n",
    "            .rename(columns={\"value\":\"theoretical_availability\", \"variable\": \"callsign\"})\n",
    "            )\n",
    "\n",
    "        theoretical_availability_df['theoretical_availability'] = theoretical_availability_df['theoretical_availability'].astype('float')\n",
    "\n",
    "    daily_available_minutes = theoretical_availability_df.copy()\n",
    "\n",
    "    total_avail_minutes = daily_available_minutes.groupby('callsign')[['theoretical_availability']].sum(numeric_only=True).reset_index().rename(columns={'theoretical_availability':'total_available_minutes_in_sim'})\n",
    "\n",
    "    total_avail_minutes[\"callsign_group\"] = total_avail_minutes[\"callsign\"].apply(lambda x: re.sub('\\D', '', x))\n",
    "\n",
    "\n",
    "    return theoretical_availability_df, total_avail_minutes\n"
   ]
  },
  {
   "cell_type": "code",
   "execution_count": 260,
   "metadata": {},
   "outputs": [],
   "source": [
    "# def calculate_theoretical_time_v2(params_df,\n",
    "# rota_data=pd.read_csv(\"../actual_data/HEMS_ROTA.csv\"),\n",
    "# service_data=pd.read_csv(\"../data/service_dates.csv\",\n",
    "# output_by_month=False)\n",
    "# ):\n",
    "#     # Convert data into DataFrames\n",
    "#     warm_up_end = _processing_functions.get_param(\"warm_up_end_date\", params_df)\n",
    "#     warm_up_end = datetime.strptime(warm_up_end, \"%Y-%m-%d %H:%M:%S\")\n",
    "\n",
    "#     sim_end = _processing_functions.get_param(\"sim_end_date\", params_df)\n",
    "#     sim_end = datetime.strptime(sim_end, \"%Y-%m-%d %H:%M:%S\")\n",
    "\n",
    "# #     hems_rota = pd.read_csv(rota_path)\n",
    "#     # service_dates = pd.read_csv(service_data_path)\n",
    "\n",
    "#     date_range = pd.date_range(start=warm_up_end.date(),\n",
    "#                             end=sim_end.date(),\n",
    "#                             freq='D')\n",
    "#     daily_df = pd.DataFrame({'date': date_range})\n",
    "\n",
    "# #     daily_df = pd.DataFrame(daily_data)\n",
    "#     rota_df = pd.DataFrame(rota_data)\n",
    "#     service_df = pd.DataFrame(service_data)\n",
    "\n",
    "#     # Convert date columns to datetime format\n",
    "#     daily_df['date'] = pd.to_datetime(daily_df['date'])\n",
    "#     service_df['service_start_date'] = pd.to_datetime(service_df['service_start_date'])\n",
    "#     service_df['service_end_date'] = pd.to_datetime(service_df['service_end_date'])\n",
    "\n",
    "#     # Initialize dictionary to store results\n",
    "#     theoretical_availability = {}\n",
    "\n",
    "#     # Iterate over each row in the daily dataset\n",
    "#     for index, row in daily_df.iterrows():\n",
    "#         current_date = row['date']\n",
    "\n",
    "#         # Store theoretical available time for each resource\n",
    "#         day_data = {}\n",
    "\n",
    "#         for _, rota in rota_df.iterrows():\n",
    "#             callsign = rota['callsign']\n",
    "\n",
    "#             # Determine summer or winter schedule\n",
    "#             is_summer = current_date.month in range(3, 11)\n",
    "#             start_hour = rota['summer_start'] if is_summer else rota['winter_start']\n",
    "#             end_hour = rota['summer_end'] if is_summer else rota['winter_end']\n",
    "\n",
    "#             # Handle cases where the shift ends after midnight\n",
    "#             if end_hour < start_hour:\n",
    "#                 daily_available_time = (24 - start_hour) + end_hour\n",
    "#             else:\n",
    "#                 daily_available_time = end_hour - start_hour\n",
    "\n",
    "#             total_available_time = daily_available_time * 60  # Convert to minutes\n",
    "\n",
    "#             # Adjust for servicing periods\n",
    "#             service_downtime = 0\n",
    "#             for _, service in service_df[service_df['resource'] == callsign].iterrows():\n",
    "#                 if service['service_start_date'] <= current_date <= service['service_end_date']:\n",
    "#                     service_downtime = daily_available_time * 60\n",
    "#                     break\n",
    "\n",
    "#             # Final available time after accounting for servicing\n",
    "#             day_data[callsign] = total_available_time - service_downtime\n",
    "\n",
    "#         theoretical_availability[current_date.strftime('%Y-%m-%d')] = day_data\n",
    "\n",
    "#     theoretical_availability_df = pd.DataFrame(theoretical_availability).T\n",
    "#     theoretical_availability_df.index.name = \"month\"\n",
    "#     theoretical_availability_df = theoretical_availability_df.reset_index()\n",
    "#     # theoretical_availability_df = theoretical_availability_df.add_prefix(\"theoretical_availability_\")\n",
    "\n",
    "#     theoretical_availability_df.fillna(0.0)\n",
    "\n",
    "#     if long_format_df:\n",
    "#         theoretical_availability_df = (\n",
    "#             theoretical_availability_df\n",
    "#             .melt(id_vars=\"month\")\n",
    "#             .rename(columns={\"value\":\"theoretical_availability\", \"variable\": \"callsign\"})\n",
    "#             )\n",
    "\n",
    "#         theoretical_availability_df['theoretical_availability'] = theoretical_availability_df['theoretical_availability'].astype('float')\n",
    "\n",
    "#     return theoretical_availability_df\n"
   ]
  },
  {
   "cell_type": "code",
   "execution_count": 261,
   "metadata": {},
   "outputs": [],
   "source": [
    "# calculate_theoretical_time_v2(params_df)"
   ]
  },
  {
   "cell_type": "code",
   "execution_count": 262,
   "metadata": {},
   "outputs": [
    {
     "data": {
      "text/html": [
       "<div>\n",
       "<style scoped>\n",
       "    .dataframe tbody tr th:only-of-type {\n",
       "        vertical-align: middle;\n",
       "    }\n",
       "\n",
       "    .dataframe tbody tr th {\n",
       "        vertical-align: top;\n",
       "    }\n",
       "\n",
       "    .dataframe thead th {\n",
       "        text-align: right;\n",
       "    }\n",
       "</style>\n",
       "<table border=\"1\" class=\"dataframe\">\n",
       "  <thead>\n",
       "    <tr style=\"text-align: right;\">\n",
       "      <th></th>\n",
       "      <th>month</th>\n",
       "      <th>callsign</th>\n",
       "      <th>theoretical_availability</th>\n",
       "    </tr>\n",
       "  </thead>\n",
       "  <tbody>\n",
       "    <tr>\n",
       "      <th>0</th>\n",
       "      <td>2025-02-28</td>\n",
       "      <td>H70</td>\n",
       "      <td>1140.0</td>\n",
       "    </tr>\n",
       "    <tr>\n",
       "      <th>1</th>\n",
       "      <td>2025-03-01</td>\n",
       "      <td>H70</td>\n",
       "      <td>1140.0</td>\n",
       "    </tr>\n",
       "    <tr>\n",
       "      <th>2</th>\n",
       "      <td>2025-03-02</td>\n",
       "      <td>H70</td>\n",
       "      <td>1140.0</td>\n",
       "    </tr>\n",
       "    <tr>\n",
       "      <th>3</th>\n",
       "      <td>2025-03-03</td>\n",
       "      <td>H70</td>\n",
       "      <td>1140.0</td>\n",
       "    </tr>\n",
       "    <tr>\n",
       "      <th>4</th>\n",
       "      <td>2025-03-04</td>\n",
       "      <td>H70</td>\n",
       "      <td>1140.0</td>\n",
       "    </tr>\n",
       "    <tr>\n",
       "      <th>...</th>\n",
       "      <td>...</td>\n",
       "      <td>...</td>\n",
       "      <td>...</td>\n",
       "    </tr>\n",
       "    <tr>\n",
       "      <th>1825</th>\n",
       "      <td>2026-02-24</td>\n",
       "      <td>CC72</td>\n",
       "      <td>600.0</td>\n",
       "    </tr>\n",
       "    <tr>\n",
       "      <th>1826</th>\n",
       "      <td>2026-02-25</td>\n",
       "      <td>CC72</td>\n",
       "      <td>600.0</td>\n",
       "    </tr>\n",
       "    <tr>\n",
       "      <th>1827</th>\n",
       "      <td>2026-02-26</td>\n",
       "      <td>CC72</td>\n",
       "      <td>600.0</td>\n",
       "    </tr>\n",
       "    <tr>\n",
       "      <th>1828</th>\n",
       "      <td>2026-02-27</td>\n",
       "      <td>CC72</td>\n",
       "      <td>600.0</td>\n",
       "    </tr>\n",
       "    <tr>\n",
       "      <th>1829</th>\n",
       "      <td>2026-02-28</td>\n",
       "      <td>CC72</td>\n",
       "      <td>600.0</td>\n",
       "    </tr>\n",
       "  </tbody>\n",
       "</table>\n",
       "<p>1830 rows × 3 columns</p>\n",
       "</div>"
      ],
      "text/plain": [
       "           month callsign  theoretical_availability\n",
       "0     2025-02-28      H70                    1140.0\n",
       "1     2025-03-01      H70                    1140.0\n",
       "2     2025-03-02      H70                    1140.0\n",
       "3     2025-03-03      H70                    1140.0\n",
       "4     2025-03-04      H70                    1140.0\n",
       "...          ...      ...                       ...\n",
       "1825  2026-02-24     CC72                     600.0\n",
       "1826  2026-02-25     CC72                     600.0\n",
       "1827  2026-02-26     CC72                     600.0\n",
       "1828  2026-02-27     CC72                     600.0\n",
       "1829  2026-02-28     CC72                     600.0\n",
       "\n",
       "[1830 rows x 3 columns]"
      ]
     },
     "execution_count": 262,
     "metadata": {},
     "output_type": "execute_result"
    }
   ],
   "source": [
    "theoretical_availability_df, total_avail_minutes = calculate_theoretical_time_v2(params_df, long_format_df=True)\n",
    "theoretical_availability_df"
   ]
  },
  {
   "cell_type": "code",
   "execution_count": 263,
   "metadata": {},
   "outputs": [
    {
     "data": {
      "text/html": [
       "<div>\n",
       "<style scoped>\n",
       "    .dataframe tbody tr th:only-of-type {\n",
       "        vertical-align: middle;\n",
       "    }\n",
       "\n",
       "    .dataframe tbody tr th {\n",
       "        vertical-align: top;\n",
       "    }\n",
       "\n",
       "    .dataframe thead th {\n",
       "        text-align: right;\n",
       "    }\n",
       "</style>\n",
       "<table border=\"1\" class=\"dataframe\">\n",
       "  <thead>\n",
       "    <tr style=\"text-align: right;\">\n",
       "      <th></th>\n",
       "      <th>callsign</th>\n",
       "      <th>total_available_minutes_in_sim</th>\n",
       "      <th>callsign_group</th>\n",
       "    </tr>\n",
       "  </thead>\n",
       "  <tbody>\n",
       "    <tr>\n",
       "      <th>0</th>\n",
       "      <td>CC70</td>\n",
       "      <td>417240.0</td>\n",
       "      <td>70</td>\n",
       "    </tr>\n",
       "    <tr>\n",
       "      <th>1</th>\n",
       "      <td>CC71</td>\n",
       "      <td>249000.0</td>\n",
       "      <td>71</td>\n",
       "    </tr>\n",
       "    <tr>\n",
       "      <th>2</th>\n",
       "      <td>CC72</td>\n",
       "      <td>219600.0</td>\n",
       "      <td>72</td>\n",
       "    </tr>\n",
       "    <tr>\n",
       "      <th>3</th>\n",
       "      <td>H70</td>\n",
       "      <td>392160.0</td>\n",
       "      <td>70</td>\n",
       "    </tr>\n",
       "    <tr>\n",
       "      <th>4</th>\n",
       "      <td>H71</td>\n",
       "      <td>233160.0</td>\n",
       "      <td>71</td>\n",
       "    </tr>\n",
       "  </tbody>\n",
       "</table>\n",
       "</div>"
      ],
      "text/plain": [
       "  callsign  total_available_minutes_in_sim callsign_group\n",
       "0     CC70                        417240.0             70\n",
       "1     CC71                        249000.0             71\n",
       "2     CC72                        219600.0             72\n",
       "3      H70                        392160.0             70\n",
       "4      H71                        233160.0             71"
      ]
     },
     "execution_count": 263,
     "metadata": {},
     "output_type": "execute_result"
    }
   ],
   "source": [
    "total_avail_minutes"
   ]
  }
 ],
 "metadata": {
  "kernelspec": {
   "display_name": ".venv",
   "language": "python",
   "name": "python3"
  },
  "language_info": {
   "codemirror_mode": {
    "name": "ipython",
    "version": 3
   },
   "file_extension": ".py",
   "mimetype": "text/x-python",
   "name": "python",
   "nbconvert_exporter": "python",
   "pygments_lexer": "ipython3",
   "version": "3.11.9"
  }
 },
 "nbformat": 4,
 "nbformat_minor": 2
}
