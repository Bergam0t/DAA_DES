{
 "cells": [
  {
   "cell_type": "code",
   "execution_count": 1,
   "metadata": {},
   "outputs": [],
   "source": [
    "import pandas as pd"
   ]
  },
  {
   "cell_type": "code",
   "execution_count": null,
   "metadata": {},
   "outputs": [
    {
     "data": {
      "text/html": [
       "<div>\n",
       "<style scoped>\n",
       "    .dataframe tbody tr th:only-of-type {\n",
       "        vertical-align: middle;\n",
       "    }\n",
       "\n",
       "    .dataframe tbody tr th {\n",
       "        vertical-align: top;\n",
       "    }\n",
       "\n",
       "    .dataframe thead th {\n",
       "        text-align: right;\n",
       "    }\n",
       "</style>\n",
       "<table border=\"1\" class=\"dataframe\">\n",
       "  <thead>\n",
       "    <tr style=\"text-align: right;\">\n",
       "      <th></th>\n",
       "      <th>month</th>\n",
       "      <th>CC70</th>\n",
       "      <th>CC71</th>\n",
       "      <th>CC72</th>\n",
       "      <th>CC73</th>\n",
       "      <th>H70</th>\n",
       "      <th>H71</th>\n",
       "      <th>VRS</th>\n",
       "    </tr>\n",
       "  </thead>\n",
       "  <tbody>\n",
       "    <tr>\n",
       "      <th>0</th>\n",
       "      <td>2023-01-01</td>\n",
       "      <td>28</td>\n",
       "      <td>4</td>\n",
       "      <td>29</td>\n",
       "      <td>0</td>\n",
       "      <td>69</td>\n",
       "      <td>29</td>\n",
       "      <td>7</td>\n",
       "    </tr>\n",
       "    <tr>\n",
       "      <th>1</th>\n",
       "      <td>2023-02-01</td>\n",
       "      <td>31</td>\n",
       "      <td>12</td>\n",
       "      <td>46</td>\n",
       "      <td>0</td>\n",
       "      <td>67</td>\n",
       "      <td>13</td>\n",
       "      <td>6</td>\n",
       "    </tr>\n",
       "    <tr>\n",
       "      <th>2</th>\n",
       "      <td>2023-03-01</td>\n",
       "      <td>50</td>\n",
       "      <td>20</td>\n",
       "      <td>28</td>\n",
       "      <td>0</td>\n",
       "      <td>65</td>\n",
       "      <td>0</td>\n",
       "      <td>14</td>\n",
       "    </tr>\n",
       "    <tr>\n",
       "      <th>3</th>\n",
       "      <td>2023-04-01</td>\n",
       "      <td>24</td>\n",
       "      <td>16</td>\n",
       "      <td>38</td>\n",
       "      <td>0</td>\n",
       "      <td>91</td>\n",
       "      <td>15</td>\n",
       "      <td>12</td>\n",
       "    </tr>\n",
       "    <tr>\n",
       "      <th>4</th>\n",
       "      <td>2023-05-01</td>\n",
       "      <td>15</td>\n",
       "      <td>16</td>\n",
       "      <td>35</td>\n",
       "      <td>0</td>\n",
       "      <td>105</td>\n",
       "      <td>19</td>\n",
       "      <td>11</td>\n",
       "    </tr>\n",
       "    <tr>\n",
       "      <th>5</th>\n",
       "      <td>2023-06-01</td>\n",
       "      <td>12</td>\n",
       "      <td>1</td>\n",
       "      <td>22</td>\n",
       "      <td>0</td>\n",
       "      <td>109</td>\n",
       "      <td>47</td>\n",
       "      <td>7</td>\n",
       "    </tr>\n",
       "    <tr>\n",
       "      <th>6</th>\n",
       "      <td>2023-07-01</td>\n",
       "      <td>35</td>\n",
       "      <td>5</td>\n",
       "      <td>21</td>\n",
       "      <td>0</td>\n",
       "      <td>101</td>\n",
       "      <td>42</td>\n",
       "      <td>3</td>\n",
       "    </tr>\n",
       "    <tr>\n",
       "      <th>7</th>\n",
       "      <td>2023-08-01</td>\n",
       "      <td>34</td>\n",
       "      <td>10</td>\n",
       "      <td>19</td>\n",
       "      <td>0</td>\n",
       "      <td>103</td>\n",
       "      <td>45</td>\n",
       "      <td>3</td>\n",
       "    </tr>\n",
       "    <tr>\n",
       "      <th>8</th>\n",
       "      <td>2023-09-01</td>\n",
       "      <td>40</td>\n",
       "      <td>10</td>\n",
       "      <td>27</td>\n",
       "      <td>0</td>\n",
       "      <td>107</td>\n",
       "      <td>36</td>\n",
       "      <td>6</td>\n",
       "    </tr>\n",
       "    <tr>\n",
       "      <th>9</th>\n",
       "      <td>2023-10-01</td>\n",
       "      <td>33</td>\n",
       "      <td>4</td>\n",
       "      <td>13</td>\n",
       "      <td>0</td>\n",
       "      <td>89</td>\n",
       "      <td>45</td>\n",
       "      <td>3</td>\n",
       "    </tr>\n",
       "    <tr>\n",
       "      <th>10</th>\n",
       "      <td>2023-11-01</td>\n",
       "      <td>29</td>\n",
       "      <td>5</td>\n",
       "      <td>14</td>\n",
       "      <td>0</td>\n",
       "      <td>62</td>\n",
       "      <td>12</td>\n",
       "      <td>3</td>\n",
       "    </tr>\n",
       "    <tr>\n",
       "      <th>11</th>\n",
       "      <td>2023-12-01</td>\n",
       "      <td>49</td>\n",
       "      <td>19</td>\n",
       "      <td>20</td>\n",
       "      <td>0</td>\n",
       "      <td>58</td>\n",
       "      <td>4</td>\n",
       "      <td>4</td>\n",
       "    </tr>\n",
       "    <tr>\n",
       "      <th>12</th>\n",
       "      <td>2024-01-01</td>\n",
       "      <td>42</td>\n",
       "      <td>5</td>\n",
       "      <td>29</td>\n",
       "      <td>0</td>\n",
       "      <td>79</td>\n",
       "      <td>36</td>\n",
       "      <td>2</td>\n",
       "    </tr>\n",
       "    <tr>\n",
       "      <th>13</th>\n",
       "      <td>2024-02-01</td>\n",
       "      <td>63</td>\n",
       "      <td>12</td>\n",
       "      <td>33</td>\n",
       "      <td>1</td>\n",
       "      <td>55</td>\n",
       "      <td>6</td>\n",
       "      <td>13</td>\n",
       "    </tr>\n",
       "    <tr>\n",
       "      <th>14</th>\n",
       "      <td>2024-03-01</td>\n",
       "      <td>54</td>\n",
       "      <td>5</td>\n",
       "      <td>40</td>\n",
       "      <td>2</td>\n",
       "      <td>76</td>\n",
       "      <td>38</td>\n",
       "      <td>9</td>\n",
       "    </tr>\n",
       "    <tr>\n",
       "      <th>15</th>\n",
       "      <td>2024-04-01</td>\n",
       "      <td>46</td>\n",
       "      <td>16</td>\n",
       "      <td>30</td>\n",
       "      <td>1</td>\n",
       "      <td>85</td>\n",
       "      <td>11</td>\n",
       "      <td>5</td>\n",
       "    </tr>\n",
       "    <tr>\n",
       "      <th>16</th>\n",
       "      <td>2024-05-01</td>\n",
       "      <td>36</td>\n",
       "      <td>5</td>\n",
       "      <td>33</td>\n",
       "      <td>4</td>\n",
       "      <td>114</td>\n",
       "      <td>36</td>\n",
       "      <td>10</td>\n",
       "    </tr>\n",
       "    <tr>\n",
       "      <th>17</th>\n",
       "      <td>2024-06-01</td>\n",
       "      <td>28</td>\n",
       "      <td>13</td>\n",
       "      <td>48</td>\n",
       "      <td>0</td>\n",
       "      <td>119</td>\n",
       "      <td>23</td>\n",
       "      <td>12</td>\n",
       "    </tr>\n",
       "    <tr>\n",
       "      <th>18</th>\n",
       "      <td>2024-07-01</td>\n",
       "      <td>39</td>\n",
       "      <td>4</td>\n",
       "      <td>45</td>\n",
       "      <td>4</td>\n",
       "      <td>93</td>\n",
       "      <td>36</td>\n",
       "      <td>6</td>\n",
       "    </tr>\n",
       "    <tr>\n",
       "      <th>19</th>\n",
       "      <td>2024-08-01</td>\n",
       "      <td>28</td>\n",
       "      <td>4</td>\n",
       "      <td>43</td>\n",
       "      <td>0</td>\n",
       "      <td>104</td>\n",
       "      <td>42</td>\n",
       "      <td>3</td>\n",
       "    </tr>\n",
       "    <tr>\n",
       "      <th>20</th>\n",
       "      <td>2024-09-01</td>\n",
       "      <td>32</td>\n",
       "      <td>21</td>\n",
       "      <td>20</td>\n",
       "      <td>3</td>\n",
       "      <td>77</td>\n",
       "      <td>2</td>\n",
       "      <td>7</td>\n",
       "    </tr>\n",
       "    <tr>\n",
       "      <th>21</th>\n",
       "      <td>2024-10-01</td>\n",
       "      <td>53</td>\n",
       "      <td>18</td>\n",
       "      <td>42</td>\n",
       "      <td>2</td>\n",
       "      <td>86</td>\n",
       "      <td>0</td>\n",
       "      <td>14</td>\n",
       "    </tr>\n",
       "    <tr>\n",
       "      <th>22</th>\n",
       "      <td>2024-11-01</td>\n",
       "      <td>60</td>\n",
       "      <td>14</td>\n",
       "      <td>29</td>\n",
       "      <td>0</td>\n",
       "      <td>51</td>\n",
       "      <td>17</td>\n",
       "      <td>11</td>\n",
       "    </tr>\n",
       "    <tr>\n",
       "      <th>23</th>\n",
       "      <td>2024-12-01</td>\n",
       "      <td>52</td>\n",
       "      <td>16</td>\n",
       "      <td>28</td>\n",
       "      <td>1</td>\n",
       "      <td>52</td>\n",
       "      <td>16</td>\n",
       "      <td>9</td>\n",
       "    </tr>\n",
       "  </tbody>\n",
       "</table>\n",
       "</div>"
      ],
      "text/plain": [
       "        month  CC70  CC71  CC72  CC73  H70  H71  VRS\n",
       "0  2023-01-01    28     4    29     0   69   29    7\n",
       "1  2023-02-01    31    12    46     0   67   13    6\n",
       "2  2023-03-01    50    20    28     0   65    0   14\n",
       "3  2023-04-01    24    16    38     0   91   15   12\n",
       "4  2023-05-01    15    16    35     0  105   19   11\n",
       "5  2023-06-01    12     1    22     0  109   47    7\n",
       "6  2023-07-01    35     5    21     0  101   42    3\n",
       "7  2023-08-01    34    10    19     0  103   45    3\n",
       "8  2023-09-01    40    10    27     0  107   36    6\n",
       "9  2023-10-01    33     4    13     0   89   45    3\n",
       "10 2023-11-01    29     5    14     0   62   12    3\n",
       "11 2023-12-01    49    19    20     0   58    4    4\n",
       "12 2024-01-01    42     5    29     0   79   36    2\n",
       "13 2024-02-01    63    12    33     1   55    6   13\n",
       "14 2024-03-01    54     5    40     2   76   38    9\n",
       "15 2024-04-01    46    16    30     1   85   11    5\n",
       "16 2024-05-01    36     5    33     4  114   36   10\n",
       "17 2024-06-01    28    13    48     0  119   23   12\n",
       "18 2024-07-01    39     4    45     4   93   36    6\n",
       "19 2024-08-01    28     4    43     0  104   42    3\n",
       "20 2024-09-01    32    21    20     3   77    2    7\n",
       "21 2024-10-01    53    18    42     2   86    0   14\n",
       "22 2024-11-01    60    14    29     0   51   17   11\n",
       "23 2024-12-01    52    16    28     1   52   16    9"
      ]
     },
     "execution_count": 7,
     "metadata": {},
     "output_type": "execute_result"
    }
   ],
   "source": [
    "jobs_by_callsign = pd.read_csv(\"../historical_data/historical_jobs_per_month_by_callsign.csv\")\n",
    "jobs_by_callsign[\"month\"] = pd.to_datetime(jobs_by_callsign[\"month\"], dayfirst=True)\n",
    "jobs_by_callsign"
   ]
  },
  {
   "cell_type": "code",
   "execution_count": 8,
   "metadata": {},
   "outputs": [
    {
     "data": {
      "text/html": [
       "<div>\n",
       "<style scoped>\n",
       "    .dataframe tbody tr th:only-of-type {\n",
       "        vertical-align: middle;\n",
       "    }\n",
       "\n",
       "    .dataframe tbody tr th {\n",
       "        vertical-align: top;\n",
       "    }\n",
       "\n",
       "    .dataframe thead th {\n",
       "        text-align: right;\n",
       "    }\n",
       "</style>\n",
       "<table border=\"1\" class=\"dataframe\">\n",
       "  <thead>\n",
       "    <tr style=\"text-align: right;\">\n",
       "      <th></th>\n",
       "      <th>month</th>\n",
       "      <th>callsign</th>\n",
       "      <th>jobs</th>\n",
       "    </tr>\n",
       "  </thead>\n",
       "  <tbody>\n",
       "    <tr>\n",
       "      <th>0</th>\n",
       "      <td>2023-01-01</td>\n",
       "      <td>CC70</td>\n",
       "      <td>28</td>\n",
       "    </tr>\n",
       "    <tr>\n",
       "      <th>1</th>\n",
       "      <td>2023-02-01</td>\n",
       "      <td>CC70</td>\n",
       "      <td>31</td>\n",
       "    </tr>\n",
       "    <tr>\n",
       "      <th>2</th>\n",
       "      <td>2023-03-01</td>\n",
       "      <td>CC70</td>\n",
       "      <td>50</td>\n",
       "    </tr>\n",
       "    <tr>\n",
       "      <th>3</th>\n",
       "      <td>2023-04-01</td>\n",
       "      <td>CC70</td>\n",
       "      <td>24</td>\n",
       "    </tr>\n",
       "    <tr>\n",
       "      <th>4</th>\n",
       "      <td>2023-05-01</td>\n",
       "      <td>CC70</td>\n",
       "      <td>15</td>\n",
       "    </tr>\n",
       "    <tr>\n",
       "      <th>...</th>\n",
       "      <td>...</td>\n",
       "      <td>...</td>\n",
       "      <td>...</td>\n",
       "    </tr>\n",
       "    <tr>\n",
       "      <th>163</th>\n",
       "      <td>2024-08-01</td>\n",
       "      <td>VRS</td>\n",
       "      <td>3</td>\n",
       "    </tr>\n",
       "    <tr>\n",
       "      <th>164</th>\n",
       "      <td>2024-09-01</td>\n",
       "      <td>VRS</td>\n",
       "      <td>7</td>\n",
       "    </tr>\n",
       "    <tr>\n",
       "      <th>165</th>\n",
       "      <td>2024-10-01</td>\n",
       "      <td>VRS</td>\n",
       "      <td>14</td>\n",
       "    </tr>\n",
       "    <tr>\n",
       "      <th>166</th>\n",
       "      <td>2024-11-01</td>\n",
       "      <td>VRS</td>\n",
       "      <td>11</td>\n",
       "    </tr>\n",
       "    <tr>\n",
       "      <th>167</th>\n",
       "      <td>2024-12-01</td>\n",
       "      <td>VRS</td>\n",
       "      <td>9</td>\n",
       "    </tr>\n",
       "  </tbody>\n",
       "</table>\n",
       "<p>168 rows × 3 columns</p>\n",
       "</div>"
      ],
      "text/plain": [
       "         month callsign  jobs\n",
       "0   2023-01-01     CC70    28\n",
       "1   2023-02-01     CC70    31\n",
       "2   2023-03-01     CC70    50\n",
       "3   2023-04-01     CC70    24\n",
       "4   2023-05-01     CC70    15\n",
       "..         ...      ...   ...\n",
       "163 2024-08-01      VRS     3\n",
       "164 2024-09-01      VRS     7\n",
       "165 2024-10-01      VRS    14\n",
       "166 2024-11-01      VRS    11\n",
       "167 2024-12-01      VRS     9\n",
       "\n",
       "[168 rows x 3 columns]"
      ]
     },
     "execution_count": 8,
     "metadata": {},
     "output_type": "execute_result"
    }
   ],
   "source": [
    "jobs_by_callsign_long = jobs_by_callsign.melt(id_vars=\"month\").rename(columns={\"variable\":\"callsign\", \"value\":\"jobs\"})\n",
    "jobs_by_callsign_long"
   ]
  },
  {
   "cell_type": "code",
   "execution_count": 13,
   "metadata": {},
   "outputs": [
    {
     "name": "stderr",
     "output_type": "stream",
     "text": [
      "C:\\Users\\Sammi\\AppData\\Local\\Temp\\ipykernel_33324\\3944492267.py:3: SettingWithCopyWarning: \n",
      "A value is trying to be set on a copy of a slice from a DataFrame.\n",
      "Try using .loc[row_indexer,col_indexer] = value instead\n",
      "\n",
      "See the caveats in the documentation: https://pandas.pydata.org/pandas-docs/stable/user_guide/indexing.html#returning-a-view-versus-a-copy\n",
      "  jobs_by_callsign_long[\"vehicle_type\"] = jobs_by_callsign_long[\"callsign\"].apply(lambda x: \"car\" if \"CC\" in x else \"helicopter\")\n"
     ]
    },
    {
     "data": {
      "text/html": [
       "<div>\n",
       "<style scoped>\n",
       "    .dataframe tbody tr th:only-of-type {\n",
       "        vertical-align: middle;\n",
       "    }\n",
       "\n",
       "    .dataframe tbody tr th {\n",
       "        vertical-align: top;\n",
       "    }\n",
       "\n",
       "    .dataframe thead th {\n",
       "        text-align: right;\n",
       "    }\n",
       "</style>\n",
       "<table border=\"1\" class=\"dataframe\">\n",
       "  <thead>\n",
       "    <tr style=\"text-align: right;\">\n",
       "      <th></th>\n",
       "      <th>month</th>\n",
       "      <th>callsign</th>\n",
       "      <th>jobs</th>\n",
       "      <th>callsign_group</th>\n",
       "      <th>vehicle_type</th>\n",
       "    </tr>\n",
       "  </thead>\n",
       "  <tbody>\n",
       "    <tr>\n",
       "      <th>0</th>\n",
       "      <td>2023-01-01</td>\n",
       "      <td>CC70</td>\n",
       "      <td>28</td>\n",
       "      <td>70</td>\n",
       "      <td>car</td>\n",
       "    </tr>\n",
       "    <tr>\n",
       "      <th>1</th>\n",
       "      <td>2023-02-01</td>\n",
       "      <td>CC70</td>\n",
       "      <td>31</td>\n",
       "      <td>70</td>\n",
       "      <td>car</td>\n",
       "    </tr>\n",
       "    <tr>\n",
       "      <th>2</th>\n",
       "      <td>2023-03-01</td>\n",
       "      <td>CC70</td>\n",
       "      <td>50</td>\n",
       "      <td>70</td>\n",
       "      <td>car</td>\n",
       "    </tr>\n",
       "    <tr>\n",
       "      <th>3</th>\n",
       "      <td>2023-04-01</td>\n",
       "      <td>CC70</td>\n",
       "      <td>24</td>\n",
       "      <td>70</td>\n",
       "      <td>car</td>\n",
       "    </tr>\n",
       "    <tr>\n",
       "      <th>4</th>\n",
       "      <td>2023-05-01</td>\n",
       "      <td>CC70</td>\n",
       "      <td>15</td>\n",
       "      <td>70</td>\n",
       "      <td>car</td>\n",
       "    </tr>\n",
       "    <tr>\n",
       "      <th>...</th>\n",
       "      <td>...</td>\n",
       "      <td>...</td>\n",
       "      <td>...</td>\n",
       "      <td>...</td>\n",
       "      <td>...</td>\n",
       "    </tr>\n",
       "    <tr>\n",
       "      <th>139</th>\n",
       "      <td>2024-08-01</td>\n",
       "      <td>H71</td>\n",
       "      <td>42</td>\n",
       "      <td>71</td>\n",
       "      <td>helicopter</td>\n",
       "    </tr>\n",
       "    <tr>\n",
       "      <th>140</th>\n",
       "      <td>2024-09-01</td>\n",
       "      <td>H71</td>\n",
       "      <td>2</td>\n",
       "      <td>71</td>\n",
       "      <td>helicopter</td>\n",
       "    </tr>\n",
       "    <tr>\n",
       "      <th>141</th>\n",
       "      <td>2024-10-01</td>\n",
       "      <td>H71</td>\n",
       "      <td>0</td>\n",
       "      <td>71</td>\n",
       "      <td>helicopter</td>\n",
       "    </tr>\n",
       "    <tr>\n",
       "      <th>142</th>\n",
       "      <td>2024-11-01</td>\n",
       "      <td>H71</td>\n",
       "      <td>17</td>\n",
       "      <td>71</td>\n",
       "      <td>helicopter</td>\n",
       "    </tr>\n",
       "    <tr>\n",
       "      <th>143</th>\n",
       "      <td>2024-12-01</td>\n",
       "      <td>H71</td>\n",
       "      <td>16</td>\n",
       "      <td>71</td>\n",
       "      <td>helicopter</td>\n",
       "    </tr>\n",
       "  </tbody>\n",
       "</table>\n",
       "<p>144 rows × 5 columns</p>\n",
       "</div>"
      ],
      "text/plain": [
       "         month callsign  jobs callsign_group vehicle_type\n",
       "0   2023-01-01     CC70    28             70          car\n",
       "1   2023-02-01     CC70    31             70          car\n",
       "2   2023-03-01     CC70    50             70          car\n",
       "3   2023-04-01     CC70    24             70          car\n",
       "4   2023-05-01     CC70    15             70          car\n",
       "..         ...      ...   ...            ...          ...\n",
       "139 2024-08-01      H71    42             71   helicopter\n",
       "140 2024-09-01      H71     2             71   helicopter\n",
       "141 2024-10-01      H71     0             71   helicopter\n",
       "142 2024-11-01      H71    17             71   helicopter\n",
       "143 2024-12-01      H71    16             71   helicopter\n",
       "\n",
       "[144 rows x 5 columns]"
      ]
     },
     "execution_count": 13,
     "metadata": {},
     "output_type": "execute_result"
    }
   ],
   "source": [
    "jobs_by_callsign_long[\"callsign_group\"] = jobs_by_callsign_long[\"callsign\"].str.extract(r\"(\\d+)\")\n",
    "jobs_by_callsign_long = jobs_by_callsign_long[~jobs_by_callsign_long[\"callsign_group\"].isna()]\n",
    "jobs_by_callsign_long[\"vehicle_type\"] = jobs_by_callsign_long[\"callsign\"].apply(lambda x: \"car\" if \"CC\" in x else \"helicopter\")\n",
    "jobs_by_callsign_long"
   ]
  },
  {
   "cell_type": "code",
   "execution_count": 14,
   "metadata": {},
   "outputs": [
    {
     "name": "stderr",
     "output_type": "stream",
     "text": [
      "C:\\Users\\Sammi\\AppData\\Local\\Temp\\ipykernel_33324\\95830333.py:2: SettingWithCopyWarning: \n",
      "A value is trying to be set on a copy of a slice from a DataFrame.\n",
      "Try using .loc[row_indexer,col_indexer] = value instead\n",
      "\n",
      "See the caveats in the documentation: https://pandas.pydata.org/pandas-docs/stable/user_guide/indexing.html#returning-a-view-versus-a-copy\n",
      "  jobs_by_callsign_long[\"total_jobs_per_group\"] = jobs_by_callsign_long.groupby([\"month\", \"callsign_group\"])[\"jobs\"].transform(\"sum\")\n",
      "C:\\Users\\Sammi\\AppData\\Local\\Temp\\ipykernel_33324\\95830333.py:5: SettingWithCopyWarning: \n",
      "A value is trying to be set on a copy of a slice from a DataFrame.\n",
      "Try using .loc[row_indexer,col_indexer] = value instead\n",
      "\n",
      "See the caveats in the documentation: https://pandas.pydata.org/pandas-docs/stable/user_guide/indexing.html#returning-a-view-versus-a-copy\n",
      "  jobs_by_callsign_long[\"percentage_of_group\"] = (jobs_by_callsign_long[\"jobs\"] / jobs_by_callsign_long[\"total_jobs_per_group\"]) * 100\n",
      "C:\\Users\\Sammi\\AppData\\Local\\Temp\\ipykernel_33324\\95830333.py:8: SettingWithCopyWarning: \n",
      "A value is trying to be set on a copy of a slice from a DataFrame.\n",
      "Try using .loc[row_indexer,col_indexer] = value instead\n",
      "\n",
      "See the caveats in the documentation: https://pandas.pydata.org/pandas-docs/stable/user_guide/indexing.html#returning-a-view-versus-a-copy\n",
      "  jobs_by_callsign_long[\"percentage_of_group\"] = jobs_by_callsign_long[\"percentage_of_group\"].fillna(0)\n"
     ]
    },
    {
     "data": {
      "text/html": [
       "<div>\n",
       "<style scoped>\n",
       "    .dataframe tbody tr th:only-of-type {\n",
       "        vertical-align: middle;\n",
       "    }\n",
       "\n",
       "    .dataframe tbody tr th {\n",
       "        vertical-align: top;\n",
       "    }\n",
       "\n",
       "    .dataframe thead th {\n",
       "        text-align: right;\n",
       "    }\n",
       "</style>\n",
       "<table border=\"1\" class=\"dataframe\">\n",
       "  <thead>\n",
       "    <tr style=\"text-align: right;\">\n",
       "      <th></th>\n",
       "      <th>month</th>\n",
       "      <th>callsign</th>\n",
       "      <th>jobs</th>\n",
       "      <th>callsign_group</th>\n",
       "      <th>vehicle_type</th>\n",
       "      <th>total_jobs_per_group</th>\n",
       "      <th>percentage_of_group</th>\n",
       "    </tr>\n",
       "  </thead>\n",
       "  <tbody>\n",
       "    <tr>\n",
       "      <th>0</th>\n",
       "      <td>2023-01-01</td>\n",
       "      <td>CC70</td>\n",
       "      <td>28</td>\n",
       "      <td>70</td>\n",
       "      <td>car</td>\n",
       "      <td>97</td>\n",
       "      <td>28.865979</td>\n",
       "    </tr>\n",
       "    <tr>\n",
       "      <th>1</th>\n",
       "      <td>2023-02-01</td>\n",
       "      <td>CC70</td>\n",
       "      <td>31</td>\n",
       "      <td>70</td>\n",
       "      <td>car</td>\n",
       "      <td>98</td>\n",
       "      <td>31.632653</td>\n",
       "    </tr>\n",
       "    <tr>\n",
       "      <th>2</th>\n",
       "      <td>2023-03-01</td>\n",
       "      <td>CC70</td>\n",
       "      <td>50</td>\n",
       "      <td>70</td>\n",
       "      <td>car</td>\n",
       "      <td>115</td>\n",
       "      <td>43.478261</td>\n",
       "    </tr>\n",
       "    <tr>\n",
       "      <th>3</th>\n",
       "      <td>2023-04-01</td>\n",
       "      <td>CC70</td>\n",
       "      <td>24</td>\n",
       "      <td>70</td>\n",
       "      <td>car</td>\n",
       "      <td>115</td>\n",
       "      <td>20.869565</td>\n",
       "    </tr>\n",
       "    <tr>\n",
       "      <th>4</th>\n",
       "      <td>2023-05-01</td>\n",
       "      <td>CC70</td>\n",
       "      <td>15</td>\n",
       "      <td>70</td>\n",
       "      <td>car</td>\n",
       "      <td>120</td>\n",
       "      <td>12.500000</td>\n",
       "    </tr>\n",
       "    <tr>\n",
       "      <th>...</th>\n",
       "      <td>...</td>\n",
       "      <td>...</td>\n",
       "      <td>...</td>\n",
       "      <td>...</td>\n",
       "      <td>...</td>\n",
       "      <td>...</td>\n",
       "      <td>...</td>\n",
       "    </tr>\n",
       "    <tr>\n",
       "      <th>139</th>\n",
       "      <td>2024-08-01</td>\n",
       "      <td>H71</td>\n",
       "      <td>42</td>\n",
       "      <td>71</td>\n",
       "      <td>helicopter</td>\n",
       "      <td>46</td>\n",
       "      <td>91.304348</td>\n",
       "    </tr>\n",
       "    <tr>\n",
       "      <th>140</th>\n",
       "      <td>2024-09-01</td>\n",
       "      <td>H71</td>\n",
       "      <td>2</td>\n",
       "      <td>71</td>\n",
       "      <td>helicopter</td>\n",
       "      <td>23</td>\n",
       "      <td>8.695652</td>\n",
       "    </tr>\n",
       "    <tr>\n",
       "      <th>141</th>\n",
       "      <td>2024-10-01</td>\n",
       "      <td>H71</td>\n",
       "      <td>0</td>\n",
       "      <td>71</td>\n",
       "      <td>helicopter</td>\n",
       "      <td>18</td>\n",
       "      <td>0.000000</td>\n",
       "    </tr>\n",
       "    <tr>\n",
       "      <th>142</th>\n",
       "      <td>2024-11-01</td>\n",
       "      <td>H71</td>\n",
       "      <td>17</td>\n",
       "      <td>71</td>\n",
       "      <td>helicopter</td>\n",
       "      <td>31</td>\n",
       "      <td>54.838710</td>\n",
       "    </tr>\n",
       "    <tr>\n",
       "      <th>143</th>\n",
       "      <td>2024-12-01</td>\n",
       "      <td>H71</td>\n",
       "      <td>16</td>\n",
       "      <td>71</td>\n",
       "      <td>helicopter</td>\n",
       "      <td>32</td>\n",
       "      <td>50.000000</td>\n",
       "    </tr>\n",
       "  </tbody>\n",
       "</table>\n",
       "<p>144 rows × 7 columns</p>\n",
       "</div>"
      ],
      "text/plain": [
       "         month callsign  jobs callsign_group vehicle_type  \\\n",
       "0   2023-01-01     CC70    28             70          car   \n",
       "1   2023-02-01     CC70    31             70          car   \n",
       "2   2023-03-01     CC70    50             70          car   \n",
       "3   2023-04-01     CC70    24             70          car   \n",
       "4   2023-05-01     CC70    15             70          car   \n",
       "..         ...      ...   ...            ...          ...   \n",
       "139 2024-08-01      H71    42             71   helicopter   \n",
       "140 2024-09-01      H71     2             71   helicopter   \n",
       "141 2024-10-01      H71     0             71   helicopter   \n",
       "142 2024-11-01      H71    17             71   helicopter   \n",
       "143 2024-12-01      H71    16             71   helicopter   \n",
       "\n",
       "     total_jobs_per_group  percentage_of_group  \n",
       "0                      97            28.865979  \n",
       "1                      98            31.632653  \n",
       "2                     115            43.478261  \n",
       "3                     115            20.869565  \n",
       "4                     120            12.500000  \n",
       "..                    ...                  ...  \n",
       "139                    46            91.304348  \n",
       "140                    23             8.695652  \n",
       "141                    18             0.000000  \n",
       "142                    31            54.838710  \n",
       "143                    32            50.000000  \n",
       "\n",
       "[144 rows x 7 columns]"
      ]
     },
     "execution_count": 14,
     "metadata": {},
     "output_type": "execute_result"
    }
   ],
   "source": [
    "# Compute total jobs per callsign_group per month\n",
    "jobs_by_callsign_long[\"total_jobs_per_group\"] = jobs_by_callsign_long.groupby([\"month\", \"callsign_group\"])[\"jobs\"].transform(\"sum\")\n",
    "\n",
    "# Compute percentage of calls per row\n",
    "jobs_by_callsign_long[\"percentage_of_group\"] = (jobs_by_callsign_long[\"jobs\"] / jobs_by_callsign_long[\"total_jobs_per_group\"]) * 100\n",
    "\n",
    "# Handle potential division by zero (if total_jobs_per_group is 0)\n",
    "jobs_by_callsign_long[\"percentage_of_group\"] = jobs_by_callsign_long[\"percentage_of_group\"].fillna(0)\n",
    "\n",
    "jobs_by_callsign_long"
   ]
  },
  {
   "cell_type": "code",
   "execution_count": 16,
   "metadata": {},
   "outputs": [],
   "source": [
    "import plotly.express as px"
   ]
  },
  {
   "cell_type": "code",
   "execution_count": 18,
   "metadata": {},
   "outputs": [
    {
     "data": {
      "application/vnd.plotly.v1+json": {
       "config": {
        "plotlyServerURL": "https://plot.ly"
       },
       "data": [
        {
         "alignmentgroup": "True",
         "hovertemplate": "vehicle_type=car<br>percentage_of_group=%{x}<br>callsign_group=%{y}<extra></extra>",
         "legendgroup": "car",
         "marker": {
          "color": "#636efa"
         },
         "name": "car",
         "notched": false,
         "offsetgroup": "car",
         "orientation": "h",
         "showlegend": true,
         "type": "box",
         "x": [
          28.865979381443296,
          31.63265306122449,
          43.47826086956522,
          20.869565217391305,
          12.5,
          9.917355371900827,
          25.735294117647058,
          24.817518248175183,
          27.2108843537415,
          27.049180327868854,
          31.868131868131865,
          45.794392523364486,
          34.710743801652896,
          53.38983050847458,
          41.53846153846154,
          35.11450381679389,
          24,
          19.047619047619047,
          29.545454545454547,
          21.21212121212121,
          29.357798165137616,
          38.1294964028777,
          54.054054054054056,
          50,
          12.121212121212121,
          48,
          100,
          51.61290322580645,
          45.714285714285715,
          2.083333333333333,
          10.638297872340425,
          18.181818181818183,
          21.73913043478261,
          8.16326530612245,
          29.411764705882355,
          82.6086956521739,
          12.195121951219512,
          66.66666666666666,
          11.627906976744185,
          59.25925925925925,
          12.195121951219512,
          36.11111111111111,
          10,
          8.695652173913043,
          91.30434782608695,
          100,
          45.16129032258064,
          50,
          100,
          100,
          100,
          100,
          100,
          100,
          100,
          100,
          100,
          100,
          100,
          100,
          100,
          100,
          100,
          100,
          100,
          100,
          100,
          100,
          100,
          100,
          100,
          100,
          0,
          0,
          0,
          0,
          0,
          0,
          0,
          0,
          0,
          0,
          0,
          0,
          0,
          100,
          100,
          100,
          100,
          0,
          100,
          0,
          100,
          100,
          0,
          100
         ],
         "x0": " ",
         "xaxis": "x",
         "y": [
          "70",
          "70",
          "70",
          "70",
          "70",
          "70",
          "70",
          "70",
          "70",
          "70",
          "70",
          "70",
          "70",
          "70",
          "70",
          "70",
          "70",
          "70",
          "70",
          "70",
          "70",
          "70",
          "70",
          "70",
          "71",
          "71",
          "71",
          "71",
          "71",
          "71",
          "71",
          "71",
          "71",
          "71",
          "71",
          "71",
          "71",
          "71",
          "71",
          "71",
          "71",
          "71",
          "71",
          "71",
          "71",
          "71",
          "71",
          "71",
          "72",
          "72",
          "72",
          "72",
          "72",
          "72",
          "72",
          "72",
          "72",
          "72",
          "72",
          "72",
          "72",
          "72",
          "72",
          "72",
          "72",
          "72",
          "72",
          "72",
          "72",
          "72",
          "72",
          "72",
          "73",
          "73",
          "73",
          "73",
          "73",
          "73",
          "73",
          "73",
          "73",
          "73",
          "73",
          "73",
          "73",
          "73",
          "73",
          "73",
          "73",
          "73",
          "73",
          "73",
          "73",
          "73",
          "73",
          "73"
         ],
         "y0": " ",
         "yaxis": "y"
        },
        {
         "alignmentgroup": "True",
         "hovertemplate": "vehicle_type=helicopter<br>percentage_of_group=%{x}<br>callsign_group=%{y}<extra></extra>",
         "legendgroup": "helicopter",
         "marker": {
          "color": "#EF553B"
         },
         "name": "helicopter",
         "notched": false,
         "offsetgroup": "helicopter",
         "orientation": "h",
         "showlegend": true,
         "type": "box",
         "x": [
          71.1340206185567,
          68.36734693877551,
          56.52173913043478,
          79.13043478260869,
          87.5,
          90.08264462809917,
          74.26470588235294,
          75.18248175182481,
          72.78911564625851,
          72.95081967213115,
          68.13186813186813,
          54.20560747663551,
          65.28925619834712,
          46.61016949152542,
          58.46153846153847,
          64.8854961832061,
          76,
          80.95238095238095,
          70.45454545454545,
          78.78787878787878,
          70.64220183486239,
          61.87050359712231,
          45.94594594594595,
          50,
          87.87878787878788,
          52,
          0,
          48.38709677419355,
          54.285714285714285,
          97.91666666666666,
          89.36170212765957,
          81.81818181818183,
          78.26086956521739,
          91.83673469387756,
          70.58823529411765,
          17.391304347826086,
          87.8048780487805,
          33.33333333333333,
          88.37209302325581,
          40.74074074074074,
          87.8048780487805,
          63.888888888888886,
          90,
          91.30434782608695,
          8.695652173913043,
          0,
          54.83870967741935,
          50
         ],
         "x0": " ",
         "xaxis": "x",
         "y": [
          "70",
          "70",
          "70",
          "70",
          "70",
          "70",
          "70",
          "70",
          "70",
          "70",
          "70",
          "70",
          "70",
          "70",
          "70",
          "70",
          "70",
          "70",
          "70",
          "70",
          "70",
          "70",
          "70",
          "70",
          "71",
          "71",
          "71",
          "71",
          "71",
          "71",
          "71",
          "71",
          "71",
          "71",
          "71",
          "71",
          "71",
          "71",
          "71",
          "71",
          "71",
          "71",
          "71",
          "71",
          "71",
          "71",
          "71",
          "71"
         ],
         "y0": " ",
         "yaxis": "y"
        }
       ],
       "layout": {
        "boxmode": "group",
        "legend": {
         "title": {
          "text": "vehicle_type"
         },
         "tracegroupgap": 0
        },
        "margin": {
         "t": 60
        },
        "template": {
         "data": {
          "bar": [
           {
            "error_x": {
             "color": "#2a3f5f"
            },
            "error_y": {
             "color": "#2a3f5f"
            },
            "marker": {
             "line": {
              "color": "#E5ECF6",
              "width": 0.5
             },
             "pattern": {
              "fillmode": "overlay",
              "size": 10,
              "solidity": 0.2
             }
            },
            "type": "bar"
           }
          ],
          "barpolar": [
           {
            "marker": {
             "line": {
              "color": "#E5ECF6",
              "width": 0.5
             },
             "pattern": {
              "fillmode": "overlay",
              "size": 10,
              "solidity": 0.2
             }
            },
            "type": "barpolar"
           }
          ],
          "carpet": [
           {
            "aaxis": {
             "endlinecolor": "#2a3f5f",
             "gridcolor": "white",
             "linecolor": "white",
             "minorgridcolor": "white",
             "startlinecolor": "#2a3f5f"
            },
            "baxis": {
             "endlinecolor": "#2a3f5f",
             "gridcolor": "white",
             "linecolor": "white",
             "minorgridcolor": "white",
             "startlinecolor": "#2a3f5f"
            },
            "type": "carpet"
           }
          ],
          "choropleth": [
           {
            "colorbar": {
             "outlinewidth": 0,
             "ticks": ""
            },
            "type": "choropleth"
           }
          ],
          "contour": [
           {
            "colorbar": {
             "outlinewidth": 0,
             "ticks": ""
            },
            "colorscale": [
             [
              0,
              "#0d0887"
             ],
             [
              0.1111111111111111,
              "#46039f"
             ],
             [
              0.2222222222222222,
              "#7201a8"
             ],
             [
              0.3333333333333333,
              "#9c179e"
             ],
             [
              0.4444444444444444,
              "#bd3786"
             ],
             [
              0.5555555555555556,
              "#d8576b"
             ],
             [
              0.6666666666666666,
              "#ed7953"
             ],
             [
              0.7777777777777778,
              "#fb9f3a"
             ],
             [
              0.8888888888888888,
              "#fdca26"
             ],
             [
              1,
              "#f0f921"
             ]
            ],
            "type": "contour"
           }
          ],
          "contourcarpet": [
           {
            "colorbar": {
             "outlinewidth": 0,
             "ticks": ""
            },
            "type": "contourcarpet"
           }
          ],
          "heatmap": [
           {
            "colorbar": {
             "outlinewidth": 0,
             "ticks": ""
            },
            "colorscale": [
             [
              0,
              "#0d0887"
             ],
             [
              0.1111111111111111,
              "#46039f"
             ],
             [
              0.2222222222222222,
              "#7201a8"
             ],
             [
              0.3333333333333333,
              "#9c179e"
             ],
             [
              0.4444444444444444,
              "#bd3786"
             ],
             [
              0.5555555555555556,
              "#d8576b"
             ],
             [
              0.6666666666666666,
              "#ed7953"
             ],
             [
              0.7777777777777778,
              "#fb9f3a"
             ],
             [
              0.8888888888888888,
              "#fdca26"
             ],
             [
              1,
              "#f0f921"
             ]
            ],
            "type": "heatmap"
           }
          ],
          "heatmapgl": [
           {
            "colorbar": {
             "outlinewidth": 0,
             "ticks": ""
            },
            "colorscale": [
             [
              0,
              "#0d0887"
             ],
             [
              0.1111111111111111,
              "#46039f"
             ],
             [
              0.2222222222222222,
              "#7201a8"
             ],
             [
              0.3333333333333333,
              "#9c179e"
             ],
             [
              0.4444444444444444,
              "#bd3786"
             ],
             [
              0.5555555555555556,
              "#d8576b"
             ],
             [
              0.6666666666666666,
              "#ed7953"
             ],
             [
              0.7777777777777778,
              "#fb9f3a"
             ],
             [
              0.8888888888888888,
              "#fdca26"
             ],
             [
              1,
              "#f0f921"
             ]
            ],
            "type": "heatmapgl"
           }
          ],
          "histogram": [
           {
            "marker": {
             "pattern": {
              "fillmode": "overlay",
              "size": 10,
              "solidity": 0.2
             }
            },
            "type": "histogram"
           }
          ],
          "histogram2d": [
           {
            "colorbar": {
             "outlinewidth": 0,
             "ticks": ""
            },
            "colorscale": [
             [
              0,
              "#0d0887"
             ],
             [
              0.1111111111111111,
              "#46039f"
             ],
             [
              0.2222222222222222,
              "#7201a8"
             ],
             [
              0.3333333333333333,
              "#9c179e"
             ],
             [
              0.4444444444444444,
              "#bd3786"
             ],
             [
              0.5555555555555556,
              "#d8576b"
             ],
             [
              0.6666666666666666,
              "#ed7953"
             ],
             [
              0.7777777777777778,
              "#fb9f3a"
             ],
             [
              0.8888888888888888,
              "#fdca26"
             ],
             [
              1,
              "#f0f921"
             ]
            ],
            "type": "histogram2d"
           }
          ],
          "histogram2dcontour": [
           {
            "colorbar": {
             "outlinewidth": 0,
             "ticks": ""
            },
            "colorscale": [
             [
              0,
              "#0d0887"
             ],
             [
              0.1111111111111111,
              "#46039f"
             ],
             [
              0.2222222222222222,
              "#7201a8"
             ],
             [
              0.3333333333333333,
              "#9c179e"
             ],
             [
              0.4444444444444444,
              "#bd3786"
             ],
             [
              0.5555555555555556,
              "#d8576b"
             ],
             [
              0.6666666666666666,
              "#ed7953"
             ],
             [
              0.7777777777777778,
              "#fb9f3a"
             ],
             [
              0.8888888888888888,
              "#fdca26"
             ],
             [
              1,
              "#f0f921"
             ]
            ],
            "type": "histogram2dcontour"
           }
          ],
          "mesh3d": [
           {
            "colorbar": {
             "outlinewidth": 0,
             "ticks": ""
            },
            "type": "mesh3d"
           }
          ],
          "parcoords": [
           {
            "line": {
             "colorbar": {
              "outlinewidth": 0,
              "ticks": ""
             }
            },
            "type": "parcoords"
           }
          ],
          "pie": [
           {
            "automargin": true,
            "type": "pie"
           }
          ],
          "scatter": [
           {
            "fillpattern": {
             "fillmode": "overlay",
             "size": 10,
             "solidity": 0.2
            },
            "type": "scatter"
           }
          ],
          "scatter3d": [
           {
            "line": {
             "colorbar": {
              "outlinewidth": 0,
              "ticks": ""
             }
            },
            "marker": {
             "colorbar": {
              "outlinewidth": 0,
              "ticks": ""
             }
            },
            "type": "scatter3d"
           }
          ],
          "scattercarpet": [
           {
            "marker": {
             "colorbar": {
              "outlinewidth": 0,
              "ticks": ""
             }
            },
            "type": "scattercarpet"
           }
          ],
          "scattergeo": [
           {
            "marker": {
             "colorbar": {
              "outlinewidth": 0,
              "ticks": ""
             }
            },
            "type": "scattergeo"
           }
          ],
          "scattergl": [
           {
            "marker": {
             "colorbar": {
              "outlinewidth": 0,
              "ticks": ""
             }
            },
            "type": "scattergl"
           }
          ],
          "scattermapbox": [
           {
            "marker": {
             "colorbar": {
              "outlinewidth": 0,
              "ticks": ""
             }
            },
            "type": "scattermapbox"
           }
          ],
          "scatterpolar": [
           {
            "marker": {
             "colorbar": {
              "outlinewidth": 0,
              "ticks": ""
             }
            },
            "type": "scatterpolar"
           }
          ],
          "scatterpolargl": [
           {
            "marker": {
             "colorbar": {
              "outlinewidth": 0,
              "ticks": ""
             }
            },
            "type": "scatterpolargl"
           }
          ],
          "scatterternary": [
           {
            "marker": {
             "colorbar": {
              "outlinewidth": 0,
              "ticks": ""
             }
            },
            "type": "scatterternary"
           }
          ],
          "surface": [
           {
            "colorbar": {
             "outlinewidth": 0,
             "ticks": ""
            },
            "colorscale": [
             [
              0,
              "#0d0887"
             ],
             [
              0.1111111111111111,
              "#46039f"
             ],
             [
              0.2222222222222222,
              "#7201a8"
             ],
             [
              0.3333333333333333,
              "#9c179e"
             ],
             [
              0.4444444444444444,
              "#bd3786"
             ],
             [
              0.5555555555555556,
              "#d8576b"
             ],
             [
              0.6666666666666666,
              "#ed7953"
             ],
             [
              0.7777777777777778,
              "#fb9f3a"
             ],
             [
              0.8888888888888888,
              "#fdca26"
             ],
             [
              1,
              "#f0f921"
             ]
            ],
            "type": "surface"
           }
          ],
          "table": [
           {
            "cells": {
             "fill": {
              "color": "#EBF0F8"
             },
             "line": {
              "color": "white"
             }
            },
            "header": {
             "fill": {
              "color": "#C8D4E3"
             },
             "line": {
              "color": "white"
             }
            },
            "type": "table"
           }
          ]
         },
         "layout": {
          "annotationdefaults": {
           "arrowcolor": "#2a3f5f",
           "arrowhead": 0,
           "arrowwidth": 1
          },
          "autotypenumbers": "strict",
          "coloraxis": {
           "colorbar": {
            "outlinewidth": 0,
            "ticks": ""
           }
          },
          "colorscale": {
           "diverging": [
            [
             0,
             "#8e0152"
            ],
            [
             0.1,
             "#c51b7d"
            ],
            [
             0.2,
             "#de77ae"
            ],
            [
             0.3,
             "#f1b6da"
            ],
            [
             0.4,
             "#fde0ef"
            ],
            [
             0.5,
             "#f7f7f7"
            ],
            [
             0.6,
             "#e6f5d0"
            ],
            [
             0.7,
             "#b8e186"
            ],
            [
             0.8,
             "#7fbc41"
            ],
            [
             0.9,
             "#4d9221"
            ],
            [
             1,
             "#276419"
            ]
           ],
           "sequential": [
            [
             0,
             "#0d0887"
            ],
            [
             0.1111111111111111,
             "#46039f"
            ],
            [
             0.2222222222222222,
             "#7201a8"
            ],
            [
             0.3333333333333333,
             "#9c179e"
            ],
            [
             0.4444444444444444,
             "#bd3786"
            ],
            [
             0.5555555555555556,
             "#d8576b"
            ],
            [
             0.6666666666666666,
             "#ed7953"
            ],
            [
             0.7777777777777778,
             "#fb9f3a"
            ],
            [
             0.8888888888888888,
             "#fdca26"
            ],
            [
             1,
             "#f0f921"
            ]
           ],
           "sequentialminus": [
            [
             0,
             "#0d0887"
            ],
            [
             0.1111111111111111,
             "#46039f"
            ],
            [
             0.2222222222222222,
             "#7201a8"
            ],
            [
             0.3333333333333333,
             "#9c179e"
            ],
            [
             0.4444444444444444,
             "#bd3786"
            ],
            [
             0.5555555555555556,
             "#d8576b"
            ],
            [
             0.6666666666666666,
             "#ed7953"
            ],
            [
             0.7777777777777778,
             "#fb9f3a"
            ],
            [
             0.8888888888888888,
             "#fdca26"
            ],
            [
             1,
             "#f0f921"
            ]
           ]
          },
          "colorway": [
           "#636efa",
           "#EF553B",
           "#00cc96",
           "#ab63fa",
           "#FFA15A",
           "#19d3f3",
           "#FF6692",
           "#B6E880",
           "#FF97FF",
           "#FECB52"
          ],
          "font": {
           "color": "#2a3f5f"
          },
          "geo": {
           "bgcolor": "white",
           "lakecolor": "white",
           "landcolor": "#E5ECF6",
           "showlakes": true,
           "showland": true,
           "subunitcolor": "white"
          },
          "hoverlabel": {
           "align": "left"
          },
          "hovermode": "closest",
          "mapbox": {
           "style": "light"
          },
          "paper_bgcolor": "white",
          "plot_bgcolor": "#E5ECF6",
          "polar": {
           "angularaxis": {
            "gridcolor": "white",
            "linecolor": "white",
            "ticks": ""
           },
           "bgcolor": "#E5ECF6",
           "radialaxis": {
            "gridcolor": "white",
            "linecolor": "white",
            "ticks": ""
           }
          },
          "scene": {
           "xaxis": {
            "backgroundcolor": "#E5ECF6",
            "gridcolor": "white",
            "gridwidth": 2,
            "linecolor": "white",
            "showbackground": true,
            "ticks": "",
            "zerolinecolor": "white"
           },
           "yaxis": {
            "backgroundcolor": "#E5ECF6",
            "gridcolor": "white",
            "gridwidth": 2,
            "linecolor": "white",
            "showbackground": true,
            "ticks": "",
            "zerolinecolor": "white"
           },
           "zaxis": {
            "backgroundcolor": "#E5ECF6",
            "gridcolor": "white",
            "gridwidth": 2,
            "linecolor": "white",
            "showbackground": true,
            "ticks": "",
            "zerolinecolor": "white"
           }
          },
          "shapedefaults": {
           "line": {
            "color": "#2a3f5f"
           }
          },
          "ternary": {
           "aaxis": {
            "gridcolor": "white",
            "linecolor": "white",
            "ticks": ""
           },
           "baxis": {
            "gridcolor": "white",
            "linecolor": "white",
            "ticks": ""
           },
           "bgcolor": "#E5ECF6",
           "caxis": {
            "gridcolor": "white",
            "linecolor": "white",
            "ticks": ""
           }
          },
          "title": {
           "x": 0.05
          },
          "xaxis": {
           "automargin": true,
           "gridcolor": "white",
           "linecolor": "white",
           "ticks": "",
           "title": {
            "standoff": 15
           },
           "zerolinecolor": "white",
           "zerolinewidth": 2
          },
          "yaxis": {
           "automargin": true,
           "gridcolor": "white",
           "linecolor": "white",
           "ticks": "",
           "title": {
            "standoff": 15
           },
           "zerolinecolor": "white",
           "zerolinewidth": 2
          }
         }
        },
        "xaxis": {
         "anchor": "y",
         "domain": [
          0,
          1
         ],
         "title": {
          "text": "percentage_of_group"
         }
        },
        "yaxis": {
         "anchor": "x",
         "domain": [
          0,
          1
         ],
         "title": {
          "text": "callsign_group"
         }
        }
       }
      }
     },
     "metadata": {},
     "output_type": "display_data"
    }
   ],
   "source": [
    "px.box(\n",
    "    jobs_by_callsign_long,\n",
    "    x=\"percentage_of_group\",\n",
    "    y=\"callsign_group\",\n",
    "    color=\"vehicle_type\"\n",
    ")"
   ]
  },
  {
   "cell_type": "code",
   "execution_count": 22,
   "metadata": {},
   "outputs": [
    {
     "data": {
      "text/html": [
       "<div>\n",
       "<style scoped>\n",
       "    .dataframe tbody tr th:only-of-type {\n",
       "        vertical-align: middle;\n",
       "    }\n",
       "\n",
       "    .dataframe tbody tr th {\n",
       "        vertical-align: top;\n",
       "    }\n",
       "\n",
       "    .dataframe thead th {\n",
       "        text-align: right;\n",
       "    }\n",
       "</style>\n",
       "<table border=\"1\" class=\"dataframe\">\n",
       "  <thead>\n",
       "    <tr style=\"text-align: right;\">\n",
       "      <th></th>\n",
       "      <th>callsign_group</th>\n",
       "      <th>vehicle_type</th>\n",
       "      <th>callsign</th>\n",
       "      <th>percentage_of_group</th>\n",
       "    </tr>\n",
       "  </thead>\n",
       "  <tbody>\n",
       "    <tr>\n",
       "      <th>0</th>\n",
       "      <td>70</td>\n",
       "      <td>car</td>\n",
       "      <td>CC70</td>\n",
       "      <td>31.659971</td>\n",
       "    </tr>\n",
       "    <tr>\n",
       "      <th>1</th>\n",
       "      <td>70</td>\n",
       "      <td>helicopter</td>\n",
       "      <td>H70</td>\n",
       "      <td>68.340029</td>\n",
       "    </tr>\n",
       "    <tr>\n",
       "      <th>2</th>\n",
       "      <td>71</td>\n",
       "      <td>car</td>\n",
       "      <td>CC71</td>\n",
       "      <td>38.895466</td>\n",
       "    </tr>\n",
       "    <tr>\n",
       "      <th>3</th>\n",
       "      <td>71</td>\n",
       "      <td>helicopter</td>\n",
       "      <td>H71</td>\n",
       "      <td>61.104534</td>\n",
       "    </tr>\n",
       "    <tr>\n",
       "      <th>4</th>\n",
       "      <td>72</td>\n",
       "      <td>car</td>\n",
       "      <td>CC72</td>\n",
       "      <td>100.000000</td>\n",
       "    </tr>\n",
       "    <tr>\n",
       "      <th>5</th>\n",
       "      <td>73</td>\n",
       "      <td>car</td>\n",
       "      <td>CC73</td>\n",
       "      <td>33.333333</td>\n",
       "    </tr>\n",
       "  </tbody>\n",
       "</table>\n",
       "</div>"
      ],
      "text/plain": [
       "  callsign_group vehicle_type callsign  percentage_of_group\n",
       "0             70          car     CC70            31.659971\n",
       "1             70   helicopter      H70            68.340029\n",
       "2             71          car     CC71            38.895466\n",
       "3             71   helicopter      H71            61.104534\n",
       "4             72          car     CC72           100.000000\n",
       "5             73          car     CC73            33.333333"
      ]
     },
     "execution_count": 22,
     "metadata": {},
     "output_type": "execute_result"
    }
   ],
   "source": [
    "jobs_by_callsign_long.groupby(['callsign_group', 'vehicle_type', 'callsign'])[['percentage_of_group']].mean().reset_index()"
   ]
  },
  {
   "cell_type": "code",
   "execution_count": 24,
   "metadata": {},
   "outputs": [
    {
     "data": {
      "application/vnd.plotly.v1+json": {
       "config": {
        "plotlyServerURL": "https://plot.ly"
       },
       "data": [
        {
         "alignmentgroup": "True",
         "hovertemplate": "vehicle_type=car<br>percentage_of_group=%{x}<br>callsign_group=%{y}<extra></extra>",
         "legendgroup": "car",
         "marker": {
          "color": "#636efa",
          "pattern": {
           "shape": ""
          }
         },
         "name": "car",
         "offsetgroup": "car",
         "orientation": "h",
         "showlegend": true,
         "textposition": "auto",
         "type": "bar",
         "x": [
          31.65997076804588,
          38.895466032773264,
          100,
          33.333333333333336
         ],
         "xaxis": "x",
         "y": [
          "70",
          "71",
          "72",
          "73"
         ],
         "yaxis": "y"
        },
        {
         "alignmentgroup": "True",
         "hovertemplate": "vehicle_type=helicopter<br>percentage_of_group=%{x}<br>callsign_group=%{y}<extra></extra>",
         "legendgroup": "helicopter",
         "marker": {
          "color": "#EF553B",
          "pattern": {
           "shape": ""
          }
         },
         "name": "helicopter",
         "offsetgroup": "helicopter",
         "orientation": "h",
         "showlegend": true,
         "textposition": "auto",
         "type": "bar",
         "x": [
          68.34002923195412,
          61.10453396722673
         ],
         "xaxis": "x",
         "y": [
          "70",
          "71"
         ],
         "yaxis": "y"
        }
       ],
       "layout": {
        "barmode": "relative",
        "legend": {
         "title": {
          "text": "vehicle_type"
         },
         "tracegroupgap": 0
        },
        "margin": {
         "t": 60
        },
        "template": {
         "data": {
          "bar": [
           {
            "error_x": {
             "color": "#2a3f5f"
            },
            "error_y": {
             "color": "#2a3f5f"
            },
            "marker": {
             "line": {
              "color": "#E5ECF6",
              "width": 0.5
             },
             "pattern": {
              "fillmode": "overlay",
              "size": 10,
              "solidity": 0.2
             }
            },
            "type": "bar"
           }
          ],
          "barpolar": [
           {
            "marker": {
             "line": {
              "color": "#E5ECF6",
              "width": 0.5
             },
             "pattern": {
              "fillmode": "overlay",
              "size": 10,
              "solidity": 0.2
             }
            },
            "type": "barpolar"
           }
          ],
          "carpet": [
           {
            "aaxis": {
             "endlinecolor": "#2a3f5f",
             "gridcolor": "white",
             "linecolor": "white",
             "minorgridcolor": "white",
             "startlinecolor": "#2a3f5f"
            },
            "baxis": {
             "endlinecolor": "#2a3f5f",
             "gridcolor": "white",
             "linecolor": "white",
             "minorgridcolor": "white",
             "startlinecolor": "#2a3f5f"
            },
            "type": "carpet"
           }
          ],
          "choropleth": [
           {
            "colorbar": {
             "outlinewidth": 0,
             "ticks": ""
            },
            "type": "choropleth"
           }
          ],
          "contour": [
           {
            "colorbar": {
             "outlinewidth": 0,
             "ticks": ""
            },
            "colorscale": [
             [
              0,
              "#0d0887"
             ],
             [
              0.1111111111111111,
              "#46039f"
             ],
             [
              0.2222222222222222,
              "#7201a8"
             ],
             [
              0.3333333333333333,
              "#9c179e"
             ],
             [
              0.4444444444444444,
              "#bd3786"
             ],
             [
              0.5555555555555556,
              "#d8576b"
             ],
             [
              0.6666666666666666,
              "#ed7953"
             ],
             [
              0.7777777777777778,
              "#fb9f3a"
             ],
             [
              0.8888888888888888,
              "#fdca26"
             ],
             [
              1,
              "#f0f921"
             ]
            ],
            "type": "contour"
           }
          ],
          "contourcarpet": [
           {
            "colorbar": {
             "outlinewidth": 0,
             "ticks": ""
            },
            "type": "contourcarpet"
           }
          ],
          "heatmap": [
           {
            "colorbar": {
             "outlinewidth": 0,
             "ticks": ""
            },
            "colorscale": [
             [
              0,
              "#0d0887"
             ],
             [
              0.1111111111111111,
              "#46039f"
             ],
             [
              0.2222222222222222,
              "#7201a8"
             ],
             [
              0.3333333333333333,
              "#9c179e"
             ],
             [
              0.4444444444444444,
              "#bd3786"
             ],
             [
              0.5555555555555556,
              "#d8576b"
             ],
             [
              0.6666666666666666,
              "#ed7953"
             ],
             [
              0.7777777777777778,
              "#fb9f3a"
             ],
             [
              0.8888888888888888,
              "#fdca26"
             ],
             [
              1,
              "#f0f921"
             ]
            ],
            "type": "heatmap"
           }
          ],
          "heatmapgl": [
           {
            "colorbar": {
             "outlinewidth": 0,
             "ticks": ""
            },
            "colorscale": [
             [
              0,
              "#0d0887"
             ],
             [
              0.1111111111111111,
              "#46039f"
             ],
             [
              0.2222222222222222,
              "#7201a8"
             ],
             [
              0.3333333333333333,
              "#9c179e"
             ],
             [
              0.4444444444444444,
              "#bd3786"
             ],
             [
              0.5555555555555556,
              "#d8576b"
             ],
             [
              0.6666666666666666,
              "#ed7953"
             ],
             [
              0.7777777777777778,
              "#fb9f3a"
             ],
             [
              0.8888888888888888,
              "#fdca26"
             ],
             [
              1,
              "#f0f921"
             ]
            ],
            "type": "heatmapgl"
           }
          ],
          "histogram": [
           {
            "marker": {
             "pattern": {
              "fillmode": "overlay",
              "size": 10,
              "solidity": 0.2
             }
            },
            "type": "histogram"
           }
          ],
          "histogram2d": [
           {
            "colorbar": {
             "outlinewidth": 0,
             "ticks": ""
            },
            "colorscale": [
             [
              0,
              "#0d0887"
             ],
             [
              0.1111111111111111,
              "#46039f"
             ],
             [
              0.2222222222222222,
              "#7201a8"
             ],
             [
              0.3333333333333333,
              "#9c179e"
             ],
             [
              0.4444444444444444,
              "#bd3786"
             ],
             [
              0.5555555555555556,
              "#d8576b"
             ],
             [
              0.6666666666666666,
              "#ed7953"
             ],
             [
              0.7777777777777778,
              "#fb9f3a"
             ],
             [
              0.8888888888888888,
              "#fdca26"
             ],
             [
              1,
              "#f0f921"
             ]
            ],
            "type": "histogram2d"
           }
          ],
          "histogram2dcontour": [
           {
            "colorbar": {
             "outlinewidth": 0,
             "ticks": ""
            },
            "colorscale": [
             [
              0,
              "#0d0887"
             ],
             [
              0.1111111111111111,
              "#46039f"
             ],
             [
              0.2222222222222222,
              "#7201a8"
             ],
             [
              0.3333333333333333,
              "#9c179e"
             ],
             [
              0.4444444444444444,
              "#bd3786"
             ],
             [
              0.5555555555555556,
              "#d8576b"
             ],
             [
              0.6666666666666666,
              "#ed7953"
             ],
             [
              0.7777777777777778,
              "#fb9f3a"
             ],
             [
              0.8888888888888888,
              "#fdca26"
             ],
             [
              1,
              "#f0f921"
             ]
            ],
            "type": "histogram2dcontour"
           }
          ],
          "mesh3d": [
           {
            "colorbar": {
             "outlinewidth": 0,
             "ticks": ""
            },
            "type": "mesh3d"
           }
          ],
          "parcoords": [
           {
            "line": {
             "colorbar": {
              "outlinewidth": 0,
              "ticks": ""
             }
            },
            "type": "parcoords"
           }
          ],
          "pie": [
           {
            "automargin": true,
            "type": "pie"
           }
          ],
          "scatter": [
           {
            "fillpattern": {
             "fillmode": "overlay",
             "size": 10,
             "solidity": 0.2
            },
            "type": "scatter"
           }
          ],
          "scatter3d": [
           {
            "line": {
             "colorbar": {
              "outlinewidth": 0,
              "ticks": ""
             }
            },
            "marker": {
             "colorbar": {
              "outlinewidth": 0,
              "ticks": ""
             }
            },
            "type": "scatter3d"
           }
          ],
          "scattercarpet": [
           {
            "marker": {
             "colorbar": {
              "outlinewidth": 0,
              "ticks": ""
             }
            },
            "type": "scattercarpet"
           }
          ],
          "scattergeo": [
           {
            "marker": {
             "colorbar": {
              "outlinewidth": 0,
              "ticks": ""
             }
            },
            "type": "scattergeo"
           }
          ],
          "scattergl": [
           {
            "marker": {
             "colorbar": {
              "outlinewidth": 0,
              "ticks": ""
             }
            },
            "type": "scattergl"
           }
          ],
          "scattermapbox": [
           {
            "marker": {
             "colorbar": {
              "outlinewidth": 0,
              "ticks": ""
             }
            },
            "type": "scattermapbox"
           }
          ],
          "scatterpolar": [
           {
            "marker": {
             "colorbar": {
              "outlinewidth": 0,
              "ticks": ""
             }
            },
            "type": "scatterpolar"
           }
          ],
          "scatterpolargl": [
           {
            "marker": {
             "colorbar": {
              "outlinewidth": 0,
              "ticks": ""
             }
            },
            "type": "scatterpolargl"
           }
          ],
          "scatterternary": [
           {
            "marker": {
             "colorbar": {
              "outlinewidth": 0,
              "ticks": ""
             }
            },
            "type": "scatterternary"
           }
          ],
          "surface": [
           {
            "colorbar": {
             "outlinewidth": 0,
             "ticks": ""
            },
            "colorscale": [
             [
              0,
              "#0d0887"
             ],
             [
              0.1111111111111111,
              "#46039f"
             ],
             [
              0.2222222222222222,
              "#7201a8"
             ],
             [
              0.3333333333333333,
              "#9c179e"
             ],
             [
              0.4444444444444444,
              "#bd3786"
             ],
             [
              0.5555555555555556,
              "#d8576b"
             ],
             [
              0.6666666666666666,
              "#ed7953"
             ],
             [
              0.7777777777777778,
              "#fb9f3a"
             ],
             [
              0.8888888888888888,
              "#fdca26"
             ],
             [
              1,
              "#f0f921"
             ]
            ],
            "type": "surface"
           }
          ],
          "table": [
           {
            "cells": {
             "fill": {
              "color": "#EBF0F8"
             },
             "line": {
              "color": "white"
             }
            },
            "header": {
             "fill": {
              "color": "#C8D4E3"
             },
             "line": {
              "color": "white"
             }
            },
            "type": "table"
           }
          ]
         },
         "layout": {
          "annotationdefaults": {
           "arrowcolor": "#2a3f5f",
           "arrowhead": 0,
           "arrowwidth": 1
          },
          "autotypenumbers": "strict",
          "coloraxis": {
           "colorbar": {
            "outlinewidth": 0,
            "ticks": ""
           }
          },
          "colorscale": {
           "diverging": [
            [
             0,
             "#8e0152"
            ],
            [
             0.1,
             "#c51b7d"
            ],
            [
             0.2,
             "#de77ae"
            ],
            [
             0.3,
             "#f1b6da"
            ],
            [
             0.4,
             "#fde0ef"
            ],
            [
             0.5,
             "#f7f7f7"
            ],
            [
             0.6,
             "#e6f5d0"
            ],
            [
             0.7,
             "#b8e186"
            ],
            [
             0.8,
             "#7fbc41"
            ],
            [
             0.9,
             "#4d9221"
            ],
            [
             1,
             "#276419"
            ]
           ],
           "sequential": [
            [
             0,
             "#0d0887"
            ],
            [
             0.1111111111111111,
             "#46039f"
            ],
            [
             0.2222222222222222,
             "#7201a8"
            ],
            [
             0.3333333333333333,
             "#9c179e"
            ],
            [
             0.4444444444444444,
             "#bd3786"
            ],
            [
             0.5555555555555556,
             "#d8576b"
            ],
            [
             0.6666666666666666,
             "#ed7953"
            ],
            [
             0.7777777777777778,
             "#fb9f3a"
            ],
            [
             0.8888888888888888,
             "#fdca26"
            ],
            [
             1,
             "#f0f921"
            ]
           ],
           "sequentialminus": [
            [
             0,
             "#0d0887"
            ],
            [
             0.1111111111111111,
             "#46039f"
            ],
            [
             0.2222222222222222,
             "#7201a8"
            ],
            [
             0.3333333333333333,
             "#9c179e"
            ],
            [
             0.4444444444444444,
             "#bd3786"
            ],
            [
             0.5555555555555556,
             "#d8576b"
            ],
            [
             0.6666666666666666,
             "#ed7953"
            ],
            [
             0.7777777777777778,
             "#fb9f3a"
            ],
            [
             0.8888888888888888,
             "#fdca26"
            ],
            [
             1,
             "#f0f921"
            ]
           ]
          },
          "colorway": [
           "#636efa",
           "#EF553B",
           "#00cc96",
           "#ab63fa",
           "#FFA15A",
           "#19d3f3",
           "#FF6692",
           "#B6E880",
           "#FF97FF",
           "#FECB52"
          ],
          "font": {
           "color": "#2a3f5f"
          },
          "geo": {
           "bgcolor": "white",
           "lakecolor": "white",
           "landcolor": "#E5ECF6",
           "showlakes": true,
           "showland": true,
           "subunitcolor": "white"
          },
          "hoverlabel": {
           "align": "left"
          },
          "hovermode": "closest",
          "mapbox": {
           "style": "light"
          },
          "paper_bgcolor": "white",
          "plot_bgcolor": "#E5ECF6",
          "polar": {
           "angularaxis": {
            "gridcolor": "white",
            "linecolor": "white",
            "ticks": ""
           },
           "bgcolor": "#E5ECF6",
           "radialaxis": {
            "gridcolor": "white",
            "linecolor": "white",
            "ticks": ""
           }
          },
          "scene": {
           "xaxis": {
            "backgroundcolor": "#E5ECF6",
            "gridcolor": "white",
            "gridwidth": 2,
            "linecolor": "white",
            "showbackground": true,
            "ticks": "",
            "zerolinecolor": "white"
           },
           "yaxis": {
            "backgroundcolor": "#E5ECF6",
            "gridcolor": "white",
            "gridwidth": 2,
            "linecolor": "white",
            "showbackground": true,
            "ticks": "",
            "zerolinecolor": "white"
           },
           "zaxis": {
            "backgroundcolor": "#E5ECF6",
            "gridcolor": "white",
            "gridwidth": 2,
            "linecolor": "white",
            "showbackground": true,
            "ticks": "",
            "zerolinecolor": "white"
           }
          },
          "shapedefaults": {
           "line": {
            "color": "#2a3f5f"
           }
          },
          "ternary": {
           "aaxis": {
            "gridcolor": "white",
            "linecolor": "white",
            "ticks": ""
           },
           "baxis": {
            "gridcolor": "white",
            "linecolor": "white",
            "ticks": ""
           },
           "bgcolor": "#E5ECF6",
           "caxis": {
            "gridcolor": "white",
            "linecolor": "white",
            "ticks": ""
           }
          },
          "title": {
           "x": 0.05
          },
          "xaxis": {
           "automargin": true,
           "gridcolor": "white",
           "linecolor": "white",
           "ticks": "",
           "title": {
            "standoff": 15
           },
           "zerolinecolor": "white",
           "zerolinewidth": 2
          },
          "yaxis": {
           "automargin": true,
           "gridcolor": "white",
           "linecolor": "white",
           "ticks": "",
           "title": {
            "standoff": 15
           },
           "zerolinecolor": "white",
           "zerolinewidth": 2
          }
         }
        },
        "xaxis": {
         "anchor": "y",
         "domain": [
          0,
          1
         ],
         "title": {
          "text": "percentage_of_group"
         }
        },
        "yaxis": {
         "anchor": "x",
         "domain": [
          0,
          1
         ],
         "title": {
          "text": "callsign_group"
         }
        }
       }
      }
     },
     "metadata": {},
     "output_type": "display_data"
    }
   ],
   "source": [
    "px.bar(\n",
    "    jobs_by_callsign_long.groupby(['callsign_group', 'vehicle_type', 'callsign'])[['percentage_of_group']].mean().reset_index(),\n",
    "    x=\"percentage_of_group\",\n",
    "    y=\"callsign_group\",\n",
    "    color=\"vehicle_type\"\n",
    ")"
   ]
  },
  {
   "cell_type": "code",
   "execution_count": 27,
   "metadata": {},
   "outputs": [
    {
     "name": "stderr",
     "output_type": "stream",
     "text": [
      "c:\\DAAT\\DAA_DES\\app\\_vehicle_calculation.py:78: SettingWithCopyWarning:\n",
      "\n",
      "\n",
      "A value is trying to be set on a copy of a slice from a DataFrame\n",
      "\n",
      "See the caveats in the documentation: https://pandas.pydata.org/pandas-docs/stable/user_guide/indexing.html#returning-a-view-versus-a-copy\n",
      "\n",
      "c:\\DAAT\\DAA_DES\\app\\_vehicle_calculation.py:85: SettingWithCopyWarning:\n",
      "\n",
      "\n",
      "A value is trying to be set on a copy of a slice from a DataFrame\n",
      "\n",
      "See the caveats in the documentation: https://pandas.pydata.org/pandas-docs/stable/user_guide/indexing.html#returning-a-view-versus-a-copy\n",
      "\n"
     ]
    },
    {
     "data": {
      "text/html": [
       "<div>\n",
       "<style scoped>\n",
       "    .dataframe tbody tr th:only-of-type {\n",
       "        vertical-align: middle;\n",
       "    }\n",
       "\n",
       "    .dataframe tbody tr th {\n",
       "        vertical-align: top;\n",
       "    }\n",
       "\n",
       "    .dataframe thead th {\n",
       "        text-align: right;\n",
       "    }\n",
       "</style>\n",
       "<table border=\"1\" class=\"dataframe\">\n",
       "  <thead>\n",
       "    <tr style=\"text-align: right;\">\n",
       "      <th>event_type</th>\n",
       "      <th>P_ID</th>\n",
       "      <th>run_number</th>\n",
       "      <th>callsign_group</th>\n",
       "      <th>vehicle_type</th>\n",
       "      <th>callsign</th>\n",
       "      <th>resource_use</th>\n",
       "      <th>resource_use_end</th>\n",
       "      <th>resource_use_duration</th>\n",
       "    </tr>\n",
       "  </thead>\n",
       "  <tbody>\n",
       "    <tr>\n",
       "      <th>0</th>\n",
       "      <td>1</td>\n",
       "      <td>1</td>\n",
       "      <td>70.0</td>\n",
       "      <td>car</td>\n",
       "      <td>C70</td>\n",
       "      <td>2025-02-19 11:00:00</td>\n",
       "      <td>2025-02-19 12:17:00</td>\n",
       "      <td>77.0</td>\n",
       "    </tr>\n",
       "    <tr>\n",
       "      <th>1</th>\n",
       "      <td>1</td>\n",
       "      <td>2</td>\n",
       "      <td>70.0</td>\n",
       "      <td>car</td>\n",
       "      <td>C70</td>\n",
       "      <td>2025-02-19 10:00:00</td>\n",
       "      <td>2025-02-19 12:39:00</td>\n",
       "      <td>159.0</td>\n",
       "    </tr>\n",
       "    <tr>\n",
       "      <th>2</th>\n",
       "      <td>1</td>\n",
       "      <td>3</td>\n",
       "      <td>72.0</td>\n",
       "      <td>car</td>\n",
       "      <td>C72</td>\n",
       "      <td>2025-02-19 11:00:00</td>\n",
       "      <td>2025-02-19 12:00:00</td>\n",
       "      <td>60.0</td>\n",
       "    </tr>\n",
       "    <tr>\n",
       "      <th>3</th>\n",
       "      <td>1</td>\n",
       "      <td>4</td>\n",
       "      <td>72.0</td>\n",
       "      <td>car</td>\n",
       "      <td>C72</td>\n",
       "      <td>2025-02-19 09:00:00</td>\n",
       "      <td>2025-03-02 12:56:00</td>\n",
       "      <td>16076.0</td>\n",
       "    </tr>\n",
       "    <tr>\n",
       "      <th>4</th>\n",
       "      <td>1</td>\n",
       "      <td>5</td>\n",
       "      <td>71.0</td>\n",
       "      <td>car</td>\n",
       "      <td>C71</td>\n",
       "      <td>2025-02-19 08:00:00</td>\n",
       "      <td>2025-02-19 10:09:00</td>\n",
       "      <td>129.0</td>\n",
       "    </tr>\n",
       "    <tr>\n",
       "      <th>...</th>\n",
       "      <td>...</td>\n",
       "      <td>...</td>\n",
       "      <td>...</td>\n",
       "      <td>...</td>\n",
       "      <td>...</td>\n",
       "      <td>...</td>\n",
       "      <td>...</td>\n",
       "      <td>...</td>\n",
       "    </tr>\n",
       "    <tr>\n",
       "      <th>29911</th>\n",
       "      <td>1753</td>\n",
       "      <td>15</td>\n",
       "      <td>72.0</td>\n",
       "      <td>car</td>\n",
       "      <td>C72</td>\n",
       "      <td>2026-02-17 16:00:00</td>\n",
       "      <td>2026-02-17 16:52:00</td>\n",
       "      <td>52.0</td>\n",
       "    </tr>\n",
       "    <tr>\n",
       "      <th>29912</th>\n",
       "      <td>1754</td>\n",
       "      <td>15</td>\n",
       "      <td>70.0</td>\n",
       "      <td>helicopter</td>\n",
       "      <td>H70</td>\n",
       "      <td>2026-02-17 16:00:00</td>\n",
       "      <td>2026-02-17 17:55:00</td>\n",
       "      <td>115.0</td>\n",
       "    </tr>\n",
       "    <tr>\n",
       "      <th>29913</th>\n",
       "      <td>1755</td>\n",
       "      <td>15</td>\n",
       "      <td>70.0</td>\n",
       "      <td>helicopter</td>\n",
       "      <td>H70</td>\n",
       "      <td>2026-02-17 18:00:00</td>\n",
       "      <td>2026-02-17 20:26:00</td>\n",
       "      <td>146.0</td>\n",
       "    </tr>\n",
       "    <tr>\n",
       "      <th>29914</th>\n",
       "      <td>1756</td>\n",
       "      <td>15</td>\n",
       "      <td>71.0</td>\n",
       "      <td>car</td>\n",
       "      <td>C71</td>\n",
       "      <td>2026-02-18 16:00:00</td>\n",
       "      <td>2026-02-18 17:14:00</td>\n",
       "      <td>74.0</td>\n",
       "    </tr>\n",
       "    <tr>\n",
       "      <th>29915</th>\n",
       "      <td>1757</td>\n",
       "      <td>15</td>\n",
       "      <td>70.0</td>\n",
       "      <td>helicopter</td>\n",
       "      <td>H70</td>\n",
       "      <td>2026-02-18 19:00:00</td>\n",
       "      <td>2026-02-18 20:51:00</td>\n",
       "      <td>111.0</td>\n",
       "    </tr>\n",
       "  </tbody>\n",
       "</table>\n",
       "<p>29916 rows × 8 columns</p>\n",
       "</div>"
      ],
      "text/plain": [
       "event_type  P_ID  run_number  callsign_group vehicle_type callsign  \\\n",
       "0              1           1            70.0          car      C70   \n",
       "1              1           2            70.0          car      C70   \n",
       "2              1           3            72.0          car      C72   \n",
       "3              1           4            72.0          car      C72   \n",
       "4              1           5            71.0          car      C71   \n",
       "...          ...         ...             ...          ...      ...   \n",
       "29911       1753          15            72.0          car      C72   \n",
       "29912       1754          15            70.0   helicopter      H70   \n",
       "29913       1755          15            70.0   helicopter      H70   \n",
       "29914       1756          15            71.0          car      C71   \n",
       "29915       1757          15            70.0   helicopter      H70   \n",
       "\n",
       "event_type        resource_use    resource_use_end  resource_use_duration  \n",
       "0          2025-02-19 11:00:00 2025-02-19 12:17:00                   77.0  \n",
       "1          2025-02-19 10:00:00 2025-02-19 12:39:00                  159.0  \n",
       "2          2025-02-19 11:00:00 2025-02-19 12:00:00                   60.0  \n",
       "3          2025-02-19 09:00:00 2025-03-02 12:56:00                16076.0  \n",
       "4          2025-02-19 08:00:00 2025-02-19 10:09:00                  129.0  \n",
       "...                        ...                 ...                    ...  \n",
       "29911      2026-02-17 16:00:00 2026-02-17 16:52:00                   52.0  \n",
       "29912      2026-02-17 16:00:00 2026-02-17 17:55:00                  115.0  \n",
       "29913      2026-02-17 18:00:00 2026-02-17 20:26:00                  146.0  \n",
       "29914      2026-02-18 16:00:00 2026-02-18 17:14:00                   74.0  \n",
       "29915      2026-02-18 19:00:00 2026-02-18 20:51:00                  111.0  \n",
       "\n",
       "[29916 rows x 8 columns]"
      ]
     },
     "execution_count": 27,
     "metadata": {},
     "output_type": "execute_result"
    }
   ],
   "source": [
    "import _utilisation_result_calculation\n",
    "\n",
    "utilisation_df = _utilisation_result_calculation.make_utilisation_model_dataframe()[0]\n",
    "utilisation_df"
   ]
  },
  {
   "cell_type": "code",
   "execution_count": 30,
   "metadata": {},
   "outputs": [
    {
     "data": {
      "text/html": [
       "<div>\n",
       "<style scoped>\n",
       "    .dataframe tbody tr th:only-of-type {\n",
       "        vertical-align: middle;\n",
       "    }\n",
       "\n",
       "    .dataframe tbody tr th {\n",
       "        vertical-align: top;\n",
       "    }\n",
       "\n",
       "    .dataframe thead th {\n",
       "        text-align: right;\n",
       "    }\n",
       "</style>\n",
       "<table border=\"1\" class=\"dataframe\">\n",
       "  <thead>\n",
       "    <tr style=\"text-align: right;\">\n",
       "      <th></th>\n",
       "      <th>P_ID</th>\n",
       "      <th>run_number</th>\n",
       "      <th>timestamp</th>\n",
       "      <th>timestamp_dt</th>\n",
       "      <th>day</th>\n",
       "      <th>hour</th>\n",
       "      <th>weekday</th>\n",
       "      <th>month</th>\n",
       "      <th>qtr</th>\n",
       "      <th>callsign_group</th>\n",
       "      <th>vehicle_type</th>\n",
       "      <th>ampds_card</th>\n",
       "      <th>age</th>\n",
       "      <th>sex</th>\n",
       "      <th>hems_result</th>\n",
       "      <th>outcome</th>\n",
       "      <th>callsign</th>\n",
       "    </tr>\n",
       "  </thead>\n",
       "  <tbody>\n",
       "    <tr>\n",
       "      <th>4</th>\n",
       "      <td>1</td>\n",
       "      <td>1</td>\n",
       "      <td>180.0</td>\n",
       "      <td>2025-02-19 11:00:00</td>\n",
       "      <td>Wed</td>\n",
       "      <td>11</td>\n",
       "      <td>weekday</td>\n",
       "      <td>2</td>\n",
       "      <td>1</td>\n",
       "      <td>70.0</td>\n",
       "      <td>car</td>\n",
       "      <td>17</td>\n",
       "      <td>31.0</td>\n",
       "      <td>Female</td>\n",
       "      <td>Patient Conveyed</td>\n",
       "      <td>Conveyed by land with DAA</td>\n",
       "      <td>C70</td>\n",
       "    </tr>\n",
       "    <tr>\n",
       "      <th>18</th>\n",
       "      <td>2</td>\n",
       "      <td>1</td>\n",
       "      <td>300.0</td>\n",
       "      <td>2025-02-19 13:00:00</td>\n",
       "      <td>Wed</td>\n",
       "      <td>13</td>\n",
       "      <td>weekday</td>\n",
       "      <td>2</td>\n",
       "      <td>1</td>\n",
       "      <td>71.0</td>\n",
       "      <td>car</td>\n",
       "      <td>23</td>\n",
       "      <td>71.0</td>\n",
       "      <td>Male</td>\n",
       "      <td>Patient Conveyed</td>\n",
       "      <td>Conveyed by land with DAA</td>\n",
       "      <td>C71</td>\n",
       "    </tr>\n",
       "    <tr>\n",
       "      <th>27</th>\n",
       "      <td>3</td>\n",
       "      <td>1</td>\n",
       "      <td>420.0</td>\n",
       "      <td>2025-02-19 15:00:00</td>\n",
       "      <td>Wed</td>\n",
       "      <td>15</td>\n",
       "      <td>weekday</td>\n",
       "      <td>2</td>\n",
       "      <td>1</td>\n",
       "      <td>72.0</td>\n",
       "      <td>car</td>\n",
       "      <td>9</td>\n",
       "      <td>34.0</td>\n",
       "      <td>Male</td>\n",
       "      <td>Patient Conveyed</td>\n",
       "      <td>Conveyed by land with DAA</td>\n",
       "      <td>C72</td>\n",
       "    </tr>\n",
       "    <tr>\n",
       "      <th>43</th>\n",
       "      <td>4</td>\n",
       "      <td>1</td>\n",
       "      <td>600.0</td>\n",
       "      <td>2025-02-19 18:00:00</td>\n",
       "      <td>Wed</td>\n",
       "      <td>18</td>\n",
       "      <td>weekday</td>\n",
       "      <td>2</td>\n",
       "      <td>1</td>\n",
       "      <td>70.0</td>\n",
       "      <td>car</td>\n",
       "      <td>17</td>\n",
       "      <td>96.0</td>\n",
       "      <td>Female</td>\n",
       "      <td>Stand Down En Route</td>\n",
       "      <td>Unknown</td>\n",
       "      <td>C70</td>\n",
       "    </tr>\n",
       "    <tr>\n",
       "      <th>46</th>\n",
       "      <td>5</td>\n",
       "      <td>1</td>\n",
       "      <td>600.1</td>\n",
       "      <td>2025-02-19 18:00:06</td>\n",
       "      <td>Wed</td>\n",
       "      <td>18</td>\n",
       "      <td>weekday</td>\n",
       "      <td>2</td>\n",
       "      <td>1</td>\n",
       "      <td>NaN</td>\n",
       "      <td>NaN</td>\n",
       "      <td>12</td>\n",
       "      <td>79.0</td>\n",
       "      <td>Female</td>\n",
       "      <td>NaN</td>\n",
       "      <td>NaN</td>\n",
       "      <td>NaN</td>\n",
       "    </tr>\n",
       "    <tr>\n",
       "      <th>...</th>\n",
       "      <td>...</td>\n",
       "      <td>...</td>\n",
       "      <td>...</td>\n",
       "      <td>...</td>\n",
       "      <td>...</td>\n",
       "      <td>...</td>\n",
       "      <td>...</td>\n",
       "      <td>...</td>\n",
       "      <td>...</td>\n",
       "      <td>...</td>\n",
       "      <td>...</td>\n",
       "      <td>...</td>\n",
       "      <td>...</td>\n",
       "      <td>...</td>\n",
       "      <td>...</td>\n",
       "      <td>...</td>\n",
       "      <td>...</td>\n",
       "    </tr>\n",
       "    <tr>\n",
       "      <th>415845</th>\n",
       "      <td>1589</td>\n",
       "      <td>9</td>\n",
       "      <td>524340.0</td>\n",
       "      <td>2026-02-18 11:00:00</td>\n",
       "      <td>Wed</td>\n",
       "      <td>11</td>\n",
       "      <td>weekday</td>\n",
       "      <td>2</td>\n",
       "      <td>1</td>\n",
       "      <td>70.0</td>\n",
       "      <td>helicopter</td>\n",
       "      <td>9</td>\n",
       "      <td>50.0</td>\n",
       "      <td>Male</td>\n",
       "      <td>Stand Down En Route</td>\n",
       "      <td>Unknown</td>\n",
       "      <td>H70</td>\n",
       "    </tr>\n",
       "    <tr>\n",
       "      <th>415849</th>\n",
       "      <td>1590</td>\n",
       "      <td>9</td>\n",
       "      <td>524340.0</td>\n",
       "      <td>2026-02-18 11:00:00</td>\n",
       "      <td>Wed</td>\n",
       "      <td>11</td>\n",
       "      <td>weekday</td>\n",
       "      <td>2</td>\n",
       "      <td>1</td>\n",
       "      <td>71.0</td>\n",
       "      <td>helicopter</td>\n",
       "      <td>9</td>\n",
       "      <td>75.0</td>\n",
       "      <td>Male</td>\n",
       "      <td>Patient Conveyed</td>\n",
       "      <td>Conveyed by land with DAA</td>\n",
       "      <td>H71</td>\n",
       "    </tr>\n",
       "    <tr>\n",
       "      <th>415864</th>\n",
       "      <td>1591</td>\n",
       "      <td>9</td>\n",
       "      <td>524400.0</td>\n",
       "      <td>2026-02-18 12:00:00</td>\n",
       "      <td>Wed</td>\n",
       "      <td>12</td>\n",
       "      <td>weekday</td>\n",
       "      <td>2</td>\n",
       "      <td>1</td>\n",
       "      <td>72.0</td>\n",
       "      <td>car</td>\n",
       "      <td>17</td>\n",
       "      <td>60.0</td>\n",
       "      <td>Female</td>\n",
       "      <td>Stand Down En Route</td>\n",
       "      <td>Unknown</td>\n",
       "      <td>C72</td>\n",
       "    </tr>\n",
       "    <tr>\n",
       "      <th>415881</th>\n",
       "      <td>1592</td>\n",
       "      <td>9</td>\n",
       "      <td>524820.0</td>\n",
       "      <td>2026-02-18 19:00:00</td>\n",
       "      <td>Wed</td>\n",
       "      <td>19</td>\n",
       "      <td>weekday</td>\n",
       "      <td>2</td>\n",
       "      <td>1</td>\n",
       "      <td>70.0</td>\n",
       "      <td>helicopter</td>\n",
       "      <td>31</td>\n",
       "      <td>67.0</td>\n",
       "      <td>Male</td>\n",
       "      <td>Patient Conveyed</td>\n",
       "      <td>Airlifted</td>\n",
       "      <td>H70</td>\n",
       "    </tr>\n",
       "    <tr>\n",
       "      <th>415895</th>\n",
       "      <td>1593</td>\n",
       "      <td>9</td>\n",
       "      <td>524940.0</td>\n",
       "      <td>2026-02-18 21:00:00</td>\n",
       "      <td>Wed</td>\n",
       "      <td>21</td>\n",
       "      <td>weekday</td>\n",
       "      <td>2</td>\n",
       "      <td>1</td>\n",
       "      <td>70.0</td>\n",
       "      <td>helicopter</td>\n",
       "      <td>29</td>\n",
       "      <td>68.0</td>\n",
       "      <td>Male</td>\n",
       "      <td>Patient Conveyed</td>\n",
       "      <td>Conveyed by land with DAA</td>\n",
       "      <td>H70</td>\n",
       "    </tr>\n",
       "  </tbody>\n",
       "</table>\n",
       "<p>33733 rows × 17 columns</p>\n",
       "</div>"
      ],
      "text/plain": [
       "        P_ID  run_number  timestamp         timestamp_dt  day  hour  weekday  \\\n",
       "4          1           1      180.0  2025-02-19 11:00:00  Wed    11  weekday   \n",
       "18         2           1      300.0  2025-02-19 13:00:00  Wed    13  weekday   \n",
       "27         3           1      420.0  2025-02-19 15:00:00  Wed    15  weekday   \n",
       "43         4           1      600.0  2025-02-19 18:00:00  Wed    18  weekday   \n",
       "46         5           1      600.1  2025-02-19 18:00:06  Wed    18  weekday   \n",
       "...      ...         ...        ...                  ...  ...   ...      ...   \n",
       "415845  1589           9   524340.0  2026-02-18 11:00:00  Wed    11  weekday   \n",
       "415849  1590           9   524340.0  2026-02-18 11:00:00  Wed    11  weekday   \n",
       "415864  1591           9   524400.0  2026-02-18 12:00:00  Wed    12  weekday   \n",
       "415881  1592           9   524820.0  2026-02-18 19:00:00  Wed    19  weekday   \n",
       "415895  1593           9   524940.0  2026-02-18 21:00:00  Wed    21  weekday   \n",
       "\n",
       "        month  qtr  callsign_group vehicle_type  ampds_card   age     sex  \\\n",
       "4           2    1            70.0          car          17  31.0  Female   \n",
       "18          2    1            71.0          car          23  71.0    Male   \n",
       "27          2    1            72.0          car           9  34.0    Male   \n",
       "43          2    1            70.0          car          17  96.0  Female   \n",
       "46          2    1             NaN          NaN          12  79.0  Female   \n",
       "...       ...  ...             ...          ...         ...   ...     ...   \n",
       "415845      2    1            70.0   helicopter           9  50.0    Male   \n",
       "415849      2    1            71.0   helicopter           9  75.0    Male   \n",
       "415864      2    1            72.0          car          17  60.0  Female   \n",
       "415881      2    1            70.0   helicopter          31  67.0    Male   \n",
       "415895      2    1            70.0   helicopter          29  68.0    Male   \n",
       "\n",
       "                hems_result                    outcome callsign  \n",
       "4          Patient Conveyed  Conveyed by land with DAA      C70  \n",
       "18         Patient Conveyed  Conveyed by land with DAA      C71  \n",
       "27         Patient Conveyed  Conveyed by land with DAA      C72  \n",
       "43      Stand Down En Route                    Unknown      C70  \n",
       "46                      NaN                        NaN      NaN  \n",
       "...                     ...                        ...      ...  \n",
       "415845  Stand Down En Route                    Unknown      H70  \n",
       "415849     Patient Conveyed  Conveyed by land with DAA      H71  \n",
       "415864  Stand Down En Route                    Unknown      C72  \n",
       "415881     Patient Conveyed                  Airlifted      H70  \n",
       "415895     Patient Conveyed  Conveyed by land with DAA      H70  \n",
       "\n",
       "[33733 rows x 17 columns]"
      ]
     },
     "execution_count": 30,
     "metadata": {},
     "output_type": "execute_result"
    }
   ],
   "source": [
    "import _job_count_calculation\n",
    "\n",
    "call_df = _job_count_calculation.make_job_count_df(path=\"../data/run_results.csv\",\n",
    "                      params_path=\"../data/run_params_used.csv\")\n",
    "call_df"
   ]
  },
  {
   "cell_type": "code",
   "execution_count": 60,
   "metadata": {},
   "outputs": [],
   "source": [
    "call_df['timestamp_dt'] = pd.to_datetime(call_df['timestamp_dt'])\n",
    "call_df['month_start'] = call_df['timestamp_dt'].dt.to_period('M').dt.to_timestamp()\n",
    "\n",
    "jobs_counts_by_callsign_monthly_sim = (\n",
    "    call_df\n",
    "    .groupby(['run_number', 'month_start', 'callsign', 'callsign_group', 'vehicle_type'])['P_ID']\n",
    "    .count().reset_index().rename(columns={'P_ID': 'jobs'})\n",
    "    )\n",
    "\n",
    "jobs_counts_by_callsign_monthly_sim = jobs_counts_by_callsign_monthly_sim[~jobs_counts_by_callsign_monthly_sim['callsign'].isna()]"
   ]
  },
  {
   "cell_type": "code",
   "execution_count": 62,
   "metadata": {},
   "outputs": [
    {
     "data": {
      "text/html": [
       "<div>\n",
       "<style scoped>\n",
       "    .dataframe tbody tr th:only-of-type {\n",
       "        vertical-align: middle;\n",
       "    }\n",
       "\n",
       "    .dataframe tbody tr th {\n",
       "        vertical-align: top;\n",
       "    }\n",
       "\n",
       "    .dataframe thead th {\n",
       "        text-align: right;\n",
       "    }\n",
       "</style>\n",
       "<table border=\"1\" class=\"dataframe\">\n",
       "  <thead>\n",
       "    <tr style=\"text-align: right;\">\n",
       "      <th></th>\n",
       "      <th>run_number</th>\n",
       "      <th>month_start</th>\n",
       "      <th>callsign</th>\n",
       "      <th>callsign_group</th>\n",
       "      <th>vehicle_type</th>\n",
       "      <th>jobs</th>\n",
       "    </tr>\n",
       "  </thead>\n",
       "  <tbody>\n",
       "    <tr>\n",
       "      <th>0</th>\n",
       "      <td>1</td>\n",
       "      <td>2025-02-01</td>\n",
       "      <td>C70</td>\n",
       "      <td>70.0</td>\n",
       "      <td>car</td>\n",
       "      <td>5</td>\n",
       "    </tr>\n",
       "    <tr>\n",
       "      <th>1</th>\n",
       "      <td>1</td>\n",
       "      <td>2025-02-01</td>\n",
       "      <td>C71</td>\n",
       "      <td>71.0</td>\n",
       "      <td>car</td>\n",
       "      <td>7</td>\n",
       "    </tr>\n",
       "    <tr>\n",
       "      <th>2</th>\n",
       "      <td>1</td>\n",
       "      <td>2025-02-01</td>\n",
       "      <td>C72</td>\n",
       "      <td>72.0</td>\n",
       "      <td>car</td>\n",
       "      <td>4</td>\n",
       "    </tr>\n",
       "    <tr>\n",
       "      <th>3</th>\n",
       "      <td>1</td>\n",
       "      <td>2025-02-01</td>\n",
       "      <td>H70</td>\n",
       "      <td>70.0</td>\n",
       "      <td>helicopter</td>\n",
       "      <td>21</td>\n",
       "    </tr>\n",
       "    <tr>\n",
       "      <th>4</th>\n",
       "      <td>1</td>\n",
       "      <td>2025-03-01</td>\n",
       "      <td>C70</td>\n",
       "      <td>70.0</td>\n",
       "      <td>car</td>\n",
       "      <td>52</td>\n",
       "    </tr>\n",
       "    <tr>\n",
       "      <th>...</th>\n",
       "      <td>...</td>\n",
       "      <td>...</td>\n",
       "      <td>...</td>\n",
       "      <td>...</td>\n",
       "      <td>...</td>\n",
       "      <td>...</td>\n",
       "    </tr>\n",
       "    <tr>\n",
       "      <th>1278</th>\n",
       "      <td>20</td>\n",
       "      <td>2026-02-01</td>\n",
       "      <td>C70</td>\n",
       "      <td>70.0</td>\n",
       "      <td>car</td>\n",
       "      <td>26</td>\n",
       "    </tr>\n",
       "    <tr>\n",
       "      <th>1279</th>\n",
       "      <td>20</td>\n",
       "      <td>2026-02-01</td>\n",
       "      <td>C71</td>\n",
       "      <td>71.0</td>\n",
       "      <td>car</td>\n",
       "      <td>10</td>\n",
       "    </tr>\n",
       "    <tr>\n",
       "      <th>1280</th>\n",
       "      <td>20</td>\n",
       "      <td>2026-02-01</td>\n",
       "      <td>C72</td>\n",
       "      <td>72.0</td>\n",
       "      <td>car</td>\n",
       "      <td>3</td>\n",
       "    </tr>\n",
       "    <tr>\n",
       "      <th>1281</th>\n",
       "      <td>20</td>\n",
       "      <td>2026-02-01</td>\n",
       "      <td>H70</td>\n",
       "      <td>70.0</td>\n",
       "      <td>helicopter</td>\n",
       "      <td>29</td>\n",
       "    </tr>\n",
       "    <tr>\n",
       "      <th>1282</th>\n",
       "      <td>20</td>\n",
       "      <td>2026-02-01</td>\n",
       "      <td>H71</td>\n",
       "      <td>71.0</td>\n",
       "      <td>helicopter</td>\n",
       "      <td>9</td>\n",
       "    </tr>\n",
       "  </tbody>\n",
       "</table>\n",
       "<p>1283 rows × 6 columns</p>\n",
       "</div>"
      ],
      "text/plain": [
       "      run_number month_start callsign  callsign_group vehicle_type  jobs\n",
       "0              1  2025-02-01      C70            70.0          car     5\n",
       "1              1  2025-02-01      C71            71.0          car     7\n",
       "2              1  2025-02-01      C72            72.0          car     4\n",
       "3              1  2025-02-01      H70            70.0   helicopter    21\n",
       "4              1  2025-03-01      C70            70.0          car    52\n",
       "...          ...         ...      ...             ...          ...   ...\n",
       "1278          20  2026-02-01      C70            70.0          car    26\n",
       "1279          20  2026-02-01      C71            71.0          car    10\n",
       "1280          20  2026-02-01      C72            72.0          car     3\n",
       "1281          20  2026-02-01      H70            70.0   helicopter    29\n",
       "1282          20  2026-02-01      H71            71.0   helicopter     9\n",
       "\n",
       "[1283 rows x 6 columns]"
      ]
     },
     "execution_count": 62,
     "metadata": {},
     "output_type": "execute_result"
    }
   ],
   "source": [
    "jobs_counts_by_callsign_monthly_sim"
   ]
  },
  {
   "cell_type": "code",
   "execution_count": 63,
   "metadata": {},
   "outputs": [
    {
     "data": {
      "text/html": [
       "<div>\n",
       "<style scoped>\n",
       "    .dataframe tbody tr th:only-of-type {\n",
       "        vertical-align: middle;\n",
       "    }\n",
       "\n",
       "    .dataframe tbody tr th {\n",
       "        vertical-align: top;\n",
       "    }\n",
       "\n",
       "    .dataframe thead th {\n",
       "        text-align: right;\n",
       "    }\n",
       "</style>\n",
       "<table border=\"1\" class=\"dataframe\">\n",
       "  <thead>\n",
       "    <tr style=\"text-align: right;\">\n",
       "      <th></th>\n",
       "      <th>run_number</th>\n",
       "      <th>month_start</th>\n",
       "      <th>callsign</th>\n",
       "      <th>callsign_group</th>\n",
       "      <th>vehicle_type</th>\n",
       "      <th>jobs</th>\n",
       "    </tr>\n",
       "  </thead>\n",
       "  <tbody>\n",
       "    <tr>\n",
       "      <th>0</th>\n",
       "      <td>1</td>\n",
       "      <td>2025-02-01</td>\n",
       "      <td>C70</td>\n",
       "      <td>70.0</td>\n",
       "      <td>car</td>\n",
       "      <td>5</td>\n",
       "    </tr>\n",
       "    <tr>\n",
       "      <th>1</th>\n",
       "      <td>1</td>\n",
       "      <td>2025-02-01</td>\n",
       "      <td>C71</td>\n",
       "      <td>71.0</td>\n",
       "      <td>car</td>\n",
       "      <td>7</td>\n",
       "    </tr>\n",
       "    <tr>\n",
       "      <th>2</th>\n",
       "      <td>1</td>\n",
       "      <td>2025-02-01</td>\n",
       "      <td>C72</td>\n",
       "      <td>72.0</td>\n",
       "      <td>car</td>\n",
       "      <td>4</td>\n",
       "    </tr>\n",
       "    <tr>\n",
       "      <th>3</th>\n",
       "      <td>1</td>\n",
       "      <td>2025-02-01</td>\n",
       "      <td>H70</td>\n",
       "      <td>70.0</td>\n",
       "      <td>helicopter</td>\n",
       "      <td>21</td>\n",
       "    </tr>\n",
       "    <tr>\n",
       "      <th>4</th>\n",
       "      <td>1</td>\n",
       "      <td>2025-03-01</td>\n",
       "      <td>C70</td>\n",
       "      <td>70.0</td>\n",
       "      <td>car</td>\n",
       "      <td>52</td>\n",
       "    </tr>\n",
       "    <tr>\n",
       "      <th>5</th>\n",
       "      <td>1</td>\n",
       "      <td>2025-03-01</td>\n",
       "      <td>C71</td>\n",
       "      <td>71.0</td>\n",
       "      <td>car</td>\n",
       "      <td>23</td>\n",
       "    </tr>\n",
       "    <tr>\n",
       "      <th>6</th>\n",
       "      <td>1</td>\n",
       "      <td>2025-03-01</td>\n",
       "      <td>C72</td>\n",
       "      <td>72.0</td>\n",
       "      <td>car</td>\n",
       "      <td>19</td>\n",
       "    </tr>\n",
       "    <tr>\n",
       "      <th>7</th>\n",
       "      <td>1</td>\n",
       "      <td>2025-03-01</td>\n",
       "      <td>H70</td>\n",
       "      <td>70.0</td>\n",
       "      <td>helicopter</td>\n",
       "      <td>32</td>\n",
       "    </tr>\n",
       "    <tr>\n",
       "      <th>8</th>\n",
       "      <td>1</td>\n",
       "      <td>2025-03-01</td>\n",
       "      <td>H71</td>\n",
       "      <td>71.0</td>\n",
       "      <td>helicopter</td>\n",
       "      <td>10</td>\n",
       "    </tr>\n",
       "    <tr>\n",
       "      <th>9</th>\n",
       "      <td>1</td>\n",
       "      <td>2025-04-01</td>\n",
       "      <td>C70</td>\n",
       "      <td>70.0</td>\n",
       "      <td>car</td>\n",
       "      <td>65</td>\n",
       "    </tr>\n",
       "    <tr>\n",
       "      <th>10</th>\n",
       "      <td>1</td>\n",
       "      <td>2025-04-01</td>\n",
       "      <td>C71</td>\n",
       "      <td>71.0</td>\n",
       "      <td>car</td>\n",
       "      <td>22</td>\n",
       "    </tr>\n",
       "    <tr>\n",
       "      <th>11</th>\n",
       "      <td>1</td>\n",
       "      <td>2025-04-01</td>\n",
       "      <td>C72</td>\n",
       "      <td>72.0</td>\n",
       "      <td>car</td>\n",
       "      <td>14</td>\n",
       "    </tr>\n",
       "    <tr>\n",
       "      <th>12</th>\n",
       "      <td>1</td>\n",
       "      <td>2025-04-01</td>\n",
       "      <td>H70</td>\n",
       "      <td>70.0</td>\n",
       "      <td>helicopter</td>\n",
       "      <td>50</td>\n",
       "    </tr>\n",
       "    <tr>\n",
       "      <th>13</th>\n",
       "      <td>1</td>\n",
       "      <td>2025-04-01</td>\n",
       "      <td>H71</td>\n",
       "      <td>71.0</td>\n",
       "      <td>helicopter</td>\n",
       "      <td>11</td>\n",
       "    </tr>\n",
       "    <tr>\n",
       "      <th>14</th>\n",
       "      <td>1</td>\n",
       "      <td>2025-05-01</td>\n",
       "      <td>C70</td>\n",
       "      <td>70.0</td>\n",
       "      <td>car</td>\n",
       "      <td>41</td>\n",
       "    </tr>\n",
       "    <tr>\n",
       "      <th>15</th>\n",
       "      <td>1</td>\n",
       "      <td>2025-05-01</td>\n",
       "      <td>C71</td>\n",
       "      <td>71.0</td>\n",
       "      <td>car</td>\n",
       "      <td>14</td>\n",
       "    </tr>\n",
       "    <tr>\n",
       "      <th>16</th>\n",
       "      <td>1</td>\n",
       "      <td>2025-05-01</td>\n",
       "      <td>C72</td>\n",
       "      <td>72.0</td>\n",
       "      <td>car</td>\n",
       "      <td>28</td>\n",
       "    </tr>\n",
       "    <tr>\n",
       "      <th>17</th>\n",
       "      <td>1</td>\n",
       "      <td>2025-05-01</td>\n",
       "      <td>H70</td>\n",
       "      <td>70.0</td>\n",
       "      <td>helicopter</td>\n",
       "      <td>52</td>\n",
       "    </tr>\n",
       "    <tr>\n",
       "      <th>18</th>\n",
       "      <td>1</td>\n",
       "      <td>2025-05-01</td>\n",
       "      <td>H71</td>\n",
       "      <td>71.0</td>\n",
       "      <td>helicopter</td>\n",
       "      <td>9</td>\n",
       "    </tr>\n",
       "    <tr>\n",
       "      <th>19</th>\n",
       "      <td>1</td>\n",
       "      <td>2025-06-01</td>\n",
       "      <td>C70</td>\n",
       "      <td>70.0</td>\n",
       "      <td>car</td>\n",
       "      <td>45</td>\n",
       "    </tr>\n",
       "  </tbody>\n",
       "</table>\n",
       "</div>"
      ],
      "text/plain": [
       "    run_number month_start callsign  callsign_group vehicle_type  jobs\n",
       "0            1  2025-02-01      C70            70.0          car     5\n",
       "1            1  2025-02-01      C71            71.0          car     7\n",
       "2            1  2025-02-01      C72            72.0          car     4\n",
       "3            1  2025-02-01      H70            70.0   helicopter    21\n",
       "4            1  2025-03-01      C70            70.0          car    52\n",
       "5            1  2025-03-01      C71            71.0          car    23\n",
       "6            1  2025-03-01      C72            72.0          car    19\n",
       "7            1  2025-03-01      H70            70.0   helicopter    32\n",
       "8            1  2025-03-01      H71            71.0   helicopter    10\n",
       "9            1  2025-04-01      C70            70.0          car    65\n",
       "10           1  2025-04-01      C71            71.0          car    22\n",
       "11           1  2025-04-01      C72            72.0          car    14\n",
       "12           1  2025-04-01      H70            70.0   helicopter    50\n",
       "13           1  2025-04-01      H71            71.0   helicopter    11\n",
       "14           1  2025-05-01      C70            70.0          car    41\n",
       "15           1  2025-05-01      C71            71.0          car    14\n",
       "16           1  2025-05-01      C72            72.0          car    28\n",
       "17           1  2025-05-01      H70            70.0   helicopter    52\n",
       "18           1  2025-05-01      H71            71.0   helicopter     9\n",
       "19           1  2025-06-01      C70            70.0          car    45"
      ]
     },
     "execution_count": 63,
     "metadata": {},
     "output_type": "execute_result"
    }
   ],
   "source": [
    "jobs_counts_by_callsign_monthly_sim.head(20)"
   ]
  },
  {
   "cell_type": "code",
   "execution_count": 66,
   "metadata": {},
   "outputs": [
    {
     "data": {
      "text/html": [
       "<div>\n",
       "<style scoped>\n",
       "    .dataframe tbody tr th:only-of-type {\n",
       "        vertical-align: middle;\n",
       "    }\n",
       "\n",
       "    .dataframe tbody tr th {\n",
       "        vertical-align: top;\n",
       "    }\n",
       "\n",
       "    .dataframe thead th {\n",
       "        text-align: right;\n",
       "    }\n",
       "</style>\n",
       "<table border=\"1\" class=\"dataframe\">\n",
       "  <thead>\n",
       "    <tr style=\"text-align: right;\">\n",
       "      <th></th>\n",
       "      <th>run_number</th>\n",
       "      <th>month_start</th>\n",
       "      <th>callsign</th>\n",
       "      <th>callsign_group</th>\n",
       "      <th>vehicle_type</th>\n",
       "      <th>jobs</th>\n",
       "      <th>total_jobs_per_group</th>\n",
       "    </tr>\n",
       "  </thead>\n",
       "  <tbody>\n",
       "    <tr>\n",
       "      <th>0</th>\n",
       "      <td>1</td>\n",
       "      <td>2025-02-01</td>\n",
       "      <td>C70</td>\n",
       "      <td>70.0</td>\n",
       "      <td>car</td>\n",
       "      <td>5</td>\n",
       "      <td>26</td>\n",
       "    </tr>\n",
       "    <tr>\n",
       "      <th>1</th>\n",
       "      <td>1</td>\n",
       "      <td>2025-02-01</td>\n",
       "      <td>C71</td>\n",
       "      <td>71.0</td>\n",
       "      <td>car</td>\n",
       "      <td>7</td>\n",
       "      <td>7</td>\n",
       "    </tr>\n",
       "    <tr>\n",
       "      <th>2</th>\n",
       "      <td>1</td>\n",
       "      <td>2025-02-01</td>\n",
       "      <td>C72</td>\n",
       "      <td>72.0</td>\n",
       "      <td>car</td>\n",
       "      <td>4</td>\n",
       "      <td>4</td>\n",
       "    </tr>\n",
       "    <tr>\n",
       "      <th>3</th>\n",
       "      <td>1</td>\n",
       "      <td>2025-02-01</td>\n",
       "      <td>H70</td>\n",
       "      <td>70.0</td>\n",
       "      <td>helicopter</td>\n",
       "      <td>21</td>\n",
       "      <td>26</td>\n",
       "    </tr>\n",
       "    <tr>\n",
       "      <th>4</th>\n",
       "      <td>1</td>\n",
       "      <td>2025-03-01</td>\n",
       "      <td>C70</td>\n",
       "      <td>70.0</td>\n",
       "      <td>car</td>\n",
       "      <td>52</td>\n",
       "      <td>84</td>\n",
       "    </tr>\n",
       "    <tr>\n",
       "      <th>5</th>\n",
       "      <td>1</td>\n",
       "      <td>2025-03-01</td>\n",
       "      <td>C71</td>\n",
       "      <td>71.0</td>\n",
       "      <td>car</td>\n",
       "      <td>23</td>\n",
       "      <td>33</td>\n",
       "    </tr>\n",
       "    <tr>\n",
       "      <th>6</th>\n",
       "      <td>1</td>\n",
       "      <td>2025-03-01</td>\n",
       "      <td>C72</td>\n",
       "      <td>72.0</td>\n",
       "      <td>car</td>\n",
       "      <td>19</td>\n",
       "      <td>19</td>\n",
       "    </tr>\n",
       "    <tr>\n",
       "      <th>7</th>\n",
       "      <td>1</td>\n",
       "      <td>2025-03-01</td>\n",
       "      <td>H70</td>\n",
       "      <td>70.0</td>\n",
       "      <td>helicopter</td>\n",
       "      <td>32</td>\n",
       "      <td>84</td>\n",
       "    </tr>\n",
       "    <tr>\n",
       "      <th>8</th>\n",
       "      <td>1</td>\n",
       "      <td>2025-03-01</td>\n",
       "      <td>H71</td>\n",
       "      <td>71.0</td>\n",
       "      <td>helicopter</td>\n",
       "      <td>10</td>\n",
       "      <td>33</td>\n",
       "    </tr>\n",
       "    <tr>\n",
       "      <th>9</th>\n",
       "      <td>1</td>\n",
       "      <td>2025-04-01</td>\n",
       "      <td>C70</td>\n",
       "      <td>70.0</td>\n",
       "      <td>car</td>\n",
       "      <td>65</td>\n",
       "      <td>115</td>\n",
       "    </tr>\n",
       "    <tr>\n",
       "      <th>10</th>\n",
       "      <td>1</td>\n",
       "      <td>2025-04-01</td>\n",
       "      <td>C71</td>\n",
       "      <td>71.0</td>\n",
       "      <td>car</td>\n",
       "      <td>22</td>\n",
       "      <td>33</td>\n",
       "    </tr>\n",
       "    <tr>\n",
       "      <th>11</th>\n",
       "      <td>1</td>\n",
       "      <td>2025-04-01</td>\n",
       "      <td>C72</td>\n",
       "      <td>72.0</td>\n",
       "      <td>car</td>\n",
       "      <td>14</td>\n",
       "      <td>14</td>\n",
       "    </tr>\n",
       "    <tr>\n",
       "      <th>12</th>\n",
       "      <td>1</td>\n",
       "      <td>2025-04-01</td>\n",
       "      <td>H70</td>\n",
       "      <td>70.0</td>\n",
       "      <td>helicopter</td>\n",
       "      <td>50</td>\n",
       "      <td>115</td>\n",
       "    </tr>\n",
       "    <tr>\n",
       "      <th>13</th>\n",
       "      <td>1</td>\n",
       "      <td>2025-04-01</td>\n",
       "      <td>H71</td>\n",
       "      <td>71.0</td>\n",
       "      <td>helicopter</td>\n",
       "      <td>11</td>\n",
       "      <td>33</td>\n",
       "    </tr>\n",
       "    <tr>\n",
       "      <th>14</th>\n",
       "      <td>1</td>\n",
       "      <td>2025-05-01</td>\n",
       "      <td>C70</td>\n",
       "      <td>70.0</td>\n",
       "      <td>car</td>\n",
       "      <td>41</td>\n",
       "      <td>93</td>\n",
       "    </tr>\n",
       "    <tr>\n",
       "      <th>15</th>\n",
       "      <td>1</td>\n",
       "      <td>2025-05-01</td>\n",
       "      <td>C71</td>\n",
       "      <td>71.0</td>\n",
       "      <td>car</td>\n",
       "      <td>14</td>\n",
       "      <td>23</td>\n",
       "    </tr>\n",
       "    <tr>\n",
       "      <th>16</th>\n",
       "      <td>1</td>\n",
       "      <td>2025-05-01</td>\n",
       "      <td>C72</td>\n",
       "      <td>72.0</td>\n",
       "      <td>car</td>\n",
       "      <td>28</td>\n",
       "      <td>28</td>\n",
       "    </tr>\n",
       "    <tr>\n",
       "      <th>17</th>\n",
       "      <td>1</td>\n",
       "      <td>2025-05-01</td>\n",
       "      <td>H70</td>\n",
       "      <td>70.0</td>\n",
       "      <td>helicopter</td>\n",
       "      <td>52</td>\n",
       "      <td>93</td>\n",
       "    </tr>\n",
       "    <tr>\n",
       "      <th>18</th>\n",
       "      <td>1</td>\n",
       "      <td>2025-05-01</td>\n",
       "      <td>H71</td>\n",
       "      <td>71.0</td>\n",
       "      <td>helicopter</td>\n",
       "      <td>9</td>\n",
       "      <td>23</td>\n",
       "    </tr>\n",
       "    <tr>\n",
       "      <th>19</th>\n",
       "      <td>1</td>\n",
       "      <td>2025-06-01</td>\n",
       "      <td>C70</td>\n",
       "      <td>70.0</td>\n",
       "      <td>car</td>\n",
       "      <td>45</td>\n",
       "      <td>99</td>\n",
       "    </tr>\n",
       "  </tbody>\n",
       "</table>\n",
       "</div>"
      ],
      "text/plain": [
       "    run_number month_start callsign  callsign_group vehicle_type  jobs  \\\n",
       "0            1  2025-02-01      C70            70.0          car     5   \n",
       "1            1  2025-02-01      C71            71.0          car     7   \n",
       "2            1  2025-02-01      C72            72.0          car     4   \n",
       "3            1  2025-02-01      H70            70.0   helicopter    21   \n",
       "4            1  2025-03-01      C70            70.0          car    52   \n",
       "5            1  2025-03-01      C71            71.0          car    23   \n",
       "6            1  2025-03-01      C72            72.0          car    19   \n",
       "7            1  2025-03-01      H70            70.0   helicopter    32   \n",
       "8            1  2025-03-01      H71            71.0   helicopter    10   \n",
       "9            1  2025-04-01      C70            70.0          car    65   \n",
       "10           1  2025-04-01      C71            71.0          car    22   \n",
       "11           1  2025-04-01      C72            72.0          car    14   \n",
       "12           1  2025-04-01      H70            70.0   helicopter    50   \n",
       "13           1  2025-04-01      H71            71.0   helicopter    11   \n",
       "14           1  2025-05-01      C70            70.0          car    41   \n",
       "15           1  2025-05-01      C71            71.0          car    14   \n",
       "16           1  2025-05-01      C72            72.0          car    28   \n",
       "17           1  2025-05-01      H70            70.0   helicopter    52   \n",
       "18           1  2025-05-01      H71            71.0   helicopter     9   \n",
       "19           1  2025-06-01      C70            70.0          car    45   \n",
       "\n",
       "    total_jobs_per_group  \n",
       "0                     26  \n",
       "1                      7  \n",
       "2                      4  \n",
       "3                     26  \n",
       "4                     84  \n",
       "5                     33  \n",
       "6                     19  \n",
       "7                     84  \n",
       "8                     33  \n",
       "9                    115  \n",
       "10                    33  \n",
       "11                    14  \n",
       "12                   115  \n",
       "13                    33  \n",
       "14                    93  \n",
       "15                    23  \n",
       "16                    28  \n",
       "17                    93  \n",
       "18                    23  \n",
       "19                    99  "
      ]
     },
     "execution_count": 66,
     "metadata": {},
     "output_type": "execute_result"
    }
   ],
   "source": [
    "# Compute total jobs per callsign_group per month\n",
    "jobs_counts_by_callsign_monthly_sim[\"total_jobs_per_group\"] = jobs_counts_by_callsign_monthly_sim.groupby([\"month_start\", \"callsign_group\", \"run_number\"])[\"jobs\"].transform(\"sum\")\n",
    "\n",
    "jobs_counts_by_callsign_monthly_sim.head(20)\n"
   ]
  },
  {
   "cell_type": "code",
   "execution_count": 67,
   "metadata": {},
   "outputs": [
    {
     "data": {
      "text/html": [
       "<div>\n",
       "<style scoped>\n",
       "    .dataframe tbody tr th:only-of-type {\n",
       "        vertical-align: middle;\n",
       "    }\n",
       "\n",
       "    .dataframe tbody tr th {\n",
       "        vertical-align: top;\n",
       "    }\n",
       "\n",
       "    .dataframe thead th {\n",
       "        text-align: right;\n",
       "    }\n",
       "</style>\n",
       "<table border=\"1\" class=\"dataframe\">\n",
       "  <thead>\n",
       "    <tr style=\"text-align: right;\">\n",
       "      <th></th>\n",
       "      <th>run_number</th>\n",
       "      <th>month_start</th>\n",
       "      <th>callsign</th>\n",
       "      <th>callsign_group</th>\n",
       "      <th>vehicle_type</th>\n",
       "      <th>jobs</th>\n",
       "      <th>total_jobs_per_group</th>\n",
       "      <th>percentage_of_group</th>\n",
       "    </tr>\n",
       "  </thead>\n",
       "  <tbody>\n",
       "    <tr>\n",
       "      <th>0</th>\n",
       "      <td>1</td>\n",
       "      <td>2025-02-01</td>\n",
       "      <td>C70</td>\n",
       "      <td>70.0</td>\n",
       "      <td>car</td>\n",
       "      <td>5</td>\n",
       "      <td>26</td>\n",
       "      <td>19.230769</td>\n",
       "    </tr>\n",
       "    <tr>\n",
       "      <th>1</th>\n",
       "      <td>1</td>\n",
       "      <td>2025-02-01</td>\n",
       "      <td>C71</td>\n",
       "      <td>71.0</td>\n",
       "      <td>car</td>\n",
       "      <td>7</td>\n",
       "      <td>7</td>\n",
       "      <td>100.000000</td>\n",
       "    </tr>\n",
       "    <tr>\n",
       "      <th>2</th>\n",
       "      <td>1</td>\n",
       "      <td>2025-02-01</td>\n",
       "      <td>C72</td>\n",
       "      <td>72.0</td>\n",
       "      <td>car</td>\n",
       "      <td>4</td>\n",
       "      <td>4</td>\n",
       "      <td>100.000000</td>\n",
       "    </tr>\n",
       "    <tr>\n",
       "      <th>3</th>\n",
       "      <td>1</td>\n",
       "      <td>2025-02-01</td>\n",
       "      <td>H70</td>\n",
       "      <td>70.0</td>\n",
       "      <td>helicopter</td>\n",
       "      <td>21</td>\n",
       "      <td>26</td>\n",
       "      <td>80.769231</td>\n",
       "    </tr>\n",
       "    <tr>\n",
       "      <th>4</th>\n",
       "      <td>1</td>\n",
       "      <td>2025-03-01</td>\n",
       "      <td>C70</td>\n",
       "      <td>70.0</td>\n",
       "      <td>car</td>\n",
       "      <td>52</td>\n",
       "      <td>84</td>\n",
       "      <td>61.904762</td>\n",
       "    </tr>\n",
       "    <tr>\n",
       "      <th>...</th>\n",
       "      <td>...</td>\n",
       "      <td>...</td>\n",
       "      <td>...</td>\n",
       "      <td>...</td>\n",
       "      <td>...</td>\n",
       "      <td>...</td>\n",
       "      <td>...</td>\n",
       "      <td>...</td>\n",
       "    </tr>\n",
       "    <tr>\n",
       "      <th>1278</th>\n",
       "      <td>20</td>\n",
       "      <td>2026-02-01</td>\n",
       "      <td>C70</td>\n",
       "      <td>70.0</td>\n",
       "      <td>car</td>\n",
       "      <td>26</td>\n",
       "      <td>55</td>\n",
       "      <td>47.272727</td>\n",
       "    </tr>\n",
       "    <tr>\n",
       "      <th>1279</th>\n",
       "      <td>20</td>\n",
       "      <td>2026-02-01</td>\n",
       "      <td>C71</td>\n",
       "      <td>71.0</td>\n",
       "      <td>car</td>\n",
       "      <td>10</td>\n",
       "      <td>19</td>\n",
       "      <td>52.631579</td>\n",
       "    </tr>\n",
       "    <tr>\n",
       "      <th>1280</th>\n",
       "      <td>20</td>\n",
       "      <td>2026-02-01</td>\n",
       "      <td>C72</td>\n",
       "      <td>72.0</td>\n",
       "      <td>car</td>\n",
       "      <td>3</td>\n",
       "      <td>3</td>\n",
       "      <td>100.000000</td>\n",
       "    </tr>\n",
       "    <tr>\n",
       "      <th>1281</th>\n",
       "      <td>20</td>\n",
       "      <td>2026-02-01</td>\n",
       "      <td>H70</td>\n",
       "      <td>70.0</td>\n",
       "      <td>helicopter</td>\n",
       "      <td>29</td>\n",
       "      <td>55</td>\n",
       "      <td>52.727273</td>\n",
       "    </tr>\n",
       "    <tr>\n",
       "      <th>1282</th>\n",
       "      <td>20</td>\n",
       "      <td>2026-02-01</td>\n",
       "      <td>H71</td>\n",
       "      <td>71.0</td>\n",
       "      <td>helicopter</td>\n",
       "      <td>9</td>\n",
       "      <td>19</td>\n",
       "      <td>47.368421</td>\n",
       "    </tr>\n",
       "  </tbody>\n",
       "</table>\n",
       "<p>1283 rows × 8 columns</p>\n",
       "</div>"
      ],
      "text/plain": [
       "      run_number month_start callsign  callsign_group vehicle_type  jobs  \\\n",
       "0              1  2025-02-01      C70            70.0          car     5   \n",
       "1              1  2025-02-01      C71            71.0          car     7   \n",
       "2              1  2025-02-01      C72            72.0          car     4   \n",
       "3              1  2025-02-01      H70            70.0   helicopter    21   \n",
       "4              1  2025-03-01      C70            70.0          car    52   \n",
       "...          ...         ...      ...             ...          ...   ...   \n",
       "1278          20  2026-02-01      C70            70.0          car    26   \n",
       "1279          20  2026-02-01      C71            71.0          car    10   \n",
       "1280          20  2026-02-01      C72            72.0          car     3   \n",
       "1281          20  2026-02-01      H70            70.0   helicopter    29   \n",
       "1282          20  2026-02-01      H71            71.0   helicopter     9   \n",
       "\n",
       "      total_jobs_per_group  percentage_of_group  \n",
       "0                       26            19.230769  \n",
       "1                        7           100.000000  \n",
       "2                        4           100.000000  \n",
       "3                       26            80.769231  \n",
       "4                       84            61.904762  \n",
       "...                    ...                  ...  \n",
       "1278                    55            47.272727  \n",
       "1279                    19            52.631579  \n",
       "1280                     3           100.000000  \n",
       "1281                    55            52.727273  \n",
       "1282                    19            47.368421  \n",
       "\n",
       "[1283 rows x 8 columns]"
      ]
     },
     "execution_count": 67,
     "metadata": {},
     "output_type": "execute_result"
    }
   ],
   "source": [
    "# Compute percentage of calls per row\n",
    "jobs_counts_by_callsign_monthly_sim[\"percentage_of_group\"] = (jobs_counts_by_callsign_monthly_sim[\"jobs\"] / jobs_counts_by_callsign_monthly_sim[\"total_jobs_per_group\"]) * 100\n",
    "\n",
    "# Handle potential division by zero (if total_jobs_per_group is 0)\n",
    "jobs_counts_by_callsign_monthly_sim[\"percentage_of_group\"] = jobs_counts_by_callsign_monthly_sim[\"percentage_of_group\"].fillna(0)\n",
    "\n",
    "jobs_counts_by_callsign_monthly_sim"
   ]
  },
  {
   "cell_type": "code",
   "execution_count": 71,
   "metadata": {},
   "outputs": [
    {
     "ename": "KeyError",
     "evalue": "'vehicle_type'",
     "output_type": "error",
     "traceback": [
      "\u001b[1;31m---------------------------------------------------------------------------\u001b[0m",
      "\u001b[1;31mKeyError\u001b[0m                                  Traceback (most recent call last)",
      "Cell \u001b[1;32mIn[71], line 18\u001b[0m\n\u001b[0;32m     15\u001b[0m jobs_per_callsign[\u001b[38;5;124m\"\u001b[39m\u001b[38;5;124mpercentage_of_group\u001b[39m\u001b[38;5;124m\"\u001b[39m] \u001b[38;5;241m=\u001b[39m (jobs_per_callsign[\u001b[38;5;124m\"\u001b[39m\u001b[38;5;124mjobs\u001b[39m\u001b[38;5;124m\"\u001b[39m] \u001b[38;5;241m/\u001b[39m jobs_per_callsign[\u001b[38;5;124m\"\u001b[39m\u001b[38;5;124mtotal_jobs_per_group\u001b[39m\u001b[38;5;124m\"\u001b[39m]) \u001b[38;5;241m*\u001b[39m \u001b[38;5;241m100\u001b[39m\n\u001b[0;32m     17\u001b[0m \u001b[38;5;66;03m# Step 5: Average the percentages across all simulation runs\u001b[39;00m\n\u001b[1;32m---> 18\u001b[0m sim_averages \u001b[38;5;241m=\u001b[39m \u001b[43mjobs_per_callsign\u001b[49m\u001b[38;5;241;43m.\u001b[39;49m\u001b[43mgroupby\u001b[49m\u001b[43m(\u001b[49m\u001b[43m[\u001b[49m\u001b[38;5;124;43m\"\u001b[39;49m\u001b[38;5;124;43mcallsign_group\u001b[39;49m\u001b[38;5;124;43m\"\u001b[39;49m\u001b[43m,\u001b[49m\u001b[43m \u001b[49m\u001b[38;5;124;43m\"\u001b[39;49m\u001b[38;5;124;43mvehicle_type\u001b[39;49m\u001b[38;5;124;43m\"\u001b[39;49m\u001b[43m,\u001b[49m\u001b[43m \u001b[49m\u001b[38;5;124;43m\"\u001b[39;49m\u001b[38;5;124;43mcallsign\u001b[39;49m\u001b[38;5;124;43m\"\u001b[39;49m\u001b[43m]\u001b[49m\u001b[43m)\u001b[49m[[\u001b[38;5;124m\"\u001b[39m\u001b[38;5;124mpercentage_of_group\u001b[39m\u001b[38;5;124m\"\u001b[39m]]\u001b[38;5;241m.\u001b[39mmean()\u001b[38;5;241m.\u001b[39mreset_index()\n\u001b[0;32m     20\u001b[0m sim_averages\n",
      "File \u001b[1;32mc:\\DAAT\\DAA_DES\\.venv\\Lib\\site-packages\\pandas\\core\\frame.py:9183\u001b[0m, in \u001b[0;36mDataFrame.groupby\u001b[1;34m(self, by, axis, level, as_index, sort, group_keys, observed, dropna)\u001b[0m\n\u001b[0;32m   9180\u001b[0m \u001b[38;5;28;01mif\u001b[39;00m level \u001b[38;5;129;01mis\u001b[39;00m \u001b[38;5;28;01mNone\u001b[39;00m \u001b[38;5;129;01mand\u001b[39;00m by \u001b[38;5;129;01mis\u001b[39;00m \u001b[38;5;28;01mNone\u001b[39;00m:\n\u001b[0;32m   9181\u001b[0m     \u001b[38;5;28;01mraise\u001b[39;00m \u001b[38;5;167;01mTypeError\u001b[39;00m(\u001b[38;5;124m\"\u001b[39m\u001b[38;5;124mYou have to supply one of \u001b[39m\u001b[38;5;124m'\u001b[39m\u001b[38;5;124mby\u001b[39m\u001b[38;5;124m'\u001b[39m\u001b[38;5;124m and \u001b[39m\u001b[38;5;124m'\u001b[39m\u001b[38;5;124mlevel\u001b[39m\u001b[38;5;124m'\u001b[39m\u001b[38;5;124m\"\u001b[39m)\n\u001b[1;32m-> 9183\u001b[0m \u001b[38;5;28;01mreturn\u001b[39;00m \u001b[43mDataFrameGroupBy\u001b[49m\u001b[43m(\u001b[49m\n\u001b[0;32m   9184\u001b[0m \u001b[43m    \u001b[49m\u001b[43mobj\u001b[49m\u001b[38;5;241;43m=\u001b[39;49m\u001b[38;5;28;43mself\u001b[39;49m\u001b[43m,\u001b[49m\n\u001b[0;32m   9185\u001b[0m \u001b[43m    \u001b[49m\u001b[43mkeys\u001b[49m\u001b[38;5;241;43m=\u001b[39;49m\u001b[43mby\u001b[49m\u001b[43m,\u001b[49m\n\u001b[0;32m   9186\u001b[0m \u001b[43m    \u001b[49m\u001b[43maxis\u001b[49m\u001b[38;5;241;43m=\u001b[39;49m\u001b[43maxis\u001b[49m\u001b[43m,\u001b[49m\n\u001b[0;32m   9187\u001b[0m \u001b[43m    \u001b[49m\u001b[43mlevel\u001b[49m\u001b[38;5;241;43m=\u001b[39;49m\u001b[43mlevel\u001b[49m\u001b[43m,\u001b[49m\n\u001b[0;32m   9188\u001b[0m \u001b[43m    \u001b[49m\u001b[43mas_index\u001b[49m\u001b[38;5;241;43m=\u001b[39;49m\u001b[43mas_index\u001b[49m\u001b[43m,\u001b[49m\n\u001b[0;32m   9189\u001b[0m \u001b[43m    \u001b[49m\u001b[43msort\u001b[49m\u001b[38;5;241;43m=\u001b[39;49m\u001b[43msort\u001b[49m\u001b[43m,\u001b[49m\n\u001b[0;32m   9190\u001b[0m \u001b[43m    \u001b[49m\u001b[43mgroup_keys\u001b[49m\u001b[38;5;241;43m=\u001b[39;49m\u001b[43mgroup_keys\u001b[49m\u001b[43m,\u001b[49m\n\u001b[0;32m   9191\u001b[0m \u001b[43m    \u001b[49m\u001b[43mobserved\u001b[49m\u001b[38;5;241;43m=\u001b[39;49m\u001b[43mobserved\u001b[49m\u001b[43m,\u001b[49m\n\u001b[0;32m   9192\u001b[0m \u001b[43m    \u001b[49m\u001b[43mdropna\u001b[49m\u001b[38;5;241;43m=\u001b[39;49m\u001b[43mdropna\u001b[49m\u001b[43m,\u001b[49m\n\u001b[0;32m   9193\u001b[0m \u001b[43m\u001b[49m\u001b[43m)\u001b[49m\n",
      "File \u001b[1;32mc:\\DAAT\\DAA_DES\\.venv\\Lib\\site-packages\\pandas\\core\\groupby\\groupby.py:1329\u001b[0m, in \u001b[0;36mGroupBy.__init__\u001b[1;34m(self, obj, keys, axis, level, grouper, exclusions, selection, as_index, sort, group_keys, observed, dropna)\u001b[0m\n\u001b[0;32m   1326\u001b[0m \u001b[38;5;28mself\u001b[39m\u001b[38;5;241m.\u001b[39mdropna \u001b[38;5;241m=\u001b[39m dropna\n\u001b[0;32m   1328\u001b[0m \u001b[38;5;28;01mif\u001b[39;00m grouper \u001b[38;5;129;01mis\u001b[39;00m \u001b[38;5;28;01mNone\u001b[39;00m:\n\u001b[1;32m-> 1329\u001b[0m     grouper, exclusions, obj \u001b[38;5;241m=\u001b[39m \u001b[43mget_grouper\u001b[49m\u001b[43m(\u001b[49m\n\u001b[0;32m   1330\u001b[0m \u001b[43m        \u001b[49m\u001b[43mobj\u001b[49m\u001b[43m,\u001b[49m\n\u001b[0;32m   1331\u001b[0m \u001b[43m        \u001b[49m\u001b[43mkeys\u001b[49m\u001b[43m,\u001b[49m\n\u001b[0;32m   1332\u001b[0m \u001b[43m        \u001b[49m\u001b[43maxis\u001b[49m\u001b[38;5;241;43m=\u001b[39;49m\u001b[43maxis\u001b[49m\u001b[43m,\u001b[49m\n\u001b[0;32m   1333\u001b[0m \u001b[43m        \u001b[49m\u001b[43mlevel\u001b[49m\u001b[38;5;241;43m=\u001b[39;49m\u001b[43mlevel\u001b[49m\u001b[43m,\u001b[49m\n\u001b[0;32m   1334\u001b[0m \u001b[43m        \u001b[49m\u001b[43msort\u001b[49m\u001b[38;5;241;43m=\u001b[39;49m\u001b[43msort\u001b[49m\u001b[43m,\u001b[49m\n\u001b[0;32m   1335\u001b[0m \u001b[43m        \u001b[49m\u001b[43mobserved\u001b[49m\u001b[38;5;241;43m=\u001b[39;49m\u001b[38;5;28;43;01mFalse\u001b[39;49;00m\u001b[43m \u001b[49m\u001b[38;5;28;43;01mif\u001b[39;49;00m\u001b[43m \u001b[49m\u001b[43mobserved\u001b[49m\u001b[43m \u001b[49m\u001b[38;5;129;43;01mis\u001b[39;49;00m\u001b[43m \u001b[49m\u001b[43mlib\u001b[49m\u001b[38;5;241;43m.\u001b[39;49m\u001b[43mno_default\u001b[49m\u001b[43m \u001b[49m\u001b[38;5;28;43;01melse\u001b[39;49;00m\u001b[43m \u001b[49m\u001b[43mobserved\u001b[49m\u001b[43m,\u001b[49m\n\u001b[0;32m   1336\u001b[0m \u001b[43m        \u001b[49m\u001b[43mdropna\u001b[49m\u001b[38;5;241;43m=\u001b[39;49m\u001b[38;5;28;43mself\u001b[39;49m\u001b[38;5;241;43m.\u001b[39;49m\u001b[43mdropna\u001b[49m\u001b[43m,\u001b[49m\n\u001b[0;32m   1337\u001b[0m \u001b[43m    \u001b[49m\u001b[43m)\u001b[49m\n\u001b[0;32m   1339\u001b[0m \u001b[38;5;28;01mif\u001b[39;00m observed \u001b[38;5;129;01mis\u001b[39;00m lib\u001b[38;5;241m.\u001b[39mno_default:\n\u001b[0;32m   1340\u001b[0m     \u001b[38;5;28;01mif\u001b[39;00m \u001b[38;5;28many\u001b[39m(ping\u001b[38;5;241m.\u001b[39m_passed_categorical \u001b[38;5;28;01mfor\u001b[39;00m ping \u001b[38;5;129;01min\u001b[39;00m grouper\u001b[38;5;241m.\u001b[39mgroupings):\n",
      "File \u001b[1;32mc:\\DAAT\\DAA_DES\\.venv\\Lib\\site-packages\\pandas\\core\\groupby\\grouper.py:1043\u001b[0m, in \u001b[0;36mget_grouper\u001b[1;34m(obj, key, axis, level, sort, observed, validate, dropna)\u001b[0m\n\u001b[0;32m   1041\u001b[0m         in_axis, level, gpr \u001b[38;5;241m=\u001b[39m \u001b[38;5;28;01mFalse\u001b[39;00m, gpr, \u001b[38;5;28;01mNone\u001b[39;00m\n\u001b[0;32m   1042\u001b[0m     \u001b[38;5;28;01melse\u001b[39;00m:\n\u001b[1;32m-> 1043\u001b[0m         \u001b[38;5;28;01mraise\u001b[39;00m \u001b[38;5;167;01mKeyError\u001b[39;00m(gpr)\n\u001b[0;32m   1044\u001b[0m \u001b[38;5;28;01melif\u001b[39;00m \u001b[38;5;28misinstance\u001b[39m(gpr, Grouper) \u001b[38;5;129;01mand\u001b[39;00m gpr\u001b[38;5;241m.\u001b[39mkey \u001b[38;5;129;01mis\u001b[39;00m \u001b[38;5;129;01mnot\u001b[39;00m \u001b[38;5;28;01mNone\u001b[39;00m:\n\u001b[0;32m   1045\u001b[0m     \u001b[38;5;66;03m# Add key to exclusions\u001b[39;00m\n\u001b[0;32m   1046\u001b[0m     exclusions\u001b[38;5;241m.\u001b[39madd(gpr\u001b[38;5;241m.\u001b[39mkey)\n",
      "\u001b[1;31mKeyError\u001b[0m: 'vehicle_type'"
     ]
    }
   ],
   "source": []
  },
  {
   "cell_type": "code",
   "execution_count": 70,
   "metadata": {},
   "outputs": [
    {
     "data": {
      "text/html": [
       "<div>\n",
       "<style scoped>\n",
       "    .dataframe tbody tr th:only-of-type {\n",
       "        vertical-align: middle;\n",
       "    }\n",
       "\n",
       "    .dataframe tbody tr th {\n",
       "        vertical-align: top;\n",
       "    }\n",
       "\n",
       "    .dataframe thead th {\n",
       "        text-align: right;\n",
       "    }\n",
       "</style>\n",
       "<table border=\"1\" class=\"dataframe\">\n",
       "  <thead>\n",
       "    <tr style=\"text-align: right;\">\n",
       "      <th></th>\n",
       "      <th>callsign_group</th>\n",
       "      <th>callsign</th>\n",
       "      <th>vehicle_type</th>\n",
       "      <th>percentage_of_group</th>\n",
       "    </tr>\n",
       "  </thead>\n",
       "  <tbody>\n",
       "    <tr>\n",
       "      <th>0</th>\n",
       "      <td>70.0</td>\n",
       "      <td>C70</td>\n",
       "      <td>car</td>\n",
       "      <td>51.744919</td>\n",
       "    </tr>\n",
       "    <tr>\n",
       "      <th>1</th>\n",
       "      <td>70.0</td>\n",
       "      <td>H70</td>\n",
       "      <td>helicopter</td>\n",
       "      <td>48.255081</td>\n",
       "    </tr>\n",
       "    <tr>\n",
       "      <th>2</th>\n",
       "      <td>71.0</td>\n",
       "      <td>C71</td>\n",
       "      <td>car</td>\n",
       "      <td>55.805966</td>\n",
       "    </tr>\n",
       "    <tr>\n",
       "      <th>3</th>\n",
       "      <td>71.0</td>\n",
       "      <td>H71</td>\n",
       "      <td>helicopter</td>\n",
       "      <td>47.423777</td>\n",
       "    </tr>\n",
       "    <tr>\n",
       "      <th>4</th>\n",
       "      <td>72.0</td>\n",
       "      <td>C72</td>\n",
       "      <td>car</td>\n",
       "      <td>100.000000</td>\n",
       "    </tr>\n",
       "  </tbody>\n",
       "</table>\n",
       "</div>"
      ],
      "text/plain": [
       "   callsign_group callsign vehicle_type  percentage_of_group\n",
       "0            70.0      C70          car            51.744919\n",
       "1            70.0      H70   helicopter            48.255081\n",
       "2            71.0      C71          car            55.805966\n",
       "3            71.0      H71   helicopter            47.423777\n",
       "4            72.0      C72          car           100.000000"
      ]
     },
     "execution_count": 70,
     "metadata": {},
     "output_type": "execute_result"
    }
   ],
   "source": [
    "jobs_counts_by_callsign_monthly_sim.groupby(['callsign_group', 'callsign', 'vehicle_type'])[['percentage_of_group']].mean().reset_index()"
   ]
  },
  {
   "cell_type": "code",
   "execution_count": 53,
   "metadata": {},
   "outputs": [
    {
     "data": {
      "application/vnd.plotly.v1+json": {
       "config": {
        "plotlyServerURL": "https://plot.ly"
       },
       "data": [
        {
         "alignmentgroup": "True",
         "hovertemplate": "vehicle_type=car<br>percentage_of_group=%{x}<br>callsign_group=%{y}<extra></extra>",
         "legendgroup": "car",
         "marker": {
          "color": "#000001",
          "pattern": {
           "shape": ""
          }
         },
         "name": "car",
         "offsetgroup": "car",
         "orientation": "h",
         "showlegend": true,
         "textposition": "auto",
         "type": "bar",
         "x": [
          51.74491909493251,
          55.80596561455737,
          100
         ],
         "xaxis": "x",
         "y": [
          "70.0",
          "71.0",
          "72.0"
         ],
         "yaxis": "y"
        },
        {
         "alignmentgroup": "True",
         "hovertemplate": "vehicle_type=helicopter<br>percentage_of_group=%{x}<br>callsign_group=%{y}<extra></extra>",
         "legendgroup": "helicopter",
         "marker": {
          "color": "#000002",
          "pattern": {
           "shape": ""
          }
         },
         "name": "helicopter",
         "offsetgroup": "helicopter",
         "orientation": "h",
         "showlegend": true,
         "textposition": "auto",
         "type": "bar",
         "x": [
          48.25508090506749,
          47.42377652904175
         ],
         "xaxis": "x",
         "y": [
          "70.0",
          "71.0"
         ],
         "yaxis": "y"
        }
       ],
       "layout": {
        "barmode": "relative",
        "legend": {
         "title": {
          "text": "vehicle_type"
         },
         "tracegroupgap": 0
        },
        "margin": {
         "t": 60
        },
        "template": {
         "data": {
          "candlestick": [
           {
            "decreasing": {
             "line": {
              "color": "#000033"
             }
            },
            "increasing": {
             "line": {
              "color": "#000032"
             }
            },
            "type": "candlestick"
           }
          ],
          "contour": [
           {
            "colorscale": [
             [
              0,
              "#000011"
             ],
             [
              0.1111111111111111,
              "#000012"
             ],
             [
              0.2222222222222222,
              "#000013"
             ],
             [
              0.3333333333333333,
              "#000014"
             ],
             [
              0.4444444444444444,
              "#000015"
             ],
             [
              0.5555555555555556,
              "#000016"
             ],
             [
              0.6666666666666666,
              "#000017"
             ],
             [
              0.7777777777777778,
              "#000018"
             ],
             [
              0.8888888888888888,
              "#000019"
             ],
             [
              1,
              "#000020"
             ]
            ],
            "type": "contour"
           }
          ],
          "contourcarpet": [
           {
            "colorscale": [
             [
              0,
              "#000011"
             ],
             [
              0.1111111111111111,
              "#000012"
             ],
             [
              0.2222222222222222,
              "#000013"
             ],
             [
              0.3333333333333333,
              "#000014"
             ],
             [
              0.4444444444444444,
              "#000015"
             ],
             [
              0.5555555555555556,
              "#000016"
             ],
             [
              0.6666666666666666,
              "#000017"
             ],
             [
              0.7777777777777778,
              "#000018"
             ],
             [
              0.8888888888888888,
              "#000019"
             ],
             [
              1,
              "#000020"
             ]
            ],
            "type": "contourcarpet"
           }
          ],
          "heatmap": [
           {
            "colorscale": [
             [
              0,
              "#000011"
             ],
             [
              0.1111111111111111,
              "#000012"
             ],
             [
              0.2222222222222222,
              "#000013"
             ],
             [
              0.3333333333333333,
              "#000014"
             ],
             [
              0.4444444444444444,
              "#000015"
             ],
             [
              0.5555555555555556,
              "#000016"
             ],
             [
              0.6666666666666666,
              "#000017"
             ],
             [
              0.7777777777777778,
              "#000018"
             ],
             [
              0.8888888888888888,
              "#000019"
             ],
             [
              1,
              "#000020"
             ]
            ],
            "type": "heatmap"
           }
          ],
          "histogram2d": [
           {
            "colorscale": [
             [
              0,
              "#000011"
             ],
             [
              0.1111111111111111,
              "#000012"
             ],
             [
              0.2222222222222222,
              "#000013"
             ],
             [
              0.3333333333333333,
              "#000014"
             ],
             [
              0.4444444444444444,
              "#000015"
             ],
             [
              0.5555555555555556,
              "#000016"
             ],
             [
              0.6666666666666666,
              "#000017"
             ],
             [
              0.7777777777777778,
              "#000018"
             ],
             [
              0.8888888888888888,
              "#000019"
             ],
             [
              1,
              "#000020"
             ]
            ],
            "type": "histogram2d"
           }
          ],
          "icicle": [
           {
            "textfont": {
             "color": "white"
            },
            "type": "icicle"
           }
          ],
          "sankey": [
           {
            "textfont": {
             "color": "#000036"
            },
            "type": "sankey"
           }
          ],
          "scatter": [
           {
            "marker": {
             "line": {
              "width": 0
             }
            },
            "type": "scatter"
           }
          ],
          "table": [
           {
            "cells": {
             "fill": {
              "color": "#000038"
             },
             "font": {
              "color": "#000037"
             },
             "line": {
              "color": "#000039"
             }
            },
            "header": {
             "fill": {
              "color": "#000040"
             },
             "font": {
              "color": "#000036"
             },
             "line": {
              "color": "#000039"
             }
            },
            "type": "table"
           }
          ],
          "waterfall": [
           {
            "connector": {
             "line": {
              "color": "#000036",
              "width": 2
             }
            },
            "decreasing": {
             "marker": {
              "color": "#000033"
             }
            },
            "increasing": {
             "marker": {
              "color": "#000032"
             }
            },
            "totals": {
             "marker": {
              "color": "#000034"
             }
            },
            "type": "waterfall"
           }
          ]
         },
         "layout": {
          "coloraxis": {
           "colorscale": [
            [
             0,
             "#000011"
            ],
            [
             0.1111111111111111,
             "#000012"
            ],
            [
             0.2222222222222222,
             "#000013"
            ],
            [
             0.3333333333333333,
             "#000014"
            ],
            [
             0.4444444444444444,
             "#000015"
            ],
            [
             0.5555555555555556,
             "#000016"
            ],
            [
             0.6666666666666666,
             "#000017"
            ],
            [
             0.7777777777777778,
             "#000018"
            ],
            [
             0.8888888888888888,
             "#000019"
            ],
            [
             1,
             "#000020"
            ]
           ]
          },
          "colorscale": {
           "diverging": [
            [
             0,
             "#000021"
            ],
            [
             0.1,
             "#000022"
            ],
            [
             0.2,
             "#000023"
            ],
            [
             0.3,
             "#000024"
            ],
            [
             0.4,
             "#000025"
            ],
            [
             0.5,
             "#000026"
            ],
            [
             0.6,
             "#000027"
            ],
            [
             0.7,
             "#000028"
            ],
            [
             0.8,
             "#000029"
            ],
            [
             0.9,
             "#000030"
            ],
            [
             1,
             "#000031"
            ]
           ],
           "sequential": [
            [
             0,
             "#000011"
            ],
            [
             0.1111111111111111,
             "#000012"
            ],
            [
             0.2222222222222222,
             "#000013"
            ],
            [
             0.3333333333333333,
             "#000014"
            ],
            [
             0.4444444444444444,
             "#000015"
            ],
            [
             0.5555555555555556,
             "#000016"
            ],
            [
             0.6666666666666666,
             "#000017"
            ],
            [
             0.7777777777777778,
             "#000018"
            ],
            [
             0.8888888888888888,
             "#000019"
            ],
            [
             1,
             "#000020"
            ]
           ],
           "sequentialminus": [
            [
             0,
             "#000011"
            ],
            [
             0.1111111111111111,
             "#000012"
            ],
            [
             0.2222222222222222,
             "#000013"
            ],
            [
             0.3333333333333333,
             "#000014"
            ],
            [
             0.4444444444444444,
             "#000015"
            ],
            [
             0.5555555555555556,
             "#000016"
            ],
            [
             0.6666666666666666,
             "#000017"
            ],
            [
             0.7777777777777778,
             "#000018"
            ],
            [
             0.8888888888888888,
             "#000019"
            ],
            [
             1,
             "#000020"
            ]
           ]
          },
          "colorway": [
           "#000001",
           "#000002",
           "#000003",
           "#000004",
           "#000005",
           "#000006",
           "#000007",
           "#000008",
           "#000009",
           "#000010"
          ]
         }
        },
        "xaxis": {
         "anchor": "y",
         "domain": [
          0,
          1
         ],
         "title": {
          "text": "percentage_of_group"
         }
        },
        "yaxis": {
         "anchor": "x",
         "domain": [
          0,
          1
         ],
         "title": {
          "text": "callsign_group"
         }
        }
       }
      }
     },
     "metadata": {},
     "output_type": "display_data"
    }
   ],
   "source": [
    "px.bar(\n",
    "    sim_averages,\n",
    "    x=\"percentage_of_group\",\n",
    "    y=\"callsign_group\",\n",
    "    color=\"vehicle_type\"\n",
    ")"
   ]
  },
  {
   "cell_type": "code",
   "execution_count": null,
   "metadata": {},
   "outputs": [],
   "source": [
    "jobs_counts_by_callsign_monthly_sim"
   ]
  },
  {
   "cell_type": "code",
   "execution_count": 73,
   "metadata": {},
   "outputs": [
    {
     "data": {
      "text/html": [
       "<div>\n",
       "<style scoped>\n",
       "    .dataframe tbody tr th:only-of-type {\n",
       "        vertical-align: middle;\n",
       "    }\n",
       "\n",
       "    .dataframe tbody tr th {\n",
       "        vertical-align: top;\n",
       "    }\n",
       "\n",
       "    .dataframe thead th {\n",
       "        text-align: right;\n",
       "    }\n",
       "</style>\n",
       "<table border=\"1\" class=\"dataframe\">\n",
       "  <thead>\n",
       "    <tr style=\"text-align: right;\">\n",
       "      <th></th>\n",
       "      <th>month_start</th>\n",
       "      <th>callsign_group</th>\n",
       "      <th>run_number</th>\n",
       "      <th>callsign</th>\n",
       "      <th>jobs</th>\n",
       "      <th>total_jobs_per_group</th>\n",
       "      <th>percentage_of_group</th>\n",
       "    </tr>\n",
       "  </thead>\n",
       "  <tbody>\n",
       "    <tr>\n",
       "      <th>0</th>\n",
       "      <td>2025-02-01</td>\n",
       "      <td>70.0</td>\n",
       "      <td>1</td>\n",
       "      <td>C70</td>\n",
       "      <td>5</td>\n",
       "      <td>26</td>\n",
       "      <td>19.230769</td>\n",
       "    </tr>\n",
       "    <tr>\n",
       "      <th>1</th>\n",
       "      <td>2025-02-01</td>\n",
       "      <td>70.0</td>\n",
       "      <td>1</td>\n",
       "      <td>H70</td>\n",
       "      <td>21</td>\n",
       "      <td>26</td>\n",
       "      <td>80.769231</td>\n",
       "    </tr>\n",
       "    <tr>\n",
       "      <th>2</th>\n",
       "      <td>2025-02-01</td>\n",
       "      <td>70.0</td>\n",
       "      <td>2</td>\n",
       "      <td>C70</td>\n",
       "      <td>17</td>\n",
       "      <td>24</td>\n",
       "      <td>70.833333</td>\n",
       "    </tr>\n",
       "    <tr>\n",
       "      <th>3</th>\n",
       "      <td>2025-02-01</td>\n",
       "      <td>70.0</td>\n",
       "      <td>2</td>\n",
       "      <td>H70</td>\n",
       "      <td>7</td>\n",
       "      <td>24</td>\n",
       "      <td>29.166667</td>\n",
       "    </tr>\n",
       "    <tr>\n",
       "      <th>4</th>\n",
       "      <td>2025-02-01</td>\n",
       "      <td>70.0</td>\n",
       "      <td>3</td>\n",
       "      <td>C70</td>\n",
       "      <td>19</td>\n",
       "      <td>22</td>\n",
       "      <td>86.363636</td>\n",
       "    </tr>\n",
       "    <tr>\n",
       "      <th>...</th>\n",
       "      <td>...</td>\n",
       "      <td>...</td>\n",
       "      <td>...</td>\n",
       "      <td>...</td>\n",
       "      <td>...</td>\n",
       "      <td>...</td>\n",
       "      <td>...</td>\n",
       "    </tr>\n",
       "    <tr>\n",
       "      <th>1278</th>\n",
       "      <td>2026-02-01</td>\n",
       "      <td>72.0</td>\n",
       "      <td>16</td>\n",
       "      <td>C72</td>\n",
       "      <td>13</td>\n",
       "      <td>13</td>\n",
       "      <td>100.000000</td>\n",
       "    </tr>\n",
       "    <tr>\n",
       "      <th>1279</th>\n",
       "      <td>2026-02-01</td>\n",
       "      <td>72.0</td>\n",
       "      <td>17</td>\n",
       "      <td>C72</td>\n",
       "      <td>12</td>\n",
       "      <td>12</td>\n",
       "      <td>100.000000</td>\n",
       "    </tr>\n",
       "    <tr>\n",
       "      <th>1280</th>\n",
       "      <td>2026-02-01</td>\n",
       "      <td>72.0</td>\n",
       "      <td>18</td>\n",
       "      <td>C72</td>\n",
       "      <td>10</td>\n",
       "      <td>10</td>\n",
       "      <td>100.000000</td>\n",
       "    </tr>\n",
       "    <tr>\n",
       "      <th>1281</th>\n",
       "      <td>2026-02-01</td>\n",
       "      <td>72.0</td>\n",
       "      <td>19</td>\n",
       "      <td>C72</td>\n",
       "      <td>14</td>\n",
       "      <td>14</td>\n",
       "      <td>100.000000</td>\n",
       "    </tr>\n",
       "    <tr>\n",
       "      <th>1282</th>\n",
       "      <td>2026-02-01</td>\n",
       "      <td>72.0</td>\n",
       "      <td>20</td>\n",
       "      <td>C72</td>\n",
       "      <td>3</td>\n",
       "      <td>3</td>\n",
       "      <td>100.000000</td>\n",
       "    </tr>\n",
       "  </tbody>\n",
       "</table>\n",
       "<p>1283 rows × 7 columns</p>\n",
       "</div>"
      ],
      "text/plain": [
       "     month_start  callsign_group  run_number callsign  jobs  \\\n",
       "0     2025-02-01            70.0           1      C70     5   \n",
       "1     2025-02-01            70.0           1      H70    21   \n",
       "2     2025-02-01            70.0           2      C70    17   \n",
       "3     2025-02-01            70.0           2      H70     7   \n",
       "4     2025-02-01            70.0           3      C70    19   \n",
       "...          ...             ...         ...      ...   ...   \n",
       "1278  2026-02-01            72.0          16      C72    13   \n",
       "1279  2026-02-01            72.0          17      C72    12   \n",
       "1280  2026-02-01            72.0          18      C72    10   \n",
       "1281  2026-02-01            72.0          19      C72    14   \n",
       "1282  2026-02-01            72.0          20      C72     3   \n",
       "\n",
       "      total_jobs_per_group  percentage_of_group  \n",
       "0                       26            19.230769  \n",
       "1                       26            80.769231  \n",
       "2                       24            70.833333  \n",
       "3                       24            29.166667  \n",
       "4                       22            86.363636  \n",
       "...                    ...                  ...  \n",
       "1278                    13           100.000000  \n",
       "1279                    12           100.000000  \n",
       "1280                    10           100.000000  \n",
       "1281                    14           100.000000  \n",
       "1282                     3           100.000000  \n",
       "\n",
       "[1283 rows x 7 columns]"
      ]
     },
     "execution_count": 73,
     "metadata": {},
     "output_type": "execute_result"
    }
   ],
   "source": [
    "jobs_counts_by_callsign_monthly_sim = (\n",
    "    call_df\n",
    "    .groupby(['run_number', 'month_start', 'callsign', 'callsign_group', 'vehicle_type'])['P_ID']\n",
    "    .count().reset_index().rename(columns={'P_ID': 'jobs'})\n",
    "    )\n",
    "\n",
    "jobs_counts_by_callsign_monthly_sim = jobs_counts_by_callsign_monthly_sim[~jobs_counts_by_callsign_monthly_sim['callsign'].isna()]\n",
    "\n",
    "# Step 1: Compute total jobs per callsign per month per run\n",
    "jobs_per_callsign = jobs_counts_by_callsign_monthly_sim.groupby(\n",
    "    [\"month_start\", \"callsign_group\", \"run_number\", \"callsign\"]\n",
    ")[\"jobs\"].sum().reset_index()\n",
    "\n",
    "# Step 2: Compute total jobs per callsign group per month per run\n",
    "total_jobs_per_group = jobs_counts_by_callsign_monthly_sim.groupby(\n",
    "    [\"month_start\", \"callsign_group\", \"run_number\"]\n",
    ")[\"jobs\"].sum().reset_index().rename(columns={\"jobs\": \"total_jobs_per_group\"})\n",
    "\n",
    "# Step 3: Merge total jobs per group back into callsign-level data\n",
    "jobs_per_callsign = jobs_per_callsign.merge(total_jobs_per_group, on=[\"month_start\", \"callsign_group\", \"run_number\"], how=\"left\")\n",
    "\n",
    "# Step 4: Compute percentage contribution of each callsign within its group (for each month & run)\n",
    "jobs_per_callsign[\"percentage_of_group\"] = (jobs_per_callsign[\"jobs\"] / jobs_per_callsign[\"total_jobs_per_group\"]) * 100\n",
    "\n",
    "jobs_per_callsign\n"
   ]
  },
  {
   "cell_type": "code",
   "execution_count": 76,
   "metadata": {},
   "outputs": [
    {
     "data": {
      "text/html": [
       "<div>\n",
       "<style scoped>\n",
       "    .dataframe tbody tr th:only-of-type {\n",
       "        vertical-align: middle;\n",
       "    }\n",
       "\n",
       "    .dataframe tbody tr th {\n",
       "        vertical-align: top;\n",
       "    }\n",
       "\n",
       "    .dataframe thead th {\n",
       "        text-align: right;\n",
       "    }\n",
       "</style>\n",
       "<table border=\"1\" class=\"dataframe\">\n",
       "  <thead>\n",
       "    <tr style=\"text-align: right;\">\n",
       "      <th></th>\n",
       "      <th>callsign_group</th>\n",
       "      <th>callsign</th>\n",
       "      <th>percentage_of_group</th>\n",
       "    </tr>\n",
       "  </thead>\n",
       "  <tbody>\n",
       "    <tr>\n",
       "      <th>0</th>\n",
       "      <td>70.0</td>\n",
       "      <td>C70</td>\n",
       "      <td>51.744919</td>\n",
       "    </tr>\n",
       "    <tr>\n",
       "      <th>1</th>\n",
       "      <td>70.0</td>\n",
       "      <td>H70</td>\n",
       "      <td>48.255081</td>\n",
       "    </tr>\n",
       "    <tr>\n",
       "      <th>2</th>\n",
       "      <td>71.0</td>\n",
       "      <td>C71</td>\n",
       "      <td>55.805966</td>\n",
       "    </tr>\n",
       "    <tr>\n",
       "      <th>3</th>\n",
       "      <td>71.0</td>\n",
       "      <td>H71</td>\n",
       "      <td>47.423777</td>\n",
       "    </tr>\n",
       "    <tr>\n",
       "      <th>4</th>\n",
       "      <td>72.0</td>\n",
       "      <td>C72</td>\n",
       "      <td>100.000000</td>\n",
       "    </tr>\n",
       "  </tbody>\n",
       "</table>\n",
       "</div>"
      ],
      "text/plain": [
       "   callsign_group callsign  percentage_of_group\n",
       "0            70.0      C70            51.744919\n",
       "1            70.0      H70            48.255081\n",
       "2            71.0      C71            55.805966\n",
       "3            71.0      H71            47.423777\n",
       "4            72.0      C72           100.000000"
      ]
     },
     "execution_count": 76,
     "metadata": {},
     "output_type": "execute_result"
    }
   ],
   "source": [
    "# Step 5: Average the percentages across all simulation runs\n",
    "sim_averages = jobs_per_callsign.groupby([\"callsign_group\", \"callsign\"])[[\"percentage_of_group\"]].mean().reset_index()\n",
    "\n",
    "sim_averages"
   ]
  },
  {
   "cell_type": "code",
   "execution_count": 79,
   "metadata": {},
   "outputs": [
    {
     "data": {
      "text/plain": [
       "month_start  callsign_group  run_number\n",
       "2025-02-01   70.0            1             100.0\n",
       "                             2             100.0\n",
       "                             3             100.0\n",
       "                             4             100.0\n",
       "                             5             100.0\n",
       "                                           ...  \n",
       "2026-02-01   72.0            16            100.0\n",
       "                             17            100.0\n",
       "                             18            100.0\n",
       "                             19            100.0\n",
       "                             20            100.0\n",
       "Name: percentage_of_group, Length: 780, dtype: float64"
      ]
     },
     "execution_count": 79,
     "metadata": {},
     "output_type": "execute_result"
    }
   ],
   "source": [
    "# Sum jobs per callsign per month per run\n",
    "check_jobs_per_callsign = jobs_counts_by_callsign_monthly_sim.groupby(\n",
    "    [\"month_start\", \"callsign_group\", \"run_number\", \"callsign\"]\n",
    ")[\"jobs\"].sum().reset_index()\n",
    "\n",
    "# Sum jobs per callsign group per month per run\n",
    "check_total_jobs_per_group = jobs_counts_by_callsign_monthly_sim.groupby(\n",
    "    [\"month_start\", \"callsign_group\", \"run_number\"]\n",
    ")[\"jobs\"].sum().reset_index().rename(columns={\"jobs\": \"total_jobs_per_group\"})\n",
    "\n",
    "# Merge\n",
    "check_jobs_per_callsign = check_jobs_per_callsign.merge(\n",
    "    check_total_jobs_per_group,\n",
    "    on=[\"month_start\", \"callsign_group\", \"run_number\"],\n",
    "    how=\"left\"\n",
    ")\n",
    "\n",
    "# Compute percentages\n",
    "check_jobs_per_callsign[\"percentage_of_group\"] = (\n",
    "    check_jobs_per_callsign[\"jobs\"] / check_jobs_per_callsign[\"total_jobs_per_group\"]\n",
    ") * 100\n",
    "\n",
    "# Check if the percentage sums correctly for each group per run\n",
    "percentage_sums = check_jobs_per_callsign.groupby(\n",
    "    [\"month_start\", \"callsign_group\", \"run_number\"]\n",
    ")[\"percentage_of_group\"].sum()\n",
    "\n",
    "# If this is ever greater than 100, something is off\n",
    "# print(percentage_sums.describe())\n",
    "percentage_sums\n"
   ]
  },
  {
   "cell_type": "code",
   "execution_count": 82,
   "metadata": {},
   "outputs": [
    {
     "data": {
      "text/plain": [
       "month_start  callsign_group  run_number\n",
       "2025-02-01   70.0            2             100.0\n",
       "                             9             100.0\n",
       "                             13            100.0\n",
       "             71.0            5             100.0\n",
       "2025-03-01   71.0            10            100.0\n",
       "2025-04-01   70.0            5             100.0\n",
       "                             13            100.0\n",
       "2025-07-01   71.0            4             100.0\n",
       "2025-08-01   71.0            7             100.0\n",
       "                             14            100.0\n",
       "                             19            100.0\n",
       "2026-02-01   70.0            18            100.0\n",
       "Name: percentage_of_group, dtype: float64"
      ]
     },
     "execution_count": 82,
     "metadata": {},
     "output_type": "execute_result"
    }
   ],
   "source": [
    "percentage_sums[percentage_sums > 100.0]"
   ]
  },
  {
   "cell_type": "code",
   "execution_count": 83,
   "metadata": {},
   "outputs": [
    {
     "name": "stdout",
     "output_type": "stream",
     "text": [
      "Empty DataFrame\n",
      "Columns: [run_number, month_start, callsign, callsign_group, vehicle_type, jobs]\n",
      "Index: []\n"
     ]
    }
   ],
   "source": [
    "duplicates = jobs_counts_by_callsign_monthly_sim.duplicated(\n",
    "    subset=[\"month_start\", \"callsign_group\", \"run_number\", \"callsign\"],\n",
    "    keep=False\n",
    ")\n",
    "print(jobs_counts_by_callsign_monthly_sim[duplicates])\n"
   ]
  },
  {
   "cell_type": "markdown",
   "metadata": {},
   "source": [
    "# Try again, ensuring we fill first"
   ]
  },
  {
   "cell_type": "code",
   "execution_count": 115,
   "metadata": {},
   "outputs": [
    {
     "data": {
      "text/html": [
       "<div>\n",
       "<style scoped>\n",
       "    .dataframe tbody tr th:only-of-type {\n",
       "        vertical-align: middle;\n",
       "    }\n",
       "\n",
       "    .dataframe tbody tr th {\n",
       "        vertical-align: top;\n",
       "    }\n",
       "\n",
       "    .dataframe thead th {\n",
       "        text-align: right;\n",
       "    }\n",
       "</style>\n",
       "<table border=\"1\" class=\"dataframe\">\n",
       "  <thead>\n",
       "    <tr style=\"text-align: right;\">\n",
       "      <th></th>\n",
       "      <th>callsign_group</th>\n",
       "      <th>callsign</th>\n",
       "      <th>vehicle_type</th>\n",
       "      <th>percentage_of_group</th>\n",
       "    </tr>\n",
       "  </thead>\n",
       "  <tbody>\n",
       "    <tr>\n",
       "      <th>0</th>\n",
       "      <td>70</td>\n",
       "      <td>C70</td>\n",
       "      <td>car</td>\n",
       "      <td>51.744919</td>\n",
       "    </tr>\n",
       "    <tr>\n",
       "      <th>1</th>\n",
       "      <td>70</td>\n",
       "      <td>H70</td>\n",
       "      <td>helicopter</td>\n",
       "      <td>48.255081</td>\n",
       "    </tr>\n",
       "    <tr>\n",
       "      <th>2</th>\n",
       "      <td>71</td>\n",
       "      <td>C71</td>\n",
       "      <td>car</td>\n",
       "      <td>54.947412</td>\n",
       "    </tr>\n",
       "    <tr>\n",
       "      <th>3</th>\n",
       "      <td>71</td>\n",
       "      <td>H71</td>\n",
       "      <td>helicopter</td>\n",
       "      <td>45.052588</td>\n",
       "    </tr>\n",
       "    <tr>\n",
       "      <th>4</th>\n",
       "      <td>72</td>\n",
       "      <td>C72</td>\n",
       "      <td>car</td>\n",
       "      <td>100.000000</td>\n",
       "    </tr>\n",
       "  </tbody>\n",
       "</table>\n",
       "</div>"
      ],
      "text/plain": [
       "  callsign_group callsign vehicle_type  percentage_of_group\n",
       "0             70      C70          car            51.744919\n",
       "1             70      H70   helicopter            48.255081\n",
       "2             71      C71          car            54.947412\n",
       "3             71      H71   helicopter            45.052588\n",
       "4             72      C72          car           100.000000"
      ]
     },
     "execution_count": 115,
     "metadata": {},
     "output_type": "execute_result"
    }
   ],
   "source": [
    "import _job_count_calculation\n",
    "\n",
    "call_df = _job_count_calculation.make_job_count_df(path=\"../data/run_results.csv\",\n",
    "                      params_path=\"../data/run_params_used.csv\")\n",
    "\n",
    "call_df['timestamp_dt'] = pd.to_datetime(call_df['timestamp_dt'])\n",
    "call_df['month_start'] = call_df['timestamp_dt'].dt.to_period('M').dt.to_timestamp()\n",
    "\n",
    "jobs_counts_by_callsign_monthly_sim = (\n",
    "    call_df\n",
    "    .groupby(['run_number', 'month_start', 'callsign', 'callsign_group', 'vehicle_type'])['P_ID']\n",
    "    .count().reset_index().rename(columns={'P_ID': 'jobs'})\n",
    "    )\n",
    "\n",
    "jobs_counts_by_callsign_monthly_sim = jobs_counts_by_callsign_monthly_sim[~jobs_counts_by_callsign_monthly_sim['callsign'].isna()]\n",
    "\n",
    "all_combinations = pd.MultiIndex.from_product([\n",
    "    jobs_counts_by_callsign_monthly_sim[\"month_start\"].unique(),\n",
    "    jobs_counts_by_callsign_monthly_sim[\"run_number\"].unique(),\n",
    "    jobs_counts_by_callsign_monthly_sim[\"callsign\"].unique()\n",
    "], names=[\"month_start\", \"run_number\", \"callsign\"])\n",
    "\n",
    "# Reindex the dataframe to include missing callsigns\n",
    "jobs_counts_by_callsign_monthly_sim = jobs_counts_by_callsign_monthly_sim.set_index(\n",
    "    [\"month_start\", \"run_number\", \"callsign\"]\n",
    ").reindex(all_combinations, fill_value=0).reset_index()\n",
    "\n",
    "jobs_counts_by_callsign_monthly_sim['callsign_group'] = jobs_counts_by_callsign_monthly_sim['callsign'].str.extract(r'(\\d+)')\n",
    "jobs_counts_by_callsign_monthly_sim['vehicle_type'] = jobs_counts_by_callsign_monthly_sim['callsign'].apply(lambda x: 'car' if \"C\" in x else 'helicopter')\n",
    "\n",
    "# Compute total jobs per callsign_group per month\n",
    "jobs_counts_by_callsign_monthly_sim[\"total_jobs_per_group\"] = jobs_counts_by_callsign_monthly_sim.groupby([\"month_start\", \"callsign_group\", \"run_number\"])[\"jobs\"].transform(\"sum\")\n",
    "\n",
    "# Compute percentage of calls per row\n",
    "jobs_counts_by_callsign_monthly_sim[\"percentage_of_group\"] = (jobs_counts_by_callsign_monthly_sim[\"jobs\"] / jobs_counts_by_callsign_monthly_sim[\"total_jobs_per_group\"]) * 100\n",
    "\n",
    "# Handle potential division by zero (if total_jobs_per_group is 0)\n",
    "jobs_counts_by_callsign_monthly_sim[\"percentage_of_group\"] = jobs_counts_by_callsign_monthly_sim[\"percentage_of_group\"].fillna(0)\n",
    "\n",
    "sim_averages = jobs_counts_by_callsign_monthly_sim.groupby([\"callsign_group\", \"callsign\", \"vehicle_type\"])[[\"percentage_of_group\"]].mean().reset_index()\n",
    "\n",
    "sim_averages"
   ]
  },
  {
   "cell_type": "code",
   "execution_count": 116,
   "metadata": {},
   "outputs": [
    {
     "data": {
      "application/vnd.plotly.v1+json": {
       "config": {
        "plotlyServerURL": "https://plot.ly"
       },
       "data": [
        {
         "alignmentgroup": "True",
         "hovertemplate": "vehicle_type=car<br>percentage_of_group=%{x}<br>callsign_group=%{y}<extra></extra>",
         "legendgroup": "car",
         "marker": {
          "color": "#000001",
          "pattern": {
           "shape": ""
          }
         },
         "name": "car",
         "offsetgroup": "car",
         "orientation": "h",
         "showlegend": true,
         "textposition": "auto",
         "type": "bar",
         "x": [
          51.74491909493251,
          54.94741229741034,
          100
         ],
         "xaxis": "x",
         "y": [
          "70",
          "71",
          "72"
         ],
         "yaxis": "y"
        },
        {
         "alignmentgroup": "True",
         "hovertemplate": "vehicle_type=helicopter<br>percentage_of_group=%{x}<br>callsign_group=%{y}<extra></extra>",
         "legendgroup": "helicopter",
         "marker": {
          "color": "#000002",
          "pattern": {
           "shape": ""
          }
         },
         "name": "helicopter",
         "offsetgroup": "helicopter",
         "orientation": "h",
         "showlegend": true,
         "textposition": "auto",
         "type": "bar",
         "x": [
          48.25508090506749,
          45.05258770258966
         ],
         "xaxis": "x",
         "y": [
          "70",
          "71"
         ],
         "yaxis": "y"
        }
       ],
       "layout": {
        "barmode": "relative",
        "legend": {
         "title": {
          "text": "vehicle_type"
         },
         "tracegroupgap": 0
        },
        "margin": {
         "t": 60
        },
        "template": {
         "data": {
          "candlestick": [
           {
            "decreasing": {
             "line": {
              "color": "#000033"
             }
            },
            "increasing": {
             "line": {
              "color": "#000032"
             }
            },
            "type": "candlestick"
           }
          ],
          "contour": [
           {
            "colorscale": [
             [
              0,
              "#000011"
             ],
             [
              0.1111111111111111,
              "#000012"
             ],
             [
              0.2222222222222222,
              "#000013"
             ],
             [
              0.3333333333333333,
              "#000014"
             ],
             [
              0.4444444444444444,
              "#000015"
             ],
             [
              0.5555555555555556,
              "#000016"
             ],
             [
              0.6666666666666666,
              "#000017"
             ],
             [
              0.7777777777777778,
              "#000018"
             ],
             [
              0.8888888888888888,
              "#000019"
             ],
             [
              1,
              "#000020"
             ]
            ],
            "type": "contour"
           }
          ],
          "contourcarpet": [
           {
            "colorscale": [
             [
              0,
              "#000011"
             ],
             [
              0.1111111111111111,
              "#000012"
             ],
             [
              0.2222222222222222,
              "#000013"
             ],
             [
              0.3333333333333333,
              "#000014"
             ],
             [
              0.4444444444444444,
              "#000015"
             ],
             [
              0.5555555555555556,
              "#000016"
             ],
             [
              0.6666666666666666,
              "#000017"
             ],
             [
              0.7777777777777778,
              "#000018"
             ],
             [
              0.8888888888888888,
              "#000019"
             ],
             [
              1,
              "#000020"
             ]
            ],
            "type": "contourcarpet"
           }
          ],
          "heatmap": [
           {
            "colorscale": [
             [
              0,
              "#000011"
             ],
             [
              0.1111111111111111,
              "#000012"
             ],
             [
              0.2222222222222222,
              "#000013"
             ],
             [
              0.3333333333333333,
              "#000014"
             ],
             [
              0.4444444444444444,
              "#000015"
             ],
             [
              0.5555555555555556,
              "#000016"
             ],
             [
              0.6666666666666666,
              "#000017"
             ],
             [
              0.7777777777777778,
              "#000018"
             ],
             [
              0.8888888888888888,
              "#000019"
             ],
             [
              1,
              "#000020"
             ]
            ],
            "type": "heatmap"
           }
          ],
          "histogram2d": [
           {
            "colorscale": [
             [
              0,
              "#000011"
             ],
             [
              0.1111111111111111,
              "#000012"
             ],
             [
              0.2222222222222222,
              "#000013"
             ],
             [
              0.3333333333333333,
              "#000014"
             ],
             [
              0.4444444444444444,
              "#000015"
             ],
             [
              0.5555555555555556,
              "#000016"
             ],
             [
              0.6666666666666666,
              "#000017"
             ],
             [
              0.7777777777777778,
              "#000018"
             ],
             [
              0.8888888888888888,
              "#000019"
             ],
             [
              1,
              "#000020"
             ]
            ],
            "type": "histogram2d"
           }
          ],
          "icicle": [
           {
            "textfont": {
             "color": "white"
            },
            "type": "icicle"
           }
          ],
          "sankey": [
           {
            "textfont": {
             "color": "#000036"
            },
            "type": "sankey"
           }
          ],
          "scatter": [
           {
            "marker": {
             "line": {
              "width": 0
             }
            },
            "type": "scatter"
           }
          ],
          "table": [
           {
            "cells": {
             "fill": {
              "color": "#000038"
             },
             "font": {
              "color": "#000037"
             },
             "line": {
              "color": "#000039"
             }
            },
            "header": {
             "fill": {
              "color": "#000040"
             },
             "font": {
              "color": "#000036"
             },
             "line": {
              "color": "#000039"
             }
            },
            "type": "table"
           }
          ],
          "waterfall": [
           {
            "connector": {
             "line": {
              "color": "#000036",
              "width": 2
             }
            },
            "decreasing": {
             "marker": {
              "color": "#000033"
             }
            },
            "increasing": {
             "marker": {
              "color": "#000032"
             }
            },
            "totals": {
             "marker": {
              "color": "#000034"
             }
            },
            "type": "waterfall"
           }
          ]
         },
         "layout": {
          "coloraxis": {
           "colorscale": [
            [
             0,
             "#000011"
            ],
            [
             0.1111111111111111,
             "#000012"
            ],
            [
             0.2222222222222222,
             "#000013"
            ],
            [
             0.3333333333333333,
             "#000014"
            ],
            [
             0.4444444444444444,
             "#000015"
            ],
            [
             0.5555555555555556,
             "#000016"
            ],
            [
             0.6666666666666666,
             "#000017"
            ],
            [
             0.7777777777777778,
             "#000018"
            ],
            [
             0.8888888888888888,
             "#000019"
            ],
            [
             1,
             "#000020"
            ]
           ]
          },
          "colorscale": {
           "diverging": [
            [
             0,
             "#000021"
            ],
            [
             0.1,
             "#000022"
            ],
            [
             0.2,
             "#000023"
            ],
            [
             0.3,
             "#000024"
            ],
            [
             0.4,
             "#000025"
            ],
            [
             0.5,
             "#000026"
            ],
            [
             0.6,
             "#000027"
            ],
            [
             0.7,
             "#000028"
            ],
            [
             0.8,
             "#000029"
            ],
            [
             0.9,
             "#000030"
            ],
            [
             1,
             "#000031"
            ]
           ],
           "sequential": [
            [
             0,
             "#000011"
            ],
            [
             0.1111111111111111,
             "#000012"
            ],
            [
             0.2222222222222222,
             "#000013"
            ],
            [
             0.3333333333333333,
             "#000014"
            ],
            [
             0.4444444444444444,
             "#000015"
            ],
            [
             0.5555555555555556,
             "#000016"
            ],
            [
             0.6666666666666666,
             "#000017"
            ],
            [
             0.7777777777777778,
             "#000018"
            ],
            [
             0.8888888888888888,
             "#000019"
            ],
            [
             1,
             "#000020"
            ]
           ],
           "sequentialminus": [
            [
             0,
             "#000011"
            ],
            [
             0.1111111111111111,
             "#000012"
            ],
            [
             0.2222222222222222,
             "#000013"
            ],
            [
             0.3333333333333333,
             "#000014"
            ],
            [
             0.4444444444444444,
             "#000015"
            ],
            [
             0.5555555555555556,
             "#000016"
            ],
            [
             0.6666666666666666,
             "#000017"
            ],
            [
             0.7777777777777778,
             "#000018"
            ],
            [
             0.8888888888888888,
             "#000019"
            ],
            [
             1,
             "#000020"
            ]
           ]
          },
          "colorway": [
           "#000001",
           "#000002",
           "#000003",
           "#000004",
           "#000005",
           "#000006",
           "#000007",
           "#000008",
           "#000009",
           "#000010"
          ]
         }
        },
        "xaxis": {
         "anchor": "y",
         "domain": [
          0,
          1
         ],
         "title": {
          "text": "percentage_of_group"
         }
        },
        "yaxis": {
         "anchor": "x",
         "domain": [
          0,
          1
         ],
         "title": {
          "text": "callsign_group"
         }
        }
       }
      }
     },
     "metadata": {},
     "output_type": "display_data"
    }
   ],
   "source": [
    "px.bar(\n",
    "    sim_averages,\n",
    "    x=\"percentage_of_group\",\n",
    "    y=\"callsign_group\",\n",
    "    color=\"vehicle_type\"\n",
    ")"
   ]
  },
  {
   "cell_type": "code",
   "execution_count": 110,
   "metadata": {},
   "outputs": [
    {
     "data": {
      "text/html": [
       "<div>\n",
       "<style scoped>\n",
       "    .dataframe tbody tr th:only-of-type {\n",
       "        vertical-align: middle;\n",
       "    }\n",
       "\n",
       "    .dataframe tbody tr th {\n",
       "        vertical-align: top;\n",
       "    }\n",
       "\n",
       "    .dataframe thead th {\n",
       "        text-align: right;\n",
       "    }\n",
       "</style>\n",
       "<table border=\"1\" class=\"dataframe\">\n",
       "  <thead>\n",
       "    <tr style=\"text-align: right;\">\n",
       "      <th></th>\n",
       "      <th>month</th>\n",
       "      <th>callsign</th>\n",
       "      <th>jobs</th>\n",
       "      <th>callsign_group</th>\n",
       "      <th>vehicle_type</th>\n",
       "      <th>total_jobs_per_group</th>\n",
       "      <th>percentage_of_group</th>\n",
       "    </tr>\n",
       "  </thead>\n",
       "  <tbody>\n",
       "    <tr>\n",
       "      <th>0</th>\n",
       "      <td>2023-01-01</td>\n",
       "      <td>CC70</td>\n",
       "      <td>28</td>\n",
       "      <td>70</td>\n",
       "      <td>car</td>\n",
       "      <td>97</td>\n",
       "      <td>28.865979</td>\n",
       "    </tr>\n",
       "    <tr>\n",
       "      <th>1</th>\n",
       "      <td>2023-02-01</td>\n",
       "      <td>CC70</td>\n",
       "      <td>31</td>\n",
       "      <td>70</td>\n",
       "      <td>car</td>\n",
       "      <td>98</td>\n",
       "      <td>31.632653</td>\n",
       "    </tr>\n",
       "    <tr>\n",
       "      <th>2</th>\n",
       "      <td>2023-03-01</td>\n",
       "      <td>CC70</td>\n",
       "      <td>50</td>\n",
       "      <td>70</td>\n",
       "      <td>car</td>\n",
       "      <td>115</td>\n",
       "      <td>43.478261</td>\n",
       "    </tr>\n",
       "    <tr>\n",
       "      <th>3</th>\n",
       "      <td>2023-04-01</td>\n",
       "      <td>CC70</td>\n",
       "      <td>24</td>\n",
       "      <td>70</td>\n",
       "      <td>car</td>\n",
       "      <td>115</td>\n",
       "      <td>20.869565</td>\n",
       "    </tr>\n",
       "    <tr>\n",
       "      <th>4</th>\n",
       "      <td>2023-05-01</td>\n",
       "      <td>CC70</td>\n",
       "      <td>15</td>\n",
       "      <td>70</td>\n",
       "      <td>car</td>\n",
       "      <td>120</td>\n",
       "      <td>12.500000</td>\n",
       "    </tr>\n",
       "    <tr>\n",
       "      <th>...</th>\n",
       "      <td>...</td>\n",
       "      <td>...</td>\n",
       "      <td>...</td>\n",
       "      <td>...</td>\n",
       "      <td>...</td>\n",
       "      <td>...</td>\n",
       "      <td>...</td>\n",
       "    </tr>\n",
       "    <tr>\n",
       "      <th>139</th>\n",
       "      <td>2024-08-01</td>\n",
       "      <td>H71</td>\n",
       "      <td>42</td>\n",
       "      <td>71</td>\n",
       "      <td>helicopter</td>\n",
       "      <td>46</td>\n",
       "      <td>91.304348</td>\n",
       "    </tr>\n",
       "    <tr>\n",
       "      <th>140</th>\n",
       "      <td>2024-09-01</td>\n",
       "      <td>H71</td>\n",
       "      <td>2</td>\n",
       "      <td>71</td>\n",
       "      <td>helicopter</td>\n",
       "      <td>23</td>\n",
       "      <td>8.695652</td>\n",
       "    </tr>\n",
       "    <tr>\n",
       "      <th>141</th>\n",
       "      <td>2024-10-01</td>\n",
       "      <td>H71</td>\n",
       "      <td>0</td>\n",
       "      <td>71</td>\n",
       "      <td>helicopter</td>\n",
       "      <td>18</td>\n",
       "      <td>0.000000</td>\n",
       "    </tr>\n",
       "    <tr>\n",
       "      <th>142</th>\n",
       "      <td>2024-11-01</td>\n",
       "      <td>H71</td>\n",
       "      <td>17</td>\n",
       "      <td>71</td>\n",
       "      <td>helicopter</td>\n",
       "      <td>31</td>\n",
       "      <td>54.838710</td>\n",
       "    </tr>\n",
       "    <tr>\n",
       "      <th>143</th>\n",
       "      <td>2024-12-01</td>\n",
       "      <td>H71</td>\n",
       "      <td>16</td>\n",
       "      <td>71</td>\n",
       "      <td>helicopter</td>\n",
       "      <td>32</td>\n",
       "      <td>50.000000</td>\n",
       "    </tr>\n",
       "  </tbody>\n",
       "</table>\n",
       "<p>144 rows × 7 columns</p>\n",
       "</div>"
      ],
      "text/plain": [
       "         month callsign  jobs callsign_group vehicle_type  \\\n",
       "0   2023-01-01     CC70    28             70          car   \n",
       "1   2023-02-01     CC70    31             70          car   \n",
       "2   2023-03-01     CC70    50             70          car   \n",
       "3   2023-04-01     CC70    24             70          car   \n",
       "4   2023-05-01     CC70    15             70          car   \n",
       "..         ...      ...   ...            ...          ...   \n",
       "139 2024-08-01      H71    42             71   helicopter   \n",
       "140 2024-09-01      H71     2             71   helicopter   \n",
       "141 2024-10-01      H71     0             71   helicopter   \n",
       "142 2024-11-01      H71    17             71   helicopter   \n",
       "143 2024-12-01      H71    16             71   helicopter   \n",
       "\n",
       "     total_jobs_per_group  percentage_of_group  \n",
       "0                      97            28.865979  \n",
       "1                      98            31.632653  \n",
       "2                     115            43.478261  \n",
       "3                     115            20.869565  \n",
       "4                     120            12.500000  \n",
       "..                    ...                  ...  \n",
       "139                    46            91.304348  \n",
       "140                    23             8.695652  \n",
       "141                    18             0.000000  \n",
       "142                    31            54.838710  \n",
       "143                    32            50.000000  \n",
       "\n",
       "[144 rows x 7 columns]"
      ]
     },
     "execution_count": 110,
     "metadata": {},
     "output_type": "execute_result"
    }
   ],
   "source": [
    "jobs_by_callsign_long"
   ]
  },
  {
   "cell_type": "code",
   "execution_count": 120,
   "metadata": {},
   "outputs": [
    {
     "data": {
      "application/vnd.plotly.v1+json": {
       "config": {
        "plotlyServerURL": "https://plot.ly"
       },
       "data": [
        {
         "name": "Historical - car",
         "opacity": 0.6,
         "orientation": "h",
         "type": "bar",
         "x": [
          31.65997076804588,
          38.895466032773264,
          100,
          33.333333333333336
         ],
         "y": [
          "70",
          "71",
          "72",
          "73"
         ]
        },
        {
         "name": "Historical - helicopter",
         "opacity": 0.6,
         "orientation": "h",
         "type": "bar",
         "x": [
          68.34002923195412,
          61.10453396722673
         ],
         "y": [
          "70",
          "71"
         ]
        },
        {
         "name": "Simulated - car",
         "opacity": 0.6,
         "orientation": "h",
         "type": "bar",
         "x": [
          51.74491909493251,
          54.94741229741034,
          100
         ],
         "y": [
          "70",
          "71",
          "72"
         ]
        },
        {
         "name": "Simulated - helicopter",
         "opacity": 0.6,
         "orientation": "h",
         "type": "bar",
         "x": [
          48.25508090506749,
          45.05258770258966
         ],
         "y": [
          "70",
          "71"
         ]
        }
       ],
       "layout": {
        "barmode": "overlay",
        "height": 600,
        "legend": {
         "title": {
          "text": "Vehicle Type"
         }
        },
        "template": {
         "data": {
          "candlestick": [
           {
            "decreasing": {
             "line": {
              "color": "#000033"
             }
            },
            "increasing": {
             "line": {
              "color": "#000032"
             }
            },
            "type": "candlestick"
           }
          ],
          "contour": [
           {
            "colorscale": [
             [
              0,
              "#000011"
             ],
             [
              0.1111111111111111,
              "#000012"
             ],
             [
              0.2222222222222222,
              "#000013"
             ],
             [
              0.3333333333333333,
              "#000014"
             ],
             [
              0.4444444444444444,
              "#000015"
             ],
             [
              0.5555555555555556,
              "#000016"
             ],
             [
              0.6666666666666666,
              "#000017"
             ],
             [
              0.7777777777777778,
              "#000018"
             ],
             [
              0.8888888888888888,
              "#000019"
             ],
             [
              1,
              "#000020"
             ]
            ],
            "type": "contour"
           }
          ],
          "contourcarpet": [
           {
            "colorscale": [
             [
              0,
              "#000011"
             ],
             [
              0.1111111111111111,
              "#000012"
             ],
             [
              0.2222222222222222,
              "#000013"
             ],
             [
              0.3333333333333333,
              "#000014"
             ],
             [
              0.4444444444444444,
              "#000015"
             ],
             [
              0.5555555555555556,
              "#000016"
             ],
             [
              0.6666666666666666,
              "#000017"
             ],
             [
              0.7777777777777778,
              "#000018"
             ],
             [
              0.8888888888888888,
              "#000019"
             ],
             [
              1,
              "#000020"
             ]
            ],
            "type": "contourcarpet"
           }
          ],
          "heatmap": [
           {
            "colorscale": [
             [
              0,
              "#000011"
             ],
             [
              0.1111111111111111,
              "#000012"
             ],
             [
              0.2222222222222222,
              "#000013"
             ],
             [
              0.3333333333333333,
              "#000014"
             ],
             [
              0.4444444444444444,
              "#000015"
             ],
             [
              0.5555555555555556,
              "#000016"
             ],
             [
              0.6666666666666666,
              "#000017"
             ],
             [
              0.7777777777777778,
              "#000018"
             ],
             [
              0.8888888888888888,
              "#000019"
             ],
             [
              1,
              "#000020"
             ]
            ],
            "type": "heatmap"
           }
          ],
          "histogram2d": [
           {
            "colorscale": [
             [
              0,
              "#000011"
             ],
             [
              0.1111111111111111,
              "#000012"
             ],
             [
              0.2222222222222222,
              "#000013"
             ],
             [
              0.3333333333333333,
              "#000014"
             ],
             [
              0.4444444444444444,
              "#000015"
             ],
             [
              0.5555555555555556,
              "#000016"
             ],
             [
              0.6666666666666666,
              "#000017"
             ],
             [
              0.7777777777777778,
              "#000018"
             ],
             [
              0.8888888888888888,
              "#000019"
             ],
             [
              1,
              "#000020"
             ]
            ],
            "type": "histogram2d"
           }
          ],
          "icicle": [
           {
            "textfont": {
             "color": "white"
            },
            "type": "icicle"
           }
          ],
          "sankey": [
           {
            "textfont": {
             "color": "#000036"
            },
            "type": "sankey"
           }
          ],
          "scatter": [
           {
            "marker": {
             "line": {
              "width": 0
             }
            },
            "type": "scatter"
           }
          ],
          "table": [
           {
            "cells": {
             "fill": {
              "color": "#000038"
             },
             "font": {
              "color": "#000037"
             },
             "line": {
              "color": "#000039"
             }
            },
            "header": {
             "fill": {
              "color": "#000040"
             },
             "font": {
              "color": "#000036"
             },
             "line": {
              "color": "#000039"
             }
            },
            "type": "table"
           }
          ],
          "waterfall": [
           {
            "connector": {
             "line": {
              "color": "#000036",
              "width": 2
             }
            },
            "decreasing": {
             "marker": {
              "color": "#000033"
             }
            },
            "increasing": {
             "marker": {
              "color": "#000032"
             }
            },
            "totals": {
             "marker": {
              "color": "#000034"
             }
            },
            "type": "waterfall"
           }
          ]
         },
         "layout": {
          "coloraxis": {
           "colorscale": [
            [
             0,
             "#000011"
            ],
            [
             0.1111111111111111,
             "#000012"
            ],
            [
             0.2222222222222222,
             "#000013"
            ],
            [
             0.3333333333333333,
             "#000014"
            ],
            [
             0.4444444444444444,
             "#000015"
            ],
            [
             0.5555555555555556,
             "#000016"
            ],
            [
             0.6666666666666666,
             "#000017"
            ],
            [
             0.7777777777777778,
             "#000018"
            ],
            [
             0.8888888888888888,
             "#000019"
            ],
            [
             1,
             "#000020"
            ]
           ]
          },
          "colorscale": {
           "diverging": [
            [
             0,
             "#000021"
            ],
            [
             0.1,
             "#000022"
            ],
            [
             0.2,
             "#000023"
            ],
            [
             0.3,
             "#000024"
            ],
            [
             0.4,
             "#000025"
            ],
            [
             0.5,
             "#000026"
            ],
            [
             0.6,
             "#000027"
            ],
            [
             0.7,
             "#000028"
            ],
            [
             0.8,
             "#000029"
            ],
            [
             0.9,
             "#000030"
            ],
            [
             1,
             "#000031"
            ]
           ],
           "sequential": [
            [
             0,
             "#000011"
            ],
            [
             0.1111111111111111,
             "#000012"
            ],
            [
             0.2222222222222222,
             "#000013"
            ],
            [
             0.3333333333333333,
             "#000014"
            ],
            [
             0.4444444444444444,
             "#000015"
            ],
            [
             0.5555555555555556,
             "#000016"
            ],
            [
             0.6666666666666666,
             "#000017"
            ],
            [
             0.7777777777777778,
             "#000018"
            ],
            [
             0.8888888888888888,
             "#000019"
            ],
            [
             1,
             "#000020"
            ]
           ],
           "sequentialminus": [
            [
             0,
             "#000011"
            ],
            [
             0.1111111111111111,
             "#000012"
            ],
            [
             0.2222222222222222,
             "#000013"
            ],
            [
             0.3333333333333333,
             "#000014"
            ],
            [
             0.4444444444444444,
             "#000015"
            ],
            [
             0.5555555555555556,
             "#000016"
            ],
            [
             0.6666666666666666,
             "#000017"
            ],
            [
             0.7777777777777778,
             "#000018"
            ],
            [
             0.8888888888888888,
             "#000019"
            ],
            [
             1,
             "#000020"
            ]
           ]
          },
          "colorway": [
           "#000001",
           "#000002",
           "#000003",
           "#000004",
           "#000005",
           "#000006",
           "#000007",
           "#000008",
           "#000009",
           "#000010"
          ]
         }
        },
        "title": {
         "text": "Comparison of Historical and Simulated Jobs by Callsign Group"
        },
        "xaxis": {
         "title": {
          "text": "Percentage of Group"
         }
        },
        "yaxis": {
         "title": {
          "text": "Callsign Group"
         }
        }
       }
      }
     },
     "metadata": {},
     "output_type": "display_data"
    }
   ],
   "source": [
    "import plotly.graph_objects as go\n",
    "\n",
    "# First bar chart (Jobs by Callsign Group)\n",
    "fig1 = go.Figure()\n",
    "\n",
    "for vehicle in jobs_by_callsign_long[\"vehicle_type\"].unique():\n",
    "    filtered_data = jobs_by_callsign_long[\n",
    "        jobs_by_callsign_long[\"vehicle_type\"] == vehicle\n",
    "    ].groupby([\"callsign_group\", \"vehicle_type\", \"callsign\"])[[\"percentage_of_group\"]].mean().reset_index()\n",
    "\n",
    "    fig1.add_trace(go.Bar(\n",
    "        x=filtered_data[\"percentage_of_group\"],\n",
    "        y=filtered_data[\"callsign_group\"],\n",
    "        name=f\"Historical - {vehicle}\",\n",
    "        orientation='h',\n",
    "        opacity=0.6  # Makes overlapping bars visible\n",
    "    ))\n",
    "\n",
    "# Second bar chart (Simulation Averages)\n",
    "for vehicle in sim_averages[\"vehicle_type\"].unique():\n",
    "    filtered_data = sim_averages[sim_averages[\"vehicle_type\"] == vehicle]\n",
    "\n",
    "    fig1.add_trace(go.Bar(\n",
    "        x=filtered_data[\"percentage_of_group\"],\n",
    "        y=filtered_data[\"callsign_group\"],\n",
    "        name=f\"Simulated - {vehicle}\",\n",
    "        orientation='h',\n",
    "        opacity=0.6  # Same opacity for consistency\n",
    "    ))\n",
    "\n",
    "# Layout settings\n",
    "fig1.update_layout(\n",
    "    title=\"Comparison of Historical and Simulated Jobs by Callsign Group\",\n",
    "    xaxis_title=\"Percentage of Group\",\n",
    "    yaxis_title=\"Callsign Group\",\n",
    "    barmode=\"overlay\",  # Overlays bars instead of stacking\n",
    "    legend_title=\"Vehicle Type\",\n",
    "    height=600\n",
    ")\n",
    "\n",
    "fig1.show()\n"
   ]
  },
  {
   "cell_type": "code",
   "execution_count": 127,
   "metadata": {},
   "outputs": [],
   "source": [
    "from _app_utils import DAA_COLORSCHEME"
   ]
  },
  {
   "cell_type": "code",
   "execution_count": 173,
   "metadata": {},
   "outputs": [
    {
     "data": {
      "application/vnd.plotly.v1+json": {
       "config": {
        "plotlyServerURL": "https://plot.ly"
       },
       "data": [
        {
         "marker": {
          "color": "#D50032"
         },
         "name": "Simulated - car",
         "opacity": 0.6,
         "type": "bar",
         "width": 0.3,
         "x": [
          "70",
          "71",
          "72"
         ],
         "y": [
          51.74491909493251,
          54.94741229741034,
          100
         ]
        },
        {
         "marker": {
          "color": "#00205B"
         },
         "name": "Simulated - helicopter",
         "opacity": 0.6,
         "type": "bar",
         "width": 0.3,
         "x": [
          "70",
          "71"
         ],
         "y": [
          48.25508090506749,
          45.05258770258966
         ]
        },
        {
         "hoverinfo": "all",
         "line": {
          "dash": "dash"
         },
         "mode": "lines",
         "name": "Expected Level - CC70",
         "type": "scatter",
         "x": [
          69.6,
          70
         ],
         "y": [
          30.65997076804588,
          30.65997076804588
         ]
        },
        {
         "hoverinfo": "all",
         "line": {
          "dash": "dash"
         },
         "mode": "lines",
         "name": "Expected Level - CC71",
         "type": "scatter",
         "x": [
          70.6,
          71
         ],
         "y": [
          37.895466032773264,
          37.895466032773264
         ]
        },
        {
         "hoverinfo": "all",
         "line": {
          "dash": "dash"
         },
         "mode": "lines",
         "name": "Expected Level - H70",
         "type": "scatter",
         "x": [
          70,
          70.4
         ],
         "y": [
          67.34002923195412,
          67.34002923195412
         ]
        },
        {
         "hoverinfo": "all",
         "line": {
          "dash": "dash"
         },
         "mode": "lines",
         "name": "Expected Level - H71",
         "type": "scatter",
         "x": [
          71,
          71.4
         ],
         "y": [
          60.10453396722673,
          60.10453396722673
         ]
        }
       ],
       "layout": {
        "barmode": "group",
        "height": 600,
        "legend": {
         "title": {
          "text": "Vehicle Type"
         }
        },
        "template": {
         "data": {
          "candlestick": [
           {
            "decreasing": {
             "line": {
              "color": "#000033"
             }
            },
            "increasing": {
             "line": {
              "color": "#000032"
             }
            },
            "type": "candlestick"
           }
          ],
          "contour": [
           {
            "colorscale": [
             [
              0,
              "#000011"
             ],
             [
              0.1111111111111111,
              "#000012"
             ],
             [
              0.2222222222222222,
              "#000013"
             ],
             [
              0.3333333333333333,
              "#000014"
             ],
             [
              0.4444444444444444,
              "#000015"
             ],
             [
              0.5555555555555556,
              "#000016"
             ],
             [
              0.6666666666666666,
              "#000017"
             ],
             [
              0.7777777777777778,
              "#000018"
             ],
             [
              0.8888888888888888,
              "#000019"
             ],
             [
              1,
              "#000020"
             ]
            ],
            "type": "contour"
           }
          ],
          "contourcarpet": [
           {
            "colorscale": [
             [
              0,
              "#000011"
             ],
             [
              0.1111111111111111,
              "#000012"
             ],
             [
              0.2222222222222222,
              "#000013"
             ],
             [
              0.3333333333333333,
              "#000014"
             ],
             [
              0.4444444444444444,
              "#000015"
             ],
             [
              0.5555555555555556,
              "#000016"
             ],
             [
              0.6666666666666666,
              "#000017"
             ],
             [
              0.7777777777777778,
              "#000018"
             ],
             [
              0.8888888888888888,
              "#000019"
             ],
             [
              1,
              "#000020"
             ]
            ],
            "type": "contourcarpet"
           }
          ],
          "heatmap": [
           {
            "colorscale": [
             [
              0,
              "#000011"
             ],
             [
              0.1111111111111111,
              "#000012"
             ],
             [
              0.2222222222222222,
              "#000013"
             ],
             [
              0.3333333333333333,
              "#000014"
             ],
             [
              0.4444444444444444,
              "#000015"
             ],
             [
              0.5555555555555556,
              "#000016"
             ],
             [
              0.6666666666666666,
              "#000017"
             ],
             [
              0.7777777777777778,
              "#000018"
             ],
             [
              0.8888888888888888,
              "#000019"
             ],
             [
              1,
              "#000020"
             ]
            ],
            "type": "heatmap"
           }
          ],
          "histogram2d": [
           {
            "colorscale": [
             [
              0,
              "#000011"
             ],
             [
              0.1111111111111111,
              "#000012"
             ],
             [
              0.2222222222222222,
              "#000013"
             ],
             [
              0.3333333333333333,
              "#000014"
             ],
             [
              0.4444444444444444,
              "#000015"
             ],
             [
              0.5555555555555556,
              "#000016"
             ],
             [
              0.6666666666666666,
              "#000017"
             ],
             [
              0.7777777777777778,
              "#000018"
             ],
             [
              0.8888888888888888,
              "#000019"
             ],
             [
              1,
              "#000020"
             ]
            ],
            "type": "histogram2d"
           }
          ],
          "icicle": [
           {
            "textfont": {
             "color": "white"
            },
            "type": "icicle"
           }
          ],
          "sankey": [
           {
            "textfont": {
             "color": "#000036"
            },
            "type": "sankey"
           }
          ],
          "scatter": [
           {
            "marker": {
             "line": {
              "width": 0
             }
            },
            "type": "scatter"
           }
          ],
          "table": [
           {
            "cells": {
             "fill": {
              "color": "#000038"
             },
             "font": {
              "color": "#000037"
             },
             "line": {
              "color": "#000039"
             }
            },
            "header": {
             "fill": {
              "color": "#000040"
             },
             "font": {
              "color": "#000036"
             },
             "line": {
              "color": "#000039"
             }
            },
            "type": "table"
           }
          ],
          "waterfall": [
           {
            "connector": {
             "line": {
              "color": "#000036",
              "width": 2
             }
            },
            "decreasing": {
             "marker": {
              "color": "#000033"
             }
            },
            "increasing": {
             "marker": {
              "color": "#000032"
             }
            },
            "totals": {
             "marker": {
              "color": "#000034"
             }
            },
            "type": "waterfall"
           }
          ]
         },
         "layout": {
          "coloraxis": {
           "colorscale": [
            [
             0,
             "#000011"
            ],
            [
             0.1111111111111111,
             "#000012"
            ],
            [
             0.2222222222222222,
             "#000013"
            ],
            [
             0.3333333333333333,
             "#000014"
            ],
            [
             0.4444444444444444,
             "#000015"
            ],
            [
             0.5555555555555556,
             "#000016"
            ],
            [
             0.6666666666666666,
             "#000017"
            ],
            [
             0.7777777777777778,
             "#000018"
            ],
            [
             0.8888888888888888,
             "#000019"
            ],
            [
             1,
             "#000020"
            ]
           ]
          },
          "colorscale": {
           "diverging": [
            [
             0,
             "#000021"
            ],
            [
             0.1,
             "#000022"
            ],
            [
             0.2,
             "#000023"
            ],
            [
             0.3,
             "#000024"
            ],
            [
             0.4,
             "#000025"
            ],
            [
             0.5,
             "#000026"
            ],
            [
             0.6,
             "#000027"
            ],
            [
             0.7,
             "#000028"
            ],
            [
             0.8,
             "#000029"
            ],
            [
             0.9,
             "#000030"
            ],
            [
             1,
             "#000031"
            ]
           ],
           "sequential": [
            [
             0,
             "#000011"
            ],
            [
             0.1111111111111111,
             "#000012"
            ],
            [
             0.2222222222222222,
             "#000013"
            ],
            [
             0.3333333333333333,
             "#000014"
            ],
            [
             0.4444444444444444,
             "#000015"
            ],
            [
             0.5555555555555556,
             "#000016"
            ],
            [
             0.6666666666666666,
             "#000017"
            ],
            [
             0.7777777777777778,
             "#000018"
            ],
            [
             0.8888888888888888,
             "#000019"
            ],
            [
             1,
             "#000020"
            ]
           ],
           "sequentialminus": [
            [
             0,
             "#000011"
            ],
            [
             0.1111111111111111,
             "#000012"
            ],
            [
             0.2222222222222222,
             "#000013"
            ],
            [
             0.3333333333333333,
             "#000014"
            ],
            [
             0.4444444444444444,
             "#000015"
            ],
            [
             0.5555555555555556,
             "#000016"
            ],
            [
             0.6666666666666666,
             "#000017"
            ],
            [
             0.7777777777777778,
             "#000018"
            ],
            [
             0.8888888888888888,
             "#000019"
            ],
            [
             1,
             "#000020"
            ]
           ]
          },
          "colorway": [
           "#000001",
           "#000002",
           "#000003",
           "#000004",
           "#000005",
           "#000006",
           "#000007",
           "#000008",
           "#000009",
           "#000010"
          ]
         }
        },
        "title": {
         "text": "Comparison of Historical and Simulated Jobs by Callsign Group"
        },
        "xaxis": {
         "range": [
          69.5,
          72
         ],
         "tickmode": "array",
         "tickvals": [
          70,
          71,
          72
         ],
         "title": {
          "text": "Callsign Group"
         }
        },
        "yaxis": {
         "title": {
          "text": "Percentage of Group"
         }
        }
       }
      }
     },
     "metadata": {},
     "output_type": "display_data"
    }
   ],
   "source": [
    "fig = go.Figure()\n",
    "\n",
    "# Second bar chart (Simulation Averages)\n",
    "for idx, vehicle in enumerate(sim_averages[\"vehicle_type\"].unique()):\n",
    "    filtered_data = sim_averages[sim_averages[\"vehicle_type\"] == vehicle]\n",
    "\n",
    "    fig.add_trace(go.Bar(\n",
    "        y=filtered_data[\"percentage_of_group\"],\n",
    "        x=filtered_data[\"callsign_group\"],\n",
    "        name=f\"Simulated - {vehicle}\",\n",
    "        # orientation='h',\n",
    "        marker=dict(\n",
    "        color=list(DAA_COLORSCHEME.values())[idx]),\n",
    "        width=0.3,\n",
    "        opacity=0.6  # Same opacity for consistency\n",
    "    ))\n",
    "\n",
    "fig.update_layout(\n",
    "    title=\"Comparison of Historical and Simulated Jobs by Callsign Group\",\n",
    "    yaxis_title=\"Percentage of Group\",\n",
    "    xaxis_title=\"Callsign Group\",\n",
    "    barmode='group',\n",
    "    legend_title=\"Vehicle Type\",\n",
    "    height=600\n",
    ")\n",
    "\n",
    "for callsign in jobs_by_callsign_long[\"callsign\"].unique():\n",
    "    filtered_data = jobs_by_callsign_long[\n",
    "        jobs_by_callsign_long[\"callsign\"] == callsign\n",
    "    ].groupby([\"callsign_group\", \"vehicle_type\", \"callsign\"])[[\"percentage_of_group\"]].mean().reset_index()\n",
    "    if filtered_data[\"callsign_group\"].values[0] in [\"70\", \"71\"]:\n",
    "\n",
    "\n",
    "        if filtered_data[\"vehicle_type\"].values[0] == \"car\":\n",
    "            fig.add_trace(\n",
    "                go.Scatter(\n",
    "                    x = [float(filtered_data[\"callsign_group\"].values[0])-0.4, float(filtered_data[\"callsign_group\"].values[0])],\n",
    "                    y = [filtered_data['percentage_of_group'].values[0] - 1, filtered_data['percentage_of_group'].values[0] - 1],  # Width of the \"line\"\n",
    "                    # base = [filtered_data['percentage_of_group'].values[0] - 1] ,\n",
    "                    mode=\"lines\",\n",
    "                    name=f\"Expected Level - {callsign}\",\n",
    "                    hoverinfo=\"all\",\n",
    "                    line=dict(dash='dash')\n",
    "                )\n",
    "            )\n",
    "        else:\n",
    "            fig.add_trace(\n",
    "                go.Scatter(\n",
    "                    x = [float(filtered_data[\"callsign_group\"].values[0]), float(filtered_data[\"callsign_group\"].values[0])+0.4],\n",
    "                    y = [filtered_data['percentage_of_group'].values[0] - 1, filtered_data['percentage_of_group'].values[0] - 1],  # Width of the \"line\"\n",
    "                    # base = [filtered_data['percentage_of_group'].values[0] - 1] ,\n",
    "                    mode=\"lines\",\n",
    "                    name=f\"Expected Level - {callsign}\",\n",
    "                    hoverinfo=\"all\",\n",
    "                    line=dict(dash='dash')\n",
    "                )\n",
    "            )\n",
    "\n",
    "min_x = min(sim_averages[\"callsign_group\"].astype('int').values)\n",
    "max_x = max(sim_averages[\"callsign_group\"].astype('int').values)\n",
    "\n",
    "tick_vals = list(range(min_x, max_x + 1))  # Tick positions at integer values\n",
    "axis_start = min_x - 0.5  # Shift axis start by 0.5\n",
    "\n",
    "fig.update_layout(\n",
    "    xaxis=dict(\n",
    "        tickmode='array',\n",
    "        tickvals=tick_vals,  # Ensure ticks are at integer positions\n",
    "        range=[axis_start, max_x]  # Extend range to start 0.5 units earlier\n",
    "    )\n",
    ")\n"
   ]
  },
  {
   "cell_type": "code",
   "execution_count": null,
   "metadata": {},
   "outputs": [],
   "source": []
  },
  {
   "cell_type": "code",
   "execution_count": 141,
   "metadata": {},
   "outputs": [
    {
     "data": {
      "text/html": [
       "<div>\n",
       "<style scoped>\n",
       "    .dataframe tbody tr th:only-of-type {\n",
       "        vertical-align: middle;\n",
       "    }\n",
       "\n",
       "    .dataframe tbody tr th {\n",
       "        vertical-align: top;\n",
       "    }\n",
       "\n",
       "    .dataframe thead th {\n",
       "        text-align: right;\n",
       "    }\n",
       "</style>\n",
       "<table border=\"1\" class=\"dataframe\">\n",
       "  <thead>\n",
       "    <tr style=\"text-align: right;\">\n",
       "      <th></th>\n",
       "      <th>month</th>\n",
       "      <th>callsign</th>\n",
       "      <th>jobs</th>\n",
       "      <th>callsign_group</th>\n",
       "      <th>vehicle_type</th>\n",
       "      <th>total_jobs_per_group</th>\n",
       "      <th>percentage_of_group</th>\n",
       "    </tr>\n",
       "  </thead>\n",
       "  <tbody>\n",
       "    <tr>\n",
       "      <th>0</th>\n",
       "      <td>2023-01-01</td>\n",
       "      <td>CC70</td>\n",
       "      <td>28</td>\n",
       "      <td>70</td>\n",
       "      <td>car</td>\n",
       "      <td>97</td>\n",
       "      <td>28.865979</td>\n",
       "    </tr>\n",
       "    <tr>\n",
       "      <th>1</th>\n",
       "      <td>2023-02-01</td>\n",
       "      <td>CC70</td>\n",
       "      <td>31</td>\n",
       "      <td>70</td>\n",
       "      <td>car</td>\n",
       "      <td>98</td>\n",
       "      <td>31.632653</td>\n",
       "    </tr>\n",
       "    <tr>\n",
       "      <th>2</th>\n",
       "      <td>2023-03-01</td>\n",
       "      <td>CC70</td>\n",
       "      <td>50</td>\n",
       "      <td>70</td>\n",
       "      <td>car</td>\n",
       "      <td>115</td>\n",
       "      <td>43.478261</td>\n",
       "    </tr>\n",
       "    <tr>\n",
       "      <th>3</th>\n",
       "      <td>2023-04-01</td>\n",
       "      <td>CC70</td>\n",
       "      <td>24</td>\n",
       "      <td>70</td>\n",
       "      <td>car</td>\n",
       "      <td>115</td>\n",
       "      <td>20.869565</td>\n",
       "    </tr>\n",
       "    <tr>\n",
       "      <th>4</th>\n",
       "      <td>2023-05-01</td>\n",
       "      <td>CC70</td>\n",
       "      <td>15</td>\n",
       "      <td>70</td>\n",
       "      <td>car</td>\n",
       "      <td>120</td>\n",
       "      <td>12.500000</td>\n",
       "    </tr>\n",
       "    <tr>\n",
       "      <th>...</th>\n",
       "      <td>...</td>\n",
       "      <td>...</td>\n",
       "      <td>...</td>\n",
       "      <td>...</td>\n",
       "      <td>...</td>\n",
       "      <td>...</td>\n",
       "      <td>...</td>\n",
       "    </tr>\n",
       "    <tr>\n",
       "      <th>139</th>\n",
       "      <td>2024-08-01</td>\n",
       "      <td>H71</td>\n",
       "      <td>42</td>\n",
       "      <td>71</td>\n",
       "      <td>helicopter</td>\n",
       "      <td>46</td>\n",
       "      <td>91.304348</td>\n",
       "    </tr>\n",
       "    <tr>\n",
       "      <th>140</th>\n",
       "      <td>2024-09-01</td>\n",
       "      <td>H71</td>\n",
       "      <td>2</td>\n",
       "      <td>71</td>\n",
       "      <td>helicopter</td>\n",
       "      <td>23</td>\n",
       "      <td>8.695652</td>\n",
       "    </tr>\n",
       "    <tr>\n",
       "      <th>141</th>\n",
       "      <td>2024-10-01</td>\n",
       "      <td>H71</td>\n",
       "      <td>0</td>\n",
       "      <td>71</td>\n",
       "      <td>helicopter</td>\n",
       "      <td>18</td>\n",
       "      <td>0.000000</td>\n",
       "    </tr>\n",
       "    <tr>\n",
       "      <th>142</th>\n",
       "      <td>2024-11-01</td>\n",
       "      <td>H71</td>\n",
       "      <td>17</td>\n",
       "      <td>71</td>\n",
       "      <td>helicopter</td>\n",
       "      <td>31</td>\n",
       "      <td>54.838710</td>\n",
       "    </tr>\n",
       "    <tr>\n",
       "      <th>143</th>\n",
       "      <td>2024-12-01</td>\n",
       "      <td>H71</td>\n",
       "      <td>16</td>\n",
       "      <td>71</td>\n",
       "      <td>helicopter</td>\n",
       "      <td>32</td>\n",
       "      <td>50.000000</td>\n",
       "    </tr>\n",
       "  </tbody>\n",
       "</table>\n",
       "<p>144 rows × 7 columns</p>\n",
       "</div>"
      ],
      "text/plain": [
       "         month callsign  jobs callsign_group vehicle_type  \\\n",
       "0   2023-01-01     CC70    28             70          car   \n",
       "1   2023-02-01     CC70    31             70          car   \n",
       "2   2023-03-01     CC70    50             70          car   \n",
       "3   2023-04-01     CC70    24             70          car   \n",
       "4   2023-05-01     CC70    15             70          car   \n",
       "..         ...      ...   ...            ...          ...   \n",
       "139 2024-08-01      H71    42             71   helicopter   \n",
       "140 2024-09-01      H71     2             71   helicopter   \n",
       "141 2024-10-01      H71     0             71   helicopter   \n",
       "142 2024-11-01      H71    17             71   helicopter   \n",
       "143 2024-12-01      H71    16             71   helicopter   \n",
       "\n",
       "     total_jobs_per_group  percentage_of_group  \n",
       "0                      97            28.865979  \n",
       "1                      98            31.632653  \n",
       "2                     115            43.478261  \n",
       "3                     115            20.869565  \n",
       "4                     120            12.500000  \n",
       "..                    ...                  ...  \n",
       "139                    46            91.304348  \n",
       "140                    23             8.695652  \n",
       "141                    18             0.000000  \n",
       "142                    31            54.838710  \n",
       "143                    32            50.000000  \n",
       "\n",
       "[144 rows x 7 columns]"
      ]
     },
     "execution_count": 141,
     "metadata": {},
     "output_type": "execute_result"
    }
   ],
   "source": [
    "jobs_by_callsign_long"
   ]
  },
  {
   "cell_type": "code",
   "execution_count": 170,
   "metadata": {},
   "outputs": [
    {
     "data": {
      "text/html": [
       "<div>\n",
       "<style scoped>\n",
       "    .dataframe tbody tr th:only-of-type {\n",
       "        vertical-align: middle;\n",
       "    }\n",
       "\n",
       "    .dataframe tbody tr th {\n",
       "        vertical-align: top;\n",
       "    }\n",
       "\n",
       "    .dataframe thead th {\n",
       "        text-align: right;\n",
       "    }\n",
       "</style>\n",
       "<table border=\"1\" class=\"dataframe\">\n",
       "  <thead>\n",
       "    <tr style=\"text-align: right;\">\n",
       "      <th></th>\n",
       "      <th>month</th>\n",
       "      <th>callsign</th>\n",
       "      <th>jobs</th>\n",
       "      <th>callsign_group</th>\n",
       "      <th>vehicle_type</th>\n",
       "      <th>total_jobs_per_group</th>\n",
       "      <th>percentage_of_group</th>\n",
       "    </tr>\n",
       "  </thead>\n",
       "  <tbody>\n",
       "    <tr>\n",
       "      <th>0</th>\n",
       "      <td>2023-01-01</td>\n",
       "      <td>CC70</td>\n",
       "      <td>28</td>\n",
       "      <td>70</td>\n",
       "      <td>car</td>\n",
       "      <td>97</td>\n",
       "      <td>28.865979</td>\n",
       "    </tr>\n",
       "    <tr>\n",
       "      <th>1</th>\n",
       "      <td>2023-01-01</td>\n",
       "      <td>CC71</td>\n",
       "      <td>4</td>\n",
       "      <td>71</td>\n",
       "      <td>car</td>\n",
       "      <td>33</td>\n",
       "      <td>12.121212</td>\n",
       "    </tr>\n",
       "    <tr>\n",
       "      <th>2</th>\n",
       "      <td>2023-01-01</td>\n",
       "      <td>CC72</td>\n",
       "      <td>29</td>\n",
       "      <td>72</td>\n",
       "      <td>car</td>\n",
       "      <td>29</td>\n",
       "      <td>100.000000</td>\n",
       "    </tr>\n",
       "    <tr>\n",
       "      <th>3</th>\n",
       "      <td>2023-01-01</td>\n",
       "      <td>CC73</td>\n",
       "      <td>0</td>\n",
       "      <td>73</td>\n",
       "      <td>car</td>\n",
       "      <td>0</td>\n",
       "      <td>0.000000</td>\n",
       "    </tr>\n",
       "    <tr>\n",
       "      <th>4</th>\n",
       "      <td>2023-01-01</td>\n",
       "      <td>H70</td>\n",
       "      <td>69</td>\n",
       "      <td>70</td>\n",
       "      <td>helicopter</td>\n",
       "      <td>97</td>\n",
       "      <td>71.134021</td>\n",
       "    </tr>\n",
       "    <tr>\n",
       "      <th>...</th>\n",
       "      <td>...</td>\n",
       "      <td>...</td>\n",
       "      <td>...</td>\n",
       "      <td>...</td>\n",
       "      <td>...</td>\n",
       "      <td>...</td>\n",
       "      <td>...</td>\n",
       "    </tr>\n",
       "    <tr>\n",
       "      <th>139</th>\n",
       "      <td>2024-12-01</td>\n",
       "      <td>CC71</td>\n",
       "      <td>16</td>\n",
       "      <td>71</td>\n",
       "      <td>car</td>\n",
       "      <td>32</td>\n",
       "      <td>50.000000</td>\n",
       "    </tr>\n",
       "    <tr>\n",
       "      <th>140</th>\n",
       "      <td>2024-12-01</td>\n",
       "      <td>CC72</td>\n",
       "      <td>28</td>\n",
       "      <td>72</td>\n",
       "      <td>car</td>\n",
       "      <td>28</td>\n",
       "      <td>100.000000</td>\n",
       "    </tr>\n",
       "    <tr>\n",
       "      <th>141</th>\n",
       "      <td>2024-12-01</td>\n",
       "      <td>CC73</td>\n",
       "      <td>1</td>\n",
       "      <td>73</td>\n",
       "      <td>car</td>\n",
       "      <td>1</td>\n",
       "      <td>100.000000</td>\n",
       "    </tr>\n",
       "    <tr>\n",
       "      <th>142</th>\n",
       "      <td>2024-12-01</td>\n",
       "      <td>H70</td>\n",
       "      <td>52</td>\n",
       "      <td>70</td>\n",
       "      <td>helicopter</td>\n",
       "      <td>104</td>\n",
       "      <td>50.000000</td>\n",
       "    </tr>\n",
       "    <tr>\n",
       "      <th>143</th>\n",
       "      <td>2024-12-01</td>\n",
       "      <td>H71</td>\n",
       "      <td>16</td>\n",
       "      <td>71</td>\n",
       "      <td>helicopter</td>\n",
       "      <td>32</td>\n",
       "      <td>50.000000</td>\n",
       "    </tr>\n",
       "  </tbody>\n",
       "</table>\n",
       "<p>144 rows × 7 columns</p>\n",
       "</div>"
      ],
      "text/plain": [
       "         month callsign  jobs callsign_group vehicle_type  \\\n",
       "0   2023-01-01     CC70    28             70          car   \n",
       "1   2023-01-01     CC71     4             71          car   \n",
       "2   2023-01-01     CC72    29             72          car   \n",
       "3   2023-01-01     CC73     0             73          car   \n",
       "4   2023-01-01      H70    69             70   helicopter   \n",
       "..         ...      ...   ...            ...          ...   \n",
       "139 2024-12-01     CC71    16             71          car   \n",
       "140 2024-12-01     CC72    28             72          car   \n",
       "141 2024-12-01     CC73     1             73          car   \n",
       "142 2024-12-01      H70    52             70   helicopter   \n",
       "143 2024-12-01      H71    16             71   helicopter   \n",
       "\n",
       "     total_jobs_per_group  percentage_of_group  \n",
       "0                      97            28.865979  \n",
       "1                      33            12.121212  \n",
       "2                      29           100.000000  \n",
       "3                       0             0.000000  \n",
       "4                      97            71.134021  \n",
       "..                    ...                  ...  \n",
       "139                    32            50.000000  \n",
       "140                    28           100.000000  \n",
       "141                     1           100.000000  \n",
       "142                   104            50.000000  \n",
       "143                    32            50.000000  \n",
       "\n",
       "[144 rows x 7 columns]"
      ]
     },
     "execution_count": 170,
     "metadata": {},
     "output_type": "execute_result"
    }
   ],
   "source": [
    "all_combinations = pd.MultiIndex.from_product([\n",
    "        jobs_by_callsign_long[\"month\"].unique(),\n",
    "        jobs_by_callsign_long[\"callsign\"].unique()\n",
    "    ], names=[\"month\", \"callsign\"])\n",
    "\n",
    "# Reindex the dataframe to include missing callsigns\n",
    "jobs_by_callsign_long = jobs_by_callsign_long.set_index(\n",
    "    [\"month\", \"callsign\"]\n",
    ").reindex(all_combinations, fill_value=0).reset_index()\n",
    "\n",
    "jobs_by_callsign_long"
   ]
  },
  {
   "cell_type": "code",
   "execution_count": 188,
   "metadata": {},
   "outputs": [],
   "source": [
    "# from _app_utils import q10, q90\n",
    "\n",
    "# 90th Percentile\n",
    "def q90(x):\n",
    "    return x.quantile(0.9)\n",
    "\n",
    "# 90th Percentile\n",
    "def q10(x):\n",
    "    return x.quantile(0.1)\n",
    "\n",
    "\n",
    "# 90th Percentile\n",
    "def q75(x):\n",
    "    return x.quantile(0.75)\n",
    "\n",
    "# 90th Percentile\n",
    "def q25(x):\n",
    "    return x.quantile(0.25)\n"
   ]
  },
  {
   "cell_type": "code",
   "execution_count": 189,
   "metadata": {},
   "outputs": [
    {
     "data": {
      "text/html": [
       "<div>\n",
       "<style scoped>\n",
       "    .dataframe tbody tr th:only-of-type {\n",
       "        vertical-align: middle;\n",
       "    }\n",
       "\n",
       "    .dataframe tbody tr th {\n",
       "        vertical-align: top;\n",
       "    }\n",
       "\n",
       "    .dataframe thead th {\n",
       "        text-align: right;\n",
       "    }\n",
       "</style>\n",
       "<table border=\"1\" class=\"dataframe\">\n",
       "  <thead>\n",
       "    <tr style=\"text-align: right;\">\n",
       "      <th></th>\n",
       "      <th>q25</th>\n",
       "      <th>q75</th>\n",
       "    </tr>\n",
       "    <tr>\n",
       "      <th>callsign</th>\n",
       "      <th></th>\n",
       "      <th></th>\n",
       "    </tr>\n",
       "  </thead>\n",
       "  <tbody>\n",
       "    <tr>\n",
       "      <th>CC70</th>\n",
       "      <td>24.613139</td>\n",
       "      <td>38.981738</td>\n",
       "    </tr>\n",
       "    <tr>\n",
       "      <th>CC71</th>\n",
       "      <td>11.997886</td>\n",
       "      <td>53.524492</td>\n",
       "    </tr>\n",
       "    <tr>\n",
       "      <th>CC72</th>\n",
       "      <td>100.000000</td>\n",
       "      <td>100.000000</td>\n",
       "    </tr>\n",
       "    <tr>\n",
       "      <th>CC73</th>\n",
       "      <td>0.000000</td>\n",
       "      <td>100.000000</td>\n",
       "    </tr>\n",
       "    <tr>\n",
       "      <th>H70</th>\n",
       "      <td>61.018262</td>\n",
       "      <td>75.386861</td>\n",
       "    </tr>\n",
       "    <tr>\n",
       "      <th>H71</th>\n",
       "      <td>46.475508</td>\n",
       "      <td>88.002114</td>\n",
       "    </tr>\n",
       "  </tbody>\n",
       "</table>\n",
       "</div>"
      ],
      "text/plain": [
       "                 q25         q75\n",
       "callsign                        \n",
       "CC70       24.613139   38.981738\n",
       "CC71       11.997886   53.524492\n",
       "CC72      100.000000  100.000000\n",
       "CC73        0.000000  100.000000\n",
       "H70        61.018262   75.386861\n",
       "H71        46.475508   88.002114"
      ]
     },
     "execution_count": 189,
     "metadata": {},
     "output_type": "execute_result"
    }
   ],
   "source": [
    "jobs_by_callsign_long.groupby(['month', 'callsign'])['percentage_of_group'].mean().reset_index().groupby('callsign')['percentage_of_group'].agg([q25, q75])"
   ]
  },
  {
   "cell_type": "markdown",
   "metadata": {},
   "source": [
    "## BREAK"
   ]
  },
  {
   "cell_type": "code",
   "execution_count": 190,
   "metadata": {},
   "outputs": [
    {
     "data": {
      "application/vnd.plotly.v1+json": {
       "config": {
        "plotlyServerURL": "https://plot.ly"
       },
       "data": [
        {
         "alignmentgroup": "True",
         "hovertemplate": "vehicle_type=car<br>percentage_of_group=%{x}<br>callsign_group=%{y}<extra></extra>",
         "legendgroup": "car",
         "marker": {
          "color": "#000001",
          "pattern": {
           "shape": ""
          }
         },
         "name": "car",
         "offsetgroup": "car",
         "orientation": "h",
         "showlegend": true,
         "textposition": "auto",
         "type": "bar",
         "x": [
          51.74491909493251,
          54.94741229741034,
          100
         ],
         "xaxis": "x",
         "y": [
          "70",
          "71",
          "72"
         ],
         "yaxis": "y"
        },
        {
         "alignmentgroup": "True",
         "hovertemplate": "vehicle_type=helicopter<br>percentage_of_group=%{x}<br>callsign_group=%{y}<extra></extra>",
         "legendgroup": "helicopter",
         "marker": {
          "color": "#000002",
          "pattern": {
           "shape": ""
          }
         },
         "name": "helicopter",
         "offsetgroup": "helicopter",
         "orientation": "h",
         "showlegend": true,
         "textposition": "auto",
         "type": "bar",
         "x": [
          48.25508090506749,
          45.05258770258966
         ],
         "xaxis": "x",
         "y": [
          "70",
          "71"
         ],
         "yaxis": "y"
        }
       ],
       "layout": {
        "barmode": "relative",
        "legend": {
         "title": {
          "text": "vehicle_type"
         },
         "tracegroupgap": 0
        },
        "margin": {
         "t": 60
        },
        "template": {
         "data": {
          "candlestick": [
           {
            "decreasing": {
             "line": {
              "color": "#000033"
             }
            },
            "increasing": {
             "line": {
              "color": "#000032"
             }
            },
            "type": "candlestick"
           }
          ],
          "contour": [
           {
            "colorscale": [
             [
              0,
              "#000011"
             ],
             [
              0.1111111111111111,
              "#000012"
             ],
             [
              0.2222222222222222,
              "#000013"
             ],
             [
              0.3333333333333333,
              "#000014"
             ],
             [
              0.4444444444444444,
              "#000015"
             ],
             [
              0.5555555555555556,
              "#000016"
             ],
             [
              0.6666666666666666,
              "#000017"
             ],
             [
              0.7777777777777778,
              "#000018"
             ],
             [
              0.8888888888888888,
              "#000019"
             ],
             [
              1,
              "#000020"
             ]
            ],
            "type": "contour"
           }
          ],
          "contourcarpet": [
           {
            "colorscale": [
             [
              0,
              "#000011"
             ],
             [
              0.1111111111111111,
              "#000012"
             ],
             [
              0.2222222222222222,
              "#000013"
             ],
             [
              0.3333333333333333,
              "#000014"
             ],
             [
              0.4444444444444444,
              "#000015"
             ],
             [
              0.5555555555555556,
              "#000016"
             ],
             [
              0.6666666666666666,
              "#000017"
             ],
             [
              0.7777777777777778,
              "#000018"
             ],
             [
              0.8888888888888888,
              "#000019"
             ],
             [
              1,
              "#000020"
             ]
            ],
            "type": "contourcarpet"
           }
          ],
          "heatmap": [
           {
            "colorscale": [
             [
              0,
              "#000011"
             ],
             [
              0.1111111111111111,
              "#000012"
             ],
             [
              0.2222222222222222,
              "#000013"
             ],
             [
              0.3333333333333333,
              "#000014"
             ],
             [
              0.4444444444444444,
              "#000015"
             ],
             [
              0.5555555555555556,
              "#000016"
             ],
             [
              0.6666666666666666,
              "#000017"
             ],
             [
              0.7777777777777778,
              "#000018"
             ],
             [
              0.8888888888888888,
              "#000019"
             ],
             [
              1,
              "#000020"
             ]
            ],
            "type": "heatmap"
           }
          ],
          "histogram2d": [
           {
            "colorscale": [
             [
              0,
              "#000011"
             ],
             [
              0.1111111111111111,
              "#000012"
             ],
             [
              0.2222222222222222,
              "#000013"
             ],
             [
              0.3333333333333333,
              "#000014"
             ],
             [
              0.4444444444444444,
              "#000015"
             ],
             [
              0.5555555555555556,
              "#000016"
             ],
             [
              0.6666666666666666,
              "#000017"
             ],
             [
              0.7777777777777778,
              "#000018"
             ],
             [
              0.8888888888888888,
              "#000019"
             ],
             [
              1,
              "#000020"
             ]
            ],
            "type": "histogram2d"
           }
          ],
          "icicle": [
           {
            "textfont": {
             "color": "white"
            },
            "type": "icicle"
           }
          ],
          "sankey": [
           {
            "textfont": {
             "color": "#000036"
            },
            "type": "sankey"
           }
          ],
          "scatter": [
           {
            "marker": {
             "line": {
              "width": 0
             }
            },
            "type": "scatter"
           }
          ],
          "table": [
           {
            "cells": {
             "fill": {
              "color": "#000038"
             },
             "font": {
              "color": "#000037"
             },
             "line": {
              "color": "#000039"
             }
            },
            "header": {
             "fill": {
              "color": "#000040"
             },
             "font": {
              "color": "#000036"
             },
             "line": {
              "color": "#000039"
             }
            },
            "type": "table"
           }
          ],
          "waterfall": [
           {
            "connector": {
             "line": {
              "color": "#000036",
              "width": 2
             }
            },
            "decreasing": {
             "marker": {
              "color": "#000033"
             }
            },
            "increasing": {
             "marker": {
              "color": "#000032"
             }
            },
            "totals": {
             "marker": {
              "color": "#000034"
             }
            },
            "type": "waterfall"
           }
          ]
         },
         "layout": {
          "coloraxis": {
           "colorscale": [
            [
             0,
             "#000011"
            ],
            [
             0.1111111111111111,
             "#000012"
            ],
            [
             0.2222222222222222,
             "#000013"
            ],
            [
             0.3333333333333333,
             "#000014"
            ],
            [
             0.4444444444444444,
             "#000015"
            ],
            [
             0.5555555555555556,
             "#000016"
            ],
            [
             0.6666666666666666,
             "#000017"
            ],
            [
             0.7777777777777778,
             "#000018"
            ],
            [
             0.8888888888888888,
             "#000019"
            ],
            [
             1,
             "#000020"
            ]
           ]
          },
          "colorscale": {
           "diverging": [
            [
             0,
             "#000021"
            ],
            [
             0.1,
             "#000022"
            ],
            [
             0.2,
             "#000023"
            ],
            [
             0.3,
             "#000024"
            ],
            [
             0.4,
             "#000025"
            ],
            [
             0.5,
             "#000026"
            ],
            [
             0.6,
             "#000027"
            ],
            [
             0.7,
             "#000028"
            ],
            [
             0.8,
             "#000029"
            ],
            [
             0.9,
             "#000030"
            ],
            [
             1,
             "#000031"
            ]
           ],
           "sequential": [
            [
             0,
             "#000011"
            ],
            [
             0.1111111111111111,
             "#000012"
            ],
            [
             0.2222222222222222,
             "#000013"
            ],
            [
             0.3333333333333333,
             "#000014"
            ],
            [
             0.4444444444444444,
             "#000015"
            ],
            [
             0.5555555555555556,
             "#000016"
            ],
            [
             0.6666666666666666,
             "#000017"
            ],
            [
             0.7777777777777778,
             "#000018"
            ],
            [
             0.8888888888888888,
             "#000019"
            ],
            [
             1,
             "#000020"
            ]
           ],
           "sequentialminus": [
            [
             0,
             "#000011"
            ],
            [
             0.1111111111111111,
             "#000012"
            ],
            [
             0.2222222222222222,
             "#000013"
            ],
            [
             0.3333333333333333,
             "#000014"
            ],
            [
             0.4444444444444444,
             "#000015"
            ],
            [
             0.5555555555555556,
             "#000016"
            ],
            [
             0.6666666666666666,
             "#000017"
            ],
            [
             0.7777777777777778,
             "#000018"
            ],
            [
             0.8888888888888888,
             "#000019"
            ],
            [
             1,
             "#000020"
            ]
           ]
          },
          "colorway": [
           "#000001",
           "#000002",
           "#000003",
           "#000004",
           "#000005",
           "#000006",
           "#000007",
           "#000008",
           "#000009",
           "#000010"
          ]
         }
        },
        "xaxis": {
         "anchor": "y",
         "domain": [
          0,
          1
         ],
         "title": {
          "text": "percentage_of_group"
         }
        },
        "yaxis": {
         "anchor": "x",
         "domain": [
          0,
          1
         ],
         "title": {
          "text": "callsign_group"
         }
        }
       }
      }
     },
     "metadata": {},
     "output_type": "display_data"
    }
   ],
   "source": [
    "px.bar(\n",
    "    sim_averages,\n",
    "    x=\"percentage_of_group\",\n",
    "    y=\"callsign_group\",\n",
    "    color=\"vehicle_type\"\n",
    ")"
   ]
  },
  {
   "cell_type": "code",
   "execution_count": 192,
   "metadata": {},
   "outputs": [
    {
     "data": {
      "text/html": [
       "<div>\n",
       "<style scoped>\n",
       "    .dataframe tbody tr th:only-of-type {\n",
       "        vertical-align: middle;\n",
       "    }\n",
       "\n",
       "    .dataframe tbody tr th {\n",
       "        vertical-align: top;\n",
       "    }\n",
       "\n",
       "    .dataframe thead th {\n",
       "        text-align: right;\n",
       "    }\n",
       "</style>\n",
       "<table border=\"1\" class=\"dataframe\">\n",
       "  <thead>\n",
       "    <tr style=\"text-align: right;\">\n",
       "      <th></th>\n",
       "      <th>month_start</th>\n",
       "      <th>run_number</th>\n",
       "      <th>callsign</th>\n",
       "      <th>callsign_group</th>\n",
       "      <th>vehicle_type</th>\n",
       "      <th>jobs</th>\n",
       "      <th>total_jobs_per_group</th>\n",
       "      <th>percentage_of_group</th>\n",
       "    </tr>\n",
       "  </thead>\n",
       "  <tbody>\n",
       "    <tr>\n",
       "      <th>0</th>\n",
       "      <td>2025-02-01</td>\n",
       "      <td>1</td>\n",
       "      <td>C70</td>\n",
       "      <td>70</td>\n",
       "      <td>car</td>\n",
       "      <td>5</td>\n",
       "      <td>26</td>\n",
       "      <td>19.230769</td>\n",
       "    </tr>\n",
       "    <tr>\n",
       "      <th>1</th>\n",
       "      <td>2025-02-01</td>\n",
       "      <td>1</td>\n",
       "      <td>C71</td>\n",
       "      <td>71</td>\n",
       "      <td>car</td>\n",
       "      <td>7</td>\n",
       "      <td>7</td>\n",
       "      <td>100.000000</td>\n",
       "    </tr>\n",
       "    <tr>\n",
       "      <th>2</th>\n",
       "      <td>2025-02-01</td>\n",
       "      <td>1</td>\n",
       "      <td>C72</td>\n",
       "      <td>72</td>\n",
       "      <td>car</td>\n",
       "      <td>4</td>\n",
       "      <td>4</td>\n",
       "      <td>100.000000</td>\n",
       "    </tr>\n",
       "    <tr>\n",
       "      <th>3</th>\n",
       "      <td>2025-02-01</td>\n",
       "      <td>1</td>\n",
       "      <td>H70</td>\n",
       "      <td>70</td>\n",
       "      <td>helicopter</td>\n",
       "      <td>21</td>\n",
       "      <td>26</td>\n",
       "      <td>80.769231</td>\n",
       "    </tr>\n",
       "    <tr>\n",
       "      <th>4</th>\n",
       "      <td>2025-02-01</td>\n",
       "      <td>1</td>\n",
       "      <td>H71</td>\n",
       "      <td>71</td>\n",
       "      <td>helicopter</td>\n",
       "      <td>0</td>\n",
       "      <td>7</td>\n",
       "      <td>0.000000</td>\n",
       "    </tr>\n",
       "    <tr>\n",
       "      <th>...</th>\n",
       "      <td>...</td>\n",
       "      <td>...</td>\n",
       "      <td>...</td>\n",
       "      <td>...</td>\n",
       "      <td>...</td>\n",
       "      <td>...</td>\n",
       "      <td>...</td>\n",
       "      <td>...</td>\n",
       "    </tr>\n",
       "    <tr>\n",
       "      <th>1295</th>\n",
       "      <td>2026-02-01</td>\n",
       "      <td>20</td>\n",
       "      <td>C70</td>\n",
       "      <td>70</td>\n",
       "      <td>car</td>\n",
       "      <td>26</td>\n",
       "      <td>55</td>\n",
       "      <td>47.272727</td>\n",
       "    </tr>\n",
       "    <tr>\n",
       "      <th>1296</th>\n",
       "      <td>2026-02-01</td>\n",
       "      <td>20</td>\n",
       "      <td>C71</td>\n",
       "      <td>71</td>\n",
       "      <td>car</td>\n",
       "      <td>10</td>\n",
       "      <td>19</td>\n",
       "      <td>52.631579</td>\n",
       "    </tr>\n",
       "    <tr>\n",
       "      <th>1297</th>\n",
       "      <td>2026-02-01</td>\n",
       "      <td>20</td>\n",
       "      <td>C72</td>\n",
       "      <td>72</td>\n",
       "      <td>car</td>\n",
       "      <td>3</td>\n",
       "      <td>3</td>\n",
       "      <td>100.000000</td>\n",
       "    </tr>\n",
       "    <tr>\n",
       "      <th>1298</th>\n",
       "      <td>2026-02-01</td>\n",
       "      <td>20</td>\n",
       "      <td>H70</td>\n",
       "      <td>70</td>\n",
       "      <td>helicopter</td>\n",
       "      <td>29</td>\n",
       "      <td>55</td>\n",
       "      <td>52.727273</td>\n",
       "    </tr>\n",
       "    <tr>\n",
       "      <th>1299</th>\n",
       "      <td>2026-02-01</td>\n",
       "      <td>20</td>\n",
       "      <td>H71</td>\n",
       "      <td>71</td>\n",
       "      <td>helicopter</td>\n",
       "      <td>9</td>\n",
       "      <td>19</td>\n",
       "      <td>47.368421</td>\n",
       "    </tr>\n",
       "  </tbody>\n",
       "</table>\n",
       "<p>1300 rows × 8 columns</p>\n",
       "</div>"
      ],
      "text/plain": [
       "     month_start  run_number callsign callsign_group vehicle_type  jobs  \\\n",
       "0     2025-02-01           1      C70             70          car     5   \n",
       "1     2025-02-01           1      C71             71          car     7   \n",
       "2     2025-02-01           1      C72             72          car     4   \n",
       "3     2025-02-01           1      H70             70   helicopter    21   \n",
       "4     2025-02-01           1      H71             71   helicopter     0   \n",
       "...          ...         ...      ...            ...          ...   ...   \n",
       "1295  2026-02-01          20      C70             70          car    26   \n",
       "1296  2026-02-01          20      C71             71          car    10   \n",
       "1297  2026-02-01          20      C72             72          car     3   \n",
       "1298  2026-02-01          20      H70             70   helicopter    29   \n",
       "1299  2026-02-01          20      H71             71   helicopter     9   \n",
       "\n",
       "      total_jobs_per_group  percentage_of_group  \n",
       "0                       26            19.230769  \n",
       "1                        7           100.000000  \n",
       "2                        4           100.000000  \n",
       "3                       26            80.769231  \n",
       "4                        7             0.000000  \n",
       "...                    ...                  ...  \n",
       "1295                    55            47.272727  \n",
       "1296                    19            52.631579  \n",
       "1297                     3           100.000000  \n",
       "1298                    55            52.727273  \n",
       "1299                    19            47.368421  \n",
       "\n",
       "[1300 rows x 8 columns]"
      ]
     },
     "execution_count": 192,
     "metadata": {},
     "output_type": "execute_result"
    }
   ],
   "source": [
    "jobs_counts_by_callsign_monthly_sim"
   ]
  },
  {
   "cell_type": "code",
   "execution_count": 206,
   "metadata": {},
   "outputs": [
    {
     "data": {
      "text/html": [
       "<div>\n",
       "<style scoped>\n",
       "    .dataframe tbody tr th:only-of-type {\n",
       "        vertical-align: middle;\n",
       "    }\n",
       "\n",
       "    .dataframe tbody tr th {\n",
       "        vertical-align: top;\n",
       "    }\n",
       "\n",
       "    .dataframe thead th {\n",
       "        text-align: right;\n",
       "    }\n",
       "</style>\n",
       "<table border=\"1\" class=\"dataframe\">\n",
       "  <thead>\n",
       "    <tr style=\"text-align: right;\">\n",
       "      <th></th>\n",
       "      <th>callsign_group</th>\n",
       "      <th>count</th>\n",
       "    </tr>\n",
       "  </thead>\n",
       "  <tbody>\n",
       "    <tr>\n",
       "      <th>0</th>\n",
       "      <td>70</td>\n",
       "      <td>2</td>\n",
       "    </tr>\n",
       "    <tr>\n",
       "      <th>1</th>\n",
       "      <td>71</td>\n",
       "      <td>2</td>\n",
       "    </tr>\n",
       "    <tr>\n",
       "      <th>2</th>\n",
       "      <td>72</td>\n",
       "      <td>1</td>\n",
       "    </tr>\n",
       "  </tbody>\n",
       "</table>\n",
       "</div>"
      ],
      "text/plain": [
       "  callsign_group  count\n",
       "0             70      2\n",
       "1             71      2\n",
       "2             72      1"
      ]
     },
     "execution_count": 206,
     "metadata": {},
     "output_type": "execute_result"
    }
   ],
   "source": [
    "jobs_counts_by_callsign_monthly_sim.drop_duplicates(['callsign_group', 'callsign'])['callsign_group'].value_counts().reset_index()"
   ]
  },
  {
   "cell_type": "code",
   "execution_count": 234,
   "metadata": {},
   "outputs": [
    {
     "data": {
      "application/vnd.plotly.v1+json": {
       "config": {
        "plotlyServerURL": "https://plot.ly"
       },
       "data": [
        {
         "alignmentgroup": "True",
         "hovertemplate": "vehicle_type=car<br>run_number=1<br>callsign_group=70<br>month_start=%{x}<br>percentage_of_group=%{y}<extra></extra>",
         "legendgroup": "car",
         "marker": {
          "color": "#D50032",
          "pattern": {
           "shape": ""
          }
         },
         "name": "car",
         "offsetgroup": "car",
         "orientation": "v",
         "showlegend": true,
         "textposition": "auto",
         "type": "bar",
         "width": 2678400000,
         "x": [
          "2025-02-01T00:00:00",
          "2025-03-01T00:00:00",
          "2025-04-01T00:00:00",
          "2025-05-01T00:00:00",
          "2025-06-01T00:00:00",
          "2025-07-01T00:00:00",
          "2025-08-01T00:00:00",
          "2025-09-01T00:00:00",
          "2025-10-01T00:00:00",
          "2025-11-01T00:00:00",
          "2025-12-01T00:00:00",
          "2026-01-01T00:00:00",
          "2026-02-01T00:00:00"
         ],
         "xaxis": "x9",
         "y": [
          19.230769230769234,
          61.904761904761905,
          56.52173913043478,
          44.086021505376344,
          45.45454545454545,
          40.42553191489361,
          39.75903614457831,
          34.61538461538461,
          44.927536231884055,
          54.794520547945204,
          87.5,
          77.10843373493977,
          81.25
         ],
         "yaxis": "y9"
        },
        {
         "alignmentgroup": "True",
         "hovertemplate": "vehicle_type=car<br>run_number=1<br>callsign_group=71<br>month_start=%{x}<br>percentage_of_group=%{y}<extra></extra>",
         "legendgroup": "car",
         "marker": {
          "color": "#D50032",
          "pattern": {
           "shape": ""
          }
         },
         "name": "car",
         "offsetgroup": "car",
         "orientation": "v",
         "showlegend": false,
         "textposition": "auto",
         "type": "bar",
         "width": 2678400000,
         "x": [
          "2025-02-01T00:00:00",
          "2025-03-01T00:00:00",
          "2025-04-01T00:00:00",
          "2025-05-01T00:00:00",
          "2025-06-01T00:00:00",
          "2025-07-01T00:00:00",
          "2025-08-01T00:00:00",
          "2025-09-01T00:00:00",
          "2025-10-01T00:00:00",
          "2025-11-01T00:00:00",
          "2025-12-01T00:00:00",
          "2026-01-01T00:00:00",
          "2026-02-01T00:00:00"
         ],
         "xaxis": "x10",
         "y": [
          100,
          69.6969696969697,
          66.66666666666666,
          60.86956521739131,
          75,
          25,
          2.941176470588235,
          73.68421052631578,
          74.19354838709677,
          52,
          12.5,
          92,
          5.555555555555555
         ],
         "yaxis": "y10"
        },
        {
         "alignmentgroup": "True",
         "hovertemplate": "vehicle_type=car<br>run_number=2<br>callsign_group=70<br>month_start=%{x}<br>percentage_of_group=%{y}<extra></extra>",
         "legendgroup": "car",
         "marker": {
          "color": "#D50032",
          "pattern": {
           "shape": ""
          }
         },
         "name": "car",
         "offsetgroup": "car",
         "orientation": "v",
         "showlegend": false,
         "textposition": "auto",
         "type": "bar",
         "width": 2678400000,
         "x": [
          "2025-02-01T00:00:00",
          "2025-03-01T00:00:00",
          "2025-04-01T00:00:00",
          "2025-05-01T00:00:00",
          "2025-06-01T00:00:00",
          "2025-07-01T00:00:00",
          "2025-08-01T00:00:00",
          "2025-09-01T00:00:00",
          "2025-10-01T00:00:00",
          "2025-11-01T00:00:00",
          "2025-12-01T00:00:00",
          "2026-01-01T00:00:00",
          "2026-02-01T00:00:00"
         ],
         "xaxis": "x7",
         "y": [
          70.83333333333334,
          26.744186046511626,
          54.08163265306123,
          55.68181818181818,
          60.67415730337079,
          27.586206896551722,
          42.10526315789473,
          73.61111111111111,
          59.183673469387756,
          54.385964912280706,
          50,
          17.857142857142858,
          39.21568627450981
         ],
         "yaxis": "y7"
        },
        {
         "alignmentgroup": "True",
         "hovertemplate": "vehicle_type=car<br>run_number=2<br>callsign_group=71<br>month_start=%{x}<br>percentage_of_group=%{y}<extra></extra>",
         "legendgroup": "car",
         "marker": {
          "color": "#D50032",
          "pattern": {
           "shape": ""
          }
         },
         "name": "car",
         "offsetgroup": "car",
         "orientation": "v",
         "showlegend": false,
         "textposition": "auto",
         "type": "bar",
         "width": 2678400000,
         "x": [
          "2025-02-01T00:00:00",
          "2025-03-01T00:00:00",
          "2025-04-01T00:00:00",
          "2025-05-01T00:00:00",
          "2025-06-01T00:00:00",
          "2025-07-01T00:00:00",
          "2025-08-01T00:00:00",
          "2025-09-01T00:00:00",
          "2025-10-01T00:00:00",
          "2025-11-01T00:00:00",
          "2025-12-01T00:00:00",
          "2026-01-01T00:00:00",
          "2026-02-01T00:00:00"
         ],
         "xaxis": "x8",
         "y": [
          72.72727272727273,
          100,
          91.30434782608695,
          45.16129032258064,
          11.11111111111111,
          80.76923076923077,
          88.23529411764706,
          14.285714285714285,
          35,
          95.65217391304348,
          36,
          72,
          94.11764705882352
         ],
         "yaxis": "y8"
        },
        {
         "alignmentgroup": "True",
         "hovertemplate": "vehicle_type=car<br>run_number=3<br>callsign_group=70<br>month_start=%{x}<br>percentage_of_group=%{y}<extra></extra>",
         "legendgroup": "car",
         "marker": {
          "color": "#D50032",
          "pattern": {
           "shape": ""
          }
         },
         "name": "car",
         "offsetgroup": "car",
         "orientation": "v",
         "showlegend": false,
         "textposition": "auto",
         "type": "bar",
         "width": 2678400000,
         "x": [
          "2025-02-01T00:00:00",
          "2025-03-01T00:00:00",
          "2025-04-01T00:00:00",
          "2025-05-01T00:00:00",
          "2025-06-01T00:00:00",
          "2025-07-01T00:00:00",
          "2025-08-01T00:00:00",
          "2025-09-01T00:00:00",
          "2025-10-01T00:00:00",
          "2025-11-01T00:00:00",
          "2025-12-01T00:00:00",
          "2026-01-01T00:00:00",
          "2026-02-01T00:00:00"
         ],
         "xaxis": "x5",
         "y": [
          86.36363636363636,
          24.358974358974358,
          35.483870967741936,
          30.263157894736842,
          57.95454545454546,
          26.732673267326735,
          42.22222222222222,
          40.229885057471265,
          19.444444444444446,
          56.666666666666664,
          54.285714285714285,
          83.56164383561644,
          43.859649122807014
         ],
         "yaxis": "y5"
        },
        {
         "alignmentgroup": "True",
         "hovertemplate": "vehicle_type=car<br>run_number=3<br>callsign_group=71<br>month_start=%{x}<br>percentage_of_group=%{y}<extra></extra>",
         "legendgroup": "car",
         "marker": {
          "color": "#D50032",
          "pattern": {
           "shape": ""
          }
         },
         "name": "car",
         "offsetgroup": "car",
         "orientation": "v",
         "showlegend": false,
         "textposition": "auto",
         "type": "bar",
         "width": 2678400000,
         "x": [
          "2025-02-01T00:00:00",
          "2025-03-01T00:00:00",
          "2025-04-01T00:00:00",
          "2025-05-01T00:00:00",
          "2025-06-01T00:00:00",
          "2025-07-01T00:00:00",
          "2025-08-01T00:00:00",
          "2025-09-01T00:00:00",
          "2025-10-01T00:00:00",
          "2025-11-01T00:00:00",
          "2025-12-01T00:00:00",
          "2026-01-01T00:00:00",
          "2026-02-01T00:00:00"
         ],
         "xaxis": "x6",
         "y": [
          62.5,
          31.03448275862069,
          54.54545454545454,
          50,
          80,
          86.95652173913044,
          52,
          56.52173913043478,
          83.33333333333334,
          5.555555555555555,
          42.30769230769231,
          10.714285714285714,
          10
         ],
         "yaxis": "y6"
        },
        {
         "alignmentgroup": "True",
         "hovertemplate": "vehicle_type=car<br>run_number=4<br>callsign_group=70<br>month_start=%{x}<br>percentage_of_group=%{y}<extra></extra>",
         "legendgroup": "car",
         "marker": {
          "color": "#D50032",
          "pattern": {
           "shape": ""
          }
         },
         "name": "car",
         "offsetgroup": "car",
         "orientation": "v",
         "showlegend": false,
         "textposition": "auto",
         "type": "bar",
         "width": 2678400000,
         "x": [
          "2025-02-01T00:00:00",
          "2025-03-01T00:00:00",
          "2025-04-01T00:00:00",
          "2025-05-01T00:00:00",
          "2025-06-01T00:00:00",
          "2025-07-01T00:00:00",
          "2025-08-01T00:00:00",
          "2025-09-01T00:00:00",
          "2025-10-01T00:00:00",
          "2025-11-01T00:00:00",
          "2025-12-01T00:00:00",
          "2026-01-01T00:00:00",
          "2026-02-01T00:00:00"
         ],
         "xaxis": "x3",
         "y": [
          48.148148148148145,
          26.136363636363637,
          28.169014084507044,
          67.64705882352942,
          57.95454545454546,
          76.13636363636364,
          50,
          51.80722891566265,
          64.17910447761194,
          55.932203389830505,
          56.75675675675676,
          70.78651685393258,
          29.72972972972973
         ],
         "yaxis": "y3"
        },
        {
         "alignmentgroup": "True",
         "hovertemplate": "vehicle_type=car<br>run_number=4<br>callsign_group=71<br>month_start=%{x}<br>percentage_of_group=%{y}<extra></extra>",
         "legendgroup": "car",
         "marker": {
          "color": "#D50032",
          "pattern": {
           "shape": ""
          }
         },
         "name": "car",
         "offsetgroup": "car",
         "orientation": "v",
         "showlegend": false,
         "textposition": "auto",
         "type": "bar",
         "width": 2678400000,
         "x": [
          "2025-02-01T00:00:00",
          "2025-03-01T00:00:00",
          "2025-04-01T00:00:00",
          "2025-05-01T00:00:00",
          "2025-06-01T00:00:00",
          "2025-07-01T00:00:00",
          "2025-08-01T00:00:00",
          "2025-09-01T00:00:00",
          "2025-10-01T00:00:00",
          "2025-11-01T00:00:00",
          "2025-12-01T00:00:00",
          "2026-01-01T00:00:00",
          "2026-02-01T00:00:00"
         ],
         "xaxis": "x4",
         "y": [
          66.66666666666666,
          38.095238095238095,
          38.88888888888889,
          50,
          78.94736842105263,
          91.8918918918919,
          74.19354838709677,
          100,
          44.44444444444444,
          65,
          54.166666666666664,
          7.6923076923076925,
          100
         ],
         "yaxis": "y4"
        },
        {
         "alignmentgroup": "True",
         "hovertemplate": "vehicle_type=car<br>run_number=5<br>callsign_group=70<br>month_start=%{x}<br>percentage_of_group=%{y}<extra></extra>",
         "legendgroup": "car",
         "marker": {
          "color": "#D50032",
          "pattern": {
           "shape": ""
          }
         },
         "name": "car",
         "offsetgroup": "car",
         "orientation": "v",
         "showlegend": false,
         "textposition": "auto",
         "type": "bar",
         "width": 2678400000,
         "x": [
          "2025-02-01T00:00:00",
          "2025-03-01T00:00:00",
          "2025-04-01T00:00:00",
          "2025-05-01T00:00:00",
          "2025-06-01T00:00:00",
          "2025-07-01T00:00:00",
          "2025-08-01T00:00:00",
          "2025-09-01T00:00:00",
          "2025-10-01T00:00:00",
          "2025-11-01T00:00:00",
          "2025-12-01T00:00:00",
          "2026-01-01T00:00:00",
          "2026-02-01T00:00:00"
         ],
         "xaxis": "x",
         "y": [
          60.86956521739131,
          42.35294117647059,
          86.31578947368422,
          80,
          18.75,
          54.83870967741935,
          48.64864864864865,
          39.75903614457831,
          18.39080459770115,
          68.91891891891892,
          74.19354838709677,
          48.75,
          24.528301886792452
         ],
         "yaxis": "y"
        },
        {
         "alignmentgroup": "True",
         "hovertemplate": "vehicle_type=car<br>run_number=5<br>callsign_group=71<br>month_start=%{x}<br>percentage_of_group=%{y}<extra></extra>",
         "legendgroup": "car",
         "marker": {
          "color": "#D50032",
          "pattern": {
           "shape": ""
          }
         },
         "name": "car",
         "offsetgroup": "car",
         "orientation": "v",
         "showlegend": false,
         "textposition": "auto",
         "type": "bar",
         "width": 2678400000,
         "x": [
          "2025-02-01T00:00:00",
          "2025-03-01T00:00:00",
          "2025-04-01T00:00:00",
          "2025-05-01T00:00:00",
          "2025-06-01T00:00:00",
          "2025-07-01T00:00:00",
          "2025-08-01T00:00:00",
          "2025-09-01T00:00:00",
          "2025-10-01T00:00:00",
          "2025-11-01T00:00:00",
          "2025-12-01T00:00:00",
          "2026-01-01T00:00:00",
          "2026-02-01T00:00:00"
         ],
         "xaxis": "x2",
         "y": [
          76.92307692307693,
          60,
          36.666666666666664,
          47.05882352941176,
          54.285714285714285,
          80.95238095238095,
          39.285714285714285,
          43.24324324324324,
          72.22222222222221,
          59.25925925925925,
          50,
          58.82352941176471,
          26.666666666666668
         ],
         "yaxis": "y2"
        },
        {
         "alignmentgroup": "True",
         "hovertemplate": "vehicle_type=helicopter<br>run_number=1<br>callsign_group=70<br>month_start=%{x}<br>percentage_of_group=%{y}<extra></extra>",
         "legendgroup": "helicopter",
         "marker": {
          "color": "#00205B",
          "pattern": {
           "shape": ""
          }
         },
         "name": "helicopter",
         "offsetgroup": "helicopter",
         "orientation": "v",
         "showlegend": true,
         "textposition": "auto",
         "type": "bar",
         "width": 2678400000,
         "x": [
          "2025-02-01T00:00:00",
          "2025-03-01T00:00:00",
          "2025-04-01T00:00:00",
          "2025-05-01T00:00:00",
          "2025-06-01T00:00:00",
          "2025-07-01T00:00:00",
          "2025-08-01T00:00:00",
          "2025-09-01T00:00:00",
          "2025-10-01T00:00:00",
          "2025-11-01T00:00:00",
          "2025-12-01T00:00:00",
          "2026-01-01T00:00:00",
          "2026-02-01T00:00:00"
         ],
         "xaxis": "x9",
         "y": [
          80.76923076923077,
          38.095238095238095,
          43.47826086956522,
          55.91397849462365,
          54.54545454545454,
          59.57446808510638,
          60.24096385542169,
          65.38461538461539,
          55.072463768115945,
          45.20547945205479,
          12.5,
          22.89156626506024,
          18.75
         ],
         "yaxis": "y9"
        },
        {
         "alignmentgroup": "True",
         "hovertemplate": "vehicle_type=helicopter<br>run_number=1<br>callsign_group=71<br>month_start=%{x}<br>percentage_of_group=%{y}<extra></extra>",
         "legendgroup": "helicopter",
         "marker": {
          "color": "#00205B",
          "pattern": {
           "shape": ""
          }
         },
         "name": "helicopter",
         "offsetgroup": "helicopter",
         "orientation": "v",
         "showlegend": false,
         "textposition": "auto",
         "type": "bar",
         "width": 2678400000,
         "x": [
          "2025-02-01T00:00:00",
          "2025-03-01T00:00:00",
          "2025-04-01T00:00:00",
          "2025-05-01T00:00:00",
          "2025-06-01T00:00:00",
          "2025-07-01T00:00:00",
          "2025-08-01T00:00:00",
          "2025-09-01T00:00:00",
          "2025-10-01T00:00:00",
          "2025-11-01T00:00:00",
          "2025-12-01T00:00:00",
          "2026-01-01T00:00:00",
          "2026-02-01T00:00:00"
         ],
         "xaxis": "x10",
         "y": [
          0,
          30.303030303030305,
          33.33333333333333,
          39.130434782608695,
          25,
          75,
          97.05882352941177,
          26.31578947368421,
          25.806451612903224,
          48,
          87.5,
          8,
          94.44444444444444
         ],
         "yaxis": "y10"
        },
        {
         "alignmentgroup": "True",
         "hovertemplate": "vehicle_type=helicopter<br>run_number=2<br>callsign_group=70<br>month_start=%{x}<br>percentage_of_group=%{y}<extra></extra>",
         "legendgroup": "helicopter",
         "marker": {
          "color": "#00205B",
          "pattern": {
           "shape": ""
          }
         },
         "name": "helicopter",
         "offsetgroup": "helicopter",
         "orientation": "v",
         "showlegend": false,
         "textposition": "auto",
         "type": "bar",
         "width": 2678400000,
         "x": [
          "2025-02-01T00:00:00",
          "2025-03-01T00:00:00",
          "2025-04-01T00:00:00",
          "2025-05-01T00:00:00",
          "2025-06-01T00:00:00",
          "2025-07-01T00:00:00",
          "2025-08-01T00:00:00",
          "2025-09-01T00:00:00",
          "2025-10-01T00:00:00",
          "2025-11-01T00:00:00",
          "2025-12-01T00:00:00",
          "2026-01-01T00:00:00",
          "2026-02-01T00:00:00"
         ],
         "xaxis": "x7",
         "y": [
          29.166666666666668,
          73.25581395348837,
          45.91836734693878,
          44.31818181818182,
          39.325842696629216,
          72.41379310344827,
          57.89473684210527,
          26.38888888888889,
          40.816326530612244,
          45.614035087719294,
          50,
          82.14285714285714,
          60.78431372549019
         ],
         "yaxis": "y7"
        },
        {
         "alignmentgroup": "True",
         "hovertemplate": "vehicle_type=helicopter<br>run_number=2<br>callsign_group=71<br>month_start=%{x}<br>percentage_of_group=%{y}<extra></extra>",
         "legendgroup": "helicopter",
         "marker": {
          "color": "#00205B",
          "pattern": {
           "shape": ""
          }
         },
         "name": "helicopter",
         "offsetgroup": "helicopter",
         "orientation": "v",
         "showlegend": false,
         "textposition": "auto",
         "type": "bar",
         "width": 2678400000,
         "x": [
          "2025-02-01T00:00:00",
          "2025-03-01T00:00:00",
          "2025-04-01T00:00:00",
          "2025-05-01T00:00:00",
          "2025-06-01T00:00:00",
          "2025-07-01T00:00:00",
          "2025-08-01T00:00:00",
          "2025-09-01T00:00:00",
          "2025-10-01T00:00:00",
          "2025-11-01T00:00:00",
          "2025-12-01T00:00:00",
          "2026-01-01T00:00:00",
          "2026-02-01T00:00:00"
         ],
         "xaxis": "x8",
         "y": [
          27.27272727272727,
          0,
          8.695652173913043,
          54.83870967741935,
          88.88888888888889,
          19.230769230769234,
          11.76470588235294,
          85.71428571428571,
          65,
          4.3478260869565215,
          64,
          28.000000000000004,
          5.88235294117647
         ],
         "yaxis": "y8"
        },
        {
         "alignmentgroup": "True",
         "hovertemplate": "vehicle_type=helicopter<br>run_number=3<br>callsign_group=70<br>month_start=%{x}<br>percentage_of_group=%{y}<extra></extra>",
         "legendgroup": "helicopter",
         "marker": {
          "color": "#00205B",
          "pattern": {
           "shape": ""
          }
         },
         "name": "helicopter",
         "offsetgroup": "helicopter",
         "orientation": "v",
         "showlegend": false,
         "textposition": "auto",
         "type": "bar",
         "width": 2678400000,
         "x": [
          "2025-02-01T00:00:00",
          "2025-03-01T00:00:00",
          "2025-04-01T00:00:00",
          "2025-05-01T00:00:00",
          "2025-06-01T00:00:00",
          "2025-07-01T00:00:00",
          "2025-08-01T00:00:00",
          "2025-09-01T00:00:00",
          "2025-10-01T00:00:00",
          "2025-11-01T00:00:00",
          "2025-12-01T00:00:00",
          "2026-01-01T00:00:00",
          "2026-02-01T00:00:00"
         ],
         "xaxis": "x5",
         "y": [
          13.636363636363635,
          75.64102564102564,
          64.51612903225806,
          69.73684210526315,
          42.04545454545455,
          73.26732673267327,
          57.77777777777777,
          59.77011494252874,
          80.55555555555556,
          43.333333333333336,
          45.714285714285715,
          16.43835616438356,
          56.14035087719298
         ],
         "yaxis": "y5"
        },
        {
         "alignmentgroup": "True",
         "hovertemplate": "vehicle_type=helicopter<br>run_number=3<br>callsign_group=71<br>month_start=%{x}<br>percentage_of_group=%{y}<extra></extra>",
         "legendgroup": "helicopter",
         "marker": {
          "color": "#00205B",
          "pattern": {
           "shape": ""
          }
         },
         "name": "helicopter",
         "offsetgroup": "helicopter",
         "orientation": "v",
         "showlegend": false,
         "textposition": "auto",
         "type": "bar",
         "width": 2678400000,
         "x": [
          "2025-02-01T00:00:00",
          "2025-03-01T00:00:00",
          "2025-04-01T00:00:00",
          "2025-05-01T00:00:00",
          "2025-06-01T00:00:00",
          "2025-07-01T00:00:00",
          "2025-08-01T00:00:00",
          "2025-09-01T00:00:00",
          "2025-10-01T00:00:00",
          "2025-11-01T00:00:00",
          "2025-12-01T00:00:00",
          "2026-01-01T00:00:00",
          "2026-02-01T00:00:00"
         ],
         "xaxis": "x6",
         "y": [
          37.5,
          68.96551724137932,
          45.45454545454545,
          50,
          20,
          13.043478260869565,
          48,
          43.47826086956522,
          16.666666666666664,
          94.44444444444444,
          57.692307692307686,
          89.28571428571429,
          90
         ],
         "yaxis": "y6"
        },
        {
         "alignmentgroup": "True",
         "hovertemplate": "vehicle_type=helicopter<br>run_number=4<br>callsign_group=70<br>month_start=%{x}<br>percentage_of_group=%{y}<extra></extra>",
         "legendgroup": "helicopter",
         "marker": {
          "color": "#00205B",
          "pattern": {
           "shape": ""
          }
         },
         "name": "helicopter",
         "offsetgroup": "helicopter",
         "orientation": "v",
         "showlegend": false,
         "textposition": "auto",
         "type": "bar",
         "width": 2678400000,
         "x": [
          "2025-02-01T00:00:00",
          "2025-03-01T00:00:00",
          "2025-04-01T00:00:00",
          "2025-05-01T00:00:00",
          "2025-06-01T00:00:00",
          "2025-07-01T00:00:00",
          "2025-08-01T00:00:00",
          "2025-09-01T00:00:00",
          "2025-10-01T00:00:00",
          "2025-11-01T00:00:00",
          "2025-12-01T00:00:00",
          "2026-01-01T00:00:00",
          "2026-02-01T00:00:00"
         ],
         "xaxis": "x3",
         "y": [
          51.85185185185185,
          73.86363636363636,
          71.83098591549296,
          32.35294117647059,
          42.04545454545455,
          23.863636363636363,
          50,
          48.19277108433735,
          35.82089552238806,
          44.06779661016949,
          43.24324324324324,
          29.213483146067414,
          70.27027027027027
         ],
         "yaxis": "y3"
        },
        {
         "alignmentgroup": "True",
         "hovertemplate": "vehicle_type=helicopter<br>run_number=4<br>callsign_group=71<br>month_start=%{x}<br>percentage_of_group=%{y}<extra></extra>",
         "legendgroup": "helicopter",
         "marker": {
          "color": "#00205B",
          "pattern": {
           "shape": ""
          }
         },
         "name": "helicopter",
         "offsetgroup": "helicopter",
         "orientation": "v",
         "showlegend": false,
         "textposition": "auto",
         "type": "bar",
         "width": 2678400000,
         "x": [
          "2025-02-01T00:00:00",
          "2025-03-01T00:00:00",
          "2025-04-01T00:00:00",
          "2025-05-01T00:00:00",
          "2025-06-01T00:00:00",
          "2025-07-01T00:00:00",
          "2025-08-01T00:00:00",
          "2025-09-01T00:00:00",
          "2025-10-01T00:00:00",
          "2025-11-01T00:00:00",
          "2025-12-01T00:00:00",
          "2026-01-01T00:00:00",
          "2026-02-01T00:00:00"
         ],
         "xaxis": "x4",
         "y": [
          33.33333333333333,
          61.904761904761905,
          61.111111111111114,
          50,
          21.052631578947366,
          8.108108108108109,
          25.806451612903224,
          0,
          55.55555555555556,
          35,
          45.83333333333333,
          92.3076923076923,
          0
         ],
         "yaxis": "y4"
        },
        {
         "alignmentgroup": "True",
         "hovertemplate": "vehicle_type=helicopter<br>run_number=5<br>callsign_group=70<br>month_start=%{x}<br>percentage_of_group=%{y}<extra></extra>",
         "legendgroup": "helicopter",
         "marker": {
          "color": "#00205B",
          "pattern": {
           "shape": ""
          }
         },
         "name": "helicopter",
         "offsetgroup": "helicopter",
         "orientation": "v",
         "showlegend": false,
         "textposition": "auto",
         "type": "bar",
         "width": 2678400000,
         "x": [
          "2025-02-01T00:00:00",
          "2025-03-01T00:00:00",
          "2025-04-01T00:00:00",
          "2025-05-01T00:00:00",
          "2025-06-01T00:00:00",
          "2025-07-01T00:00:00",
          "2025-08-01T00:00:00",
          "2025-09-01T00:00:00",
          "2025-10-01T00:00:00",
          "2025-11-01T00:00:00",
          "2025-12-01T00:00:00",
          "2026-01-01T00:00:00",
          "2026-02-01T00:00:00"
         ],
         "xaxis": "x",
         "y": [
          39.130434782608695,
          57.647058823529406,
          13.684210526315791,
          20,
          81.25,
          45.16129032258064,
          51.35135135135135,
          60.24096385542169,
          81.60919540229885,
          31.08108108108108,
          25.806451612903224,
          51.24999999999999,
          75.47169811320755
         ],
         "yaxis": "y"
        },
        {
         "alignmentgroup": "True",
         "hovertemplate": "vehicle_type=helicopter<br>run_number=5<br>callsign_group=71<br>month_start=%{x}<br>percentage_of_group=%{y}<extra></extra>",
         "legendgroup": "helicopter",
         "marker": {
          "color": "#00205B",
          "pattern": {
           "shape": ""
          }
         },
         "name": "helicopter",
         "offsetgroup": "helicopter",
         "orientation": "v",
         "showlegend": false,
         "textposition": "auto",
         "type": "bar",
         "width": 2678400000,
         "x": [
          "2025-02-01T00:00:00",
          "2025-03-01T00:00:00",
          "2025-04-01T00:00:00",
          "2025-05-01T00:00:00",
          "2025-06-01T00:00:00",
          "2025-07-01T00:00:00",
          "2025-08-01T00:00:00",
          "2025-09-01T00:00:00",
          "2025-10-01T00:00:00",
          "2025-11-01T00:00:00",
          "2025-12-01T00:00:00",
          "2026-01-01T00:00:00",
          "2026-02-01T00:00:00"
         ],
         "xaxis": "x2",
         "y": [
          23.076923076923077,
          40,
          63.33333333333333,
          52.94117647058824,
          45.714285714285715,
          19.047619047619047,
          60.71428571428571,
          56.75675675675676,
          27.77777777777778,
          40.74074074074074,
          50,
          41.17647058823529,
          73.33333333333333
         ],
         "yaxis": "y2"
        }
       ],
       "layout": {
        "annotations": [
         {
          "showarrow": false,
          "text": "callsign_group=70",
          "x": 0.24,
          "xanchor": "center",
          "xref": "paper",
          "y": 1,
          "yanchor": "bottom",
          "yref": "paper"
         },
         {
          "showarrow": false,
          "text": "callsign_group=71",
          "x": 0.74,
          "xanchor": "center",
          "xref": "paper",
          "y": 1,
          "yanchor": "bottom",
          "yref": "paper"
         },
         {
          "showarrow": false,
          "text": "Run 5",
          "textangle": 90,
          "x": 0.98,
          "xanchor": "left",
          "xref": "paper",
          "y": 0.096,
          "yanchor": "middle",
          "yref": "paper"
         },
         {
          "showarrow": false,
          "text": "Run 4",
          "textangle": 90,
          "x": 0.98,
          "xanchor": "left",
          "xref": "paper",
          "y": 0.29800000000000004,
          "yanchor": "middle",
          "yref": "paper"
         },
         {
          "showarrow": false,
          "text": "Run 3",
          "textangle": 90,
          "x": 0.98,
          "xanchor": "left",
          "xref": "paper",
          "y": 0.5,
          "yanchor": "middle",
          "yref": "paper"
         },
         {
          "showarrow": false,
          "text": "Run 2",
          "textangle": 90,
          "x": 0.98,
          "xanchor": "left",
          "xref": "paper",
          "y": 0.7020000000000001,
          "yanchor": "middle",
          "yref": "paper"
         },
         {
          "showarrow": false,
          "text": "Run 1",
          "textangle": 90,
          "x": 0.98,
          "xanchor": "left",
          "xref": "paper",
          "y": 0.904,
          "yanchor": "middle",
          "yref": "paper"
         }
        ],
        "barmode": "relative",
        "height": 500,
        "legend": {
         "title": {
          "text": "vehicle_type"
         },
         "tracegroupgap": 0
        },
        "margin": {
         "t": 60
        },
        "shapes": [
         {
          "line": {
           "color": "white",
           "dash": "dash"
          },
          "type": "line",
          "x0": 0,
          "x1": 1,
          "xref": "x domain",
          "y0": 30,
          "y1": 30,
          "yref": "y"
         },
         {
          "line": {
           "color": "white",
           "dash": "dash"
          },
          "type": "line",
          "x0": 0,
          "x1": 1,
          "xref": "x2 domain",
          "y0": 30,
          "y1": 30,
          "yref": "y2"
         },
         {
          "line": {
           "color": "white",
           "dash": "dash"
          },
          "type": "line",
          "x0": 0,
          "x1": 1,
          "xref": "x3 domain",
          "y0": 30,
          "y1": 30,
          "yref": "y3"
         },
         {
          "line": {
           "color": "white",
           "dash": "dash"
          },
          "type": "line",
          "x0": 0,
          "x1": 1,
          "xref": "x4 domain",
          "y0": 30,
          "y1": 30,
          "yref": "y4"
         },
         {
          "line": {
           "color": "white",
           "dash": "dash"
          },
          "type": "line",
          "x0": 0,
          "x1": 1,
          "xref": "x5 domain",
          "y0": 30,
          "y1": 30,
          "yref": "y5"
         },
         {
          "line": {
           "color": "white",
           "dash": "dash"
          },
          "type": "line",
          "x0": 0,
          "x1": 1,
          "xref": "x6 domain",
          "y0": 30,
          "y1": 30,
          "yref": "y6"
         },
         {
          "line": {
           "color": "white",
           "dash": "dash"
          },
          "type": "line",
          "x0": 0,
          "x1": 1,
          "xref": "x7 domain",
          "y0": 30,
          "y1": 30,
          "yref": "y7"
         },
         {
          "line": {
           "color": "white",
           "dash": "dash"
          },
          "type": "line",
          "x0": 0,
          "x1": 1,
          "xref": "x8 domain",
          "y0": 30,
          "y1": 30,
          "yref": "y8"
         },
         {
          "line": {
           "color": "white",
           "dash": "dash"
          },
          "type": "line",
          "x0": 0,
          "x1": 1,
          "xref": "x9 domain",
          "y0": 30,
          "y1": 30,
          "yref": "y9"
         },
         {
          "line": {
           "color": "white",
           "dash": "dash"
          },
          "type": "line",
          "x0": 0,
          "x1": 1,
          "xref": "x10 domain",
          "y0": 30,
          "y1": 30,
          "yref": "y10"
         }
        ],
        "template": {
         "data": {
          "candlestick": [
           {
            "decreasing": {
             "line": {
              "color": "#000033"
             }
            },
            "increasing": {
             "line": {
              "color": "#000032"
             }
            },
            "type": "candlestick"
           }
          ],
          "contour": [
           {
            "colorscale": [
             [
              0,
              "#000011"
             ],
             [
              0.1111111111111111,
              "#000012"
             ],
             [
              0.2222222222222222,
              "#000013"
             ],
             [
              0.3333333333333333,
              "#000014"
             ],
             [
              0.4444444444444444,
              "#000015"
             ],
             [
              0.5555555555555556,
              "#000016"
             ],
             [
              0.6666666666666666,
              "#000017"
             ],
             [
              0.7777777777777778,
              "#000018"
             ],
             [
              0.8888888888888888,
              "#000019"
             ],
             [
              1,
              "#000020"
             ]
            ],
            "type": "contour"
           }
          ],
          "contourcarpet": [
           {
            "colorscale": [
             [
              0,
              "#000011"
             ],
             [
              0.1111111111111111,
              "#000012"
             ],
             [
              0.2222222222222222,
              "#000013"
             ],
             [
              0.3333333333333333,
              "#000014"
             ],
             [
              0.4444444444444444,
              "#000015"
             ],
             [
              0.5555555555555556,
              "#000016"
             ],
             [
              0.6666666666666666,
              "#000017"
             ],
             [
              0.7777777777777778,
              "#000018"
             ],
             [
              0.8888888888888888,
              "#000019"
             ],
             [
              1,
              "#000020"
             ]
            ],
            "type": "contourcarpet"
           }
          ],
          "heatmap": [
           {
            "colorscale": [
             [
              0,
              "#000011"
             ],
             [
              0.1111111111111111,
              "#000012"
             ],
             [
              0.2222222222222222,
              "#000013"
             ],
             [
              0.3333333333333333,
              "#000014"
             ],
             [
              0.4444444444444444,
              "#000015"
             ],
             [
              0.5555555555555556,
              "#000016"
             ],
             [
              0.6666666666666666,
              "#000017"
             ],
             [
              0.7777777777777778,
              "#000018"
             ],
             [
              0.8888888888888888,
              "#000019"
             ],
             [
              1,
              "#000020"
             ]
            ],
            "type": "heatmap"
           }
          ],
          "histogram2d": [
           {
            "colorscale": [
             [
              0,
              "#000011"
             ],
             [
              0.1111111111111111,
              "#000012"
             ],
             [
              0.2222222222222222,
              "#000013"
             ],
             [
              0.3333333333333333,
              "#000014"
             ],
             [
              0.4444444444444444,
              "#000015"
             ],
             [
              0.5555555555555556,
              "#000016"
             ],
             [
              0.6666666666666666,
              "#000017"
             ],
             [
              0.7777777777777778,
              "#000018"
             ],
             [
              0.8888888888888888,
              "#000019"
             ],
             [
              1,
              "#000020"
             ]
            ],
            "type": "histogram2d"
           }
          ],
          "icicle": [
           {
            "textfont": {
             "color": "white"
            },
            "type": "icicle"
           }
          ],
          "sankey": [
           {
            "textfont": {
             "color": "#000036"
            },
            "type": "sankey"
           }
          ],
          "scatter": [
           {
            "marker": {
             "line": {
              "width": 0
             }
            },
            "type": "scatter"
           }
          ],
          "table": [
           {
            "cells": {
             "fill": {
              "color": "#000038"
             },
             "font": {
              "color": "#000037"
             },
             "line": {
              "color": "#000039"
             }
            },
            "header": {
             "fill": {
              "color": "#000040"
             },
             "font": {
              "color": "#000036"
             },
             "line": {
              "color": "#000039"
             }
            },
            "type": "table"
           }
          ],
          "waterfall": [
           {
            "connector": {
             "line": {
              "color": "#000036",
              "width": 2
             }
            },
            "decreasing": {
             "marker": {
              "color": "#000033"
             }
            },
            "increasing": {
             "marker": {
              "color": "#000032"
             }
            },
            "totals": {
             "marker": {
              "color": "#000034"
             }
            },
            "type": "waterfall"
           }
          ]
         },
         "layout": {
          "coloraxis": {
           "colorscale": [
            [
             0,
             "#000011"
            ],
            [
             0.1111111111111111,
             "#000012"
            ],
            [
             0.2222222222222222,
             "#000013"
            ],
            [
             0.3333333333333333,
             "#000014"
            ],
            [
             0.4444444444444444,
             "#000015"
            ],
            [
             0.5555555555555556,
             "#000016"
            ],
            [
             0.6666666666666666,
             "#000017"
            ],
            [
             0.7777777777777778,
             "#000018"
            ],
            [
             0.8888888888888888,
             "#000019"
            ],
            [
             1,
             "#000020"
            ]
           ]
          },
          "colorscale": {
           "diverging": [
            [
             0,
             "#000021"
            ],
            [
             0.1,
             "#000022"
            ],
            [
             0.2,
             "#000023"
            ],
            [
             0.3,
             "#000024"
            ],
            [
             0.4,
             "#000025"
            ],
            [
             0.5,
             "#000026"
            ],
            [
             0.6,
             "#000027"
            ],
            [
             0.7,
             "#000028"
            ],
            [
             0.8,
             "#000029"
            ],
            [
             0.9,
             "#000030"
            ],
            [
             1,
             "#000031"
            ]
           ],
           "sequential": [
            [
             0,
             "#000011"
            ],
            [
             0.1111111111111111,
             "#000012"
            ],
            [
             0.2222222222222222,
             "#000013"
            ],
            [
             0.3333333333333333,
             "#000014"
            ],
            [
             0.4444444444444444,
             "#000015"
            ],
            [
             0.5555555555555556,
             "#000016"
            ],
            [
             0.6666666666666666,
             "#000017"
            ],
            [
             0.7777777777777778,
             "#000018"
            ],
            [
             0.8888888888888888,
             "#000019"
            ],
            [
             1,
             "#000020"
            ]
           ],
           "sequentialminus": [
            [
             0,
             "#000011"
            ],
            [
             0.1111111111111111,
             "#000012"
            ],
            [
             0.2222222222222222,
             "#000013"
            ],
            [
             0.3333333333333333,
             "#000014"
            ],
            [
             0.4444444444444444,
             "#000015"
            ],
            [
             0.5555555555555556,
             "#000016"
            ],
            [
             0.6666666666666666,
             "#000017"
            ],
            [
             0.7777777777777778,
             "#000018"
            ],
            [
             0.8888888888888888,
             "#000019"
            ],
            [
             1,
             "#000020"
            ]
           ]
          },
          "colorway": [
           "#000001",
           "#000002",
           "#000003",
           "#000004",
           "#000005",
           "#000006",
           "#000007",
           "#000008",
           "#000009",
           "#000010"
          ]
         }
        },
        "width": 600,
        "xaxis": {
         "anchor": "y",
         "domain": [
          0,
          0.48
         ],
         "title": {
          "text": "month_start"
         }
        },
        "xaxis10": {
         "anchor": "y10",
         "domain": [
          0.5,
          0.98
         ],
         "matches": "x",
         "showticklabels": false
        },
        "xaxis2": {
         "anchor": "y2",
         "domain": [
          0.5,
          0.98
         ],
         "matches": "x",
         "title": {
          "text": "month_start"
         }
        },
        "xaxis3": {
         "anchor": "y3",
         "domain": [
          0,
          0.48
         ],
         "matches": "x",
         "showticklabels": false
        },
        "xaxis4": {
         "anchor": "y4",
         "domain": [
          0.5,
          0.98
         ],
         "matches": "x",
         "showticklabels": false
        },
        "xaxis5": {
         "anchor": "y5",
         "domain": [
          0,
          0.48
         ],
         "matches": "x",
         "showticklabels": false
        },
        "xaxis6": {
         "anchor": "y6",
         "domain": [
          0.5,
          0.98
         ],
         "matches": "x",
         "showticklabels": false
        },
        "xaxis7": {
         "anchor": "y7",
         "domain": [
          0,
          0.48
         ],
         "matches": "x",
         "showticklabels": false
        },
        "xaxis8": {
         "anchor": "y8",
         "domain": [
          0.5,
          0.98
         ],
         "matches": "x",
         "showticklabels": false
        },
        "xaxis9": {
         "anchor": "y9",
         "domain": [
          0,
          0.48
         ],
         "matches": "x",
         "showticklabels": false
        },
        "yaxis": {
         "anchor": "x",
         "domain": [
          0,
          0.192
         ],
         "title": {}
        },
        "yaxis10": {
         "anchor": "x10",
         "domain": [
          0.808,
          1
         ],
         "matches": "y",
         "showticklabels": false,
         "title": {}
        },
        "yaxis2": {
         "anchor": "x2",
         "domain": [
          0,
          0.192
         ],
         "matches": "y",
         "showticklabels": false,
         "title": {}
        },
        "yaxis3": {
         "anchor": "x3",
         "domain": [
          0.202,
          0.394
         ],
         "matches": "y",
         "title": {}
        },
        "yaxis4": {
         "anchor": "x4",
         "domain": [
          0.202,
          0.394
         ],
         "matches": "y",
         "showticklabels": false,
         "title": {}
        },
        "yaxis5": {
         "anchor": "x5",
         "domain": [
          0.404,
          0.5960000000000001
         ],
         "matches": "y",
         "title": {}
        },
        "yaxis6": {
         "anchor": "x6",
         "domain": [
          0.404,
          0.5960000000000001
         ],
         "matches": "y",
         "showticklabels": false,
         "title": {}
        },
        "yaxis7": {
         "anchor": "x7",
         "domain": [
          0.6060000000000001,
          0.798
         ],
         "matches": "y",
         "title": {}
        },
        "yaxis8": {
         "anchor": "x8",
         "domain": [
          0.6060000000000001,
          0.798
         ],
         "matches": "y",
         "showticklabels": false,
         "title": {}
        },
        "yaxis9": {
         "anchor": "x9",
         "domain": [
          0.808,
          1
         ],
         "matches": "y",
         "title": {}
        }
       }
      }
     },
     "metadata": {},
     "output_type": "display_data"
    }
   ],
   "source": [
    "callsign_group_counts = jobs_counts_by_callsign_monthly_sim.drop_duplicates(['callsign_group', 'callsign'])['callsign_group'].value_counts().reset_index()\n",
    "callsign_groups_with_multiple_vehicles = list(callsign_group_counts[callsign_group_counts['count']>1]['callsign_group'].values)\n",
    "\n",
    "plot_df = jobs_counts_by_callsign_monthly_sim[(jobs_counts_by_callsign_monthly_sim[\"callsign_group\"].isin(callsign_groups_with_multiple_vehicles)) & (jobs_counts_by_callsign_monthly_sim['run_number'] <=5)]\n",
    "\n",
    "fig = px.bar(plot_df,\n",
    "        x=\"month_start\", y=\"percentage_of_group\",\n",
    "       color=\"vehicle_type\",\n",
    "       facet_row=\"run_number\", facet_col=\"callsign_group\",\n",
    "       height=len(plot_df.run_number.unique())*100,\n",
    "       width=600,\n",
    "       color_discrete_sequence=list(DAA_COLORSCHEME.values()),\n",
    "       facet_row_spacing=0.01\n",
    "       ).update_traces(width=1000 * 3600 * 24 * 31)\n",
    "\n",
    "       # Remove y-axis labels\n",
    "fig.update_yaxes(title=None)\n",
    "\n",
    "# Change facet row labels from \"run_number=1\" to \"Run 1\"\n",
    "fig.for_each_annotation(lambda a: a.update(text=a.text.replace(\"run_number=\", \"Run \")))\n",
    "\n",
    "# Add a horizontal line at 30%\n",
    "fig.add_hline(y=30, line_dash=\"dash\", line_color=\"white\")\n",
    "\n",
    "fig"
   ]
  }
 ],
 "metadata": {
  "kernelspec": {
   "display_name": ".venv",
   "language": "python",
   "name": "python3"
  },
  "language_info": {
   "codemirror_mode": {
    "name": "ipython",
    "version": 3
   },
   "file_extension": ".py",
   "mimetype": "text/x-python",
   "name": "python",
   "nbconvert_exporter": "python",
   "pygments_lexer": "ipython3",
   "version": "3.11.9"
  }
 },
 "nbformat": 4,
 "nbformat_minor": 2
}
