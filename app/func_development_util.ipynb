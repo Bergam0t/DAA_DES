{
 "cells": [
  {
   "cell_type": "markdown",
   "metadata": {},
   "source": [
    "## Development of resource use functions"
   ]
  },
  {
   "cell_type": "code",
   "execution_count": 1,
   "metadata": {},
   "outputs": [
    {
     "name": "stderr",
     "output_type": "stream",
     "text": [
      "2025-02-14 11:53:21.593 WARNING streamlit.runtime.caching.cache_data_api: No runtime found, using MemoryCacheStorageManager\n",
      "2025-02-14 11:53:21.594 WARNING streamlit.runtime.caching.cache_data_api: No runtime found, using MemoryCacheStorageManager\n"
     ]
    },
    {
     "data": {
      "text/html": [
       "<div>\n",
       "<style scoped>\n",
       "    .dataframe tbody tr th:only-of-type {\n",
       "        vertical-align: middle;\n",
       "    }\n",
       "\n",
       "    .dataframe tbody tr th {\n",
       "        vertical-align: top;\n",
       "    }\n",
       "\n",
       "    .dataframe thead th {\n",
       "        text-align: right;\n",
       "    }\n",
       "</style>\n",
       "<table border=\"1\" class=\"dataframe\">\n",
       "  <thead>\n",
       "    <tr style=\"text-align: right;\">\n",
       "      <th></th>\n",
       "      <th>P_ID</th>\n",
       "      <th>run_number</th>\n",
       "      <th>time_type</th>\n",
       "      <th>event_type</th>\n",
       "      <th>timestamp</th>\n",
       "      <th>timestamp_dt</th>\n",
       "      <th>day</th>\n",
       "      <th>hour</th>\n",
       "      <th>weekday</th>\n",
       "      <th>month</th>\n",
       "      <th>qtr</th>\n",
       "      <th>callsign_group</th>\n",
       "      <th>vehicle_type</th>\n",
       "      <th>ampds_card</th>\n",
       "      <th>age</th>\n",
       "      <th>sex</th>\n",
       "      <th>hems_result</th>\n",
       "      <th>outcome</th>\n",
       "      <th>callsign</th>\n",
       "    </tr>\n",
       "  </thead>\n",
       "  <tbody>\n",
       "    <tr>\n",
       "      <th>0</th>\n",
       "      <td>1</td>\n",
       "      <td>1</td>\n",
       "      <td>71</td>\n",
       "      <td>resource_preferred_resource_group</td>\n",
       "      <td>240.0</td>\n",
       "      <td>2025-02-14 12:00:00</td>\n",
       "      <td>Fri</td>\n",
       "      <td>12</td>\n",
       "      <td>weekday</td>\n",
       "      <td>2</td>\n",
       "      <td>1</td>\n",
       "      <td>NaN</td>\n",
       "      <td>NaN</td>\n",
       "      <td>17</td>\n",
       "      <td>67.0</td>\n",
       "      <td>Male</td>\n",
       "      <td>NaN</td>\n",
       "      <td>NaN</td>\n",
       "      <td>NaN</td>\n",
       "    </tr>\n",
       "    <tr>\n",
       "      <th>1</th>\n",
       "      <td>1</td>\n",
       "      <td>1</td>\n",
       "      <td>car</td>\n",
       "      <td>resource_preferred_vehicle_type</td>\n",
       "      <td>240.0</td>\n",
       "      <td>2025-02-14 12:00:00</td>\n",
       "      <td>Fri</td>\n",
       "      <td>12</td>\n",
       "      <td>weekday</td>\n",
       "      <td>2</td>\n",
       "      <td>1</td>\n",
       "      <td>NaN</td>\n",
       "      <td>NaN</td>\n",
       "      <td>17</td>\n",
       "      <td>67.0</td>\n",
       "      <td>Male</td>\n",
       "      <td>NaN</td>\n",
       "      <td>NaN</td>\n",
       "      <td>NaN</td>\n",
       "    </tr>\n",
       "    <tr>\n",
       "      <th>2</th>\n",
       "      <td>1</td>\n",
       "      <td>1</td>\n",
       "      <td>Preferred resource available and allocated</td>\n",
       "      <td>resource_preferred_outcome</td>\n",
       "      <td>240.0</td>\n",
       "      <td>2025-02-14 12:00:00</td>\n",
       "      <td>Fri</td>\n",
       "      <td>12</td>\n",
       "      <td>weekday</td>\n",
       "      <td>2</td>\n",
       "      <td>1</td>\n",
       "      <td>71.0</td>\n",
       "      <td>car</td>\n",
       "      <td>17</td>\n",
       "      <td>67.0</td>\n",
       "      <td>Male</td>\n",
       "      <td>NaN</td>\n",
       "      <td>NaN</td>\n",
       "      <td>C71</td>\n",
       "    </tr>\n",
       "    <tr>\n",
       "      <th>3</th>\n",
       "      <td>1</td>\n",
       "      <td>1</td>\n",
       "      <td>CC71</td>\n",
       "      <td>resource_use</td>\n",
       "      <td>240.0</td>\n",
       "      <td>2025-02-14 12:00:00</td>\n",
       "      <td>Fri</td>\n",
       "      <td>12</td>\n",
       "      <td>weekday</td>\n",
       "      <td>2</td>\n",
       "      <td>1</td>\n",
       "      <td>71.0</td>\n",
       "      <td>car</td>\n",
       "      <td>17</td>\n",
       "      <td>67.0</td>\n",
       "      <td>Male</td>\n",
       "      <td>NaN</td>\n",
       "      <td>NaN</td>\n",
       "      <td>C71</td>\n",
       "    </tr>\n",
       "    <tr>\n",
       "      <th>4</th>\n",
       "      <td>1</td>\n",
       "      <td>1</td>\n",
       "      <td>arrival</td>\n",
       "      <td>arrival_departure</td>\n",
       "      <td>240.0</td>\n",
       "      <td>2025-02-14 12:00:00</td>\n",
       "      <td>Fri</td>\n",
       "      <td>12</td>\n",
       "      <td>weekday</td>\n",
       "      <td>2</td>\n",
       "      <td>1</td>\n",
       "      <td>71.0</td>\n",
       "      <td>car</td>\n",
       "      <td>17</td>\n",
       "      <td>67.0</td>\n",
       "      <td>Male</td>\n",
       "      <td>NaN</td>\n",
       "      <td>NaN</td>\n",
       "      <td>C71</td>\n",
       "    </tr>\n",
       "  </tbody>\n",
       "</table>\n",
       "</div>"
      ],
      "text/plain": [
       "   P_ID  run_number                                   time_type  \\\n",
       "0     1           1                                          71   \n",
       "1     1           1                                         car   \n",
       "2     1           1  Preferred resource available and allocated   \n",
       "3     1           1                                        CC71   \n",
       "4     1           1                                     arrival   \n",
       "\n",
       "                          event_type  timestamp         timestamp_dt  day  \\\n",
       "0  resource_preferred_resource_group      240.0  2025-02-14 12:00:00  Fri   \n",
       "1    resource_preferred_vehicle_type      240.0  2025-02-14 12:00:00  Fri   \n",
       "2         resource_preferred_outcome      240.0  2025-02-14 12:00:00  Fri   \n",
       "3                       resource_use      240.0  2025-02-14 12:00:00  Fri   \n",
       "4                  arrival_departure      240.0  2025-02-14 12:00:00  Fri   \n",
       "\n",
       "   hour  weekday  month  qtr  callsign_group vehicle_type  ampds_card   age  \\\n",
       "0    12  weekday      2    1             NaN          NaN          17  67.0   \n",
       "1    12  weekday      2    1             NaN          NaN          17  67.0   \n",
       "2    12  weekday      2    1            71.0          car          17  67.0   \n",
       "3    12  weekday      2    1            71.0          car          17  67.0   \n",
       "4    12  weekday      2    1            71.0          car          17  67.0   \n",
       "\n",
       "    sex hems_result outcome callsign  \n",
       "0  Male         NaN     NaN      NaN  \n",
       "1  Male         NaN     NaN      NaN  \n",
       "2  Male         NaN     NaN      C71  \n",
       "3  Male         NaN     NaN      C71  \n",
       "4  Male         NaN     NaN      C71  "
      ]
     },
     "execution_count": 1,
     "metadata": {},
     "output_type": "execute_result"
    }
   ],
   "source": [
    "import pandas as pd\n",
    "import _utilisation_result_calculation\n",
    "import _processing_functions\n",
    "\n",
    "run_results = pd.read_csv(\"../data/run_results.csv\")\n",
    "run_results = _processing_functions.make_callsign_column(run_results)\n",
    "\n",
    "run_results.head()\n"
   ]
  },
  {
   "cell_type": "code",
   "execution_count": 2,
   "metadata": {},
   "outputs": [
    {
     "data": {
      "text/html": [
       "<div>\n",
       "<style scoped>\n",
       "    .dataframe tbody tr th:only-of-type {\n",
       "        vertical-align: middle;\n",
       "    }\n",
       "\n",
       "    .dataframe tbody tr th {\n",
       "        vertical-align: top;\n",
       "    }\n",
       "\n",
       "    .dataframe thead th {\n",
       "        text-align: right;\n",
       "    }\n",
       "</style>\n",
       "<table border=\"1\" class=\"dataframe\">\n",
       "  <thead>\n",
       "    <tr style=\"text-align: right;\">\n",
       "      <th></th>\n",
       "      <th>parameter</th>\n",
       "      <th>value</th>\n",
       "    </tr>\n",
       "  </thead>\n",
       "  <tbody>\n",
       "    <tr>\n",
       "      <th>0</th>\n",
       "      <td>sim_duration</td>\n",
       "      <td>525600.0</td>\n",
       "    </tr>\n",
       "    <tr>\n",
       "      <th>1</th>\n",
       "      <td>warm_up_duration</td>\n",
       "      <td>0.0</td>\n",
       "    </tr>\n",
       "    <tr>\n",
       "      <th>2</th>\n",
       "      <td>sim_start_date</td>\n",
       "      <td>2025-02-14 08:00:00</td>\n",
       "    </tr>\n",
       "    <tr>\n",
       "      <th>3</th>\n",
       "      <td>sim_end_date</td>\n",
       "      <td>2026-02-14 08:00:00</td>\n",
       "    </tr>\n",
       "    <tr>\n",
       "      <th>4</th>\n",
       "      <td>warm_up_end_date</td>\n",
       "      <td>2025-02-14 08:00:00</td>\n",
       "    </tr>\n",
       "    <tr>\n",
       "      <th>5</th>\n",
       "      <td>amb_data</td>\n",
       "      <td>False</td>\n",
       "    </tr>\n",
       "    <tr>\n",
       "      <th>6</th>\n",
       "      <td>model_exec_time</td>\n",
       "      <td>2025-02-14 11:51:12.838309</td>\n",
       "    </tr>\n",
       "    <tr>\n",
       "      <th>7</th>\n",
       "      <td>summer_start_date</td>\n",
       "      <td>2025-04-01</td>\n",
       "    </tr>\n",
       "    <tr>\n",
       "      <th>8</th>\n",
       "      <td>winter_start_date</td>\n",
       "      <td>2025-10-01</td>\n",
       "    </tr>\n",
       "  </tbody>\n",
       "</table>\n",
       "</div>"
      ],
      "text/plain": [
       "           parameter                       value\n",
       "0       sim_duration                    525600.0\n",
       "1   warm_up_duration                         0.0\n",
       "2     sim_start_date         2025-02-14 08:00:00\n",
       "3       sim_end_date         2026-02-14 08:00:00\n",
       "4   warm_up_end_date         2025-02-14 08:00:00\n",
       "5           amb_data                       False\n",
       "6    model_exec_time  2025-02-14 11:51:12.838309\n",
       "7  summer_start_date                  2025-04-01\n",
       "8  winter_start_date                  2025-10-01"
      ]
     },
     "execution_count": 2,
     "metadata": {},
     "output_type": "execute_result"
    }
   ],
   "source": [
    "params = pd.read_csv(\"../data/run_params_used.csv\")\n",
    "params"
   ]
  },
  {
   "cell_type": "code",
   "execution_count": 3,
   "metadata": {},
   "outputs": [
    {
     "data": {
      "text/plain": [
       "'525600.0'"
      ]
     },
     "execution_count": 3,
     "metadata": {},
     "output_type": "execute_result"
    }
   ],
   "source": [
    "params[params[\"parameter\"] == \"sim_duration\"]['value'].values[0]"
   ]
  },
  {
   "cell_type": "code",
   "execution_count": 4,
   "metadata": {},
   "outputs": [
    {
     "data": {
      "text/html": [
       "<div>\n",
       "<style scoped>\n",
       "    .dataframe tbody tr th:only-of-type {\n",
       "        vertical-align: middle;\n",
       "    }\n",
       "\n",
       "    .dataframe tbody tr th {\n",
       "        vertical-align: top;\n",
       "    }\n",
       "\n",
       "    .dataframe thead th {\n",
       "        text-align: right;\n",
       "    }\n",
       "</style>\n",
       "<table border=\"1\" class=\"dataframe\">\n",
       "  <thead>\n",
       "    <tr style=\"text-align: right;\">\n",
       "      <th></th>\n",
       "      <th>P_ID</th>\n",
       "      <th>run_number</th>\n",
       "      <th>time_type</th>\n",
       "      <th>event_type</th>\n",
       "      <th>timestamp</th>\n",
       "      <th>timestamp_dt</th>\n",
       "      <th>day</th>\n",
       "      <th>hour</th>\n",
       "      <th>weekday</th>\n",
       "      <th>month</th>\n",
       "      <th>qtr</th>\n",
       "      <th>callsign_group</th>\n",
       "      <th>vehicle_type</th>\n",
       "      <th>ampds_card</th>\n",
       "      <th>age</th>\n",
       "      <th>sex</th>\n",
       "      <th>hems_result</th>\n",
       "      <th>outcome</th>\n",
       "      <th>callsign</th>\n",
       "    </tr>\n",
       "  </thead>\n",
       "  <tbody>\n",
       "    <tr>\n",
       "      <th>3</th>\n",
       "      <td>1</td>\n",
       "      <td>1</td>\n",
       "      <td>CC71</td>\n",
       "      <td>resource_use</td>\n",
       "      <td>240.0</td>\n",
       "      <td>2025-02-14 12:00:00</td>\n",
       "      <td>Fri</td>\n",
       "      <td>12</td>\n",
       "      <td>weekday</td>\n",
       "      <td>2</td>\n",
       "      <td>1</td>\n",
       "      <td>71.0</td>\n",
       "      <td>car</td>\n",
       "      <td>17</td>\n",
       "      <td>67.0</td>\n",
       "      <td>Male</td>\n",
       "      <td>NaN</td>\n",
       "      <td>NaN</td>\n",
       "      <td>C71</td>\n",
       "    </tr>\n",
       "    <tr>\n",
       "      <th>10</th>\n",
       "      <td>1</td>\n",
       "      <td>1</td>\n",
       "      <td>CC71</td>\n",
       "      <td>resource_use_end</td>\n",
       "      <td>418.0</td>\n",
       "      <td>2025-02-14 14:58:00</td>\n",
       "      <td>Fri</td>\n",
       "      <td>12</td>\n",
       "      <td>weekday</td>\n",
       "      <td>2</td>\n",
       "      <td>1</td>\n",
       "      <td>71.0</td>\n",
       "      <td>car</td>\n",
       "      <td>17</td>\n",
       "      <td>67.0</td>\n",
       "      <td>Male</td>\n",
       "      <td>Patient Treated (not conveyed)</td>\n",
       "      <td>Conveyed by land without DAA</td>\n",
       "      <td>C71</td>\n",
       "    </tr>\n",
       "    <tr>\n",
       "      <th>16</th>\n",
       "      <td>2</td>\n",
       "      <td>1</td>\n",
       "      <td>CC71</td>\n",
       "      <td>resource_use</td>\n",
       "      <td>420.0</td>\n",
       "      <td>2025-02-14 15:00:00</td>\n",
       "      <td>Fri</td>\n",
       "      <td>15</td>\n",
       "      <td>weekday</td>\n",
       "      <td>2</td>\n",
       "      <td>1</td>\n",
       "      <td>71.0</td>\n",
       "      <td>car</td>\n",
       "      <td>29</td>\n",
       "      <td>57.0</td>\n",
       "      <td>Female</td>\n",
       "      <td>NaN</td>\n",
       "      <td>NaN</td>\n",
       "      <td>C71</td>\n",
       "    </tr>\n",
       "    <tr>\n",
       "      <th>24</th>\n",
       "      <td>2</td>\n",
       "      <td>1</td>\n",
       "      <td>CC71</td>\n",
       "      <td>resource_use_end</td>\n",
       "      <td>519.0</td>\n",
       "      <td>2025-02-14 16:39:00</td>\n",
       "      <td>Fri</td>\n",
       "      <td>15</td>\n",
       "      <td>weekday</td>\n",
       "      <td>2</td>\n",
       "      <td>1</td>\n",
       "      <td>71.0</td>\n",
       "      <td>car</td>\n",
       "      <td>29</td>\n",
       "      <td>57.0</td>\n",
       "      <td>Female</td>\n",
       "      <td>Patient Conveyed</td>\n",
       "      <td>Airlifted</td>\n",
       "      <td>C71</td>\n",
       "    </tr>\n",
       "    <tr>\n",
       "      <th>30</th>\n",
       "      <td>3</td>\n",
       "      <td>1</td>\n",
       "      <td>CC70</td>\n",
       "      <td>resource_use</td>\n",
       "      <td>780.0</td>\n",
       "      <td>2025-02-14 21:00:00</td>\n",
       "      <td>Fri</td>\n",
       "      <td>21</td>\n",
       "      <td>weekday</td>\n",
       "      <td>2</td>\n",
       "      <td>1</td>\n",
       "      <td>70.0</td>\n",
       "      <td>car</td>\n",
       "      <td>6</td>\n",
       "      <td>76.0</td>\n",
       "      <td>Male</td>\n",
       "      <td>NaN</td>\n",
       "      <td>NaN</td>\n",
       "      <td>C70</td>\n",
       "    </tr>\n",
       "    <tr>\n",
       "      <th>...</th>\n",
       "      <td>...</td>\n",
       "      <td>...</td>\n",
       "      <td>...</td>\n",
       "      <td>...</td>\n",
       "      <td>...</td>\n",
       "      <td>...</td>\n",
       "      <td>...</td>\n",
       "      <td>...</td>\n",
       "      <td>...</td>\n",
       "      <td>...</td>\n",
       "      <td>...</td>\n",
       "      <td>...</td>\n",
       "      <td>...</td>\n",
       "      <td>...</td>\n",
       "      <td>...</td>\n",
       "      <td>...</td>\n",
       "      <td>...</td>\n",
       "      <td>...</td>\n",
       "      <td>...</td>\n",
       "    </tr>\n",
       "    <tr>\n",
       "      <th>627290</th>\n",
       "      <td>1581</td>\n",
       "      <td>9</td>\n",
       "      <td>CC70</td>\n",
       "      <td>resource_use_end</td>\n",
       "      <td>524287.0</td>\n",
       "      <td>2026-02-13 10:07:00</td>\n",
       "      <td>Fri</td>\n",
       "      <td>9</td>\n",
       "      <td>weekday</td>\n",
       "      <td>2</td>\n",
       "      <td>1</td>\n",
       "      <td>70.0</td>\n",
       "      <td>car</td>\n",
       "      <td>17</td>\n",
       "      <td>41.0</td>\n",
       "      <td>Female</td>\n",
       "      <td>Patient Treated (not conveyed)</td>\n",
       "      <td>Conveyed by land without DAA</td>\n",
       "      <td>C70</td>\n",
       "    </tr>\n",
       "    <tr>\n",
       "      <th>627298</th>\n",
       "      <td>1582</td>\n",
       "      <td>9</td>\n",
       "      <td>H70</td>\n",
       "      <td>resource_use_end</td>\n",
       "      <td>524374.0</td>\n",
       "      <td>2026-02-13 11:34:00</td>\n",
       "      <td>Fri</td>\n",
       "      <td>10</td>\n",
       "      <td>weekday</td>\n",
       "      <td>2</td>\n",
       "      <td>1</td>\n",
       "      <td>70.0</td>\n",
       "      <td>helicopter</td>\n",
       "      <td>9</td>\n",
       "      <td>80.0</td>\n",
       "      <td>Male</td>\n",
       "      <td>Patient Conveyed</td>\n",
       "      <td>Airlifted</td>\n",
       "      <td>H70</td>\n",
       "    </tr>\n",
       "    <tr>\n",
       "      <th>627304</th>\n",
       "      <td>1583</td>\n",
       "      <td>9</td>\n",
       "      <td>H70</td>\n",
       "      <td>resource_use</td>\n",
       "      <td>524520.0</td>\n",
       "      <td>2026-02-13 14:00:00</td>\n",
       "      <td>Fri</td>\n",
       "      <td>14</td>\n",
       "      <td>weekday</td>\n",
       "      <td>2</td>\n",
       "      <td>1</td>\n",
       "      <td>70.0</td>\n",
       "      <td>helicopter</td>\n",
       "      <td>12</td>\n",
       "      <td>70.0</td>\n",
       "      <td>Male</td>\n",
       "      <td>NaN</td>\n",
       "      <td>NaN</td>\n",
       "      <td>H70</td>\n",
       "    </tr>\n",
       "    <tr>\n",
       "      <th>627310</th>\n",
       "      <td>1583</td>\n",
       "      <td>9</td>\n",
       "      <td>H70</td>\n",
       "      <td>resource_use_end</td>\n",
       "      <td>524560.0</td>\n",
       "      <td>2026-02-13 14:40:00</td>\n",
       "      <td>Fri</td>\n",
       "      <td>14</td>\n",
       "      <td>weekday</td>\n",
       "      <td>2</td>\n",
       "      <td>1</td>\n",
       "      <td>70.0</td>\n",
       "      <td>helicopter</td>\n",
       "      <td>12</td>\n",
       "      <td>70.0</td>\n",
       "      <td>Male</td>\n",
       "      <td>Stand Down En Route</td>\n",
       "      <td>Unknown</td>\n",
       "      <td>H70</td>\n",
       "    </tr>\n",
       "    <tr>\n",
       "      <th>627315</th>\n",
       "      <td>1580</td>\n",
       "      <td>9</td>\n",
       "      <td>CC71</td>\n",
       "      <td>resource_use_end</td>\n",
       "      <td>525118.0</td>\n",
       "      <td>2026-02-13 23:58:00</td>\n",
       "      <td>Fri</td>\n",
       "      <td>9</td>\n",
       "      <td>weekday</td>\n",
       "      <td>2</td>\n",
       "      <td>1</td>\n",
       "      <td>71.0</td>\n",
       "      <td>car</td>\n",
       "      <td>9</td>\n",
       "      <td>79.0</td>\n",
       "      <td>Male</td>\n",
       "      <td>Patient Conveyed</td>\n",
       "      <td>Conveyed by land with DAA</td>\n",
       "      <td>C71</td>\n",
       "    </tr>\n",
       "  </tbody>\n",
       "</table>\n",
       "<p>90285 rows × 19 columns</p>\n",
       "</div>"
      ],
      "text/plain": [
       "        P_ID  run_number time_type        event_type  timestamp  \\\n",
       "3          1           1      CC71      resource_use      240.0   \n",
       "10         1           1      CC71  resource_use_end      418.0   \n",
       "16         2           1      CC71      resource_use      420.0   \n",
       "24         2           1      CC71  resource_use_end      519.0   \n",
       "30         3           1      CC70      resource_use      780.0   \n",
       "...      ...         ...       ...               ...        ...   \n",
       "627290  1581           9      CC70  resource_use_end   524287.0   \n",
       "627298  1582           9       H70  resource_use_end   524374.0   \n",
       "627304  1583           9       H70      resource_use   524520.0   \n",
       "627310  1583           9       H70  resource_use_end   524560.0   \n",
       "627315  1580           9      CC71  resource_use_end   525118.0   \n",
       "\n",
       "               timestamp_dt  day  hour  weekday  month  qtr  callsign_group  \\\n",
       "3       2025-02-14 12:00:00  Fri    12  weekday      2    1            71.0   \n",
       "10      2025-02-14 14:58:00  Fri    12  weekday      2    1            71.0   \n",
       "16      2025-02-14 15:00:00  Fri    15  weekday      2    1            71.0   \n",
       "24      2025-02-14 16:39:00  Fri    15  weekday      2    1            71.0   \n",
       "30      2025-02-14 21:00:00  Fri    21  weekday      2    1            70.0   \n",
       "...                     ...  ...   ...      ...    ...  ...             ...   \n",
       "627290  2026-02-13 10:07:00  Fri     9  weekday      2    1            70.0   \n",
       "627298  2026-02-13 11:34:00  Fri    10  weekday      2    1            70.0   \n",
       "627304  2026-02-13 14:00:00  Fri    14  weekday      2    1            70.0   \n",
       "627310  2026-02-13 14:40:00  Fri    14  weekday      2    1            70.0   \n",
       "627315  2026-02-13 23:58:00  Fri     9  weekday      2    1            71.0   \n",
       "\n",
       "       vehicle_type  ampds_card   age     sex                     hems_result  \\\n",
       "3               car          17  67.0    Male                             NaN   \n",
       "10              car          17  67.0    Male  Patient Treated (not conveyed)   \n",
       "16              car          29  57.0  Female                             NaN   \n",
       "24              car          29  57.0  Female                Patient Conveyed   \n",
       "30              car           6  76.0    Male                             NaN   \n",
       "...             ...         ...   ...     ...                             ...   \n",
       "627290          car          17  41.0  Female  Patient Treated (not conveyed)   \n",
       "627298   helicopter           9  80.0    Male                Patient Conveyed   \n",
       "627304   helicopter          12  70.0    Male                             NaN   \n",
       "627310   helicopter          12  70.0    Male             Stand Down En Route   \n",
       "627315          car           9  79.0    Male                Patient Conveyed   \n",
       "\n",
       "                             outcome callsign  \n",
       "3                                NaN      C71  \n",
       "10      Conveyed by land without DAA      C71  \n",
       "16                               NaN      C71  \n",
       "24                         Airlifted      C71  \n",
       "30                               NaN      C70  \n",
       "...                              ...      ...  \n",
       "627290  Conveyed by land without DAA      C70  \n",
       "627298                     Airlifted      H70  \n",
       "627304                           NaN      H70  \n",
       "627310                       Unknown      H70  \n",
       "627315     Conveyed by land with DAA      C71  \n",
       "\n",
       "[90285 rows x 19 columns]"
      ]
     },
     "execution_count": 4,
     "metadata": {},
     "output_type": "execute_result"
    }
   ],
   "source": [
    "resource_use_only = run_results[run_results[\"event_type\"].isin([\"resource_use\", \"resource_use_end\"])]\n",
    "resource_use_only"
   ]
  },
  {
   "cell_type": "code",
   "execution_count": 5,
   "metadata": {},
   "outputs": [
    {
     "data": {
      "text/html": [
       "<div>\n",
       "<style scoped>\n",
       "    .dataframe tbody tr th:only-of-type {\n",
       "        vertical-align: middle;\n",
       "    }\n",
       "\n",
       "    .dataframe tbody tr th {\n",
       "        vertical-align: top;\n",
       "    }\n",
       "\n",
       "    .dataframe thead th {\n",
       "        text-align: right;\n",
       "    }\n",
       "</style>\n",
       "<table border=\"1\" class=\"dataframe\">\n",
       "  <thead>\n",
       "    <tr style=\"text-align: right;\">\n",
       "      <th>event_type</th>\n",
       "      <th>P_ID</th>\n",
       "      <th>run_number</th>\n",
       "      <th>callsign_group</th>\n",
       "      <th>vehicle_type</th>\n",
       "      <th>callsign</th>\n",
       "      <th>resource_use</th>\n",
       "      <th>resource_use_end</th>\n",
       "    </tr>\n",
       "  </thead>\n",
       "  <tbody>\n",
       "    <tr>\n",
       "      <th>0</th>\n",
       "      <td>1</td>\n",
       "      <td>1</td>\n",
       "      <td>71.0</td>\n",
       "      <td>car</td>\n",
       "      <td>C71</td>\n",
       "      <td>2025-02-14 12:00:00</td>\n",
       "      <td>2025-02-14 14:58:00</td>\n",
       "    </tr>\n",
       "    <tr>\n",
       "      <th>1</th>\n",
       "      <td>1</td>\n",
       "      <td>2</td>\n",
       "      <td>70.0</td>\n",
       "      <td>car</td>\n",
       "      <td>C70</td>\n",
       "      <td>2025-02-14 09:00:00</td>\n",
       "      <td>2025-02-14 10:12:00</td>\n",
       "    </tr>\n",
       "    <tr>\n",
       "      <th>2</th>\n",
       "      <td>1</td>\n",
       "      <td>3</td>\n",
       "      <td>71.0</td>\n",
       "      <td>car</td>\n",
       "      <td>C71</td>\n",
       "      <td>2025-02-14 10:00:00</td>\n",
       "      <td>2025-02-14 11:06:00</td>\n",
       "    </tr>\n",
       "    <tr>\n",
       "      <th>3</th>\n",
       "      <td>1</td>\n",
       "      <td>4</td>\n",
       "      <td>70.0</td>\n",
       "      <td>car</td>\n",
       "      <td>C70</td>\n",
       "      <td>2025-02-14 10:00:00</td>\n",
       "      <td>2025-02-14 11:27:00</td>\n",
       "    </tr>\n",
       "    <tr>\n",
       "      <th>4</th>\n",
       "      <td>1</td>\n",
       "      <td>5</td>\n",
       "      <td>70.0</td>\n",
       "      <td>car</td>\n",
       "      <td>C70</td>\n",
       "      <td>2025-02-14 22:00:00</td>\n",
       "      <td>2025-02-14 23:03:00</td>\n",
       "    </tr>\n",
       "    <tr>\n",
       "      <th>...</th>\n",
       "      <td>...</td>\n",
       "      <td>...</td>\n",
       "      <td>...</td>\n",
       "      <td>...</td>\n",
       "      <td>...</td>\n",
       "      <td>...</td>\n",
       "      <td>...</td>\n",
       "    </tr>\n",
       "    <tr>\n",
       "      <th>45140</th>\n",
       "      <td>1763</td>\n",
       "      <td>2</td>\n",
       "      <td>72.0</td>\n",
       "      <td>car</td>\n",
       "      <td>C72</td>\n",
       "      <td>2026-02-12 10:00:00</td>\n",
       "      <td>2026-02-12 10:44:00</td>\n",
       "    </tr>\n",
       "    <tr>\n",
       "      <th>45141</th>\n",
       "      <td>1764</td>\n",
       "      <td>2</td>\n",
       "      <td>71.0</td>\n",
       "      <td>helicopter</td>\n",
       "      <td>H71</td>\n",
       "      <td>2026-02-12 15:00:00</td>\n",
       "      <td>2026-02-12 15:41:00</td>\n",
       "    </tr>\n",
       "    <tr>\n",
       "      <th>45142</th>\n",
       "      <td>1765</td>\n",
       "      <td>2</td>\n",
       "      <td>70.0</td>\n",
       "      <td>helicopter</td>\n",
       "      <td>H70</td>\n",
       "      <td>2026-02-13 01:00:00</td>\n",
       "      <td>2026-02-13 02:03:00</td>\n",
       "    </tr>\n",
       "    <tr>\n",
       "      <th>45143</th>\n",
       "      <td>1766</td>\n",
       "      <td>2</td>\n",
       "      <td>71.0</td>\n",
       "      <td>helicopter</td>\n",
       "      <td>H71</td>\n",
       "      <td>2026-02-13 14:00:00</td>\n",
       "      <td>2026-02-13 14:43:00</td>\n",
       "    </tr>\n",
       "    <tr>\n",
       "      <th>45144</th>\n",
       "      <td>1767</td>\n",
       "      <td>2</td>\n",
       "      <td>70.0</td>\n",
       "      <td>helicopter</td>\n",
       "      <td>H70</td>\n",
       "      <td>2026-02-13 20:00:00</td>\n",
       "      <td>2026-02-13 21:54:00</td>\n",
       "    </tr>\n",
       "  </tbody>\n",
       "</table>\n",
       "<p>45145 rows × 7 columns</p>\n",
       "</div>"
      ],
      "text/plain": [
       "event_type  P_ID  run_number  callsign_group vehicle_type callsign  \\\n",
       "0              1           1            71.0          car      C71   \n",
       "1              1           2            70.0          car      C70   \n",
       "2              1           3            71.0          car      C71   \n",
       "3              1           4            70.0          car      C70   \n",
       "4              1           5            70.0          car      C70   \n",
       "...          ...         ...             ...          ...      ...   \n",
       "45140       1763           2            72.0          car      C72   \n",
       "45141       1764           2            71.0   helicopter      H71   \n",
       "45142       1765           2            70.0   helicopter      H70   \n",
       "45143       1766           2            71.0   helicopter      H71   \n",
       "45144       1767           2            70.0   helicopter      H70   \n",
       "\n",
       "event_type         resource_use     resource_use_end  \n",
       "0           2025-02-14 12:00:00  2025-02-14 14:58:00  \n",
       "1           2025-02-14 09:00:00  2025-02-14 10:12:00  \n",
       "2           2025-02-14 10:00:00  2025-02-14 11:06:00  \n",
       "3           2025-02-14 10:00:00  2025-02-14 11:27:00  \n",
       "4           2025-02-14 22:00:00  2025-02-14 23:03:00  \n",
       "...                         ...                  ...  \n",
       "45140       2026-02-12 10:00:00  2026-02-12 10:44:00  \n",
       "45141       2026-02-12 15:00:00  2026-02-12 15:41:00  \n",
       "45142       2026-02-13 01:00:00  2026-02-13 02:03:00  \n",
       "45143       2026-02-13 14:00:00  2026-02-13 14:43:00  \n",
       "45144       2026-02-13 20:00:00  2026-02-13 21:54:00  \n",
       "\n",
       "[45145 rows x 7 columns]"
      ]
     },
     "execution_count": 5,
     "metadata": {},
     "output_type": "execute_result"
    }
   ],
   "source": [
    "resource_use_wide = resource_use_only[[\"P_ID\", \"run_number\", \"event_type\", \"timestamp_dt\", \"callsign_group\", \"vehicle_type\", \"callsign\"]].pivot(index=[\"P_ID\", \"run_number\", \"callsign_group\", \"vehicle_type\", \"callsign\"], columns=\"event_type\", values=\"timestamp_dt\").reset_index()\n",
    "\n",
    "resource_use_wide"
   ]
  },
  {
   "cell_type": "code",
   "execution_count": 6,
   "metadata": {},
   "outputs": [
    {
     "data": {
      "text/plain": [
       "0"
      ]
     },
     "execution_count": 6,
     "metadata": {},
     "output_type": "execute_result"
    }
   ],
   "source": [
    "resource_use_wide['resource_use'].isna().sum()"
   ]
  },
  {
   "cell_type": "code",
   "execution_count": 7,
   "metadata": {},
   "outputs": [
    {
     "data": {
      "text/plain": [
       "5"
      ]
     },
     "execution_count": 7,
     "metadata": {},
     "output_type": "execute_result"
    }
   ],
   "source": [
    "resource_use_wide['resource_use_end'].isna().sum()"
   ]
  },
  {
   "cell_type": "code",
   "execution_count": 8,
   "metadata": {},
   "outputs": [
    {
     "data": {
      "text/plain": [
       "str"
      ]
     },
     "execution_count": 8,
     "metadata": {},
     "output_type": "execute_result"
    }
   ],
   "source": [
    "type(resource_use_wide['resource_use_end'][0])"
   ]
  },
  {
   "cell_type": "code",
   "execution_count": 9,
   "metadata": {},
   "outputs": [
    {
     "name": "stderr",
     "output_type": "stream",
     "text": [
      "c:\\DAAT\\DAA_DES\\app\\_vehicle_calculation.py:78: SettingWithCopyWarning: \n",
      "A value is trying to be set on a copy of a slice from a DataFrame\n",
      "\n",
      "See the caveats in the documentation: https://pandas.pydata.org/pandas-docs/stable/user_guide/indexing.html#returning-a-view-versus-a-copy\n",
      "  first_day[callsign] = max(0, first_day[callsign] - warm_up_end.hour)\n",
      "c:\\DAAT\\DAA_DES\\app\\_vehicle_calculation.py:85: SettingWithCopyWarning: \n",
      "A value is trying to be set on a copy of a slice from a DataFrame\n",
      "\n",
      "See the caveats in the documentation: https://pandas.pydata.org/pandas-docs/stable/user_guide/indexing.html#returning-a-view-versus-a-copy\n",
      "  last_day[callsign] = min(last_day[callsign], sim_end.hour)\n"
     ]
    },
    {
     "data": {
      "text/html": [
       "<div>\n",
       "<style scoped>\n",
       "    .dataframe tbody tr th:only-of-type {\n",
       "        vertical-align: middle;\n",
       "    }\n",
       "\n",
       "    .dataframe tbody tr th {\n",
       "        vertical-align: top;\n",
       "    }\n",
       "\n",
       "    .dataframe thead th {\n",
       "        text-align: right;\n",
       "    }\n",
       "</style>\n",
       "<table border=\"1\" class=\"dataframe\">\n",
       "  <thead>\n",
       "    <tr style=\"text-align: right;\">\n",
       "      <th></th>\n",
       "      <th>date</th>\n",
       "      <th>is_summer</th>\n",
       "      <th>H70</th>\n",
       "      <th>CC70</th>\n",
       "      <th>H71</th>\n",
       "      <th>CC71</th>\n",
       "      <th>CC72</th>\n",
       "    </tr>\n",
       "  </thead>\n",
       "  <tbody>\n",
       "    <tr>\n",
       "      <th>0</th>\n",
       "      <td>2025-02-14</td>\n",
       "      <td>False</td>\n",
       "      <td>11</td>\n",
       "      <td>11</td>\n",
       "      <td>2</td>\n",
       "      <td>2</td>\n",
       "      <td>2</td>\n",
       "    </tr>\n",
       "    <tr>\n",
       "      <th>1</th>\n",
       "      <td>2025-02-15</td>\n",
       "      <td>False</td>\n",
       "      <td>19</td>\n",
       "      <td>19</td>\n",
       "      <td>10</td>\n",
       "      <td>10</td>\n",
       "      <td>10</td>\n",
       "    </tr>\n",
       "    <tr>\n",
       "      <th>2</th>\n",
       "      <td>2025-02-16</td>\n",
       "      <td>False</td>\n",
       "      <td>19</td>\n",
       "      <td>19</td>\n",
       "      <td>10</td>\n",
       "      <td>10</td>\n",
       "      <td>10</td>\n",
       "    </tr>\n",
       "    <tr>\n",
       "      <th>3</th>\n",
       "      <td>2025-02-17</td>\n",
       "      <td>False</td>\n",
       "      <td>19</td>\n",
       "      <td>19</td>\n",
       "      <td>10</td>\n",
       "      <td>10</td>\n",
       "      <td>10</td>\n",
       "    </tr>\n",
       "    <tr>\n",
       "      <th>4</th>\n",
       "      <td>2025-02-18</td>\n",
       "      <td>False</td>\n",
       "      <td>19</td>\n",
       "      <td>19</td>\n",
       "      <td>10</td>\n",
       "      <td>10</td>\n",
       "      <td>10</td>\n",
       "    </tr>\n",
       "    <tr>\n",
       "      <th>...</th>\n",
       "      <td>...</td>\n",
       "      <td>...</td>\n",
       "      <td>...</td>\n",
       "      <td>...</td>\n",
       "      <td>...</td>\n",
       "      <td>...</td>\n",
       "      <td>...</td>\n",
       "    </tr>\n",
       "    <tr>\n",
       "      <th>361</th>\n",
       "      <td>2026-02-10</td>\n",
       "      <td>False</td>\n",
       "      <td>19</td>\n",
       "      <td>19</td>\n",
       "      <td>10</td>\n",
       "      <td>10</td>\n",
       "      <td>10</td>\n",
       "    </tr>\n",
       "    <tr>\n",
       "      <th>362</th>\n",
       "      <td>2026-02-11</td>\n",
       "      <td>False</td>\n",
       "      <td>19</td>\n",
       "      <td>19</td>\n",
       "      <td>10</td>\n",
       "      <td>10</td>\n",
       "      <td>10</td>\n",
       "    </tr>\n",
       "    <tr>\n",
       "      <th>363</th>\n",
       "      <td>2026-02-12</td>\n",
       "      <td>False</td>\n",
       "      <td>19</td>\n",
       "      <td>19</td>\n",
       "      <td>10</td>\n",
       "      <td>10</td>\n",
       "      <td>10</td>\n",
       "    </tr>\n",
       "    <tr>\n",
       "      <th>364</th>\n",
       "      <td>2026-02-13</td>\n",
       "      <td>False</td>\n",
       "      <td>19</td>\n",
       "      <td>19</td>\n",
       "      <td>10</td>\n",
       "      <td>10</td>\n",
       "      <td>10</td>\n",
       "    </tr>\n",
       "    <tr>\n",
       "      <th>365</th>\n",
       "      <td>2026-02-14</td>\n",
       "      <td>False</td>\n",
       "      <td>8</td>\n",
       "      <td>8</td>\n",
       "      <td>8</td>\n",
       "      <td>8</td>\n",
       "      <td>8</td>\n",
       "    </tr>\n",
       "  </tbody>\n",
       "</table>\n",
       "<p>366 rows × 7 columns</p>\n",
       "</div>"
      ],
      "text/plain": [
       "          date  is_summer  H70  CC70  H71  CC71  CC72\n",
       "0   2025-02-14      False   11    11    2     2     2\n",
       "1   2025-02-15      False   19    19   10    10    10\n",
       "2   2025-02-16      False   19    19   10    10    10\n",
       "3   2025-02-17      False   19    19   10    10    10\n",
       "4   2025-02-18      False   19    19   10    10    10\n",
       "..         ...        ...  ...   ...  ...   ...   ...\n",
       "361 2026-02-10      False   19    19   10    10    10\n",
       "362 2026-02-11      False   19    19   10    10    10\n",
       "363 2026-02-12      False   19    19   10    10    10\n",
       "364 2026-02-13      False   19    19   10    10    10\n",
       "365 2026-02-14      False    8     8    8     8     8\n",
       "\n",
       "[366 rows x 7 columns]"
      ]
     },
     "execution_count": 9,
     "metadata": {},
     "output_type": "execute_result"
    }
   ],
   "source": [
    "import _vehicle_calculation\n",
    "\n",
    "daily_availability, total_avail_hours, total_avail_minutes = _vehicle_calculation.calculate_available_hours(\n",
    "        params, rota_path=\"../data/hems_rota_used.csv\"\n",
    "        )\n",
    "\n",
    "daily_availability"
   ]
  },
  {
   "cell_type": "code",
   "execution_count": 10,
   "metadata": {},
   "outputs": [
    {
     "data": {
      "text/html": [
       "<div>\n",
       "<style scoped>\n",
       "    .dataframe tbody tr th:only-of-type {\n",
       "        vertical-align: middle;\n",
       "    }\n",
       "\n",
       "    .dataframe tbody tr th {\n",
       "        vertical-align: top;\n",
       "    }\n",
       "\n",
       "    .dataframe thead th {\n",
       "        text-align: right;\n",
       "    }\n",
       "</style>\n",
       "<table border=\"1\" class=\"dataframe\">\n",
       "  <thead>\n",
       "    <tr style=\"text-align: right;\">\n",
       "      <th></th>\n",
       "      <th>callsign</th>\n",
       "      <th>total_available_hours_in_sim</th>\n",
       "      <th>callsign_group</th>\n",
       "    </tr>\n",
       "  </thead>\n",
       "  <tbody>\n",
       "    <tr>\n",
       "      <th>0</th>\n",
       "      <td>H70</td>\n",
       "      <td>6935</td>\n",
       "      <td>70</td>\n",
       "    </tr>\n",
       "    <tr>\n",
       "      <th>1</th>\n",
       "      <td>C70</td>\n",
       "      <td>6935</td>\n",
       "      <td>70</td>\n",
       "    </tr>\n",
       "    <tr>\n",
       "      <th>2</th>\n",
       "      <td>H71</td>\n",
       "      <td>4016</td>\n",
       "      <td>71</td>\n",
       "    </tr>\n",
       "    <tr>\n",
       "      <th>3</th>\n",
       "      <td>C71</td>\n",
       "      <td>3650</td>\n",
       "      <td>71</td>\n",
       "    </tr>\n",
       "    <tr>\n",
       "      <th>4</th>\n",
       "      <td>C72</td>\n",
       "      <td>3650</td>\n",
       "      <td>72</td>\n",
       "    </tr>\n",
       "  </tbody>\n",
       "</table>\n",
       "</div>"
      ],
      "text/plain": [
       "  callsign  total_available_hours_in_sim callsign_group\n",
       "0      H70                          6935             70\n",
       "1      C70                          6935             70\n",
       "2      H71                          4016             71\n",
       "3      C71                          3650             71\n",
       "4      C72                          3650             72"
      ]
     },
     "execution_count": 10,
     "metadata": {},
     "output_type": "execute_result"
    }
   ],
   "source": [
    "total_avail_hours"
   ]
  },
  {
   "cell_type": "code",
   "execution_count": 11,
   "metadata": {},
   "outputs": [
    {
     "data": {
      "text/html": [
       "<div>\n",
       "<style scoped>\n",
       "    .dataframe tbody tr th:only-of-type {\n",
       "        vertical-align: middle;\n",
       "    }\n",
       "\n",
       "    .dataframe tbody tr th {\n",
       "        vertical-align: top;\n",
       "    }\n",
       "\n",
       "    .dataframe thead th {\n",
       "        text-align: right;\n",
       "    }\n",
       "</style>\n",
       "<table border=\"1\" class=\"dataframe\">\n",
       "  <thead>\n",
       "    <tr style=\"text-align: right;\">\n",
       "      <th></th>\n",
       "      <th>callsign</th>\n",
       "      <th>total_available_minutes_in_sim</th>\n",
       "      <th>callsign_group</th>\n",
       "    </tr>\n",
       "  </thead>\n",
       "  <tbody>\n",
       "    <tr>\n",
       "      <th>0</th>\n",
       "      <td>H70</td>\n",
       "      <td>416100</td>\n",
       "      <td>70</td>\n",
       "    </tr>\n",
       "    <tr>\n",
       "      <th>1</th>\n",
       "      <td>C70</td>\n",
       "      <td>416100</td>\n",
       "      <td>70</td>\n",
       "    </tr>\n",
       "    <tr>\n",
       "      <th>2</th>\n",
       "      <td>H71</td>\n",
       "      <td>240960</td>\n",
       "      <td>71</td>\n",
       "    </tr>\n",
       "    <tr>\n",
       "      <th>3</th>\n",
       "      <td>C71</td>\n",
       "      <td>219000</td>\n",
       "      <td>71</td>\n",
       "    </tr>\n",
       "    <tr>\n",
       "      <th>4</th>\n",
       "      <td>C72</td>\n",
       "      <td>219000</td>\n",
       "      <td>72</td>\n",
       "    </tr>\n",
       "  </tbody>\n",
       "</table>\n",
       "</div>"
      ],
      "text/plain": [
       "  callsign  total_available_minutes_in_sim callsign_group\n",
       "0      H70                          416100             70\n",
       "1      C70                          416100             70\n",
       "2      H71                          240960             71\n",
       "3      C71                          219000             71\n",
       "4      C72                          219000             72"
      ]
     },
     "execution_count": 11,
     "metadata": {},
     "output_type": "execute_result"
    }
   ],
   "source": [
    "total_avail_minutes"
   ]
  },
  {
   "cell_type": "code",
   "execution_count": 12,
   "metadata": {},
   "outputs": [
    {
     "data": {
      "text/html": [
       "<div>\n",
       "<style scoped>\n",
       "    .dataframe tbody tr th:only-of-type {\n",
       "        vertical-align: middle;\n",
       "    }\n",
       "\n",
       "    .dataframe tbody tr th {\n",
       "        vertical-align: top;\n",
       "    }\n",
       "\n",
       "    .dataframe thead th {\n",
       "        text-align: right;\n",
       "    }\n",
       "</style>\n",
       "<table border=\"1\" class=\"dataframe\">\n",
       "  <thead>\n",
       "    <tr style=\"text-align: right;\">\n",
       "      <th></th>\n",
       "      <th></th>\n",
       "      <th>event_type</th>\n",
       "      <th>resource_use_duration</th>\n",
       "    </tr>\n",
       "    <tr>\n",
       "      <th>run_number</th>\n",
       "      <th>vehicle_type</th>\n",
       "      <th>callsign</th>\n",
       "      <th></th>\n",
       "    </tr>\n",
       "  </thead>\n",
       "  <tbody>\n",
       "    <tr>\n",
       "      <th rowspan=\"5\" valign=\"top\">1</th>\n",
       "      <th rowspan=\"3\" valign=\"top\">car</th>\n",
       "      <th>C70</th>\n",
       "      <td>65761.0</td>\n",
       "    </tr>\n",
       "    <tr>\n",
       "      <th>C71</th>\n",
       "      <td>26971.0</td>\n",
       "    </tr>\n",
       "    <tr>\n",
       "      <th>C72</th>\n",
       "      <td>27607.0</td>\n",
       "    </tr>\n",
       "    <tr>\n",
       "      <th rowspan=\"2\" valign=\"top\">helicopter</th>\n",
       "      <th>H70</th>\n",
       "      <td>36383.0</td>\n",
       "    </tr>\n",
       "    <tr>\n",
       "      <th>H71</th>\n",
       "      <td>10583.0</td>\n",
       "    </tr>\n",
       "    <tr>\n",
       "      <th>...</th>\n",
       "      <th>...</th>\n",
       "      <th>...</th>\n",
       "      <td>...</td>\n",
       "    </tr>\n",
       "    <tr>\n",
       "      <th rowspan=\"5\" valign=\"top\">30</th>\n",
       "      <th rowspan=\"3\" valign=\"top\">car</th>\n",
       "      <th>C70</th>\n",
       "      <td>55911.0</td>\n",
       "    </tr>\n",
       "    <tr>\n",
       "      <th>C71</th>\n",
       "      <td>13364.0</td>\n",
       "    </tr>\n",
       "    <tr>\n",
       "      <th>C72</th>\n",
       "      <td>28233.0</td>\n",
       "    </tr>\n",
       "    <tr>\n",
       "      <th rowspan=\"2\" valign=\"top\">helicopter</th>\n",
       "      <th>H70</th>\n",
       "      <td>40947.0</td>\n",
       "    </tr>\n",
       "    <tr>\n",
       "      <th>H71</th>\n",
       "      <td>15675.0</td>\n",
       "    </tr>\n",
       "  </tbody>\n",
       "</table>\n",
       "<p>150 rows × 1 columns</p>\n",
       "</div>"
      ],
      "text/plain": [
       "event_type                        resource_use_duration\n",
       "run_number vehicle_type callsign                       \n",
       "1          car          C70                     65761.0\n",
       "                        C71                     26971.0\n",
       "                        C72                     27607.0\n",
       "           helicopter   H70                     36383.0\n",
       "                        H71                     10583.0\n",
       "...                                                 ...\n",
       "30         car          C70                     55911.0\n",
       "                        C71                     13364.0\n",
       "                        C72                     28233.0\n",
       "           helicopter   H70                     40947.0\n",
       "                        H71                     15675.0\n",
       "\n",
       "[150 rows x 1 columns]"
      ]
     },
     "execution_count": 12,
     "metadata": {},
     "output_type": "execute_result"
    }
   ],
   "source": [
    "resource_use_wide[\"resource_use_duration\"] = _processing_functions.calculate_time_difference(\n",
    "        resource_use_wide, 'resource_use', 'resource_use_end', unit='minutes'\n",
    "        )\n",
    "\n",
    "utilisation_df_per_run = (\n",
    "        resource_use_wide.groupby(['run_number', 'vehicle_type', 'callsign'])\n",
    "        [[\"resource_use_duration\"]]\n",
    "        .sum()\n",
    "        )\n",
    "\n",
    "utilisation_df_per_run\n"
   ]
  },
  {
   "cell_type": "code",
   "execution_count": 13,
   "metadata": {},
   "outputs": [
    {
     "data": {
      "text/html": [
       "<div>\n",
       "<style scoped>\n",
       "    .dataframe tbody tr th:only-of-type {\n",
       "        vertical-align: middle;\n",
       "    }\n",
       "\n",
       "    .dataframe tbody tr th {\n",
       "        vertical-align: top;\n",
       "    }\n",
       "\n",
       "    .dataframe thead th {\n",
       "        text-align: right;\n",
       "    }\n",
       "</style>\n",
       "<table border=\"1\" class=\"dataframe\">\n",
       "  <thead>\n",
       "    <tr style=\"text-align: right;\">\n",
       "      <th></th>\n",
       "      <th>run_number</th>\n",
       "      <th>vehicle_type</th>\n",
       "      <th>callsign</th>\n",
       "      <th>resource_use_duration</th>\n",
       "      <th>total_available_minutes_in_sim</th>\n",
       "      <th>callsign_group</th>\n",
       "    </tr>\n",
       "  </thead>\n",
       "  <tbody>\n",
       "    <tr>\n",
       "      <th>0</th>\n",
       "      <td>1</td>\n",
       "      <td>car</td>\n",
       "      <td>C70</td>\n",
       "      <td>65761.0</td>\n",
       "      <td>416100</td>\n",
       "      <td>70</td>\n",
       "    </tr>\n",
       "    <tr>\n",
       "      <th>1</th>\n",
       "      <td>1</td>\n",
       "      <td>car</td>\n",
       "      <td>C71</td>\n",
       "      <td>26971.0</td>\n",
       "      <td>219000</td>\n",
       "      <td>71</td>\n",
       "    </tr>\n",
       "    <tr>\n",
       "      <th>2</th>\n",
       "      <td>1</td>\n",
       "      <td>car</td>\n",
       "      <td>C72</td>\n",
       "      <td>27607.0</td>\n",
       "      <td>219000</td>\n",
       "      <td>72</td>\n",
       "    </tr>\n",
       "    <tr>\n",
       "      <th>3</th>\n",
       "      <td>1</td>\n",
       "      <td>helicopter</td>\n",
       "      <td>H70</td>\n",
       "      <td>36383.0</td>\n",
       "      <td>416100</td>\n",
       "      <td>70</td>\n",
       "    </tr>\n",
       "    <tr>\n",
       "      <th>4</th>\n",
       "      <td>1</td>\n",
       "      <td>helicopter</td>\n",
       "      <td>H71</td>\n",
       "      <td>10583.0</td>\n",
       "      <td>240960</td>\n",
       "      <td>71</td>\n",
       "    </tr>\n",
       "    <tr>\n",
       "      <th>...</th>\n",
       "      <td>...</td>\n",
       "      <td>...</td>\n",
       "      <td>...</td>\n",
       "      <td>...</td>\n",
       "      <td>...</td>\n",
       "      <td>...</td>\n",
       "    </tr>\n",
       "    <tr>\n",
       "      <th>145</th>\n",
       "      <td>30</td>\n",
       "      <td>car</td>\n",
       "      <td>C70</td>\n",
       "      <td>55911.0</td>\n",
       "      <td>416100</td>\n",
       "      <td>70</td>\n",
       "    </tr>\n",
       "    <tr>\n",
       "      <th>146</th>\n",
       "      <td>30</td>\n",
       "      <td>car</td>\n",
       "      <td>C71</td>\n",
       "      <td>13364.0</td>\n",
       "      <td>219000</td>\n",
       "      <td>71</td>\n",
       "    </tr>\n",
       "    <tr>\n",
       "      <th>147</th>\n",
       "      <td>30</td>\n",
       "      <td>car</td>\n",
       "      <td>C72</td>\n",
       "      <td>28233.0</td>\n",
       "      <td>219000</td>\n",
       "      <td>72</td>\n",
       "    </tr>\n",
       "    <tr>\n",
       "      <th>148</th>\n",
       "      <td>30</td>\n",
       "      <td>helicopter</td>\n",
       "      <td>H70</td>\n",
       "      <td>40947.0</td>\n",
       "      <td>416100</td>\n",
       "      <td>70</td>\n",
       "    </tr>\n",
       "    <tr>\n",
       "      <th>149</th>\n",
       "      <td>30</td>\n",
       "      <td>helicopter</td>\n",
       "      <td>H71</td>\n",
       "      <td>15675.0</td>\n",
       "      <td>240960</td>\n",
       "      <td>71</td>\n",
       "    </tr>\n",
       "  </tbody>\n",
       "</table>\n",
       "<p>150 rows × 6 columns</p>\n",
       "</div>"
      ],
      "text/plain": [
       "     run_number vehicle_type callsign  resource_use_duration  \\\n",
       "0             1          car      C70                65761.0   \n",
       "1             1          car      C71                26971.0   \n",
       "2             1          car      C72                27607.0   \n",
       "3             1   helicopter      H70                36383.0   \n",
       "4             1   helicopter      H71                10583.0   \n",
       "..          ...          ...      ...                    ...   \n",
       "145          30          car      C70                55911.0   \n",
       "146          30          car      C71                13364.0   \n",
       "147          30          car      C72                28233.0   \n",
       "148          30   helicopter      H70                40947.0   \n",
       "149          30   helicopter      H71                15675.0   \n",
       "\n",
       "     total_available_minutes_in_sim callsign_group  \n",
       "0                            416100             70  \n",
       "1                            219000             71  \n",
       "2                            219000             72  \n",
       "3                            416100             70  \n",
       "4                            240960             71  \n",
       "..                              ...            ...  \n",
       "145                          416100             70  \n",
       "146                          219000             71  \n",
       "147                          219000             72  \n",
       "148                          416100             70  \n",
       "149                          240960             71  \n",
       "\n",
       "[150 rows x 6 columns]"
      ]
     },
     "execution_count": 13,
     "metadata": {},
     "output_type": "execute_result"
    }
   ],
   "source": [
    "utilisation_df_per_run.reset_index(drop=False).merge(total_avail_minutes, on=\"callsign\")"
   ]
  },
  {
   "cell_type": "code",
   "execution_count": 14,
   "metadata": {},
   "outputs": [
    {
     "data": {
      "text/html": [
       "<div>\n",
       "<style scoped>\n",
       "    .dataframe tbody tr th:only-of-type {\n",
       "        vertical-align: middle;\n",
       "    }\n",
       "\n",
       "    .dataframe tbody tr th {\n",
       "        vertical-align: top;\n",
       "    }\n",
       "\n",
       "    .dataframe thead th {\n",
       "        text-align: right;\n",
       "    }\n",
       "</style>\n",
       "<table border=\"1\" class=\"dataframe\">\n",
       "  <thead>\n",
       "    <tr style=\"text-align: right;\">\n",
       "      <th>event_type</th>\n",
       "      <th>callsign_group</th>\n",
       "      <th>resource_use_duration</th>\n",
       "    </tr>\n",
       "  </thead>\n",
       "  <tbody>\n",
       "    <tr>\n",
       "      <th>0</th>\n",
       "      <td>70.0</td>\n",
       "      <td>2989569.0</td>\n",
       "    </tr>\n",
       "    <tr>\n",
       "      <th>1</th>\n",
       "      <td>71.0</td>\n",
       "      <td>1080981.0</td>\n",
       "    </tr>\n",
       "    <tr>\n",
       "      <th>2</th>\n",
       "      <td>72.0</td>\n",
       "      <td>885313.0</td>\n",
       "    </tr>\n",
       "  </tbody>\n",
       "</table>\n",
       "</div>"
      ],
      "text/plain": [
       "event_type  callsign_group  resource_use_duration\n",
       "0                     70.0              2989569.0\n",
       "1                     71.0              1080981.0\n",
       "2                     72.0               885313.0"
      ]
     },
     "execution_count": 14,
     "metadata": {},
     "output_type": "execute_result"
    }
   ],
   "source": [
    "utilisation_df_per_run_by_csg = (\n",
    "        resource_use_wide.groupby(['callsign_group'])\n",
    "        [[\"resource_use_duration\"]]\n",
    "        .sum()\n",
    "        )\n",
    "utilisation_df_per_run_by_csg = utilisation_df_per_run_by_csg.reset_index()\n",
    "utilisation_df_per_run_by_csg\n",
    "\n",
    "\n",
    "\n",
    "# import re\n",
    "\n",
    "# total_avail_hours[\"callsign_group\"] = total_avail_hours[\"callsign\"].apply(lambda x: re.sub('\\D', '', x))\n",
    "# total_avail_hours"
   ]
  },
  {
   "cell_type": "code",
   "execution_count": 15,
   "metadata": {},
   "outputs": [
    {
     "data": {
      "text/html": [
       "<div>\n",
       "<style scoped>\n",
       "    .dataframe tbody tr th:only-of-type {\n",
       "        vertical-align: middle;\n",
       "    }\n",
       "\n",
       "    .dataframe tbody tr th {\n",
       "        vertical-align: top;\n",
       "    }\n",
       "\n",
       "    .dataframe thead th {\n",
       "        text-align: right;\n",
       "    }\n",
       "</style>\n",
       "<table border=\"1\" class=\"dataframe\">\n",
       "  <thead>\n",
       "    <tr style=\"text-align: right;\">\n",
       "      <th></th>\n",
       "      <th>total_available_minutes_in_sim</th>\n",
       "      <th>callsign_group</th>\n",
       "    </tr>\n",
       "  </thead>\n",
       "  <tbody>\n",
       "    <tr>\n",
       "      <th>0</th>\n",
       "      <td>416100</td>\n",
       "      <td>70.0</td>\n",
       "    </tr>\n",
       "    <tr>\n",
       "      <th>2</th>\n",
       "      <td>240960</td>\n",
       "      <td>71.0</td>\n",
       "    </tr>\n",
       "    <tr>\n",
       "      <th>4</th>\n",
       "      <td>219000</td>\n",
       "      <td>72.0</td>\n",
       "    </tr>\n",
       "  </tbody>\n",
       "</table>\n",
       "</div>"
      ],
      "text/plain": [
       "   total_available_minutes_in_sim  callsign_group\n",
       "0                          416100            70.0\n",
       "2                          240960            71.0\n",
       "4                          219000            72.0"
      ]
     },
     "execution_count": 15,
     "metadata": {},
     "output_type": "execute_result"
    }
   ],
   "source": [
    "total_avail_hours_per_csg = total_avail_minutes.groupby('callsign_group').head(1).drop(columns='callsign')\n",
    "total_avail_hours_per_csg['callsign_group'] =  total_avail_hours_per_csg['callsign_group'].astype('float')\n",
    "total_avail_hours_per_csg"
   ]
  },
  {
   "cell_type": "code",
   "execution_count": 16,
   "metadata": {},
   "outputs": [
    {
     "data": {
      "text/html": [
       "<div>\n",
       "<style scoped>\n",
       "    .dataframe tbody tr th:only-of-type {\n",
       "        vertical-align: middle;\n",
       "    }\n",
       "\n",
       "    .dataframe tbody tr th {\n",
       "        vertical-align: top;\n",
       "    }\n",
       "\n",
       "    .dataframe thead th {\n",
       "        text-align: right;\n",
       "    }\n",
       "</style>\n",
       "<table border=\"1\" class=\"dataframe\">\n",
       "  <thead>\n",
       "    <tr style=\"text-align: right;\">\n",
       "      <th></th>\n",
       "      <th>callsign_group</th>\n",
       "      <th>resource_use_duration</th>\n",
       "      <th>total_available_minutes_in_sim</th>\n",
       "    </tr>\n",
       "  </thead>\n",
       "  <tbody>\n",
       "    <tr>\n",
       "      <th>0</th>\n",
       "      <td>70.0</td>\n",
       "      <td>2989569.0</td>\n",
       "      <td>416100</td>\n",
       "    </tr>\n",
       "    <tr>\n",
       "      <th>1</th>\n",
       "      <td>71.0</td>\n",
       "      <td>1080981.0</td>\n",
       "      <td>240960</td>\n",
       "    </tr>\n",
       "    <tr>\n",
       "      <th>2</th>\n",
       "      <td>72.0</td>\n",
       "      <td>885313.0</td>\n",
       "      <td>219000</td>\n",
       "    </tr>\n",
       "  </tbody>\n",
       "</table>\n",
       "</div>"
      ],
      "text/plain": [
       "   callsign_group  resource_use_duration  total_available_minutes_in_sim\n",
       "0            70.0              2989569.0                          416100\n",
       "1            71.0              1080981.0                          240960\n",
       "2            72.0               885313.0                          219000"
      ]
     },
     "execution_count": 16,
     "metadata": {},
     "output_type": "execute_result"
    }
   ],
   "source": [
    "utilisation_df_per_run_by_csg = utilisation_df_per_run_by_csg.merge(total_avail_hours_per_csg, on=\"callsign_group\")\n",
    "utilisation_df_per_run_by_csg"
   ]
  },
  {
   "cell_type": "code",
   "execution_count": 17,
   "metadata": {},
   "outputs": [
    {
     "data": {
      "text/html": [
       "<div>\n",
       "<style scoped>\n",
       "    .dataframe tbody tr th:only-of-type {\n",
       "        vertical-align: middle;\n",
       "    }\n",
       "\n",
       "    .dataframe tbody tr th {\n",
       "        vertical-align: top;\n",
       "    }\n",
       "\n",
       "    .dataframe thead th {\n",
       "        text-align: right;\n",
       "    }\n",
       "</style>\n",
       "<table border=\"1\" class=\"dataframe\">\n",
       "  <thead>\n",
       "    <tr style=\"text-align: right;\">\n",
       "      <th>event_type</th>\n",
       "      <th>callsign</th>\n",
       "      <th>vehicle_type</th>\n",
       "      <th>resource_use_duration</th>\n",
       "    </tr>\n",
       "  </thead>\n",
       "  <tbody>\n",
       "    <tr>\n",
       "      <th>0</th>\n",
       "      <td>C70</td>\n",
       "      <td>car</td>\n",
       "      <td>372448.6</td>\n",
       "    </tr>\n",
       "    <tr>\n",
       "      <th>1</th>\n",
       "      <td>C71</td>\n",
       "      <td>car</td>\n",
       "      <td>145795.0</td>\n",
       "    </tr>\n",
       "    <tr>\n",
       "      <th>2</th>\n",
       "      <td>C72</td>\n",
       "      <td>car</td>\n",
       "      <td>177062.6</td>\n",
       "    </tr>\n",
       "    <tr>\n",
       "      <th>3</th>\n",
       "      <td>H70</td>\n",
       "      <td>helicopter</td>\n",
       "      <td>225465.2</td>\n",
       "    </tr>\n",
       "    <tr>\n",
       "      <th>4</th>\n",
       "      <td>H71</td>\n",
       "      <td>helicopter</td>\n",
       "      <td>70401.2</td>\n",
       "    </tr>\n",
       "  </tbody>\n",
       "</table>\n",
       "</div>"
      ],
      "text/plain": [
       "event_type callsign vehicle_type  resource_use_duration\n",
       "0               C70          car               372448.6\n",
       "1               C71          car               145795.0\n",
       "2               C72          car               177062.6\n",
       "3               H70   helicopter               225465.2\n",
       "4               H71   helicopter                70401.2"
      ]
     },
     "execution_count": 17,
     "metadata": {},
     "output_type": "execute_result"
    }
   ],
   "source": [
    "n_runs=5\n",
    "utilisation_df_overall = (\n",
    "        utilisation_df_per_run.groupby(['callsign', 'vehicle_type'])\n",
    "        [[\"resource_use_duration\"]]\n",
    "        .sum()\n",
    "        )\n",
    "\n",
    "utilisation_df_overall[\"resource_use_duration\"] = (\n",
    "    utilisation_df_overall[\"resource_use_duration\"] /\n",
    "    n_runs\n",
    "    )\n",
    "\n",
    "utilisation_df_overall.reset_index()"
   ]
  },
  {
   "cell_type": "code",
   "execution_count": 18,
   "metadata": {},
   "outputs": [],
   "source": [
    "n_runs=5"
   ]
  },
  {
   "cell_type": "code",
   "execution_count": 19,
   "metadata": {},
   "outputs": [],
   "source": [
    "total_avail_minutes['total_available_minutes_in_all_runs'] = total_avail_minutes['total_available_minutes_in_sim'] * n_runs"
   ]
  },
  {
   "cell_type": "code",
   "execution_count": 20,
   "metadata": {},
   "outputs": [
    {
     "data": {
      "text/html": [
       "<div>\n",
       "<style scoped>\n",
       "    .dataframe tbody tr th:only-of-type {\n",
       "        vertical-align: middle;\n",
       "    }\n",
       "\n",
       "    .dataframe tbody tr th {\n",
       "        vertical-align: top;\n",
       "    }\n",
       "\n",
       "    .dataframe thead th {\n",
       "        text-align: right;\n",
       "    }\n",
       "</style>\n",
       "<table border=\"1\" class=\"dataframe\">\n",
       "  <thead>\n",
       "    <tr style=\"text-align: right;\">\n",
       "      <th></th>\n",
       "      <th>callsign</th>\n",
       "      <th>total_available_minutes_in_sim</th>\n",
       "      <th>callsign_group</th>\n",
       "      <th>total_available_minutes_in_all_runs</th>\n",
       "    </tr>\n",
       "  </thead>\n",
       "  <tbody>\n",
       "    <tr>\n",
       "      <th>0</th>\n",
       "      <td>H70</td>\n",
       "      <td>416100</td>\n",
       "      <td>70</td>\n",
       "      <td>2080500</td>\n",
       "    </tr>\n",
       "    <tr>\n",
       "      <th>1</th>\n",
       "      <td>C70</td>\n",
       "      <td>416100</td>\n",
       "      <td>70</td>\n",
       "      <td>2080500</td>\n",
       "    </tr>\n",
       "    <tr>\n",
       "      <th>2</th>\n",
       "      <td>H71</td>\n",
       "      <td>240960</td>\n",
       "      <td>71</td>\n",
       "      <td>1204800</td>\n",
       "    </tr>\n",
       "    <tr>\n",
       "      <th>3</th>\n",
       "      <td>C71</td>\n",
       "      <td>219000</td>\n",
       "      <td>71</td>\n",
       "      <td>1095000</td>\n",
       "    </tr>\n",
       "    <tr>\n",
       "      <th>4</th>\n",
       "      <td>C72</td>\n",
       "      <td>219000</td>\n",
       "      <td>72</td>\n",
       "      <td>1095000</td>\n",
       "    </tr>\n",
       "  </tbody>\n",
       "</table>\n",
       "</div>"
      ],
      "text/plain": [
       "  callsign  total_available_minutes_in_sim callsign_group  \\\n",
       "0      H70                          416100             70   \n",
       "1      C70                          416100             70   \n",
       "2      H71                          240960             71   \n",
       "3      C71                          219000             71   \n",
       "4      C72                          219000             72   \n",
       "\n",
       "   total_available_minutes_in_all_runs  \n",
       "0                              2080500  \n",
       "1                              2080500  \n",
       "2                              1204800  \n",
       "3                              1095000  \n",
       "4                              1095000  "
      ]
     },
     "execution_count": 20,
     "metadata": {},
     "output_type": "execute_result"
    }
   ],
   "source": [
    "total_avail_minutes"
   ]
  },
  {
   "cell_type": "code",
   "execution_count": 21,
   "metadata": {},
   "outputs": [
    {
     "name": "stderr",
     "output_type": "stream",
     "text": [
      "c:\\DAAT\\DAA_DES\\app\\_vehicle_calculation.py:78: SettingWithCopyWarning: \n",
      "A value is trying to be set on a copy of a slice from a DataFrame\n",
      "\n",
      "See the caveats in the documentation: https://pandas.pydata.org/pandas-docs/stable/user_guide/indexing.html#returning-a-view-versus-a-copy\n",
      "  first_day[callsign] = max(0, first_day[callsign] - warm_up_end.hour)\n",
      "c:\\DAAT\\DAA_DES\\app\\_vehicle_calculation.py:85: SettingWithCopyWarning: \n",
      "A value is trying to be set on a copy of a slice from a DataFrame\n",
      "\n",
      "See the caveats in the documentation: https://pandas.pydata.org/pandas-docs/stable/user_guide/indexing.html#returning-a-view-versus-a-copy\n",
      "  last_day[callsign] = min(last_day[callsign], sim_end.hour)\n"
     ]
    },
    {
     "data": {
      "text/html": [
       "<div>\n",
       "<style scoped>\n",
       "    .dataframe tbody tr th:only-of-type {\n",
       "        vertical-align: middle;\n",
       "    }\n",
       "\n",
       "    .dataframe tbody tr th {\n",
       "        vertical-align: top;\n",
       "    }\n",
       "\n",
       "    .dataframe thead th {\n",
       "        text-align: right;\n",
       "    }\n",
       "</style>\n",
       "<table border=\"1\" class=\"dataframe\">\n",
       "  <thead>\n",
       "    <tr style=\"text-align: right;\">\n",
       "      <th>event_type</th>\n",
       "      <th>P_ID</th>\n",
       "      <th>run_number</th>\n",
       "      <th>callsign_group</th>\n",
       "      <th>vehicle_type</th>\n",
       "      <th>callsign</th>\n",
       "      <th>resource_use</th>\n",
       "      <th>resource_use_end</th>\n",
       "      <th>resource_use_duration</th>\n",
       "    </tr>\n",
       "  </thead>\n",
       "  <tbody>\n",
       "    <tr>\n",
       "      <th>0</th>\n",
       "      <td>1</td>\n",
       "      <td>1</td>\n",
       "      <td>71.0</td>\n",
       "      <td>car</td>\n",
       "      <td>C71</td>\n",
       "      <td>2025-02-14 12:00:00</td>\n",
       "      <td>2025-02-14 14:58:00</td>\n",
       "      <td>178.0</td>\n",
       "    </tr>\n",
       "    <tr>\n",
       "      <th>1</th>\n",
       "      <td>1</td>\n",
       "      <td>2</td>\n",
       "      <td>70.0</td>\n",
       "      <td>car</td>\n",
       "      <td>C70</td>\n",
       "      <td>2025-02-14 09:00:00</td>\n",
       "      <td>2025-02-14 10:12:00</td>\n",
       "      <td>72.0</td>\n",
       "    </tr>\n",
       "    <tr>\n",
       "      <th>2</th>\n",
       "      <td>1</td>\n",
       "      <td>3</td>\n",
       "      <td>71.0</td>\n",
       "      <td>car</td>\n",
       "      <td>C71</td>\n",
       "      <td>2025-02-14 10:00:00</td>\n",
       "      <td>2025-02-14 11:06:00</td>\n",
       "      <td>66.0</td>\n",
       "    </tr>\n",
       "    <tr>\n",
       "      <th>3</th>\n",
       "      <td>1</td>\n",
       "      <td>4</td>\n",
       "      <td>70.0</td>\n",
       "      <td>car</td>\n",
       "      <td>C70</td>\n",
       "      <td>2025-02-14 10:00:00</td>\n",
       "      <td>2025-02-14 11:27:00</td>\n",
       "      <td>87.0</td>\n",
       "    </tr>\n",
       "    <tr>\n",
       "      <th>4</th>\n",
       "      <td>1</td>\n",
       "      <td>5</td>\n",
       "      <td>70.0</td>\n",
       "      <td>car</td>\n",
       "      <td>C70</td>\n",
       "      <td>2025-02-14 22:00:00</td>\n",
       "      <td>2025-02-14 23:03:00</td>\n",
       "      <td>63.0</td>\n",
       "    </tr>\n",
       "    <tr>\n",
       "      <th>...</th>\n",
       "      <td>...</td>\n",
       "      <td>...</td>\n",
       "      <td>...</td>\n",
       "      <td>...</td>\n",
       "      <td>...</td>\n",
       "      <td>...</td>\n",
       "      <td>...</td>\n",
       "      <td>...</td>\n",
       "    </tr>\n",
       "    <tr>\n",
       "      <th>45140</th>\n",
       "      <td>1763</td>\n",
       "      <td>2</td>\n",
       "      <td>72.0</td>\n",
       "      <td>car</td>\n",
       "      <td>C72</td>\n",
       "      <td>2026-02-12 10:00:00</td>\n",
       "      <td>2026-02-12 10:44:00</td>\n",
       "      <td>44.0</td>\n",
       "    </tr>\n",
       "    <tr>\n",
       "      <th>45141</th>\n",
       "      <td>1764</td>\n",
       "      <td>2</td>\n",
       "      <td>71.0</td>\n",
       "      <td>helicopter</td>\n",
       "      <td>H71</td>\n",
       "      <td>2026-02-12 15:00:00</td>\n",
       "      <td>2026-02-12 15:41:00</td>\n",
       "      <td>41.0</td>\n",
       "    </tr>\n",
       "    <tr>\n",
       "      <th>45142</th>\n",
       "      <td>1765</td>\n",
       "      <td>2</td>\n",
       "      <td>70.0</td>\n",
       "      <td>helicopter</td>\n",
       "      <td>H70</td>\n",
       "      <td>2026-02-13 01:00:00</td>\n",
       "      <td>2026-02-13 02:03:00</td>\n",
       "      <td>63.0</td>\n",
       "    </tr>\n",
       "    <tr>\n",
       "      <th>45143</th>\n",
       "      <td>1766</td>\n",
       "      <td>2</td>\n",
       "      <td>71.0</td>\n",
       "      <td>helicopter</td>\n",
       "      <td>H71</td>\n",
       "      <td>2026-02-13 14:00:00</td>\n",
       "      <td>2026-02-13 14:43:00</td>\n",
       "      <td>43.0</td>\n",
       "    </tr>\n",
       "    <tr>\n",
       "      <th>45144</th>\n",
       "      <td>1767</td>\n",
       "      <td>2</td>\n",
       "      <td>70.0</td>\n",
       "      <td>helicopter</td>\n",
       "      <td>H70</td>\n",
       "      <td>2026-02-13 20:00:00</td>\n",
       "      <td>2026-02-13 21:54:00</td>\n",
       "      <td>114.0</td>\n",
       "    </tr>\n",
       "  </tbody>\n",
       "</table>\n",
       "<p>45145 rows × 8 columns</p>\n",
       "</div>"
      ],
      "text/plain": [
       "event_type  P_ID  run_number  callsign_group vehicle_type callsign  \\\n",
       "0              1           1            71.0          car      C71   \n",
       "1              1           2            70.0          car      C70   \n",
       "2              1           3            71.0          car      C71   \n",
       "3              1           4            70.0          car      C70   \n",
       "4              1           5            70.0          car      C70   \n",
       "...          ...         ...             ...          ...      ...   \n",
       "45140       1763           2            72.0          car      C72   \n",
       "45141       1764           2            71.0   helicopter      H71   \n",
       "45142       1765           2            70.0   helicopter      H70   \n",
       "45143       1766           2            71.0   helicopter      H71   \n",
       "45144       1767           2            70.0   helicopter      H70   \n",
       "\n",
       "event_type        resource_use    resource_use_end  resource_use_duration  \n",
       "0          2025-02-14 12:00:00 2025-02-14 14:58:00                  178.0  \n",
       "1          2025-02-14 09:00:00 2025-02-14 10:12:00                   72.0  \n",
       "2          2025-02-14 10:00:00 2025-02-14 11:06:00                   66.0  \n",
       "3          2025-02-14 10:00:00 2025-02-14 11:27:00                   87.0  \n",
       "4          2025-02-14 22:00:00 2025-02-14 23:03:00                   63.0  \n",
       "...                        ...                 ...                    ...  \n",
       "45140      2026-02-12 10:00:00 2026-02-12 10:44:00                   44.0  \n",
       "45141      2026-02-12 15:00:00 2026-02-12 15:41:00                   41.0  \n",
       "45142      2026-02-13 01:00:00 2026-02-13 02:03:00                   63.0  \n",
       "45143      2026-02-13 14:00:00 2026-02-13 14:43:00                   43.0  \n",
       "45144      2026-02-13 20:00:00 2026-02-13 21:54:00                  114.0  \n",
       "\n",
       "[45145 rows x 8 columns]"
      ]
     },
     "execution_count": 21,
     "metadata": {},
     "output_type": "execute_result"
    }
   ],
   "source": [
    "resource_use_wide, utilisation_df_overall, utilisation_df_per_run, utilisation_df_per_run_by_csg = _utilisation_result_calculation.make_utilisation_model_dataframe()\n",
    "resource_use_wide"
   ]
  },
  {
   "cell_type": "code",
   "execution_count": 22,
   "metadata": {},
   "outputs": [
    {
     "data": {
      "text/html": [
       "<div>\n",
       "<style scoped>\n",
       "    .dataframe tbody tr th:only-of-type {\n",
       "        vertical-align: middle;\n",
       "    }\n",
       "\n",
       "    .dataframe tbody tr th {\n",
       "        vertical-align: top;\n",
       "    }\n",
       "\n",
       "    .dataframe thead th {\n",
       "        text-align: right;\n",
       "    }\n",
       "</style>\n",
       "<table border=\"1\" class=\"dataframe\">\n",
       "  <thead>\n",
       "    <tr style=\"text-align: right;\">\n",
       "      <th></th>\n",
       "      <th>callsign_group</th>\n",
       "      <th>resource_use_duration</th>\n",
       "      <th>total_available_minutes_in_sim</th>\n",
       "      <th>perc_time_in_use</th>\n",
       "      <th>PRINT_perc</th>\n",
       "    </tr>\n",
       "  </thead>\n",
       "  <tbody>\n",
       "    <tr>\n",
       "      <th>0</th>\n",
       "      <td>70.0</td>\n",
       "      <td>99676.300000</td>\n",
       "      <td>416100</td>\n",
       "      <td>0.239549</td>\n",
       "      <td>24.0%</td>\n",
       "    </tr>\n",
       "    <tr>\n",
       "      <th>1</th>\n",
       "      <td>71.0</td>\n",
       "      <td>37216.700000</td>\n",
       "      <td>240960</td>\n",
       "      <td>0.154452</td>\n",
       "      <td>15.4%</td>\n",
       "    </tr>\n",
       "    <tr>\n",
       "      <th>2</th>\n",
       "      <td>72.0</td>\n",
       "      <td>29878.433333</td>\n",
       "      <td>219000</td>\n",
       "      <td>0.136431</td>\n",
       "      <td>13.6%</td>\n",
       "    </tr>\n",
       "  </tbody>\n",
       "</table>\n",
       "</div>"
      ],
      "text/plain": [
       "   callsign_group  resource_use_duration  total_available_minutes_in_sim  \\\n",
       "0            70.0           99676.300000                          416100   \n",
       "1            71.0           37216.700000                          240960   \n",
       "2            72.0           29878.433333                          219000   \n",
       "\n",
       "   perc_time_in_use PRINT_perc  \n",
       "0          0.239549      24.0%  \n",
       "1          0.154452      15.4%  \n",
       "2          0.136431      13.6%  "
      ]
     },
     "execution_count": 22,
     "metadata": {},
     "output_type": "execute_result"
    }
   ],
   "source": [
    "utilisation_df_per_run_by_csg"
   ]
  },
  {
   "cell_type": "code",
   "execution_count": 23,
   "metadata": {},
   "outputs": [
    {
     "data": {
      "text/html": [
       "<div>\n",
       "<style scoped>\n",
       "    .dataframe tbody tr th:only-of-type {\n",
       "        vertical-align: middle;\n",
       "    }\n",
       "\n",
       "    .dataframe tbody tr th {\n",
       "        vertical-align: top;\n",
       "    }\n",
       "\n",
       "    .dataframe thead th {\n",
       "        text-align: right;\n",
       "    }\n",
       "</style>\n",
       "<table border=\"1\" class=\"dataframe\">\n",
       "  <thead>\n",
       "    <tr style=\"text-align: right;\">\n",
       "      <th></th>\n",
       "      <th>callsign</th>\n",
       "      <th>vehicle_type</th>\n",
       "      <th>resource_use_duration</th>\n",
       "      <th>total_available_minutes_in_sim</th>\n",
       "      <th>callsign_group</th>\n",
       "      <th>perc_time_in_use</th>\n",
       "      <th>PRINT_perc</th>\n",
       "    </tr>\n",
       "  </thead>\n",
       "  <tbody>\n",
       "    <tr>\n",
       "      <th>0</th>\n",
       "      <td>C70</td>\n",
       "      <td>car</td>\n",
       "      <td>62098.766667</td>\n",
       "      <td>416100</td>\n",
       "      <td>70</td>\n",
       "      <td>0.149240</td>\n",
       "      <td>14.9%</td>\n",
       "    </tr>\n",
       "    <tr>\n",
       "      <th>1</th>\n",
       "      <td>C71</td>\n",
       "      <td>car</td>\n",
       "      <td>25483.166667</td>\n",
       "      <td>219000</td>\n",
       "      <td>71</td>\n",
       "      <td>0.116361</td>\n",
       "      <td>11.6%</td>\n",
       "    </tr>\n",
       "    <tr>\n",
       "      <th>2</th>\n",
       "      <td>C72</td>\n",
       "      <td>car</td>\n",
       "      <td>29878.433333</td>\n",
       "      <td>219000</td>\n",
       "      <td>72</td>\n",
       "      <td>0.136431</td>\n",
       "      <td>13.6%</td>\n",
       "    </tr>\n",
       "    <tr>\n",
       "      <th>3</th>\n",
       "      <td>H70</td>\n",
       "      <td>helicopter</td>\n",
       "      <td>37577.533333</td>\n",
       "      <td>416100</td>\n",
       "      <td>70</td>\n",
       "      <td>0.090309</td>\n",
       "      <td>9.0%</td>\n",
       "    </tr>\n",
       "    <tr>\n",
       "      <th>4</th>\n",
       "      <td>H71</td>\n",
       "      <td>helicopter</td>\n",
       "      <td>11733.533333</td>\n",
       "      <td>240960</td>\n",
       "      <td>71</td>\n",
       "      <td>0.048695</td>\n",
       "      <td>4.9%</td>\n",
       "    </tr>\n",
       "  </tbody>\n",
       "</table>\n",
       "</div>"
      ],
      "text/plain": [
       "  callsign vehicle_type  resource_use_duration  \\\n",
       "0      C70          car           62098.766667   \n",
       "1      C71          car           25483.166667   \n",
       "2      C72          car           29878.433333   \n",
       "3      H70   helicopter           37577.533333   \n",
       "4      H71   helicopter           11733.533333   \n",
       "\n",
       "   total_available_minutes_in_sim callsign_group  perc_time_in_use PRINT_perc  \n",
       "0                          416100             70          0.149240      14.9%  \n",
       "1                          219000             71          0.116361      11.6%  \n",
       "2                          219000             72          0.136431      13.6%  \n",
       "3                          416100             70          0.090309       9.0%  \n",
       "4                          240960             71          0.048695       4.9%  "
      ]
     },
     "execution_count": 23,
     "metadata": {},
     "output_type": "execute_result"
    }
   ],
   "source": [
    "utilisation_df_overall"
   ]
  },
  {
   "cell_type": "code",
   "execution_count": 24,
   "metadata": {},
   "outputs": [
    {
     "data": {
      "text/html": [
       "<div>\n",
       "<style scoped>\n",
       "    .dataframe tbody tr th:only-of-type {\n",
       "        vertical-align: middle;\n",
       "    }\n",
       "\n",
       "    .dataframe tbody tr th {\n",
       "        vertical-align: top;\n",
       "    }\n",
       "\n",
       "    .dataframe thead th {\n",
       "        text-align: right;\n",
       "    }\n",
       "</style>\n",
       "<table border=\"1\" class=\"dataframe\">\n",
       "  <thead>\n",
       "    <tr style=\"text-align: right;\">\n",
       "      <th></th>\n",
       "      <th>run_number</th>\n",
       "      <th>vehicle_type</th>\n",
       "      <th>callsign</th>\n",
       "      <th>resource_use_duration</th>\n",
       "      <th>total_available_minutes_in_sim</th>\n",
       "      <th>callsign_group</th>\n",
       "      <th>perc_time_in_use</th>\n",
       "      <th>PRINT_perc</th>\n",
       "    </tr>\n",
       "  </thead>\n",
       "  <tbody>\n",
       "    <tr>\n",
       "      <th>0</th>\n",
       "      <td>1</td>\n",
       "      <td>car</td>\n",
       "      <td>C70</td>\n",
       "      <td>65761.0</td>\n",
       "      <td>416100</td>\n",
       "      <td>70</td>\n",
       "      <td>0.158041</td>\n",
       "      <td>15.8%</td>\n",
       "    </tr>\n",
       "    <tr>\n",
       "      <th>1</th>\n",
       "      <td>1</td>\n",
       "      <td>car</td>\n",
       "      <td>C71</td>\n",
       "      <td>26971.0</td>\n",
       "      <td>219000</td>\n",
       "      <td>71</td>\n",
       "      <td>0.123155</td>\n",
       "      <td>12.3%</td>\n",
       "    </tr>\n",
       "    <tr>\n",
       "      <th>2</th>\n",
       "      <td>1</td>\n",
       "      <td>car</td>\n",
       "      <td>C72</td>\n",
       "      <td>27607.0</td>\n",
       "      <td>219000</td>\n",
       "      <td>72</td>\n",
       "      <td>0.126059</td>\n",
       "      <td>12.6%</td>\n",
       "    </tr>\n",
       "    <tr>\n",
       "      <th>3</th>\n",
       "      <td>1</td>\n",
       "      <td>helicopter</td>\n",
       "      <td>H70</td>\n",
       "      <td>36383.0</td>\n",
       "      <td>416100</td>\n",
       "      <td>70</td>\n",
       "      <td>0.087438</td>\n",
       "      <td>8.7%</td>\n",
       "    </tr>\n",
       "    <tr>\n",
       "      <th>4</th>\n",
       "      <td>1</td>\n",
       "      <td>helicopter</td>\n",
       "      <td>H71</td>\n",
       "      <td>10583.0</td>\n",
       "      <td>240960</td>\n",
       "      <td>71</td>\n",
       "      <td>0.043920</td>\n",
       "      <td>4.4%</td>\n",
       "    </tr>\n",
       "    <tr>\n",
       "      <th>...</th>\n",
       "      <td>...</td>\n",
       "      <td>...</td>\n",
       "      <td>...</td>\n",
       "      <td>...</td>\n",
       "      <td>...</td>\n",
       "      <td>...</td>\n",
       "      <td>...</td>\n",
       "      <td>...</td>\n",
       "    </tr>\n",
       "    <tr>\n",
       "      <th>145</th>\n",
       "      <td>30</td>\n",
       "      <td>car</td>\n",
       "      <td>C70</td>\n",
       "      <td>55911.0</td>\n",
       "      <td>416100</td>\n",
       "      <td>70</td>\n",
       "      <td>0.134369</td>\n",
       "      <td>13.4%</td>\n",
       "    </tr>\n",
       "    <tr>\n",
       "      <th>146</th>\n",
       "      <td>30</td>\n",
       "      <td>car</td>\n",
       "      <td>C71</td>\n",
       "      <td>13364.0</td>\n",
       "      <td>219000</td>\n",
       "      <td>71</td>\n",
       "      <td>0.061023</td>\n",
       "      <td>6.1%</td>\n",
       "    </tr>\n",
       "    <tr>\n",
       "      <th>147</th>\n",
       "      <td>30</td>\n",
       "      <td>car</td>\n",
       "      <td>C72</td>\n",
       "      <td>28233.0</td>\n",
       "      <td>219000</td>\n",
       "      <td>72</td>\n",
       "      <td>0.128918</td>\n",
       "      <td>12.9%</td>\n",
       "    </tr>\n",
       "    <tr>\n",
       "      <th>148</th>\n",
       "      <td>30</td>\n",
       "      <td>helicopter</td>\n",
       "      <td>H70</td>\n",
       "      <td>40947.0</td>\n",
       "      <td>416100</td>\n",
       "      <td>70</td>\n",
       "      <td>0.098407</td>\n",
       "      <td>9.8%</td>\n",
       "    </tr>\n",
       "    <tr>\n",
       "      <th>149</th>\n",
       "      <td>30</td>\n",
       "      <td>helicopter</td>\n",
       "      <td>H71</td>\n",
       "      <td>15675.0</td>\n",
       "      <td>240960</td>\n",
       "      <td>71</td>\n",
       "      <td>0.065052</td>\n",
       "      <td>6.5%</td>\n",
       "    </tr>\n",
       "  </tbody>\n",
       "</table>\n",
       "<p>150 rows × 8 columns</p>\n",
       "</div>"
      ],
      "text/plain": [
       "     run_number vehicle_type callsign  resource_use_duration  \\\n",
       "0             1          car      C70                65761.0   \n",
       "1             1          car      C71                26971.0   \n",
       "2             1          car      C72                27607.0   \n",
       "3             1   helicopter      H70                36383.0   \n",
       "4             1   helicopter      H71                10583.0   \n",
       "..          ...          ...      ...                    ...   \n",
       "145          30          car      C70                55911.0   \n",
       "146          30          car      C71                13364.0   \n",
       "147          30          car      C72                28233.0   \n",
       "148          30   helicopter      H70                40947.0   \n",
       "149          30   helicopter      H71                15675.0   \n",
       "\n",
       "     total_available_minutes_in_sim callsign_group  perc_time_in_use  \\\n",
       "0                            416100             70          0.158041   \n",
       "1                            219000             71          0.123155   \n",
       "2                            219000             72          0.126059   \n",
       "3                            416100             70          0.087438   \n",
       "4                            240960             71          0.043920   \n",
       "..                              ...            ...               ...   \n",
       "145                          416100             70          0.134369   \n",
       "146                          219000             71          0.061023   \n",
       "147                          219000             72          0.128918   \n",
       "148                          416100             70          0.098407   \n",
       "149                          240960             71          0.065052   \n",
       "\n",
       "    PRINT_perc  \n",
       "0        15.8%  \n",
       "1        12.3%  \n",
       "2        12.6%  \n",
       "3         8.7%  \n",
       "4         4.4%  \n",
       "..         ...  \n",
       "145      13.4%  \n",
       "146       6.1%  \n",
       "147      12.9%  \n",
       "148       9.8%  \n",
       "149       6.5%  \n",
       "\n",
       "[150 rows x 8 columns]"
      ]
     },
     "execution_count": 24,
     "metadata": {},
     "output_type": "execute_result"
    }
   ],
   "source": [
    "utilisation_df_per_run"
   ]
  },
  {
   "cell_type": "code",
   "execution_count": 25,
   "metadata": {},
   "outputs": [
    {
     "data": {
      "application/vnd.plotly.v1+json": {
       "config": {
        "plotlyServerURL": "https://plot.ly"
       },
       "data": [
        {
         "alignmentgroup": "True",
         "hovertemplate": "vehicle_type=car<br>perc_time_in_use=%{x}<br>callsign=%{y}<extra></extra>",
         "legendgroup": "car",
         "marker": {
          "color": "#000001"
         },
         "name": "car",
         "notched": false,
         "offsetgroup": "car",
         "orientation": "h",
         "showlegend": true,
         "type": "box",
         "x": [
          0.15804133621725547,
          0.12315525114155251,
          0.1260593607305936,
          0.19652727709685172,
          0.088,
          0.13651598173515983,
          0.13524633501562125,
          0.10025114155251141,
          0.16854337899543378,
          0.13771929824561405,
          0.08668036529680365,
          0.08124200913242009,
          0.15951934631098294,
          0.09772146118721461,
          0.13055707762557078,
          0.18030281182408076,
          0.09700456621004566,
          0.08184474885844749,
          0.14338380197068012,
          0.1326392694063927,
          0.22140639269406392,
          0.18552030761836097,
          0.1873607305936073,
          0.10118264840182649,
          0.13190579187695264,
          0.02284931506849315,
          0.10033789954337899,
          0.13794039894256188,
          0.10276255707762558,
          0.16590867579908675,
          0.14539293439077144,
          0.1107351598173516,
          0.2558401826484018,
          0.1287094448449892,
          0.07054794520547945,
          0.18308675799086757,
          0.13669069935111752,
          0.215337899543379,
          0.10537442922374429,
          0.17336938236000962,
          0.1067351598173516,
          0.16301826484018264,
          0.15124729632299927,
          0.08202739726027397,
          0.1660365296803653,
          0.14076664263398223,
          0.16880365296803654,
          0.12463013698630138,
          0.15168949771689497,
          0.2002420091324201,
          0.10189954337899543,
          0.1935183850036049,
          0.140337899543379,
          0.2230730593607306,
          0.14370583994232156,
          0.08318721461187215,
          0.14076712328767124,
          0.11069935111751983,
          0.13271689497716896,
          0.16710045662100456,
          0.21084114395577985,
          0.08570319634703197,
          0.07819634703196347,
          0.13208363374188897,
          0.21173972602739727,
          0.1710958904109589,
          0.10910838740687334,
          0.10868949771689498,
          0.11153881278538813,
          0.14364095169430424,
          0.1382785388127854,
          0.10800456621004566,
          0.12411199230954098,
          0.12045662100456621,
          0.08778538812785389,
          0.15981254506128334,
          0.11752511415525115,
          0.10184931506849315,
          0.12263398221581351,
          0.13672146118721462,
          0.11836529680365297,
          0.11706560922855083,
          0.09858904109589041,
          0.12618721461187216,
          0.1816366258111031,
          0.06302283105022831,
          0.11657077625570776,
          0.1343691420331651,
          0.06102283105022831,
          0.1289178082191781
         ],
         "x0": " ",
         "xaxis": "x",
         "y": [
          "C70",
          "C71",
          "C72",
          "C70",
          "C71",
          "C72",
          "C70",
          "C71",
          "C72",
          "C70",
          "C71",
          "C72",
          "C70",
          "C71",
          "C72",
          "C70",
          "C71",
          "C72",
          "C70",
          "C71",
          "C72",
          "C70",
          "C71",
          "C72",
          "C70",
          "C71",
          "C72",
          "C70",
          "C71",
          "C72",
          "C70",
          "C71",
          "C72",
          "C70",
          "C71",
          "C72",
          "C70",
          "C71",
          "C72",
          "C70",
          "C71",
          "C72",
          "C70",
          "C71",
          "C72",
          "C70",
          "C71",
          "C72",
          "C70",
          "C71",
          "C72",
          "C70",
          "C71",
          "C72",
          "C70",
          "C71",
          "C72",
          "C70",
          "C71",
          "C72",
          "C70",
          "C71",
          "C72",
          "C70",
          "C71",
          "C72",
          "C70",
          "C71",
          "C72",
          "C70",
          "C71",
          "C72",
          "C70",
          "C71",
          "C72",
          "C70",
          "C71",
          "C72",
          "C70",
          "C71",
          "C72",
          "C70",
          "C71",
          "C72",
          "C70",
          "C71",
          "C72",
          "C70",
          "C71",
          "C72"
         ],
         "y0": " ",
         "yaxis": "y"
        },
        {
         "alignmentgroup": "True",
         "hovertemplate": "vehicle_type=helicopter<br>perc_time_in_use=%{x}<br>callsign=%{y}<extra></extra>",
         "legendgroup": "helicopter",
         "marker": {
          "color": "#000002"
         },
         "name": "helicopter",
         "notched": false,
         "offsetgroup": "helicopter",
         "orientation": "h",
         "showlegend": true,
         "type": "box",
         "x": [
          0.08743811583753905,
          0.04392015272244356,
          0.09363854842585917,
          0.05129482071713148,
          0.08684450853160298,
          0.04116035856573705,
          0.08193703436673877,
          0.027465139442231074,
          0.08090843547224225,
          0.037271746347941566,
          0.08061523672194185,
          0.04379565073041169,
          0.0686589762076424,
          0.06148323373173971,
          0.13619562605142996,
          0.04167911686586986,
          0.07529920692141312,
          0.07777639442231075,
          0.08909156452775775,
          0.04846032536520584,
          0.09215092525835136,
          0.06051626826029217,
          0.09642393655371305,
          0.04655544488711819,
          0.09434270608026916,
          0.056137948207171315,
          0.08986301369863013,
          0.03808930942895086,
          0.0856789233357366,
          0.05536188579017264,
          0.07263638548425859,
          0.038915172642762286,
          0.07443643354962749,
          0.030660690571049136,
          0.08257149723624128,
          0.054643924302788846,
          0.07870463830809901,
          0.03807685922974768,
          0.10484979572218217,
          0.042604581673306774,
          0.08967555875991348,
          0.044509462151394424,
          0.09020187454938716,
          0.05698041168658698,
          0.0964167267483778,
          0.05360640770252324,
          0.0893294881038212,
          0.048066069057104914,
          0.09400144196106705,
          0.06210159362549801,
          0.09335736601778419,
          0.03930527888446215,
          0.09801249699591444,
          0.05320385126162019,
          0.10230233117039174,
          0.048879482071713144,
          0.10527757750540735,
          0.05327440239043825,
          0.09840663302090844,
          0.06505229083665338
         ],
         "x0": " ",
         "xaxis": "x",
         "y": [
          "H70",
          "H71",
          "H70",
          "H71",
          "H70",
          "H71",
          "H70",
          "H71",
          "H70",
          "H71",
          "H70",
          "H71",
          "H70",
          "H71",
          "H70",
          "H71",
          "H70",
          "H71",
          "H70",
          "H71",
          "H70",
          "H71",
          "H70",
          "H71",
          "H70",
          "H71",
          "H70",
          "H71",
          "H70",
          "H71",
          "H70",
          "H71",
          "H70",
          "H71",
          "H70",
          "H71",
          "H70",
          "H71",
          "H70",
          "H71",
          "H70",
          "H71",
          "H70",
          "H71",
          "H70",
          "H71",
          "H70",
          "H71",
          "H70",
          "H71",
          "H70",
          "H71",
          "H70",
          "H71",
          "H70",
          "H71",
          "H70",
          "H71",
          "H70",
          "H71"
         ],
         "y0": " ",
         "yaxis": "y"
        }
       ],
       "layout": {
        "boxmode": "group",
        "legend": {
         "title": {
          "text": "vehicle_type"
         },
         "tracegroupgap": 0
        },
        "margin": {
         "t": 60
        },
        "template": {
         "data": {
          "candlestick": [
           {
            "decreasing": {
             "line": {
              "color": "#000033"
             }
            },
            "increasing": {
             "line": {
              "color": "#000032"
             }
            },
            "type": "candlestick"
           }
          ],
          "contour": [
           {
            "colorscale": [
             [
              0,
              "#000011"
             ],
             [
              0.1111111111111111,
              "#000012"
             ],
             [
              0.2222222222222222,
              "#000013"
             ],
             [
              0.3333333333333333,
              "#000014"
             ],
             [
              0.4444444444444444,
              "#000015"
             ],
             [
              0.5555555555555556,
              "#000016"
             ],
             [
              0.6666666666666666,
              "#000017"
             ],
             [
              0.7777777777777778,
              "#000018"
             ],
             [
              0.8888888888888888,
              "#000019"
             ],
             [
              1,
              "#000020"
             ]
            ],
            "type": "contour"
           }
          ],
          "contourcarpet": [
           {
            "colorscale": [
             [
              0,
              "#000011"
             ],
             [
              0.1111111111111111,
              "#000012"
             ],
             [
              0.2222222222222222,
              "#000013"
             ],
             [
              0.3333333333333333,
              "#000014"
             ],
             [
              0.4444444444444444,
              "#000015"
             ],
             [
              0.5555555555555556,
              "#000016"
             ],
             [
              0.6666666666666666,
              "#000017"
             ],
             [
              0.7777777777777778,
              "#000018"
             ],
             [
              0.8888888888888888,
              "#000019"
             ],
             [
              1,
              "#000020"
             ]
            ],
            "type": "contourcarpet"
           }
          ],
          "heatmap": [
           {
            "colorscale": [
             [
              0,
              "#000011"
             ],
             [
              0.1111111111111111,
              "#000012"
             ],
             [
              0.2222222222222222,
              "#000013"
             ],
             [
              0.3333333333333333,
              "#000014"
             ],
             [
              0.4444444444444444,
              "#000015"
             ],
             [
              0.5555555555555556,
              "#000016"
             ],
             [
              0.6666666666666666,
              "#000017"
             ],
             [
              0.7777777777777778,
              "#000018"
             ],
             [
              0.8888888888888888,
              "#000019"
             ],
             [
              1,
              "#000020"
             ]
            ],
            "type": "heatmap"
           }
          ],
          "histogram2d": [
           {
            "colorscale": [
             [
              0,
              "#000011"
             ],
             [
              0.1111111111111111,
              "#000012"
             ],
             [
              0.2222222222222222,
              "#000013"
             ],
             [
              0.3333333333333333,
              "#000014"
             ],
             [
              0.4444444444444444,
              "#000015"
             ],
             [
              0.5555555555555556,
              "#000016"
             ],
             [
              0.6666666666666666,
              "#000017"
             ],
             [
              0.7777777777777778,
              "#000018"
             ],
             [
              0.8888888888888888,
              "#000019"
             ],
             [
              1,
              "#000020"
             ]
            ],
            "type": "histogram2d"
           }
          ],
          "icicle": [
           {
            "textfont": {
             "color": "white"
            },
            "type": "icicle"
           }
          ],
          "sankey": [
           {
            "textfont": {
             "color": "#000036"
            },
            "type": "sankey"
           }
          ],
          "scatter": [
           {
            "marker": {
             "line": {
              "width": 0
             }
            },
            "type": "scatter"
           }
          ],
          "table": [
           {
            "cells": {
             "fill": {
              "color": "#000038"
             },
             "font": {
              "color": "#000037"
             },
             "line": {
              "color": "#000039"
             }
            },
            "header": {
             "fill": {
              "color": "#000040"
             },
             "font": {
              "color": "#000036"
             },
             "line": {
              "color": "#000039"
             }
            },
            "type": "table"
           }
          ],
          "waterfall": [
           {
            "connector": {
             "line": {
              "color": "#000036",
              "width": 2
             }
            },
            "decreasing": {
             "marker": {
              "color": "#000033"
             }
            },
            "increasing": {
             "marker": {
              "color": "#000032"
             }
            },
            "totals": {
             "marker": {
              "color": "#000034"
             }
            },
            "type": "waterfall"
           }
          ]
         },
         "layout": {
          "coloraxis": {
           "colorscale": [
            [
             0,
             "#000011"
            ],
            [
             0.1111111111111111,
             "#000012"
            ],
            [
             0.2222222222222222,
             "#000013"
            ],
            [
             0.3333333333333333,
             "#000014"
            ],
            [
             0.4444444444444444,
             "#000015"
            ],
            [
             0.5555555555555556,
             "#000016"
            ],
            [
             0.6666666666666666,
             "#000017"
            ],
            [
             0.7777777777777778,
             "#000018"
            ],
            [
             0.8888888888888888,
             "#000019"
            ],
            [
             1,
             "#000020"
            ]
           ]
          },
          "colorscale": {
           "diverging": [
            [
             0,
             "#000021"
            ],
            [
             0.1,
             "#000022"
            ],
            [
             0.2,
             "#000023"
            ],
            [
             0.3,
             "#000024"
            ],
            [
             0.4,
             "#000025"
            ],
            [
             0.5,
             "#000026"
            ],
            [
             0.6,
             "#000027"
            ],
            [
             0.7,
             "#000028"
            ],
            [
             0.8,
             "#000029"
            ],
            [
             0.9,
             "#000030"
            ],
            [
             1,
             "#000031"
            ]
           ],
           "sequential": [
            [
             0,
             "#000011"
            ],
            [
             0.1111111111111111,
             "#000012"
            ],
            [
             0.2222222222222222,
             "#000013"
            ],
            [
             0.3333333333333333,
             "#000014"
            ],
            [
             0.4444444444444444,
             "#000015"
            ],
            [
             0.5555555555555556,
             "#000016"
            ],
            [
             0.6666666666666666,
             "#000017"
            ],
            [
             0.7777777777777778,
             "#000018"
            ],
            [
             0.8888888888888888,
             "#000019"
            ],
            [
             1,
             "#000020"
            ]
           ],
           "sequentialminus": [
            [
             0,
             "#000011"
            ],
            [
             0.1111111111111111,
             "#000012"
            ],
            [
             0.2222222222222222,
             "#000013"
            ],
            [
             0.3333333333333333,
             "#000014"
            ],
            [
             0.4444444444444444,
             "#000015"
            ],
            [
             0.5555555555555556,
             "#000016"
            ],
            [
             0.6666666666666666,
             "#000017"
            ],
            [
             0.7777777777777778,
             "#000018"
            ],
            [
             0.8888888888888888,
             "#000019"
            ],
            [
             1,
             "#000020"
            ]
           ]
          },
          "colorway": [
           "#000001",
           "#000002",
           "#000003",
           "#000004",
           "#000005",
           "#000006",
           "#000007",
           "#000008",
           "#000009",
           "#000010"
          ]
         }
        },
        "xaxis": {
         "anchor": "y",
         "domain": [
          0,
          1
         ],
         "title": {
          "text": "perc_time_in_use"
         }
        },
        "yaxis": {
         "anchor": "x",
         "domain": [
          0,
          1
         ],
         "title": {
          "text": "callsign"
         }
        }
       }
      }
     },
     "metadata": {},
     "output_type": "display_data"
    }
   ],
   "source": [
    "import plotly.express as px\n",
    "\n",
    "px.box(utilisation_df_per_run.reset_index(),\n",
    "       x=\"perc_time_in_use\",\n",
    "       y=\"callsign\",\n",
    "       color=\"vehicle_type\")"
   ]
  },
  {
   "cell_type": "code",
   "execution_count": 26,
   "metadata": {},
   "outputs": [
    {
     "data": {
      "application/vnd.plotly.v1+json": {
       "config": {
        "plotlyServerURL": "https://plot.ly"
       },
       "data": [
        {
         "alignmentgroup": "True",
         "hovertemplate": "vehicle_type=car<br>callsign=%{x}<br>perc_time_in_use=%{y}<extra></extra>",
         "legendgroup": "car",
         "marker": {
          "color": "#000001",
          "pattern": {
           "shape": ""
          }
         },
         "name": "car",
         "offsetgroup": "car",
         "orientation": "v",
         "showlegend": true,
         "textposition": "auto",
         "type": "bar",
         "x": [
          "C70",
          "C71",
          "C72"
         ],
         "xaxis": "x",
         "y": [
          0.14924000640871588,
          0.11636149162861492,
          0.13643120243531204
         ],
         "yaxis": "y"
        },
        {
         "alignmentgroup": "True",
         "hovertemplate": "vehicle_type=helicopter<br>callsign=%{x}<br>perc_time_in_use=%{y}<extra></extra>",
         "legendgroup": "helicopter",
         "marker": {
          "color": "#000002",
          "pattern": {
           "shape": ""
          }
         },
         "name": "helicopter",
         "offsetgroup": "helicopter",
         "orientation": "v",
         "showlegend": true,
         "textposition": "auto",
         "type": "bar",
         "x": [
          "H70",
          "H71"
         ],
         "xaxis": "x",
         "y": [
          0.09030890010414164,
          0.04869494245241257
         ],
         "yaxis": "y"
        }
       ],
       "layout": {
        "barmode": "relative",
        "legend": {
         "title": {
          "text": "vehicle_type"
         },
         "tracegroupgap": 0
        },
        "margin": {
         "t": 60
        },
        "template": {
         "data": {
          "candlestick": [
           {
            "decreasing": {
             "line": {
              "color": "#000033"
             }
            },
            "increasing": {
             "line": {
              "color": "#000032"
             }
            },
            "type": "candlestick"
           }
          ],
          "contour": [
           {
            "colorscale": [
             [
              0,
              "#000011"
             ],
             [
              0.1111111111111111,
              "#000012"
             ],
             [
              0.2222222222222222,
              "#000013"
             ],
             [
              0.3333333333333333,
              "#000014"
             ],
             [
              0.4444444444444444,
              "#000015"
             ],
             [
              0.5555555555555556,
              "#000016"
             ],
             [
              0.6666666666666666,
              "#000017"
             ],
             [
              0.7777777777777778,
              "#000018"
             ],
             [
              0.8888888888888888,
              "#000019"
             ],
             [
              1,
              "#000020"
             ]
            ],
            "type": "contour"
           }
          ],
          "contourcarpet": [
           {
            "colorscale": [
             [
              0,
              "#000011"
             ],
             [
              0.1111111111111111,
              "#000012"
             ],
             [
              0.2222222222222222,
              "#000013"
             ],
             [
              0.3333333333333333,
              "#000014"
             ],
             [
              0.4444444444444444,
              "#000015"
             ],
             [
              0.5555555555555556,
              "#000016"
             ],
             [
              0.6666666666666666,
              "#000017"
             ],
             [
              0.7777777777777778,
              "#000018"
             ],
             [
              0.8888888888888888,
              "#000019"
             ],
             [
              1,
              "#000020"
             ]
            ],
            "type": "contourcarpet"
           }
          ],
          "heatmap": [
           {
            "colorscale": [
             [
              0,
              "#000011"
             ],
             [
              0.1111111111111111,
              "#000012"
             ],
             [
              0.2222222222222222,
              "#000013"
             ],
             [
              0.3333333333333333,
              "#000014"
             ],
             [
              0.4444444444444444,
              "#000015"
             ],
             [
              0.5555555555555556,
              "#000016"
             ],
             [
              0.6666666666666666,
              "#000017"
             ],
             [
              0.7777777777777778,
              "#000018"
             ],
             [
              0.8888888888888888,
              "#000019"
             ],
             [
              1,
              "#000020"
             ]
            ],
            "type": "heatmap"
           }
          ],
          "histogram2d": [
           {
            "colorscale": [
             [
              0,
              "#000011"
             ],
             [
              0.1111111111111111,
              "#000012"
             ],
             [
              0.2222222222222222,
              "#000013"
             ],
             [
              0.3333333333333333,
              "#000014"
             ],
             [
              0.4444444444444444,
              "#000015"
             ],
             [
              0.5555555555555556,
              "#000016"
             ],
             [
              0.6666666666666666,
              "#000017"
             ],
             [
              0.7777777777777778,
              "#000018"
             ],
             [
              0.8888888888888888,
              "#000019"
             ],
             [
              1,
              "#000020"
             ]
            ],
            "type": "histogram2d"
           }
          ],
          "icicle": [
           {
            "textfont": {
             "color": "white"
            },
            "type": "icicle"
           }
          ],
          "sankey": [
           {
            "textfont": {
             "color": "#000036"
            },
            "type": "sankey"
           }
          ],
          "scatter": [
           {
            "marker": {
             "line": {
              "width": 0
             }
            },
            "type": "scatter"
           }
          ],
          "table": [
           {
            "cells": {
             "fill": {
              "color": "#000038"
             },
             "font": {
              "color": "#000037"
             },
             "line": {
              "color": "#000039"
             }
            },
            "header": {
             "fill": {
              "color": "#000040"
             },
             "font": {
              "color": "#000036"
             },
             "line": {
              "color": "#000039"
             }
            },
            "type": "table"
           }
          ],
          "waterfall": [
           {
            "connector": {
             "line": {
              "color": "#000036",
              "width": 2
             }
            },
            "decreasing": {
             "marker": {
              "color": "#000033"
             }
            },
            "increasing": {
             "marker": {
              "color": "#000032"
             }
            },
            "totals": {
             "marker": {
              "color": "#000034"
             }
            },
            "type": "waterfall"
           }
          ]
         },
         "layout": {
          "coloraxis": {
           "colorscale": [
            [
             0,
             "#000011"
            ],
            [
             0.1111111111111111,
             "#000012"
            ],
            [
             0.2222222222222222,
             "#000013"
            ],
            [
             0.3333333333333333,
             "#000014"
            ],
            [
             0.4444444444444444,
             "#000015"
            ],
            [
             0.5555555555555556,
             "#000016"
            ],
            [
             0.6666666666666666,
             "#000017"
            ],
            [
             0.7777777777777778,
             "#000018"
            ],
            [
             0.8888888888888888,
             "#000019"
            ],
            [
             1,
             "#000020"
            ]
           ]
          },
          "colorscale": {
           "diverging": [
            [
             0,
             "#000021"
            ],
            [
             0.1,
             "#000022"
            ],
            [
             0.2,
             "#000023"
            ],
            [
             0.3,
             "#000024"
            ],
            [
             0.4,
             "#000025"
            ],
            [
             0.5,
             "#000026"
            ],
            [
             0.6,
             "#000027"
            ],
            [
             0.7,
             "#000028"
            ],
            [
             0.8,
             "#000029"
            ],
            [
             0.9,
             "#000030"
            ],
            [
             1,
             "#000031"
            ]
           ],
           "sequential": [
            [
             0,
             "#000011"
            ],
            [
             0.1111111111111111,
             "#000012"
            ],
            [
             0.2222222222222222,
             "#000013"
            ],
            [
             0.3333333333333333,
             "#000014"
            ],
            [
             0.4444444444444444,
             "#000015"
            ],
            [
             0.5555555555555556,
             "#000016"
            ],
            [
             0.6666666666666666,
             "#000017"
            ],
            [
             0.7777777777777778,
             "#000018"
            ],
            [
             0.8888888888888888,
             "#000019"
            ],
            [
             1,
             "#000020"
            ]
           ],
           "sequentialminus": [
            [
             0,
             "#000011"
            ],
            [
             0.1111111111111111,
             "#000012"
            ],
            [
             0.2222222222222222,
             "#000013"
            ],
            [
             0.3333333333333333,
             "#000014"
            ],
            [
             0.4444444444444444,
             "#000015"
            ],
            [
             0.5555555555555556,
             "#000016"
            ],
            [
             0.6666666666666666,
             "#000017"
            ],
            [
             0.7777777777777778,
             "#000018"
            ],
            [
             0.8888888888888888,
             "#000019"
            ],
            [
             1,
             "#000020"
            ]
           ]
          },
          "colorway": [
           "#000001",
           "#000002",
           "#000003",
           "#000004",
           "#000005",
           "#000006",
           "#000007",
           "#000008",
           "#000009",
           "#000010"
          ]
         }
        },
        "xaxis": {
         "anchor": "y",
         "domain": [
          0,
          1
         ],
         "title": {
          "text": "callsign"
         }
        },
        "yaxis": {
         "anchor": "x",
         "domain": [
          0,
          1
         ],
         "title": {
          "text": "perc_time_in_use"
         }
        }
       }
      }
     },
     "metadata": {},
     "output_type": "display_data"
    }
   ],
   "source": [
    "px.bar(utilisation_df_overall.reset_index(),\n",
    "       y=\"perc_time_in_use\",\n",
    "       x=\"callsign\",\n",
    "       color=\"vehicle_type\")"
   ]
  },
  {
   "cell_type": "code",
   "execution_count": 27,
   "metadata": {},
   "outputs": [
    {
     "data": {
      "application/vnd.plotly.v1+json": {
       "config": {
        "plotlyServerURL": "https://plot.ly"
       },
       "data": [
        {
         "alignmentgroup": "True",
         "hovertemplate": "Vehicle Type=Car<br>Callsign=%{x}<br>Average Percentage of Available<br>Time Spent in Use=%{y}<extra></extra>",
         "legendgroup": "Car",
         "marker": {
          "color": "#1D428A",
          "pattern": {
           "shape": ""
          }
         },
         "name": "Car",
         "offsetgroup": "Car",
         "orientation": "v",
         "showlegend": true,
         "textposition": "auto",
         "type": "bar",
         "x": [
          "C70",
          "C71",
          "C72"
         ],
         "xaxis": "x",
         "y": [
          0.14924000640871588,
          0.11636149162861492,
          0.13643120243531204
         ],
         "yaxis": "y"
        },
        {
         "alignmentgroup": "True",
         "hovertemplate": "Vehicle Type=Helicopter<br>Callsign=%{x}<br>Average Percentage of Available<br>Time Spent in Use=%{y}<extra></extra>",
         "legendgroup": "Helicopter",
         "marker": {
          "color": "#D50032",
          "pattern": {
           "shape": ""
          }
         },
         "name": "Helicopter",
         "offsetgroup": "Helicopter",
         "orientation": "v",
         "showlegend": true,
         "textposition": "auto",
         "type": "bar",
         "x": [
          "H70",
          "H71"
         ],
         "xaxis": "x",
         "y": [
          0.09030890010414164,
          0.04869494245241257
         ],
         "yaxis": "y"
        }
       ],
       "layout": {
        "barmode": "relative",
        "legend": {
         "title": {
          "text": "Vehicle Type"
         },
         "tracegroupgap": 0
        },
        "template": {
         "data": {
          "candlestick": [
           {
            "decreasing": {
             "line": {
              "color": "#000033"
             }
            },
            "increasing": {
             "line": {
              "color": "#000032"
             }
            },
            "type": "candlestick"
           }
          ],
          "contour": [
           {
            "colorscale": [
             [
              0,
              "#000011"
             ],
             [
              0.1111111111111111,
              "#000012"
             ],
             [
              0.2222222222222222,
              "#000013"
             ],
             [
              0.3333333333333333,
              "#000014"
             ],
             [
              0.4444444444444444,
              "#000015"
             ],
             [
              0.5555555555555556,
              "#000016"
             ],
             [
              0.6666666666666666,
              "#000017"
             ],
             [
              0.7777777777777778,
              "#000018"
             ],
             [
              0.8888888888888888,
              "#000019"
             ],
             [
              1,
              "#000020"
             ]
            ],
            "type": "contour"
           }
          ],
          "contourcarpet": [
           {
            "colorscale": [
             [
              0,
              "#000011"
             ],
             [
              0.1111111111111111,
              "#000012"
             ],
             [
              0.2222222222222222,
              "#000013"
             ],
             [
              0.3333333333333333,
              "#000014"
             ],
             [
              0.4444444444444444,
              "#000015"
             ],
             [
              0.5555555555555556,
              "#000016"
             ],
             [
              0.6666666666666666,
              "#000017"
             ],
             [
              0.7777777777777778,
              "#000018"
             ],
             [
              0.8888888888888888,
              "#000019"
             ],
             [
              1,
              "#000020"
             ]
            ],
            "type": "contourcarpet"
           }
          ],
          "heatmap": [
           {
            "colorscale": [
             [
              0,
              "#000011"
             ],
             [
              0.1111111111111111,
              "#000012"
             ],
             [
              0.2222222222222222,
              "#000013"
             ],
             [
              0.3333333333333333,
              "#000014"
             ],
             [
              0.4444444444444444,
              "#000015"
             ],
             [
              0.5555555555555556,
              "#000016"
             ],
             [
              0.6666666666666666,
              "#000017"
             ],
             [
              0.7777777777777778,
              "#000018"
             ],
             [
              0.8888888888888888,
              "#000019"
             ],
             [
              1,
              "#000020"
             ]
            ],
            "type": "heatmap"
           }
          ],
          "histogram2d": [
           {
            "colorscale": [
             [
              0,
              "#000011"
             ],
             [
              0.1111111111111111,
              "#000012"
             ],
             [
              0.2222222222222222,
              "#000013"
             ],
             [
              0.3333333333333333,
              "#000014"
             ],
             [
              0.4444444444444444,
              "#000015"
             ],
             [
              0.5555555555555556,
              "#000016"
             ],
             [
              0.6666666666666666,
              "#000017"
             ],
             [
              0.7777777777777778,
              "#000018"
             ],
             [
              0.8888888888888888,
              "#000019"
             ],
             [
              1,
              "#000020"
             ]
            ],
            "type": "histogram2d"
           }
          ],
          "icicle": [
           {
            "textfont": {
             "color": "white"
            },
            "type": "icicle"
           }
          ],
          "sankey": [
           {
            "textfont": {
             "color": "#000036"
            },
            "type": "sankey"
           }
          ],
          "scatter": [
           {
            "marker": {
             "line": {
              "width": 0
             }
            },
            "type": "scatter"
           }
          ],
          "table": [
           {
            "cells": {
             "fill": {
              "color": "#000038"
             },
             "font": {
              "color": "#000037"
             },
             "line": {
              "color": "#000039"
             }
            },
            "header": {
             "fill": {
              "color": "#000040"
             },
             "font": {
              "color": "#000036"
             },
             "line": {
              "color": "#000039"
             }
            },
            "type": "table"
           }
          ],
          "waterfall": [
           {
            "connector": {
             "line": {
              "color": "#000036",
              "width": 2
             }
            },
            "decreasing": {
             "marker": {
              "color": "#000033"
             }
            },
            "increasing": {
             "marker": {
              "color": "#000032"
             }
            },
            "totals": {
             "marker": {
              "color": "#000034"
             }
            },
            "type": "waterfall"
           }
          ]
         },
         "layout": {
          "coloraxis": {
           "colorscale": [
            [
             0,
             "#000011"
            ],
            [
             0.1111111111111111,
             "#000012"
            ],
            [
             0.2222222222222222,
             "#000013"
            ],
            [
             0.3333333333333333,
             "#000014"
            ],
            [
             0.4444444444444444,
             "#000015"
            ],
            [
             0.5555555555555556,
             "#000016"
            ],
            [
             0.6666666666666666,
             "#000017"
            ],
            [
             0.7777777777777778,
             "#000018"
            ],
            [
             0.8888888888888888,
             "#000019"
            ],
            [
             1,
             "#000020"
            ]
           ]
          },
          "colorscale": {
           "diverging": [
            [
             0,
             "#000021"
            ],
            [
             0.1,
             "#000022"
            ],
            [
             0.2,
             "#000023"
            ],
            [
             0.3,
             "#000024"
            ],
            [
             0.4,
             "#000025"
            ],
            [
             0.5,
             "#000026"
            ],
            [
             0.6,
             "#000027"
            ],
            [
             0.7,
             "#000028"
            ],
            [
             0.8,
             "#000029"
            ],
            [
             0.9,
             "#000030"
            ],
            [
             1,
             "#000031"
            ]
           ],
           "sequential": [
            [
             0,
             "#000011"
            ],
            [
             0.1111111111111111,
             "#000012"
            ],
            [
             0.2222222222222222,
             "#000013"
            ],
            [
             0.3333333333333333,
             "#000014"
            ],
            [
             0.4444444444444444,
             "#000015"
            ],
            [
             0.5555555555555556,
             "#000016"
            ],
            [
             0.6666666666666666,
             "#000017"
            ],
            [
             0.7777777777777778,
             "#000018"
            ],
            [
             0.8888888888888888,
             "#000019"
            ],
            [
             1,
             "#000020"
            ]
           ],
           "sequentialminus": [
            [
             0,
             "#000011"
            ],
            [
             0.1111111111111111,
             "#000012"
            ],
            [
             0.2222222222222222,
             "#000013"
            ],
            [
             0.3333333333333333,
             "#000014"
            ],
            [
             0.4444444444444444,
             "#000015"
            ],
            [
             0.5555555555555556,
             "#000016"
            ],
            [
             0.6666666666666666,
             "#000017"
            ],
            [
             0.7777777777777778,
             "#000018"
            ],
            [
             0.8888888888888888,
             "#000019"
            ],
            [
             1,
             "#000020"
            ]
           ]
          },
          "colorway": [
           "#000001",
           "#000002",
           "#000003",
           "#000004",
           "#000005",
           "#000006",
           "#000007",
           "#000008",
           "#000009",
           "#000010"
          ]
         }
        },
        "title": {
         "text": "Average Resource Utilisation Across All Simulation Runs"
        },
        "xaxis": {
         "anchor": "y",
         "domain": [
          0,
          1
         ],
         "title": {
          "text": "Callsign"
         }
        },
        "yaxis": {
         "anchor": "x",
         "domain": [
          0,
          1
         ],
         "tickformat": ".0%",
         "title": {
          "text": "Average Percentage of Available<br>Time Spent in Use"
         }
        }
       }
      }
     },
     "metadata": {},
     "output_type": "display_data"
    }
   ],
   "source": [
    "_utilisation_result_calculation.make_SIMULATION_utilisation_summary_plot(utilisation_df_overall=utilisation_df_overall)"
   ]
  },
  {
   "cell_type": "code",
   "execution_count": 28,
   "metadata": {},
   "outputs": [
    {
     "data": {
      "application/vnd.plotly.v1+json": {
       "config": {
        "plotlyServerURL": "https://plot.ly"
       },
       "data": [
        {
         "alignmentgroup": "True",
         "hovertemplate": "Vehicle Type=Car<br>Average Percentage of Available<br>Time Spent in Use=%{x}<br>Callsign=%{y}<extra></extra>",
         "legendgroup": "Car",
         "marker": {
          "color": "#1D428A"
         },
         "name": "Car",
         "notched": false,
         "offsetgroup": "Car",
         "orientation": "h",
         "showlegend": true,
         "type": "box",
         "x": [
          0.15804133621725547,
          0.12315525114155251,
          0.1260593607305936,
          0.19652727709685172,
          0.088,
          0.13651598173515983,
          0.13524633501562125,
          0.10025114155251141,
          0.16854337899543378,
          0.13771929824561405,
          0.08668036529680365,
          0.08124200913242009,
          0.15951934631098294,
          0.09772146118721461,
          0.13055707762557078,
          0.18030281182408076,
          0.09700456621004566,
          0.08184474885844749,
          0.14338380197068012,
          0.1326392694063927,
          0.22140639269406392,
          0.18552030761836097,
          0.1873607305936073,
          0.10118264840182649,
          0.13190579187695264,
          0.02284931506849315,
          0.10033789954337899,
          0.13794039894256188,
          0.10276255707762558,
          0.16590867579908675,
          0.14539293439077144,
          0.1107351598173516,
          0.2558401826484018,
          0.1287094448449892,
          0.07054794520547945,
          0.18308675799086757,
          0.13669069935111752,
          0.215337899543379,
          0.10537442922374429,
          0.17336938236000962,
          0.1067351598173516,
          0.16301826484018264,
          0.15124729632299927,
          0.08202739726027397,
          0.1660365296803653,
          0.14076664263398223,
          0.16880365296803654,
          0.12463013698630138,
          0.15168949771689497,
          0.2002420091324201,
          0.10189954337899543,
          0.1935183850036049,
          0.140337899543379,
          0.2230730593607306,
          0.14370583994232156,
          0.08318721461187215,
          0.14076712328767124,
          0.11069935111751983,
          0.13271689497716896,
          0.16710045662100456,
          0.21084114395577985,
          0.08570319634703197,
          0.07819634703196347,
          0.13208363374188897,
          0.21173972602739727,
          0.1710958904109589,
          0.10910838740687334,
          0.10868949771689498,
          0.11153881278538813,
          0.14364095169430424,
          0.1382785388127854,
          0.10800456621004566,
          0.12411199230954098,
          0.12045662100456621,
          0.08778538812785389,
          0.15981254506128334,
          0.11752511415525115,
          0.10184931506849315,
          0.12263398221581351,
          0.13672146118721462,
          0.11836529680365297,
          0.11706560922855083,
          0.09858904109589041,
          0.12618721461187216,
          0.1816366258111031,
          0.06302283105022831,
          0.11657077625570776,
          0.1343691420331651,
          0.06102283105022831,
          0.1289178082191781
         ],
         "x0": " ",
         "xaxis": "x",
         "y": [
          "C70",
          "C71",
          "C72",
          "C70",
          "C71",
          "C72",
          "C70",
          "C71",
          "C72",
          "C70",
          "C71",
          "C72",
          "C70",
          "C71",
          "C72",
          "C70",
          "C71",
          "C72",
          "C70",
          "C71",
          "C72",
          "C70",
          "C71",
          "C72",
          "C70",
          "C71",
          "C72",
          "C70",
          "C71",
          "C72",
          "C70",
          "C71",
          "C72",
          "C70",
          "C71",
          "C72",
          "C70",
          "C71",
          "C72",
          "C70",
          "C71",
          "C72",
          "C70",
          "C71",
          "C72",
          "C70",
          "C71",
          "C72",
          "C70",
          "C71",
          "C72",
          "C70",
          "C71",
          "C72",
          "C70",
          "C71",
          "C72",
          "C70",
          "C71",
          "C72",
          "C70",
          "C71",
          "C72",
          "C70",
          "C71",
          "C72",
          "C70",
          "C71",
          "C72",
          "C70",
          "C71",
          "C72",
          "C70",
          "C71",
          "C72",
          "C70",
          "C71",
          "C72",
          "C70",
          "C71",
          "C72",
          "C70",
          "C71",
          "C72",
          "C70",
          "C71",
          "C72",
          "C70",
          "C71",
          "C72"
         ],
         "y0": " ",
         "yaxis": "y"
        },
        {
         "alignmentgroup": "True",
         "hovertemplate": "Vehicle Type=Helicopter<br>Average Percentage of Available<br>Time Spent in Use=%{x}<br>Callsign=%{y}<extra></extra>",
         "legendgroup": "Helicopter",
         "marker": {
          "color": "#D50032"
         },
         "name": "Helicopter",
         "notched": false,
         "offsetgroup": "Helicopter",
         "orientation": "h",
         "showlegend": true,
         "type": "box",
         "x": [
          0.08743811583753905,
          0.04392015272244356,
          0.09363854842585917,
          0.05129482071713148,
          0.08684450853160298,
          0.04116035856573705,
          0.08193703436673877,
          0.027465139442231074,
          0.08090843547224225,
          0.037271746347941566,
          0.08061523672194185,
          0.04379565073041169,
          0.0686589762076424,
          0.06148323373173971,
          0.13619562605142996,
          0.04167911686586986,
          0.07529920692141312,
          0.07777639442231075,
          0.08909156452775775,
          0.04846032536520584,
          0.09215092525835136,
          0.06051626826029217,
          0.09642393655371305,
          0.04655544488711819,
          0.09434270608026916,
          0.056137948207171315,
          0.08986301369863013,
          0.03808930942895086,
          0.0856789233357366,
          0.05536188579017264,
          0.07263638548425859,
          0.038915172642762286,
          0.07443643354962749,
          0.030660690571049136,
          0.08257149723624128,
          0.054643924302788846,
          0.07870463830809901,
          0.03807685922974768,
          0.10484979572218217,
          0.042604581673306774,
          0.08967555875991348,
          0.044509462151394424,
          0.09020187454938716,
          0.05698041168658698,
          0.0964167267483778,
          0.05360640770252324,
          0.0893294881038212,
          0.048066069057104914,
          0.09400144196106705,
          0.06210159362549801,
          0.09335736601778419,
          0.03930527888446215,
          0.09801249699591444,
          0.05320385126162019,
          0.10230233117039174,
          0.048879482071713144,
          0.10527757750540735,
          0.05327440239043825,
          0.09840663302090844,
          0.06505229083665338
         ],
         "x0": " ",
         "xaxis": "x",
         "y": [
          "H70",
          "H71",
          "H70",
          "H71",
          "H70",
          "H71",
          "H70",
          "H71",
          "H70",
          "H71",
          "H70",
          "H71",
          "H70",
          "H71",
          "H70",
          "H71",
          "H70",
          "H71",
          "H70",
          "H71",
          "H70",
          "H71",
          "H70",
          "H71",
          "H70",
          "H71",
          "H70",
          "H71",
          "H70",
          "H71",
          "H70",
          "H71",
          "H70",
          "H71",
          "H70",
          "H71",
          "H70",
          "H71",
          "H70",
          "H71",
          "H70",
          "H71",
          "H70",
          "H71",
          "H70",
          "H71",
          "H70",
          "H71",
          "H70",
          "H71",
          "H70",
          "H71",
          "H70",
          "H71",
          "H70",
          "H71",
          "H70",
          "H71",
          "H70",
          "H71"
         ],
         "y0": " ",
         "yaxis": "y"
        }
       ],
       "layout": {
        "boxmode": "group",
        "legend": {
         "title": {
          "text": "Vehicle Type"
         },
         "tracegroupgap": 0
        },
        "template": {
         "data": {
          "candlestick": [
           {
            "decreasing": {
             "line": {
              "color": "#000033"
             }
            },
            "increasing": {
             "line": {
              "color": "#000032"
             }
            },
            "type": "candlestick"
           }
          ],
          "contour": [
           {
            "colorscale": [
             [
              0,
              "#000011"
             ],
             [
              0.1111111111111111,
              "#000012"
             ],
             [
              0.2222222222222222,
              "#000013"
             ],
             [
              0.3333333333333333,
              "#000014"
             ],
             [
              0.4444444444444444,
              "#000015"
             ],
             [
              0.5555555555555556,
              "#000016"
             ],
             [
              0.6666666666666666,
              "#000017"
             ],
             [
              0.7777777777777778,
              "#000018"
             ],
             [
              0.8888888888888888,
              "#000019"
             ],
             [
              1,
              "#000020"
             ]
            ],
            "type": "contour"
           }
          ],
          "contourcarpet": [
           {
            "colorscale": [
             [
              0,
              "#000011"
             ],
             [
              0.1111111111111111,
              "#000012"
             ],
             [
              0.2222222222222222,
              "#000013"
             ],
             [
              0.3333333333333333,
              "#000014"
             ],
             [
              0.4444444444444444,
              "#000015"
             ],
             [
              0.5555555555555556,
              "#000016"
             ],
             [
              0.6666666666666666,
              "#000017"
             ],
             [
              0.7777777777777778,
              "#000018"
             ],
             [
              0.8888888888888888,
              "#000019"
             ],
             [
              1,
              "#000020"
             ]
            ],
            "type": "contourcarpet"
           }
          ],
          "heatmap": [
           {
            "colorscale": [
             [
              0,
              "#000011"
             ],
             [
              0.1111111111111111,
              "#000012"
             ],
             [
              0.2222222222222222,
              "#000013"
             ],
             [
              0.3333333333333333,
              "#000014"
             ],
             [
              0.4444444444444444,
              "#000015"
             ],
             [
              0.5555555555555556,
              "#000016"
             ],
             [
              0.6666666666666666,
              "#000017"
             ],
             [
              0.7777777777777778,
              "#000018"
             ],
             [
              0.8888888888888888,
              "#000019"
             ],
             [
              1,
              "#000020"
             ]
            ],
            "type": "heatmap"
           }
          ],
          "histogram2d": [
           {
            "colorscale": [
             [
              0,
              "#000011"
             ],
             [
              0.1111111111111111,
              "#000012"
             ],
             [
              0.2222222222222222,
              "#000013"
             ],
             [
              0.3333333333333333,
              "#000014"
             ],
             [
              0.4444444444444444,
              "#000015"
             ],
             [
              0.5555555555555556,
              "#000016"
             ],
             [
              0.6666666666666666,
              "#000017"
             ],
             [
              0.7777777777777778,
              "#000018"
             ],
             [
              0.8888888888888888,
              "#000019"
             ],
             [
              1,
              "#000020"
             ]
            ],
            "type": "histogram2d"
           }
          ],
          "icicle": [
           {
            "textfont": {
             "color": "white"
            },
            "type": "icicle"
           }
          ],
          "sankey": [
           {
            "textfont": {
             "color": "#000036"
            },
            "type": "sankey"
           }
          ],
          "scatter": [
           {
            "marker": {
             "line": {
              "width": 0
             }
            },
            "type": "scatter"
           }
          ],
          "table": [
           {
            "cells": {
             "fill": {
              "color": "#000038"
             },
             "font": {
              "color": "#000037"
             },
             "line": {
              "color": "#000039"
             }
            },
            "header": {
             "fill": {
              "color": "#000040"
             },
             "font": {
              "color": "#000036"
             },
             "line": {
              "color": "#000039"
             }
            },
            "type": "table"
           }
          ],
          "waterfall": [
           {
            "connector": {
             "line": {
              "color": "#000036",
              "width": 2
             }
            },
            "decreasing": {
             "marker": {
              "color": "#000033"
             }
            },
            "increasing": {
             "marker": {
              "color": "#000032"
             }
            },
            "totals": {
             "marker": {
              "color": "#000034"
             }
            },
            "type": "waterfall"
           }
          ]
         },
         "layout": {
          "coloraxis": {
           "colorscale": [
            [
             0,
             "#000011"
            ],
            [
             0.1111111111111111,
             "#000012"
            ],
            [
             0.2222222222222222,
             "#000013"
            ],
            [
             0.3333333333333333,
             "#000014"
            ],
            [
             0.4444444444444444,
             "#000015"
            ],
            [
             0.5555555555555556,
             "#000016"
            ],
            [
             0.6666666666666666,
             "#000017"
            ],
            [
             0.7777777777777778,
             "#000018"
            ],
            [
             0.8888888888888888,
             "#000019"
            ],
            [
             1,
             "#000020"
            ]
           ]
          },
          "colorscale": {
           "diverging": [
            [
             0,
             "#000021"
            ],
            [
             0.1,
             "#000022"
            ],
            [
             0.2,
             "#000023"
            ],
            [
             0.3,
             "#000024"
            ],
            [
             0.4,
             "#000025"
            ],
            [
             0.5,
             "#000026"
            ],
            [
             0.6,
             "#000027"
            ],
            [
             0.7,
             "#000028"
            ],
            [
             0.8,
             "#000029"
            ],
            [
             0.9,
             "#000030"
            ],
            [
             1,
             "#000031"
            ]
           ],
           "sequential": [
            [
             0,
             "#000011"
            ],
            [
             0.1111111111111111,
             "#000012"
            ],
            [
             0.2222222222222222,
             "#000013"
            ],
            [
             0.3333333333333333,
             "#000014"
            ],
            [
             0.4444444444444444,
             "#000015"
            ],
            [
             0.5555555555555556,
             "#000016"
            ],
            [
             0.6666666666666666,
             "#000017"
            ],
            [
             0.7777777777777778,
             "#000018"
            ],
            [
             0.8888888888888888,
             "#000019"
            ],
            [
             1,
             "#000020"
            ]
           ],
           "sequentialminus": [
            [
             0,
             "#000011"
            ],
            [
             0.1111111111111111,
             "#000012"
            ],
            [
             0.2222222222222222,
             "#000013"
            ],
            [
             0.3333333333333333,
             "#000014"
            ],
            [
             0.4444444444444444,
             "#000015"
            ],
            [
             0.5555555555555556,
             "#000016"
            ],
            [
             0.6666666666666666,
             "#000017"
            ],
            [
             0.7777777777777778,
             "#000018"
            ],
            [
             0.8888888888888888,
             "#000019"
            ],
            [
             1,
             "#000020"
            ]
           ]
          },
          "colorway": [
           "#000001",
           "#000002",
           "#000003",
           "#000004",
           "#000005",
           "#000006",
           "#000007",
           "#000008",
           "#000009",
           "#000010"
          ]
         }
        },
        "title": {
         "text": "Variation in Resource Utilisation Across All Simulation Runs"
        },
        "xaxis": {
         "anchor": "y",
         "domain": [
          0,
          1
         ],
         "tickformat": ".0%",
         "title": {
          "text": "Average Percentage of Available<br>Time Spent in Use"
         }
        },
        "yaxis": {
         "anchor": "x",
         "domain": [
          0,
          1
         ],
         "title": {
          "text": "Callsign"
         }
        }
       }
      }
     },
     "metadata": {},
     "output_type": "display_data"
    }
   ],
   "source": [
    "_utilisation_result_calculation.make_SIMULATION_utilisation_variation_plot(utilisation_df_per_run=utilisation_df_per_run)"
   ]
  },
  {
   "cell_type": "code",
   "execution_count": 29,
   "metadata": {},
   "outputs": [
    {
     "data": {
      "text/html": [
       "<div>\n",
       "<style scoped>\n",
       "    .dataframe tbody tr th:only-of-type {\n",
       "        vertical-align: middle;\n",
       "    }\n",
       "\n",
       "    .dataframe tbody tr th {\n",
       "        vertical-align: top;\n",
       "    }\n",
       "\n",
       "    .dataframe thead th {\n",
       "        text-align: right;\n",
       "    }\n",
       "</style>\n",
       "<table border=\"1\" class=\"dataframe\">\n",
       "  <thead>\n",
       "    <tr style=\"text-align: right;\">\n",
       "      <th></th>\n",
       "      <th>callsign_group</th>\n",
       "      <th>resource_use_duration</th>\n",
       "      <th>total_available_minutes_in_sim</th>\n",
       "      <th>perc_time_in_use</th>\n",
       "      <th>PRINT_perc</th>\n",
       "    </tr>\n",
       "  </thead>\n",
       "  <tbody>\n",
       "    <tr>\n",
       "      <th>0</th>\n",
       "      <td>70.0</td>\n",
       "      <td>99676.300000</td>\n",
       "      <td>416100</td>\n",
       "      <td>0.239549</td>\n",
       "      <td>24.0%</td>\n",
       "    </tr>\n",
       "    <tr>\n",
       "      <th>1</th>\n",
       "      <td>71.0</td>\n",
       "      <td>37216.700000</td>\n",
       "      <td>240960</td>\n",
       "      <td>0.154452</td>\n",
       "      <td>15.4%</td>\n",
       "    </tr>\n",
       "    <tr>\n",
       "      <th>2</th>\n",
       "      <td>72.0</td>\n",
       "      <td>29878.433333</td>\n",
       "      <td>219000</td>\n",
       "      <td>0.136431</td>\n",
       "      <td>13.6%</td>\n",
       "    </tr>\n",
       "  </tbody>\n",
       "</table>\n",
       "</div>"
      ],
      "text/plain": [
       "   callsign_group  resource_use_duration  total_available_minutes_in_sim  \\\n",
       "0            70.0           99676.300000                          416100   \n",
       "1            71.0           37216.700000                          240960   \n",
       "2            72.0           29878.433333                          219000   \n",
       "\n",
       "   perc_time_in_use PRINT_perc  \n",
       "0          0.239549      24.0%  \n",
       "1          0.154452      15.4%  \n",
       "2          0.136431      13.6%  "
      ]
     },
     "execution_count": 29,
     "metadata": {},
     "output_type": "execute_result"
    }
   ],
   "source": [
    "utilisation_df_per_run_by_csg"
   ]
  },
  {
   "cell_type": "markdown",
   "metadata": {},
   "source": [
    "## Available time calculation"
   ]
  },
  {
   "cell_type": "code",
   "execution_count": 30,
   "metadata": {},
   "outputs": [
    {
     "data": {
      "text/html": [
       "<div>\n",
       "<style scoped>\n",
       "    .dataframe tbody tr th:only-of-type {\n",
       "        vertical-align: middle;\n",
       "    }\n",
       "\n",
       "    .dataframe tbody tr th {\n",
       "        vertical-align: top;\n",
       "    }\n",
       "\n",
       "    .dataframe thead th {\n",
       "        text-align: right;\n",
       "    }\n",
       "</style>\n",
       "<table border=\"1\" class=\"dataframe\">\n",
       "  <thead>\n",
       "    <tr style=\"text-align: right;\">\n",
       "      <th></th>\n",
       "      <th>callsign</th>\n",
       "      <th>summer_start</th>\n",
       "      <th>winter_start</th>\n",
       "      <th>summer_end</th>\n",
       "      <th>winter_end</th>\n",
       "    </tr>\n",
       "  </thead>\n",
       "  <tbody>\n",
       "    <tr>\n",
       "      <th>0</th>\n",
       "      <td>H70</td>\n",
       "      <td>7</td>\n",
       "      <td>7</td>\n",
       "      <td>2</td>\n",
       "      <td>2</td>\n",
       "    </tr>\n",
       "    <tr>\n",
       "      <th>1</th>\n",
       "      <td>CC70</td>\n",
       "      <td>7</td>\n",
       "      <td>7</td>\n",
       "      <td>2</td>\n",
       "      <td>2</td>\n",
       "    </tr>\n",
       "    <tr>\n",
       "      <th>2</th>\n",
       "      <td>H71</td>\n",
       "      <td>7</td>\n",
       "      <td>7</td>\n",
       "      <td>19</td>\n",
       "      <td>17</td>\n",
       "    </tr>\n",
       "    <tr>\n",
       "      <th>3</th>\n",
       "      <td>CC71</td>\n",
       "      <td>9</td>\n",
       "      <td>7</td>\n",
       "      <td>19</td>\n",
       "      <td>17</td>\n",
       "    </tr>\n",
       "    <tr>\n",
       "      <th>4</th>\n",
       "      <td>CC72</td>\n",
       "      <td>8</td>\n",
       "      <td>8</td>\n",
       "      <td>18</td>\n",
       "      <td>18</td>\n",
       "    </tr>\n",
       "  </tbody>\n",
       "</table>\n",
       "</div>"
      ],
      "text/plain": [
       "  callsign  summer_start  winter_start  summer_end  winter_end\n",
       "0      H70             7             7           2           2\n",
       "1     CC70             7             7           2           2\n",
       "2      H71             7             7          19          17\n",
       "3     CC71             9             7          19          17\n",
       "4     CC72             8             8          18          18"
      ]
     },
     "execution_count": 30,
     "metadata": {},
     "output_type": "execute_result"
    }
   ],
   "source": [
    "import pandas as pd\n",
    "hems_rota = pd.read_csv(\"../data/hems_rota_used.csv\")\n",
    "hems_rota[['callsign', 'summer_start', 'winter_start', 'summer_end', 'winter_end']]"
   ]
  },
  {
   "cell_type": "code",
   "execution_count": null,
   "metadata": {},
   "outputs": [],
   "source": []
  },
  {
   "cell_type": "code",
   "execution_count": 31,
   "metadata": {},
   "outputs": [
    {
     "data": {
      "text/html": [
       "<div>\n",
       "<style scoped>\n",
       "    .dataframe tbody tr th:only-of-type {\n",
       "        vertical-align: middle;\n",
       "    }\n",
       "\n",
       "    .dataframe tbody tr th {\n",
       "        vertical-align: top;\n",
       "    }\n",
       "\n",
       "    .dataframe thead th {\n",
       "        text-align: right;\n",
       "    }\n",
       "</style>\n",
       "<table border=\"1\" class=\"dataframe\">\n",
       "  <thead>\n",
       "    <tr style=\"text-align: right;\">\n",
       "      <th></th>\n",
       "      <th>parameter</th>\n",
       "      <th>value</th>\n",
       "    </tr>\n",
       "  </thead>\n",
       "  <tbody>\n",
       "    <tr>\n",
       "      <th>0</th>\n",
       "      <td>sim_duration</td>\n",
       "      <td>525600.0</td>\n",
       "    </tr>\n",
       "    <tr>\n",
       "      <th>1</th>\n",
       "      <td>warm_up_duration</td>\n",
       "      <td>0.0</td>\n",
       "    </tr>\n",
       "    <tr>\n",
       "      <th>2</th>\n",
       "      <td>sim_start_date</td>\n",
       "      <td>2025-02-14 08:00:00</td>\n",
       "    </tr>\n",
       "    <tr>\n",
       "      <th>3</th>\n",
       "      <td>sim_end_date</td>\n",
       "      <td>2026-02-14 08:00:00</td>\n",
       "    </tr>\n",
       "    <tr>\n",
       "      <th>4</th>\n",
       "      <td>warm_up_end_date</td>\n",
       "      <td>2025-02-14 08:00:00</td>\n",
       "    </tr>\n",
       "    <tr>\n",
       "      <th>5</th>\n",
       "      <td>amb_data</td>\n",
       "      <td>False</td>\n",
       "    </tr>\n",
       "    <tr>\n",
       "      <th>6</th>\n",
       "      <td>model_exec_time</td>\n",
       "      <td>2025-02-14 11:51:12.838309</td>\n",
       "    </tr>\n",
       "    <tr>\n",
       "      <th>7</th>\n",
       "      <td>summer_start_date</td>\n",
       "      <td>2025-04-01</td>\n",
       "    </tr>\n",
       "    <tr>\n",
       "      <th>8</th>\n",
       "      <td>winter_start_date</td>\n",
       "      <td>2025-10-01</td>\n",
       "    </tr>\n",
       "  </tbody>\n",
       "</table>\n",
       "</div>"
      ],
      "text/plain": [
       "           parameter                       value\n",
       "0       sim_duration                    525600.0\n",
       "1   warm_up_duration                         0.0\n",
       "2     sim_start_date         2025-02-14 08:00:00\n",
       "3       sim_end_date         2026-02-14 08:00:00\n",
       "4   warm_up_end_date         2025-02-14 08:00:00\n",
       "5           amb_data                       False\n",
       "6    model_exec_time  2025-02-14 11:51:12.838309\n",
       "7  summer_start_date                  2025-04-01\n",
       "8  winter_start_date                  2025-10-01"
      ]
     },
     "execution_count": 31,
     "metadata": {},
     "output_type": "execute_result"
    }
   ],
   "source": [
    "params = pd.read_csv(\"../data/run_params_used.csv\")\n",
    "params"
   ]
  },
  {
   "cell_type": "code",
   "execution_count": 32,
   "metadata": {},
   "outputs": [],
   "source": [
    "import _processing_functions\n",
    "from datetime import datetime"
   ]
  },
  {
   "cell_type": "code",
   "execution_count": 33,
   "metadata": {},
   "outputs": [
    {
     "data": {
      "text/html": [
       "<div>\n",
       "<style scoped>\n",
       "    .dataframe tbody tr th:only-of-type {\n",
       "        vertical-align: middle;\n",
       "    }\n",
       "\n",
       "    .dataframe tbody tr th {\n",
       "        vertical-align: top;\n",
       "    }\n",
       "\n",
       "    .dataframe thead th {\n",
       "        text-align: right;\n",
       "    }\n",
       "</style>\n",
       "<table border=\"1\" class=\"dataframe\">\n",
       "  <thead>\n",
       "    <tr style=\"text-align: right;\">\n",
       "      <th></th>\n",
       "      <th>date</th>\n",
       "      <th>is_summer</th>\n",
       "      <th>H70</th>\n",
       "      <th>CC70</th>\n",
       "      <th>H71</th>\n",
       "      <th>CC71</th>\n",
       "      <th>CC72</th>\n",
       "    </tr>\n",
       "  </thead>\n",
       "  <tbody>\n",
       "    <tr>\n",
       "      <th>0</th>\n",
       "      <td>2025-02-14</td>\n",
       "      <td>False</td>\n",
       "      <td>0</td>\n",
       "      <td>0</td>\n",
       "      <td>0</td>\n",
       "      <td>0</td>\n",
       "      <td>0</td>\n",
       "    </tr>\n",
       "    <tr>\n",
       "      <th>1</th>\n",
       "      <td>2025-02-15</td>\n",
       "      <td>False</td>\n",
       "      <td>0</td>\n",
       "      <td>0</td>\n",
       "      <td>0</td>\n",
       "      <td>0</td>\n",
       "      <td>0</td>\n",
       "    </tr>\n",
       "    <tr>\n",
       "      <th>2</th>\n",
       "      <td>2025-02-16</td>\n",
       "      <td>False</td>\n",
       "      <td>0</td>\n",
       "      <td>0</td>\n",
       "      <td>0</td>\n",
       "      <td>0</td>\n",
       "      <td>0</td>\n",
       "    </tr>\n",
       "    <tr>\n",
       "      <th>3</th>\n",
       "      <td>2025-02-17</td>\n",
       "      <td>False</td>\n",
       "      <td>0</td>\n",
       "      <td>0</td>\n",
       "      <td>0</td>\n",
       "      <td>0</td>\n",
       "      <td>0</td>\n",
       "    </tr>\n",
       "    <tr>\n",
       "      <th>4</th>\n",
       "      <td>2025-02-18</td>\n",
       "      <td>False</td>\n",
       "      <td>0</td>\n",
       "      <td>0</td>\n",
       "      <td>0</td>\n",
       "      <td>0</td>\n",
       "      <td>0</td>\n",
       "    </tr>\n",
       "    <tr>\n",
       "      <th>...</th>\n",
       "      <td>...</td>\n",
       "      <td>...</td>\n",
       "      <td>...</td>\n",
       "      <td>...</td>\n",
       "      <td>...</td>\n",
       "      <td>...</td>\n",
       "      <td>...</td>\n",
       "    </tr>\n",
       "    <tr>\n",
       "      <th>361</th>\n",
       "      <td>2026-02-10</td>\n",
       "      <td>False</td>\n",
       "      <td>0</td>\n",
       "      <td>0</td>\n",
       "      <td>0</td>\n",
       "      <td>0</td>\n",
       "      <td>0</td>\n",
       "    </tr>\n",
       "    <tr>\n",
       "      <th>362</th>\n",
       "      <td>2026-02-11</td>\n",
       "      <td>False</td>\n",
       "      <td>0</td>\n",
       "      <td>0</td>\n",
       "      <td>0</td>\n",
       "      <td>0</td>\n",
       "      <td>0</td>\n",
       "    </tr>\n",
       "    <tr>\n",
       "      <th>363</th>\n",
       "      <td>2026-02-12</td>\n",
       "      <td>False</td>\n",
       "      <td>0</td>\n",
       "      <td>0</td>\n",
       "      <td>0</td>\n",
       "      <td>0</td>\n",
       "      <td>0</td>\n",
       "    </tr>\n",
       "    <tr>\n",
       "      <th>364</th>\n",
       "      <td>2026-02-13</td>\n",
       "      <td>False</td>\n",
       "      <td>0</td>\n",
       "      <td>0</td>\n",
       "      <td>0</td>\n",
       "      <td>0</td>\n",
       "      <td>0</td>\n",
       "    </tr>\n",
       "    <tr>\n",
       "      <th>365</th>\n",
       "      <td>2026-02-14</td>\n",
       "      <td>False</td>\n",
       "      <td>0</td>\n",
       "      <td>0</td>\n",
       "      <td>0</td>\n",
       "      <td>0</td>\n",
       "      <td>0</td>\n",
       "    </tr>\n",
       "  </tbody>\n",
       "</table>\n",
       "<p>366 rows × 7 columns</p>\n",
       "</div>"
      ],
      "text/plain": [
       "          date  is_summer  H70  CC70  H71  CC71  CC72\n",
       "0   2025-02-14      False    0     0    0     0     0\n",
       "1   2025-02-15      False    0     0    0     0     0\n",
       "2   2025-02-16      False    0     0    0     0     0\n",
       "3   2025-02-17      False    0     0    0     0     0\n",
       "4   2025-02-18      False    0     0    0     0     0\n",
       "..         ...        ...  ...   ...  ...   ...   ...\n",
       "361 2026-02-10      False    0     0    0     0     0\n",
       "362 2026-02-11      False    0     0    0     0     0\n",
       "363 2026-02-12      False    0     0    0     0     0\n",
       "364 2026-02-13      False    0     0    0     0     0\n",
       "365 2026-02-14      False    0     0    0     0     0\n",
       "\n",
       "[366 rows x 7 columns]"
      ]
     },
     "execution_count": 33,
     "metadata": {},
     "output_type": "execute_result"
    }
   ],
   "source": [
    "warm_up_end = _processing_functions.get_param(\"warm_up_end_date\", params)\n",
    "warm_up_end = datetime.strptime(warm_up_end, \"%Y-%m-%d %H:%M:%S\")\n",
    "sim_end = _processing_functions.get_param(\"sim_end_date\", params)\n",
    "sim_end = datetime.strptime(sim_end, \"%Y-%m-%d %H:%M:%S\")\n",
    "\n",
    "\n",
    "date_range = pd.date_range(start=warm_up_end.date(),\n",
    "                           end=sim_end.date(),\n",
    "                           freq='D')\n",
    "df = pd.DataFrame({'date': date_range})\n",
    "\n",
    "summer_start = datetime.strptime(_processing_functions.get_param(\"summer_start_date\", params), \"%Y-%m-%d\")\n",
    "winter_start = datetime.strptime(_processing_functions.get_param(\"winter_start_date\", params), \"%Y-%m-%d\")\n",
    "\n",
    "summer_start_month_day = pd.to_datetime(summer_start).strftime('%m-%d')\n",
    "winter_start_month_day = pd.to_datetime(winter_start).strftime('%m-%d')\n",
    "\n",
    "def is_summer(date):\n",
    "        year = date.year\n",
    "        summer_start_date = pd.to_datetime(f\"{year}-{summer_start_month_day}\")\n",
    "        winter_start_date = pd.to_datetime(f\"{year}-{winter_start_month_day}\")\n",
    "        return summer_start_date <= date < winter_start_date\n",
    "\n",
    "df['is_summer'] = df['date'].apply(is_summer)\n",
    "\n",
    "# Fill with a blank column for each callsign\n",
    "for callsign in hems_rota.callsign:\n",
    "    df[callsign] = 0\n",
    "\n",
    "df"
   ]
  },
  {
   "cell_type": "code",
   "execution_count": 34,
   "metadata": {},
   "outputs": [
    {
     "name": "stderr",
     "output_type": "stream",
     "text": [
      "C:\\Users\\Sammi\\AppData\\Local\\Temp\\ipykernel_29692\\87864462.py:28: SettingWithCopyWarning:\n",
      "\n",
      "\n",
      "A value is trying to be set on a copy of a slice from a DataFrame\n",
      "\n",
      "See the caveats in the documentation: https://pandas.pydata.org/pandas-docs/stable/user_guide/indexing.html#returning-a-view-versus-a-copy\n",
      "\n",
      "C:\\Users\\Sammi\\AppData\\Local\\Temp\\ipykernel_29692\\87864462.py:35: SettingWithCopyWarning:\n",
      "\n",
      "\n",
      "A value is trying to be set on a copy of a slice from a DataFrame\n",
      "\n",
      "See the caveats in the documentation: https://pandas.pydata.org/pandas-docs/stable/user_guide/indexing.html#returning-a-view-versus-a-copy\n",
      "\n"
     ]
    },
    {
     "data": {
      "text/html": [
       "<div>\n",
       "<style scoped>\n",
       "    .dataframe tbody tr th:only-of-type {\n",
       "        vertical-align: middle;\n",
       "    }\n",
       "\n",
       "    .dataframe tbody tr th {\n",
       "        vertical-align: top;\n",
       "    }\n",
       "\n",
       "    .dataframe thead th {\n",
       "        text-align: right;\n",
       "    }\n",
       "</style>\n",
       "<table border=\"1\" class=\"dataframe\">\n",
       "  <thead>\n",
       "    <tr style=\"text-align: right;\">\n",
       "      <th></th>\n",
       "      <th>date</th>\n",
       "      <th>is_summer</th>\n",
       "      <th>H70</th>\n",
       "      <th>CC70</th>\n",
       "      <th>H71</th>\n",
       "      <th>CC71</th>\n",
       "      <th>CC72</th>\n",
       "    </tr>\n",
       "  </thead>\n",
       "  <tbody>\n",
       "    <tr>\n",
       "      <th>0</th>\n",
       "      <td>2025-02-14</td>\n",
       "      <td>False</td>\n",
       "      <td>11</td>\n",
       "      <td>11</td>\n",
       "      <td>2</td>\n",
       "      <td>2</td>\n",
       "      <td>2</td>\n",
       "    </tr>\n",
       "    <tr>\n",
       "      <th>1</th>\n",
       "      <td>2025-02-15</td>\n",
       "      <td>False</td>\n",
       "      <td>19</td>\n",
       "      <td>19</td>\n",
       "      <td>10</td>\n",
       "      <td>10</td>\n",
       "      <td>10</td>\n",
       "    </tr>\n",
       "    <tr>\n",
       "      <th>2</th>\n",
       "      <td>2025-02-16</td>\n",
       "      <td>False</td>\n",
       "      <td>19</td>\n",
       "      <td>19</td>\n",
       "      <td>10</td>\n",
       "      <td>10</td>\n",
       "      <td>10</td>\n",
       "    </tr>\n",
       "    <tr>\n",
       "      <th>3</th>\n",
       "      <td>2025-02-17</td>\n",
       "      <td>False</td>\n",
       "      <td>19</td>\n",
       "      <td>19</td>\n",
       "      <td>10</td>\n",
       "      <td>10</td>\n",
       "      <td>10</td>\n",
       "    </tr>\n",
       "    <tr>\n",
       "      <th>4</th>\n",
       "      <td>2025-02-18</td>\n",
       "      <td>False</td>\n",
       "      <td>19</td>\n",
       "      <td>19</td>\n",
       "      <td>10</td>\n",
       "      <td>10</td>\n",
       "      <td>10</td>\n",
       "    </tr>\n",
       "    <tr>\n",
       "      <th>...</th>\n",
       "      <td>...</td>\n",
       "      <td>...</td>\n",
       "      <td>...</td>\n",
       "      <td>...</td>\n",
       "      <td>...</td>\n",
       "      <td>...</td>\n",
       "      <td>...</td>\n",
       "    </tr>\n",
       "    <tr>\n",
       "      <th>361</th>\n",
       "      <td>2026-02-10</td>\n",
       "      <td>False</td>\n",
       "      <td>19</td>\n",
       "      <td>19</td>\n",
       "      <td>10</td>\n",
       "      <td>10</td>\n",
       "      <td>10</td>\n",
       "    </tr>\n",
       "    <tr>\n",
       "      <th>362</th>\n",
       "      <td>2026-02-11</td>\n",
       "      <td>False</td>\n",
       "      <td>19</td>\n",
       "      <td>19</td>\n",
       "      <td>10</td>\n",
       "      <td>10</td>\n",
       "      <td>10</td>\n",
       "    </tr>\n",
       "    <tr>\n",
       "      <th>363</th>\n",
       "      <td>2026-02-12</td>\n",
       "      <td>False</td>\n",
       "      <td>19</td>\n",
       "      <td>19</td>\n",
       "      <td>10</td>\n",
       "      <td>10</td>\n",
       "      <td>10</td>\n",
       "    </tr>\n",
       "    <tr>\n",
       "      <th>364</th>\n",
       "      <td>2026-02-13</td>\n",
       "      <td>False</td>\n",
       "      <td>19</td>\n",
       "      <td>19</td>\n",
       "      <td>10</td>\n",
       "      <td>10</td>\n",
       "      <td>10</td>\n",
       "    </tr>\n",
       "    <tr>\n",
       "      <th>365</th>\n",
       "      <td>2026-02-14</td>\n",
       "      <td>False</td>\n",
       "      <td>8</td>\n",
       "      <td>8</td>\n",
       "      <td>8</td>\n",
       "      <td>8</td>\n",
       "      <td>8</td>\n",
       "    </tr>\n",
       "  </tbody>\n",
       "</table>\n",
       "<p>366 rows × 7 columns</p>\n",
       "</div>"
      ],
      "text/plain": [
       "          date  is_summer  H70  CC70  H71  CC71  CC72\n",
       "0   2025-02-14      False   11    11    2     2     2\n",
       "1   2025-02-15      False   19    19   10    10    10\n",
       "2   2025-02-16      False   19    19   10    10    10\n",
       "3   2025-02-17      False   19    19   10    10    10\n",
       "4   2025-02-18      False   19    19   10    10    10\n",
       "..         ...        ...  ...   ...  ...   ...   ...\n",
       "361 2026-02-10      False   19    19   10    10    10\n",
       "362 2026-02-11      False   19    19   10    10    10\n",
       "363 2026-02-12      False   19    19   10    10    10\n",
       "364 2026-02-13      False   19    19   10    10    10\n",
       "365 2026-02-14      False    8     8    8     8     8\n",
       "\n",
       "[366 rows x 7 columns]"
      ]
     },
     "execution_count": 34,
     "metadata": {},
     "output_type": "execute_result"
    }
   ],
   "source": [
    "def update_availability(df, rota):\n",
    "    df = df.copy()\n",
    "\n",
    "    for _, row in rota.iterrows():\n",
    "        callsign = row['callsign']\n",
    "        summer_start, winter_start = row['summer_start'], row['winter_start']\n",
    "        summer_end, winter_end = row['summer_end'], row['winter_end']\n",
    "\n",
    "        for i in range(len(df)):\n",
    "            is_summer = df.at[i, 'is_summer']\n",
    "            start_time = summer_start if is_summer else winter_start\n",
    "            end_time = summer_end if is_summer else winter_end\n",
    "\n",
    "            # Handle end time past midnight\n",
    "            if end_time < start_time:\n",
    "                duration = (24 - start_time) + end_time\n",
    "                df.at[i, callsign] = duration\n",
    "\n",
    "                if i + 1 < len(df):  # Add extra hours to next day\n",
    "                    df.at[i + 1, callsign] = df.at[i + 1, callsign] + end_time\n",
    "            else:\n",
    "                df.at[i, callsign] = end_time - start_time\n",
    "\n",
    "    # Adjust for simulation start time\n",
    "    first_day = df.iloc[0]\n",
    "    for callsign in rota['callsign']:\n",
    "        if first_day[callsign] > 0:\n",
    "            first_day[callsign] = max(0, first_day[callsign] - warm_up_end.hour)\n",
    "    df.iloc[0] = first_day\n",
    "\n",
    "    # Adjust for simulation end time\n",
    "    last_day = df.iloc[-1]\n",
    "    for callsign in rota['callsign']:\n",
    "        if last_day[callsign] > 0:\n",
    "            last_day[callsign] = min(last_day[callsign], sim_end.hour)\n",
    "    df.iloc[-1] = last_day\n",
    "\n",
    "    return df\n",
    "\n",
    "update_availability(df, hems_rota)"
   ]
  },
  {
   "cell_type": "code",
   "execution_count": 35,
   "metadata": {},
   "outputs": [
    {
     "name": "stderr",
     "output_type": "stream",
     "text": [
      "C:\\Users\\Sammi\\AppData\\Local\\Temp\\ipykernel_29692\\87864462.py:28: SettingWithCopyWarning:\n",
      "\n",
      "\n",
      "A value is trying to be set on a copy of a slice from a DataFrame\n",
      "\n",
      "See the caveats in the documentation: https://pandas.pydata.org/pandas-docs/stable/user_guide/indexing.html#returning-a-view-versus-a-copy\n",
      "\n",
      "C:\\Users\\Sammi\\AppData\\Local\\Temp\\ipykernel_29692\\87864462.py:35: SettingWithCopyWarning:\n",
      "\n",
      "\n",
      "A value is trying to be set on a copy of a slice from a DataFrame\n",
      "\n",
      "See the caveats in the documentation: https://pandas.pydata.org/pandas-docs/stable/user_guide/indexing.html#returning-a-view-versus-a-copy\n",
      "\n"
     ]
    },
    {
     "data": {
      "text/html": [
       "<div>\n",
       "<style scoped>\n",
       "    .dataframe tbody tr th:only-of-type {\n",
       "        vertical-align: middle;\n",
       "    }\n",
       "\n",
       "    .dataframe tbody tr th {\n",
       "        vertical-align: top;\n",
       "    }\n",
       "\n",
       "    .dataframe thead th {\n",
       "        text-align: right;\n",
       "    }\n",
       "</style>\n",
       "<table border=\"1\" class=\"dataframe\">\n",
       "  <thead>\n",
       "    <tr style=\"text-align: right;\">\n",
       "      <th></th>\n",
       "      <th>date</th>\n",
       "      <th>is_summer</th>\n",
       "      <th>H70</th>\n",
       "      <th>CC70</th>\n",
       "      <th>H71</th>\n",
       "      <th>CC71</th>\n",
       "      <th>CC72</th>\n",
       "    </tr>\n",
       "  </thead>\n",
       "  <tbody>\n",
       "    <tr>\n",
       "      <th>0</th>\n",
       "      <td>2025-02-14</td>\n",
       "      <td>False</td>\n",
       "      <td>11</td>\n",
       "      <td>11</td>\n",
       "      <td>2</td>\n",
       "      <td>2</td>\n",
       "      <td>2</td>\n",
       "    </tr>\n",
       "    <tr>\n",
       "      <th>1</th>\n",
       "      <td>2025-02-15</td>\n",
       "      <td>False</td>\n",
       "      <td>19</td>\n",
       "      <td>19</td>\n",
       "      <td>10</td>\n",
       "      <td>10</td>\n",
       "      <td>10</td>\n",
       "    </tr>\n",
       "    <tr>\n",
       "      <th>2</th>\n",
       "      <td>2025-02-16</td>\n",
       "      <td>False</td>\n",
       "      <td>19</td>\n",
       "      <td>19</td>\n",
       "      <td>10</td>\n",
       "      <td>10</td>\n",
       "      <td>10</td>\n",
       "    </tr>\n",
       "    <tr>\n",
       "      <th>3</th>\n",
       "      <td>2025-02-17</td>\n",
       "      <td>False</td>\n",
       "      <td>19</td>\n",
       "      <td>19</td>\n",
       "      <td>10</td>\n",
       "      <td>10</td>\n",
       "      <td>10</td>\n",
       "    </tr>\n",
       "    <tr>\n",
       "      <th>4</th>\n",
       "      <td>2025-02-18</td>\n",
       "      <td>False</td>\n",
       "      <td>19</td>\n",
       "      <td>19</td>\n",
       "      <td>10</td>\n",
       "      <td>10</td>\n",
       "      <td>10</td>\n",
       "    </tr>\n",
       "    <tr>\n",
       "      <th>...</th>\n",
       "      <td>...</td>\n",
       "      <td>...</td>\n",
       "      <td>...</td>\n",
       "      <td>...</td>\n",
       "      <td>...</td>\n",
       "      <td>...</td>\n",
       "      <td>...</td>\n",
       "    </tr>\n",
       "    <tr>\n",
       "      <th>361</th>\n",
       "      <td>2026-02-10</td>\n",
       "      <td>False</td>\n",
       "      <td>19</td>\n",
       "      <td>19</td>\n",
       "      <td>10</td>\n",
       "      <td>10</td>\n",
       "      <td>10</td>\n",
       "    </tr>\n",
       "    <tr>\n",
       "      <th>362</th>\n",
       "      <td>2026-02-11</td>\n",
       "      <td>False</td>\n",
       "      <td>19</td>\n",
       "      <td>19</td>\n",
       "      <td>10</td>\n",
       "      <td>10</td>\n",
       "      <td>10</td>\n",
       "    </tr>\n",
       "    <tr>\n",
       "      <th>363</th>\n",
       "      <td>2026-02-12</td>\n",
       "      <td>False</td>\n",
       "      <td>19</td>\n",
       "      <td>19</td>\n",
       "      <td>10</td>\n",
       "      <td>10</td>\n",
       "      <td>10</td>\n",
       "    </tr>\n",
       "    <tr>\n",
       "      <th>364</th>\n",
       "      <td>2026-02-13</td>\n",
       "      <td>False</td>\n",
       "      <td>19</td>\n",
       "      <td>19</td>\n",
       "      <td>10</td>\n",
       "      <td>10</td>\n",
       "      <td>10</td>\n",
       "    </tr>\n",
       "    <tr>\n",
       "      <th>365</th>\n",
       "      <td>2026-02-14</td>\n",
       "      <td>False</td>\n",
       "      <td>8</td>\n",
       "      <td>8</td>\n",
       "      <td>8</td>\n",
       "      <td>8</td>\n",
       "      <td>8</td>\n",
       "    </tr>\n",
       "  </tbody>\n",
       "</table>\n",
       "<p>366 rows × 7 columns</p>\n",
       "</div>"
      ],
      "text/plain": [
       "          date  is_summer  H70  CC70  H71  CC71  CC72\n",
       "0   2025-02-14      False   11    11    2     2     2\n",
       "1   2025-02-15      False   19    19   10    10    10\n",
       "2   2025-02-16      False   19    19   10    10    10\n",
       "3   2025-02-17      False   19    19   10    10    10\n",
       "4   2025-02-18      False   19    19   10    10    10\n",
       "..         ...        ...  ...   ...  ...   ...   ...\n",
       "361 2026-02-10      False   19    19   10    10    10\n",
       "362 2026-02-11      False   19    19   10    10    10\n",
       "363 2026-02-12      False   19    19   10    10    10\n",
       "364 2026-02-13      False   19    19   10    10    10\n",
       "365 2026-02-14      False    8     8    8     8     8\n",
       "\n",
       "[366 rows x 7 columns]"
      ]
     },
     "execution_count": 35,
     "metadata": {},
     "output_type": "execute_result"
    }
   ],
   "source": [
    "df_avail = update_availability(df, hems_rota)\n",
    "df_avail"
   ]
  },
  {
   "cell_type": "code",
   "execution_count": 36,
   "metadata": {},
   "outputs": [],
   "source": [
    "avail_hours = df_avail.drop(columns=['is_summer']).sum(axis=0, numeric_only=True)"
   ]
  },
  {
   "cell_type": "markdown",
   "metadata": {},
   "source": [
    "## Headline figure calculation"
   ]
  },
  {
   "cell_type": "code",
   "execution_count": 37,
   "metadata": {},
   "outputs": [
    {
     "data": {
      "text/html": [
       "<div>\n",
       "<style scoped>\n",
       "    .dataframe tbody tr th:only-of-type {\n",
       "        vertical-align: middle;\n",
       "    }\n",
       "\n",
       "    .dataframe tbody tr th {\n",
       "        vertical-align: top;\n",
       "    }\n",
       "\n",
       "    .dataframe thead th {\n",
       "        text-align: right;\n",
       "    }\n",
       "</style>\n",
       "<table border=\"1\" class=\"dataframe\">\n",
       "  <thead>\n",
       "    <tr style=\"text-align: right;\">\n",
       "      <th></th>\n",
       "      <th>callsign</th>\n",
       "      <th>vehicle_type</th>\n",
       "      <th>resource_use_duration</th>\n",
       "      <th>total_available_minutes_in_sim</th>\n",
       "      <th>callsign_group</th>\n",
       "      <th>perc_time_in_use</th>\n",
       "      <th>PRINT_perc</th>\n",
       "    </tr>\n",
       "  </thead>\n",
       "  <tbody>\n",
       "    <tr>\n",
       "      <th>0</th>\n",
       "      <td>C70</td>\n",
       "      <td>car</td>\n",
       "      <td>62098.766667</td>\n",
       "      <td>416100</td>\n",
       "      <td>70</td>\n",
       "      <td>0.149240</td>\n",
       "      <td>14.9%</td>\n",
       "    </tr>\n",
       "    <tr>\n",
       "      <th>1</th>\n",
       "      <td>C71</td>\n",
       "      <td>car</td>\n",
       "      <td>25483.166667</td>\n",
       "      <td>219000</td>\n",
       "      <td>71</td>\n",
       "      <td>0.116361</td>\n",
       "      <td>11.6%</td>\n",
       "    </tr>\n",
       "    <tr>\n",
       "      <th>2</th>\n",
       "      <td>C72</td>\n",
       "      <td>car</td>\n",
       "      <td>29878.433333</td>\n",
       "      <td>219000</td>\n",
       "      <td>72</td>\n",
       "      <td>0.136431</td>\n",
       "      <td>13.6%</td>\n",
       "    </tr>\n",
       "    <tr>\n",
       "      <th>3</th>\n",
       "      <td>H70</td>\n",
       "      <td>helicopter</td>\n",
       "      <td>37577.533333</td>\n",
       "      <td>416100</td>\n",
       "      <td>70</td>\n",
       "      <td>0.090309</td>\n",
       "      <td>9.0%</td>\n",
       "    </tr>\n",
       "    <tr>\n",
       "      <th>4</th>\n",
       "      <td>H71</td>\n",
       "      <td>helicopter</td>\n",
       "      <td>11733.533333</td>\n",
       "      <td>240960</td>\n",
       "      <td>71</td>\n",
       "      <td>0.048695</td>\n",
       "      <td>4.9%</td>\n",
       "    </tr>\n",
       "  </tbody>\n",
       "</table>\n",
       "</div>"
      ],
      "text/plain": [
       "  callsign vehicle_type  resource_use_duration  \\\n",
       "0      C70          car           62098.766667   \n",
       "1      C71          car           25483.166667   \n",
       "2      C72          car           29878.433333   \n",
       "3      H70   helicopter           37577.533333   \n",
       "4      H71   helicopter           11733.533333   \n",
       "\n",
       "   total_available_minutes_in_sim callsign_group  perc_time_in_use PRINT_perc  \n",
       "0                          416100             70          0.149240      14.9%  \n",
       "1                          219000             71          0.116361      11.6%  \n",
       "2                          219000             72          0.136431      13.6%  \n",
       "3                          416100             70          0.090309       9.0%  \n",
       "4                          240960             71          0.048695       4.9%  "
      ]
     },
     "execution_count": 37,
     "metadata": {},
     "output_type": "execute_result"
    }
   ],
   "source": [
    "utilisation_df_overall"
   ]
  },
  {
   "cell_type": "code",
   "execution_count": 38,
   "metadata": {},
   "outputs": [
    {
     "data": {
      "text/plain": [
       "0.0695019212782771"
      ]
     },
     "execution_count": 38,
     "metadata": {},
     "output_type": "execute_result"
    }
   ],
   "source": [
    "vehicle_type = \"helicopter\"\n",
    "utilisation_df_overall[utilisation_df_overall[\"vehicle_type\"] == vehicle_type].mean(numeric_only=True)['perc_time_in_use']"
   ]
  },
  {
   "cell_type": "code",
   "execution_count": 39,
   "metadata": {},
   "outputs": [
    {
     "data": {
      "text/html": [
       "<div>\n",
       "<style scoped>\n",
       "    .dataframe tbody tr th:only-of-type {\n",
       "        vertical-align: middle;\n",
       "    }\n",
       "\n",
       "    .dataframe tbody tr th {\n",
       "        vertical-align: top;\n",
       "    }\n",
       "\n",
       "    .dataframe thead th {\n",
       "        text-align: right;\n",
       "    }\n",
       "</style>\n",
       "<table border=\"1\" class=\"dataframe\">\n",
       "  <thead>\n",
       "    <tr style=\"text-align: right;\">\n",
       "      <th></th>\n",
       "      <th>callsign</th>\n",
       "    </tr>\n",
       "    <tr>\n",
       "      <th>callsign_group</th>\n",
       "      <th></th>\n",
       "    </tr>\n",
       "  </thead>\n",
       "  <tbody>\n",
       "    <tr>\n",
       "      <th>70</th>\n",
       "      <td>2</td>\n",
       "    </tr>\n",
       "    <tr>\n",
       "      <th>71</th>\n",
       "      <td>2</td>\n",
       "    </tr>\n",
       "    <tr>\n",
       "      <th>72</th>\n",
       "      <td>1</td>\n",
       "    </tr>\n",
       "  </tbody>\n",
       "</table>\n",
       "</div>"
      ],
      "text/plain": [
       "                callsign\n",
       "callsign_group          \n",
       "70                     2\n",
       "71                     2\n",
       "72                     1"
      ]
     },
     "execution_count": 39,
     "metadata": {},
     "output_type": "execute_result"
    }
   ],
   "source": [
    "utilisation_df_overall.groupby('callsign_group').count()[['callsign']]"
   ]
  },
  {
   "cell_type": "code",
   "execution_count": 40,
   "metadata": {},
   "outputs": [
    {
     "data": {
      "text/html": [
       "<div>\n",
       "<style scoped>\n",
       "    .dataframe tbody tr th:only-of-type {\n",
       "        vertical-align: middle;\n",
       "    }\n",
       "\n",
       "    .dataframe tbody tr th {\n",
       "        vertical-align: top;\n",
       "    }\n",
       "\n",
       "    .dataframe thead th {\n",
       "        text-align: right;\n",
       "    }\n",
       "</style>\n",
       "<table border=\"1\" class=\"dataframe\">\n",
       "  <thead>\n",
       "    <tr style=\"text-align: right;\">\n",
       "      <th></th>\n",
       "      <th>callsign</th>\n",
       "    </tr>\n",
       "    <tr>\n",
       "      <th>callsign_group</th>\n",
       "      <th></th>\n",
       "    </tr>\n",
       "  </thead>\n",
       "  <tbody>\n",
       "    <tr>\n",
       "      <th>72</th>\n",
       "      <td>1</td>\n",
       "    </tr>\n",
       "  </tbody>\n",
       "</table>\n",
       "</div>"
      ],
      "text/plain": [
       "                callsign\n",
       "callsign_group          \n",
       "72                     1"
      ]
     },
     "execution_count": 40,
     "metadata": {},
     "output_type": "execute_result"
    }
   ],
   "source": [
    "vehicles_per_callsign_group = utilisation_df_overall.groupby('callsign_group').count()[['callsign']]\n",
    "\n",
    "\n",
    "car_only = vehicles_per_callsign_group[vehicles_per_callsign_group['callsign'] == 1]\n",
    "car_only\n"
   ]
  },
  {
   "cell_type": "code",
   "execution_count": 41,
   "metadata": {},
   "outputs": [
    {
     "data": {
      "text/plain": [
       "0.13643120243531204"
      ]
     },
     "execution_count": 41,
     "metadata": {},
     "output_type": "execute_result"
    }
   ],
   "source": [
    "utilisation_df_overall[utilisation_df_overall[\"callsign_group\"].isin(car_only.reset_index().callsign_group.values)].mean(numeric_only=True)['perc_time_in_use']\n"
   ]
  },
  {
   "cell_type": "code",
   "execution_count": 42,
   "metadata": {},
   "outputs": [],
   "source": [
    "# backupcar_only = vehicles_per_callsign_group[vehicles_per_callsign_group['callsign'] == 2]\n",
    "# utilisation_df_overall = utilisation_df_overall[utilisation_df_overall[\"vehicle_type\"] == \"car\"]\n",
    "# utilisation_df_overall[utilisation_df_overall[\"callsign_group\"].isin(backupcar_only.reset_index().callsign_group.values)].mean(numeric_only=True)['perc_time_in_use']"
   ]
  },
  {
   "cell_type": "code",
   "execution_count": 43,
   "metadata": {},
   "outputs": [
    {
     "data": {
      "text/plain": [
       "0.0695019212782771"
      ]
     },
     "execution_count": 43,
     "metadata": {},
     "output_type": "execute_result"
    }
   ],
   "source": [
    "_utilisation_result_calculation.make_SIMULATION_utilisation_headline_figure(\"helicopter\", utilisation_df_overall)"
   ]
  },
  {
   "cell_type": "code",
   "execution_count": 44,
   "metadata": {},
   "outputs": [
    {
     "data": {
      "text/plain": [
       "0.1328007490186654"
      ]
     },
     "execution_count": 44,
     "metadata": {},
     "output_type": "execute_result"
    }
   ],
   "source": [
    "_utilisation_result_calculation.make_SIMULATION_utilisation_headline_figure(\"helicopter backup car\", utilisation_df_overall)"
   ]
  },
  {
   "cell_type": "code",
   "execution_count": 45,
   "metadata": {},
   "outputs": [
    {
     "data": {
      "text/plain": [
       "0.13643120243531204"
      ]
     },
     "execution_count": 45,
     "metadata": {},
     "output_type": "execute_result"
    }
   ],
   "source": [
    "_utilisation_result_calculation.make_SIMULATION_utilisation_headline_figure(\"solo car\", utilisation_df_overall)"
   ]
  },
  {
   "cell_type": "code",
   "execution_count": null,
   "metadata": {},
   "outputs": [],
   "source": []
  }
 ],
 "metadata": {
  "kernelspec": {
   "display_name": ".venv",
   "language": "python",
   "name": "python3"
  },
  "language_info": {
   "codemirror_mode": {
    "name": "ipython",
    "version": 3
   },
   "file_extension": ".py",
   "mimetype": "text/x-python",
   "name": "python",
   "nbconvert_exporter": "python",
   "pygments_lexer": "ipython3",
   "version": "3.11.9"
  }
 },
 "nbformat": 4,
 "nbformat_minor": 2
}
