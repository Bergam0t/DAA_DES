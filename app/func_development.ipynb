{
 "cells": [
  {
   "cell_type": "markdown",
   "metadata": {},
   "source": [
    "## Development of resource use functions"
   ]
  },
  {
   "cell_type": "code",
   "execution_count": 47,
   "metadata": {},
   "outputs": [
    {
     "data": {
      "text/html": [
       "<div>\n",
       "<style scoped>\n",
       "    .dataframe tbody tr th:only-of-type {\n",
       "        vertical-align: middle;\n",
       "    }\n",
       "\n",
       "    .dataframe tbody tr th {\n",
       "        vertical-align: top;\n",
       "    }\n",
       "\n",
       "    .dataframe thead th {\n",
       "        text-align: right;\n",
       "    }\n",
       "</style>\n",
       "<table border=\"1\" class=\"dataframe\">\n",
       "  <thead>\n",
       "    <tr style=\"text-align: right;\">\n",
       "      <th></th>\n",
       "      <th>P_ID</th>\n",
       "      <th>run_number</th>\n",
       "      <th>time_type</th>\n",
       "      <th>event_type</th>\n",
       "      <th>timestamp</th>\n",
       "      <th>timestamp_dt</th>\n",
       "      <th>day</th>\n",
       "      <th>hour</th>\n",
       "      <th>weekday</th>\n",
       "      <th>month</th>\n",
       "      <th>qtr</th>\n",
       "      <th>callsign_group</th>\n",
       "      <th>vehicle_type</th>\n",
       "      <th>ampds_card</th>\n",
       "      <th>age</th>\n",
       "      <th>sex</th>\n",
       "      <th>hems_result</th>\n",
       "      <th>outcome</th>\n",
       "      <th>callsign</th>\n",
       "    </tr>\n",
       "  </thead>\n",
       "  <tbody>\n",
       "    <tr>\n",
       "      <th>0</th>\n",
       "      <td>1</td>\n",
       "      <td>1</td>\n",
       "      <td>70</td>\n",
       "      <td>resource_preferred_resource_group</td>\n",
       "      <td>0.0</td>\n",
       "      <td>2025-02-14 08:00:00</td>\n",
       "      <td>Fri</td>\n",
       "      <td>8</td>\n",
       "      <td>weekday</td>\n",
       "      <td>2</td>\n",
       "      <td>1</td>\n",
       "      <td>NaN</td>\n",
       "      <td>NaN</td>\n",
       "      <td>12</td>\n",
       "      <td>60.0</td>\n",
       "      <td>Female</td>\n",
       "      <td>NaN</td>\n",
       "      <td>NaN</td>\n",
       "      <td>NaN</td>\n",
       "    </tr>\n",
       "    <tr>\n",
       "      <th>1</th>\n",
       "      <td>1</td>\n",
       "      <td>1</td>\n",
       "      <td>helicopter</td>\n",
       "      <td>resource_preferred_vehicle_type</td>\n",
       "      <td>0.0</td>\n",
       "      <td>2025-02-14 08:00:00</td>\n",
       "      <td>Fri</td>\n",
       "      <td>8</td>\n",
       "      <td>weekday</td>\n",
       "      <td>2</td>\n",
       "      <td>1</td>\n",
       "      <td>NaN</td>\n",
       "      <td>NaN</td>\n",
       "      <td>12</td>\n",
       "      <td>60.0</td>\n",
       "      <td>Female</td>\n",
       "      <td>NaN</td>\n",
       "      <td>NaN</td>\n",
       "      <td>NaN</td>\n",
       "    </tr>\n",
       "    <tr>\n",
       "      <th>2</th>\n",
       "      <td>1</td>\n",
       "      <td>1</td>\n",
       "      <td>Preferred resource not and available but other...</td>\n",
       "      <td>resource_preferred_outcome</td>\n",
       "      <td>0.0</td>\n",
       "      <td>2025-02-14 08:00:00</td>\n",
       "      <td>Fri</td>\n",
       "      <td>8</td>\n",
       "      <td>weekday</td>\n",
       "      <td>2</td>\n",
       "      <td>1</td>\n",
       "      <td>70.0</td>\n",
       "      <td>car</td>\n",
       "      <td>12</td>\n",
       "      <td>60.0</td>\n",
       "      <td>Female</td>\n",
       "      <td>NaN</td>\n",
       "      <td>NaN</td>\n",
       "      <td>C70</td>\n",
       "    </tr>\n",
       "    <tr>\n",
       "      <th>3</th>\n",
       "      <td>1</td>\n",
       "      <td>1</td>\n",
       "      <td>CC70</td>\n",
       "      <td>resource_use</td>\n",
       "      <td>0.0</td>\n",
       "      <td>2025-02-14 08:00:00</td>\n",
       "      <td>Fri</td>\n",
       "      <td>8</td>\n",
       "      <td>weekday</td>\n",
       "      <td>2</td>\n",
       "      <td>1</td>\n",
       "      <td>70.0</td>\n",
       "      <td>car</td>\n",
       "      <td>12</td>\n",
       "      <td>60.0</td>\n",
       "      <td>Female</td>\n",
       "      <td>NaN</td>\n",
       "      <td>NaN</td>\n",
       "      <td>C70</td>\n",
       "    </tr>\n",
       "    <tr>\n",
       "      <th>4</th>\n",
       "      <td>1</td>\n",
       "      <td>1</td>\n",
       "      <td>arrival</td>\n",
       "      <td>arrival_departure</td>\n",
       "      <td>0.0</td>\n",
       "      <td>2025-02-14 08:00:00</td>\n",
       "      <td>Fri</td>\n",
       "      <td>8</td>\n",
       "      <td>weekday</td>\n",
       "      <td>2</td>\n",
       "      <td>1</td>\n",
       "      <td>70.0</td>\n",
       "      <td>car</td>\n",
       "      <td>12</td>\n",
       "      <td>60.0</td>\n",
       "      <td>Female</td>\n",
       "      <td>NaN</td>\n",
       "      <td>NaN</td>\n",
       "      <td>C70</td>\n",
       "    </tr>\n",
       "  </tbody>\n",
       "</table>\n",
       "</div>"
      ],
      "text/plain": [
       "   P_ID  run_number                                          time_type  \\\n",
       "0     1           1                                                 70   \n",
       "1     1           1                                         helicopter   \n",
       "2     1           1  Preferred resource not and available but other...   \n",
       "3     1           1                                               CC70   \n",
       "4     1           1                                            arrival   \n",
       "\n",
       "                          event_type  timestamp         timestamp_dt  day  \\\n",
       "0  resource_preferred_resource_group        0.0  2025-02-14 08:00:00  Fri   \n",
       "1    resource_preferred_vehicle_type        0.0  2025-02-14 08:00:00  Fri   \n",
       "2         resource_preferred_outcome        0.0  2025-02-14 08:00:00  Fri   \n",
       "3                       resource_use        0.0  2025-02-14 08:00:00  Fri   \n",
       "4                  arrival_departure        0.0  2025-02-14 08:00:00  Fri   \n",
       "\n",
       "   hour  weekday  month  qtr  callsign_group vehicle_type  ampds_card   age  \\\n",
       "0     8  weekday      2    1             NaN          NaN          12  60.0   \n",
       "1     8  weekday      2    1             NaN          NaN          12  60.0   \n",
       "2     8  weekday      2    1            70.0          car          12  60.0   \n",
       "3     8  weekday      2    1            70.0          car          12  60.0   \n",
       "4     8  weekday      2    1            70.0          car          12  60.0   \n",
       "\n",
       "      sex hems_result outcome callsign  \n",
       "0  Female         NaN     NaN      NaN  \n",
       "1  Female         NaN     NaN      NaN  \n",
       "2  Female         NaN     NaN      C70  \n",
       "3  Female         NaN     NaN      C70  \n",
       "4  Female         NaN     NaN      C70  "
      ]
     },
     "execution_count": 47,
     "metadata": {},
     "output_type": "execute_result"
    }
   ],
   "source": [
    "import pandas as pd\n",
    "import _utilisation_result_calculation\n",
    "import _processing_functions\n",
    "\n",
    "run_results = pd.read_csv(\"../data/run_results.csv\")\n",
    "run_results = _processing_functions.make_callsign_column(run_results)\n",
    "\n",
    "run_results.head()\n"
   ]
  },
  {
   "cell_type": "code",
   "execution_count": 48,
   "metadata": {},
   "outputs": [
    {
     "data": {
      "text/html": [
       "<div>\n",
       "<style scoped>\n",
       "    .dataframe tbody tr th:only-of-type {\n",
       "        vertical-align: middle;\n",
       "    }\n",
       "\n",
       "    .dataframe tbody tr th {\n",
       "        vertical-align: top;\n",
       "    }\n",
       "\n",
       "    .dataframe thead th {\n",
       "        text-align: right;\n",
       "    }\n",
       "</style>\n",
       "<table border=\"1\" class=\"dataframe\">\n",
       "  <thead>\n",
       "    <tr style=\"text-align: right;\">\n",
       "      <th></th>\n",
       "      <th>parameter</th>\n",
       "      <th>value</th>\n",
       "    </tr>\n",
       "  </thead>\n",
       "  <tbody>\n",
       "    <tr>\n",
       "      <th>0</th>\n",
       "      <td>sim_duration</td>\n",
       "      <td>525600.0</td>\n",
       "    </tr>\n",
       "    <tr>\n",
       "      <th>1</th>\n",
       "      <td>warm_up_duration</td>\n",
       "      <td>0.0</td>\n",
       "    </tr>\n",
       "    <tr>\n",
       "      <th>2</th>\n",
       "      <td>sim_start_date</td>\n",
       "      <td>2025-02-14 08:00:00</td>\n",
       "    </tr>\n",
       "    <tr>\n",
       "      <th>3</th>\n",
       "      <td>sim_end_date</td>\n",
       "      <td>2026-02-14 08:00:00</td>\n",
       "    </tr>\n",
       "    <tr>\n",
       "      <th>4</th>\n",
       "      <td>warm_up_end_date</td>\n",
       "      <td>2025-02-14 08:00:00</td>\n",
       "    </tr>\n",
       "    <tr>\n",
       "      <th>5</th>\n",
       "      <td>amb_data</td>\n",
       "      <td>False</td>\n",
       "    </tr>\n",
       "    <tr>\n",
       "      <th>6</th>\n",
       "      <td>model_exec_time</td>\n",
       "      <td>2025-02-14 08:42:29.863301</td>\n",
       "    </tr>\n",
       "    <tr>\n",
       "      <th>7</th>\n",
       "      <td>summer_start_date</td>\n",
       "      <td>2025-04-01</td>\n",
       "    </tr>\n",
       "    <tr>\n",
       "      <th>8</th>\n",
       "      <td>winter_start_date</td>\n",
       "      <td>2025-10-01</td>\n",
       "    </tr>\n",
       "  </tbody>\n",
       "</table>\n",
       "</div>"
      ],
      "text/plain": [
       "           parameter                       value\n",
       "0       sim_duration                    525600.0\n",
       "1   warm_up_duration                         0.0\n",
       "2     sim_start_date         2025-02-14 08:00:00\n",
       "3       sim_end_date         2026-02-14 08:00:00\n",
       "4   warm_up_end_date         2025-02-14 08:00:00\n",
       "5           amb_data                       False\n",
       "6    model_exec_time  2025-02-14 08:42:29.863301\n",
       "7  summer_start_date                  2025-04-01\n",
       "8  winter_start_date                  2025-10-01"
      ]
     },
     "execution_count": 48,
     "metadata": {},
     "output_type": "execute_result"
    }
   ],
   "source": [
    "params = pd.read_csv(\"../data/run_params_used.csv\")\n",
    "params"
   ]
  },
  {
   "cell_type": "code",
   "execution_count": 49,
   "metadata": {},
   "outputs": [
    {
     "data": {
      "text/plain": [
       "'525600.0'"
      ]
     },
     "execution_count": 49,
     "metadata": {},
     "output_type": "execute_result"
    }
   ],
   "source": [
    "params[params[\"parameter\"] == \"sim_duration\"]['value'].values[0]"
   ]
  },
  {
   "cell_type": "code",
   "execution_count": 50,
   "metadata": {},
   "outputs": [
    {
     "data": {
      "text/html": [
       "<div>\n",
       "<style scoped>\n",
       "    .dataframe tbody tr th:only-of-type {\n",
       "        vertical-align: middle;\n",
       "    }\n",
       "\n",
       "    .dataframe tbody tr th {\n",
       "        vertical-align: top;\n",
       "    }\n",
       "\n",
       "    .dataframe thead th {\n",
       "        text-align: right;\n",
       "    }\n",
       "</style>\n",
       "<table border=\"1\" class=\"dataframe\">\n",
       "  <thead>\n",
       "    <tr style=\"text-align: right;\">\n",
       "      <th></th>\n",
       "      <th>P_ID</th>\n",
       "      <th>run_number</th>\n",
       "      <th>time_type</th>\n",
       "      <th>event_type</th>\n",
       "      <th>timestamp</th>\n",
       "      <th>timestamp_dt</th>\n",
       "      <th>day</th>\n",
       "      <th>hour</th>\n",
       "      <th>weekday</th>\n",
       "      <th>month</th>\n",
       "      <th>qtr</th>\n",
       "      <th>callsign_group</th>\n",
       "      <th>vehicle_type</th>\n",
       "      <th>ampds_card</th>\n",
       "      <th>age</th>\n",
       "      <th>sex</th>\n",
       "      <th>hems_result</th>\n",
       "      <th>outcome</th>\n",
       "      <th>callsign</th>\n",
       "    </tr>\n",
       "  </thead>\n",
       "  <tbody>\n",
       "    <tr>\n",
       "      <th>3</th>\n",
       "      <td>1</td>\n",
       "      <td>1</td>\n",
       "      <td>CC70</td>\n",
       "      <td>resource_use</td>\n",
       "      <td>0.0</td>\n",
       "      <td>2025-02-14 08:00:00</td>\n",
       "      <td>Fri</td>\n",
       "      <td>8</td>\n",
       "      <td>weekday</td>\n",
       "      <td>2</td>\n",
       "      <td>1</td>\n",
       "      <td>70.0</td>\n",
       "      <td>car</td>\n",
       "      <td>12</td>\n",
       "      <td>60.0</td>\n",
       "      <td>Female</td>\n",
       "      <td>NaN</td>\n",
       "      <td>NaN</td>\n",
       "      <td>C70</td>\n",
       "    </tr>\n",
       "    <tr>\n",
       "      <th>8</th>\n",
       "      <td>2</td>\n",
       "      <td>1</td>\n",
       "      <td>CC71</td>\n",
       "      <td>resource_use</td>\n",
       "      <td>60.0</td>\n",
       "      <td>2025-02-14 09:00:00</td>\n",
       "      <td>Fri</td>\n",
       "      <td>9</td>\n",
       "      <td>weekday</td>\n",
       "      <td>2</td>\n",
       "      <td>1</td>\n",
       "      <td>71.0</td>\n",
       "      <td>car</td>\n",
       "      <td>10</td>\n",
       "      <td>63.0</td>\n",
       "      <td>Male</td>\n",
       "      <td>NaN</td>\n",
       "      <td>NaN</td>\n",
       "      <td>C71</td>\n",
       "    </tr>\n",
       "    <tr>\n",
       "      <th>12</th>\n",
       "      <td>1</td>\n",
       "      <td>1</td>\n",
       "      <td>CC70</td>\n",
       "      <td>resource_use_end</td>\n",
       "      <td>65.0</td>\n",
       "      <td>2025-02-14 09:05:00</td>\n",
       "      <td>Fri</td>\n",
       "      <td>8</td>\n",
       "      <td>weekday</td>\n",
       "      <td>2</td>\n",
       "      <td>1</td>\n",
       "      <td>70.0</td>\n",
       "      <td>car</td>\n",
       "      <td>12</td>\n",
       "      <td>60.0</td>\n",
       "      <td>Female</td>\n",
       "      <td>Patient Treated (not conveyed)</td>\n",
       "      <td>Conveyed by land without DAA</td>\n",
       "      <td>C70</td>\n",
       "    </tr>\n",
       "    <tr>\n",
       "      <th>20</th>\n",
       "      <td>3</td>\n",
       "      <td>1</td>\n",
       "      <td>H71</td>\n",
       "      <td>resource_use</td>\n",
       "      <td>120.0</td>\n",
       "      <td>2025-02-14 10:00:00</td>\n",
       "      <td>Fri</td>\n",
       "      <td>10</td>\n",
       "      <td>weekday</td>\n",
       "      <td>2</td>\n",
       "      <td>1</td>\n",
       "      <td>71.0</td>\n",
       "      <td>helicopter</td>\n",
       "      <td>27</td>\n",
       "      <td>24.0</td>\n",
       "      <td>Female</td>\n",
       "      <td>NaN</td>\n",
       "      <td>NaN</td>\n",
       "      <td>H71</td>\n",
       "    </tr>\n",
       "    <tr>\n",
       "      <th>25</th>\n",
       "      <td>2</td>\n",
       "      <td>1</td>\n",
       "      <td>CC71</td>\n",
       "      <td>resource_use_end</td>\n",
       "      <td>148.0</td>\n",
       "      <td>2025-02-14 10:28:00</td>\n",
       "      <td>Fri</td>\n",
       "      <td>9</td>\n",
       "      <td>weekday</td>\n",
       "      <td>2</td>\n",
       "      <td>1</td>\n",
       "      <td>71.0</td>\n",
       "      <td>car</td>\n",
       "      <td>10</td>\n",
       "      <td>63.0</td>\n",
       "      <td>Male</td>\n",
       "      <td>Patient Conveyed</td>\n",
       "      <td>Conveyed by land with DAA</td>\n",
       "      <td>C71</td>\n",
       "    </tr>\n",
       "    <tr>\n",
       "      <th>...</th>\n",
       "      <td>...</td>\n",
       "      <td>...</td>\n",
       "      <td>...</td>\n",
       "      <td>...</td>\n",
       "      <td>...</td>\n",
       "      <td>...</td>\n",
       "      <td>...</td>\n",
       "      <td>...</td>\n",
       "      <td>...</td>\n",
       "      <td>...</td>\n",
       "      <td>...</td>\n",
       "      <td>...</td>\n",
       "      <td>...</td>\n",
       "      <td>...</td>\n",
       "      <td>...</td>\n",
       "      <td>...</td>\n",
       "      <td>...</td>\n",
       "      <td>...</td>\n",
       "      <td>...</td>\n",
       "    </tr>\n",
       "    <tr>\n",
       "      <th>101794</th>\n",
       "      <td>1627</td>\n",
       "      <td>5</td>\n",
       "      <td>CC72</td>\n",
       "      <td>resource_use_end</td>\n",
       "      <td>524668.0</td>\n",
       "      <td>2026-02-13 16:28:00</td>\n",
       "      <td>Fri</td>\n",
       "      <td>15</td>\n",
       "      <td>weekday</td>\n",
       "      <td>2</td>\n",
       "      <td>1</td>\n",
       "      <td>72.0</td>\n",
       "      <td>car</td>\n",
       "      <td>29</td>\n",
       "      <td>60.0</td>\n",
       "      <td>Male</td>\n",
       "      <td>Patient Treated (not conveyed)</td>\n",
       "      <td>Conveyed by land without DAA</td>\n",
       "      <td>C72</td>\n",
       "    </tr>\n",
       "    <tr>\n",
       "      <th>101800</th>\n",
       "      <td>1628</td>\n",
       "      <td>5</td>\n",
       "      <td>H70</td>\n",
       "      <td>resource_use</td>\n",
       "      <td>524760.0</td>\n",
       "      <td>2026-02-13 18:00:00</td>\n",
       "      <td>Fri</td>\n",
       "      <td>18</td>\n",
       "      <td>weekday</td>\n",
       "      <td>2</td>\n",
       "      <td>1</td>\n",
       "      <td>70.0</td>\n",
       "      <td>helicopter</td>\n",
       "      <td>29</td>\n",
       "      <td>12.0</td>\n",
       "      <td>Male</td>\n",
       "      <td>NaN</td>\n",
       "      <td>NaN</td>\n",
       "      <td>H70</td>\n",
       "    </tr>\n",
       "    <tr>\n",
       "      <th>101806</th>\n",
       "      <td>1628</td>\n",
       "      <td>5</td>\n",
       "      <td>H70</td>\n",
       "      <td>resource_use_end</td>\n",
       "      <td>524786.0</td>\n",
       "      <td>2026-02-13 18:26:00</td>\n",
       "      <td>Fri</td>\n",
       "      <td>18</td>\n",
       "      <td>weekday</td>\n",
       "      <td>2</td>\n",
       "      <td>1</td>\n",
       "      <td>70.0</td>\n",
       "      <td>helicopter</td>\n",
       "      <td>29</td>\n",
       "      <td>12.0</td>\n",
       "      <td>Male</td>\n",
       "      <td>Stand Down En Route</td>\n",
       "      <td>Unknown</td>\n",
       "      <td>H70</td>\n",
       "    </tr>\n",
       "    <tr>\n",
       "      <th>101812</th>\n",
       "      <td>1629</td>\n",
       "      <td>5</td>\n",
       "      <td>H70</td>\n",
       "      <td>resource_use</td>\n",
       "      <td>525060.0</td>\n",
       "      <td>2026-02-13 23:00:00</td>\n",
       "      <td>Fri</td>\n",
       "      <td>23</td>\n",
       "      <td>weekday</td>\n",
       "      <td>2</td>\n",
       "      <td>1</td>\n",
       "      <td>70.0</td>\n",
       "      <td>helicopter</td>\n",
       "      <td>23</td>\n",
       "      <td>67.0</td>\n",
       "      <td>Female</td>\n",
       "      <td>NaN</td>\n",
       "      <td>NaN</td>\n",
       "      <td>H70</td>\n",
       "    </tr>\n",
       "    <tr>\n",
       "      <th>101820</th>\n",
       "      <td>1629</td>\n",
       "      <td>5</td>\n",
       "      <td>H70</td>\n",
       "      <td>resource_use_end</td>\n",
       "      <td>525164.0</td>\n",
       "      <td>2026-02-14 00:44:00</td>\n",
       "      <td>Fri</td>\n",
       "      <td>23</td>\n",
       "      <td>weekday</td>\n",
       "      <td>2</td>\n",
       "      <td>1</td>\n",
       "      <td>70.0</td>\n",
       "      <td>helicopter</td>\n",
       "      <td>23</td>\n",
       "      <td>67.0</td>\n",
       "      <td>Female</td>\n",
       "      <td>Patient Conveyed</td>\n",
       "      <td>Airlifted</td>\n",
       "      <td>H70</td>\n",
       "    </tr>\n",
       "  </tbody>\n",
       "</table>\n",
       "<p>14647 rows × 19 columns</p>\n",
       "</div>"
      ],
      "text/plain": [
       "        P_ID  run_number time_type        event_type  timestamp  \\\n",
       "3          1           1      CC70      resource_use        0.0   \n",
       "8          2           1      CC71      resource_use       60.0   \n",
       "12         1           1      CC70  resource_use_end       65.0   \n",
       "20         3           1       H71      resource_use      120.0   \n",
       "25         2           1      CC71  resource_use_end      148.0   \n",
       "...      ...         ...       ...               ...        ...   \n",
       "101794  1627           5      CC72  resource_use_end   524668.0   \n",
       "101800  1628           5       H70      resource_use   524760.0   \n",
       "101806  1628           5       H70  resource_use_end   524786.0   \n",
       "101812  1629           5       H70      resource_use   525060.0   \n",
       "101820  1629           5       H70  resource_use_end   525164.0   \n",
       "\n",
       "               timestamp_dt  day  hour  weekday  month  qtr  callsign_group  \\\n",
       "3       2025-02-14 08:00:00  Fri     8  weekday      2    1            70.0   \n",
       "8       2025-02-14 09:00:00  Fri     9  weekday      2    1            71.0   \n",
       "12      2025-02-14 09:05:00  Fri     8  weekday      2    1            70.0   \n",
       "20      2025-02-14 10:00:00  Fri    10  weekday      2    1            71.0   \n",
       "25      2025-02-14 10:28:00  Fri     9  weekday      2    1            71.0   \n",
       "...                     ...  ...   ...      ...    ...  ...             ...   \n",
       "101794  2026-02-13 16:28:00  Fri    15  weekday      2    1            72.0   \n",
       "101800  2026-02-13 18:00:00  Fri    18  weekday      2    1            70.0   \n",
       "101806  2026-02-13 18:26:00  Fri    18  weekday      2    1            70.0   \n",
       "101812  2026-02-13 23:00:00  Fri    23  weekday      2    1            70.0   \n",
       "101820  2026-02-14 00:44:00  Fri    23  weekday      2    1            70.0   \n",
       "\n",
       "       vehicle_type  ampds_card   age     sex                     hems_result  \\\n",
       "3               car          12  60.0  Female                             NaN   \n",
       "8               car          10  63.0    Male                             NaN   \n",
       "12              car          12  60.0  Female  Patient Treated (not conveyed)   \n",
       "20       helicopter          27  24.0  Female                             NaN   \n",
       "25              car          10  63.0    Male                Patient Conveyed   \n",
       "...             ...         ...   ...     ...                             ...   \n",
       "101794          car          29  60.0    Male  Patient Treated (not conveyed)   \n",
       "101800   helicopter          29  12.0    Male                             NaN   \n",
       "101806   helicopter          29  12.0    Male             Stand Down En Route   \n",
       "101812   helicopter          23  67.0  Female                             NaN   \n",
       "101820   helicopter          23  67.0  Female                Patient Conveyed   \n",
       "\n",
       "                             outcome callsign  \n",
       "3                                NaN      C70  \n",
       "8                                NaN      C71  \n",
       "12      Conveyed by land without DAA      C70  \n",
       "20                               NaN      H71  \n",
       "25         Conveyed by land with DAA      C71  \n",
       "...                              ...      ...  \n",
       "101794  Conveyed by land without DAA      C72  \n",
       "101800                           NaN      H70  \n",
       "101806                       Unknown      H70  \n",
       "101812                           NaN      H70  \n",
       "101820                     Airlifted      H70  \n",
       "\n",
       "[14647 rows x 19 columns]"
      ]
     },
     "execution_count": 50,
     "metadata": {},
     "output_type": "execute_result"
    }
   ],
   "source": [
    "resource_use_only = run_results[run_results[\"event_type\"].isin([\"resource_use\", \"resource_use_end\"])]\n",
    "resource_use_only"
   ]
  },
  {
   "cell_type": "code",
   "execution_count": 51,
   "metadata": {},
   "outputs": [
    {
     "data": {
      "text/html": [
       "<div>\n",
       "<style scoped>\n",
       "    .dataframe tbody tr th:only-of-type {\n",
       "        vertical-align: middle;\n",
       "    }\n",
       "\n",
       "    .dataframe tbody tr th {\n",
       "        vertical-align: top;\n",
       "    }\n",
       "\n",
       "    .dataframe thead th {\n",
       "        text-align: right;\n",
       "    }\n",
       "</style>\n",
       "<table border=\"1\" class=\"dataframe\">\n",
       "  <thead>\n",
       "    <tr style=\"text-align: right;\">\n",
       "      <th>event_type</th>\n",
       "      <th>P_ID</th>\n",
       "      <th>run_number</th>\n",
       "      <th>callsign_group</th>\n",
       "      <th>vehicle_type</th>\n",
       "      <th>callsign</th>\n",
       "      <th>resource_use</th>\n",
       "      <th>resource_use_end</th>\n",
       "    </tr>\n",
       "  </thead>\n",
       "  <tbody>\n",
       "    <tr>\n",
       "      <th>0</th>\n",
       "      <td>1</td>\n",
       "      <td>1</td>\n",
       "      <td>70.0</td>\n",
       "      <td>car</td>\n",
       "      <td>C70</td>\n",
       "      <td>2025-02-14 08:00:00</td>\n",
       "      <td>2025-02-14 09:05:00</td>\n",
       "    </tr>\n",
       "    <tr>\n",
       "      <th>1</th>\n",
       "      <td>1</td>\n",
       "      <td>2</td>\n",
       "      <td>70.0</td>\n",
       "      <td>car</td>\n",
       "      <td>C70</td>\n",
       "      <td>2025-02-14 11:00:00</td>\n",
       "      <td>2025-02-14 11:43:00</td>\n",
       "    </tr>\n",
       "    <tr>\n",
       "      <th>2</th>\n",
       "      <td>1</td>\n",
       "      <td>3</td>\n",
       "      <td>71.0</td>\n",
       "      <td>car</td>\n",
       "      <td>C71</td>\n",
       "      <td>2025-02-14 13:00:00</td>\n",
       "      <td>2025-02-14 14:34:00</td>\n",
       "    </tr>\n",
       "    <tr>\n",
       "      <th>3</th>\n",
       "      <td>1</td>\n",
       "      <td>4</td>\n",
       "      <td>70.0</td>\n",
       "      <td>car</td>\n",
       "      <td>C70</td>\n",
       "      <td>2025-02-14 08:00:00</td>\n",
       "      <td>2025-02-14 08:23:00</td>\n",
       "    </tr>\n",
       "    <tr>\n",
       "      <th>4</th>\n",
       "      <td>1</td>\n",
       "      <td>5</td>\n",
       "      <td>71.0</td>\n",
       "      <td>car</td>\n",
       "      <td>C71</td>\n",
       "      <td>2025-02-14 09:00:00</td>\n",
       "      <td>2025-02-14 09:30:00</td>\n",
       "    </tr>\n",
       "    <tr>\n",
       "      <th>...</th>\n",
       "      <td>...</td>\n",
       "      <td>...</td>\n",
       "      <td>...</td>\n",
       "      <td>...</td>\n",
       "      <td>...</td>\n",
       "      <td>...</td>\n",
       "      <td>...</td>\n",
       "    </tr>\n",
       "    <tr>\n",
       "      <th>7319</th>\n",
       "      <td>1679</td>\n",
       "      <td>4</td>\n",
       "      <td>71.0</td>\n",
       "      <td>car</td>\n",
       "      <td>C71</td>\n",
       "      <td>2026-02-12 09:00:00</td>\n",
       "      <td>2026-02-12 12:41:00</td>\n",
       "    </tr>\n",
       "    <tr>\n",
       "      <th>7320</th>\n",
       "      <td>1680</td>\n",
       "      <td>4</td>\n",
       "      <td>70.0</td>\n",
       "      <td>helicopter</td>\n",
       "      <td>H70</td>\n",
       "      <td>2026-02-13 08:00:00</td>\n",
       "      <td>2026-02-13 08:57:00</td>\n",
       "    </tr>\n",
       "    <tr>\n",
       "      <th>7321</th>\n",
       "      <td>1681</td>\n",
       "      <td>4</td>\n",
       "      <td>70.0</td>\n",
       "      <td>helicopter</td>\n",
       "      <td>H70</td>\n",
       "      <td>2026-02-13 10:00:00</td>\n",
       "      <td>2026-02-13 10:53:00</td>\n",
       "    </tr>\n",
       "    <tr>\n",
       "      <th>7322</th>\n",
       "      <td>1682</td>\n",
       "      <td>4</td>\n",
       "      <td>70.0</td>\n",
       "      <td>helicopter</td>\n",
       "      <td>H70</td>\n",
       "      <td>2026-02-13 17:00:00</td>\n",
       "      <td>2026-02-13 17:54:00</td>\n",
       "    </tr>\n",
       "    <tr>\n",
       "      <th>7323</th>\n",
       "      <td>1683</td>\n",
       "      <td>4</td>\n",
       "      <td>70.0</td>\n",
       "      <td>helicopter</td>\n",
       "      <td>H70</td>\n",
       "      <td>2026-02-13 23:00:00</td>\n",
       "      <td>2026-02-14 00:03:00</td>\n",
       "    </tr>\n",
       "  </tbody>\n",
       "</table>\n",
       "<p>7324 rows × 7 columns</p>\n",
       "</div>"
      ],
      "text/plain": [
       "event_type  P_ID  run_number  callsign_group vehicle_type callsign  \\\n",
       "0              1           1            70.0          car      C70   \n",
       "1              1           2            70.0          car      C70   \n",
       "2              1           3            71.0          car      C71   \n",
       "3              1           4            70.0          car      C70   \n",
       "4              1           5            71.0          car      C71   \n",
       "...          ...         ...             ...          ...      ...   \n",
       "7319        1679           4            71.0          car      C71   \n",
       "7320        1680           4            70.0   helicopter      H70   \n",
       "7321        1681           4            70.0   helicopter      H70   \n",
       "7322        1682           4            70.0   helicopter      H70   \n",
       "7323        1683           4            70.0   helicopter      H70   \n",
       "\n",
       "event_type         resource_use     resource_use_end  \n",
       "0           2025-02-14 08:00:00  2025-02-14 09:05:00  \n",
       "1           2025-02-14 11:00:00  2025-02-14 11:43:00  \n",
       "2           2025-02-14 13:00:00  2025-02-14 14:34:00  \n",
       "3           2025-02-14 08:00:00  2025-02-14 08:23:00  \n",
       "4           2025-02-14 09:00:00  2025-02-14 09:30:00  \n",
       "...                         ...                  ...  \n",
       "7319        2026-02-12 09:00:00  2026-02-12 12:41:00  \n",
       "7320        2026-02-13 08:00:00  2026-02-13 08:57:00  \n",
       "7321        2026-02-13 10:00:00  2026-02-13 10:53:00  \n",
       "7322        2026-02-13 17:00:00  2026-02-13 17:54:00  \n",
       "7323        2026-02-13 23:00:00  2026-02-14 00:03:00  \n",
       "\n",
       "[7324 rows x 7 columns]"
      ]
     },
     "execution_count": 51,
     "metadata": {},
     "output_type": "execute_result"
    }
   ],
   "source": [
    "resource_use_wide = resource_use_only[[\"P_ID\", \"run_number\", \"event_type\", \"timestamp_dt\", \"callsign_group\", \"vehicle_type\", \"callsign\"]].pivot(index=[\"P_ID\", \"run_number\", \"callsign_group\", \"vehicle_type\", \"callsign\"], columns=\"event_type\", values=\"timestamp_dt\").reset_index()\n",
    "\n",
    "resource_use_wide"
   ]
  },
  {
   "cell_type": "code",
   "execution_count": 52,
   "metadata": {},
   "outputs": [
    {
     "data": {
      "text/plain": [
       "0"
      ]
     },
     "execution_count": 52,
     "metadata": {},
     "output_type": "execute_result"
    }
   ],
   "source": [
    "resource_use_wide['resource_use'].isna().sum()"
   ]
  },
  {
   "cell_type": "code",
   "execution_count": 53,
   "metadata": {},
   "outputs": [
    {
     "data": {
      "text/plain": [
       "1"
      ]
     },
     "execution_count": 53,
     "metadata": {},
     "output_type": "execute_result"
    }
   ],
   "source": [
    "resource_use_wide['resource_use_end'].isna().sum()"
   ]
  },
  {
   "cell_type": "code",
   "execution_count": 54,
   "metadata": {},
   "outputs": [
    {
     "data": {
      "text/plain": [
       "str"
      ]
     },
     "execution_count": 54,
     "metadata": {},
     "output_type": "execute_result"
    }
   ],
   "source": [
    "type(resource_use_wide['resource_use_end'][0])"
   ]
  },
  {
   "cell_type": "code",
   "execution_count": 55,
   "metadata": {},
   "outputs": [
    {
     "name": "stderr",
     "output_type": "stream",
     "text": [
      "c:\\DAAT\\DAA_DES\\app\\_vehicle_calculation.py:78: SettingWithCopyWarning:\n",
      "\n",
      "\n",
      "A value is trying to be set on a copy of a slice from a DataFrame\n",
      "\n",
      "See the caveats in the documentation: https://pandas.pydata.org/pandas-docs/stable/user_guide/indexing.html#returning-a-view-versus-a-copy\n",
      "\n",
      "c:\\DAAT\\DAA_DES\\app\\_vehicle_calculation.py:85: SettingWithCopyWarning:\n",
      "\n",
      "\n",
      "A value is trying to be set on a copy of a slice from a DataFrame\n",
      "\n",
      "See the caveats in the documentation: https://pandas.pydata.org/pandas-docs/stable/user_guide/indexing.html#returning-a-view-versus-a-copy\n",
      "\n"
     ]
    },
    {
     "data": {
      "text/html": [
       "<div>\n",
       "<style scoped>\n",
       "    .dataframe tbody tr th:only-of-type {\n",
       "        vertical-align: middle;\n",
       "    }\n",
       "\n",
       "    .dataframe tbody tr th {\n",
       "        vertical-align: top;\n",
       "    }\n",
       "\n",
       "    .dataframe thead th {\n",
       "        text-align: right;\n",
       "    }\n",
       "</style>\n",
       "<table border=\"1\" class=\"dataframe\">\n",
       "  <thead>\n",
       "    <tr style=\"text-align: right;\">\n",
       "      <th></th>\n",
       "      <th>date</th>\n",
       "      <th>is_summer</th>\n",
       "      <th>H70</th>\n",
       "      <th>CC70</th>\n",
       "      <th>H71</th>\n",
       "      <th>CC71</th>\n",
       "      <th>CC72</th>\n",
       "    </tr>\n",
       "  </thead>\n",
       "  <tbody>\n",
       "    <tr>\n",
       "      <th>0</th>\n",
       "      <td>2025-02-14</td>\n",
       "      <td>False</td>\n",
       "      <td>11</td>\n",
       "      <td>11</td>\n",
       "      <td>2</td>\n",
       "      <td>2</td>\n",
       "      <td>2</td>\n",
       "    </tr>\n",
       "    <tr>\n",
       "      <th>1</th>\n",
       "      <td>2025-02-15</td>\n",
       "      <td>False</td>\n",
       "      <td>19</td>\n",
       "      <td>19</td>\n",
       "      <td>10</td>\n",
       "      <td>10</td>\n",
       "      <td>10</td>\n",
       "    </tr>\n",
       "    <tr>\n",
       "      <th>2</th>\n",
       "      <td>2025-02-16</td>\n",
       "      <td>False</td>\n",
       "      <td>19</td>\n",
       "      <td>19</td>\n",
       "      <td>10</td>\n",
       "      <td>10</td>\n",
       "      <td>10</td>\n",
       "    </tr>\n",
       "    <tr>\n",
       "      <th>3</th>\n",
       "      <td>2025-02-17</td>\n",
       "      <td>False</td>\n",
       "      <td>19</td>\n",
       "      <td>19</td>\n",
       "      <td>10</td>\n",
       "      <td>10</td>\n",
       "      <td>10</td>\n",
       "    </tr>\n",
       "    <tr>\n",
       "      <th>4</th>\n",
       "      <td>2025-02-18</td>\n",
       "      <td>False</td>\n",
       "      <td>19</td>\n",
       "      <td>19</td>\n",
       "      <td>10</td>\n",
       "      <td>10</td>\n",
       "      <td>10</td>\n",
       "    </tr>\n",
       "    <tr>\n",
       "      <th>...</th>\n",
       "      <td>...</td>\n",
       "      <td>...</td>\n",
       "      <td>...</td>\n",
       "      <td>...</td>\n",
       "      <td>...</td>\n",
       "      <td>...</td>\n",
       "      <td>...</td>\n",
       "    </tr>\n",
       "    <tr>\n",
       "      <th>361</th>\n",
       "      <td>2026-02-10</td>\n",
       "      <td>False</td>\n",
       "      <td>19</td>\n",
       "      <td>19</td>\n",
       "      <td>10</td>\n",
       "      <td>10</td>\n",
       "      <td>10</td>\n",
       "    </tr>\n",
       "    <tr>\n",
       "      <th>362</th>\n",
       "      <td>2026-02-11</td>\n",
       "      <td>False</td>\n",
       "      <td>19</td>\n",
       "      <td>19</td>\n",
       "      <td>10</td>\n",
       "      <td>10</td>\n",
       "      <td>10</td>\n",
       "    </tr>\n",
       "    <tr>\n",
       "      <th>363</th>\n",
       "      <td>2026-02-12</td>\n",
       "      <td>False</td>\n",
       "      <td>19</td>\n",
       "      <td>19</td>\n",
       "      <td>10</td>\n",
       "      <td>10</td>\n",
       "      <td>10</td>\n",
       "    </tr>\n",
       "    <tr>\n",
       "      <th>364</th>\n",
       "      <td>2026-02-13</td>\n",
       "      <td>False</td>\n",
       "      <td>19</td>\n",
       "      <td>19</td>\n",
       "      <td>10</td>\n",
       "      <td>10</td>\n",
       "      <td>10</td>\n",
       "    </tr>\n",
       "    <tr>\n",
       "      <th>365</th>\n",
       "      <td>2026-02-14</td>\n",
       "      <td>False</td>\n",
       "      <td>8</td>\n",
       "      <td>8</td>\n",
       "      <td>8</td>\n",
       "      <td>8</td>\n",
       "      <td>8</td>\n",
       "    </tr>\n",
       "  </tbody>\n",
       "</table>\n",
       "<p>366 rows × 7 columns</p>\n",
       "</div>"
      ],
      "text/plain": [
       "          date  is_summer  H70  CC70  H71  CC71  CC72\n",
       "0   2025-02-14      False   11    11    2     2     2\n",
       "1   2025-02-15      False   19    19   10    10    10\n",
       "2   2025-02-16      False   19    19   10    10    10\n",
       "3   2025-02-17      False   19    19   10    10    10\n",
       "4   2025-02-18      False   19    19   10    10    10\n",
       "..         ...        ...  ...   ...  ...   ...   ...\n",
       "361 2026-02-10      False   19    19   10    10    10\n",
       "362 2026-02-11      False   19    19   10    10    10\n",
       "363 2026-02-12      False   19    19   10    10    10\n",
       "364 2026-02-13      False   19    19   10    10    10\n",
       "365 2026-02-14      False    8     8    8     8     8\n",
       "\n",
       "[366 rows x 7 columns]"
      ]
     },
     "execution_count": 55,
     "metadata": {},
     "output_type": "execute_result"
    }
   ],
   "source": [
    "import _vehicle_calculation\n",
    "\n",
    "daily_availability, total_avail_hours, total_avail_minutes = _vehicle_calculation.calculate_available_hours(\n",
    "        params, rota_path=\"../data/hems_rota_used.csv\"\n",
    "        )\n",
    "\n",
    "daily_availability"
   ]
  },
  {
   "cell_type": "code",
   "execution_count": 56,
   "metadata": {},
   "outputs": [
    {
     "data": {
      "text/html": [
       "<div>\n",
       "<style scoped>\n",
       "    .dataframe tbody tr th:only-of-type {\n",
       "        vertical-align: middle;\n",
       "    }\n",
       "\n",
       "    .dataframe tbody tr th {\n",
       "        vertical-align: top;\n",
       "    }\n",
       "\n",
       "    .dataframe thead th {\n",
       "        text-align: right;\n",
       "    }\n",
       "</style>\n",
       "<table border=\"1\" class=\"dataframe\">\n",
       "  <thead>\n",
       "    <tr style=\"text-align: right;\">\n",
       "      <th></th>\n",
       "      <th>callsign</th>\n",
       "      <th>total_available_hours_in_sim</th>\n",
       "      <th>callsign_group</th>\n",
       "    </tr>\n",
       "  </thead>\n",
       "  <tbody>\n",
       "    <tr>\n",
       "      <th>0</th>\n",
       "      <td>H70</td>\n",
       "      <td>6935</td>\n",
       "      <td>70</td>\n",
       "    </tr>\n",
       "    <tr>\n",
       "      <th>1</th>\n",
       "      <td>C70</td>\n",
       "      <td>6935</td>\n",
       "      <td>70</td>\n",
       "    </tr>\n",
       "    <tr>\n",
       "      <th>2</th>\n",
       "      <td>H71</td>\n",
       "      <td>4016</td>\n",
       "      <td>71</td>\n",
       "    </tr>\n",
       "    <tr>\n",
       "      <th>3</th>\n",
       "      <td>C71</td>\n",
       "      <td>3650</td>\n",
       "      <td>71</td>\n",
       "    </tr>\n",
       "    <tr>\n",
       "      <th>4</th>\n",
       "      <td>C72</td>\n",
       "      <td>3650</td>\n",
       "      <td>72</td>\n",
       "    </tr>\n",
       "  </tbody>\n",
       "</table>\n",
       "</div>"
      ],
      "text/plain": [
       "  callsign  total_available_hours_in_sim callsign_group\n",
       "0      H70                          6935             70\n",
       "1      C70                          6935             70\n",
       "2      H71                          4016             71\n",
       "3      C71                          3650             71\n",
       "4      C72                          3650             72"
      ]
     },
     "execution_count": 56,
     "metadata": {},
     "output_type": "execute_result"
    }
   ],
   "source": [
    "total_avail_hours"
   ]
  },
  {
   "cell_type": "code",
   "execution_count": 57,
   "metadata": {},
   "outputs": [
    {
     "data": {
      "text/html": [
       "<div>\n",
       "<style scoped>\n",
       "    .dataframe tbody tr th:only-of-type {\n",
       "        vertical-align: middle;\n",
       "    }\n",
       "\n",
       "    .dataframe tbody tr th {\n",
       "        vertical-align: top;\n",
       "    }\n",
       "\n",
       "    .dataframe thead th {\n",
       "        text-align: right;\n",
       "    }\n",
       "</style>\n",
       "<table border=\"1\" class=\"dataframe\">\n",
       "  <thead>\n",
       "    <tr style=\"text-align: right;\">\n",
       "      <th></th>\n",
       "      <th>callsign</th>\n",
       "      <th>total_available_minutes_in_sim</th>\n",
       "      <th>callsign_group</th>\n",
       "    </tr>\n",
       "  </thead>\n",
       "  <tbody>\n",
       "    <tr>\n",
       "      <th>0</th>\n",
       "      <td>H70</td>\n",
       "      <td>416100</td>\n",
       "      <td>70</td>\n",
       "    </tr>\n",
       "    <tr>\n",
       "      <th>1</th>\n",
       "      <td>C70</td>\n",
       "      <td>416100</td>\n",
       "      <td>70</td>\n",
       "    </tr>\n",
       "    <tr>\n",
       "      <th>2</th>\n",
       "      <td>H71</td>\n",
       "      <td>240960</td>\n",
       "      <td>71</td>\n",
       "    </tr>\n",
       "    <tr>\n",
       "      <th>3</th>\n",
       "      <td>C71</td>\n",
       "      <td>219000</td>\n",
       "      <td>71</td>\n",
       "    </tr>\n",
       "    <tr>\n",
       "      <th>4</th>\n",
       "      <td>C72</td>\n",
       "      <td>219000</td>\n",
       "      <td>72</td>\n",
       "    </tr>\n",
       "  </tbody>\n",
       "</table>\n",
       "</div>"
      ],
      "text/plain": [
       "  callsign  total_available_minutes_in_sim callsign_group\n",
       "0      H70                          416100             70\n",
       "1      C70                          416100             70\n",
       "2      H71                          240960             71\n",
       "3      C71                          219000             71\n",
       "4      C72                          219000             72"
      ]
     },
     "execution_count": 57,
     "metadata": {},
     "output_type": "execute_result"
    }
   ],
   "source": [
    "total_avail_minutes"
   ]
  },
  {
   "cell_type": "code",
   "execution_count": 58,
   "metadata": {},
   "outputs": [
    {
     "data": {
      "text/html": [
       "<div>\n",
       "<style scoped>\n",
       "    .dataframe tbody tr th:only-of-type {\n",
       "        vertical-align: middle;\n",
       "    }\n",
       "\n",
       "    .dataframe tbody tr th {\n",
       "        vertical-align: top;\n",
       "    }\n",
       "\n",
       "    .dataframe thead th {\n",
       "        text-align: right;\n",
       "    }\n",
       "</style>\n",
       "<table border=\"1\" class=\"dataframe\">\n",
       "  <thead>\n",
       "    <tr style=\"text-align: right;\">\n",
       "      <th></th>\n",
       "      <th></th>\n",
       "      <th>event_type</th>\n",
       "      <th>resource_use_duration</th>\n",
       "    </tr>\n",
       "    <tr>\n",
       "      <th>run_number</th>\n",
       "      <th>vehicle_type</th>\n",
       "      <th>callsign</th>\n",
       "      <th></th>\n",
       "    </tr>\n",
       "  </thead>\n",
       "  <tbody>\n",
       "    <tr>\n",
       "      <th rowspan=\"5\" valign=\"top\">1</th>\n",
       "      <th rowspan=\"3\" valign=\"top\">car</th>\n",
       "      <th>C70</th>\n",
       "      <td>73246.0</td>\n",
       "    </tr>\n",
       "    <tr>\n",
       "      <th>C71</th>\n",
       "      <td>22941.0</td>\n",
       "    </tr>\n",
       "    <tr>\n",
       "      <th>C72</th>\n",
       "      <td>23569.0</td>\n",
       "    </tr>\n",
       "    <tr>\n",
       "      <th rowspan=\"2\" valign=\"top\">helicopter</th>\n",
       "      <th>H70</th>\n",
       "      <td>40950.0</td>\n",
       "    </tr>\n",
       "    <tr>\n",
       "      <th>H71</th>\n",
       "      <td>9439.0</td>\n",
       "    </tr>\n",
       "    <tr>\n",
       "      <th rowspan=\"5\" valign=\"top\">2</th>\n",
       "      <th rowspan=\"3\" valign=\"top\">car</th>\n",
       "      <th>C70</th>\n",
       "      <td>58411.0</td>\n",
       "    </tr>\n",
       "    <tr>\n",
       "      <th>C71</th>\n",
       "      <td>14477.0</td>\n",
       "    </tr>\n",
       "    <tr>\n",
       "      <th>C72</th>\n",
       "      <td>20813.0</td>\n",
       "    </tr>\n",
       "    <tr>\n",
       "      <th rowspan=\"2\" valign=\"top\">helicopter</th>\n",
       "      <th>H70</th>\n",
       "      <td>28842.0</td>\n",
       "    </tr>\n",
       "    <tr>\n",
       "      <th>H71</th>\n",
       "      <td>10375.0</td>\n",
       "    </tr>\n",
       "    <tr>\n",
       "      <th rowspan=\"5\" valign=\"top\">3</th>\n",
       "      <th rowspan=\"3\" valign=\"top\">car</th>\n",
       "      <th>C70</th>\n",
       "      <td>41906.0</td>\n",
       "    </tr>\n",
       "    <tr>\n",
       "      <th>C71</th>\n",
       "      <td>17418.0</td>\n",
       "    </tr>\n",
       "    <tr>\n",
       "      <th>C72</th>\n",
       "      <td>24781.0</td>\n",
       "    </tr>\n",
       "    <tr>\n",
       "      <th rowspan=\"2\" valign=\"top\">helicopter</th>\n",
       "      <th>H70</th>\n",
       "      <td>45831.0</td>\n",
       "    </tr>\n",
       "    <tr>\n",
       "      <th>H71</th>\n",
       "      <td>9962.0</td>\n",
       "    </tr>\n",
       "    <tr>\n",
       "      <th rowspan=\"5\" valign=\"top\">4</th>\n",
       "      <th rowspan=\"3\" valign=\"top\">car</th>\n",
       "      <th>C70</th>\n",
       "      <td>69246.0</td>\n",
       "    </tr>\n",
       "    <tr>\n",
       "      <th>C71</th>\n",
       "      <td>28350.0</td>\n",
       "    </tr>\n",
       "    <tr>\n",
       "      <th>C72</th>\n",
       "      <td>25570.0</td>\n",
       "    </tr>\n",
       "    <tr>\n",
       "      <th rowspan=\"2\" valign=\"top\">helicopter</th>\n",
       "      <th>H70</th>\n",
       "      <td>32356.0</td>\n",
       "    </tr>\n",
       "    <tr>\n",
       "      <th>H71</th>\n",
       "      <td>16765.0</td>\n",
       "    </tr>\n",
       "    <tr>\n",
       "      <th rowspan=\"5\" valign=\"top\">5</th>\n",
       "      <th rowspan=\"3\" valign=\"top\">car</th>\n",
       "      <th>C70</th>\n",
       "      <td>65124.0</td>\n",
       "    </tr>\n",
       "    <tr>\n",
       "      <th>C71</th>\n",
       "      <td>15768.0</td>\n",
       "    </tr>\n",
       "    <tr>\n",
       "      <th>C72</th>\n",
       "      <td>28307.0</td>\n",
       "    </tr>\n",
       "    <tr>\n",
       "      <th rowspan=\"2\" valign=\"top\">helicopter</th>\n",
       "      <th>H70</th>\n",
       "      <td>35925.0</td>\n",
       "    </tr>\n",
       "    <tr>\n",
       "      <th>H71</th>\n",
       "      <td>8987.0</td>\n",
       "    </tr>\n",
       "  </tbody>\n",
       "</table>\n",
       "</div>"
      ],
      "text/plain": [
       "event_type                        resource_use_duration\n",
       "run_number vehicle_type callsign                       \n",
       "1          car          C70                     73246.0\n",
       "                        C71                     22941.0\n",
       "                        C72                     23569.0\n",
       "           helicopter   H70                     40950.0\n",
       "                        H71                      9439.0\n",
       "2          car          C70                     58411.0\n",
       "                        C71                     14477.0\n",
       "                        C72                     20813.0\n",
       "           helicopter   H70                     28842.0\n",
       "                        H71                     10375.0\n",
       "3          car          C70                     41906.0\n",
       "                        C71                     17418.0\n",
       "                        C72                     24781.0\n",
       "           helicopter   H70                     45831.0\n",
       "                        H71                      9962.0\n",
       "4          car          C70                     69246.0\n",
       "                        C71                     28350.0\n",
       "                        C72                     25570.0\n",
       "           helicopter   H70                     32356.0\n",
       "                        H71                     16765.0\n",
       "5          car          C70                     65124.0\n",
       "                        C71                     15768.0\n",
       "                        C72                     28307.0\n",
       "           helicopter   H70                     35925.0\n",
       "                        H71                      8987.0"
      ]
     },
     "execution_count": 58,
     "metadata": {},
     "output_type": "execute_result"
    }
   ],
   "source": [
    "resource_use_wide[\"resource_use_duration\"] = _processing_functions.calculate_time_difference(\n",
    "        resource_use_wide, 'resource_use', 'resource_use_end', unit='minutes'\n",
    "        )\n",
    "\n",
    "utilisation_df_per_run = (\n",
    "        resource_use_wide.groupby(['run_number', 'vehicle_type', 'callsign'])\n",
    "        [[\"resource_use_duration\"]]\n",
    "        .sum()\n",
    "        )\n",
    "\n",
    "utilisation_df_per_run\n"
   ]
  },
  {
   "cell_type": "code",
   "execution_count": 59,
   "metadata": {},
   "outputs": [
    {
     "data": {
      "text/html": [
       "<div>\n",
       "<style scoped>\n",
       "    .dataframe tbody tr th:only-of-type {\n",
       "        vertical-align: middle;\n",
       "    }\n",
       "\n",
       "    .dataframe tbody tr th {\n",
       "        vertical-align: top;\n",
       "    }\n",
       "\n",
       "    .dataframe thead th {\n",
       "        text-align: right;\n",
       "    }\n",
       "</style>\n",
       "<table border=\"1\" class=\"dataframe\">\n",
       "  <thead>\n",
       "    <tr style=\"text-align: right;\">\n",
       "      <th></th>\n",
       "      <th>run_number</th>\n",
       "      <th>vehicle_type</th>\n",
       "      <th>callsign</th>\n",
       "      <th>resource_use_duration</th>\n",
       "      <th>total_available_minutes_in_sim</th>\n",
       "      <th>callsign_group</th>\n",
       "    </tr>\n",
       "  </thead>\n",
       "  <tbody>\n",
       "    <tr>\n",
       "      <th>0</th>\n",
       "      <td>1</td>\n",
       "      <td>car</td>\n",
       "      <td>C70</td>\n",
       "      <td>73246.0</td>\n",
       "      <td>416100</td>\n",
       "      <td>70</td>\n",
       "    </tr>\n",
       "    <tr>\n",
       "      <th>1</th>\n",
       "      <td>1</td>\n",
       "      <td>car</td>\n",
       "      <td>C71</td>\n",
       "      <td>22941.0</td>\n",
       "      <td>219000</td>\n",
       "      <td>71</td>\n",
       "    </tr>\n",
       "    <tr>\n",
       "      <th>2</th>\n",
       "      <td>1</td>\n",
       "      <td>car</td>\n",
       "      <td>C72</td>\n",
       "      <td>23569.0</td>\n",
       "      <td>219000</td>\n",
       "      <td>72</td>\n",
       "    </tr>\n",
       "    <tr>\n",
       "      <th>3</th>\n",
       "      <td>1</td>\n",
       "      <td>helicopter</td>\n",
       "      <td>H70</td>\n",
       "      <td>40950.0</td>\n",
       "      <td>416100</td>\n",
       "      <td>70</td>\n",
       "    </tr>\n",
       "    <tr>\n",
       "      <th>4</th>\n",
       "      <td>1</td>\n",
       "      <td>helicopter</td>\n",
       "      <td>H71</td>\n",
       "      <td>9439.0</td>\n",
       "      <td>240960</td>\n",
       "      <td>71</td>\n",
       "    </tr>\n",
       "    <tr>\n",
       "      <th>5</th>\n",
       "      <td>2</td>\n",
       "      <td>car</td>\n",
       "      <td>C70</td>\n",
       "      <td>58411.0</td>\n",
       "      <td>416100</td>\n",
       "      <td>70</td>\n",
       "    </tr>\n",
       "    <tr>\n",
       "      <th>6</th>\n",
       "      <td>2</td>\n",
       "      <td>car</td>\n",
       "      <td>C71</td>\n",
       "      <td>14477.0</td>\n",
       "      <td>219000</td>\n",
       "      <td>71</td>\n",
       "    </tr>\n",
       "    <tr>\n",
       "      <th>7</th>\n",
       "      <td>2</td>\n",
       "      <td>car</td>\n",
       "      <td>C72</td>\n",
       "      <td>20813.0</td>\n",
       "      <td>219000</td>\n",
       "      <td>72</td>\n",
       "    </tr>\n",
       "    <tr>\n",
       "      <th>8</th>\n",
       "      <td>2</td>\n",
       "      <td>helicopter</td>\n",
       "      <td>H70</td>\n",
       "      <td>28842.0</td>\n",
       "      <td>416100</td>\n",
       "      <td>70</td>\n",
       "    </tr>\n",
       "    <tr>\n",
       "      <th>9</th>\n",
       "      <td>2</td>\n",
       "      <td>helicopter</td>\n",
       "      <td>H71</td>\n",
       "      <td>10375.0</td>\n",
       "      <td>240960</td>\n",
       "      <td>71</td>\n",
       "    </tr>\n",
       "    <tr>\n",
       "      <th>10</th>\n",
       "      <td>3</td>\n",
       "      <td>car</td>\n",
       "      <td>C70</td>\n",
       "      <td>41906.0</td>\n",
       "      <td>416100</td>\n",
       "      <td>70</td>\n",
       "    </tr>\n",
       "    <tr>\n",
       "      <th>11</th>\n",
       "      <td>3</td>\n",
       "      <td>car</td>\n",
       "      <td>C71</td>\n",
       "      <td>17418.0</td>\n",
       "      <td>219000</td>\n",
       "      <td>71</td>\n",
       "    </tr>\n",
       "    <tr>\n",
       "      <th>12</th>\n",
       "      <td>3</td>\n",
       "      <td>car</td>\n",
       "      <td>C72</td>\n",
       "      <td>24781.0</td>\n",
       "      <td>219000</td>\n",
       "      <td>72</td>\n",
       "    </tr>\n",
       "    <tr>\n",
       "      <th>13</th>\n",
       "      <td>3</td>\n",
       "      <td>helicopter</td>\n",
       "      <td>H70</td>\n",
       "      <td>45831.0</td>\n",
       "      <td>416100</td>\n",
       "      <td>70</td>\n",
       "    </tr>\n",
       "    <tr>\n",
       "      <th>14</th>\n",
       "      <td>3</td>\n",
       "      <td>helicopter</td>\n",
       "      <td>H71</td>\n",
       "      <td>9962.0</td>\n",
       "      <td>240960</td>\n",
       "      <td>71</td>\n",
       "    </tr>\n",
       "    <tr>\n",
       "      <th>15</th>\n",
       "      <td>4</td>\n",
       "      <td>car</td>\n",
       "      <td>C70</td>\n",
       "      <td>69246.0</td>\n",
       "      <td>416100</td>\n",
       "      <td>70</td>\n",
       "    </tr>\n",
       "    <tr>\n",
       "      <th>16</th>\n",
       "      <td>4</td>\n",
       "      <td>car</td>\n",
       "      <td>C71</td>\n",
       "      <td>28350.0</td>\n",
       "      <td>219000</td>\n",
       "      <td>71</td>\n",
       "    </tr>\n",
       "    <tr>\n",
       "      <th>17</th>\n",
       "      <td>4</td>\n",
       "      <td>car</td>\n",
       "      <td>C72</td>\n",
       "      <td>25570.0</td>\n",
       "      <td>219000</td>\n",
       "      <td>72</td>\n",
       "    </tr>\n",
       "    <tr>\n",
       "      <th>18</th>\n",
       "      <td>4</td>\n",
       "      <td>helicopter</td>\n",
       "      <td>H70</td>\n",
       "      <td>32356.0</td>\n",
       "      <td>416100</td>\n",
       "      <td>70</td>\n",
       "    </tr>\n",
       "    <tr>\n",
       "      <th>19</th>\n",
       "      <td>4</td>\n",
       "      <td>helicopter</td>\n",
       "      <td>H71</td>\n",
       "      <td>16765.0</td>\n",
       "      <td>240960</td>\n",
       "      <td>71</td>\n",
       "    </tr>\n",
       "    <tr>\n",
       "      <th>20</th>\n",
       "      <td>5</td>\n",
       "      <td>car</td>\n",
       "      <td>C70</td>\n",
       "      <td>65124.0</td>\n",
       "      <td>416100</td>\n",
       "      <td>70</td>\n",
       "    </tr>\n",
       "    <tr>\n",
       "      <th>21</th>\n",
       "      <td>5</td>\n",
       "      <td>car</td>\n",
       "      <td>C71</td>\n",
       "      <td>15768.0</td>\n",
       "      <td>219000</td>\n",
       "      <td>71</td>\n",
       "    </tr>\n",
       "    <tr>\n",
       "      <th>22</th>\n",
       "      <td>5</td>\n",
       "      <td>car</td>\n",
       "      <td>C72</td>\n",
       "      <td>28307.0</td>\n",
       "      <td>219000</td>\n",
       "      <td>72</td>\n",
       "    </tr>\n",
       "    <tr>\n",
       "      <th>23</th>\n",
       "      <td>5</td>\n",
       "      <td>helicopter</td>\n",
       "      <td>H70</td>\n",
       "      <td>35925.0</td>\n",
       "      <td>416100</td>\n",
       "      <td>70</td>\n",
       "    </tr>\n",
       "    <tr>\n",
       "      <th>24</th>\n",
       "      <td>5</td>\n",
       "      <td>helicopter</td>\n",
       "      <td>H71</td>\n",
       "      <td>8987.0</td>\n",
       "      <td>240960</td>\n",
       "      <td>71</td>\n",
       "    </tr>\n",
       "  </tbody>\n",
       "</table>\n",
       "</div>"
      ],
      "text/plain": [
       "    run_number vehicle_type callsign  resource_use_duration  \\\n",
       "0            1          car      C70                73246.0   \n",
       "1            1          car      C71                22941.0   \n",
       "2            1          car      C72                23569.0   \n",
       "3            1   helicopter      H70                40950.0   \n",
       "4            1   helicopter      H71                 9439.0   \n",
       "5            2          car      C70                58411.0   \n",
       "6            2          car      C71                14477.0   \n",
       "7            2          car      C72                20813.0   \n",
       "8            2   helicopter      H70                28842.0   \n",
       "9            2   helicopter      H71                10375.0   \n",
       "10           3          car      C70                41906.0   \n",
       "11           3          car      C71                17418.0   \n",
       "12           3          car      C72                24781.0   \n",
       "13           3   helicopter      H70                45831.0   \n",
       "14           3   helicopter      H71                 9962.0   \n",
       "15           4          car      C70                69246.0   \n",
       "16           4          car      C71                28350.0   \n",
       "17           4          car      C72                25570.0   \n",
       "18           4   helicopter      H70                32356.0   \n",
       "19           4   helicopter      H71                16765.0   \n",
       "20           5          car      C70                65124.0   \n",
       "21           5          car      C71                15768.0   \n",
       "22           5          car      C72                28307.0   \n",
       "23           5   helicopter      H70                35925.0   \n",
       "24           5   helicopter      H71                 8987.0   \n",
       "\n",
       "    total_available_minutes_in_sim callsign_group  \n",
       "0                           416100             70  \n",
       "1                           219000             71  \n",
       "2                           219000             72  \n",
       "3                           416100             70  \n",
       "4                           240960             71  \n",
       "5                           416100             70  \n",
       "6                           219000             71  \n",
       "7                           219000             72  \n",
       "8                           416100             70  \n",
       "9                           240960             71  \n",
       "10                          416100             70  \n",
       "11                          219000             71  \n",
       "12                          219000             72  \n",
       "13                          416100             70  \n",
       "14                          240960             71  \n",
       "15                          416100             70  \n",
       "16                          219000             71  \n",
       "17                          219000             72  \n",
       "18                          416100             70  \n",
       "19                          240960             71  \n",
       "20                          416100             70  \n",
       "21                          219000             71  \n",
       "22                          219000             72  \n",
       "23                          416100             70  \n",
       "24                          240960             71  "
      ]
     },
     "execution_count": 59,
     "metadata": {},
     "output_type": "execute_result"
    }
   ],
   "source": [
    "utilisation_df_per_run.reset_index(drop=False).merge(total_avail_minutes, on=\"callsign\")"
   ]
  },
  {
   "cell_type": "code",
   "execution_count": 60,
   "metadata": {},
   "outputs": [
    {
     "data": {
      "text/html": [
       "<div>\n",
       "<style scoped>\n",
       "    .dataframe tbody tr th:only-of-type {\n",
       "        vertical-align: middle;\n",
       "    }\n",
       "\n",
       "    .dataframe tbody tr th {\n",
       "        vertical-align: top;\n",
       "    }\n",
       "\n",
       "    .dataframe thead th {\n",
       "        text-align: right;\n",
       "    }\n",
       "</style>\n",
       "<table border=\"1\" class=\"dataframe\">\n",
       "  <thead>\n",
       "    <tr style=\"text-align: right;\">\n",
       "      <th>event_type</th>\n",
       "      <th>callsign_group</th>\n",
       "      <th>resource_use_duration</th>\n",
       "    </tr>\n",
       "  </thead>\n",
       "  <tbody>\n",
       "    <tr>\n",
       "      <th>0</th>\n",
       "      <td>70.0</td>\n",
       "      <td>491837.0</td>\n",
       "    </tr>\n",
       "    <tr>\n",
       "      <th>1</th>\n",
       "      <td>71.0</td>\n",
       "      <td>154482.0</td>\n",
       "    </tr>\n",
       "    <tr>\n",
       "      <th>2</th>\n",
       "      <td>72.0</td>\n",
       "      <td>123040.0</td>\n",
       "    </tr>\n",
       "  </tbody>\n",
       "</table>\n",
       "</div>"
      ],
      "text/plain": [
       "event_type  callsign_group  resource_use_duration\n",
       "0                     70.0               491837.0\n",
       "1                     71.0               154482.0\n",
       "2                     72.0               123040.0"
      ]
     },
     "execution_count": 60,
     "metadata": {},
     "output_type": "execute_result"
    }
   ],
   "source": [
    "utilisation_df_per_run_by_csg = (\n",
    "        resource_use_wide.groupby(['callsign_group'])\n",
    "        [[\"resource_use_duration\"]]\n",
    "        .sum()\n",
    "        )\n",
    "utilisation_df_per_run_by_csg = utilisation_df_per_run_by_csg.reset_index()\n",
    "utilisation_df_per_run_by_csg\n",
    "\n",
    "\n",
    "\n",
    "# import re\n",
    "\n",
    "# total_avail_hours[\"callsign_group\"] = total_avail_hours[\"callsign\"].apply(lambda x: re.sub('\\D', '', x))\n",
    "# total_avail_hours"
   ]
  },
  {
   "cell_type": "code",
   "execution_count": 61,
   "metadata": {},
   "outputs": [
    {
     "data": {
      "text/html": [
       "<div>\n",
       "<style scoped>\n",
       "    .dataframe tbody tr th:only-of-type {\n",
       "        vertical-align: middle;\n",
       "    }\n",
       "\n",
       "    .dataframe tbody tr th {\n",
       "        vertical-align: top;\n",
       "    }\n",
       "\n",
       "    .dataframe thead th {\n",
       "        text-align: right;\n",
       "    }\n",
       "</style>\n",
       "<table border=\"1\" class=\"dataframe\">\n",
       "  <thead>\n",
       "    <tr style=\"text-align: right;\">\n",
       "      <th></th>\n",
       "      <th>total_available_minutes_in_sim</th>\n",
       "      <th>callsign_group</th>\n",
       "    </tr>\n",
       "  </thead>\n",
       "  <tbody>\n",
       "    <tr>\n",
       "      <th>0</th>\n",
       "      <td>416100</td>\n",
       "      <td>70.0</td>\n",
       "    </tr>\n",
       "    <tr>\n",
       "      <th>2</th>\n",
       "      <td>240960</td>\n",
       "      <td>71.0</td>\n",
       "    </tr>\n",
       "    <tr>\n",
       "      <th>4</th>\n",
       "      <td>219000</td>\n",
       "      <td>72.0</td>\n",
       "    </tr>\n",
       "  </tbody>\n",
       "</table>\n",
       "</div>"
      ],
      "text/plain": [
       "   total_available_minutes_in_sim  callsign_group\n",
       "0                          416100            70.0\n",
       "2                          240960            71.0\n",
       "4                          219000            72.0"
      ]
     },
     "execution_count": 61,
     "metadata": {},
     "output_type": "execute_result"
    }
   ],
   "source": [
    "total_avail_hours_per_csg = total_avail_minutes.groupby('callsign_group').head(1).drop(columns='callsign')\n",
    "total_avail_hours_per_csg['callsign_group'] =  total_avail_hours_per_csg['callsign_group'].astype('float')\n",
    "total_avail_hours_per_csg"
   ]
  },
  {
   "cell_type": "code",
   "execution_count": 62,
   "metadata": {},
   "outputs": [
    {
     "data": {
      "text/html": [
       "<div>\n",
       "<style scoped>\n",
       "    .dataframe tbody tr th:only-of-type {\n",
       "        vertical-align: middle;\n",
       "    }\n",
       "\n",
       "    .dataframe tbody tr th {\n",
       "        vertical-align: top;\n",
       "    }\n",
       "\n",
       "    .dataframe thead th {\n",
       "        text-align: right;\n",
       "    }\n",
       "</style>\n",
       "<table border=\"1\" class=\"dataframe\">\n",
       "  <thead>\n",
       "    <tr style=\"text-align: right;\">\n",
       "      <th></th>\n",
       "      <th>callsign_group</th>\n",
       "      <th>resource_use_duration</th>\n",
       "      <th>total_available_minutes_in_sim</th>\n",
       "    </tr>\n",
       "  </thead>\n",
       "  <tbody>\n",
       "    <tr>\n",
       "      <th>0</th>\n",
       "      <td>70.0</td>\n",
       "      <td>491837.0</td>\n",
       "      <td>416100</td>\n",
       "    </tr>\n",
       "    <tr>\n",
       "      <th>1</th>\n",
       "      <td>71.0</td>\n",
       "      <td>154482.0</td>\n",
       "      <td>240960</td>\n",
       "    </tr>\n",
       "    <tr>\n",
       "      <th>2</th>\n",
       "      <td>72.0</td>\n",
       "      <td>123040.0</td>\n",
       "      <td>219000</td>\n",
       "    </tr>\n",
       "  </tbody>\n",
       "</table>\n",
       "</div>"
      ],
      "text/plain": [
       "   callsign_group  resource_use_duration  total_available_minutes_in_sim\n",
       "0            70.0               491837.0                          416100\n",
       "1            71.0               154482.0                          240960\n",
       "2            72.0               123040.0                          219000"
      ]
     },
     "execution_count": 62,
     "metadata": {},
     "output_type": "execute_result"
    }
   ],
   "source": [
    "utilisation_df_per_run_by_csg = utilisation_df_per_run_by_csg.merge(total_avail_hours_per_csg, on=\"callsign_group\")\n",
    "utilisation_df_per_run_by_csg"
   ]
  },
  {
   "cell_type": "code",
   "execution_count": 63,
   "metadata": {},
   "outputs": [
    {
     "data": {
      "text/html": [
       "<div>\n",
       "<style scoped>\n",
       "    .dataframe tbody tr th:only-of-type {\n",
       "        vertical-align: middle;\n",
       "    }\n",
       "\n",
       "    .dataframe tbody tr th {\n",
       "        vertical-align: top;\n",
       "    }\n",
       "\n",
       "    .dataframe thead th {\n",
       "        text-align: right;\n",
       "    }\n",
       "</style>\n",
       "<table border=\"1\" class=\"dataframe\">\n",
       "  <thead>\n",
       "    <tr style=\"text-align: right;\">\n",
       "      <th>event_type</th>\n",
       "      <th>callsign</th>\n",
       "      <th>vehicle_type</th>\n",
       "      <th>resource_use_duration</th>\n",
       "    </tr>\n",
       "  </thead>\n",
       "  <tbody>\n",
       "    <tr>\n",
       "      <th>0</th>\n",
       "      <td>C70</td>\n",
       "      <td>car</td>\n",
       "      <td>61586.6</td>\n",
       "    </tr>\n",
       "    <tr>\n",
       "      <th>1</th>\n",
       "      <td>C71</td>\n",
       "      <td>car</td>\n",
       "      <td>19790.8</td>\n",
       "    </tr>\n",
       "    <tr>\n",
       "      <th>2</th>\n",
       "      <td>C72</td>\n",
       "      <td>car</td>\n",
       "      <td>24608.0</td>\n",
       "    </tr>\n",
       "    <tr>\n",
       "      <th>3</th>\n",
       "      <td>H70</td>\n",
       "      <td>helicopter</td>\n",
       "      <td>36780.8</td>\n",
       "    </tr>\n",
       "    <tr>\n",
       "      <th>4</th>\n",
       "      <td>H71</td>\n",
       "      <td>helicopter</td>\n",
       "      <td>11105.6</td>\n",
       "    </tr>\n",
       "  </tbody>\n",
       "</table>\n",
       "</div>"
      ],
      "text/plain": [
       "event_type callsign vehicle_type  resource_use_duration\n",
       "0               C70          car                61586.6\n",
       "1               C71          car                19790.8\n",
       "2               C72          car                24608.0\n",
       "3               H70   helicopter                36780.8\n",
       "4               H71   helicopter                11105.6"
      ]
     },
     "execution_count": 63,
     "metadata": {},
     "output_type": "execute_result"
    }
   ],
   "source": [
    "n_runs=5\n",
    "utilisation_df_overall = (\n",
    "        utilisation_df_per_run.groupby(['callsign', 'vehicle_type'])\n",
    "        [[\"resource_use_duration\"]]\n",
    "        .sum()\n",
    "        )\n",
    "\n",
    "utilisation_df_overall[\"resource_use_duration\"] = (\n",
    "    utilisation_df_overall[\"resource_use_duration\"] /\n",
    "    n_runs\n",
    "    )\n",
    "\n",
    "utilisation_df_overall.reset_index()"
   ]
  },
  {
   "cell_type": "code",
   "execution_count": 64,
   "metadata": {},
   "outputs": [],
   "source": [
    "n_runs=5"
   ]
  },
  {
   "cell_type": "code",
   "execution_count": 65,
   "metadata": {},
   "outputs": [],
   "source": [
    "total_avail_minutes['total_available_minutes_in_all_runs'] = total_avail_minutes['total_available_minutes_in_sim'] * n_runs"
   ]
  },
  {
   "cell_type": "code",
   "execution_count": 66,
   "metadata": {},
   "outputs": [
    {
     "data": {
      "text/html": [
       "<div>\n",
       "<style scoped>\n",
       "    .dataframe tbody tr th:only-of-type {\n",
       "        vertical-align: middle;\n",
       "    }\n",
       "\n",
       "    .dataframe tbody tr th {\n",
       "        vertical-align: top;\n",
       "    }\n",
       "\n",
       "    .dataframe thead th {\n",
       "        text-align: right;\n",
       "    }\n",
       "</style>\n",
       "<table border=\"1\" class=\"dataframe\">\n",
       "  <thead>\n",
       "    <tr style=\"text-align: right;\">\n",
       "      <th></th>\n",
       "      <th>callsign</th>\n",
       "      <th>total_available_minutes_in_sim</th>\n",
       "      <th>callsign_group</th>\n",
       "      <th>total_available_minutes_in_all_runs</th>\n",
       "    </tr>\n",
       "  </thead>\n",
       "  <tbody>\n",
       "    <tr>\n",
       "      <th>0</th>\n",
       "      <td>H70</td>\n",
       "      <td>416100</td>\n",
       "      <td>70</td>\n",
       "      <td>2080500</td>\n",
       "    </tr>\n",
       "    <tr>\n",
       "      <th>1</th>\n",
       "      <td>C70</td>\n",
       "      <td>416100</td>\n",
       "      <td>70</td>\n",
       "      <td>2080500</td>\n",
       "    </tr>\n",
       "    <tr>\n",
       "      <th>2</th>\n",
       "      <td>H71</td>\n",
       "      <td>240960</td>\n",
       "      <td>71</td>\n",
       "      <td>1204800</td>\n",
       "    </tr>\n",
       "    <tr>\n",
       "      <th>3</th>\n",
       "      <td>C71</td>\n",
       "      <td>219000</td>\n",
       "      <td>71</td>\n",
       "      <td>1095000</td>\n",
       "    </tr>\n",
       "    <tr>\n",
       "      <th>4</th>\n",
       "      <td>C72</td>\n",
       "      <td>219000</td>\n",
       "      <td>72</td>\n",
       "      <td>1095000</td>\n",
       "    </tr>\n",
       "  </tbody>\n",
       "</table>\n",
       "</div>"
      ],
      "text/plain": [
       "  callsign  total_available_minutes_in_sim callsign_group  \\\n",
       "0      H70                          416100             70   \n",
       "1      C70                          416100             70   \n",
       "2      H71                          240960             71   \n",
       "3      C71                          219000             71   \n",
       "4      C72                          219000             72   \n",
       "\n",
       "   total_available_minutes_in_all_runs  \n",
       "0                              2080500  \n",
       "1                              2080500  \n",
       "2                              1204800  \n",
       "3                              1095000  \n",
       "4                              1095000  "
      ]
     },
     "execution_count": 66,
     "metadata": {},
     "output_type": "execute_result"
    }
   ],
   "source": [
    "total_avail_minutes"
   ]
  },
  {
   "cell_type": "code",
   "execution_count": 67,
   "metadata": {},
   "outputs": [
    {
     "name": "stderr",
     "output_type": "stream",
     "text": [
      "c:\\DAAT\\DAA_DES\\app\\_vehicle_calculation.py:78: SettingWithCopyWarning:\n",
      "\n",
      "\n",
      "A value is trying to be set on a copy of a slice from a DataFrame\n",
      "\n",
      "See the caveats in the documentation: https://pandas.pydata.org/pandas-docs/stable/user_guide/indexing.html#returning-a-view-versus-a-copy\n",
      "\n",
      "c:\\DAAT\\DAA_DES\\app\\_vehicle_calculation.py:85: SettingWithCopyWarning:\n",
      "\n",
      "\n",
      "A value is trying to be set on a copy of a slice from a DataFrame\n",
      "\n",
      "See the caveats in the documentation: https://pandas.pydata.org/pandas-docs/stable/user_guide/indexing.html#returning-a-view-versus-a-copy\n",
      "\n"
     ]
    },
    {
     "data": {
      "text/html": [
       "<div>\n",
       "<style scoped>\n",
       "    .dataframe tbody tr th:only-of-type {\n",
       "        vertical-align: middle;\n",
       "    }\n",
       "\n",
       "    .dataframe tbody tr th {\n",
       "        vertical-align: top;\n",
       "    }\n",
       "\n",
       "    .dataframe thead th {\n",
       "        text-align: right;\n",
       "    }\n",
       "</style>\n",
       "<table border=\"1\" class=\"dataframe\">\n",
       "  <thead>\n",
       "    <tr style=\"text-align: right;\">\n",
       "      <th>event_type</th>\n",
       "      <th>P_ID</th>\n",
       "      <th>run_number</th>\n",
       "      <th>callsign_group</th>\n",
       "      <th>vehicle_type</th>\n",
       "      <th>callsign</th>\n",
       "      <th>resource_use</th>\n",
       "      <th>resource_use_end</th>\n",
       "      <th>resource_use_duration</th>\n",
       "    </tr>\n",
       "  </thead>\n",
       "  <tbody>\n",
       "    <tr>\n",
       "      <th>0</th>\n",
       "      <td>1</td>\n",
       "      <td>1</td>\n",
       "      <td>70.0</td>\n",
       "      <td>car</td>\n",
       "      <td>C70</td>\n",
       "      <td>2025-02-14 08:00:00</td>\n",
       "      <td>2025-02-14 09:05:00</td>\n",
       "      <td>65.0</td>\n",
       "    </tr>\n",
       "    <tr>\n",
       "      <th>1</th>\n",
       "      <td>1</td>\n",
       "      <td>2</td>\n",
       "      <td>70.0</td>\n",
       "      <td>car</td>\n",
       "      <td>C70</td>\n",
       "      <td>2025-02-14 11:00:00</td>\n",
       "      <td>2025-02-14 11:43:00</td>\n",
       "      <td>43.0</td>\n",
       "    </tr>\n",
       "    <tr>\n",
       "      <th>2</th>\n",
       "      <td>1</td>\n",
       "      <td>3</td>\n",
       "      <td>71.0</td>\n",
       "      <td>car</td>\n",
       "      <td>C71</td>\n",
       "      <td>2025-02-14 13:00:00</td>\n",
       "      <td>2025-02-14 14:34:00</td>\n",
       "      <td>94.0</td>\n",
       "    </tr>\n",
       "    <tr>\n",
       "      <th>3</th>\n",
       "      <td>1</td>\n",
       "      <td>4</td>\n",
       "      <td>70.0</td>\n",
       "      <td>car</td>\n",
       "      <td>C70</td>\n",
       "      <td>2025-02-14 08:00:00</td>\n",
       "      <td>2025-02-14 08:23:00</td>\n",
       "      <td>23.0</td>\n",
       "    </tr>\n",
       "    <tr>\n",
       "      <th>4</th>\n",
       "      <td>1</td>\n",
       "      <td>5</td>\n",
       "      <td>71.0</td>\n",
       "      <td>car</td>\n",
       "      <td>C71</td>\n",
       "      <td>2025-02-14 09:00:00</td>\n",
       "      <td>2025-02-14 09:30:00</td>\n",
       "      <td>30.0</td>\n",
       "    </tr>\n",
       "    <tr>\n",
       "      <th>...</th>\n",
       "      <td>...</td>\n",
       "      <td>...</td>\n",
       "      <td>...</td>\n",
       "      <td>...</td>\n",
       "      <td>...</td>\n",
       "      <td>...</td>\n",
       "      <td>...</td>\n",
       "      <td>...</td>\n",
       "    </tr>\n",
       "    <tr>\n",
       "      <th>7319</th>\n",
       "      <td>1679</td>\n",
       "      <td>4</td>\n",
       "      <td>71.0</td>\n",
       "      <td>car</td>\n",
       "      <td>C71</td>\n",
       "      <td>2026-02-12 09:00:00</td>\n",
       "      <td>2026-02-12 12:41:00</td>\n",
       "      <td>221.0</td>\n",
       "    </tr>\n",
       "    <tr>\n",
       "      <th>7320</th>\n",
       "      <td>1680</td>\n",
       "      <td>4</td>\n",
       "      <td>70.0</td>\n",
       "      <td>helicopter</td>\n",
       "      <td>H70</td>\n",
       "      <td>2026-02-13 08:00:00</td>\n",
       "      <td>2026-02-13 08:57:00</td>\n",
       "      <td>57.0</td>\n",
       "    </tr>\n",
       "    <tr>\n",
       "      <th>7321</th>\n",
       "      <td>1681</td>\n",
       "      <td>4</td>\n",
       "      <td>70.0</td>\n",
       "      <td>helicopter</td>\n",
       "      <td>H70</td>\n",
       "      <td>2026-02-13 10:00:00</td>\n",
       "      <td>2026-02-13 10:53:00</td>\n",
       "      <td>53.0</td>\n",
       "    </tr>\n",
       "    <tr>\n",
       "      <th>7322</th>\n",
       "      <td>1682</td>\n",
       "      <td>4</td>\n",
       "      <td>70.0</td>\n",
       "      <td>helicopter</td>\n",
       "      <td>H70</td>\n",
       "      <td>2026-02-13 17:00:00</td>\n",
       "      <td>2026-02-13 17:54:00</td>\n",
       "      <td>54.0</td>\n",
       "    </tr>\n",
       "    <tr>\n",
       "      <th>7323</th>\n",
       "      <td>1683</td>\n",
       "      <td>4</td>\n",
       "      <td>70.0</td>\n",
       "      <td>helicopter</td>\n",
       "      <td>H70</td>\n",
       "      <td>2026-02-13 23:00:00</td>\n",
       "      <td>2026-02-14 00:03:00</td>\n",
       "      <td>63.0</td>\n",
       "    </tr>\n",
       "  </tbody>\n",
       "</table>\n",
       "<p>7324 rows × 8 columns</p>\n",
       "</div>"
      ],
      "text/plain": [
       "event_type  P_ID  run_number  callsign_group vehicle_type callsign  \\\n",
       "0              1           1            70.0          car      C70   \n",
       "1              1           2            70.0          car      C70   \n",
       "2              1           3            71.0          car      C71   \n",
       "3              1           4            70.0          car      C70   \n",
       "4              1           5            71.0          car      C71   \n",
       "...          ...         ...             ...          ...      ...   \n",
       "7319        1679           4            71.0          car      C71   \n",
       "7320        1680           4            70.0   helicopter      H70   \n",
       "7321        1681           4            70.0   helicopter      H70   \n",
       "7322        1682           4            70.0   helicopter      H70   \n",
       "7323        1683           4            70.0   helicopter      H70   \n",
       "\n",
       "event_type        resource_use    resource_use_end  resource_use_duration  \n",
       "0          2025-02-14 08:00:00 2025-02-14 09:05:00                   65.0  \n",
       "1          2025-02-14 11:00:00 2025-02-14 11:43:00                   43.0  \n",
       "2          2025-02-14 13:00:00 2025-02-14 14:34:00                   94.0  \n",
       "3          2025-02-14 08:00:00 2025-02-14 08:23:00                   23.0  \n",
       "4          2025-02-14 09:00:00 2025-02-14 09:30:00                   30.0  \n",
       "...                        ...                 ...                    ...  \n",
       "7319       2026-02-12 09:00:00 2026-02-12 12:41:00                  221.0  \n",
       "7320       2026-02-13 08:00:00 2026-02-13 08:57:00                   57.0  \n",
       "7321       2026-02-13 10:00:00 2026-02-13 10:53:00                   53.0  \n",
       "7322       2026-02-13 17:00:00 2026-02-13 17:54:00                   54.0  \n",
       "7323       2026-02-13 23:00:00 2026-02-14 00:03:00                   63.0  \n",
       "\n",
       "[7324 rows x 8 columns]"
      ]
     },
     "execution_count": 67,
     "metadata": {},
     "output_type": "execute_result"
    }
   ],
   "source": [
    "resource_use_wide, utilisation_df_overall, utilisation_df_per_run, utilisation_df_per_run_by_csg = _utilisation_result_calculation.make_utilisation_model_dataframe()\n",
    "resource_use_wide"
   ]
  },
  {
   "cell_type": "code",
   "execution_count": 68,
   "metadata": {},
   "outputs": [
    {
     "data": {
      "text/html": [
       "<div>\n",
       "<style scoped>\n",
       "    .dataframe tbody tr th:only-of-type {\n",
       "        vertical-align: middle;\n",
       "    }\n",
       "\n",
       "    .dataframe tbody tr th {\n",
       "        vertical-align: top;\n",
       "    }\n",
       "\n",
       "    .dataframe thead th {\n",
       "        text-align: right;\n",
       "    }\n",
       "</style>\n",
       "<table border=\"1\" class=\"dataframe\">\n",
       "  <thead>\n",
       "    <tr style=\"text-align: right;\">\n",
       "      <th></th>\n",
       "      <th>callsign_group</th>\n",
       "      <th>resource_use_duration</th>\n",
       "      <th>total_available_minutes_in_sim</th>\n",
       "      <th>perc_time_in_use</th>\n",
       "      <th>PRINT_perc</th>\n",
       "    </tr>\n",
       "  </thead>\n",
       "  <tbody>\n",
       "    <tr>\n",
       "      <th>0</th>\n",
       "      <td>70.0</td>\n",
       "      <td>98847.4</td>\n",
       "      <td>416100</td>\n",
       "      <td>0.237557</td>\n",
       "      <td>23.8%</td>\n",
       "    </tr>\n",
       "    <tr>\n",
       "      <th>1</th>\n",
       "      <td>71.0</td>\n",
       "      <td>30896.4</td>\n",
       "      <td>240960</td>\n",
       "      <td>0.128222</td>\n",
       "      <td>12.8%</td>\n",
       "    </tr>\n",
       "    <tr>\n",
       "      <th>2</th>\n",
       "      <td>72.0</td>\n",
       "      <td>24608.0</td>\n",
       "      <td>219000</td>\n",
       "      <td>0.112365</td>\n",
       "      <td>11.2%</td>\n",
       "    </tr>\n",
       "  </tbody>\n",
       "</table>\n",
       "</div>"
      ],
      "text/plain": [
       "   callsign_group  resource_use_duration  total_available_minutes_in_sim  \\\n",
       "0            70.0                98847.4                          416100   \n",
       "1            71.0                30896.4                          240960   \n",
       "2            72.0                24608.0                          219000   \n",
       "\n",
       "   perc_time_in_use PRINT_perc  \n",
       "0          0.237557      23.8%  \n",
       "1          0.128222      12.8%  \n",
       "2          0.112365      11.2%  "
      ]
     },
     "execution_count": 68,
     "metadata": {},
     "output_type": "execute_result"
    }
   ],
   "source": [
    "utilisation_df_per_run_by_csg"
   ]
  },
  {
   "cell_type": "code",
   "execution_count": 69,
   "metadata": {},
   "outputs": [
    {
     "data": {
      "text/html": [
       "<div>\n",
       "<style scoped>\n",
       "    .dataframe tbody tr th:only-of-type {\n",
       "        vertical-align: middle;\n",
       "    }\n",
       "\n",
       "    .dataframe tbody tr th {\n",
       "        vertical-align: top;\n",
       "    }\n",
       "\n",
       "    .dataframe thead th {\n",
       "        text-align: right;\n",
       "    }\n",
       "</style>\n",
       "<table border=\"1\" class=\"dataframe\">\n",
       "  <thead>\n",
       "    <tr style=\"text-align: right;\">\n",
       "      <th></th>\n",
       "      <th>callsign</th>\n",
       "      <th>vehicle_type</th>\n",
       "      <th>resource_use_duration</th>\n",
       "      <th>total_available_minutes_in_sim</th>\n",
       "      <th>callsign_group</th>\n",
       "      <th>perc_time_in_use</th>\n",
       "      <th>PRINT_perc</th>\n",
       "    </tr>\n",
       "  </thead>\n",
       "  <tbody>\n",
       "    <tr>\n",
       "      <th>0</th>\n",
       "      <td>C70</td>\n",
       "      <td>car</td>\n",
       "      <td>62066.6</td>\n",
       "      <td>416100</td>\n",
       "      <td>70</td>\n",
       "      <td>0.149163</td>\n",
       "      <td>14.9%</td>\n",
       "    </tr>\n",
       "    <tr>\n",
       "      <th>1</th>\n",
       "      <td>C71</td>\n",
       "      <td>car</td>\n",
       "      <td>19790.8</td>\n",
       "      <td>219000</td>\n",
       "      <td>71</td>\n",
       "      <td>0.090369</td>\n",
       "      <td>9.0%</td>\n",
       "    </tr>\n",
       "    <tr>\n",
       "      <th>2</th>\n",
       "      <td>C72</td>\n",
       "      <td>car</td>\n",
       "      <td>24608.0</td>\n",
       "      <td>219000</td>\n",
       "      <td>72</td>\n",
       "      <td>0.112365</td>\n",
       "      <td>11.2%</td>\n",
       "    </tr>\n",
       "    <tr>\n",
       "      <th>3</th>\n",
       "      <td>H70</td>\n",
       "      <td>helicopter</td>\n",
       "      <td>36780.8</td>\n",
       "      <td>416100</td>\n",
       "      <td>70</td>\n",
       "      <td>0.088394</td>\n",
       "      <td>8.8%</td>\n",
       "    </tr>\n",
       "    <tr>\n",
       "      <th>4</th>\n",
       "      <td>H71</td>\n",
       "      <td>helicopter</td>\n",
       "      <td>11105.6</td>\n",
       "      <td>240960</td>\n",
       "      <td>71</td>\n",
       "      <td>0.046089</td>\n",
       "      <td>4.6%</td>\n",
       "    </tr>\n",
       "  </tbody>\n",
       "</table>\n",
       "</div>"
      ],
      "text/plain": [
       "  callsign vehicle_type  resource_use_duration  \\\n",
       "0      C70          car                62066.6   \n",
       "1      C71          car                19790.8   \n",
       "2      C72          car                24608.0   \n",
       "3      H70   helicopter                36780.8   \n",
       "4      H71   helicopter                11105.6   \n",
       "\n",
       "   total_available_minutes_in_sim callsign_group  perc_time_in_use PRINT_perc  \n",
       "0                          416100             70          0.149163      14.9%  \n",
       "1                          219000             71          0.090369       9.0%  \n",
       "2                          219000             72          0.112365      11.2%  \n",
       "3                          416100             70          0.088394       8.8%  \n",
       "4                          240960             71          0.046089       4.6%  "
      ]
     },
     "execution_count": 69,
     "metadata": {},
     "output_type": "execute_result"
    }
   ],
   "source": [
    "utilisation_df_overall"
   ]
  },
  {
   "cell_type": "code",
   "execution_count": 70,
   "metadata": {},
   "outputs": [
    {
     "data": {
      "text/html": [
       "<div>\n",
       "<style scoped>\n",
       "    .dataframe tbody tr th:only-of-type {\n",
       "        vertical-align: middle;\n",
       "    }\n",
       "\n",
       "    .dataframe tbody tr th {\n",
       "        vertical-align: top;\n",
       "    }\n",
       "\n",
       "    .dataframe thead th {\n",
       "        text-align: right;\n",
       "    }\n",
       "</style>\n",
       "<table border=\"1\" class=\"dataframe\">\n",
       "  <thead>\n",
       "    <tr style=\"text-align: right;\">\n",
       "      <th></th>\n",
       "      <th>run_number</th>\n",
       "      <th>vehicle_type</th>\n",
       "      <th>callsign</th>\n",
       "      <th>resource_use_duration</th>\n",
       "      <th>total_available_minutes_in_sim</th>\n",
       "      <th>callsign_group</th>\n",
       "      <th>perc_time_in_use</th>\n",
       "      <th>PRINT_perc</th>\n",
       "    </tr>\n",
       "  </thead>\n",
       "  <tbody>\n",
       "    <tr>\n",
       "      <th>0</th>\n",
       "      <td>1</td>\n",
       "      <td>car</td>\n",
       "      <td>C70</td>\n",
       "      <td>75646.0</td>\n",
       "      <td>416100</td>\n",
       "      <td>70</td>\n",
       "      <td>0.181798</td>\n",
       "      <td>18.2%</td>\n",
       "    </tr>\n",
       "    <tr>\n",
       "      <th>1</th>\n",
       "      <td>1</td>\n",
       "      <td>car</td>\n",
       "      <td>C71</td>\n",
       "      <td>22941.0</td>\n",
       "      <td>219000</td>\n",
       "      <td>71</td>\n",
       "      <td>0.104753</td>\n",
       "      <td>10.5%</td>\n",
       "    </tr>\n",
       "    <tr>\n",
       "      <th>2</th>\n",
       "      <td>1</td>\n",
       "      <td>car</td>\n",
       "      <td>C72</td>\n",
       "      <td>23569.0</td>\n",
       "      <td>219000</td>\n",
       "      <td>72</td>\n",
       "      <td>0.107621</td>\n",
       "      <td>10.8%</td>\n",
       "    </tr>\n",
       "    <tr>\n",
       "      <th>3</th>\n",
       "      <td>1</td>\n",
       "      <td>helicopter</td>\n",
       "      <td>H70</td>\n",
       "      <td>40950.0</td>\n",
       "      <td>416100</td>\n",
       "      <td>70</td>\n",
       "      <td>0.098414</td>\n",
       "      <td>9.8%</td>\n",
       "    </tr>\n",
       "    <tr>\n",
       "      <th>4</th>\n",
       "      <td>1</td>\n",
       "      <td>helicopter</td>\n",
       "      <td>H71</td>\n",
       "      <td>9439.0</td>\n",
       "      <td>240960</td>\n",
       "      <td>71</td>\n",
       "      <td>0.039172</td>\n",
       "      <td>3.9%</td>\n",
       "    </tr>\n",
       "    <tr>\n",
       "      <th>5</th>\n",
       "      <td>2</td>\n",
       "      <td>car</td>\n",
       "      <td>C70</td>\n",
       "      <td>58411.0</td>\n",
       "      <td>416100</td>\n",
       "      <td>70</td>\n",
       "      <td>0.140377</td>\n",
       "      <td>14.0%</td>\n",
       "    </tr>\n",
       "    <tr>\n",
       "      <th>6</th>\n",
       "      <td>2</td>\n",
       "      <td>car</td>\n",
       "      <td>C71</td>\n",
       "      <td>14477.0</td>\n",
       "      <td>219000</td>\n",
       "      <td>71</td>\n",
       "      <td>0.066105</td>\n",
       "      <td>6.6%</td>\n",
       "    </tr>\n",
       "    <tr>\n",
       "      <th>7</th>\n",
       "      <td>2</td>\n",
       "      <td>car</td>\n",
       "      <td>C72</td>\n",
       "      <td>20813.0</td>\n",
       "      <td>219000</td>\n",
       "      <td>72</td>\n",
       "      <td>0.095037</td>\n",
       "      <td>9.5%</td>\n",
       "    </tr>\n",
       "    <tr>\n",
       "      <th>8</th>\n",
       "      <td>2</td>\n",
       "      <td>helicopter</td>\n",
       "      <td>H70</td>\n",
       "      <td>28842.0</td>\n",
       "      <td>416100</td>\n",
       "      <td>70</td>\n",
       "      <td>0.069315</td>\n",
       "      <td>6.9%</td>\n",
       "    </tr>\n",
       "    <tr>\n",
       "      <th>9</th>\n",
       "      <td>2</td>\n",
       "      <td>helicopter</td>\n",
       "      <td>H71</td>\n",
       "      <td>10375.0</td>\n",
       "      <td>240960</td>\n",
       "      <td>71</td>\n",
       "      <td>0.043057</td>\n",
       "      <td>4.3%</td>\n",
       "    </tr>\n",
       "    <tr>\n",
       "      <th>10</th>\n",
       "      <td>3</td>\n",
       "      <td>car</td>\n",
       "      <td>C70</td>\n",
       "      <td>41906.0</td>\n",
       "      <td>416100</td>\n",
       "      <td>70</td>\n",
       "      <td>0.100711</td>\n",
       "      <td>10.1%</td>\n",
       "    </tr>\n",
       "    <tr>\n",
       "      <th>11</th>\n",
       "      <td>3</td>\n",
       "      <td>car</td>\n",
       "      <td>C71</td>\n",
       "      <td>17418.0</td>\n",
       "      <td>219000</td>\n",
       "      <td>71</td>\n",
       "      <td>0.079534</td>\n",
       "      <td>8.0%</td>\n",
       "    </tr>\n",
       "    <tr>\n",
       "      <th>12</th>\n",
       "      <td>3</td>\n",
       "      <td>car</td>\n",
       "      <td>C72</td>\n",
       "      <td>24781.0</td>\n",
       "      <td>219000</td>\n",
       "      <td>72</td>\n",
       "      <td>0.113155</td>\n",
       "      <td>11.3%</td>\n",
       "    </tr>\n",
       "    <tr>\n",
       "      <th>13</th>\n",
       "      <td>3</td>\n",
       "      <td>helicopter</td>\n",
       "      <td>H70</td>\n",
       "      <td>45831.0</td>\n",
       "      <td>416100</td>\n",
       "      <td>70</td>\n",
       "      <td>0.110144</td>\n",
       "      <td>11.0%</td>\n",
       "    </tr>\n",
       "    <tr>\n",
       "      <th>14</th>\n",
       "      <td>3</td>\n",
       "      <td>helicopter</td>\n",
       "      <td>H71</td>\n",
       "      <td>9962.0</td>\n",
       "      <td>240960</td>\n",
       "      <td>71</td>\n",
       "      <td>0.041343</td>\n",
       "      <td>4.1%</td>\n",
       "    </tr>\n",
       "    <tr>\n",
       "      <th>15</th>\n",
       "      <td>4</td>\n",
       "      <td>car</td>\n",
       "      <td>C70</td>\n",
       "      <td>69246.0</td>\n",
       "      <td>416100</td>\n",
       "      <td>70</td>\n",
       "      <td>0.166417</td>\n",
       "      <td>16.6%</td>\n",
       "    </tr>\n",
       "    <tr>\n",
       "      <th>16</th>\n",
       "      <td>4</td>\n",
       "      <td>car</td>\n",
       "      <td>C71</td>\n",
       "      <td>28350.0</td>\n",
       "      <td>219000</td>\n",
       "      <td>71</td>\n",
       "      <td>0.129452</td>\n",
       "      <td>12.9%</td>\n",
       "    </tr>\n",
       "    <tr>\n",
       "      <th>17</th>\n",
       "      <td>4</td>\n",
       "      <td>car</td>\n",
       "      <td>C72</td>\n",
       "      <td>25570.0</td>\n",
       "      <td>219000</td>\n",
       "      <td>72</td>\n",
       "      <td>0.116758</td>\n",
       "      <td>11.7%</td>\n",
       "    </tr>\n",
       "    <tr>\n",
       "      <th>18</th>\n",
       "      <td>4</td>\n",
       "      <td>helicopter</td>\n",
       "      <td>H70</td>\n",
       "      <td>32356.0</td>\n",
       "      <td>416100</td>\n",
       "      <td>70</td>\n",
       "      <td>0.077760</td>\n",
       "      <td>7.8%</td>\n",
       "    </tr>\n",
       "    <tr>\n",
       "      <th>19</th>\n",
       "      <td>4</td>\n",
       "      <td>helicopter</td>\n",
       "      <td>H71</td>\n",
       "      <td>16765.0</td>\n",
       "      <td>240960</td>\n",
       "      <td>71</td>\n",
       "      <td>0.069576</td>\n",
       "      <td>7.0%</td>\n",
       "    </tr>\n",
       "    <tr>\n",
       "      <th>20</th>\n",
       "      <td>5</td>\n",
       "      <td>car</td>\n",
       "      <td>C70</td>\n",
       "      <td>65124.0</td>\n",
       "      <td>416100</td>\n",
       "      <td>70</td>\n",
       "      <td>0.156510</td>\n",
       "      <td>15.7%</td>\n",
       "    </tr>\n",
       "    <tr>\n",
       "      <th>21</th>\n",
       "      <td>5</td>\n",
       "      <td>car</td>\n",
       "      <td>C71</td>\n",
       "      <td>15768.0</td>\n",
       "      <td>219000</td>\n",
       "      <td>71</td>\n",
       "      <td>0.072000</td>\n",
       "      <td>7.2%</td>\n",
       "    </tr>\n",
       "    <tr>\n",
       "      <th>22</th>\n",
       "      <td>5</td>\n",
       "      <td>car</td>\n",
       "      <td>C72</td>\n",
       "      <td>28307.0</td>\n",
       "      <td>219000</td>\n",
       "      <td>72</td>\n",
       "      <td>0.129256</td>\n",
       "      <td>12.9%</td>\n",
       "    </tr>\n",
       "    <tr>\n",
       "      <th>23</th>\n",
       "      <td>5</td>\n",
       "      <td>helicopter</td>\n",
       "      <td>H70</td>\n",
       "      <td>35925.0</td>\n",
       "      <td>416100</td>\n",
       "      <td>70</td>\n",
       "      <td>0.086337</td>\n",
       "      <td>8.6%</td>\n",
       "    </tr>\n",
       "    <tr>\n",
       "      <th>24</th>\n",
       "      <td>5</td>\n",
       "      <td>helicopter</td>\n",
       "      <td>H71</td>\n",
       "      <td>8987.0</td>\n",
       "      <td>240960</td>\n",
       "      <td>71</td>\n",
       "      <td>0.037297</td>\n",
       "      <td>3.7%</td>\n",
       "    </tr>\n",
       "  </tbody>\n",
       "</table>\n",
       "</div>"
      ],
      "text/plain": [
       "    run_number vehicle_type callsign  resource_use_duration  \\\n",
       "0            1          car      C70                75646.0   \n",
       "1            1          car      C71                22941.0   \n",
       "2            1          car      C72                23569.0   \n",
       "3            1   helicopter      H70                40950.0   \n",
       "4            1   helicopter      H71                 9439.0   \n",
       "5            2          car      C70                58411.0   \n",
       "6            2          car      C71                14477.0   \n",
       "7            2          car      C72                20813.0   \n",
       "8            2   helicopter      H70                28842.0   \n",
       "9            2   helicopter      H71                10375.0   \n",
       "10           3          car      C70                41906.0   \n",
       "11           3          car      C71                17418.0   \n",
       "12           3          car      C72                24781.0   \n",
       "13           3   helicopter      H70                45831.0   \n",
       "14           3   helicopter      H71                 9962.0   \n",
       "15           4          car      C70                69246.0   \n",
       "16           4          car      C71                28350.0   \n",
       "17           4          car      C72                25570.0   \n",
       "18           4   helicopter      H70                32356.0   \n",
       "19           4   helicopter      H71                16765.0   \n",
       "20           5          car      C70                65124.0   \n",
       "21           5          car      C71                15768.0   \n",
       "22           5          car      C72                28307.0   \n",
       "23           5   helicopter      H70                35925.0   \n",
       "24           5   helicopter      H71                 8987.0   \n",
       "\n",
       "    total_available_minutes_in_sim callsign_group  perc_time_in_use PRINT_perc  \n",
       "0                           416100             70          0.181798      18.2%  \n",
       "1                           219000             71          0.104753      10.5%  \n",
       "2                           219000             72          0.107621      10.8%  \n",
       "3                           416100             70          0.098414       9.8%  \n",
       "4                           240960             71          0.039172       3.9%  \n",
       "5                           416100             70          0.140377      14.0%  \n",
       "6                           219000             71          0.066105       6.6%  \n",
       "7                           219000             72          0.095037       9.5%  \n",
       "8                           416100             70          0.069315       6.9%  \n",
       "9                           240960             71          0.043057       4.3%  \n",
       "10                          416100             70          0.100711      10.1%  \n",
       "11                          219000             71          0.079534       8.0%  \n",
       "12                          219000             72          0.113155      11.3%  \n",
       "13                          416100             70          0.110144      11.0%  \n",
       "14                          240960             71          0.041343       4.1%  \n",
       "15                          416100             70          0.166417      16.6%  \n",
       "16                          219000             71          0.129452      12.9%  \n",
       "17                          219000             72          0.116758      11.7%  \n",
       "18                          416100             70          0.077760       7.8%  \n",
       "19                          240960             71          0.069576       7.0%  \n",
       "20                          416100             70          0.156510      15.7%  \n",
       "21                          219000             71          0.072000       7.2%  \n",
       "22                          219000             72          0.129256      12.9%  \n",
       "23                          416100             70          0.086337       8.6%  \n",
       "24                          240960             71          0.037297       3.7%  "
      ]
     },
     "execution_count": 70,
     "metadata": {},
     "output_type": "execute_result"
    }
   ],
   "source": [
    "utilisation_df_per_run"
   ]
  },
  {
   "cell_type": "code",
   "execution_count": 71,
   "metadata": {},
   "outputs": [
    {
     "data": {
      "application/vnd.plotly.v1+json": {
       "config": {
        "plotlyServerURL": "https://plot.ly"
       },
       "data": [
        {
         "alignmentgroup": "True",
         "hovertemplate": "vehicle_type=car<br>perc_time_in_use=%{x}<br>callsign=%{y}<extra></extra>",
         "legendgroup": "car",
         "marker": {
          "color": "#000001"
         },
         "name": "car",
         "notched": false,
         "offsetgroup": "car",
         "orientation": "h",
         "showlegend": true,
         "type": "box",
         "x": [
          0.1817976447969238,
          0.10475342465753425,
          0.10762100456621004,
          0.1403773131458784,
          0.06610502283105023,
          0.0950365296803653,
          0.10071136745974525,
          0.07953424657534247,
          0.11315525114155252,
          0.1664167267483778,
          0.12945205479452054,
          0.1167579908675799,
          0.15651045421773613,
          0.072,
          0.12925570776255707
         ],
         "x0": " ",
         "xaxis": "x",
         "y": [
          "C70",
          "C71",
          "C72",
          "C70",
          "C71",
          "C72",
          "C70",
          "C71",
          "C72",
          "C70",
          "C71",
          "C72",
          "C70",
          "C71",
          "C72"
         ],
         "y0": " ",
         "yaxis": "y"
        },
        {
         "alignmentgroup": "True",
         "hovertemplate": "vehicle_type=helicopter<br>perc_time_in_use=%{x}<br>callsign=%{y}<extra></extra>",
         "legendgroup": "helicopter",
         "marker": {
          "color": "#000002"
         },
         "name": "helicopter",
         "notched": false,
         "offsetgroup": "helicopter",
         "orientation": "h",
         "showlegend": true,
         "type": "box",
         "x": [
          0.09841384282624369,
          0.03917247675962816,
          0.06931506849315068,
          0.04305693891102258,
          0.11014419610670512,
          0.0413429614873838,
          0.07776015380918049,
          0.06957586321381141,
          0.08633741888968997,
          0.037296646746347945
         ],
         "x0": " ",
         "xaxis": "x",
         "y": [
          "H70",
          "H71",
          "H70",
          "H71",
          "H70",
          "H71",
          "H70",
          "H71",
          "H70",
          "H71"
         ],
         "y0": " ",
         "yaxis": "y"
        }
       ],
       "layout": {
        "boxmode": "group",
        "legend": {
         "title": {
          "text": "vehicle_type"
         },
         "tracegroupgap": 0
        },
        "margin": {
         "t": 60
        },
        "template": {
         "data": {
          "candlestick": [
           {
            "decreasing": {
             "line": {
              "color": "#000033"
             }
            },
            "increasing": {
             "line": {
              "color": "#000032"
             }
            },
            "type": "candlestick"
           }
          ],
          "contour": [
           {
            "colorscale": [
             [
              0,
              "#000011"
             ],
             [
              0.1111111111111111,
              "#000012"
             ],
             [
              0.2222222222222222,
              "#000013"
             ],
             [
              0.3333333333333333,
              "#000014"
             ],
             [
              0.4444444444444444,
              "#000015"
             ],
             [
              0.5555555555555556,
              "#000016"
             ],
             [
              0.6666666666666666,
              "#000017"
             ],
             [
              0.7777777777777778,
              "#000018"
             ],
             [
              0.8888888888888888,
              "#000019"
             ],
             [
              1,
              "#000020"
             ]
            ],
            "type": "contour"
           }
          ],
          "contourcarpet": [
           {
            "colorscale": [
             [
              0,
              "#000011"
             ],
             [
              0.1111111111111111,
              "#000012"
             ],
             [
              0.2222222222222222,
              "#000013"
             ],
             [
              0.3333333333333333,
              "#000014"
             ],
             [
              0.4444444444444444,
              "#000015"
             ],
             [
              0.5555555555555556,
              "#000016"
             ],
             [
              0.6666666666666666,
              "#000017"
             ],
             [
              0.7777777777777778,
              "#000018"
             ],
             [
              0.8888888888888888,
              "#000019"
             ],
             [
              1,
              "#000020"
             ]
            ],
            "type": "contourcarpet"
           }
          ],
          "heatmap": [
           {
            "colorscale": [
             [
              0,
              "#000011"
             ],
             [
              0.1111111111111111,
              "#000012"
             ],
             [
              0.2222222222222222,
              "#000013"
             ],
             [
              0.3333333333333333,
              "#000014"
             ],
             [
              0.4444444444444444,
              "#000015"
             ],
             [
              0.5555555555555556,
              "#000016"
             ],
             [
              0.6666666666666666,
              "#000017"
             ],
             [
              0.7777777777777778,
              "#000018"
             ],
             [
              0.8888888888888888,
              "#000019"
             ],
             [
              1,
              "#000020"
             ]
            ],
            "type": "heatmap"
           }
          ],
          "histogram2d": [
           {
            "colorscale": [
             [
              0,
              "#000011"
             ],
             [
              0.1111111111111111,
              "#000012"
             ],
             [
              0.2222222222222222,
              "#000013"
             ],
             [
              0.3333333333333333,
              "#000014"
             ],
             [
              0.4444444444444444,
              "#000015"
             ],
             [
              0.5555555555555556,
              "#000016"
             ],
             [
              0.6666666666666666,
              "#000017"
             ],
             [
              0.7777777777777778,
              "#000018"
             ],
             [
              0.8888888888888888,
              "#000019"
             ],
             [
              1,
              "#000020"
             ]
            ],
            "type": "histogram2d"
           }
          ],
          "icicle": [
           {
            "textfont": {
             "color": "white"
            },
            "type": "icicle"
           }
          ],
          "sankey": [
           {
            "textfont": {
             "color": "#000036"
            },
            "type": "sankey"
           }
          ],
          "scatter": [
           {
            "marker": {
             "line": {
              "width": 0
             }
            },
            "type": "scatter"
           }
          ],
          "table": [
           {
            "cells": {
             "fill": {
              "color": "#000038"
             },
             "font": {
              "color": "#000037"
             },
             "line": {
              "color": "#000039"
             }
            },
            "header": {
             "fill": {
              "color": "#000040"
             },
             "font": {
              "color": "#000036"
             },
             "line": {
              "color": "#000039"
             }
            },
            "type": "table"
           }
          ],
          "waterfall": [
           {
            "connector": {
             "line": {
              "color": "#000036",
              "width": 2
             }
            },
            "decreasing": {
             "marker": {
              "color": "#000033"
             }
            },
            "increasing": {
             "marker": {
              "color": "#000032"
             }
            },
            "totals": {
             "marker": {
              "color": "#000034"
             }
            },
            "type": "waterfall"
           }
          ]
         },
         "layout": {
          "coloraxis": {
           "colorscale": [
            [
             0,
             "#000011"
            ],
            [
             0.1111111111111111,
             "#000012"
            ],
            [
             0.2222222222222222,
             "#000013"
            ],
            [
             0.3333333333333333,
             "#000014"
            ],
            [
             0.4444444444444444,
             "#000015"
            ],
            [
             0.5555555555555556,
             "#000016"
            ],
            [
             0.6666666666666666,
             "#000017"
            ],
            [
             0.7777777777777778,
             "#000018"
            ],
            [
             0.8888888888888888,
             "#000019"
            ],
            [
             1,
             "#000020"
            ]
           ]
          },
          "colorscale": {
           "diverging": [
            [
             0,
             "#000021"
            ],
            [
             0.1,
             "#000022"
            ],
            [
             0.2,
             "#000023"
            ],
            [
             0.3,
             "#000024"
            ],
            [
             0.4,
             "#000025"
            ],
            [
             0.5,
             "#000026"
            ],
            [
             0.6,
             "#000027"
            ],
            [
             0.7,
             "#000028"
            ],
            [
             0.8,
             "#000029"
            ],
            [
             0.9,
             "#000030"
            ],
            [
             1,
             "#000031"
            ]
           ],
           "sequential": [
            [
             0,
             "#000011"
            ],
            [
             0.1111111111111111,
             "#000012"
            ],
            [
             0.2222222222222222,
             "#000013"
            ],
            [
             0.3333333333333333,
             "#000014"
            ],
            [
             0.4444444444444444,
             "#000015"
            ],
            [
             0.5555555555555556,
             "#000016"
            ],
            [
             0.6666666666666666,
             "#000017"
            ],
            [
             0.7777777777777778,
             "#000018"
            ],
            [
             0.8888888888888888,
             "#000019"
            ],
            [
             1,
             "#000020"
            ]
           ],
           "sequentialminus": [
            [
             0,
             "#000011"
            ],
            [
             0.1111111111111111,
             "#000012"
            ],
            [
             0.2222222222222222,
             "#000013"
            ],
            [
             0.3333333333333333,
             "#000014"
            ],
            [
             0.4444444444444444,
             "#000015"
            ],
            [
             0.5555555555555556,
             "#000016"
            ],
            [
             0.6666666666666666,
             "#000017"
            ],
            [
             0.7777777777777778,
             "#000018"
            ],
            [
             0.8888888888888888,
             "#000019"
            ],
            [
             1,
             "#000020"
            ]
           ]
          },
          "colorway": [
           "#000001",
           "#000002",
           "#000003",
           "#000004",
           "#000005",
           "#000006",
           "#000007",
           "#000008",
           "#000009",
           "#000010"
          ]
         }
        },
        "xaxis": {
         "anchor": "y",
         "domain": [
          0,
          1
         ],
         "title": {
          "text": "perc_time_in_use"
         }
        },
        "yaxis": {
         "anchor": "x",
         "domain": [
          0,
          1
         ],
         "title": {
          "text": "callsign"
         }
        }
       }
      }
     },
     "metadata": {},
     "output_type": "display_data"
    }
   ],
   "source": [
    "import plotly.express as px\n",
    "\n",
    "px.box(utilisation_df_per_run.reset_index(),\n",
    "       x=\"perc_time_in_use\",\n",
    "       y=\"callsign\",\n",
    "       color=\"vehicle_type\")"
   ]
  },
  {
   "cell_type": "code",
   "execution_count": 72,
   "metadata": {},
   "outputs": [
    {
     "data": {
      "application/vnd.plotly.v1+json": {
       "config": {
        "plotlyServerURL": "https://plot.ly"
       },
       "data": [
        {
         "alignmentgroup": "True",
         "hovertemplate": "vehicle_type=car<br>callsign=%{x}<br>perc_time_in_use=%{y}<extra></extra>",
         "legendgroup": "car",
         "marker": {
          "color": "#000001",
          "pattern": {
           "shape": ""
          }
         },
         "name": "car",
         "offsetgroup": "car",
         "orientation": "v",
         "showlegend": true,
         "textposition": "auto",
         "type": "bar",
         "x": [
          "C70",
          "C71",
          "C72"
         ],
         "xaxis": "x",
         "y": [
          0.14916270127373227,
          0.0903689497716895,
          0.11236529680365297
         ],
         "yaxis": "y"
        },
        {
         "alignmentgroup": "True",
         "hovertemplate": "vehicle_type=helicopter<br>callsign=%{x}<br>perc_time_in_use=%{y}<extra></extra>",
         "legendgroup": "helicopter",
         "marker": {
          "color": "#000002",
          "pattern": {
           "shape": ""
          }
         },
         "name": "helicopter",
         "offsetgroup": "helicopter",
         "orientation": "v",
         "showlegend": true,
         "textposition": "auto",
         "type": "bar",
         "x": [
          "H70",
          "H71"
         ],
         "xaxis": "x",
         "y": [
          0.088394136024994,
          0.04608897742363878
         ],
         "yaxis": "y"
        }
       ],
       "layout": {
        "barmode": "relative",
        "legend": {
         "title": {
          "text": "vehicle_type"
         },
         "tracegroupgap": 0
        },
        "margin": {
         "t": 60
        },
        "template": {
         "data": {
          "candlestick": [
           {
            "decreasing": {
             "line": {
              "color": "#000033"
             }
            },
            "increasing": {
             "line": {
              "color": "#000032"
             }
            },
            "type": "candlestick"
           }
          ],
          "contour": [
           {
            "colorscale": [
             [
              0,
              "#000011"
             ],
             [
              0.1111111111111111,
              "#000012"
             ],
             [
              0.2222222222222222,
              "#000013"
             ],
             [
              0.3333333333333333,
              "#000014"
             ],
             [
              0.4444444444444444,
              "#000015"
             ],
             [
              0.5555555555555556,
              "#000016"
             ],
             [
              0.6666666666666666,
              "#000017"
             ],
             [
              0.7777777777777778,
              "#000018"
             ],
             [
              0.8888888888888888,
              "#000019"
             ],
             [
              1,
              "#000020"
             ]
            ],
            "type": "contour"
           }
          ],
          "contourcarpet": [
           {
            "colorscale": [
             [
              0,
              "#000011"
             ],
             [
              0.1111111111111111,
              "#000012"
             ],
             [
              0.2222222222222222,
              "#000013"
             ],
             [
              0.3333333333333333,
              "#000014"
             ],
             [
              0.4444444444444444,
              "#000015"
             ],
             [
              0.5555555555555556,
              "#000016"
             ],
             [
              0.6666666666666666,
              "#000017"
             ],
             [
              0.7777777777777778,
              "#000018"
             ],
             [
              0.8888888888888888,
              "#000019"
             ],
             [
              1,
              "#000020"
             ]
            ],
            "type": "contourcarpet"
           }
          ],
          "heatmap": [
           {
            "colorscale": [
             [
              0,
              "#000011"
             ],
             [
              0.1111111111111111,
              "#000012"
             ],
             [
              0.2222222222222222,
              "#000013"
             ],
             [
              0.3333333333333333,
              "#000014"
             ],
             [
              0.4444444444444444,
              "#000015"
             ],
             [
              0.5555555555555556,
              "#000016"
             ],
             [
              0.6666666666666666,
              "#000017"
             ],
             [
              0.7777777777777778,
              "#000018"
             ],
             [
              0.8888888888888888,
              "#000019"
             ],
             [
              1,
              "#000020"
             ]
            ],
            "type": "heatmap"
           }
          ],
          "histogram2d": [
           {
            "colorscale": [
             [
              0,
              "#000011"
             ],
             [
              0.1111111111111111,
              "#000012"
             ],
             [
              0.2222222222222222,
              "#000013"
             ],
             [
              0.3333333333333333,
              "#000014"
             ],
             [
              0.4444444444444444,
              "#000015"
             ],
             [
              0.5555555555555556,
              "#000016"
             ],
             [
              0.6666666666666666,
              "#000017"
             ],
             [
              0.7777777777777778,
              "#000018"
             ],
             [
              0.8888888888888888,
              "#000019"
             ],
             [
              1,
              "#000020"
             ]
            ],
            "type": "histogram2d"
           }
          ],
          "icicle": [
           {
            "textfont": {
             "color": "white"
            },
            "type": "icicle"
           }
          ],
          "sankey": [
           {
            "textfont": {
             "color": "#000036"
            },
            "type": "sankey"
           }
          ],
          "scatter": [
           {
            "marker": {
             "line": {
              "width": 0
             }
            },
            "type": "scatter"
           }
          ],
          "table": [
           {
            "cells": {
             "fill": {
              "color": "#000038"
             },
             "font": {
              "color": "#000037"
             },
             "line": {
              "color": "#000039"
             }
            },
            "header": {
             "fill": {
              "color": "#000040"
             },
             "font": {
              "color": "#000036"
             },
             "line": {
              "color": "#000039"
             }
            },
            "type": "table"
           }
          ],
          "waterfall": [
           {
            "connector": {
             "line": {
              "color": "#000036",
              "width": 2
             }
            },
            "decreasing": {
             "marker": {
              "color": "#000033"
             }
            },
            "increasing": {
             "marker": {
              "color": "#000032"
             }
            },
            "totals": {
             "marker": {
              "color": "#000034"
             }
            },
            "type": "waterfall"
           }
          ]
         },
         "layout": {
          "coloraxis": {
           "colorscale": [
            [
             0,
             "#000011"
            ],
            [
             0.1111111111111111,
             "#000012"
            ],
            [
             0.2222222222222222,
             "#000013"
            ],
            [
             0.3333333333333333,
             "#000014"
            ],
            [
             0.4444444444444444,
             "#000015"
            ],
            [
             0.5555555555555556,
             "#000016"
            ],
            [
             0.6666666666666666,
             "#000017"
            ],
            [
             0.7777777777777778,
             "#000018"
            ],
            [
             0.8888888888888888,
             "#000019"
            ],
            [
             1,
             "#000020"
            ]
           ]
          },
          "colorscale": {
           "diverging": [
            [
             0,
             "#000021"
            ],
            [
             0.1,
             "#000022"
            ],
            [
             0.2,
             "#000023"
            ],
            [
             0.3,
             "#000024"
            ],
            [
             0.4,
             "#000025"
            ],
            [
             0.5,
             "#000026"
            ],
            [
             0.6,
             "#000027"
            ],
            [
             0.7,
             "#000028"
            ],
            [
             0.8,
             "#000029"
            ],
            [
             0.9,
             "#000030"
            ],
            [
             1,
             "#000031"
            ]
           ],
           "sequential": [
            [
             0,
             "#000011"
            ],
            [
             0.1111111111111111,
             "#000012"
            ],
            [
             0.2222222222222222,
             "#000013"
            ],
            [
             0.3333333333333333,
             "#000014"
            ],
            [
             0.4444444444444444,
             "#000015"
            ],
            [
             0.5555555555555556,
             "#000016"
            ],
            [
             0.6666666666666666,
             "#000017"
            ],
            [
             0.7777777777777778,
             "#000018"
            ],
            [
             0.8888888888888888,
             "#000019"
            ],
            [
             1,
             "#000020"
            ]
           ],
           "sequentialminus": [
            [
             0,
             "#000011"
            ],
            [
             0.1111111111111111,
             "#000012"
            ],
            [
             0.2222222222222222,
             "#000013"
            ],
            [
             0.3333333333333333,
             "#000014"
            ],
            [
             0.4444444444444444,
             "#000015"
            ],
            [
             0.5555555555555556,
             "#000016"
            ],
            [
             0.6666666666666666,
             "#000017"
            ],
            [
             0.7777777777777778,
             "#000018"
            ],
            [
             0.8888888888888888,
             "#000019"
            ],
            [
             1,
             "#000020"
            ]
           ]
          },
          "colorway": [
           "#000001",
           "#000002",
           "#000003",
           "#000004",
           "#000005",
           "#000006",
           "#000007",
           "#000008",
           "#000009",
           "#000010"
          ]
         }
        },
        "xaxis": {
         "anchor": "y",
         "domain": [
          0,
          1
         ],
         "title": {
          "text": "callsign"
         }
        },
        "yaxis": {
         "anchor": "x",
         "domain": [
          0,
          1
         ],
         "title": {
          "text": "perc_time_in_use"
         }
        }
       }
      }
     },
     "metadata": {},
     "output_type": "display_data"
    }
   ],
   "source": [
    "px.bar(utilisation_df_overall.reset_index(),\n",
    "       y=\"perc_time_in_use\",\n",
    "       x=\"callsign\",\n",
    "       color=\"vehicle_type\")"
   ]
  },
  {
   "cell_type": "code",
   "execution_count": 73,
   "metadata": {},
   "outputs": [
    {
     "data": {
      "application/vnd.plotly.v1+json": {
       "config": {
        "plotlyServerURL": "https://plot.ly"
       },
       "data": [
        {
         "alignmentgroup": "True",
         "hovertemplate": "Vehicle Type=Car<br>Callsign=%{x}<br>Average Percentage of Available<br>Time Spent in Use=%{y}<extra></extra>",
         "legendgroup": "Car",
         "marker": {
          "color": "#1D428A",
          "pattern": {
           "shape": ""
          }
         },
         "name": "Car",
         "offsetgroup": "Car",
         "orientation": "v",
         "showlegend": true,
         "textposition": "auto",
         "type": "bar",
         "x": [
          "C70",
          "C71",
          "C72"
         ],
         "xaxis": "x",
         "y": [
          0.14916270127373227,
          0.0903689497716895,
          0.11236529680365297
         ],
         "yaxis": "y"
        },
        {
         "alignmentgroup": "True",
         "hovertemplate": "Vehicle Type=Helicopter<br>Callsign=%{x}<br>Average Percentage of Available<br>Time Spent in Use=%{y}<extra></extra>",
         "legendgroup": "Helicopter",
         "marker": {
          "color": "#D50032",
          "pattern": {
           "shape": ""
          }
         },
         "name": "Helicopter",
         "offsetgroup": "Helicopter",
         "orientation": "v",
         "showlegend": true,
         "textposition": "auto",
         "type": "bar",
         "x": [
          "H70",
          "H71"
         ],
         "xaxis": "x",
         "y": [
          0.088394136024994,
          0.04608897742363878
         ],
         "yaxis": "y"
        }
       ],
       "layout": {
        "barmode": "relative",
        "legend": {
         "title": {
          "text": "Vehicle Type"
         },
         "tracegroupgap": 0
        },
        "template": {
         "data": {
          "candlestick": [
           {
            "decreasing": {
             "line": {
              "color": "#000033"
             }
            },
            "increasing": {
             "line": {
              "color": "#000032"
             }
            },
            "type": "candlestick"
           }
          ],
          "contour": [
           {
            "colorscale": [
             [
              0,
              "#000011"
             ],
             [
              0.1111111111111111,
              "#000012"
             ],
             [
              0.2222222222222222,
              "#000013"
             ],
             [
              0.3333333333333333,
              "#000014"
             ],
             [
              0.4444444444444444,
              "#000015"
             ],
             [
              0.5555555555555556,
              "#000016"
             ],
             [
              0.6666666666666666,
              "#000017"
             ],
             [
              0.7777777777777778,
              "#000018"
             ],
             [
              0.8888888888888888,
              "#000019"
             ],
             [
              1,
              "#000020"
             ]
            ],
            "type": "contour"
           }
          ],
          "contourcarpet": [
           {
            "colorscale": [
             [
              0,
              "#000011"
             ],
             [
              0.1111111111111111,
              "#000012"
             ],
             [
              0.2222222222222222,
              "#000013"
             ],
             [
              0.3333333333333333,
              "#000014"
             ],
             [
              0.4444444444444444,
              "#000015"
             ],
             [
              0.5555555555555556,
              "#000016"
             ],
             [
              0.6666666666666666,
              "#000017"
             ],
             [
              0.7777777777777778,
              "#000018"
             ],
             [
              0.8888888888888888,
              "#000019"
             ],
             [
              1,
              "#000020"
             ]
            ],
            "type": "contourcarpet"
           }
          ],
          "heatmap": [
           {
            "colorscale": [
             [
              0,
              "#000011"
             ],
             [
              0.1111111111111111,
              "#000012"
             ],
             [
              0.2222222222222222,
              "#000013"
             ],
             [
              0.3333333333333333,
              "#000014"
             ],
             [
              0.4444444444444444,
              "#000015"
             ],
             [
              0.5555555555555556,
              "#000016"
             ],
             [
              0.6666666666666666,
              "#000017"
             ],
             [
              0.7777777777777778,
              "#000018"
             ],
             [
              0.8888888888888888,
              "#000019"
             ],
             [
              1,
              "#000020"
             ]
            ],
            "type": "heatmap"
           }
          ],
          "histogram2d": [
           {
            "colorscale": [
             [
              0,
              "#000011"
             ],
             [
              0.1111111111111111,
              "#000012"
             ],
             [
              0.2222222222222222,
              "#000013"
             ],
             [
              0.3333333333333333,
              "#000014"
             ],
             [
              0.4444444444444444,
              "#000015"
             ],
             [
              0.5555555555555556,
              "#000016"
             ],
             [
              0.6666666666666666,
              "#000017"
             ],
             [
              0.7777777777777778,
              "#000018"
             ],
             [
              0.8888888888888888,
              "#000019"
             ],
             [
              1,
              "#000020"
             ]
            ],
            "type": "histogram2d"
           }
          ],
          "icicle": [
           {
            "textfont": {
             "color": "white"
            },
            "type": "icicle"
           }
          ],
          "sankey": [
           {
            "textfont": {
             "color": "#000036"
            },
            "type": "sankey"
           }
          ],
          "scatter": [
           {
            "marker": {
             "line": {
              "width": 0
             }
            },
            "type": "scatter"
           }
          ],
          "table": [
           {
            "cells": {
             "fill": {
              "color": "#000038"
             },
             "font": {
              "color": "#000037"
             },
             "line": {
              "color": "#000039"
             }
            },
            "header": {
             "fill": {
              "color": "#000040"
             },
             "font": {
              "color": "#000036"
             },
             "line": {
              "color": "#000039"
             }
            },
            "type": "table"
           }
          ],
          "waterfall": [
           {
            "connector": {
             "line": {
              "color": "#000036",
              "width": 2
             }
            },
            "decreasing": {
             "marker": {
              "color": "#000033"
             }
            },
            "increasing": {
             "marker": {
              "color": "#000032"
             }
            },
            "totals": {
             "marker": {
              "color": "#000034"
             }
            },
            "type": "waterfall"
           }
          ]
         },
         "layout": {
          "coloraxis": {
           "colorscale": [
            [
             0,
             "#000011"
            ],
            [
             0.1111111111111111,
             "#000012"
            ],
            [
             0.2222222222222222,
             "#000013"
            ],
            [
             0.3333333333333333,
             "#000014"
            ],
            [
             0.4444444444444444,
             "#000015"
            ],
            [
             0.5555555555555556,
             "#000016"
            ],
            [
             0.6666666666666666,
             "#000017"
            ],
            [
             0.7777777777777778,
             "#000018"
            ],
            [
             0.8888888888888888,
             "#000019"
            ],
            [
             1,
             "#000020"
            ]
           ]
          },
          "colorscale": {
           "diverging": [
            [
             0,
             "#000021"
            ],
            [
             0.1,
             "#000022"
            ],
            [
             0.2,
             "#000023"
            ],
            [
             0.3,
             "#000024"
            ],
            [
             0.4,
             "#000025"
            ],
            [
             0.5,
             "#000026"
            ],
            [
             0.6,
             "#000027"
            ],
            [
             0.7,
             "#000028"
            ],
            [
             0.8,
             "#000029"
            ],
            [
             0.9,
             "#000030"
            ],
            [
             1,
             "#000031"
            ]
           ],
           "sequential": [
            [
             0,
             "#000011"
            ],
            [
             0.1111111111111111,
             "#000012"
            ],
            [
             0.2222222222222222,
             "#000013"
            ],
            [
             0.3333333333333333,
             "#000014"
            ],
            [
             0.4444444444444444,
             "#000015"
            ],
            [
             0.5555555555555556,
             "#000016"
            ],
            [
             0.6666666666666666,
             "#000017"
            ],
            [
             0.7777777777777778,
             "#000018"
            ],
            [
             0.8888888888888888,
             "#000019"
            ],
            [
             1,
             "#000020"
            ]
           ],
           "sequentialminus": [
            [
             0,
             "#000011"
            ],
            [
             0.1111111111111111,
             "#000012"
            ],
            [
             0.2222222222222222,
             "#000013"
            ],
            [
             0.3333333333333333,
             "#000014"
            ],
            [
             0.4444444444444444,
             "#000015"
            ],
            [
             0.5555555555555556,
             "#000016"
            ],
            [
             0.6666666666666666,
             "#000017"
            ],
            [
             0.7777777777777778,
             "#000018"
            ],
            [
             0.8888888888888888,
             "#000019"
            ],
            [
             1,
             "#000020"
            ]
           ]
          },
          "colorway": [
           "#000001",
           "#000002",
           "#000003",
           "#000004",
           "#000005",
           "#000006",
           "#000007",
           "#000008",
           "#000009",
           "#000010"
          ]
         }
        },
        "title": {
         "text": "Average Resource Utilisation Across All Simulation Runs"
        },
        "xaxis": {
         "anchor": "y",
         "domain": [
          0,
          1
         ],
         "title": {
          "text": "Callsign"
         }
        },
        "yaxis": {
         "anchor": "x",
         "domain": [
          0,
          1
         ],
         "tickformat": ".0%",
         "title": {
          "text": "Average Percentage of Available<br>Time Spent in Use"
         }
        }
       }
      }
     },
     "metadata": {},
     "output_type": "display_data"
    }
   ],
   "source": [
    "_utilisation_result_calculation.make_SIMULATION_utilisation_summary_plot(utilisation_df_overall=utilisation_df_overall)"
   ]
  },
  {
   "cell_type": "code",
   "execution_count": 74,
   "metadata": {},
   "outputs": [
    {
     "data": {
      "application/vnd.plotly.v1+json": {
       "config": {
        "plotlyServerURL": "https://plot.ly"
       },
       "data": [
        {
         "alignmentgroup": "True",
         "hovertemplate": "Vehicle Type=Car<br>Average Percentage of Available<br>Time Spent in Use=%{x}<br>Callsign=%{y}<extra></extra>",
         "legendgroup": "Car",
         "marker": {
          "color": "#1D428A"
         },
         "name": "Car",
         "notched": false,
         "offsetgroup": "Car",
         "orientation": "h",
         "showlegend": true,
         "type": "box",
         "x": [
          0.1817976447969238,
          0.10475342465753425,
          0.10762100456621004,
          0.1403773131458784,
          0.06610502283105023,
          0.0950365296803653,
          0.10071136745974525,
          0.07953424657534247,
          0.11315525114155252,
          0.1664167267483778,
          0.12945205479452054,
          0.1167579908675799,
          0.15651045421773613,
          0.072,
          0.12925570776255707
         ],
         "x0": " ",
         "xaxis": "x",
         "y": [
          "C70",
          "C71",
          "C72",
          "C70",
          "C71",
          "C72",
          "C70",
          "C71",
          "C72",
          "C70",
          "C71",
          "C72",
          "C70",
          "C71",
          "C72"
         ],
         "y0": " ",
         "yaxis": "y"
        },
        {
         "alignmentgroup": "True",
         "hovertemplate": "Vehicle Type=Helicopter<br>Average Percentage of Available<br>Time Spent in Use=%{x}<br>Callsign=%{y}<extra></extra>",
         "legendgroup": "Helicopter",
         "marker": {
          "color": "#D50032"
         },
         "name": "Helicopter",
         "notched": false,
         "offsetgroup": "Helicopter",
         "orientation": "h",
         "showlegend": true,
         "type": "box",
         "x": [
          0.09841384282624369,
          0.03917247675962816,
          0.06931506849315068,
          0.04305693891102258,
          0.11014419610670512,
          0.0413429614873838,
          0.07776015380918049,
          0.06957586321381141,
          0.08633741888968997,
          0.037296646746347945
         ],
         "x0": " ",
         "xaxis": "x",
         "y": [
          "H70",
          "H71",
          "H70",
          "H71",
          "H70",
          "H71",
          "H70",
          "H71",
          "H70",
          "H71"
         ],
         "y0": " ",
         "yaxis": "y"
        }
       ],
       "layout": {
        "boxmode": "group",
        "legend": {
         "title": {
          "text": "Vehicle Type"
         },
         "tracegroupgap": 0
        },
        "template": {
         "data": {
          "candlestick": [
           {
            "decreasing": {
             "line": {
              "color": "#000033"
             }
            },
            "increasing": {
             "line": {
              "color": "#000032"
             }
            },
            "type": "candlestick"
           }
          ],
          "contour": [
           {
            "colorscale": [
             [
              0,
              "#000011"
             ],
             [
              0.1111111111111111,
              "#000012"
             ],
             [
              0.2222222222222222,
              "#000013"
             ],
             [
              0.3333333333333333,
              "#000014"
             ],
             [
              0.4444444444444444,
              "#000015"
             ],
             [
              0.5555555555555556,
              "#000016"
             ],
             [
              0.6666666666666666,
              "#000017"
             ],
             [
              0.7777777777777778,
              "#000018"
             ],
             [
              0.8888888888888888,
              "#000019"
             ],
             [
              1,
              "#000020"
             ]
            ],
            "type": "contour"
           }
          ],
          "contourcarpet": [
           {
            "colorscale": [
             [
              0,
              "#000011"
             ],
             [
              0.1111111111111111,
              "#000012"
             ],
             [
              0.2222222222222222,
              "#000013"
             ],
             [
              0.3333333333333333,
              "#000014"
             ],
             [
              0.4444444444444444,
              "#000015"
             ],
             [
              0.5555555555555556,
              "#000016"
             ],
             [
              0.6666666666666666,
              "#000017"
             ],
             [
              0.7777777777777778,
              "#000018"
             ],
             [
              0.8888888888888888,
              "#000019"
             ],
             [
              1,
              "#000020"
             ]
            ],
            "type": "contourcarpet"
           }
          ],
          "heatmap": [
           {
            "colorscale": [
             [
              0,
              "#000011"
             ],
             [
              0.1111111111111111,
              "#000012"
             ],
             [
              0.2222222222222222,
              "#000013"
             ],
             [
              0.3333333333333333,
              "#000014"
             ],
             [
              0.4444444444444444,
              "#000015"
             ],
             [
              0.5555555555555556,
              "#000016"
             ],
             [
              0.6666666666666666,
              "#000017"
             ],
             [
              0.7777777777777778,
              "#000018"
             ],
             [
              0.8888888888888888,
              "#000019"
             ],
             [
              1,
              "#000020"
             ]
            ],
            "type": "heatmap"
           }
          ],
          "histogram2d": [
           {
            "colorscale": [
             [
              0,
              "#000011"
             ],
             [
              0.1111111111111111,
              "#000012"
             ],
             [
              0.2222222222222222,
              "#000013"
             ],
             [
              0.3333333333333333,
              "#000014"
             ],
             [
              0.4444444444444444,
              "#000015"
             ],
             [
              0.5555555555555556,
              "#000016"
             ],
             [
              0.6666666666666666,
              "#000017"
             ],
             [
              0.7777777777777778,
              "#000018"
             ],
             [
              0.8888888888888888,
              "#000019"
             ],
             [
              1,
              "#000020"
             ]
            ],
            "type": "histogram2d"
           }
          ],
          "icicle": [
           {
            "textfont": {
             "color": "white"
            },
            "type": "icicle"
           }
          ],
          "sankey": [
           {
            "textfont": {
             "color": "#000036"
            },
            "type": "sankey"
           }
          ],
          "scatter": [
           {
            "marker": {
             "line": {
              "width": 0
             }
            },
            "type": "scatter"
           }
          ],
          "table": [
           {
            "cells": {
             "fill": {
              "color": "#000038"
             },
             "font": {
              "color": "#000037"
             },
             "line": {
              "color": "#000039"
             }
            },
            "header": {
             "fill": {
              "color": "#000040"
             },
             "font": {
              "color": "#000036"
             },
             "line": {
              "color": "#000039"
             }
            },
            "type": "table"
           }
          ],
          "waterfall": [
           {
            "connector": {
             "line": {
              "color": "#000036",
              "width": 2
             }
            },
            "decreasing": {
             "marker": {
              "color": "#000033"
             }
            },
            "increasing": {
             "marker": {
              "color": "#000032"
             }
            },
            "totals": {
             "marker": {
              "color": "#000034"
             }
            },
            "type": "waterfall"
           }
          ]
         },
         "layout": {
          "coloraxis": {
           "colorscale": [
            [
             0,
             "#000011"
            ],
            [
             0.1111111111111111,
             "#000012"
            ],
            [
             0.2222222222222222,
             "#000013"
            ],
            [
             0.3333333333333333,
             "#000014"
            ],
            [
             0.4444444444444444,
             "#000015"
            ],
            [
             0.5555555555555556,
             "#000016"
            ],
            [
             0.6666666666666666,
             "#000017"
            ],
            [
             0.7777777777777778,
             "#000018"
            ],
            [
             0.8888888888888888,
             "#000019"
            ],
            [
             1,
             "#000020"
            ]
           ]
          },
          "colorscale": {
           "diverging": [
            [
             0,
             "#000021"
            ],
            [
             0.1,
             "#000022"
            ],
            [
             0.2,
             "#000023"
            ],
            [
             0.3,
             "#000024"
            ],
            [
             0.4,
             "#000025"
            ],
            [
             0.5,
             "#000026"
            ],
            [
             0.6,
             "#000027"
            ],
            [
             0.7,
             "#000028"
            ],
            [
             0.8,
             "#000029"
            ],
            [
             0.9,
             "#000030"
            ],
            [
             1,
             "#000031"
            ]
           ],
           "sequential": [
            [
             0,
             "#000011"
            ],
            [
             0.1111111111111111,
             "#000012"
            ],
            [
             0.2222222222222222,
             "#000013"
            ],
            [
             0.3333333333333333,
             "#000014"
            ],
            [
             0.4444444444444444,
             "#000015"
            ],
            [
             0.5555555555555556,
             "#000016"
            ],
            [
             0.6666666666666666,
             "#000017"
            ],
            [
             0.7777777777777778,
             "#000018"
            ],
            [
             0.8888888888888888,
             "#000019"
            ],
            [
             1,
             "#000020"
            ]
           ],
           "sequentialminus": [
            [
             0,
             "#000011"
            ],
            [
             0.1111111111111111,
             "#000012"
            ],
            [
             0.2222222222222222,
             "#000013"
            ],
            [
             0.3333333333333333,
             "#000014"
            ],
            [
             0.4444444444444444,
             "#000015"
            ],
            [
             0.5555555555555556,
             "#000016"
            ],
            [
             0.6666666666666666,
             "#000017"
            ],
            [
             0.7777777777777778,
             "#000018"
            ],
            [
             0.8888888888888888,
             "#000019"
            ],
            [
             1,
             "#000020"
            ]
           ]
          },
          "colorway": [
           "#000001",
           "#000002",
           "#000003",
           "#000004",
           "#000005",
           "#000006",
           "#000007",
           "#000008",
           "#000009",
           "#000010"
          ]
         }
        },
        "title": {
         "text": "Variation in Resource Utilisation Across All Simulation Runs"
        },
        "xaxis": {
         "anchor": "y",
         "domain": [
          0,
          1
         ],
         "tickformat": ".0%",
         "title": {
          "text": "Average Percentage of Available<br>Time Spent in Use"
         }
        },
        "yaxis": {
         "anchor": "x",
         "domain": [
          0,
          1
         ],
         "title": {
          "text": "Callsign"
         }
        }
       }
      }
     },
     "metadata": {},
     "output_type": "display_data"
    }
   ],
   "source": [
    "_utilisation_result_calculation.make_SIMULATION_utilisation_variation_plot(utilisation_df_per_run=utilisation_df_per_run)"
   ]
  },
  {
   "cell_type": "code",
   "execution_count": 75,
   "metadata": {},
   "outputs": [
    {
     "data": {
      "text/html": [
       "<div>\n",
       "<style scoped>\n",
       "    .dataframe tbody tr th:only-of-type {\n",
       "        vertical-align: middle;\n",
       "    }\n",
       "\n",
       "    .dataframe tbody tr th {\n",
       "        vertical-align: top;\n",
       "    }\n",
       "\n",
       "    .dataframe thead th {\n",
       "        text-align: right;\n",
       "    }\n",
       "</style>\n",
       "<table border=\"1\" class=\"dataframe\">\n",
       "  <thead>\n",
       "    <tr style=\"text-align: right;\">\n",
       "      <th></th>\n",
       "      <th>callsign_group</th>\n",
       "      <th>resource_use_duration</th>\n",
       "      <th>total_available_minutes_in_sim</th>\n",
       "      <th>perc_time_in_use</th>\n",
       "      <th>PRINT_perc</th>\n",
       "    </tr>\n",
       "  </thead>\n",
       "  <tbody>\n",
       "    <tr>\n",
       "      <th>0</th>\n",
       "      <td>70.0</td>\n",
       "      <td>98847.4</td>\n",
       "      <td>416100</td>\n",
       "      <td>0.237557</td>\n",
       "      <td>23.8%</td>\n",
       "    </tr>\n",
       "    <tr>\n",
       "      <th>1</th>\n",
       "      <td>71.0</td>\n",
       "      <td>30896.4</td>\n",
       "      <td>240960</td>\n",
       "      <td>0.128222</td>\n",
       "      <td>12.8%</td>\n",
       "    </tr>\n",
       "    <tr>\n",
       "      <th>2</th>\n",
       "      <td>72.0</td>\n",
       "      <td>24608.0</td>\n",
       "      <td>219000</td>\n",
       "      <td>0.112365</td>\n",
       "      <td>11.2%</td>\n",
       "    </tr>\n",
       "  </tbody>\n",
       "</table>\n",
       "</div>"
      ],
      "text/plain": [
       "   callsign_group  resource_use_duration  total_available_minutes_in_sim  \\\n",
       "0            70.0                98847.4                          416100   \n",
       "1            71.0                30896.4                          240960   \n",
       "2            72.0                24608.0                          219000   \n",
       "\n",
       "   perc_time_in_use PRINT_perc  \n",
       "0          0.237557      23.8%  \n",
       "1          0.128222      12.8%  \n",
       "2          0.112365      11.2%  "
      ]
     },
     "execution_count": 75,
     "metadata": {},
     "output_type": "execute_result"
    }
   ],
   "source": [
    "utilisation_df_per_run_by_csg"
   ]
  },
  {
   "cell_type": "markdown",
   "metadata": {},
   "source": [
    "## Available time calculation"
   ]
  },
  {
   "cell_type": "code",
   "execution_count": 76,
   "metadata": {},
   "outputs": [
    {
     "data": {
      "text/html": [
       "<div>\n",
       "<style scoped>\n",
       "    .dataframe tbody tr th:only-of-type {\n",
       "        vertical-align: middle;\n",
       "    }\n",
       "\n",
       "    .dataframe tbody tr th {\n",
       "        vertical-align: top;\n",
       "    }\n",
       "\n",
       "    .dataframe thead th {\n",
       "        text-align: right;\n",
       "    }\n",
       "</style>\n",
       "<table border=\"1\" class=\"dataframe\">\n",
       "  <thead>\n",
       "    <tr style=\"text-align: right;\">\n",
       "      <th></th>\n",
       "      <th>callsign</th>\n",
       "      <th>summer_start</th>\n",
       "      <th>winter_start</th>\n",
       "      <th>summer_end</th>\n",
       "      <th>winter_end</th>\n",
       "    </tr>\n",
       "  </thead>\n",
       "  <tbody>\n",
       "    <tr>\n",
       "      <th>0</th>\n",
       "      <td>H70</td>\n",
       "      <td>7</td>\n",
       "      <td>7</td>\n",
       "      <td>2</td>\n",
       "      <td>2</td>\n",
       "    </tr>\n",
       "    <tr>\n",
       "      <th>1</th>\n",
       "      <td>CC70</td>\n",
       "      <td>7</td>\n",
       "      <td>7</td>\n",
       "      <td>2</td>\n",
       "      <td>2</td>\n",
       "    </tr>\n",
       "    <tr>\n",
       "      <th>2</th>\n",
       "      <td>H71</td>\n",
       "      <td>7</td>\n",
       "      <td>7</td>\n",
       "      <td>19</td>\n",
       "      <td>17</td>\n",
       "    </tr>\n",
       "    <tr>\n",
       "      <th>3</th>\n",
       "      <td>CC71</td>\n",
       "      <td>9</td>\n",
       "      <td>7</td>\n",
       "      <td>19</td>\n",
       "      <td>17</td>\n",
       "    </tr>\n",
       "    <tr>\n",
       "      <th>4</th>\n",
       "      <td>CC72</td>\n",
       "      <td>8</td>\n",
       "      <td>8</td>\n",
       "      <td>18</td>\n",
       "      <td>18</td>\n",
       "    </tr>\n",
       "  </tbody>\n",
       "</table>\n",
       "</div>"
      ],
      "text/plain": [
       "  callsign  summer_start  winter_start  summer_end  winter_end\n",
       "0      H70             7             7           2           2\n",
       "1     CC70             7             7           2           2\n",
       "2      H71             7             7          19          17\n",
       "3     CC71             9             7          19          17\n",
       "4     CC72             8             8          18          18"
      ]
     },
     "execution_count": 76,
     "metadata": {},
     "output_type": "execute_result"
    }
   ],
   "source": [
    "import pandas as pd\n",
    "hems_rota = pd.read_csv(\"../data/hems_rota_used.csv\")\n",
    "hems_rota[['callsign', 'summer_start', 'winter_start', 'summer_end', 'winter_end']]"
   ]
  },
  {
   "cell_type": "code",
   "execution_count": null,
   "metadata": {},
   "outputs": [],
   "source": []
  },
  {
   "cell_type": "code",
   "execution_count": 77,
   "metadata": {},
   "outputs": [
    {
     "data": {
      "text/html": [
       "<div>\n",
       "<style scoped>\n",
       "    .dataframe tbody tr th:only-of-type {\n",
       "        vertical-align: middle;\n",
       "    }\n",
       "\n",
       "    .dataframe tbody tr th {\n",
       "        vertical-align: top;\n",
       "    }\n",
       "\n",
       "    .dataframe thead th {\n",
       "        text-align: right;\n",
       "    }\n",
       "</style>\n",
       "<table border=\"1\" class=\"dataframe\">\n",
       "  <thead>\n",
       "    <tr style=\"text-align: right;\">\n",
       "      <th></th>\n",
       "      <th>parameter</th>\n",
       "      <th>value</th>\n",
       "    </tr>\n",
       "  </thead>\n",
       "  <tbody>\n",
       "    <tr>\n",
       "      <th>0</th>\n",
       "      <td>sim_duration</td>\n",
       "      <td>525600.0</td>\n",
       "    </tr>\n",
       "    <tr>\n",
       "      <th>1</th>\n",
       "      <td>warm_up_duration</td>\n",
       "      <td>0.0</td>\n",
       "    </tr>\n",
       "    <tr>\n",
       "      <th>2</th>\n",
       "      <td>sim_start_date</td>\n",
       "      <td>2025-02-14 08:00:00</td>\n",
       "    </tr>\n",
       "    <tr>\n",
       "      <th>3</th>\n",
       "      <td>sim_end_date</td>\n",
       "      <td>2026-02-14 08:00:00</td>\n",
       "    </tr>\n",
       "    <tr>\n",
       "      <th>4</th>\n",
       "      <td>warm_up_end_date</td>\n",
       "      <td>2025-02-14 08:00:00</td>\n",
       "    </tr>\n",
       "    <tr>\n",
       "      <th>5</th>\n",
       "      <td>amb_data</td>\n",
       "      <td>False</td>\n",
       "    </tr>\n",
       "    <tr>\n",
       "      <th>6</th>\n",
       "      <td>model_exec_time</td>\n",
       "      <td>2025-02-14 08:42:29.863301</td>\n",
       "    </tr>\n",
       "    <tr>\n",
       "      <th>7</th>\n",
       "      <td>summer_start_date</td>\n",
       "      <td>2025-04-01</td>\n",
       "    </tr>\n",
       "    <tr>\n",
       "      <th>8</th>\n",
       "      <td>winter_start_date</td>\n",
       "      <td>2025-10-01</td>\n",
       "    </tr>\n",
       "  </tbody>\n",
       "</table>\n",
       "</div>"
      ],
      "text/plain": [
       "           parameter                       value\n",
       "0       sim_duration                    525600.0\n",
       "1   warm_up_duration                         0.0\n",
       "2     sim_start_date         2025-02-14 08:00:00\n",
       "3       sim_end_date         2026-02-14 08:00:00\n",
       "4   warm_up_end_date         2025-02-14 08:00:00\n",
       "5           amb_data                       False\n",
       "6    model_exec_time  2025-02-14 08:42:29.863301\n",
       "7  summer_start_date                  2025-04-01\n",
       "8  winter_start_date                  2025-10-01"
      ]
     },
     "execution_count": 77,
     "metadata": {},
     "output_type": "execute_result"
    }
   ],
   "source": [
    "params = pd.read_csv(\"../data/run_params_used.csv\")\n",
    "params"
   ]
  },
  {
   "cell_type": "code",
   "execution_count": 78,
   "metadata": {},
   "outputs": [],
   "source": [
    "import _processing_functions\n",
    "from datetime import datetime"
   ]
  },
  {
   "cell_type": "code",
   "execution_count": 79,
   "metadata": {},
   "outputs": [
    {
     "data": {
      "text/html": [
       "<div>\n",
       "<style scoped>\n",
       "    .dataframe tbody tr th:only-of-type {\n",
       "        vertical-align: middle;\n",
       "    }\n",
       "\n",
       "    .dataframe tbody tr th {\n",
       "        vertical-align: top;\n",
       "    }\n",
       "\n",
       "    .dataframe thead th {\n",
       "        text-align: right;\n",
       "    }\n",
       "</style>\n",
       "<table border=\"1\" class=\"dataframe\">\n",
       "  <thead>\n",
       "    <tr style=\"text-align: right;\">\n",
       "      <th></th>\n",
       "      <th>date</th>\n",
       "      <th>is_summer</th>\n",
       "      <th>H70</th>\n",
       "      <th>CC70</th>\n",
       "      <th>H71</th>\n",
       "      <th>CC71</th>\n",
       "      <th>CC72</th>\n",
       "    </tr>\n",
       "  </thead>\n",
       "  <tbody>\n",
       "    <tr>\n",
       "      <th>0</th>\n",
       "      <td>2025-02-14</td>\n",
       "      <td>False</td>\n",
       "      <td>0</td>\n",
       "      <td>0</td>\n",
       "      <td>0</td>\n",
       "      <td>0</td>\n",
       "      <td>0</td>\n",
       "    </tr>\n",
       "    <tr>\n",
       "      <th>1</th>\n",
       "      <td>2025-02-15</td>\n",
       "      <td>False</td>\n",
       "      <td>0</td>\n",
       "      <td>0</td>\n",
       "      <td>0</td>\n",
       "      <td>0</td>\n",
       "      <td>0</td>\n",
       "    </tr>\n",
       "    <tr>\n",
       "      <th>2</th>\n",
       "      <td>2025-02-16</td>\n",
       "      <td>False</td>\n",
       "      <td>0</td>\n",
       "      <td>0</td>\n",
       "      <td>0</td>\n",
       "      <td>0</td>\n",
       "      <td>0</td>\n",
       "    </tr>\n",
       "    <tr>\n",
       "      <th>3</th>\n",
       "      <td>2025-02-17</td>\n",
       "      <td>False</td>\n",
       "      <td>0</td>\n",
       "      <td>0</td>\n",
       "      <td>0</td>\n",
       "      <td>0</td>\n",
       "      <td>0</td>\n",
       "    </tr>\n",
       "    <tr>\n",
       "      <th>4</th>\n",
       "      <td>2025-02-18</td>\n",
       "      <td>False</td>\n",
       "      <td>0</td>\n",
       "      <td>0</td>\n",
       "      <td>0</td>\n",
       "      <td>0</td>\n",
       "      <td>0</td>\n",
       "    </tr>\n",
       "    <tr>\n",
       "      <th>...</th>\n",
       "      <td>...</td>\n",
       "      <td>...</td>\n",
       "      <td>...</td>\n",
       "      <td>...</td>\n",
       "      <td>...</td>\n",
       "      <td>...</td>\n",
       "      <td>...</td>\n",
       "    </tr>\n",
       "    <tr>\n",
       "      <th>361</th>\n",
       "      <td>2026-02-10</td>\n",
       "      <td>False</td>\n",
       "      <td>0</td>\n",
       "      <td>0</td>\n",
       "      <td>0</td>\n",
       "      <td>0</td>\n",
       "      <td>0</td>\n",
       "    </tr>\n",
       "    <tr>\n",
       "      <th>362</th>\n",
       "      <td>2026-02-11</td>\n",
       "      <td>False</td>\n",
       "      <td>0</td>\n",
       "      <td>0</td>\n",
       "      <td>0</td>\n",
       "      <td>0</td>\n",
       "      <td>0</td>\n",
       "    </tr>\n",
       "    <tr>\n",
       "      <th>363</th>\n",
       "      <td>2026-02-12</td>\n",
       "      <td>False</td>\n",
       "      <td>0</td>\n",
       "      <td>0</td>\n",
       "      <td>0</td>\n",
       "      <td>0</td>\n",
       "      <td>0</td>\n",
       "    </tr>\n",
       "    <tr>\n",
       "      <th>364</th>\n",
       "      <td>2026-02-13</td>\n",
       "      <td>False</td>\n",
       "      <td>0</td>\n",
       "      <td>0</td>\n",
       "      <td>0</td>\n",
       "      <td>0</td>\n",
       "      <td>0</td>\n",
       "    </tr>\n",
       "    <tr>\n",
       "      <th>365</th>\n",
       "      <td>2026-02-14</td>\n",
       "      <td>False</td>\n",
       "      <td>0</td>\n",
       "      <td>0</td>\n",
       "      <td>0</td>\n",
       "      <td>0</td>\n",
       "      <td>0</td>\n",
       "    </tr>\n",
       "  </tbody>\n",
       "</table>\n",
       "<p>366 rows × 7 columns</p>\n",
       "</div>"
      ],
      "text/plain": [
       "          date  is_summer  H70  CC70  H71  CC71  CC72\n",
       "0   2025-02-14      False    0     0    0     0     0\n",
       "1   2025-02-15      False    0     0    0     0     0\n",
       "2   2025-02-16      False    0     0    0     0     0\n",
       "3   2025-02-17      False    0     0    0     0     0\n",
       "4   2025-02-18      False    0     0    0     0     0\n",
       "..         ...        ...  ...   ...  ...   ...   ...\n",
       "361 2026-02-10      False    0     0    0     0     0\n",
       "362 2026-02-11      False    0     0    0     0     0\n",
       "363 2026-02-12      False    0     0    0     0     0\n",
       "364 2026-02-13      False    0     0    0     0     0\n",
       "365 2026-02-14      False    0     0    0     0     0\n",
       "\n",
       "[366 rows x 7 columns]"
      ]
     },
     "execution_count": 79,
     "metadata": {},
     "output_type": "execute_result"
    }
   ],
   "source": [
    "warm_up_end = _processing_functions.get_param(\"warm_up_end_date\", params)\n",
    "warm_up_end = datetime.strptime(warm_up_end, \"%Y-%m-%d %H:%M:%S\")\n",
    "sim_end = _processing_functions.get_param(\"sim_end_date\", params)\n",
    "sim_end = datetime.strptime(sim_end, \"%Y-%m-%d %H:%M:%S\")\n",
    "\n",
    "\n",
    "date_range = pd.date_range(start=warm_up_end.date(),\n",
    "                           end=sim_end.date(),\n",
    "                           freq='D')\n",
    "df = pd.DataFrame({'date': date_range})\n",
    "\n",
    "summer_start = datetime.strptime(_processing_functions.get_param(\"summer_start_date\", params), \"%Y-%m-%d\")\n",
    "winter_start = datetime.strptime(_processing_functions.get_param(\"winter_start_date\", params), \"%Y-%m-%d\")\n",
    "\n",
    "summer_start_month_day = pd.to_datetime(summer_start).strftime('%m-%d')\n",
    "winter_start_month_day = pd.to_datetime(winter_start).strftime('%m-%d')\n",
    "\n",
    "def is_summer(date):\n",
    "        year = date.year\n",
    "        summer_start_date = pd.to_datetime(f\"{year}-{summer_start_month_day}\")\n",
    "        winter_start_date = pd.to_datetime(f\"{year}-{winter_start_month_day}\")\n",
    "        return summer_start_date <= date < winter_start_date\n",
    "\n",
    "df['is_summer'] = df['date'].apply(is_summer)\n",
    "\n",
    "# Fill with a blank column for each callsign\n",
    "for callsign in hems_rota.callsign:\n",
    "    df[callsign] = 0\n",
    "\n",
    "df"
   ]
  },
  {
   "cell_type": "code",
   "execution_count": 80,
   "metadata": {},
   "outputs": [
    {
     "name": "stderr",
     "output_type": "stream",
     "text": [
      "C:\\Users\\Sammi\\AppData\\Local\\Temp\\ipykernel_67572\\87864462.py:28: SettingWithCopyWarning:\n",
      "\n",
      "\n",
      "A value is trying to be set on a copy of a slice from a DataFrame\n",
      "\n",
      "See the caveats in the documentation: https://pandas.pydata.org/pandas-docs/stable/user_guide/indexing.html#returning-a-view-versus-a-copy\n",
      "\n",
      "C:\\Users\\Sammi\\AppData\\Local\\Temp\\ipykernel_67572\\87864462.py:35: SettingWithCopyWarning:\n",
      "\n",
      "\n",
      "A value is trying to be set on a copy of a slice from a DataFrame\n",
      "\n",
      "See the caveats in the documentation: https://pandas.pydata.org/pandas-docs/stable/user_guide/indexing.html#returning-a-view-versus-a-copy\n",
      "\n"
     ]
    },
    {
     "data": {
      "text/html": [
       "<div>\n",
       "<style scoped>\n",
       "    .dataframe tbody tr th:only-of-type {\n",
       "        vertical-align: middle;\n",
       "    }\n",
       "\n",
       "    .dataframe tbody tr th {\n",
       "        vertical-align: top;\n",
       "    }\n",
       "\n",
       "    .dataframe thead th {\n",
       "        text-align: right;\n",
       "    }\n",
       "</style>\n",
       "<table border=\"1\" class=\"dataframe\">\n",
       "  <thead>\n",
       "    <tr style=\"text-align: right;\">\n",
       "      <th></th>\n",
       "      <th>date</th>\n",
       "      <th>is_summer</th>\n",
       "      <th>H70</th>\n",
       "      <th>CC70</th>\n",
       "      <th>H71</th>\n",
       "      <th>CC71</th>\n",
       "      <th>CC72</th>\n",
       "    </tr>\n",
       "  </thead>\n",
       "  <tbody>\n",
       "    <tr>\n",
       "      <th>0</th>\n",
       "      <td>2025-02-14</td>\n",
       "      <td>False</td>\n",
       "      <td>11</td>\n",
       "      <td>11</td>\n",
       "      <td>2</td>\n",
       "      <td>2</td>\n",
       "      <td>2</td>\n",
       "    </tr>\n",
       "    <tr>\n",
       "      <th>1</th>\n",
       "      <td>2025-02-15</td>\n",
       "      <td>False</td>\n",
       "      <td>19</td>\n",
       "      <td>19</td>\n",
       "      <td>10</td>\n",
       "      <td>10</td>\n",
       "      <td>10</td>\n",
       "    </tr>\n",
       "    <tr>\n",
       "      <th>2</th>\n",
       "      <td>2025-02-16</td>\n",
       "      <td>False</td>\n",
       "      <td>19</td>\n",
       "      <td>19</td>\n",
       "      <td>10</td>\n",
       "      <td>10</td>\n",
       "      <td>10</td>\n",
       "    </tr>\n",
       "    <tr>\n",
       "      <th>3</th>\n",
       "      <td>2025-02-17</td>\n",
       "      <td>False</td>\n",
       "      <td>19</td>\n",
       "      <td>19</td>\n",
       "      <td>10</td>\n",
       "      <td>10</td>\n",
       "      <td>10</td>\n",
       "    </tr>\n",
       "    <tr>\n",
       "      <th>4</th>\n",
       "      <td>2025-02-18</td>\n",
       "      <td>False</td>\n",
       "      <td>19</td>\n",
       "      <td>19</td>\n",
       "      <td>10</td>\n",
       "      <td>10</td>\n",
       "      <td>10</td>\n",
       "    </tr>\n",
       "    <tr>\n",
       "      <th>...</th>\n",
       "      <td>...</td>\n",
       "      <td>...</td>\n",
       "      <td>...</td>\n",
       "      <td>...</td>\n",
       "      <td>...</td>\n",
       "      <td>...</td>\n",
       "      <td>...</td>\n",
       "    </tr>\n",
       "    <tr>\n",
       "      <th>361</th>\n",
       "      <td>2026-02-10</td>\n",
       "      <td>False</td>\n",
       "      <td>19</td>\n",
       "      <td>19</td>\n",
       "      <td>10</td>\n",
       "      <td>10</td>\n",
       "      <td>10</td>\n",
       "    </tr>\n",
       "    <tr>\n",
       "      <th>362</th>\n",
       "      <td>2026-02-11</td>\n",
       "      <td>False</td>\n",
       "      <td>19</td>\n",
       "      <td>19</td>\n",
       "      <td>10</td>\n",
       "      <td>10</td>\n",
       "      <td>10</td>\n",
       "    </tr>\n",
       "    <tr>\n",
       "      <th>363</th>\n",
       "      <td>2026-02-12</td>\n",
       "      <td>False</td>\n",
       "      <td>19</td>\n",
       "      <td>19</td>\n",
       "      <td>10</td>\n",
       "      <td>10</td>\n",
       "      <td>10</td>\n",
       "    </tr>\n",
       "    <tr>\n",
       "      <th>364</th>\n",
       "      <td>2026-02-13</td>\n",
       "      <td>False</td>\n",
       "      <td>19</td>\n",
       "      <td>19</td>\n",
       "      <td>10</td>\n",
       "      <td>10</td>\n",
       "      <td>10</td>\n",
       "    </tr>\n",
       "    <tr>\n",
       "      <th>365</th>\n",
       "      <td>2026-02-14</td>\n",
       "      <td>False</td>\n",
       "      <td>8</td>\n",
       "      <td>8</td>\n",
       "      <td>8</td>\n",
       "      <td>8</td>\n",
       "      <td>8</td>\n",
       "    </tr>\n",
       "  </tbody>\n",
       "</table>\n",
       "<p>366 rows × 7 columns</p>\n",
       "</div>"
      ],
      "text/plain": [
       "          date  is_summer  H70  CC70  H71  CC71  CC72\n",
       "0   2025-02-14      False   11    11    2     2     2\n",
       "1   2025-02-15      False   19    19   10    10    10\n",
       "2   2025-02-16      False   19    19   10    10    10\n",
       "3   2025-02-17      False   19    19   10    10    10\n",
       "4   2025-02-18      False   19    19   10    10    10\n",
       "..         ...        ...  ...   ...  ...   ...   ...\n",
       "361 2026-02-10      False   19    19   10    10    10\n",
       "362 2026-02-11      False   19    19   10    10    10\n",
       "363 2026-02-12      False   19    19   10    10    10\n",
       "364 2026-02-13      False   19    19   10    10    10\n",
       "365 2026-02-14      False    8     8    8     8     8\n",
       "\n",
       "[366 rows x 7 columns]"
      ]
     },
     "execution_count": 80,
     "metadata": {},
     "output_type": "execute_result"
    }
   ],
   "source": [
    "def update_availability(df, rota):\n",
    "    df = df.copy()\n",
    "\n",
    "    for _, row in rota.iterrows():\n",
    "        callsign = row['callsign']\n",
    "        summer_start, winter_start = row['summer_start'], row['winter_start']\n",
    "        summer_end, winter_end = row['summer_end'], row['winter_end']\n",
    "\n",
    "        for i in range(len(df)):\n",
    "            is_summer = df.at[i, 'is_summer']\n",
    "            start_time = summer_start if is_summer else winter_start\n",
    "            end_time = summer_end if is_summer else winter_end\n",
    "\n",
    "            # Handle end time past midnight\n",
    "            if end_time < start_time:\n",
    "                duration = (24 - start_time) + end_time\n",
    "                df.at[i, callsign] = duration\n",
    "\n",
    "                if i + 1 < len(df):  # Add extra hours to next day\n",
    "                    df.at[i + 1, callsign] = df.at[i + 1, callsign] + end_time\n",
    "            else:\n",
    "                df.at[i, callsign] = end_time - start_time\n",
    "\n",
    "    # Adjust for simulation start time\n",
    "    first_day = df.iloc[0]\n",
    "    for callsign in rota['callsign']:\n",
    "        if first_day[callsign] > 0:\n",
    "            first_day[callsign] = max(0, first_day[callsign] - warm_up_end.hour)\n",
    "    df.iloc[0] = first_day\n",
    "\n",
    "    # Adjust for simulation end time\n",
    "    last_day = df.iloc[-1]\n",
    "    for callsign in rota['callsign']:\n",
    "        if last_day[callsign] > 0:\n",
    "            last_day[callsign] = min(last_day[callsign], sim_end.hour)\n",
    "    df.iloc[-1] = last_day\n",
    "\n",
    "    return df\n",
    "\n",
    "update_availability(df, hems_rota)"
   ]
  },
  {
   "cell_type": "code",
   "execution_count": 81,
   "metadata": {},
   "outputs": [
    {
     "name": "stderr",
     "output_type": "stream",
     "text": [
      "C:\\Users\\Sammi\\AppData\\Local\\Temp\\ipykernel_67572\\87864462.py:28: SettingWithCopyWarning:\n",
      "\n",
      "\n",
      "A value is trying to be set on a copy of a slice from a DataFrame\n",
      "\n",
      "See the caveats in the documentation: https://pandas.pydata.org/pandas-docs/stable/user_guide/indexing.html#returning-a-view-versus-a-copy\n",
      "\n",
      "C:\\Users\\Sammi\\AppData\\Local\\Temp\\ipykernel_67572\\87864462.py:35: SettingWithCopyWarning:\n",
      "\n",
      "\n",
      "A value is trying to be set on a copy of a slice from a DataFrame\n",
      "\n",
      "See the caveats in the documentation: https://pandas.pydata.org/pandas-docs/stable/user_guide/indexing.html#returning-a-view-versus-a-copy\n",
      "\n"
     ]
    },
    {
     "data": {
      "text/html": [
       "<div>\n",
       "<style scoped>\n",
       "    .dataframe tbody tr th:only-of-type {\n",
       "        vertical-align: middle;\n",
       "    }\n",
       "\n",
       "    .dataframe tbody tr th {\n",
       "        vertical-align: top;\n",
       "    }\n",
       "\n",
       "    .dataframe thead th {\n",
       "        text-align: right;\n",
       "    }\n",
       "</style>\n",
       "<table border=\"1\" class=\"dataframe\">\n",
       "  <thead>\n",
       "    <tr style=\"text-align: right;\">\n",
       "      <th></th>\n",
       "      <th>date</th>\n",
       "      <th>is_summer</th>\n",
       "      <th>H70</th>\n",
       "      <th>CC70</th>\n",
       "      <th>H71</th>\n",
       "      <th>CC71</th>\n",
       "      <th>CC72</th>\n",
       "    </tr>\n",
       "  </thead>\n",
       "  <tbody>\n",
       "    <tr>\n",
       "      <th>0</th>\n",
       "      <td>2025-02-14</td>\n",
       "      <td>False</td>\n",
       "      <td>11</td>\n",
       "      <td>11</td>\n",
       "      <td>2</td>\n",
       "      <td>2</td>\n",
       "      <td>2</td>\n",
       "    </tr>\n",
       "    <tr>\n",
       "      <th>1</th>\n",
       "      <td>2025-02-15</td>\n",
       "      <td>False</td>\n",
       "      <td>19</td>\n",
       "      <td>19</td>\n",
       "      <td>10</td>\n",
       "      <td>10</td>\n",
       "      <td>10</td>\n",
       "    </tr>\n",
       "    <tr>\n",
       "      <th>2</th>\n",
       "      <td>2025-02-16</td>\n",
       "      <td>False</td>\n",
       "      <td>19</td>\n",
       "      <td>19</td>\n",
       "      <td>10</td>\n",
       "      <td>10</td>\n",
       "      <td>10</td>\n",
       "    </tr>\n",
       "    <tr>\n",
       "      <th>3</th>\n",
       "      <td>2025-02-17</td>\n",
       "      <td>False</td>\n",
       "      <td>19</td>\n",
       "      <td>19</td>\n",
       "      <td>10</td>\n",
       "      <td>10</td>\n",
       "      <td>10</td>\n",
       "    </tr>\n",
       "    <tr>\n",
       "      <th>4</th>\n",
       "      <td>2025-02-18</td>\n",
       "      <td>False</td>\n",
       "      <td>19</td>\n",
       "      <td>19</td>\n",
       "      <td>10</td>\n",
       "      <td>10</td>\n",
       "      <td>10</td>\n",
       "    </tr>\n",
       "    <tr>\n",
       "      <th>...</th>\n",
       "      <td>...</td>\n",
       "      <td>...</td>\n",
       "      <td>...</td>\n",
       "      <td>...</td>\n",
       "      <td>...</td>\n",
       "      <td>...</td>\n",
       "      <td>...</td>\n",
       "    </tr>\n",
       "    <tr>\n",
       "      <th>361</th>\n",
       "      <td>2026-02-10</td>\n",
       "      <td>False</td>\n",
       "      <td>19</td>\n",
       "      <td>19</td>\n",
       "      <td>10</td>\n",
       "      <td>10</td>\n",
       "      <td>10</td>\n",
       "    </tr>\n",
       "    <tr>\n",
       "      <th>362</th>\n",
       "      <td>2026-02-11</td>\n",
       "      <td>False</td>\n",
       "      <td>19</td>\n",
       "      <td>19</td>\n",
       "      <td>10</td>\n",
       "      <td>10</td>\n",
       "      <td>10</td>\n",
       "    </tr>\n",
       "    <tr>\n",
       "      <th>363</th>\n",
       "      <td>2026-02-12</td>\n",
       "      <td>False</td>\n",
       "      <td>19</td>\n",
       "      <td>19</td>\n",
       "      <td>10</td>\n",
       "      <td>10</td>\n",
       "      <td>10</td>\n",
       "    </tr>\n",
       "    <tr>\n",
       "      <th>364</th>\n",
       "      <td>2026-02-13</td>\n",
       "      <td>False</td>\n",
       "      <td>19</td>\n",
       "      <td>19</td>\n",
       "      <td>10</td>\n",
       "      <td>10</td>\n",
       "      <td>10</td>\n",
       "    </tr>\n",
       "    <tr>\n",
       "      <th>365</th>\n",
       "      <td>2026-02-14</td>\n",
       "      <td>False</td>\n",
       "      <td>8</td>\n",
       "      <td>8</td>\n",
       "      <td>8</td>\n",
       "      <td>8</td>\n",
       "      <td>8</td>\n",
       "    </tr>\n",
       "  </tbody>\n",
       "</table>\n",
       "<p>366 rows × 7 columns</p>\n",
       "</div>"
      ],
      "text/plain": [
       "          date  is_summer  H70  CC70  H71  CC71  CC72\n",
       "0   2025-02-14      False   11    11    2     2     2\n",
       "1   2025-02-15      False   19    19   10    10    10\n",
       "2   2025-02-16      False   19    19   10    10    10\n",
       "3   2025-02-17      False   19    19   10    10    10\n",
       "4   2025-02-18      False   19    19   10    10    10\n",
       "..         ...        ...  ...   ...  ...   ...   ...\n",
       "361 2026-02-10      False   19    19   10    10    10\n",
       "362 2026-02-11      False   19    19   10    10    10\n",
       "363 2026-02-12      False   19    19   10    10    10\n",
       "364 2026-02-13      False   19    19   10    10    10\n",
       "365 2026-02-14      False    8     8    8     8     8\n",
       "\n",
       "[366 rows x 7 columns]"
      ]
     },
     "execution_count": 81,
     "metadata": {},
     "output_type": "execute_result"
    }
   ],
   "source": [
    "df_avail = update_availability(df, hems_rota)\n",
    "df_avail"
   ]
  },
  {
   "cell_type": "code",
   "execution_count": 82,
   "metadata": {},
   "outputs": [],
   "source": [
    "avail_hours = df_avail.drop(columns=['is_summer']).sum(axis=0, numeric_only=True)"
   ]
  },
  {
   "cell_type": "markdown",
   "metadata": {},
   "source": [
    "## Headline figure calculation"
   ]
  },
  {
   "cell_type": "code",
   "execution_count": 83,
   "metadata": {},
   "outputs": [
    {
     "data": {
      "text/html": [
       "<div>\n",
       "<style scoped>\n",
       "    .dataframe tbody tr th:only-of-type {\n",
       "        vertical-align: middle;\n",
       "    }\n",
       "\n",
       "    .dataframe tbody tr th {\n",
       "        vertical-align: top;\n",
       "    }\n",
       "\n",
       "    .dataframe thead th {\n",
       "        text-align: right;\n",
       "    }\n",
       "</style>\n",
       "<table border=\"1\" class=\"dataframe\">\n",
       "  <thead>\n",
       "    <tr style=\"text-align: right;\">\n",
       "      <th></th>\n",
       "      <th>callsign</th>\n",
       "      <th>vehicle_type</th>\n",
       "      <th>resource_use_duration</th>\n",
       "      <th>total_available_minutes_in_sim</th>\n",
       "      <th>callsign_group</th>\n",
       "      <th>perc_time_in_use</th>\n",
       "      <th>PRINT_perc</th>\n",
       "    </tr>\n",
       "  </thead>\n",
       "  <tbody>\n",
       "    <tr>\n",
       "      <th>0</th>\n",
       "      <td>C70</td>\n",
       "      <td>car</td>\n",
       "      <td>62066.6</td>\n",
       "      <td>416100</td>\n",
       "      <td>70</td>\n",
       "      <td>0.149163</td>\n",
       "      <td>14.9%</td>\n",
       "    </tr>\n",
       "    <tr>\n",
       "      <th>1</th>\n",
       "      <td>C71</td>\n",
       "      <td>car</td>\n",
       "      <td>19790.8</td>\n",
       "      <td>219000</td>\n",
       "      <td>71</td>\n",
       "      <td>0.090369</td>\n",
       "      <td>9.0%</td>\n",
       "    </tr>\n",
       "    <tr>\n",
       "      <th>2</th>\n",
       "      <td>C72</td>\n",
       "      <td>car</td>\n",
       "      <td>24608.0</td>\n",
       "      <td>219000</td>\n",
       "      <td>72</td>\n",
       "      <td>0.112365</td>\n",
       "      <td>11.2%</td>\n",
       "    </tr>\n",
       "    <tr>\n",
       "      <th>3</th>\n",
       "      <td>H70</td>\n",
       "      <td>helicopter</td>\n",
       "      <td>36780.8</td>\n",
       "      <td>416100</td>\n",
       "      <td>70</td>\n",
       "      <td>0.088394</td>\n",
       "      <td>8.8%</td>\n",
       "    </tr>\n",
       "    <tr>\n",
       "      <th>4</th>\n",
       "      <td>H71</td>\n",
       "      <td>helicopter</td>\n",
       "      <td>11105.6</td>\n",
       "      <td>240960</td>\n",
       "      <td>71</td>\n",
       "      <td>0.046089</td>\n",
       "      <td>4.6%</td>\n",
       "    </tr>\n",
       "  </tbody>\n",
       "</table>\n",
       "</div>"
      ],
      "text/plain": [
       "  callsign vehicle_type  resource_use_duration  \\\n",
       "0      C70          car                62066.6   \n",
       "1      C71          car                19790.8   \n",
       "2      C72          car                24608.0   \n",
       "3      H70   helicopter                36780.8   \n",
       "4      H71   helicopter                11105.6   \n",
       "\n",
       "   total_available_minutes_in_sim callsign_group  perc_time_in_use PRINT_perc  \n",
       "0                          416100             70          0.149163      14.9%  \n",
       "1                          219000             71          0.090369       9.0%  \n",
       "2                          219000             72          0.112365      11.2%  \n",
       "3                          416100             70          0.088394       8.8%  \n",
       "4                          240960             71          0.046089       4.6%  "
      ]
     },
     "execution_count": 83,
     "metadata": {},
     "output_type": "execute_result"
    }
   ],
   "source": [
    "utilisation_df_overall"
   ]
  },
  {
   "cell_type": "code",
   "execution_count": 84,
   "metadata": {},
   "outputs": [
    {
     "data": {
      "text/plain": [
       "0.06724155672431639"
      ]
     },
     "execution_count": 84,
     "metadata": {},
     "output_type": "execute_result"
    }
   ],
   "source": [
    "vehicle_type = \"helicopter\"\n",
    "utilisation_df_overall[utilisation_df_overall[\"vehicle_type\"] == vehicle_type].mean(numeric_only=True)['perc_time_in_use']"
   ]
  },
  {
   "cell_type": "code",
   "execution_count": 85,
   "metadata": {},
   "outputs": [
    {
     "data": {
      "text/html": [
       "<div>\n",
       "<style scoped>\n",
       "    .dataframe tbody tr th:only-of-type {\n",
       "        vertical-align: middle;\n",
       "    }\n",
       "\n",
       "    .dataframe tbody tr th {\n",
       "        vertical-align: top;\n",
       "    }\n",
       "\n",
       "    .dataframe thead th {\n",
       "        text-align: right;\n",
       "    }\n",
       "</style>\n",
       "<table border=\"1\" class=\"dataframe\">\n",
       "  <thead>\n",
       "    <tr style=\"text-align: right;\">\n",
       "      <th></th>\n",
       "      <th>callsign</th>\n",
       "    </tr>\n",
       "    <tr>\n",
       "      <th>callsign_group</th>\n",
       "      <th></th>\n",
       "    </tr>\n",
       "  </thead>\n",
       "  <tbody>\n",
       "    <tr>\n",
       "      <th>70</th>\n",
       "      <td>2</td>\n",
       "    </tr>\n",
       "    <tr>\n",
       "      <th>71</th>\n",
       "      <td>2</td>\n",
       "    </tr>\n",
       "    <tr>\n",
       "      <th>72</th>\n",
       "      <td>1</td>\n",
       "    </tr>\n",
       "  </tbody>\n",
       "</table>\n",
       "</div>"
      ],
      "text/plain": [
       "                callsign\n",
       "callsign_group          \n",
       "70                     2\n",
       "71                     2\n",
       "72                     1"
      ]
     },
     "execution_count": 85,
     "metadata": {},
     "output_type": "execute_result"
    }
   ],
   "source": [
    "utilisation_df_overall.groupby('callsign_group').count()[['callsign']]"
   ]
  },
  {
   "cell_type": "code",
   "execution_count": 86,
   "metadata": {},
   "outputs": [
    {
     "data": {
      "text/html": [
       "<div>\n",
       "<style scoped>\n",
       "    .dataframe tbody tr th:only-of-type {\n",
       "        vertical-align: middle;\n",
       "    }\n",
       "\n",
       "    .dataframe tbody tr th {\n",
       "        vertical-align: top;\n",
       "    }\n",
       "\n",
       "    .dataframe thead th {\n",
       "        text-align: right;\n",
       "    }\n",
       "</style>\n",
       "<table border=\"1\" class=\"dataframe\">\n",
       "  <thead>\n",
       "    <tr style=\"text-align: right;\">\n",
       "      <th></th>\n",
       "      <th>callsign</th>\n",
       "    </tr>\n",
       "    <tr>\n",
       "      <th>callsign_group</th>\n",
       "      <th></th>\n",
       "    </tr>\n",
       "  </thead>\n",
       "  <tbody>\n",
       "    <tr>\n",
       "      <th>72</th>\n",
       "      <td>1</td>\n",
       "    </tr>\n",
       "  </tbody>\n",
       "</table>\n",
       "</div>"
      ],
      "text/plain": [
       "                callsign\n",
       "callsign_group          \n",
       "72                     1"
      ]
     },
     "execution_count": 86,
     "metadata": {},
     "output_type": "execute_result"
    }
   ],
   "source": [
    "vehicles_per_callsign_group = utilisation_df_overall.groupby('callsign_group').count()[['callsign']]\n",
    "\n",
    "\n",
    "car_only = vehicles_per_callsign_group[vehicles_per_callsign_group['callsign'] == 1]\n",
    "car_only\n"
   ]
  },
  {
   "cell_type": "code",
   "execution_count": 87,
   "metadata": {},
   "outputs": [
    {
     "data": {
      "text/plain": [
       "0.11236529680365297"
      ]
     },
     "execution_count": 87,
     "metadata": {},
     "output_type": "execute_result"
    }
   ],
   "source": [
    "utilisation_df_overall[utilisation_df_overall[\"callsign_group\"].isin(car_only.reset_index().callsign_group.values)].mean(numeric_only=True)['perc_time_in_use']\n"
   ]
  },
  {
   "cell_type": "code",
   "execution_count": 88,
   "metadata": {},
   "outputs": [],
   "source": [
    "# backupcar_only = vehicles_per_callsign_group[vehicles_per_callsign_group['callsign'] == 2]\n",
    "# utilisation_df_overall = utilisation_df_overall[utilisation_df_overall[\"vehicle_type\"] == \"car\"]\n",
    "# utilisation_df_overall[utilisation_df_overall[\"callsign_group\"].isin(backupcar_only.reset_index().callsign_group.values)].mean(numeric_only=True)['perc_time_in_use']"
   ]
  },
  {
   "cell_type": "code",
   "execution_count": 89,
   "metadata": {},
   "outputs": [
    {
     "data": {
      "text/plain": [
       "0.06724155672431639"
      ]
     },
     "execution_count": 89,
     "metadata": {},
     "output_type": "execute_result"
    }
   ],
   "source": [
    "_utilisation_result_calculation.make_SIMULATION_utilisation_headline_figure(\"helicopter\", utilisation_df_overall)"
   ]
  },
  {
   "cell_type": "code",
   "execution_count": 90,
   "metadata": {},
   "outputs": [
    {
     "data": {
      "text/plain": [
       "0.11976582552271088"
      ]
     },
     "execution_count": 90,
     "metadata": {},
     "output_type": "execute_result"
    }
   ],
   "source": [
    "_utilisation_result_calculation.make_SIMULATION_utilisation_headline_figure(\"helicopter backup car\", utilisation_df_overall)"
   ]
  },
  {
   "cell_type": "code",
   "execution_count": 91,
   "metadata": {},
   "outputs": [
    {
     "data": {
      "text/plain": [
       "0.11236529680365297"
      ]
     },
     "execution_count": 91,
     "metadata": {},
     "output_type": "execute_result"
    }
   ],
   "source": [
    "_utilisation_result_calculation.make_SIMULATION_utilisation_headline_figure(\"solo car\", utilisation_df_overall)"
   ]
  }
 ],
 "metadata": {
  "kernelspec": {
   "display_name": ".venv",
   "language": "python",
   "name": "python3"
  },
  "language_info": {
   "codemirror_mode": {
    "name": "ipython",
    "version": 3
   },
   "file_extension": ".py",
   "mimetype": "text/x-python",
   "name": "python",
   "nbconvert_exporter": "python",
   "pygments_lexer": "ipython3",
   "version": "3.11.9"
  }
 },
 "nbformat": 4,
 "nbformat_minor": 2
}
